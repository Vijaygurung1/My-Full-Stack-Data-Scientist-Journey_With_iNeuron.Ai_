{
 "cells": [
  {
   "cell_type": "markdown",
   "id": "6f104e31-9929-4547-abc2-954c9a2361fe",
   "metadata": {},
   "source": [
    "#Review_Scrapper_Project"
   ]
  },
  {
   "cell_type": "code",
   "execution_count": 2,
   "id": "5e3b3fd9-ed14-4972-8310-e9c2ced0e05b",
   "metadata": {},
   "outputs": [],
   "source": [
    "# Import Important libaries "
   ]
  },
  {
   "cell_type": "code",
   "execution_count": 3,
   "id": "30fa6d9e-7d4d-4b34-a215-3f45a758fcbe",
   "metadata": {},
   "outputs": [
    {
     "name": "stdout",
     "output_type": "stream",
     "text": [
      "Requirement already satisfied: Flask in c:\\users\\dell\\anaconda3\\lib\\site-packages (3.0.3)\n",
      "Requirement already satisfied: Werkzeug>=3.0.0 in c:\\users\\dell\\anaconda3\\lib\\site-packages (from Flask) (3.0.3)\n",
      "Requirement already satisfied: Jinja2>=3.1.2 in c:\\users\\dell\\anaconda3\\lib\\site-packages (from Flask) (3.1.4)\n",
      "Requirement already satisfied: itsdangerous>=2.1.2 in c:\\users\\dell\\anaconda3\\lib\\site-packages (from Flask) (2.2.0)\n",
      "Requirement already satisfied: click>=8.1.3 in c:\\users\\dell\\anaconda3\\lib\\site-packages (from Flask) (8.1.7)\n",
      "Requirement already satisfied: blinker>=1.6.2 in c:\\users\\dell\\anaconda3\\lib\\site-packages (from Flask) (1.6.2)\n",
      "Requirement already satisfied: colorama in c:\\users\\dell\\anaconda3\\lib\\site-packages (from click>=8.1.3->Flask) (0.4.6)\n",
      "Requirement already satisfied: MarkupSafe>=2.0 in c:\\users\\dell\\anaconda3\\lib\\site-packages (from Jinja2>=3.1.2->Flask) (2.1.3)\n",
      "Note: you may need to restart the kernel to use updated packages.\n"
     ]
    }
   ],
   "source": [
    "pip install Flask"
   ]
  },
  {
   "cell_type": "code",
   "execution_count": 4,
   "id": "91f9ce9e-2b90-4f86-9e85-89e3331debe0",
   "metadata": {},
   "outputs": [
    {
     "name": "stdout",
     "output_type": "stream",
     "text": [
      "Requirement already satisfied: template-render in c:\\users\\dell\\anaconda3\\lib\\site-packages (0.1.0)\n",
      "Note: you may need to restart the kernel to use updated packages.\n"
     ]
    }
   ],
   "source": [
    "pip install template-render"
   ]
  },
  {
   "cell_type": "code",
   "execution_count": 5,
   "id": "760dc6e0-9daa-4fb6-b904-ab02ed3cc1eb",
   "metadata": {},
   "outputs": [
    {
     "name": "stdout",
     "output_type": "stream",
     "text": [
      "Requirement already satisfied: requests in c:\\users\\dell\\anaconda3\\lib\\site-packages (2.32.3)\n",
      "Requirement already satisfied: charset-normalizer<4,>=2 in c:\\users\\dell\\anaconda3\\lib\\site-packages (from requests) (3.3.2)\n",
      "Requirement already satisfied: idna<4,>=2.5 in c:\\users\\dell\\anaconda3\\lib\\site-packages (from requests) (3.7)\n",
      "Requirement already satisfied: urllib3<3,>=1.21.1 in c:\\users\\dell\\anaconda3\\lib\\site-packages (from requests) (2.2.2)\n",
      "Requirement already satisfied: certifi>=2017.4.17 in c:\\users\\dell\\anaconda3\\lib\\site-packages (from requests) (2024.7.4)\n",
      "Note: you may need to restart the kernel to use updated packages.\n"
     ]
    }
   ],
   "source": [
    "pip install requests"
   ]
  },
  {
   "cell_type": "code",
   "execution_count": 6,
   "id": "be7f1249-78f7-42f6-a5a1-415725d92597",
   "metadata": {},
   "outputs": [
    {
     "name": "stdout",
     "output_type": "stream",
     "text": [
      "Requirement already satisfied: jsonify in c:\\users\\dell\\anaconda3\\lib\\site-packages (0.5)\n",
      "Note: you may need to restart the kernel to use updated packages.\n"
     ]
    }
   ],
   "source": [
    "pip install jsonify"
   ]
  },
  {
   "cell_type": "code",
   "execution_count": 15,
   "id": "6d83a053-52c6-44d6-b297-cc95614f2eb5",
   "metadata": {},
   "outputs": [],
   "source": [
    "from flask import Flask , render_template , request , jsonify"
   ]
  },
  {
   "cell_type": "code",
   "execution_count": 17,
   "id": "f6e87fa1-727d-4ff0-8a75-c1b9bea798c2",
   "metadata": {},
   "outputs": [],
   "source": [
    "from bs4 import BeautifulSoup as bs "
   ]
  },
  {
   "cell_type": "code",
   "execution_count": 19,
   "id": "b7d42ea2-7e87-4506-93dd-e9ba7cb63fd7",
   "metadata": {},
   "outputs": [],
   "source": [
    "from urllib.request import urlopen as urReq"
   ]
  },
  {
   "cell_type": "code",
   "execution_count": 21,
   "id": "a86ee979-b0ca-4e52-83eb-daac4bdfb364",
   "metadata": {},
   "outputs": [],
   "source": [
    "# 1st requiredment is to reach out flipkart website.\n",
    "\n",
    "# Create Flipkart URL -  [ https://www.flipkart.com/search? ] and now add any product so i add \"iPhone11\""
   ]
  },
  {
   "cell_type": "code",
   "execution_count": 25,
   "id": "4c49ad7f-b9a2-4f08-9493-2203fbaa35c1",
   "metadata": {},
   "outputs": [],
   "source": [
    "flipkart_url = \"https://www.flipkart.com/search?q=\"+\"iphone15\""
   ]
  },
  {
   "cell_type": "code",
   "execution_count": 27,
   "id": "17c2df17-830f-4c30-9358-1296c7152a16",
   "metadata": {},
   "outputs": [
    {
     "data": {
      "text/plain": [
       "'https://www.flipkart.com/search?q=iphone15'"
      ]
     },
     "execution_count": 27,
     "metadata": {},
     "output_type": "execute_result"
    }
   ],
   "source": [
    "flipkart_url"
   ]
  },
  {
   "cell_type": "code",
   "execution_count": 31,
   "id": "d677c4a1-028b-4863-a5f1-5731ef2222e5",
   "metadata": {},
   "outputs": [],
   "source": [
    "from urllib.request import urlopen as urReq"
   ]
  },
  {
   "cell_type": "code",
   "execution_count": 33,
   "id": "120cc974-f713-4b62-a7e7-2f6d78419020",
   "metadata": {},
   "outputs": [],
   "source": [
    "# once  i am able to search for the \"iPhone11\"\n",
    "\n",
    "# Now i can parametize the this string \"iPhone11\".lets do same thing with coding\n",
    "\n",
    "# It simple means that, through this [ urReq ] I am able to hit the hit flipkart URL.I am able to hit through my python code."
   ]
  },
  {
   "cell_type": "code",
   "execution_count": 35,
   "id": "d8ae00b4-22b0-48ff-941a-e9281c8e19d4",
   "metadata": {},
   "outputs": [
    {
     "data": {
      "text/plain": [
       "<http.client.HTTPResponse at 0x150b3065630>"
      ]
     },
     "execution_count": 35,
     "metadata": {},
     "output_type": "execute_result"
    }
   ],
   "source": [
    "urReq(flipkart_url)"
   ]
  },
  {
   "cell_type": "code",
   "execution_count": 15,
   "id": "ee8c2918-b208-45c7-a46b-0e616e25c5f8",
   "metadata": {},
   "outputs": [],
   "source": [
    "# We can Store this things inside one of the Variable. This is my variable -[ response_website ] "
   ]
  },
  {
   "cell_type": "code",
   "execution_count": 37,
   "id": "6b983f08-c2ff-43d0-bc21-2ca8be9329e7",
   "metadata": {},
   "outputs": [],
   "source": [
    "response_website = urReq(flipkart_url)"
   ]
  },
  {
   "cell_type": "code",
   "execution_count": 39,
   "id": "59465ea5-8bdf-456e-b8a3-b0c15e87274e",
   "metadata": {},
   "outputs": [],
   "source": [
    "# Here we have call the [\"Read Function\"]. This outcome we are not able to readable format.\n",
    "\n",
    "# This is same as we have seen inside website right click and the page sources code section."
   ]
  },
  {
   "cell_type": "code",
   "execution_count": 41,
   "id": "4231d09e-d500-4028-920c-f1ac59afe1b7",
   "metadata": {},
   "outputs": [
    {
     "data": {
      "text/plain": [
       "b'<!doctype html><html lang=\"en\"><head><link href=\"https://rukminim2.flixcart.com\" rel=\"preconnect\"/><link rel=\"stylesheet\" href=\"//static-assets-web.flixcart.com/fk-p-linchpin-web/fk-cp-zion/css/atlas.chunk.f9cc90.css\"/><link rel=\"stylesheet\" href=\"//static-assets-web.flixcart.com/fk-p-linchpin-web/fk-cp-zion/css/app_modules.chunk.c48a12.css\"/><link rel=\"stylesheet\" href=\"//static-assets-web.flixcart.com/fk-p-linchpin-web/fk-cp-zion/css/app.chunk.f32dbb.css\"/><meta http-equiv=\"Content-type\" content=\"text/html; charset=utf-8\"/><meta http-equiv=\"X-UA-Compatible\" content=\"IE=Edge\"/><meta property=\"fb:page_id\" content=\"102988293558\"/><meta property=\"fb:admins\" content=\"658873552,624500995,100000233612389\"/><link rel=\"shortcut icon\" href=\"https:///www/promos/new/20150528-140547-favicon-retina.ico\"/><link type=\"application/opensearchdescription+xml\" rel=\"search\" href=\"/osdd.xml?v=2\"/><meta property=\"og:type\" content=\"website\"/><meta name=\"og_site_name\" property=\"og:site_name\" content=\"Flipkart.com\"/><link rel=\"apple-touch-icon\" sizes=\"57x57\" href=\"/apple-touch-icon-57x57.png\"/><link rel=\"apple-touch-icon\" sizes=\"72x72\" href=\"/apple-touch-icon-72x72.png\"/><link rel=\"apple-touch-icon\" sizes=\"114x114\" href=\"/apple-touch-icon-114x114.png\"/><link rel=\"apple-touch-icon\" sizes=\"144x144\" href=\"/apple-touch-icon-144x144.png\"/><link rel=\"apple-touch-icon\" href=\"/apple-touch-icon-57x57.png\"/><meta name=\"twitter:card\" content=\"app\"><meta name=\"twitter:site\" content=\"@flipkart\"><meta name=\"twitter:creator\" content=\"@flipkart\"><meta name=\"twitter:title\" content=\"Iphone15- Buy Products Online at Best Price in India - All Categories | Flipkart.com\"><meta name=\"twitter:description\" content=\"Shop for electronics, apparels & more using our Flipkart app Free shipping & COD.\"><meta name=\"twitter:app:country\" content=\"in\"><meta name=\"al:ios:app_name\" content=\"Flipkart\"><meta name=\"al:ios:app_store_id\" content=\"742044692\"><meta name=\"twitter:app:name:iphone\" content=\"Flipkart\"><meta name=\"twitter:app:id:iphone\" content=\"742044692\"><meta name=\"twitter:app:url:iphone\" content=\"http://dl.flipkart.com/dl/home?\"><meta name=\"twitter:app:name:ipad\" content=\"Flipkart\"><meta name=\"twitter:app:id:ipad\" content=\"742044692\"><meta name=\"twitter:app:url:ipad\" content=\"http://dl.flipkart.com/dl/home?\"><meta name=\"twitter:app:name:googleplay\" content=\"Flipkart\"><meta name=\"twitter:app:id:googleplay\" content=\"com.flipkart.android\"><meta name=\"twitter:app:url:googleplay\" content=\"http://dl.flipkart.com/dl/home?\"><style>#container {\\n\\t\\t\\theight: 100%;\\n\\t\\t}</style>  <link rel=\"stylesheet\" href=\"///fk-cp-zion/css/Browse.chunk.b27795.css\"/><title>Iphone15- Buy Products Online at Best Price in India - All Categories | Flipkart.com</title><meta name=\"og_title\" property=\"og:title\" content=\"Iphone15- Buy Products Online at Best Price in India - All Categories | Flipkart.com\"/><meta name=\"Keywords\" content=\"Iphone15\"/> <meta name=\"Description\" content=\"Iphone15- Buy Products Online at Best Price in India. India&#x27;s Leading E-commerce Company - Free Home Delivery - All Categories | Flipkart.com\"/><meta property=\"og:description\" content=\"Iphone15- Buy Products Online at Best Price in India. India&#x27;s Leading E-commerce Company - Free Home Delivery - All Categories | Flipkart.com\"/>       <meta name=\"msvalidate.01\" content=\"F4EEB3A0AFFDD385992A06E6920C0AC3\"/> <!--[if IE 9 ]>\\n\\t<script nonce=\"8361205681871228607\">\\n\\t\\twindow.browserVersion = \\'IE9\\';\\n\\t\\tdocument.documentElement.className += \\' ie9\\';\\n\\t</script>\\n\\t<![endif]--><!--[if !IE]><!--><script nonce=\"8361205681871228607\">if (/*@cc_on!@*/false) {\\n\\t\\t\\twindow.browserVersion = \\'IE10\\';\\n\\t\\t\\tdocument.documentElement.className += \\' ie10\\';\\n\\t\\t}</script><!--<![endif]-->   <link href=\"https://www.flipkart.com/search?q&#x3D;iphone15&amp;page&#x3D;2\" id=\"next-page-link-tag\" rel=\"next\"><script nonce=\"8361205681871228607\">!function(){if(\"PerformancePaintTiming\" in window){var e=window.__perf={e:[]};e.o=new PerformanceObserver(function(n){e.e=e.e.concat(n.getEntries())});try{e.o.observe({entryTypes:[\"paint\"]})}catch(e){}}}();\\n\\n\\t\\tif (requestAnimationFrame && performance && performance.mark) {\\n\\t\\t\\trequestAnimationFrame(function () {\\n\\t\\t\\t\\twindow.first_paint = performance.now();\\n\\t\\t\\t\\tperformance.mark(\"first_paint\");\\n\\t\\t\\t});\\n\\t\\t}\\n\\n        // web-vitals polyfill for FID\\n        !function(n,e){var t,o,i,c=[],f={passive:!0,capture:!0},r=new Date,a=\"pointerup\",u=\"pointercancel\";function p(n,c){t||(t=c,o=n,i=new Date,w(e),s())}function s(){o>=0&&o<i-r&&(c.forEach(function(n){n(o,t)}),c=[])}function l(t){if(t.cancelable){var o=(t.timeStamp>1e12?new Date:performance.now())-t.timeStamp;\"pointerdown\"==t.type?function(t,o){function i(){p(t,o),r()}function c(){r()}function r(){e(a,i,f),e(u,c,f)}n(a,i,f),n(u,c,f)}(o,t):p(o,t)}}function w(n){[\"click\",\"mousedown\",\"keydown\",\"touchstart\",\"pointerdown\"].forEach(function(e){n(e,l,f)})}w(n),self.perfMetrics=self.perfMetrics||{},self.perfMetrics.onFirstInputDelay=function(n){c.push(n),s()}}(addEventListener,removeEventListener);</script><script async src=\"https://www.googletagmanager.com/gtag/js?id=AW-594691041\"></script><script nonce=\"8361205681871228607\">window.dataLayer = window.dataLayer || [];\\n\\t\\tfunction gtag(){dataLayer.push(arguments)};\\n\\t\\tgtag(\\'js\\', new Date());</script></head><body><div id=\"container\"><div><div class=\"krHvwW\"><div class=\"J+HqMZ\"><div class=\"LOe-Xr\"></div><div class=\"Ja1j8k\"><div class=\"ngOQ7L\"><div class=\"F9+fd2\"><a href=\"/\"><img width=\"75\" src=\"//static-assets-web.flixcart.com/fk-p-linchpin-web/fk-cp-zion/img/flipkart-plus_8d85f4.png\" alt=\"Flipkart\" title=\"Flipkart\" class=\"W5mR4e\"/></a><a class=\"MwbhDR\" href=\"/plus\">Explore<!-- --> <span class=\"s4NJ5L\">Plus</span><img width=\"10\" src=\"//static-assets-web.flixcart.com/fk-p-linchpin-web/fk-cp-zion/img/plus_aef861.png\"/></a></div></div><div class=\"kRd8Cs\"><form class=\"Hy6F9O header-form-search\" action=\"/search\" method=\"GET\"><div class=\"col-12-12 BnmXvV\"><div class=\"MoPwtI\"><input class=\"zDPmFV\" type=\"text\" title=\"Search for products, brands and more\" name=\"q\" autoComplete=\"off\" placeholder=\"Search for products, brands and more\" value=\"iphone15\"/></div><button class=\"MJG8Up\" type=\"submit\"><svg width=\"20\" height=\"20\" viewBox=\"0 0 17 18\" class=\"\" xmlns=\"http://www.w3.org/2000/svg\"><g fill=\"#2874F1\" fill-rule=\"evenodd\"><path class=\"EwE-Fa\" d=\"m11.618 9.897l4.225 4.212c.092.092.101.232.02.313l-1.465 1.46c-.081.081-.221.072-.314-.02l-4.216-4.203\"></path><path class=\"EwE-Fa\" d=\"m6.486 10.901c-2.42 0-4.381-1.956-4.381-4.368 0-2.413 1.961-4.369 4.381-4.369 2.42 0 4.381 1.956 4.381 4.369 0 2.413-1.961 4.368-4.381 4.368m0-10.835c-3.582 0-6.486 2.895-6.486 6.467 0 3.572 2.904 6.467 6.486 6.467 3.582 0 6.486-2.895 6.486-6.467 0-3.572-2.904-6.467-6.486-6.467\"></path></g></svg></button><input type=\"hidden\" name=\"otracker\" value=\"search\"/><input type=\"hidden\" name=\"otracker1\" value=\"search\"/><input type=\"hidden\" name=\"marketplace\" value=\"FLIPKART\"/><input type=\"hidden\" name=\"as-show\" value=\"off\"/><input type=\"hidden\" name=\"as\" value=\"off\"/></div><ul class=\"col-12-12 bbjHWC\"></ul></form></div><div class=\"RbF1Du UB4mMK\"><div class=\"UL9nZx\"><div class=\"tP+nZg _2E9UgX\"><div><a class=\"wsejfv\" href=\"/account/login?ret=/search%3Fq%3Diphone15\">Login</a></div></div></div></div><div class=\"RbF1Du\"><a href=\"https://seller.flipkart.com/sell-online/?utm_source=fkwebsite&amp;utm_medium=websitedirect\" class=\"CDJO0-\"><span>Become a Seller</span></a></div><div class=\"RbF1Du\"><div class=\"UL9nZx\"><div class=\"tP+nZg _2E9UgX\"><div><div class=\"_3ZeUN+\"> <!-- -->More<!-- --> </div></div></div><svg width=\"4.7\" height=\"8\" viewBox=\"0 0 16 27\" xmlns=\"http://www.w3.org/2000/svg\" class=\"Wto0b0\"><path d=\"M16 23.207L6.11 13.161 16 3.093 12.955 0 0 13.161l12.955 13.161z\" fill=\"#fff\" class=\"-dC5Le\"></path></svg></div></div><div class=\"RbF1Du\"><div class=\"tP+nZg\"><div class=\"cjMG1q\"><a class=\"_9Wy27C\" href=\"/viewcart?exploreMode=true&amp;preference=FLIPKART\"><svg class=\"GAbRIN\" width=\"14\" height=\"14\" viewBox=\"0 0 16 16\" xmlns=\"http://www.w3.org/2000/svg\"><path class=\"cziJ98\" d=\"M15.32 2.405H4.887C3 2.405 2.46.805 2.46.805L2.257.21C2.208.085 2.083 0 1.946 0H.336C.1 0-.064.24.024.46l.644 1.945L3.11 9.767c.047.137.175.23.32.23h8.418l-.493 1.958H3.768l.002.003c-.017 0-.033-.003-.05-.003-1.06 0-1.92.86-1.92 1.92s.86 1.92 1.92 1.92c.99 0 1.805-.75 1.91-1.712l5.55.076c.12.922.91 1.636 1.867 1.636 1.04 0 1.885-.844 1.885-1.885 0-.866-.584-1.593-1.38-1.814l2.423-8.832c.12-.433-.206-.86-.655-.86\" fill=\"#fff\"></path></svg><span>Cart</span></a></div></div></div></div><div class=\"LOe-Xr\"></div></div><div class=\"DlQjC4\"></div></div><div class=\"_5M58Mb\"></div><div class=\"nt6sNV JxFEK3 _48O0EI\"><div class=\"DOjaWF YJG4Cf\"><div class=\"DOjaWF gdgoEp col-2-12\" style=\"flex:0 0 280px;max-width:280px;padding:0px 10px 0px 0px\"><div class=\"DOjaWF gdgoEp col-12-12\"><div class=\"cPHDOP col-12-12\"><div class=\"_0BvurA\"><section class=\"pgRLLn _2OLUF3\"><div class=\"_3Owiq+\"><div class=\"rgHxCQ\"><span>Filters</span></div></div></section><div class=\"GSeM5C\"><section class=\"Iu4qXa\"><div class=\"WCyB2K\"><span>CATEGORIES</span></div><div><div class=\"esFpML\"><span><svg width=\"10\" height=\"10\" viewBox=\"0 0 16 27\" xmlns=\"http://www.w3.org/2000/svg\" class=\"IZmjtf\"><path d=\"M16 23.207L6.11 13.161 16 3.093 12.955 0 0 13.161l12.955 13.161z\" fill=\"#fff\" class=\"P3pAQJ\"></path></svg></span><a class=\"k17cBJ WyLc0s\" title=\"Mobiles &amp; Accessories\" href=\"/mobiles-accessories/pr?sid=tyy&amp;q=iphone15&amp;otracker=categorytree\">Mobiles &amp; Accessories</a></div></div><div><div class=\"esFpML\"><span><svg width=\"10\" height=\"10\" viewBox=\"0 0 16 27\" xmlns=\"http://www.w3.org/2000/svg\" class=\"IZmjtf\"><path d=\"M16 23.207L6.11 13.161 16 3.093 12.955 0 0 13.161l12.955 13.161z\" fill=\"#fff\" class=\"\"></path></svg></span><a class=\"hEjLuS WyLc0s\" title=\"Mobiles\" href=\"/mobiles/pr?sid=tyy,4io&amp;q=iphone15&amp;otracker=categorytree\">Mobiles</a></div></div></section></div><section class=\"FR+9+z _2OLUF3\"><div class=\"WNK7UT _3Owiq+\"><div class=\"RCE7R3 rgHxCQ\"><span>Price</span></div></div><div class=\"rkYFq7\"><div class=\"gFZVDw\"><div class=\"vVygGr\" style=\"height:0;width:0\"></div><div class=\"vVygGr\" style=\"height:0;width:0\"></div><div class=\"vVygGr\" style=\"height:0;width:0\"></div></div></div><div class=\"-suZGK\"><div class=\"Oyj7AF\"><div class=\"iToJ4v Kaqq1s\"><div class=\"PYKUdo\"></div></div><div class=\"iToJ4v D0puJn\"><div class=\"PYKUdo\"></div></div><div class=\"hZmZbn\"></div><div class=\"hZmZbn AQNm5W\"></div></div><div class=\"C+PahU\"><div class=\"JxsWRk\" style=\"width:undefinedpx\">.</div><div class=\"JxsWRk\" style=\"width:undefinedpx\">.</div><div class=\"JxsWRk\" style=\"width:undefinedpx\">.</div><div class=\"JxsWRk\" style=\"width:undefinedpx\">.</div><div class=\"JxsWRk\" style=\"width:undefinedpx\">.</div><div class=\"JxsWRk\" style=\"width:0px\">.</div></div></div><div class=\"BXgIa-\"><div class=\"suthUA\"><select class=\"Gn+jFg\"><option value=\"Min\" class=\"_0vP2OD\" selected=\"\">Min</option><option value=\"10000\" class=\"_0vP2OD\">\\xe2\\x82\\xb910000</option><option value=\"15000\" class=\"_0vP2OD\">\\xe2\\x82\\xb915000</option><option value=\"20000\" class=\"_0vP2OD\">\\xe2\\x82\\xb920000</option><option value=\"30000\" class=\"_0vP2OD\">\\xe2\\x82\\xb930000</option></select></div><div class=\"mhoEL5\">to</div><div class=\"tKgS7w\"><select class=\"Gn+jFg\"><option value=\"10000\" class=\"_0vP2OD\">\\xe2\\x82\\xb910000</option><option value=\"15000\" class=\"_0vP2OD\">\\xe2\\x82\\xb915000</option><option value=\"20000\" class=\"_0vP2OD\">\\xe2\\x82\\xb920000</option><option value=\"30000\" class=\"_0vP2OD\">\\xe2\\x82\\xb930000</option><option value=\"Max\" class=\"_0vP2OD\" selected=\"\">\\xe2\\x82\\xb930000+</option></select></div></div></section><section class=\"-5qqlC _2OLUF3\"><div class=\"FtQCb2 _3Owiq+\"><div class=\"fxf7w6 rgHxCQ\">Brand</div><svg width=\"16\" height=\"27\" viewBox=\"0 0 16 27\" xmlns=\"http://www.w3.org/2000/svg\" class=\"ukzDZP rZzKt4\"><path d=\"M16 23.207L6.11 13.161 16 3.093 12.955 0 0 13.161l12.955 13.161z\" fill=\"#fff\" class=\"SV+H35\"></path></svg></div><div class=\"SDsN9S\"><div class=\"bs1+1t\"><div class=\"ewzVkT _3DvUAf\" title=\"Apple\"><div class=\"QCKZip hpLdC3\"><label class=\"tJjCVx _3DvUAf\"><input type=\"checkbox\" class=\"vn9L2C\" readonly=\"\"/><div class=\"XqNaEv\"></div><div class=\"_6i1qKy\">Apple</div></label></div></div></div></div></section><section class=\"_2OLUF3 _6gqfMo\"><label class=\"tJjCVx cnLG4I\"><input type=\"checkbox\" class=\"vn9L2C\" readonly=\"\"/><div class=\"XqNaEv eJE9fb\"></div><div class=\"_6i1qKy\"><div class=\"SwtzWS\"><img height=\"21\" src=\"//static-assets-web.flixcart.com/fk-p-linchpin-web/fk-cp-zion/img/fa_62673a.png\" class=\"SwtzWS\"/></div></div></label><div class=\"EjOX7q\"><span class=\"question\">?</span></div></section><section class=\"-5qqlC _2OLUF3\"><div class=\"FtQCb2 _3Owiq+\"><div class=\"fxf7w6 rgHxCQ\">Customer Ratings</div><svg width=\"16\" height=\"27\" viewBox=\"0 0 16 27\" xmlns=\"http://www.w3.org/2000/svg\" class=\"ukzDZP rZzKt4\"><path d=\"M16 23.207L6.11 13.161 16 3.093 12.955 0 0 13.161l12.955 13.161z\" fill=\"#fff\" class=\"SV+H35\"></path></svg></div><div class=\"SDsN9S\"><div class=\"bs1+1t\"><div class=\"ewzVkT _3DvUAf\" title=\"4\\xe2\\x98\\x85 &amp; above\"><div class=\"QCKZip hpLdC3\"><label class=\"tJjCVx _3DvUAf\"><input type=\"checkbox\" class=\"vn9L2C\" readonly=\"\"/><div class=\"XqNaEv\"></div><div class=\"_6i1qKy\">4\\xe2\\x98\\x85 &amp; above</div></label></div></div><div class=\"ewzVkT _3DvUAf\" title=\"3\\xe2\\x98\\x85 &amp; above\"><div class=\"QCKZip hpLdC3\"><label class=\"tJjCVx _3DvUAf\"><input type=\"checkbox\" class=\"vn9L2C\" readonly=\"\"/><div class=\"XqNaEv\"></div><div class=\"_6i1qKy\">3\\xe2\\x98\\x85 &amp; above</div></label></div></div></div></div></section><section class=\"-5qqlC _2OLUF3\"><div class=\"FtQCb2 _3Owiq+\"><div class=\"fxf7w6 rgHxCQ\">GST Invoice Available</div><svg width=\"16\" height=\"27\" viewBox=\"0 0 16 27\" xmlns=\"http://www.w3.org/2000/svg\" class=\"ukzDZP\"><path d=\"M16 23.207L6.11 13.161 16 3.093 12.955 0 0 13.161l12.955 13.161z\" fill=\"#fff\" class=\"SV+H35\"></path></svg></div></section><section class=\"-5qqlC _2OLUF3\"><div class=\"FtQCb2 _3Owiq+\"><div class=\"fxf7w6 rgHxCQ\">RAM</div><svg width=\"16\" height=\"27\" viewBox=\"0 0 16 27\" xmlns=\"http://www.w3.org/2000/svg\" class=\"ukzDZP rZzKt4\"><path d=\"M16 23.207L6.11 13.161 16 3.093 12.955 0 0 13.161l12.955 13.161z\" fill=\"#fff\" class=\"SV+H35\"></path></svg></div><div class=\"SDsN9S\"><div class=\"bs1+1t\"><div class=\"ewzVkT _3DvUAf\" title=\"1GB and Below\"><div class=\"QCKZip hpLdC3\"><label class=\"tJjCVx _3DvUAf\"><input type=\"checkbox\" class=\"vn9L2C\" readonly=\"\"/><div class=\"XqNaEv\"></div><div class=\"_6i1qKy\">1GB and Below</div></label></div></div></div></div></section><section class=\"-5qqlC _2OLUF3\"><div class=\"FtQCb2 _3Owiq+\"><div class=\"fxf7w6 rgHxCQ\">Internal Storage</div><svg width=\"16\" height=\"27\" viewBox=\"0 0 16 27\" xmlns=\"http://www.w3.org/2000/svg\" class=\"ukzDZP\"><path d=\"M16 23.207L6.11 13.161 16 3.093 12.955 0 0 13.161l12.955 13.161z\" fill=\"#fff\" class=\"SV+H35\"></path></svg></div></section><section class=\"-5qqlC _2OLUF3\"><div class=\"FtQCb2 _3Owiq+\"><div class=\"fxf7w6 rgHxCQ\">Battery Capacity</div><svg width=\"16\" height=\"27\" viewBox=\"0 0 16 27\" xmlns=\"http://www.w3.org/2000/svg\" class=\"ukzDZP\"><path d=\"M16 23.207L6.11 13.161 16 3.093 12.955 0 0 13.161l12.955 13.161z\" fill=\"#fff\" class=\"SV+H35\"></path></svg></div></section><section class=\"-5qqlC _2OLUF3\"><div class=\"FtQCb2 _3Owiq+\"><div class=\"fxf7w6 rgHxCQ\">Screen Size</div><svg width=\"16\" height=\"27\" viewBox=\"0 0 16 27\" xmlns=\"http://www.w3.org/2000/svg\" class=\"ukzDZP\"><path d=\"M16 23.207L6.11 13.161 16 3.093 12.955 0 0 13.161l12.955 13.161z\" fill=\"#fff\" class=\"SV+H35\"></path></svg></div></section><section class=\"-5qqlC _2OLUF3\"><div class=\"FtQCb2 _3Owiq+\"><div class=\"fxf7w6 rgHxCQ\">Primary Camera</div><svg width=\"16\" height=\"27\" viewBox=\"0 0 16 27\" xmlns=\"http://www.w3.org/2000/svg\" class=\"ukzDZP\"><path d=\"M16 23.207L6.11 13.161 16 3.093 12.955 0 0 13.161l12.955 13.161z\" fill=\"#fff\" class=\"SV+H35\"></path></svg></div></section><section class=\"-5qqlC _2OLUF3\"><div class=\"FtQCb2 _3Owiq+\"><div class=\"fxf7w6 rgHxCQ\">Secondary Camera</div><svg width=\"16\" height=\"27\" viewBox=\"0 0 16 27\" xmlns=\"http://www.w3.org/2000/svg\" class=\"ukzDZP\"><path d=\"M16 23.207L6.11 13.161 16 3.093 12.955 0 0 13.161l12.955 13.161z\" fill=\"#fff\" class=\"SV+H35\"></path></svg></div></section><section class=\"-5qqlC _2OLUF3\"><div class=\"FtQCb2 _3Owiq+\"><div class=\"fxf7w6 rgHxCQ\">Processor Brand</div><svg width=\"16\" height=\"27\" viewBox=\"0 0 16 27\" xmlns=\"http://www.w3.org/2000/svg\" class=\"ukzDZP\"><path d=\"M16 23.207L6.11 13.161 16 3.093 12.955 0 0 13.161l12.955 13.161z\" fill=\"#fff\" class=\"SV+H35\"></path></svg></div></section><section class=\"-5qqlC _2OLUF3\"><div class=\"FtQCb2 _3Owiq+\"><div class=\"fxf7w6 rgHxCQ\">Speciality</div><svg width=\"16\" height=\"27\" viewBox=\"0 0 16 27\" xmlns=\"http://www.w3.org/2000/svg\" class=\"ukzDZP\"><path d=\"M16 23.207L6.11 13.161 16 3.093 12.955 0 0 13.161l12.955 13.161z\" fill=\"#fff\" class=\"SV+H35\"></path></svg></div></section><section class=\"-5qqlC _2OLUF3\"><div class=\"FtQCb2 _3Owiq+\"><div class=\"fxf7w6 rgHxCQ\">Resolution Type</div><svg width=\"16\" height=\"27\" viewBox=\"0 0 16 27\" xmlns=\"http://www.w3.org/2000/svg\" class=\"ukzDZP\"><path d=\"M16 23.207L6.11 13.161 16 3.093 12.955 0 0 13.161l12.955 13.161z\" fill=\"#fff\" class=\"SV+H35\"></path></svg></div></section><section class=\"-5qqlC _2OLUF3\"><div class=\"FtQCb2 _3Owiq+\"><div class=\"fxf7w6 rgHxCQ\">Operating System</div><svg width=\"16\" height=\"27\" viewBox=\"0 0 16 27\" xmlns=\"http://www.w3.org/2000/svg\" class=\"ukzDZP\"><path d=\"M16 23.207L6.11 13.161 16 3.093 12.955 0 0 13.161l12.955 13.161z\" fill=\"#fff\" class=\"SV+H35\"></path></svg></div></section><section class=\"-5qqlC _2OLUF3\"><div class=\"FtQCb2 _3Owiq+\"><div class=\"fxf7w6 rgHxCQ\">Network Type</div><svg width=\"16\" height=\"27\" viewBox=\"0 0 16 27\" xmlns=\"http://www.w3.org/2000/svg\" class=\"ukzDZP\"><path d=\"M16 23.207L6.11 13.161 16 3.093 12.955 0 0 13.161l12.955 13.161z\" fill=\"#fff\" class=\"SV+H35\"></path></svg></div></section><section class=\"-5qqlC _2OLUF3\"><div class=\"FtQCb2 _3Owiq+\"><div class=\"fxf7w6 rgHxCQ\">Sim Type</div><svg width=\"16\" height=\"27\" viewBox=\"0 0 16 27\" xmlns=\"http://www.w3.org/2000/svg\" class=\"ukzDZP\"><path d=\"M16 23.207L6.11 13.161 16 3.093 12.955 0 0 13.161l12.955 13.161z\" fill=\"#fff\" class=\"SV+H35\"></path></svg></div></section><section class=\"-5qqlC _2OLUF3\"><div class=\"FtQCb2 _3Owiq+\"><div class=\"fxf7w6 rgHxCQ\">Offers</div><svg width=\"16\" height=\"27\" viewBox=\"0 0 16 27\" xmlns=\"http://www.w3.org/2000/svg\" class=\"ukzDZP rZzKt4\"><path d=\"M16 23.207L6.11 13.161 16 3.093 12.955 0 0 13.161l12.955 13.161z\" fill=\"#fff\" class=\"SV+H35\"></path></svg></div><div class=\"SDsN9S\"><div class=\"bs1+1t\"><div class=\"ewzVkT _3DvUAf\" title=\"Special Price\"><div class=\"QCKZip hpLdC3\"><label class=\"tJjCVx _3DvUAf\"><input type=\"checkbox\" class=\"vn9L2C\" readonly=\"\"/><div class=\"XqNaEv\"></div><div class=\"_6i1qKy\">Special Price</div></label></div></div><div class=\"ewzVkT _3DvUAf\" title=\"Buy More, Save More\"><div class=\"QCKZip hpLdC3\"><label class=\"tJjCVx jJqq1Y _3DvUAf\"><input type=\"checkbox\" class=\"vn9L2C\" readonly=\"\"/><div class=\"XqNaEv\"></div><div class=\"_6i1qKy\">Buy More, Save More</div></label></div></div><div class=\"ewzVkT _3DvUAf\" title=\"No Cost EMI\"><div class=\"QCKZip hpLdC3\"><label class=\"tJjCVx jJqq1Y _3DvUAf\"><input type=\"checkbox\" class=\"vn9L2C\" readonly=\"\"/><div class=\"XqNaEv\"></div><div class=\"_6i1qKy\">No Cost EMI</div></label></div></div></div></div></section><section class=\"-5qqlC _2OLUF3\"><div class=\"FtQCb2 _3Owiq+\"><div class=\"fxf7w6 rgHxCQ\">Features</div><svg width=\"16\" height=\"27\" viewBox=\"0 0 16 27\" xmlns=\"http://www.w3.org/2000/svg\" class=\"ukzDZP\"><path d=\"M16 23.207L6.11 13.161 16 3.093 12.955 0 0 13.161l12.955 13.161z\" fill=\"#fff\" class=\"SV+H35\"></path></svg></div></section><section class=\"-5qqlC _2OLUF3\"><div class=\"FtQCb2 _3Owiq+\"><div class=\"fxf7w6 rgHxCQ\">Type</div><svg width=\"16\" height=\"27\" viewBox=\"0 0 16 27\" xmlns=\"http://www.w3.org/2000/svg\" class=\"ukzDZP\"><path d=\"M16 23.207L6.11 13.161 16 3.093 12.955 0 0 13.161l12.955 13.161z\" fill=\"#fff\" class=\"SV+H35\"></path></svg></div></section><section class=\"-5qqlC _2OLUF3\"><div class=\"FtQCb2 _3Owiq+\"><div class=\"fxf7w6 rgHxCQ\">Number of Cores</div><svg width=\"16\" height=\"27\" viewBox=\"0 0 16 27\" xmlns=\"http://www.w3.org/2000/svg\" class=\"ukzDZP\"><path d=\"M16 23.207L6.11 13.161 16 3.093 12.955 0 0 13.161l12.955 13.161z\" fill=\"#fff\" class=\"SV+H35\"></path></svg></div></section><section class=\"-5qqlC _2OLUF3\"><div class=\"FtQCb2 _3Owiq+\"><div class=\"fxf7w6 rgHxCQ\">Availability</div><svg width=\"16\" height=\"27\" viewBox=\"0 0 16 27\" xmlns=\"http://www.w3.org/2000/svg\" class=\"ukzDZP\"><path d=\"M16 23.207L6.11 13.161 16 3.093 12.955 0 0 13.161l12.955 13.161z\" fill=\"#fff\" class=\"SV+H35\"></path></svg></div></section><section class=\"-5qqlC _2OLUF3\"><div class=\"FtQCb2 _3Owiq+\"><div class=\"fxf7w6 rgHxCQ\">Discount</div><svg width=\"16\" height=\"27\" viewBox=\"0 0 16 27\" xmlns=\"http://www.w3.org/2000/svg\" class=\"ukzDZP rZzKt4\"><path d=\"M16 23.207L6.11 13.161 16 3.093 12.955 0 0 13.161l12.955 13.161z\" fill=\"#fff\" class=\"SV+H35\"></path></svg></div><div class=\"SDsN9S\"><div class=\"bs1+1t\"><div class=\"ewzVkT _3DvUAf\" title=\"50% or more\"><div class=\"QCKZip hpLdC3\"><label class=\"tJjCVx _3DvUAf\"><input type=\"checkbox\" class=\"vn9L2C\" readonly=\"\"/><div class=\"XqNaEv\"></div><div class=\"_6i1qKy\">50% or more</div></label></div></div><div class=\"ewzVkT _3DvUAf\" title=\"40% or more\"><div class=\"QCKZip hpLdC3\"><label class=\"tJjCVx _3DvUAf\"><input type=\"checkbox\" class=\"vn9L2C\" readonly=\"\"/><div class=\"XqNaEv\"></div><div class=\"_6i1qKy\">40% or more</div></label></div></div><div class=\"ewzVkT _3DvUAf\" title=\"30% or more\"><div class=\"QCKZip hpLdC3\"><label class=\"tJjCVx _3DvUAf\"><input type=\"checkbox\" class=\"vn9L2C\" readonly=\"\"/><div class=\"XqNaEv\"></div><div class=\"_6i1qKy\">30% or more</div></label></div></div><div class=\"ewzVkT _3DvUAf\" title=\"20% or more\"><div class=\"QCKZip hpLdC3\"><label class=\"tJjCVx _3DvUAf\"><input type=\"checkbox\" class=\"vn9L2C\" readonly=\"\"/><div class=\"XqNaEv\"></div><div class=\"_6i1qKy\">20% or more</div></label></div></div><div class=\"ewzVkT _3DvUAf\" title=\"10% or more\"><div class=\"QCKZip hpLdC3\"><label class=\"tJjCVx _3DvUAf\"><input type=\"checkbox\" class=\"vn9L2C\" readonly=\"\"/><div class=\"XqNaEv\"></div><div class=\"_6i1qKy\">10% or more</div></label></div></div></div></div></section><section class=\"-5qqlC _2OLUF3\"><div class=\"FtQCb2 _3Owiq+\"><div class=\"fxf7w6 rgHxCQ\">Clock Speed</div><svg width=\"16\" height=\"27\" viewBox=\"0 0 16 27\" xmlns=\"http://www.w3.org/2000/svg\" class=\"ukzDZP\"><path d=\"M16 23.207L6.11 13.161 16 3.093 12.955 0 0 13.161l12.955 13.161z\" fill=\"#fff\" class=\"SV+H35\"></path></svg></div></section></div></div><div class=\"cPHDOP col-12-12\"><a class=\"_4JdVq1\" title=\"Buying Guide\" href=\"/buying-guide/mobiles?sid=tyy,4io&amp;otracker=bg_from_browse_lhs\"><div><span>Need help?</span></div><div class=\"e1wDS3\"><span>Help me decide</span><svg width=\"16\" height=\"27\" viewBox=\"0 0 16 27\" xmlns=\"http://www.w3.org/2000/svg\" class=\"VQiHOk\"><path d=\"M16 23.207L6.11 13.161 16 3.093 12.955 0 0 13.161l12.955 13.161z\" fill=\"#fff\" class=\"jVpjWi\"></path></svg></div><img alt=\"Buying Guide\" src=\"//static-assets-web.flixcart.com/fk-p-linchpin-web/fk-cp-zion/img/buying-guide-illustration_4dd325.png\"/></a></div></div></div><div class=\"DOjaWF gdgoEp\" style=\"flex-grow:1;overflow:auto\"><div class=\"DOjaWF YJG4Cf col-12-12\" style=\"background-color:#ffffff;align-items:flex-end\"><div class=\"cPHDOP\" style=\"flex-grow:1;overflow:auto\"><div class=\"WOvzF4\"><div class=\"_7dPnhA\"><div class=\"r2CdBx\"><a href=\"/\" class=\"R0cyWM\">Home</a><svg width=\"16\" height=\"27\" viewBox=\"0 0 16 27\" xmlns=\"http://www.w3.org/2000/svg\" class=\"sfneHK\"><path d=\"M16 23.207L6.11 13.161 16 3.093 12.955 0 0 13.161l12.955 13.161z\" fill=\"#fff\" class=\"wMLTcO\"></path></svg></div><div class=\"r2CdBx\"><a class=\"R0cyWM\" href=\"/mobiles-accessories/pr?sid=tyy&amp;marketplace=FLIPKART\">Mobiles &amp; Accessories</a><svg width=\"16\" height=\"27\" viewBox=\"0 0 16 27\" xmlns=\"http://www.w3.org/2000/svg\" class=\"sfneHK\"><path d=\"M16 23.207L6.11 13.161 16 3.093 12.955 0 0 13.161l12.955 13.161z\" fill=\"#fff\" class=\"wMLTcO\"></path></svg></div><div class=\"r2CdBx\"><a class=\"R0cyWM\" href=\"/mobiles/pr?sid=tyy,4io&amp;marketplace=FLIPKART\">Mobiles</a><svg width=\"16\" height=\"27\" viewBox=\"0 0 16 27\" xmlns=\"http://www.w3.org/2000/svg\" class=\"sfneHK\"><path d=\"M16 23.207L6.11 13.161 16 3.093 12.955 0 0 13.161l12.955 13.161z\" fill=\"#fff\" class=\"wMLTcO\"></path></svg></div></div><span class=\"BUOuZu\">Showing 1 \\xe2\\x80\\x93 24 of 613 results for &quot;<span>iphone15</span>&quot;</span><div class=\"sHCOk2\"><span class=\"viJOii\">Sort By</span><div class=\"zg-M3Z _0H7xSG\">Relevance</div><div class=\"zg-M3Z\">Popularity</div><div class=\"zg-M3Z\">Price -- Low to High</div><div class=\"zg-M3Z\">Price -- High to Low</div><div class=\"zg-M3Z\">Newest First</div></div></div></div></div><div class=\"cPHDOP col-12-12\"><div class=\"_75nlfW\"><div data-id=\"MOBGTAGPTB3VS24W\" style=\"width:100%\"><div class=\"tUxRFH\"><a class=\"CGtC98\" target=\"_blank\" rel=\"noopener noreferrer\" href=\"/apple-iphone-15-black-128-gb/p/itm6ac6485515ae4?pid=MOBGTAGPTB3VS24W&amp;lid=LSTMOBGTAGPTB3VS24WVZNSC6&amp;marketplace=FLIPKART&amp;q=iphone15&amp;store=tyy%2F4io&amp;spotlightTagId=BestsellerId_tyy%2F4io&amp;srno=s_1_1&amp;otracker=search&amp;fm=organic&amp;iid=cf7b50be-4b30-4327-ad53-e7d5472b0408.MOBGTAGPTB3VS24W.SEARCH&amp;ppt=None&amp;ppn=None&amp;ssid=nq9sahes340000001724043351749&amp;qH=1827ac0d826493c5\"><div></div><div class=\"Otbq5D\"><div class=\"yPq5Io\"><div><div class=\"_4WELSP\" style=\"height:200px;width:200px\"><img loading=\"eager\" class=\"DByuf4\" alt=\"Apple iPhone 15 (Black, 128 GB)\" src=\"https://rukminim2.flixcart.com/image/312/312/xif0q/mobile/h/d/9/-original-imagtc2qzgnnuhxh.jpeg?q=70\"/></div></div></div><div class=\"qaR90o\"><div class=\"A8uQAd\"><span class=\"Lni97G\"><label class=\"tJjCVx\"><input type=\"checkbox\" class=\"vn9L2C\" readonly=\"\"/><div class=\"XqNaEv\"></div></label></span><label class=\"uu79Xy\"><span>Add to Compare</span></label></div></div><div class=\"oUss6M ssUU08\"><div class=\"+7E521\"><svg xmlns=\"http://www.w3.org/2000/svg\" class=\"N1bADF\" width=\"16\" height=\"16\" viewBox=\"0 0 20 16\"><path d=\"M8.695 16.682C4.06 12.382 1 9.536 1 6.065 1 3.219 3.178 1 5.95 1c1.566 0 3.069.746 4.05 1.915C10.981 1.745 12.484 1 14.05 1 16.822 1 19 3.22 19 6.065c0 3.471-3.06 6.316-7.695 10.617L10 17.897l-1.305-1.215z\" fill=\"#2874F0\" class=\"x1UMqG\" stroke=\"#FFF\" fill-rule=\"evenodd\" opacity=\".9\"></path></svg></div></div></div><div class=\"yKfJKb row\"><div class=\"col col-7-12\"><div class=\"KzDlHZ\">Apple iPhone 15 (Black, 128 GB)</div><div class=\"_5OesEi\"><span id=\"productRating_LSTMOBGTAGPTB3VS24WVZNSC6_MOBGTAGPTB3VS24W_\" class=\"Y1HWO0\"><div class=\"XQDdHH\">4.6<img src=\"data:image/svg+xml;base64,PHN2ZyB4bWxucz0iaHR0cDovL3d3dy53My5vcmcvMjAwMC9zdmciIHdpZHRoPSIxMyIgaGVpZ2h0PSIxMiI+PHBhdGggZmlsbD0iI0ZGRiIgZD0iTTYuNSA5LjQzOWwtMy42NzQgMi4yMy45NC00LjI2LTMuMjEtMi44ODMgNC4yNTQtLjQwNEw2LjUuMTEybDEuNjkgNC4wMSA0LjI1NC40MDQtMy4yMSAyLjg4Mi45NCA0LjI2eiIvPjwvc3ZnPg==\" class=\"Rza2QY\"/></div></span><span class=\"Wphh3N\"><span><span>47,150 Ratings\\xc2\\xa0</span><span class=\"hG7V+4\">&amp;</span><span>\\xc2\\xa02,494 Reviews</span></span></span></div><div class=\"_6NESgJ\"><ul class=\"G4BRas\"><li class=\"J+igdf\">128 GB ROM</li><li class=\"J+igdf\">15.49 cm (6.1 inch) Super Retina XDR Display</li><li class=\"J+igdf\">48MP + 12MP | 12MP Front Camera</li><li class=\"J+igdf\">A16 Bionic Chip, 6 Core Processor Processor</li><li class=\"J+igdf\">1 Year Warranty for Phone and 6 Months Warranty for In-Box Accessories</li></ul></div></div><div class=\"col col-5-12 BfVC2z\"><div class=\"cN1yYO\"><div class=\"hl05eU\"><div class=\"Nx9bqj _4b5DiR\">\\xe2\\x82\\xb965,499</div><div class=\"yRaY8j ZYYwLA\">\\xe2\\x82\\xb9<!-- -->79,600</div><div class=\"UkUFwK\"><span>17% off</span></div></div><div class=\"k6cAZE dlFt9U\"><div><div class=\"yiggsN\" style=\"color:#000000;font-size:12px;font-weight:400\">Free delivery</div></div></div></div><div class=\"_0CSTHy\"><img height=\"21\" src=\"//static-assets-web.flixcart.com/fk-p-linchpin-web/fk-cp-zion/img/fa_62673a.png\"/></div><div class=\"M4DNwV\"><div class=\"n5vj9c\"><div class=\"yiggsN O5Fpg8\" style=\"color:#26A541;font-size:12px;font-weight:700\">Daily Saver</div></div></div><div class=\"M4DNwV\"><div class=\"n5vj9c\"><div class=\"yiggsN O5Fpg8\" style=\"color:#000000;font-size:14px;font-style:normal;font-weight:400\">Upto </div><div class=\"yiggsN O5Fpg8\" style=\"color:#000000;font-size:14px;font-style:normal;font-weight:700\">\\xe2\\x82\\xb942,100</div><div class=\"yiggsN O5Fpg8\" style=\"color:#000000;font-size:14px;font-style:normal;font-weight:400\"> Off on Exchange</div></div></div></div></div></a></div></div></div></div><div class=\"cPHDOP col-12-12\"><div class=\"_75nlfW\"><div data-id=\"MOBGTAGPAQNVFZZY\" style=\"width:100%\"><div class=\"tUxRFH\"><a class=\"CGtC98\" target=\"_blank\" rel=\"noopener noreferrer\" href=\"/apple-iphone-15-blue-128-gb/p/itmbf14ef54f645d?pid=MOBGTAGPAQNVFZZY&amp;lid=LSTMOBGTAGPAQNVFZZYO7HQ2L&amp;marketplace=FLIPKART&amp;q=iphone15&amp;store=tyy%2F4io&amp;spotlightTagId=BestsellerId_tyy%2F4io&amp;srno=s_1_2&amp;otracker=search&amp;fm=organic&amp;iid=cf7b50be-4b30-4327-ad53-e7d5472b0408.MOBGTAGPAQNVFZZY.SEARCH&amp;ppt=None&amp;ppn=None&amp;ssid=nq9sahes340000001724043351749&amp;qH=1827ac0d826493c5\"><div></div><div class=\"Otbq5D\"><div class=\"yPq5Io\"><div><div class=\"_4WELSP\" style=\"height:200px;width:200px\"><img loading=\"eager\" class=\"DByuf4\" alt=\"Apple iPhone 15 (Blue, 128 GB)\" src=\"https://rukminim2.flixcart.com/image/312/312/xif0q/mobile/k/l/l/-original-imagtc5fz9spysyk.jpeg?q=70\"/></div></div></div><div class=\"qaR90o\"><div class=\"A8uQAd\"><span class=\"Lni97G\"><label class=\"tJjCVx\"><input type=\"checkbox\" class=\"vn9L2C\" readonly=\"\"/><div class=\"XqNaEv\"></div></label></span><label class=\"uu79Xy\"><span>Add to Compare</span></label></div></div><div class=\"oUss6M ssUU08\"><div class=\"+7E521\"><svg xmlns=\"http://www.w3.org/2000/svg\" class=\"N1bADF\" width=\"16\" height=\"16\" viewBox=\"0 0 20 16\"><path d=\"M8.695 16.682C4.06 12.382 1 9.536 1 6.065 1 3.219 3.178 1 5.95 1c1.566 0 3.069.746 4.05 1.915C10.981 1.745 12.484 1 14.05 1 16.822 1 19 3.22 19 6.065c0 3.471-3.06 6.316-7.695 10.617L10 17.897l-1.305-1.215z\" fill=\"#2874F0\" class=\"x1UMqG\" stroke=\"#FFF\" fill-rule=\"evenodd\" opacity=\".9\"></path></svg></div></div></div><div class=\"yKfJKb row\"><div class=\"col col-7-12\"><div class=\"KzDlHZ\">Apple iPhone 15 (Blue, 128 GB)</div><div class=\"_5OesEi\"><span id=\"productRating_LSTMOBGTAGPAQNVFZZYO7HQ2L_MOBGTAGPAQNVFZZY_\" class=\"Y1HWO0\"><div class=\"XQDdHH\">4.6<img src=\"data:image/svg+xml;base64,PHN2ZyB4bWxucz0iaHR0cDovL3d3dy53My5vcmcvMjAwMC9zdmciIHdpZHRoPSIxMyIgaGVpZ2h0PSIxMiI+PHBhdGggZmlsbD0iI0ZGRiIgZD0iTTYuNSA5LjQzOWwtMy42NzQgMi4yMy45NC00LjI2LTMuMjEtMi44ODMgNC4yNTQtLjQwNEw2LjUuMTEybDEuNjkgNC4wMSA0LjI1NC40MDQtMy4yMSAyLjg4Mi45NCA0LjI2eiIvPjwvc3ZnPg==\" class=\"Rza2QY\"/></div></span><span class=\"Wphh3N\"><span><span>47,150 Ratings\\xc2\\xa0</span><span class=\"hG7V+4\">&amp;</span><span>\\xc2\\xa02,494 Reviews</span></span></span></div><div class=\"_6NESgJ\"><ul class=\"G4BRas\"><li class=\"J+igdf\">128 GB ROM</li><li class=\"J+igdf\">15.49 cm (6.1 inch) Super Retina XDR Display</li><li class=\"J+igdf\">48MP + 12MP | 12MP Front Camera</li><li class=\"J+igdf\">A16 Bionic Chip, 6 Core Processor Processor</li><li class=\"J+igdf\">1 Year Warranty for Phone and 6 Months Warranty for In-Box Accessories</li></ul></div></div><div class=\"col col-5-12 BfVC2z\"><div class=\"cN1yYO\"><div class=\"hl05eU\"><div class=\"Nx9bqj _4b5DiR\">\\xe2\\x82\\xb965,499</div><div class=\"yRaY8j ZYYwLA\">\\xe2\\x82\\xb9<!-- -->79,600</div><div class=\"UkUFwK\"><span>17% off</span></div></div><div class=\"k6cAZE dlFt9U\"><div><div class=\"yiggsN\" style=\"color:#000000;font-size:12px;font-weight:400\">Free delivery</div></div></div></div><div class=\"_0CSTHy\"><img height=\"21\" src=\"//static-assets-web.flixcart.com/fk-p-linchpin-web/fk-cp-zion/img/fa_62673a.png\"/></div><div class=\"M4DNwV\"><div class=\"n5vj9c\"><div class=\"yiggsN O5Fpg8\" style=\"color:#26A541;font-size:12px;font-weight:700\">Daily Saver</div></div></div><div class=\"M4DNwV\"><div class=\"n5vj9c\"><div class=\"yiggsN O5Fpg8\" style=\"color:#000000;font-size:14px;font-style:normal;font-weight:400\">Upto </div><div class=\"yiggsN O5Fpg8\" style=\"color:#000000;font-size:14px;font-style:normal;font-weight:700\">\\xe2\\x82\\xb942,100</div><div class=\"yiggsN O5Fpg8\" style=\"color:#000000;font-size:14px;font-style:normal;font-weight:400\"> Off on Exchange</div></div></div></div></div></a></div></div></div></div><div class=\"cPHDOP col-12-12\"><div class=\"_75nlfW\"><div data-id=\"MOBGTAGPNMZA5PU5\" style=\"width:100%\"><div class=\"tUxRFH\"><a class=\"CGtC98\" target=\"_blank\" rel=\"noopener noreferrer\" href=\"/apple-iphone-15-pink-128-gb/p/itm7579ed94ca647?pid=MOBGTAGPNMZA5PU5&amp;lid=LSTMOBGTAGPNMZA5PU51YWTGZ&amp;marketplace=FLIPKART&amp;q=iphone15&amp;store=tyy%2F4io&amp;srno=s_1_3&amp;otracker=search&amp;fm=organic&amp;iid=cf7b50be-4b30-4327-ad53-e7d5472b0408.MOBGTAGPNMZA5PU5.SEARCH&amp;ppt=None&amp;ppn=None&amp;ssid=nq9sahes340000001724043351749&amp;qH=1827ac0d826493c5\"><div class=\"Otbq5D\"><div class=\"yPq5Io\"><div><div class=\"_4WELSP\" style=\"height:200px;width:200px\"><img loading=\"eager\" class=\"DByuf4\" alt=\"Apple iPhone 15 (Pink, 128 GB)\" src=\"https://rukminim2.flixcart.com/image/312/312/xif0q/mobile/a/c/k/-original-imagtc5fuzkvczr7.jpeg?q=70\"/></div></div></div><div class=\"qaR90o\"><div class=\"A8uQAd\"><span class=\"Lni97G\"><label class=\"tJjCVx\"><input type=\"checkbox\" class=\"vn9L2C\" readonly=\"\"/><div class=\"XqNaEv\"></div></label></span><label class=\"uu79Xy\"><span>Add to Compare</span></label></div></div><div class=\"oUss6M ssUU08\"><div class=\"+7E521\"><svg xmlns=\"http://www.w3.org/2000/svg\" class=\"N1bADF\" width=\"16\" height=\"16\" viewBox=\"0 0 20 16\"><path d=\"M8.695 16.682C4.06 12.382 1 9.536 1 6.065 1 3.219 3.178 1 5.95 1c1.566 0 3.069.746 4.05 1.915C10.981 1.745 12.484 1 14.05 1 16.822 1 19 3.22 19 6.065c0 3.471-3.06 6.316-7.695 10.617L10 17.897l-1.305-1.215z\" fill=\"#2874F0\" class=\"x1UMqG\" stroke=\"#FFF\" fill-rule=\"evenodd\" opacity=\".9\"></path></svg></div></div></div><div class=\"yKfJKb row\"><div class=\"col col-7-12\"><div class=\"KzDlHZ\">Apple iPhone 15 (Pink, 128 GB)</div><div class=\"_5OesEi\"><span id=\"productRating_LSTMOBGTAGPNMZA5PU51YWTGZ_MOBGTAGPNMZA5PU5_\" class=\"Y1HWO0\"><div class=\"XQDdHH\">4.6<img src=\"data:image/svg+xml;base64,PHN2ZyB4bWxucz0iaHR0cDovL3d3dy53My5vcmcvMjAwMC9zdmciIHdpZHRoPSIxMyIgaGVpZ2h0PSIxMiI+PHBhdGggZmlsbD0iI0ZGRiIgZD0iTTYuNSA5LjQzOWwtMy42NzQgMi4yMy45NC00LjI2LTMuMjEtMi44ODMgNC4yNTQtLjQwNEw2LjUuMTEybDEuNjkgNC4wMSA0LjI1NC40MDQtMy4yMSAyLjg4Mi45NCA0LjI2eiIvPjwvc3ZnPg==\" class=\"Rza2QY\"/></div></span><span class=\"Wphh3N\"><span><span>47,150 Ratings\\xc2\\xa0</span><span class=\"hG7V+4\">&amp;</span><span>\\xc2\\xa02,494 Reviews</span></span></span></div><div class=\"_6NESgJ\"><ul class=\"G4BRas\"><li class=\"J+igdf\">128 GB ROM</li><li class=\"J+igdf\">15.49 cm (6.1 inch) Super Retina XDR Display</li><li class=\"J+igdf\">48MP + 12MP | 12MP Front Camera</li><li class=\"J+igdf\">A16 Bionic Chip, 6 Core Processor Processor</li><li class=\"J+igdf\">1 Year Warranty for Phone and 6 Months Warranty for In-Box Accessories</li></ul></div></div><div class=\"col col-5-12 BfVC2z\"><div class=\"cN1yYO\"><div class=\"hl05eU\"><div class=\"Nx9bqj _4b5DiR\">\\xe2\\x82\\xb965,499</div><div class=\"yRaY8j ZYYwLA\">\\xe2\\x82\\xb9<!-- -->79,600</div><div class=\"UkUFwK\"><span>17% off</span></div></div><div class=\"k6cAZE dlFt9U\"><div><div class=\"yiggsN\" style=\"color:#000000;font-size:12px;font-weight:400\">Free delivery</div></div></div></div><div class=\"_0CSTHy\"><img height=\"21\" src=\"//static-assets-web.flixcart.com/fk-p-linchpin-web/fk-cp-zion/img/fa_62673a.png\"/></div><div class=\"M4DNwV\"><div class=\"n5vj9c\"><div class=\"yiggsN O5Fpg8\" style=\"color:#26A541;font-size:12px;font-weight:700\">Daily Saver</div></div></div><div class=\"M4DNwV\"><div class=\"n5vj9c\"><div class=\"yiggsN O5Fpg8\" style=\"color:#000000;font-size:14px;font-style:normal;font-weight:400\">Upto </div><div class=\"yiggsN O5Fpg8\" style=\"color:#000000;font-size:14px;font-style:normal;font-weight:700\">\\xe2\\x82\\xb942,100</div><div class=\"yiggsN O5Fpg8\" style=\"color:#000000;font-size:14px;font-style:normal;font-weight:400\"> Off on Exchange</div></div></div></div></div></a></div></div></div></div><div class=\"cPHDOP col-12-12\"><div class=\"_75nlfW\"><div data-id=\"MOBGTAGPYYWZRUJX\" style=\"width:100%\"><div class=\"tUxRFH\"><a class=\"CGtC98\" target=\"_blank\" rel=\"noopener noreferrer\" href=\"/apple-iphone-15-green-128-gb/p/itm235cd318bde73?pid=MOBGTAGPYYWZRUJX&amp;lid=LSTMOBGTAGPYYWZRUJXUGY7PM&amp;marketplace=FLIPKART&amp;q=iphone15&amp;store=tyy%2F4io&amp;srno=s_1_4&amp;otracker=search&amp;fm=organic&amp;iid=cf7b50be-4b30-4327-ad53-e7d5472b0408.MOBGTAGPYYWZRUJX.SEARCH&amp;ppt=None&amp;ppn=None&amp;ssid=nq9sahes340000001724043351749&amp;qH=1827ac0d826493c5\"><div class=\"Otbq5D\"><div class=\"yPq5Io\"><div><div class=\"_4WELSP\" style=\"height:200px;width:200px\"><img loading=\"eager\" class=\"DByuf4\" alt=\"Apple iPhone 15 (Green, 128 GB)\" src=\"https://rukminim2.flixcart.com/image/312/312/xif0q/mobile/j/z/3/-original-imagtc5fqyz8tu4c.jpeg?q=70\"/></div></div></div><div class=\"qaR90o\"><div class=\"A8uQAd\"><span class=\"Lni97G\"><label class=\"tJjCVx\"><input type=\"checkbox\" class=\"vn9L2C\" readonly=\"\"/><div class=\"XqNaEv\"></div></label></span><label class=\"uu79Xy\"><span>Add to Compare</span></label></div></div><div class=\"oUss6M ssUU08\"><div class=\"+7E521\"><svg xmlns=\"http://www.w3.org/2000/svg\" class=\"N1bADF\" width=\"16\" height=\"16\" viewBox=\"0 0 20 16\"><path d=\"M8.695 16.682C4.06 12.382 1 9.536 1 6.065 1 3.219 3.178 1 5.95 1c1.566 0 3.069.746 4.05 1.915C10.981 1.745 12.484 1 14.05 1 16.822 1 19 3.22 19 6.065c0 3.471-3.06 6.316-7.695 10.617L10 17.897l-1.305-1.215z\" fill=\"#2874F0\" class=\"x1UMqG\" stroke=\"#FFF\" fill-rule=\"evenodd\" opacity=\".9\"></path></svg></div></div></div><div class=\"yKfJKb row\"><div class=\"col col-7-12\"><div class=\"KzDlHZ\">Apple iPhone 15 (Green, 128 GB)</div><div class=\"_5OesEi\"><span id=\"productRating_LSTMOBGTAGPYYWZRUJXUGY7PM_MOBGTAGPYYWZRUJX_\" class=\"Y1HWO0\"><div class=\"XQDdHH\">4.6<img src=\"data:image/svg+xml;base64,PHN2ZyB4bWxucz0iaHR0cDovL3d3dy53My5vcmcvMjAwMC9zdmciIHdpZHRoPSIxMyIgaGVpZ2h0PSIxMiI+PHBhdGggZmlsbD0iI0ZGRiIgZD0iTTYuNSA5LjQzOWwtMy42NzQgMi4yMy45NC00LjI2LTMuMjEtMi44ODMgNC4yNTQtLjQwNEw2LjUuMTEybDEuNjkgNC4wMSA0LjI1NC40MDQtMy4yMSAyLjg4Mi45NCA0LjI2eiIvPjwvc3ZnPg==\" class=\"Rza2QY\"/></div></span><span class=\"Wphh3N\"><span><span>47,150 Ratings\\xc2\\xa0</span><span class=\"hG7V+4\">&amp;</span><span>\\xc2\\xa02,494 Reviews</span></span></span></div><div class=\"_6NESgJ\"><ul class=\"G4BRas\"><li class=\"J+igdf\">128 GB ROM</li><li class=\"J+igdf\">15.49 cm (6.1 inch) Super Retina XDR Display</li><li class=\"J+igdf\">48MP + 12MP | 12MP Front Camera</li><li class=\"J+igdf\">A16 Bionic Chip, 6 Core Processor Processor</li><li class=\"J+igdf\">1 Year Warranty for Phone and 6 Months Warranty for In-Box Accessories</li></ul></div></div><div class=\"col col-5-12 BfVC2z\"><div class=\"cN1yYO\"><div class=\"hl05eU\"><div class=\"Nx9bqj _4b5DiR\">\\xe2\\x82\\xb965,499</div><div class=\"yRaY8j ZYYwLA\">\\xe2\\x82\\xb9<!-- -->79,600</div><div class=\"UkUFwK\"><span>17% off</span></div></div><div class=\"k6cAZE dlFt9U\"><div><div class=\"yiggsN\" style=\"color:#000000;font-size:12px;font-weight:400\">Free delivery</div></div></div></div><div class=\"_0CSTHy\"><img height=\"21\" src=\"//static-assets-web.flixcart.com/fk-p-linchpin-web/fk-cp-zion/img/fa_62673a.png\"/></div><div class=\"M4DNwV\"><div class=\"n5vj9c\"><div class=\"yiggsN O5Fpg8\" style=\"color:#26A541;font-size:12px;font-weight:700\">Daily Saver</div></div></div><div class=\"M4DNwV\"><div class=\"n5vj9c\"><div class=\"yiggsN O5Fpg8\" style=\"color:#000000;font-size:14px;font-style:normal;font-weight:400\">Upto </div><div class=\"yiggsN O5Fpg8\" style=\"color:#000000;font-size:14px;font-style:normal;font-weight:700\">\\xe2\\x82\\xb942,100</div><div class=\"yiggsN O5Fpg8\" style=\"color:#000000;font-size:14px;font-style:normal;font-weight:400\"> Off on Exchange</div></div></div></div></div></a></div></div></div></div><div class=\"cPHDOP col-12-12\"><div class=\"_75nlfW\"><div data-id=\"MOBGTAGPNRQA7CS3\" style=\"width:100%\"><div class=\"tUxRFH\"><a class=\"CGtC98\" target=\"_blank\" rel=\"noopener noreferrer\" href=\"/apple-iphone-15-plus-black-128-gb/p/itme3a53984760fb?pid=MOBGTAGPNRQA7CS3&amp;lid=LSTMOBGTAGPNRQA7CS3L7XK7L&amp;marketplace=FLIPKART&amp;q=iphone15&amp;store=tyy%2F4io&amp;srno=s_1_5&amp;otracker=search&amp;fm=organic&amp;iid=cf7b50be-4b30-4327-ad53-e7d5472b0408.MOBGTAGPNRQA7CS3.SEARCH&amp;ppt=None&amp;ppn=None&amp;ssid=nq9sahes340000001724043351749&amp;qH=1827ac0d826493c5\"><div class=\"Otbq5D\"><div class=\"yPq5Io\"><div><div class=\"_4WELSP\" style=\"height:200px;width:200px\"><img loading=\"eager\" class=\"DByuf4\" alt=\"Apple iPhone 15 Plus (Black, 128 GB)\" src=\"https://rukminim2.flixcart.com/image/312/312/xif0q/mobile/8/9/n/-original-imagtc6fyrstd4jm.jpeg?q=70\"/></div></div></div><div class=\"qaR90o\"><div class=\"A8uQAd\"><span class=\"Lni97G\"><label class=\"tJjCVx\"><input type=\"checkbox\" class=\"vn9L2C\" readonly=\"\"/><div class=\"XqNaEv\"></div></label></span><label class=\"uu79Xy\"><span>Add to Compare</span></label></div></div><div class=\"oUss6M ssUU08\"><div class=\"+7E521\"><svg xmlns=\"http://www.w3.org/2000/svg\" class=\"N1bADF\" width=\"16\" height=\"16\" viewBox=\"0 0 20 16\"><path d=\"M8.695 16.682C4.06 12.382 1 9.536 1 6.065 1 3.219 3.178 1 5.95 1c1.566 0 3.069.746 4.05 1.915C10.981 1.745 12.484 1 14.05 1 16.822 1 19 3.22 19 6.065c0 3.471-3.06 6.316-7.695 10.617L10 17.897l-1.305-1.215z\" fill=\"#2874F0\" class=\"x1UMqG\" stroke=\"#FFF\" fill-rule=\"evenodd\" opacity=\".9\"></path></svg></div></div></div><div class=\"yKfJKb row\"><div class=\"col col-7-12\"><div class=\"KzDlHZ\">Apple iPhone 15 Plus (Black, 128 GB)</div><div class=\"_5OesEi\"><span id=\"productRating_LSTMOBGTAGPNRQA7CS3L7XK7L_MOBGTAGPNRQA7CS3_\" class=\"Y1HWO0\"><div class=\"XQDdHH\">4.6<img src=\"data:image/svg+xml;base64,PHN2ZyB4bWxucz0iaHR0cDovL3d3dy53My5vcmcvMjAwMC9zdmciIHdpZHRoPSIxMyIgaGVpZ2h0PSIxMiI+PHBhdGggZmlsbD0iI0ZGRiIgZD0iTTYuNSA5LjQzOWwtMy42NzQgMi4yMy45NC00LjI2LTMuMjEtMi44ODMgNC4yNTQtLjQwNEw2LjUuMTEybDEuNjkgNC4wMSA0LjI1NC40MDQtMy4yMSAyLjg4Mi45NCA0LjI2eiIvPjwvc3ZnPg==\" class=\"Rza2QY\"/></div></span><span class=\"Wphh3N\"><span><span>8,268 Ratings\\xc2\\xa0</span><span class=\"hG7V+4\">&amp;</span><span>\\xc2\\xa0664 Reviews</span></span></span></div><div class=\"_6NESgJ\"><ul class=\"G4BRas\"><li class=\"J+igdf\">128 GB ROM</li><li class=\"J+igdf\">17.02 cm (6.7 inch) Super Retina XDR Display</li><li class=\"J+igdf\">48MP + 12MP | 12MP Front Camera</li><li class=\"J+igdf\">A16 Bionic Chip, 6 Core Processor Processor</li><li class=\"J+igdf\">1 Year Warranty for Phone and 6 Months Warranty for In-Box Accessories</li></ul></div></div><div class=\"col col-5-12 BfVC2z\"><div class=\"cN1yYO\"><div class=\"hl05eU\"><div class=\"Nx9bqj _4b5DiR\">\\xe2\\x82\\xb974,499</div><div class=\"yRaY8j ZYYwLA\">\\xe2\\x82\\xb9<!-- -->89,600</div><div class=\"UkUFwK\"><span>16% off</span></div></div><div class=\"k6cAZE dlFt9U\"><div><div class=\"yiggsN\" style=\"color:#000000;font-size:12px;font-weight:400\">Free delivery</div></div></div></div><div class=\"_0CSTHy\"><img height=\"21\" src=\"//static-assets-web.flixcart.com/fk-p-linchpin-web/fk-cp-zion/img/fa_62673a.png\"/></div><div class=\"M4DNwV\"><div class=\"n5vj9c\"><div class=\"yiggsN O5Fpg8\" style=\"color:#26A541;font-size:12px;font-weight:700\">Daily Saver</div></div></div><div class=\"M4DNwV\"><div class=\"n5vj9c\"><div class=\"yiggsN O5Fpg8\" style=\"color:#000000;font-size:14px;font-style:normal;font-weight:400\">Upto </div><div class=\"yiggsN O5Fpg8\" style=\"color:#000000;font-size:14px;font-style:normal;font-weight:700\">\\xe2\\x82\\xb942,100</div><div class=\"yiggsN O5Fpg8\" style=\"color:#000000;font-size:14px;font-style:normal;font-weight:400\"> Off on Exchange</div></div></div></div></div></a></div></div></div></div><div class=\"cPHDOP col-12-12\"><div class=\"_75nlfW\"><div data-id=\"MOBGTAGPE4F2HAW7\" style=\"width:100%\"><div class=\"tUxRFH\"><a class=\"CGtC98\" target=\"_blank\" rel=\"noopener noreferrer\" href=\"/apple-iphone-15-plus-blue-128-gb/p/itm4022c14383050?pid=MOBGTAGPE4F2HAW7&amp;lid=LSTMOBGTAGPE4F2HAW7NDYSPY&amp;marketplace=FLIPKART&amp;q=iphone15&amp;store=tyy%2F4io&amp;srno=s_1_6&amp;otracker=search&amp;fm=organic&amp;iid=cf7b50be-4b30-4327-ad53-e7d5472b0408.MOBGTAGPE4F2HAW7.SEARCH&amp;ppt=None&amp;ppn=None&amp;ssid=nq9sahes340000001724043351749&amp;qH=1827ac0d826493c5\"><div class=\"Otbq5D\"><div class=\"yPq5Io\"><div><div class=\"_4WELSP\" style=\"height:200px;width:200px\"><img loading=\"eager\" class=\"DByuf4\" alt=\"Apple iPhone 15 Plus (Blue, 128 GB)\" src=\"https://rukminim2.flixcart.com/image/312/312/xif0q/mobile/1/i/x/-original-imagtc6fhhtqjnr9.jpeg?q=70\"/></div></div></div><div class=\"qaR90o\"><div class=\"A8uQAd\"><span class=\"Lni97G\"><label class=\"tJjCVx\"><input type=\"checkbox\" class=\"vn9L2C\" readonly=\"\"/><div class=\"XqNaEv\"></div></label></span><label class=\"uu79Xy\"><span>Add to Compare</span></label></div></div><div class=\"oUss6M ssUU08\"><div class=\"+7E521\"><svg xmlns=\"http://www.w3.org/2000/svg\" class=\"N1bADF\" width=\"16\" height=\"16\" viewBox=\"0 0 20 16\"><path d=\"M8.695 16.682C4.06 12.382 1 9.536 1 6.065 1 3.219 3.178 1 5.95 1c1.566 0 3.069.746 4.05 1.915C10.981 1.745 12.484 1 14.05 1 16.822 1 19 3.22 19 6.065c0 3.471-3.06 6.316-7.695 10.617L10 17.897l-1.305-1.215z\" fill=\"#2874F0\" class=\"x1UMqG\" stroke=\"#FFF\" fill-rule=\"evenodd\" opacity=\".9\"></path></svg></div></div></div><div class=\"yKfJKb row\"><div class=\"col col-7-12\"><div class=\"KzDlHZ\">Apple iPhone 15 Plus (Blue, 128 GB)</div><div class=\"_5OesEi\"><span id=\"productRating_LSTMOBGTAGPE4F2HAW7NDYSPY_MOBGTAGPE4F2HAW7_\" class=\"Y1HWO0\"><div class=\"XQDdHH\">4.6<img src=\"data:image/svg+xml;base64,PHN2ZyB4bWxucz0iaHR0cDovL3d3dy53My5vcmcvMjAwMC9zdmciIHdpZHRoPSIxMyIgaGVpZ2h0PSIxMiI+PHBhdGggZmlsbD0iI0ZGRiIgZD0iTTYuNSA5LjQzOWwtMy42NzQgMi4yMy45NC00LjI2LTMuMjEtMi44ODMgNC4yNTQtLjQwNEw2LjUuMTEybDEuNjkgNC4wMSA0LjI1NC40MDQtMy4yMSAyLjg4Mi45NCA0LjI2eiIvPjwvc3ZnPg==\" class=\"Rza2QY\"/></div></span><span class=\"Wphh3N\"><span><span>8,268 Ratings\\xc2\\xa0</span><span class=\"hG7V+4\">&amp;</span><span>\\xc2\\xa0664 Reviews</span></span></span></div><div class=\"_6NESgJ\"><ul class=\"G4BRas\"><li class=\"J+igdf\">128 GB ROM</li><li class=\"J+igdf\">17.02 cm (6.7 inch) Super Retina XDR Display</li><li class=\"J+igdf\">48MP + 12MP | 12MP Front Camera</li><li class=\"J+igdf\">A16 Bionic Chip, 6 Core Processor Processor</li><li class=\"J+igdf\">1 Year Warranty for Phone and 6 Months Warranty for In-Box Accessories</li></ul></div></div><div class=\"col col-5-12 BfVC2z\"><div class=\"cN1yYO\"><div class=\"hl05eU\"><div class=\"Nx9bqj _4b5DiR\">\\xe2\\x82\\xb974,499</div><div class=\"yRaY8j ZYYwLA\">\\xe2\\x82\\xb9<!-- -->89,600</div><div class=\"UkUFwK\"><span>16% off</span></div></div><div class=\"k6cAZE dlFt9U\"><div><div class=\"yiggsN\" style=\"color:#000000;font-size:12px;font-weight:400\">Free delivery</div></div></div></div><div class=\"_0CSTHy\"><img height=\"21\" src=\"//static-assets-web.flixcart.com/fk-p-linchpin-web/fk-cp-zion/img/fa_62673a.png\"/></div><div class=\"M4DNwV\"><div class=\"n5vj9c\"><div class=\"yiggsN O5Fpg8\" style=\"color:#26A541;font-size:12px;font-weight:700\">Daily Saver</div></div></div><div class=\"M4DNwV\"><div class=\"n5vj9c\"><div class=\"yiggsN O5Fpg8\" style=\"color:#000000;font-size:14px;font-style:normal;font-weight:400\">Upto </div><div class=\"yiggsN O5Fpg8\" style=\"color:#000000;font-size:14px;font-style:normal;font-weight:700\">\\xe2\\x82\\xb942,100</div><div class=\"yiggsN O5Fpg8\" style=\"color:#000000;font-size:14px;font-style:normal;font-weight:400\"> Off on Exchange</div></div></div></div></div></a></div></div></div></div><div class=\"cPHDOP col-12-12\"><div class=\"_75nlfW\"><div data-id=\"MOBGTAGPGF8HJGS7\" style=\"width:100%\"><div class=\"tUxRFH\"><a class=\"CGtC98\" target=\"_blank\" rel=\"noopener noreferrer\" href=\"/apple-iphone-15-green-256-gb/p/itmc24db2484dee9?pid=MOBGTAGPGF8HJGS7&amp;lid=LSTMOBGTAGPGF8HJGS7FKUSRQ&amp;marketplace=FLIPKART&amp;q=iphone15&amp;store=tyy%2F4io&amp;srno=s_1_7&amp;otracker=search&amp;fm=organic&amp;iid=cf7b50be-4b30-4327-ad53-e7d5472b0408.MOBGTAGPGF8HJGS7.SEARCH&amp;ppt=None&amp;ppn=None&amp;ssid=nq9sahes340000001724043351749&amp;qH=1827ac0d826493c5\"><div class=\"Otbq5D\"><div class=\"yPq5Io\"><div><div class=\"_4WELSP\" style=\"height:200px;width:200px\"><img loading=\"eager\" class=\"DByuf4\" alt=\"Apple iPhone 15 (Green, 256 GB)\" src=\"https://rukminim2.flixcart.com/image/312/312/xif0q/mobile/j/z/3/-original-imagtc5fqyz8tu4c.jpeg?q=70\"/></div></div></div><div class=\"qaR90o\"><div class=\"A8uQAd\"><span class=\"Lni97G\"><label class=\"tJjCVx\"><input type=\"checkbox\" class=\"vn9L2C\" readonly=\"\"/><div class=\"XqNaEv\"></div></label></span><label class=\"uu79Xy\"><span>Add to Compare</span></label></div></div><div class=\"oUss6M ssUU08\"><div class=\"+7E521\"><svg xmlns=\"http://www.w3.org/2000/svg\" class=\"N1bADF\" width=\"16\" height=\"16\" viewBox=\"0 0 20 16\"><path d=\"M8.695 16.682C4.06 12.382 1 9.536 1 6.065 1 3.219 3.178 1 5.95 1c1.566 0 3.069.746 4.05 1.915C10.981 1.745 12.484 1 14.05 1 16.822 1 19 3.22 19 6.065c0 3.471-3.06 6.316-7.695 10.617L10 17.897l-1.305-1.215z\" fill=\"#2874F0\" class=\"x1UMqG\" stroke=\"#FFF\" fill-rule=\"evenodd\" opacity=\".9\"></path></svg></div></div></div><div class=\"yKfJKb row\"><div class=\"col col-7-12\"><div class=\"KzDlHZ\">Apple iPhone 15 (Green, 256 GB)</div><div class=\"_5OesEi\"><span id=\"productRating_LSTMOBGTAGPGF8HJGS7FKUSRQ_MOBGTAGPGF8HJGS7_\" class=\"Y1HWO0\"><div class=\"XQDdHH\">4.6<img src=\"data:image/svg+xml;base64,PHN2ZyB4bWxucz0iaHR0cDovL3d3dy53My5vcmcvMjAwMC9zdmciIHdpZHRoPSIxMyIgaGVpZ2h0PSIxMiI+PHBhdGggZmlsbD0iI0ZGRiIgZD0iTTYuNSA5LjQzOWwtMy42NzQgMi4yMy45NC00LjI2LTMuMjEtMi44ODMgNC4yNTQtLjQwNEw2LjUuMTEybDEuNjkgNC4wMSA0LjI1NC40MDQtMy4yMSAyLjg4Mi45NCA0LjI2eiIvPjwvc3ZnPg==\" class=\"Rza2QY\"/></div></span><span class=\"Wphh3N\"><span><span>47,150 Ratings\\xc2\\xa0</span><span class=\"hG7V+4\">&amp;</span><span>\\xc2\\xa02,494 Reviews</span></span></span></div><div class=\"_6NESgJ\"><ul class=\"G4BRas\"><li class=\"J+igdf\">256 GB ROM</li><li class=\"J+igdf\">15.49 cm (6.1 inch) Super Retina XDR Display</li><li class=\"J+igdf\">48MP + 12MP | 12MP Front Camera</li><li class=\"J+igdf\">A16 Bionic Chip, 6 Core Processor Processor</li><li class=\"J+igdf\">1 Year Warranty for Phone and 6 Months Warranty for In-Box Accessories</li></ul></div></div><div class=\"col col-5-12 BfVC2z\"><div class=\"cN1yYO\"><div class=\"hl05eU\"><div class=\"Nx9bqj _4b5DiR\">\\xe2\\x82\\xb975,499</div><div class=\"yRaY8j ZYYwLA\">\\xe2\\x82\\xb9<!-- -->89,600</div><div class=\"UkUFwK\"><span>15% off</span></div></div><div class=\"k6cAZE dlFt9U\"><div><div class=\"yiggsN\" style=\"color:#000000;font-size:12px;font-weight:400\">Free delivery</div></div></div></div><div class=\"_0CSTHy\"><img height=\"21\" src=\"//static-assets-web.flixcart.com/fk-p-linchpin-web/fk-cp-zion/img/fa_62673a.png\"/></div><div class=\"M4DNwV\"><div class=\"n5vj9c\"><div class=\"yiggsN O5Fpg8\" style=\"color:#26A541;font-size:12px;font-weight:700\">Daily Saver</div></div></div><div class=\"M4DNwV\"><div class=\"n5vj9c\"><div class=\"yiggsN O5Fpg8\" style=\"color:#C70055;font-size:12px;font-weight:700\">Only 4 left</div></div></div></div></div></a></div></div></div></div><div class=\"cPHDOP col-12-12\"><div class=\"_75nlfW\"><div data-id=\"MOBGTAGPXUWEXXWY\" style=\"width:100%\"><div class=\"tUxRFH\"><a class=\"CGtC98\" target=\"_blank\" rel=\"noopener noreferrer\" href=\"/apple-iphone-15-plus-pink-128-gb/p/itmecb6209a78172?pid=MOBGTAGPXUWEXXWY&amp;lid=LSTMOBGTAGPXUWEXXWYKVXCUT&amp;marketplace=FLIPKART&amp;q=iphone15&amp;store=tyy%2F4io&amp;srno=s_1_8&amp;otracker=search&amp;fm=organic&amp;iid=cf7b50be-4b30-4327-ad53-e7d5472b0408.MOBGTAGPXUWEXXWY.SEARCH&amp;ppt=None&amp;ppn=None&amp;ssid=nq9sahes340000001724043351749&amp;qH=1827ac0d826493c5\"><div class=\"Otbq5D\"><div class=\"yPq5Io\"><div><div class=\"_4WELSP\" style=\"height:200px;width:200px\"><img loading=\"eager\" class=\"DByuf4\" alt=\"Apple iPhone 15 Plus (Pink, 128 GB)\" src=\"https://rukminim2.flixcart.com/image/312/312/xif0q/mobile/c/6/r/-original-imagtc6fn8fecysv.jpeg?q=70\"/></div></div></div><div class=\"qaR90o\"><div class=\"A8uQAd\"><span class=\"Lni97G\"><label class=\"tJjCVx\"><input type=\"checkbox\" class=\"vn9L2C\" readonly=\"\"/><div class=\"XqNaEv\"></div></label></span><label class=\"uu79Xy\"><span>Add to Compare</span></label></div></div><div class=\"oUss6M ssUU08\"><div class=\"+7E521\"><svg xmlns=\"http://www.w3.org/2000/svg\" class=\"N1bADF\" width=\"16\" height=\"16\" viewBox=\"0 0 20 16\"><path d=\"M8.695 16.682C4.06 12.382 1 9.536 1 6.065 1 3.219 3.178 1 5.95 1c1.566 0 3.069.746 4.05 1.915C10.981 1.745 12.484 1 14.05 1 16.822 1 19 3.22 19 6.065c0 3.471-3.06 6.316-7.695 10.617L10 17.897l-1.305-1.215z\" fill=\"#2874F0\" class=\"x1UMqG\" stroke=\"#FFF\" fill-rule=\"evenodd\" opacity=\".9\"></path></svg></div></div></div><div class=\"yKfJKb row\"><div class=\"col col-7-12\"><div class=\"KzDlHZ\">Apple iPhone 15 Plus (Pink, 128 GB)</div><div class=\"_5OesEi\"><span id=\"productRating_LSTMOBGTAGPXUWEXXWYKVXCUT_MOBGTAGPXUWEXXWY_\" class=\"Y1HWO0\"><div class=\"XQDdHH\">4.6<img src=\"data:image/svg+xml;base64,PHN2ZyB4bWxucz0iaHR0cDovL3d3dy53My5vcmcvMjAwMC9zdmciIHdpZHRoPSIxMyIgaGVpZ2h0PSIxMiI+PHBhdGggZmlsbD0iI0ZGRiIgZD0iTTYuNSA5LjQzOWwtMy42NzQgMi4yMy45NC00LjI2LTMuMjEtMi44ODMgNC4yNTQtLjQwNEw2LjUuMTEybDEuNjkgNC4wMSA0LjI1NC40MDQtMy4yMSAyLjg4Mi45NCA0LjI2eiIvPjwvc3ZnPg==\" class=\"Rza2QY\"/></div></span><span class=\"Wphh3N\"><span><span>8,268 Ratings\\xc2\\xa0</span><span class=\"hG7V+4\">&amp;</span><span>\\xc2\\xa0664 Reviews</span></span></span></div><div class=\"_6NESgJ\"><ul class=\"G4BRas\"><li class=\"J+igdf\">128 GB ROM</li><li class=\"J+igdf\">17.02 cm (6.7 inch) Super Retina XDR Display</li><li class=\"J+igdf\">48MP + 12MP | 12MP Front Camera</li><li class=\"J+igdf\">A16 Bionic Chip, 6 Core Processor Processor</li><li class=\"J+igdf\">1 Year Warranty for Phone and 6 Months Warranty for In-Box Accessories</li></ul></div></div><div class=\"col col-5-12 BfVC2z\"><div class=\"cN1yYO\"><div class=\"hl05eU\"><div class=\"Nx9bqj _4b5DiR\">\\xe2\\x82\\xb974,499</div><div class=\"yRaY8j ZYYwLA\">\\xe2\\x82\\xb9<!-- -->89,600</div><div class=\"UkUFwK\"><span>16% off</span></div></div><div class=\"k6cAZE dlFt9U\"><div><div class=\"yiggsN\" style=\"color:#000000;font-size:12px;font-weight:400\">Free delivery</div></div></div></div><div class=\"_0CSTHy\"><img height=\"21\" src=\"//static-assets-web.flixcart.com/fk-p-linchpin-web/fk-cp-zion/img/fa_62673a.png\"/></div><div class=\"M4DNwV\"><div class=\"n5vj9c\"><div class=\"yiggsN O5Fpg8\" style=\"color:#26A541;font-size:12px;font-weight:700\">Daily Saver</div></div></div><div class=\"M4DNwV\"><div class=\"n5vj9c\"><div class=\"yiggsN O5Fpg8\" style=\"color:#C70055;font-size:12px;font-weight:700\">Only 1 left</div></div></div></div></div></a></div></div></div></div><div class=\"cPHDOP col-12-12\"><div class=\"_75nlfW\"><div data-id=\"MOBGTAGPDTKHHHZU\" style=\"width:100%\"><div class=\"tUxRFH\"><a class=\"CGtC98\" target=\"_blank\" rel=\"noopener noreferrer\" href=\"/apple-iphone-15-yellow-128-gb/p/itm825e4ad0b80ca?pid=MOBGTAGPDTKHHHZU&amp;lid=LSTMOBGTAGPDTKHHHZUTQZRMS&amp;marketplace=FLIPKART&amp;q=iphone15&amp;store=tyy%2F4io&amp;srno=s_1_9&amp;otracker=search&amp;fm=organic&amp;iid=cf7b50be-4b30-4327-ad53-e7d5472b0408.MOBGTAGPDTKHHHZU.SEARCH&amp;ppt=None&amp;ppn=None&amp;ssid=nq9sahes340000001724043351749&amp;qH=1827ac0d826493c5\"><div class=\"Otbq5D\"><div class=\"yPq5Io\"><div><div class=\"_4WELSP\" style=\"height:200px;width:200px\"><img loading=\"eager\" class=\"DByuf4\" alt=\"Apple iPhone 15 (Yellow, 128 GB)\" src=\"https://rukminim2.flixcart.com/image/312/312/xif0q/mobile/f/l/g/-original-imagtc5frtz9j7tb.jpeg?q=70\"/></div></div></div><div class=\"qaR90o\"><div class=\"A8uQAd\"><span class=\"Lni97G\"><label class=\"tJjCVx\"><input type=\"checkbox\" class=\"vn9L2C\" readonly=\"\"/><div class=\"XqNaEv\"></div></label></span><label class=\"uu79Xy\"><span>Add to Compare</span></label></div></div><div class=\"oUss6M ssUU08\"><div class=\"+7E521\"><svg xmlns=\"http://www.w3.org/2000/svg\" class=\"N1bADF\" width=\"16\" height=\"16\" viewBox=\"0 0 20 16\"><path d=\"M8.695 16.682C4.06 12.382 1 9.536 1 6.065 1 3.219 3.178 1 5.95 1c1.566 0 3.069.746 4.05 1.915C10.981 1.745 12.484 1 14.05 1 16.822 1 19 3.22 19 6.065c0 3.471-3.06 6.316-7.695 10.617L10 17.897l-1.305-1.215z\" fill=\"#2874F0\" class=\"x1UMqG\" stroke=\"#FFF\" fill-rule=\"evenodd\" opacity=\".9\"></path></svg></div></div></div><div class=\"yKfJKb row\"><div class=\"col col-7-12\"><div class=\"KzDlHZ\">Apple iPhone 15 (Yellow, 128 GB)</div><div class=\"_5OesEi\"><span id=\"productRating_LSTMOBGTAGPDTKHHHZUTQZRMS_MOBGTAGPDTKHHHZU_\" class=\"Y1HWO0\"><div class=\"XQDdHH\">4.6<img src=\"data:image/svg+xml;base64,PHN2ZyB4bWxucz0iaHR0cDovL3d3dy53My5vcmcvMjAwMC9zdmciIHdpZHRoPSIxMyIgaGVpZ2h0PSIxMiI+PHBhdGggZmlsbD0iI0ZGRiIgZD0iTTYuNSA5LjQzOWwtMy42NzQgMi4yMy45NC00LjI2LTMuMjEtMi44ODMgNC4yNTQtLjQwNEw2LjUuMTEybDEuNjkgNC4wMSA0LjI1NC40MDQtMy4yMSAyLjg4Mi45NCA0LjI2eiIvPjwvc3ZnPg==\" class=\"Rza2QY\"/></div></span><span class=\"Wphh3N\"><span><span>47,150 Ratings\\xc2\\xa0</span><span class=\"hG7V+4\">&amp;</span><span>\\xc2\\xa02,494 Reviews</span></span></span></div><div class=\"_6NESgJ\"><ul class=\"G4BRas\"><li class=\"J+igdf\">128 GB ROM</li><li class=\"J+igdf\">15.49 cm (6.1 inch) Super Retina XDR Display</li><li class=\"J+igdf\">48MP + 12MP | 12MP Front Camera</li><li class=\"J+igdf\">A16 Bionic Chip, 6 Core Processor Processor</li><li class=\"J+igdf\">1 Year Warranty for Phone and 6 Months Warranty for In-Box Accessories</li></ul></div></div><div class=\"col col-5-12 BfVC2z\"><div class=\"cN1yYO\"><div class=\"hl05eU\"><div class=\"Nx9bqj _4b5DiR\">\\xe2\\x82\\xb965,499</div><div class=\"yRaY8j ZYYwLA\">\\xe2\\x82\\xb9<!-- -->79,600</div><div class=\"UkUFwK\"><span>17% off</span></div></div><div class=\"k6cAZE dlFt9U\"><div><div class=\"yiggsN\" style=\"color:#000000;font-size:12px;font-weight:400\">Free delivery</div></div></div></div><div class=\"_0CSTHy\"><img height=\"21\" src=\"//static-assets-web.flixcart.com/fk-p-linchpin-web/fk-cp-zion/img/fa_62673a.png\"/></div><div class=\"M4DNwV\"><div class=\"n5vj9c\"><div class=\"yiggsN O5Fpg8\" style=\"color:#26A541;font-size:12px;font-weight:700\">Daily Saver</div></div></div><div class=\"M4DNwV\"><div class=\"n5vj9c\"><div class=\"yiggsN O5Fpg8\" style=\"color:#000000;font-size:14px;font-style:normal;font-weight:400\">Upto </div><div class=\"yiggsN O5Fpg8\" style=\"color:#000000;font-size:14px;font-style:normal;font-weight:700\">\\xe2\\x82\\xb942,100</div><div class=\"yiggsN O5Fpg8\" style=\"color:#000000;font-size:14px;font-style:normal;font-weight:400\"> Off on Exchange</div></div></div></div></div></a></div></div></div></div><div class=\"cPHDOP col-12-12\"><div class=\"_75nlfW\"><div data-id=\"MOBGTAGPSMHFKHT5\" style=\"width:100%\"><div class=\"tUxRFH\"><a class=\"CGtC98\" target=\"_blank\" rel=\"noopener noreferrer\" href=\"/apple-iphone-15-black-256-gb/p/itm6f0727e3e3b52?pid=MOBGTAGPSMHFKHT5&amp;lid=LSTMOBGTAGPSMHFKHT5QSQH4U&amp;marketplace=FLIPKART&amp;q=iphone15&amp;store=tyy%2F4io&amp;srno=s_1_10&amp;otracker=search&amp;fm=organic&amp;iid=cf7b50be-4b30-4327-ad53-e7d5472b0408.MOBGTAGPSMHFKHT5.SEARCH&amp;ppt=None&amp;ppn=None&amp;ssid=nq9sahes340000001724043351749&amp;qH=1827ac0d826493c5\"><div class=\"Otbq5D\"><div class=\"yPq5Io\"><div><div class=\"_4WELSP\" style=\"height:200px;width:200px\"><img loading=\"eager\" class=\"DByuf4\" alt=\"Apple iPhone 15 (Black, 256 GB)\" src=\"https://rukminim2.flixcart.com/image/312/312/xif0q/mobile/h/d/9/-original-imagtc2qzgnnuhxh.jpeg?q=70\"/></div></div></div><div class=\"qaR90o\"><div class=\"A8uQAd\"><span class=\"Lni97G\"><label class=\"tJjCVx\"><input type=\"checkbox\" class=\"vn9L2C\" readonly=\"\"/><div class=\"XqNaEv\"></div></label></span><label class=\"uu79Xy\"><span>Add to Compare</span></label></div></div><div class=\"oUss6M ssUU08\"><div class=\"+7E521\"><svg xmlns=\"http://www.w3.org/2000/svg\" class=\"N1bADF\" width=\"16\" height=\"16\" viewBox=\"0 0 20 16\"><path d=\"M8.695 16.682C4.06 12.382 1 9.536 1 6.065 1 3.219 3.178 1 5.95 1c1.566 0 3.069.746 4.05 1.915C10.981 1.745 12.484 1 14.05 1 16.822 1 19 3.22 19 6.065c0 3.471-3.06 6.316-7.695 10.617L10 17.897l-1.305-1.215z\" fill=\"#2874F0\" class=\"x1UMqG\" stroke=\"#FFF\" fill-rule=\"evenodd\" opacity=\".9\"></path></svg></div></div></div><div class=\"yKfJKb row\"><div class=\"col col-7-12\"><div class=\"KzDlHZ\">Apple iPhone 15 (Black, 256 GB)</div><div class=\"_5OesEi\"><span id=\"productRating_LSTMOBGTAGPSMHFKHT5QSQH4U_MOBGTAGPSMHFKHT5_\" class=\"Y1HWO0\"><div class=\"XQDdHH\">4.6<img src=\"data:image/svg+xml;base64,PHN2ZyB4bWxucz0iaHR0cDovL3d3dy53My5vcmcvMjAwMC9zdmciIHdpZHRoPSIxMyIgaGVpZ2h0PSIxMiI+PHBhdGggZmlsbD0iI0ZGRiIgZD0iTTYuNSA5LjQzOWwtMy42NzQgMi4yMy45NC00LjI2LTMuMjEtMi44ODMgNC4yNTQtLjQwNEw2LjUuMTEybDEuNjkgNC4wMSA0LjI1NC40MDQtMy4yMSAyLjg4Mi45NCA0LjI2eiIvPjwvc3ZnPg==\" class=\"Rza2QY\"/></div></span><span class=\"Wphh3N\"><span><span>47,150 Ratings\\xc2\\xa0</span><span class=\"hG7V+4\">&amp;</span><span>\\xc2\\xa02,494 Reviews</span></span></span></div><div class=\"_6NESgJ\"><ul class=\"G4BRas\"><li class=\"J+igdf\">256 GB ROM</li><li class=\"J+igdf\">15.49 cm (6.1 inch) Super Retina XDR Display</li><li class=\"J+igdf\">48MP + 12MP | 12MP Front Camera</li><li class=\"J+igdf\">A16 Bionic Chip, 6 Core Processor Processor</li><li class=\"J+igdf\">1 Year Warranty for Phone and 6 Months Warranty for In-Box Accessories</li></ul></div></div><div class=\"col col-5-12 BfVC2z\"><div class=\"cN1yYO\"><div class=\"hl05eU\"><div class=\"Nx9bqj _4b5DiR\">\\xe2\\x82\\xb975,499</div><div class=\"yRaY8j ZYYwLA\">\\xe2\\x82\\xb9<!-- -->89,600</div><div class=\"UkUFwK\"><span>15% off</span></div></div><div class=\"k6cAZE dlFt9U\"><div><div class=\"yiggsN\" style=\"color:#000000;font-size:12px;font-weight:400\">Free delivery</div></div></div></div><div class=\"_0CSTHy\"><img height=\"21\" src=\"//static-assets-web.flixcart.com/fk-p-linchpin-web/fk-cp-zion/img/fa_62673a.png\"/></div><div class=\"M4DNwV\"><div class=\"n5vj9c\"><div class=\"yiggsN O5Fpg8\" style=\"color:#26A541;font-size:12px;font-weight:700\">Daily Saver</div></div></div><div class=\"M4DNwV\"><div class=\"n5vj9c\"><div class=\"yiggsN O5Fpg8\" style=\"color:#C70055;font-size:12px;font-weight:700\">Only 1 left</div></div></div></div></div></a></div></div></div></div><div class=\"cPHDOP col-12-12\"><div class=\"_75nlfW\"><div data-id=\"MOBGTAGPJVGHTAYC\" style=\"width:100%\"><div class=\"tUxRFH\"><a class=\"CGtC98\" target=\"_blank\" rel=\"noopener noreferrer\" href=\"/apple-iphone-15-plus-green-128-gb/p/itmaa50abb5e6c3b?pid=MOBGTAGPJVGHTAYC&amp;lid=LSTMOBGTAGPJVGHTAYCTGIMN2&amp;marketplace=FLIPKART&amp;q=iphone15&amp;store=tyy%2F4io&amp;srno=s_1_11&amp;otracker=search&amp;fm=organic&amp;iid=cf7b50be-4b30-4327-ad53-e7d5472b0408.MOBGTAGPJVGHTAYC.SEARCH&amp;ppt=None&amp;ppn=None&amp;ssid=nq9sahes340000001724043351749&amp;qH=1827ac0d826493c5\"><div class=\"Otbq5D\"><div class=\"yPq5Io\"><div><div class=\"_4WELSP\" style=\"height:200px;width:200px\"><img loading=\"eager\" class=\"DByuf4\" alt=\"Apple iPhone 15 Plus (Green, 128 GB)\" src=\"https://rukminim2.flixcart.com/image/312/312/xif0q/mobile/6/x/t/-original-imagtc6ffhgm3f2g.jpeg?q=70\"/></div></div></div><div class=\"qaR90o\"><div class=\"A8uQAd\"><span class=\"Lni97G\"><label class=\"tJjCVx\"><input type=\"checkbox\" class=\"vn9L2C\" readonly=\"\"/><div class=\"XqNaEv\"></div></label></span><label class=\"uu79Xy\"><span>Add to Compare</span></label></div></div><div class=\"oUss6M ssUU08\"><div class=\"+7E521\"><svg xmlns=\"http://www.w3.org/2000/svg\" class=\"N1bADF\" width=\"16\" height=\"16\" viewBox=\"0 0 20 16\"><path d=\"M8.695 16.682C4.06 12.382 1 9.536 1 6.065 1 3.219 3.178 1 5.95 1c1.566 0 3.069.746 4.05 1.915C10.981 1.745 12.484 1 14.05 1 16.822 1 19 3.22 19 6.065c0 3.471-3.06 6.316-7.695 10.617L10 17.897l-1.305-1.215z\" fill=\"#2874F0\" class=\"x1UMqG\" stroke=\"#FFF\" fill-rule=\"evenodd\" opacity=\".9\"></path></svg></div></div></div><div class=\"yKfJKb row\"><div class=\"col col-7-12\"><div class=\"KzDlHZ\">Apple iPhone 15 Plus (Green, 128 GB)</div><div class=\"_5OesEi\"><span id=\"productRating_LSTMOBGTAGPJVGHTAYCTGIMN2_MOBGTAGPJVGHTAYC_\" class=\"Y1HWO0\"><div class=\"XQDdHH\">4.6<img src=\"data:image/svg+xml;base64,PHN2ZyB4bWxucz0iaHR0cDovL3d3dy53My5vcmcvMjAwMC9zdmciIHdpZHRoPSIxMyIgaGVpZ2h0PSIxMiI+PHBhdGggZmlsbD0iI0ZGRiIgZD0iTTYuNSA5LjQzOWwtMy42NzQgMi4yMy45NC00LjI2LTMuMjEtMi44ODMgNC4yNTQtLjQwNEw2LjUuMTEybDEuNjkgNC4wMSA0LjI1NC40MDQtMy4yMSAyLjg4Mi45NCA0LjI2eiIvPjwvc3ZnPg==\" class=\"Rza2QY\"/></div></span><span class=\"Wphh3N\"><span><span>8,268 Ratings\\xc2\\xa0</span><span class=\"hG7V+4\">&amp;</span><span>\\xc2\\xa0664 Reviews</span></span></span></div><div class=\"_6NESgJ\"><ul class=\"G4BRas\"><li class=\"J+igdf\">128 GB ROM</li><li class=\"J+igdf\">17.02 cm (6.7 inch) Super Retina XDR Display</li><li class=\"J+igdf\">48MP + 12MP | 12MP Front Camera</li><li class=\"J+igdf\">A16 Bionic Chip, 6 Core Processor Processor</li><li class=\"J+igdf\">1 Year Warranty for Phone and 6 Months Warranty for In-Box Accessories</li></ul></div></div><div class=\"col col-5-12 BfVC2z\"><div class=\"cN1yYO\"><div class=\"hl05eU\"><div class=\"Nx9bqj _4b5DiR\">\\xe2\\x82\\xb974,499</div><div class=\"yRaY8j ZYYwLA\">\\xe2\\x82\\xb9<!-- -->89,600</div><div class=\"UkUFwK\"><span>16% off</span></div></div><div class=\"k6cAZE dlFt9U\"><div><div class=\"yiggsN\" style=\"color:#000000;font-size:12px;font-weight:400\">Free delivery</div></div></div></div><div class=\"_0CSTHy\"><img height=\"21\" src=\"//static-assets-web.flixcart.com/fk-p-linchpin-web/fk-cp-zion/img/fa_62673a.png\"/></div><div class=\"M4DNwV\"><div class=\"n5vj9c\"><div class=\"yiggsN O5Fpg8\" style=\"color:#26A541;font-size:12px;font-weight:700\">Daily Saver</div></div></div><div class=\"M4DNwV\"><div class=\"n5vj9c\"><div class=\"yiggsN O5Fpg8\" style=\"color:#000000;font-size:14px;font-style:normal;font-weight:400\">Upto </div><div class=\"yiggsN O5Fpg8\" style=\"color:#000000;font-size:14px;font-style:normal;font-weight:700\">\\xe2\\x82\\xb942,100</div><div class=\"yiggsN O5Fpg8\" style=\"color:#000000;font-size:14px;font-style:normal;font-weight:400\"> Off on Exchange</div></div></div></div></div></a></div></div></div></div><div class=\"cPHDOP col-12-12\"><div class=\"_75nlfW\"><div data-id=\"MOBGTAGPEXNGM7BM\" style=\"width:100%\"><div class=\"tUxRFH\"><a class=\"CGtC98\" target=\"_blank\" rel=\"noopener noreferrer\" href=\"/apple-iphone-15-black-512-gb/p/itm232a6b488abe2?pid=MOBGTAGPEXNGM7BM&amp;lid=LSTMOBGTAGPEXNGM7BMOE3LR2&amp;marketplace=FLIPKART&amp;q=iphone15&amp;store=tyy%2F4io&amp;srno=s_1_12&amp;otracker=search&amp;fm=organic&amp;iid=cf7b50be-4b30-4327-ad53-e7d5472b0408.MOBGTAGPEXNGM7BM.SEARCH&amp;ppt=None&amp;ppn=None&amp;ssid=nq9sahes340000001724043351749&amp;qH=1827ac0d826493c5\"><div class=\"Otbq5D\"><div class=\"yPq5Io\"><div><div class=\"_4WELSP\" style=\"height:200px;width:200px\"><img loading=\"eager\" class=\"DByuf4\" alt=\"Apple iPhone 15 (Black, 512 GB)\" src=\"https://rukminim2.flixcart.com/image/312/312/xif0q/mobile/h/d/9/-original-imagtc2qzgnnuhxh.jpeg?q=70\"/></div></div></div><div class=\"qaR90o\"><div class=\"A8uQAd\"><span class=\"Lni97G\"><label class=\"tJjCVx\"><input type=\"checkbox\" class=\"vn9L2C\" readonly=\"\"/><div class=\"XqNaEv\"></div></label></span><label class=\"uu79Xy\"><span>Add to Compare</span></label></div></div><div class=\"oUss6M ssUU08\"><div class=\"+7E521\"><svg xmlns=\"http://www.w3.org/2000/svg\" class=\"N1bADF\" width=\"16\" height=\"16\" viewBox=\"0 0 20 16\"><path d=\"M8.695 16.682C4.06 12.382 1 9.536 1 6.065 1 3.219 3.178 1 5.95 1c1.566 0 3.069.746 4.05 1.915C10.981 1.745 12.484 1 14.05 1 16.822 1 19 3.22 19 6.065c0 3.471-3.06 6.316-7.695 10.617L10 17.897l-1.305-1.215z\" fill=\"#2874F0\" class=\"x1UMqG\" stroke=\"#FFF\" fill-rule=\"evenodd\" opacity=\".9\"></path></svg></div></div></div><div class=\"yKfJKb row\"><div class=\"col col-7-12\"><div class=\"KzDlHZ\">Apple iPhone 15 (Black, 512 GB)</div><div class=\"_5OesEi\"><span id=\"productRating_LSTMOBGTAGPEXNGM7BMOE3LR2_MOBGTAGPEXNGM7BM_\" class=\"Y1HWO0\"><div class=\"XQDdHH\">4.6<img src=\"data:image/svg+xml;base64,PHN2ZyB4bWxucz0iaHR0cDovL3d3dy53My5vcmcvMjAwMC9zdmciIHdpZHRoPSIxMyIgaGVpZ2h0PSIxMiI+PHBhdGggZmlsbD0iI0ZGRiIgZD0iTTYuNSA5LjQzOWwtMy42NzQgMi4yMy45NC00LjI2LTMuMjEtMi44ODMgNC4yNTQtLjQwNEw2LjUuMTEybDEuNjkgNC4wMSA0LjI1NC40MDQtMy4yMSAyLjg4Mi45NCA0LjI2eiIvPjwvc3ZnPg==\" class=\"Rza2QY\"/></div></span><span class=\"Wphh3N\"><span><span>47,150 Ratings\\xc2\\xa0</span><span class=\"hG7V+4\">&amp;</span><span>\\xc2\\xa02,494 Reviews</span></span></span></div><div class=\"_6NESgJ\"><ul class=\"G4BRas\"><li class=\"J+igdf\">512 GB ROM</li><li class=\"J+igdf\">15.49 cm (6.1 inch) Super Retina XDR Display</li><li class=\"J+igdf\">48MP + 12MP | 12MP Front Camera</li><li class=\"J+igdf\">A16 Bionic Chip, 6 Core Processor Processor</li><li class=\"J+igdf\">1 Year Warranty for Phone and 6 Months Warranty for In-Box Accessories</li></ul></div></div><div class=\"col col-5-12 BfVC2z\"><div class=\"cN1yYO\"><div class=\"hl05eU\"><div class=\"Nx9bqj _4b5DiR\">\\xe2\\x82\\xb995,499</div><div class=\"yRaY8j ZYYwLA\">\\xe2\\x82\\xb9<!-- -->1,09,600</div><div class=\"UkUFwK\"><span>12% off</span></div></div><div class=\"k6cAZE dlFt9U\"><div><div class=\"yiggsN\" style=\"color:#000000;font-size:12px;font-weight:400\">Free delivery</div></div></div></div><div class=\"_0CSTHy\"><img height=\"21\" src=\"//static-assets-web.flixcart.com/fk-p-linchpin-web/fk-cp-zion/img/fa_62673a.png\"/></div><div class=\"M4DNwV\"><div class=\"n5vj9c\"><div class=\"yiggsN O5Fpg8\" style=\"color:#26A541;font-size:12px;font-style:normal;font-weight:700\">Save extra with combo offers</div></div></div><div class=\"M4DNwV\"><div class=\"n5vj9c\"><div class=\"yiggsN O5Fpg8\" style=\"color:#C70055;font-size:12px;font-weight:700\">Only few left</div></div></div></div></div></a></div></div></div></div><div class=\"cPHDOP col-12-12\"><div class=\"_75nlfW\"><div data-id=\"MOBGTAGPQMKPVK7Q\" style=\"width:100%\"><div class=\"tUxRFH\"><a class=\"CGtC98\" target=\"_blank\" rel=\"noopener noreferrer\" href=\"/apple-iphone-15-blue-512-gb/p/itmbd86e796dea27?pid=MOBGTAGPQMKPVK7Q&amp;lid=LSTMOBGTAGPQMKPVK7QIE80OX&amp;marketplace=FLIPKART&amp;q=iphone15&amp;store=tyy%2F4io&amp;srno=s_1_13&amp;otracker=search&amp;fm=organic&amp;iid=cf7b50be-4b30-4327-ad53-e7d5472b0408.MOBGTAGPQMKPVK7Q.SEARCH&amp;ppt=None&amp;ppn=None&amp;ssid=nq9sahes340000001724043351749&amp;qH=1827ac0d826493c5\"><div class=\"Otbq5D\"><div class=\"yPq5Io\"><div><div class=\"_4WELSP\" style=\"height:200px;width:200px\"><img loading=\"eager\" class=\"DByuf4\" alt=\"Apple iPhone 15 (Blue, 512 GB)\" src=\"https://rukminim2.flixcart.com/image/312/312/xif0q/mobile/k/l/l/-original-imagtc5fz9spysyk.jpeg?q=70\"/></div></div></div><div class=\"qaR90o\"><div class=\"A8uQAd\"><span class=\"Lni97G\"><label class=\"tJjCVx\"><input type=\"checkbox\" class=\"vn9L2C\" readonly=\"\"/><div class=\"XqNaEv\"></div></label></span><label class=\"uu79Xy\"><span>Add to Compare</span></label></div></div><div class=\"oUss6M ssUU08\"><div class=\"+7E521\"><svg xmlns=\"http://www.w3.org/2000/svg\" class=\"N1bADF\" width=\"16\" height=\"16\" viewBox=\"0 0 20 16\"><path d=\"M8.695 16.682C4.06 12.382 1 9.536 1 6.065 1 3.219 3.178 1 5.95 1c1.566 0 3.069.746 4.05 1.915C10.981 1.745 12.484 1 14.05 1 16.822 1 19 3.22 19 6.065c0 3.471-3.06 6.316-7.695 10.617L10 17.897l-1.305-1.215z\" fill=\"#2874F0\" class=\"x1UMqG\" stroke=\"#FFF\" fill-rule=\"evenodd\" opacity=\".9\"></path></svg></div></div></div><div class=\"yKfJKb row\"><div class=\"col col-7-12\"><div class=\"KzDlHZ\">Apple iPhone 15 (Blue, 512 GB)</div><div class=\"_5OesEi\"><span id=\"productRating_LSTMOBGTAGPQMKPVK7QIE80OX_MOBGTAGPQMKPVK7Q_\" class=\"Y1HWO0\"><div class=\"XQDdHH\">4.6<img src=\"data:image/svg+xml;base64,PHN2ZyB4bWxucz0iaHR0cDovL3d3dy53My5vcmcvMjAwMC9zdmciIHdpZHRoPSIxMyIgaGVpZ2h0PSIxMiI+PHBhdGggZmlsbD0iI0ZGRiIgZD0iTTYuNSA5LjQzOWwtMy42NzQgMi4yMy45NC00LjI2LTMuMjEtMi44ODMgNC4yNTQtLjQwNEw2LjUuMTEybDEuNjkgNC4wMSA0LjI1NC40MDQtMy4yMSAyLjg4Mi45NCA0LjI2eiIvPjwvc3ZnPg==\" class=\"Rza2QY\"/></div></span><span class=\"Wphh3N\"><span><span>47,150 Ratings\\xc2\\xa0</span><span class=\"hG7V+4\">&amp;</span><span>\\xc2\\xa02,494 Reviews</span></span></span></div><div class=\"_6NESgJ\"><ul class=\"G4BRas\"><li class=\"J+igdf\">512 GB ROM</li><li class=\"J+igdf\">15.49 cm (6.1 inch) Super Retina XDR Display</li><li class=\"J+igdf\">48MP + 12MP | 12MP Front Camera</li><li class=\"J+igdf\">A16 Bionic Chip, 6 Core Processor Processor</li><li class=\"J+igdf\">1 Year Warranty for Phone and 6 Months Warranty for In-Box Accessories</li></ul></div></div><div class=\"col col-5-12 BfVC2z\"><div class=\"cN1yYO\"><div class=\"hl05eU\"><div class=\"Nx9bqj _4b5DiR\">\\xe2\\x82\\xb995,499</div><div class=\"yRaY8j ZYYwLA\">\\xe2\\x82\\xb9<!-- -->1,09,600</div><div class=\"UkUFwK\"><span>12% off</span></div></div><div class=\"k6cAZE dlFt9U\"><div><div class=\"yiggsN\" style=\"color:#000000;font-size:12px;font-weight:400\">Free delivery</div></div></div></div><div class=\"_0CSTHy\"><img height=\"21\" src=\"//static-assets-web.flixcart.com/fk-p-linchpin-web/fk-cp-zion/img/fa_62673a.png\"/></div><div class=\"M4DNwV\"><div class=\"n5vj9c\"><div class=\"yiggsN O5Fpg8\" style=\"color:#26A541;font-size:12px;font-style:normal;font-weight:700\">Save extra with combo offers</div></div></div><div class=\"M4DNwV\"><div class=\"n5vj9c\"><div class=\"yiggsN O5Fpg8\" style=\"color:#000000;font-size:14px;font-style:normal;font-weight:400\">Upto </div><div class=\"yiggsN O5Fpg8\" style=\"color:#000000;font-size:14px;font-style:normal;font-weight:700\">\\xe2\\x82\\xb942,100</div><div class=\"yiggsN O5Fpg8\" style=\"color:#000000;font-size:14px;font-style:normal;font-weight:400\"> Off on Exchange</div></div></div></div></div></a></div></div></div></div><div class=\"cPHDOP col-12-12\"><div class=\"_75nlfW\"><div data-id=\"MOBGTAGPVSMQYGZX\" style=\"width:100%\"><div class=\"tUxRFH\"><a class=\"CGtC98\" target=\"_blank\" rel=\"noopener noreferrer\" href=\"/apple-iphone-15-plus-yellow-128-gb/p/itm94bb31f2af05a?pid=MOBGTAGPVSMQYGZX&amp;lid=LSTMOBGTAGPVSMQYGZXNTFFPK&amp;marketplace=FLIPKART&amp;q=iphone15&amp;store=tyy%2F4io&amp;srno=s_1_14&amp;otracker=search&amp;fm=organic&amp;iid=cf7b50be-4b30-4327-ad53-e7d5472b0408.MOBGTAGPVSMQYGZX.SEARCH&amp;ppt=None&amp;ppn=None&amp;ssid=nq9sahes340000001724043351749&amp;qH=1827ac0d826493c5\"><div class=\"Otbq5D\"><div class=\"yPq5Io\"><div><div class=\"_4WELSP\" style=\"height:200px;width:200px\"><img loading=\"eager\" class=\"DByuf4\" alt=\"Apple iPhone 15 Plus (Yellow, 128 GB)\" src=\"https://rukminim2.flixcart.com/image/312/312/xif0q/mobile/z/0/j/-original-imagtc6fqymfzq8a.jpeg?q=70\"/></div></div></div><div class=\"qaR90o\"><div class=\"A8uQAd\"><span class=\"Lni97G\"><label class=\"tJjCVx\"><input type=\"checkbox\" class=\"vn9L2C\" readonly=\"\"/><div class=\"XqNaEv\"></div></label></span><label class=\"uu79Xy\"><span>Add to Compare</span></label></div></div><div class=\"oUss6M ssUU08\"><div class=\"+7E521\"><svg xmlns=\"http://www.w3.org/2000/svg\" class=\"N1bADF\" width=\"16\" height=\"16\" viewBox=\"0 0 20 16\"><path d=\"M8.695 16.682C4.06 12.382 1 9.536 1 6.065 1 3.219 3.178 1 5.95 1c1.566 0 3.069.746 4.05 1.915C10.981 1.745 12.484 1 14.05 1 16.822 1 19 3.22 19 6.065c0 3.471-3.06 6.316-7.695 10.617L10 17.897l-1.305-1.215z\" fill=\"#2874F0\" class=\"x1UMqG\" stroke=\"#FFF\" fill-rule=\"evenodd\" opacity=\".9\"></path></svg></div></div></div><div class=\"yKfJKb row\"><div class=\"col col-7-12\"><div class=\"KzDlHZ\">Apple iPhone 15 Plus (Yellow, 128 GB)</div><div class=\"_5OesEi\"><span id=\"productRating_LSTMOBGTAGPVSMQYGZXNTFFPK_MOBGTAGPVSMQYGZX_\" class=\"Y1HWO0\"><div class=\"XQDdHH\">4.6<img src=\"data:image/svg+xml;base64,PHN2ZyB4bWxucz0iaHR0cDovL3d3dy53My5vcmcvMjAwMC9zdmciIHdpZHRoPSIxMyIgaGVpZ2h0PSIxMiI+PHBhdGggZmlsbD0iI0ZGRiIgZD0iTTYuNSA5LjQzOWwtMy42NzQgMi4yMy45NC00LjI2LTMuMjEtMi44ODMgNC4yNTQtLjQwNEw2LjUuMTEybDEuNjkgNC4wMSA0LjI1NC40MDQtMy4yMSAyLjg4Mi45NCA0LjI2eiIvPjwvc3ZnPg==\" class=\"Rza2QY\"/></div></span><span class=\"Wphh3N\"><span><span>8,268 Ratings\\xc2\\xa0</span><span class=\"hG7V+4\">&amp;</span><span>\\xc2\\xa0664 Reviews</span></span></span></div><div class=\"_6NESgJ\"><ul class=\"G4BRas\"><li class=\"J+igdf\">128 GB ROM</li><li class=\"J+igdf\">17.02 cm (6.7 inch) Super Retina XDR Display</li><li class=\"J+igdf\">48MP + 12MP | 12MP Front Camera</li><li class=\"J+igdf\">A16 Bionic Chip, 6 Core Processor Processor</li><li class=\"J+igdf\">1 Year Warranty for Phone and 6 Months Warranty for In-Box Accessories</li></ul></div></div><div class=\"col col-5-12 BfVC2z\"><div class=\"cN1yYO\"><div class=\"hl05eU\"><div class=\"Nx9bqj _4b5DiR\">\\xe2\\x82\\xb974,499</div><div class=\"yRaY8j ZYYwLA\">\\xe2\\x82\\xb9<!-- -->89,600</div><div class=\"UkUFwK\"><span>16% off</span></div></div><div class=\"k6cAZE dlFt9U\"><div><div class=\"yiggsN\" style=\"color:#000000;font-size:12px;font-weight:400\">Free delivery</div></div></div></div><div class=\"_0CSTHy\"><img height=\"21\" src=\"//static-assets-web.flixcart.com/fk-p-linchpin-web/fk-cp-zion/img/fa_62673a.png\"/></div><div class=\"M4DNwV\"><div class=\"n5vj9c\"><div class=\"yiggsN O5Fpg8\" style=\"color:#26A541;font-size:12px;font-weight:700\">Daily Saver</div></div></div><div class=\"M4DNwV\"><div class=\"n5vj9c\"><div class=\"yiggsN O5Fpg8\" style=\"color:#000000;font-size:14px;font-style:normal;font-weight:400\">Upto </div><div class=\"yiggsN O5Fpg8\" style=\"color:#000000;font-size:14px;font-style:normal;font-weight:700\">\\xe2\\x82\\xb942,100</div><div class=\"yiggsN O5Fpg8\" style=\"color:#000000;font-size:14px;font-style:normal;font-weight:400\"> Off on Exchange</div></div></div></div></div></a></div></div></div></div><div class=\"cPHDOP col-12-12\"><div class=\"_75nlfW\"><div data-id=\"MOBGTAGPZXR7SRP6\" style=\"width:100%\"><div class=\"tUxRFH\"><a class=\"CGtC98\" target=\"_blank\" rel=\"noopener noreferrer\" href=\"/apple-iphone-15-plus-blue-256-gb/p/itm4f3e6fe529a68?pid=MOBGTAGPZXR7SRP6&amp;lid=LSTMOBGTAGPZXR7SRP6LPK3EE&amp;marketplace=FLIPKART&amp;q=iphone15&amp;store=tyy%2F4io&amp;srno=s_1_15&amp;otracker=search&amp;fm=organic&amp;iid=cf7b50be-4b30-4327-ad53-e7d5472b0408.MOBGTAGPZXR7SRP6.SEARCH&amp;ppt=None&amp;ppn=None&amp;ssid=nq9sahes340000001724043351749&amp;qH=1827ac0d826493c5\"><div class=\"Otbq5D\"><div class=\"yPq5Io\"><div><div class=\"_4WELSP\" style=\"height:200px;width:200px\"><img loading=\"eager\" class=\"DByuf4\" alt=\"Apple iPhone 15 Plus (Blue, 256 GB)\" src=\"https://rukminim2.flixcart.com/image/312/312/xif0q/mobile/1/i/x/-original-imagtc6fhhtqjnr9.jpeg?q=70\"/></div></div></div><div class=\"qaR90o\"><div class=\"A8uQAd\"><span class=\"Lni97G\"><label class=\"tJjCVx\"><input type=\"checkbox\" class=\"vn9L2C\" readonly=\"\"/><div class=\"XqNaEv\"></div></label></span><label class=\"uu79Xy\"><span>Add to Compare</span></label></div></div><div class=\"oUss6M ssUU08\"><div class=\"+7E521\"><svg xmlns=\"http://www.w3.org/2000/svg\" class=\"N1bADF\" width=\"16\" height=\"16\" viewBox=\"0 0 20 16\"><path d=\"M8.695 16.682C4.06 12.382 1 9.536 1 6.065 1 3.219 3.178 1 5.95 1c1.566 0 3.069.746 4.05 1.915C10.981 1.745 12.484 1 14.05 1 16.822 1 19 3.22 19 6.065c0 3.471-3.06 6.316-7.695 10.617L10 17.897l-1.305-1.215z\" fill=\"#2874F0\" class=\"x1UMqG\" stroke=\"#FFF\" fill-rule=\"evenodd\" opacity=\".9\"></path></svg></div></div></div><div class=\"yKfJKb row\"><div class=\"col col-7-12\"><div class=\"KzDlHZ\">Apple iPhone 15 Plus (Blue, 256 GB)</div><div class=\"_5OesEi\"><span id=\"productRating_LSTMOBGTAGPZXR7SRP6LPK3EE_MOBGTAGPZXR7SRP6_\" class=\"Y1HWO0\"><div class=\"XQDdHH\">4.6<img src=\"data:image/svg+xml;base64,PHN2ZyB4bWxucz0iaHR0cDovL3d3dy53My5vcmcvMjAwMC9zdmciIHdpZHRoPSIxMyIgaGVpZ2h0PSIxMiI+PHBhdGggZmlsbD0iI0ZGRiIgZD0iTTYuNSA5LjQzOWwtMy42NzQgMi4yMy45NC00LjI2LTMuMjEtMi44ODMgNC4yNTQtLjQwNEw2LjUuMTEybDEuNjkgNC4wMSA0LjI1NC40MDQtMy4yMSAyLjg4Mi45NCA0LjI2eiIvPjwvc3ZnPg==\" class=\"Rza2QY\"/></div></span><span class=\"Wphh3N\"><span><span>8,268 Ratings\\xc2\\xa0</span><span class=\"hG7V+4\">&amp;</span><span>\\xc2\\xa0664 Reviews</span></span></span></div><div class=\"_6NESgJ\"><ul class=\"G4BRas\"><li class=\"J+igdf\">256 GB ROM</li><li class=\"J+igdf\">17.02 cm (6.7 inch) Super Retina XDR Display</li><li class=\"J+igdf\">48MP + 12MP | 12MP Front Camera</li><li class=\"J+igdf\">A16 Bionic Chip, 6 Core Processor Processor</li><li class=\"J+igdf\">1 Year Warranty for Phone and 6 Months Warranty for In-Box Accessories</li></ul></div></div><div class=\"col col-5-12 BfVC2z\"><div class=\"cN1yYO\"><div class=\"hl05eU\"><div class=\"Nx9bqj _4b5DiR\">\\xe2\\x82\\xb984,499</div><div class=\"yRaY8j ZYYwLA\">\\xe2\\x82\\xb9<!-- -->99,600</div><div class=\"UkUFwK\"><span>15% off</span></div></div><div class=\"k6cAZE dlFt9U\"><div><div class=\"yiggsN\" style=\"color:#000000;font-size:12px;font-weight:400\">Free delivery</div></div></div></div><div class=\"_0CSTHy\"><img height=\"21\" src=\"//static-assets-web.flixcart.com/fk-p-linchpin-web/fk-cp-zion/img/fa_62673a.png\"/></div><div class=\"M4DNwV\"><div class=\"n5vj9c\"><div class=\"yiggsN O5Fpg8\" style=\"color:#26A541;font-size:12px;font-weight:700\">Daily Saver</div></div></div><div class=\"M4DNwV\"><div class=\"n5vj9c\"><div class=\"yiggsN O5Fpg8\" style=\"color:#C70055;font-size:12px;font-weight:700\">Only 1 left</div></div></div></div></div></a></div></div></div></div><div class=\"cPHDOP col-12-12\"><div class=\"_75nlfW\"><div data-id=\"MOBGTAGPASPYHVXZ\" style=\"width:100%\"><div class=\"tUxRFH\"><a class=\"CGtC98\" target=\"_blank\" rel=\"noopener noreferrer\" href=\"/apple-iphone-15-pink-512-gb/p/itm199cb71dd211d?pid=MOBGTAGPASPYHVXZ&amp;lid=LSTMOBGTAGPASPYHVXZLXR5CA&amp;marketplace=FLIPKART&amp;q=iphone15&amp;store=tyy%2F4io&amp;srno=s_1_16&amp;otracker=search&amp;fm=organic&amp;iid=cf7b50be-4b30-4327-ad53-e7d5472b0408.MOBGTAGPASPYHVXZ.SEARCH&amp;ppt=None&amp;ppn=None&amp;ssid=nq9sahes340000001724043351749&amp;qH=1827ac0d826493c5\"><div class=\"Otbq5D\"><div class=\"yPq5Io\"><div><div class=\"_4WELSP\" style=\"height:200px;width:200px\"><img loading=\"eager\" class=\"DByuf4\" alt=\"Apple iPhone 15 (Pink, 512 GB)\" src=\"https://rukminim2.flixcart.com/image/312/312/xif0q/mobile/a/c/k/-original-imagtc5fuzkvczr7.jpeg?q=70\"/></div></div></div><div class=\"qaR90o\"><div class=\"A8uQAd\"><span class=\"Lni97G\"><label class=\"tJjCVx\"><input type=\"checkbox\" class=\"vn9L2C\" readonly=\"\"/><div class=\"XqNaEv\"></div></label></span><label class=\"uu79Xy\"><span>Add to Compare</span></label></div></div><div class=\"oUss6M ssUU08\"><div class=\"+7E521\"><svg xmlns=\"http://www.w3.org/2000/svg\" class=\"N1bADF\" width=\"16\" height=\"16\" viewBox=\"0 0 20 16\"><path d=\"M8.695 16.682C4.06 12.382 1 9.536 1 6.065 1 3.219 3.178 1 5.95 1c1.566 0 3.069.746 4.05 1.915C10.981 1.745 12.484 1 14.05 1 16.822 1 19 3.22 19 6.065c0 3.471-3.06 6.316-7.695 10.617L10 17.897l-1.305-1.215z\" fill=\"#2874F0\" class=\"x1UMqG\" stroke=\"#FFF\" fill-rule=\"evenodd\" opacity=\".9\"></path></svg></div></div></div><div class=\"yKfJKb row\"><div class=\"col col-7-12\"><div class=\"KzDlHZ\">Apple iPhone 15 (Pink, 512 GB)</div><div class=\"_5OesEi\"><span id=\"productRating_LSTMOBGTAGPASPYHVXZLXR5CA_MOBGTAGPASPYHVXZ_\" class=\"Y1HWO0\"><div class=\"XQDdHH\">4.6<img src=\"data:image/svg+xml;base64,PHN2ZyB4bWxucz0iaHR0cDovL3d3dy53My5vcmcvMjAwMC9zdmciIHdpZHRoPSIxMyIgaGVpZ2h0PSIxMiI+PHBhdGggZmlsbD0iI0ZGRiIgZD0iTTYuNSA5LjQzOWwtMy42NzQgMi4yMy45NC00LjI2LTMuMjEtMi44ODMgNC4yNTQtLjQwNEw2LjUuMTEybDEuNjkgNC4wMSA0LjI1NC40MDQtMy4yMSAyLjg4Mi45NCA0LjI2eiIvPjwvc3ZnPg==\" class=\"Rza2QY\"/></div></span><span class=\"Wphh3N\"><span><span>47,150 Ratings\\xc2\\xa0</span><span class=\"hG7V+4\">&amp;</span><span>\\xc2\\xa02,494 Reviews</span></span></span></div><div class=\"_6NESgJ\"><ul class=\"G4BRas\"><li class=\"J+igdf\">512 GB ROM</li><li class=\"J+igdf\">15.49 cm (6.1 inch) Super Retina XDR Display</li><li class=\"J+igdf\">48MP + 12MP | 12MP Front Camera</li><li class=\"J+igdf\">A16 Bionic Chip, 6 Core Processor Processor</li><li class=\"J+igdf\">1 Year Warranty for Phone and 6 Months Warranty for In-Box Accessories</li></ul></div></div><div class=\"col col-5-12 BfVC2z\"><div class=\"cN1yYO\"><div class=\"hl05eU\"><div class=\"Nx9bqj _4b5DiR\">\\xe2\\x82\\xb995,499</div><div class=\"yRaY8j ZYYwLA\">\\xe2\\x82\\xb9<!-- -->1,09,600</div><div class=\"UkUFwK\"><span>12% off</span></div></div><div class=\"k6cAZE dlFt9U\"><div><div class=\"yiggsN\" style=\"color:#000000;font-size:12px;font-weight:400\">Free delivery</div></div></div></div><div class=\"_0CSTHy\"><img height=\"21\" src=\"//static-assets-web.flixcart.com/fk-p-linchpin-web/fk-cp-zion/img/fa_62673a.png\"/></div><div class=\"M4DNwV\"><div class=\"n5vj9c\"><div class=\"yiggsN O5Fpg8\" style=\"color:#26A541;font-size:12px;font-style:normal;font-weight:700\">Save extra with combo offers</div></div></div><div class=\"M4DNwV\"><div class=\"n5vj9c\"><div class=\"yiggsN O5Fpg8\" style=\"color:#000000;font-size:14px;font-style:normal;font-weight:400\">Upto </div><div class=\"yiggsN O5Fpg8\" style=\"color:#000000;font-size:14px;font-style:normal;font-weight:700\">\\xe2\\x82\\xb942,100</div><div class=\"yiggsN O5Fpg8\" style=\"color:#000000;font-size:14px;font-style:normal;font-weight:400\"> Off on Exchange</div></div></div></div></div></a></div></div></div></div><div class=\"cPHDOP col-12-12\"><div class=\"_75nlfW\"><div data-id=\"MOBGTAGPPKPQTZVZ\" style=\"width:100%\"><div class=\"tUxRFH\"><a class=\"CGtC98\" target=\"_blank\" rel=\"noopener noreferrer\" href=\"/apple-iphone-15-yellow-512-gb/p/itmb7571302e14f1?pid=MOBGTAGPPKPQTZVZ&amp;lid=LSTMOBGTAGPPKPQTZVZJEVWEZ&amp;marketplace=FLIPKART&amp;q=iphone15&amp;store=tyy%2F4io&amp;srno=s_1_17&amp;otracker=search&amp;fm=organic&amp;iid=cf7b50be-4b30-4327-ad53-e7d5472b0408.MOBGTAGPPKPQTZVZ.SEARCH&amp;ppt=None&amp;ppn=None&amp;ssid=nq9sahes340000001724043351749&amp;qH=1827ac0d826493c5\"><div class=\"Otbq5D\"><div class=\"yPq5Io\"><div><div class=\"_4WELSP\" style=\"height:200px;width:200px\"><img loading=\"eager\" class=\"DByuf4\" alt=\"Apple iPhone 15 (Yellow, 512 GB)\" src=\"https://rukminim2.flixcart.com/image/312/312/xif0q/mobile/f/l/g/-original-imagtc5frtz9j7tb.jpeg?q=70\"/></div></div></div><div class=\"qaR90o\"><div class=\"A8uQAd\"><span class=\"Lni97G\"><label class=\"tJjCVx\"><input type=\"checkbox\" class=\"vn9L2C\" readonly=\"\"/><div class=\"XqNaEv\"></div></label></span><label class=\"uu79Xy\"><span>Add to Compare</span></label></div></div><div class=\"oUss6M ssUU08\"><div class=\"+7E521\"><svg xmlns=\"http://www.w3.org/2000/svg\" class=\"N1bADF\" width=\"16\" height=\"16\" viewBox=\"0 0 20 16\"><path d=\"M8.695 16.682C4.06 12.382 1 9.536 1 6.065 1 3.219 3.178 1 5.95 1c1.566 0 3.069.746 4.05 1.915C10.981 1.745 12.484 1 14.05 1 16.822 1 19 3.22 19 6.065c0 3.471-3.06 6.316-7.695 10.617L10 17.897l-1.305-1.215z\" fill=\"#2874F0\" class=\"x1UMqG\" stroke=\"#FFF\" fill-rule=\"evenodd\" opacity=\".9\"></path></svg></div></div></div><div class=\"yKfJKb row\"><div class=\"col col-7-12\"><div class=\"KzDlHZ\">Apple iPhone 15 (Yellow, 512 GB)</div><div class=\"_5OesEi\"><span id=\"productRating_LSTMOBGTAGPPKPQTZVZJEVWEZ_MOBGTAGPPKPQTZVZ_\" class=\"Y1HWO0\"><div class=\"XQDdHH\">4.6<img src=\"data:image/svg+xml;base64,PHN2ZyB4bWxucz0iaHR0cDovL3d3dy53My5vcmcvMjAwMC9zdmciIHdpZHRoPSIxMyIgaGVpZ2h0PSIxMiI+PHBhdGggZmlsbD0iI0ZGRiIgZD0iTTYuNSA5LjQzOWwtMy42NzQgMi4yMy45NC00LjI2LTMuMjEtMi44ODMgNC4yNTQtLjQwNEw2LjUuMTEybDEuNjkgNC4wMSA0LjI1NC40MDQtMy4yMSAyLjg4Mi45NCA0LjI2eiIvPjwvc3ZnPg==\" class=\"Rza2QY\"/></div></span><span class=\"Wphh3N\"><span><span>47,150 Ratings\\xc2\\xa0</span><span class=\"hG7V+4\">&amp;</span><span>\\xc2\\xa02,494 Reviews</span></span></span></div><div class=\"_6NESgJ\"><ul class=\"G4BRas\"><li class=\"J+igdf\">512 GB ROM</li><li class=\"J+igdf\">15.49 cm (6.1 inch) Super Retina XDR Display</li><li class=\"J+igdf\">48MP + 12MP | 12MP Front Camera</li><li class=\"J+igdf\">A16 Bionic Chip, 6 Core Processor Processor</li><li class=\"J+igdf\">1 Year Warranty for Phone and 6 Months Warranty for In-Box Accessories</li></ul></div></div><div class=\"col col-5-12 BfVC2z\"><div class=\"cN1yYO\"><div class=\"hl05eU\"><div class=\"Nx9bqj _4b5DiR\">\\xe2\\x82\\xb995,499</div><div class=\"yRaY8j ZYYwLA\">\\xe2\\x82\\xb9<!-- -->1,09,600</div><div class=\"UkUFwK\"><span>12% off</span></div></div><div class=\"k6cAZE dlFt9U\"><div><div class=\"yiggsN\" style=\"color:#000000;font-size:12px;font-weight:400\">Free delivery</div></div></div></div><div class=\"_0CSTHy\"><img height=\"21\" src=\"//static-assets-web.flixcart.com/fk-p-linchpin-web/fk-cp-zion/img/fa_62673a.png\"/></div><div class=\"M4DNwV\"><div class=\"n5vj9c\"><div class=\"yiggsN O5Fpg8\" style=\"color:#26A541;font-size:12px;font-style:normal;font-weight:700\">Save extra with combo offers</div></div></div><div class=\"M4DNwV\"><div class=\"n5vj9c\"><div class=\"yiggsN O5Fpg8\" style=\"color:#000000;font-size:14px;font-style:normal;font-weight:400\">Upto </div><div class=\"yiggsN O5Fpg8\" style=\"color:#000000;font-size:14px;font-style:normal;font-weight:700\">\\xe2\\x82\\xb942,100</div><div class=\"yiggsN O5Fpg8\" style=\"color:#000000;font-size:14px;font-style:normal;font-weight:400\"> Off on Exchange</div></div></div></div></div></a></div></div></div></div><div class=\"cPHDOP col-12-12\"><div class=\"_75nlfW\"><div data-id=\"MOBGTAGPS3BZZNEW\" style=\"width:100%\"><div class=\"tUxRFH\"><a class=\"CGtC98\" target=\"_blank\" rel=\"noopener noreferrer\" href=\"/apple-iphone-15-pro-white-titanium-512-gb/p/itm1961fcda85068?pid=MOBGTAGPS3BZZNEW&amp;lid=LSTMOBGTAGPS3BZZNEWKW4RK0&amp;marketplace=FLIPKART&amp;q=iphone15&amp;store=tyy%2F4io&amp;srno=s_1_18&amp;otracker=search&amp;fm=organic&amp;iid=cf7b50be-4b30-4327-ad53-e7d5472b0408.MOBGTAGPS3BZZNEW.SEARCH&amp;ppt=None&amp;ppn=None&amp;ssid=nq9sahes340000001724043351749&amp;qH=1827ac0d826493c5\"><div class=\"Otbq5D\"><div class=\"yPq5Io\"><div><div class=\"_4WELSP\" style=\"height:200px;width:200px\"><img loading=\"eager\" class=\"DByuf4\" alt=\"Apple iPhone 15 Pro (White Titanium, 512 GB)\" src=\"https://rukminim2.flixcart.com/image/312/312/xif0q/mobile/x/m/u/-original-imagtc4hv5qhegyb.jpeg?q=70\"/></div></div><div class=\"DShtpz\"><span class=\"Y9obZf\">Coming Soon</span></div></div><div class=\"qaR90o\"><div class=\"A8uQAd\"><span class=\"Lni97G\"><label class=\"tJjCVx\"><input type=\"checkbox\" class=\"vn9L2C\" readonly=\"\"/><div class=\"XqNaEv\"></div></label></span><label class=\"uu79Xy\"><span>Add to Compare</span></label></div></div><div class=\"oUss6M ssUU08\"><div class=\"+7E521\"><svg xmlns=\"http://www.w3.org/2000/svg\" class=\"N1bADF\" width=\"16\" height=\"16\" viewBox=\"0 0 20 16\"><path d=\"M8.695 16.682C4.06 12.382 1 9.536 1 6.065 1 3.219 3.178 1 5.95 1c1.566 0 3.069.746 4.05 1.915C10.981 1.745 12.484 1 14.05 1 16.822 1 19 3.22 19 6.065c0 3.471-3.06 6.316-7.695 10.617L10 17.897l-1.305-1.215z\" fill=\"#2874F0\" class=\"x1UMqG\" stroke=\"#FFF\" fill-rule=\"evenodd\" opacity=\".9\"></path></svg></div></div></div><div class=\"yKfJKb row\"><div class=\"col col-7-12\"><div class=\"KzDlHZ\">Apple iPhone 15 Pro (White Titanium, 512 GB)</div><div class=\"_5OesEi\"><span id=\"productRating_LSTMOBGTAGPS3BZZNEWKW4RK0_MOBGTAGPS3BZZNEW_\" class=\"Y1HWO0\"><div class=\"XQDdHH\">4.7<img src=\"data:image/svg+xml;base64,PHN2ZyB4bWxucz0iaHR0cDovL3d3dy53My5vcmcvMjAwMC9zdmciIHdpZHRoPSIxMyIgaGVpZ2h0PSIxMiI+PHBhdGggZmlsbD0iI0ZGRiIgZD0iTTYuNSA5LjQzOWwtMy42NzQgMi4yMy45NC00LjI2LTMuMjEtMi44ODMgNC4yNTQtLjQwNEw2LjUuMTEybDEuNjkgNC4wMSA0LjI1NC40MDQtMy4yMSAyLjg4Mi45NCA0LjI2eiIvPjwvc3ZnPg==\" class=\"Rza2QY\"/></div></span><span class=\"Wphh3N\"><span><span>863 Ratings\\xc2\\xa0</span><span class=\"hG7V+4\">&amp;</span><span>\\xc2\\xa069 Reviews</span></span></span></div><div class=\"_6NESgJ\"><ul class=\"G4BRas\"><li class=\"J+igdf\">512 GB ROM</li><li class=\"J+igdf\">15.49 cm (6.1 inch) Super Retina XDR Display</li><li class=\"J+igdf\">48MP + 12MP + 12MP | 12MP Front Camera</li><li class=\"J+igdf\">A17 Pro Chip, 6 Core Processor Processor</li><li class=\"J+igdf\">1 Year Warranty for Phone and 6 Months Warranty for In-Box Accessories</li></ul></div></div><div class=\"col col-5-12 BfVC2z\"><div class=\"cN1yYO\"><div class=\"hl05eU\"><div class=\"Nx9bqj _4b5DiR\">\\xe2\\x82\\xb91,49,990</div><div class=\"yRaY8j ZYYwLA\">\\xe2\\x82\\xb9<!-- -->1,59,700</div><div class=\"UkUFwK\"><span>6% off</span></div></div></div><div class=\"_0CSTHy\"><img height=\"21\" src=\"//static-assets-web.flixcart.com/fk-p-linchpin-web/fk-cp-zion/img/fa_62673a.png\"/></div></div></div></a></div></div></div></div><div class=\"cPHDOP col-12-12\"><div class=\"_75nlfW\"><div data-id=\"MOBH28RGHPZJT5KK\" style=\"width:100%\"><div class=\"tUxRFH\"><a class=\"CGtC98\" target=\"_blank\" rel=\"noopener noreferrer\" href=\"/apple-iphone-15-unboxed-blue-256-gb/p/itm222dcdf8d0797?pid=MOBH28RGHPZJT5KK&amp;lid=LSTMOBH28RGHPZJT5KKF8RKD0&amp;marketplace=FLIPKART&amp;q=iphone15&amp;store=tyy%2F4io&amp;srno=s_1_19&amp;otracker=search&amp;fm=organic&amp;iid=cf7b50be-4b30-4327-ad53-e7d5472b0408.MOBH28RGHPZJT5KK.SEARCH&amp;ppt=None&amp;ppn=None&amp;ssid=nq9sahes340000001724043351749&amp;qH=1827ac0d826493c5\"><div class=\"Otbq5D\"><div class=\"yPq5Io\"><div><div class=\"_4WELSP\" style=\"height:200px;width:200px\"><img loading=\"eager\" class=\"DByuf4\" alt=\"Apple iPhone 15 - Unboxed (Blue, 256 GB)\" src=\"https://rukminim2.flixcart.com/image/312/312/xif0q/mobile/k/l/l/-original-imagtc5fz9spysyk.jpeg?q=70\"/></div></div></div><div class=\"qaR90o\"><div class=\"A8uQAd\"><span class=\"Lni97G\"><label class=\"tJjCVx\"><input type=\"checkbox\" class=\"vn9L2C\" readonly=\"\"/><div class=\"XqNaEv\"></div></label></span><label class=\"uu79Xy\"><span>Add to Compare</span></label></div></div><div class=\"oUss6M ssUU08\"><div class=\"+7E521\"><svg xmlns=\"http://www.w3.org/2000/svg\" class=\"N1bADF\" width=\"16\" height=\"16\" viewBox=\"0 0 20 16\"><path d=\"M8.695 16.682C4.06 12.382 1 9.536 1 6.065 1 3.219 3.178 1 5.95 1c1.566 0 3.069.746 4.05 1.915C10.981 1.745 12.484 1 14.05 1 16.822 1 19 3.22 19 6.065c0 3.471-3.06 6.316-7.695 10.617L10 17.897l-1.305-1.215z\" fill=\"#2874F0\" class=\"x1UMqG\" stroke=\"#FFF\" fill-rule=\"evenodd\" opacity=\".9\"></path></svg></div></div></div><div class=\"yKfJKb row\"><div class=\"col col-7-12\"><div class=\"KzDlHZ\">Apple iPhone 15 - Unboxed (Blue, 256 GB)</div><div class=\"_5OesEi\"><span id=\"productRating_LSTMOBH28RGHPZJT5KKF8RKD0_MOBH28RGHPZJT5KK_\" class=\"Y1HWO0\"><div class=\"XQDdHH\">4.6<img src=\"data:image/svg+xml;base64,PHN2ZyB4bWxucz0iaHR0cDovL3d3dy53My5vcmcvMjAwMC9zdmciIHdpZHRoPSIxMyIgaGVpZ2h0PSIxMiI+PHBhdGggZmlsbD0iI0ZGRiIgZD0iTTYuNSA5LjQzOWwtMy42NzQgMi4yMy45NC00LjI2LTMuMjEtMi44ODMgNC4yNTQtLjQwNEw2LjUuMTEybDEuNjkgNC4wMSA0LjI1NC40MDQtMy4yMSAyLjg4Mi45NCA0LjI2eiIvPjwvc3ZnPg==\" class=\"Rza2QY\"/></div></span><span class=\"Wphh3N\"><span><span>47,150 Ratings\\xc2\\xa0</span><span class=\"hG7V+4\">&amp;</span><span>\\xc2\\xa02,494 Reviews</span></span></span></div><div class=\"_6NESgJ\"><ul class=\"G4BRas\"><li class=\"J+igdf\">256 GB ROM</li><li class=\"J+igdf\">15.49 cm (6.1 inch) Super Retina XDR Display</li><li class=\"J+igdf\">48MP + 12MP | 12MP Front Camera</li><li class=\"J+igdf\">A16 Bionic Chip, 6 Core Processor Processor</li><li class=\"J+igdf\">1 Year Warranty for Phone and 6 Months Warranty for In-Box Accessories</li></ul></div></div><div class=\"col col-5-12 BfVC2z\"><div class=\"cN1yYO\"><div class=\"hl05eU\"><div class=\"Nx9bqj _4b5DiR\">\\xe2\\x82\\xb989,900</div></div><div class=\"k6cAZE dlFt9U\"><div><div class=\"yiggsN\" style=\"color:#000000;font-size:12px;font-weight:400\">Free delivery</div></div></div></div><div class=\"_0CSTHy\"><img height=\"21\" src=\"//static-assets-web.flixcart.com/fk-p-linchpin-web/fk-cp-zion/img/fa_62673a.png\"/></div><div class=\"M4DNwV\"><div class=\"n5vj9c\"><div class=\"yiggsN O5Fpg8\" style=\"color:#26A541;font-size:12px;font-style:normal;font-weight:700\">Save extra with combo offers</div></div></div><div class=\"M4DNwV\"><div class=\"n5vj9c\"><div class=\"yiggsN O5Fpg8\" style=\"color:#C70055;font-size:12px;font-weight:700\">Only 2 left</div></div></div></div></div></a></div></div></div></div><div class=\"cPHDOP col-12-12\"><div class=\"_75nlfW\"><div data-id=\"MOBGTAGPZVBANCKG\" style=\"width:100%\"><div class=\"tUxRFH\"><a class=\"CGtC98\" target=\"_blank\" rel=\"noopener noreferrer\" href=\"/apple-iphone-15-green-512-gb/p/itmc31a023efd1a3?pid=MOBGTAGPZVBANCKG&amp;lid=LSTMOBGTAGPZVBANCKGQDUOYO&amp;marketplace=FLIPKART&amp;q=iphone15&amp;store=tyy%2F4io&amp;srno=s_1_20&amp;otracker=search&amp;fm=organic&amp;iid=cf7b50be-4b30-4327-ad53-e7d5472b0408.MOBGTAGPZVBANCKG.SEARCH&amp;ppt=None&amp;ppn=None&amp;ssid=nq9sahes340000001724043351749&amp;qH=1827ac0d826493c5\"><div class=\"Otbq5D\"><div class=\"yPq5Io\"><div><div class=\"_4WELSP\" style=\"height:200px;width:200px\"><img loading=\"eager\" class=\"DByuf4\" alt=\"Apple iPhone 15 (Green, 512 GB)\" src=\"https://rukminim2.flixcart.com/image/312/312/xif0q/mobile/j/z/3/-original-imagtc5fqyz8tu4c.jpeg?q=70\"/></div></div></div><div class=\"qaR90o\"><div class=\"A8uQAd\"><span class=\"Lni97G\"><label class=\"tJjCVx\"><input type=\"checkbox\" class=\"vn9L2C\" readonly=\"\"/><div class=\"XqNaEv\"></div></label></span><label class=\"uu79Xy\"><span>Add to Compare</span></label></div></div><div class=\"oUss6M ssUU08\"><div class=\"+7E521\"><svg xmlns=\"http://www.w3.org/2000/svg\" class=\"N1bADF\" width=\"16\" height=\"16\" viewBox=\"0 0 20 16\"><path d=\"M8.695 16.682C4.06 12.382 1 9.536 1 6.065 1 3.219 3.178 1 5.95 1c1.566 0 3.069.746 4.05 1.915C10.981 1.745 12.484 1 14.05 1 16.822 1 19 3.22 19 6.065c0 3.471-3.06 6.316-7.695 10.617L10 17.897l-1.305-1.215z\" fill=\"#2874F0\" class=\"x1UMqG\" stroke=\"#FFF\" fill-rule=\"evenodd\" opacity=\".9\"></path></svg></div></div></div><div class=\"yKfJKb row\"><div class=\"col col-7-12\"><div class=\"KzDlHZ\">Apple iPhone 15 (Green, 512 GB)</div><div class=\"_5OesEi\"><span id=\"productRating_LSTMOBGTAGPZVBANCKGQDUOYO_MOBGTAGPZVBANCKG_\" class=\"Y1HWO0\"><div class=\"XQDdHH\">4.6<img src=\"data:image/svg+xml;base64,PHN2ZyB4bWxucz0iaHR0cDovL3d3dy53My5vcmcvMjAwMC9zdmciIHdpZHRoPSIxMyIgaGVpZ2h0PSIxMiI+PHBhdGggZmlsbD0iI0ZGRiIgZD0iTTYuNSA5LjQzOWwtMy42NzQgMi4yMy45NC00LjI2LTMuMjEtMi44ODMgNC4yNTQtLjQwNEw2LjUuMTEybDEuNjkgNC4wMSA0LjI1NC40MDQtMy4yMSAyLjg4Mi45NCA0LjI2eiIvPjwvc3ZnPg==\" class=\"Rza2QY\"/></div></span><span class=\"Wphh3N\"><span><span>47,150 Ratings\\xc2\\xa0</span><span class=\"hG7V+4\">&amp;</span><span>\\xc2\\xa02,494 Reviews</span></span></span></div><div class=\"_6NESgJ\"><ul class=\"G4BRas\"><li class=\"J+igdf\">512 GB ROM</li><li class=\"J+igdf\">15.49 cm (6.1 inch) Super Retina XDR Display</li><li class=\"J+igdf\">48MP + 12MP | 12MP Front Camera</li><li class=\"J+igdf\">A16 Bionic Chip, 6 Core Processor Processor</li><li class=\"J+igdf\">1 Year Warranty for Phone and 6 Months Warranty for In-Box Accessories</li></ul></div></div><div class=\"col col-5-12 BfVC2z\"><div class=\"cN1yYO\"><div class=\"hl05eU\"><div class=\"Nx9bqj _4b5DiR\">\\xe2\\x82\\xb995,499</div><div class=\"yRaY8j ZYYwLA\">\\xe2\\x82\\xb9<!-- -->1,09,600</div><div class=\"UkUFwK\"><span>12% off</span></div></div><div class=\"k6cAZE dlFt9U\"><div><div class=\"yiggsN\" style=\"color:#000000;font-size:12px;font-weight:400\">Free delivery</div></div></div></div><div class=\"_0CSTHy\"><img height=\"21\" src=\"//static-assets-web.flixcart.com/fk-p-linchpin-web/fk-cp-zion/img/fa_62673a.png\"/></div><div class=\"M4DNwV\"><div class=\"n5vj9c\"><div class=\"yiggsN O5Fpg8\" style=\"color:#26A541;font-size:12px;font-style:normal;font-weight:700\">Save extra with combo offers</div></div></div><div class=\"M4DNwV\"><div class=\"n5vj9c\"><div class=\"yiggsN O5Fpg8\" style=\"color:#000000;font-size:14px;font-style:normal;font-weight:400\">Upto </div><div class=\"yiggsN O5Fpg8\" style=\"color:#000000;font-size:14px;font-style:normal;font-weight:700\">\\xe2\\x82\\xb942,100</div><div class=\"yiggsN O5Fpg8\" style=\"color:#000000;font-size:14px;font-style:normal;font-weight:400\"> Off on Exchange</div></div></div></div></div></a></div></div></div></div><div class=\"cPHDOP col-12-12\"><div class=\"_75nlfW\"><div data-id=\"MOBGTAGP7JCP6YBB\" style=\"width:100%\"><div class=\"tUxRFH\"><a class=\"CGtC98\" target=\"_blank\" rel=\"noopener noreferrer\" href=\"/apple-iphone-15-plus-pink-512-gb/p/itme9cc36fe09419?pid=MOBGTAGP7JCP6YBB&amp;lid=LSTMOBGTAGP7JCP6YBB3TZGS0&amp;marketplace=FLIPKART&amp;q=iphone15&amp;store=tyy%2F4io&amp;spotlightTagId=TrendingId_tyy%2F4io&amp;srno=s_1_21&amp;otracker=search&amp;fm=organic&amp;iid=cf7b50be-4b30-4327-ad53-e7d5472b0408.MOBGTAGP7JCP6YBB.SEARCH&amp;ppt=None&amp;ppn=None&amp;ssid=nq9sahes340000001724043351749&amp;qH=1827ac0d826493c5\"><div></div><div class=\"Otbq5D\"><div class=\"yPq5Io\"><div><div class=\"_4WELSP\" style=\"height:200px;width:200px\"><img loading=\"eager\" class=\"DByuf4\" alt=\"Apple iPhone 15 Plus (Pink, 512 GB)\" src=\"https://rukminim2.flixcart.com/image/312/312/xif0q/mobile/c/6/r/-original-imagtc6fn8fecysv.jpeg?q=70\"/></div></div></div><div class=\"qaR90o\"><div class=\"A8uQAd\"><span class=\"Lni97G\"><label class=\"tJjCVx\"><input type=\"checkbox\" class=\"vn9L2C\" readonly=\"\"/><div class=\"XqNaEv\"></div></label></span><label class=\"uu79Xy\"><span>Add to Compare</span></label></div></div><div class=\"oUss6M ssUU08\"><div class=\"+7E521\"><svg xmlns=\"http://www.w3.org/2000/svg\" class=\"N1bADF\" width=\"16\" height=\"16\" viewBox=\"0 0 20 16\"><path d=\"M8.695 16.682C4.06 12.382 1 9.536 1 6.065 1 3.219 3.178 1 5.95 1c1.566 0 3.069.746 4.05 1.915C10.981 1.745 12.484 1 14.05 1 16.822 1 19 3.22 19 6.065c0 3.471-3.06 6.316-7.695 10.617L10 17.897l-1.305-1.215z\" fill=\"#2874F0\" class=\"x1UMqG\" stroke=\"#FFF\" fill-rule=\"evenodd\" opacity=\".9\"></path></svg></div></div></div><div class=\"yKfJKb row\"><div class=\"col col-7-12\"><div class=\"KzDlHZ\">Apple iPhone 15 Plus (Pink, 512 GB)</div><div class=\"_5OesEi\"><span id=\"productRating_LSTMOBGTAGP7JCP6YBB3TZGS0_MOBGTAGP7JCP6YBB_\" class=\"Y1HWO0\"><div class=\"XQDdHH\">4.6<img src=\"data:image/svg+xml;base64,PHN2ZyB4bWxucz0iaHR0cDovL3d3dy53My5vcmcvMjAwMC9zdmciIHdpZHRoPSIxMyIgaGVpZ2h0PSIxMiI+PHBhdGggZmlsbD0iI0ZGRiIgZD0iTTYuNSA5LjQzOWwtMy42NzQgMi4yMy45NC00LjI2LTMuMjEtMi44ODMgNC4yNTQtLjQwNEw2LjUuMTEybDEuNjkgNC4wMSA0LjI1NC40MDQtMy4yMSAyLjg4Mi45NCA0LjI2eiIvPjwvc3ZnPg==\" class=\"Rza2QY\"/></div></span><span class=\"Wphh3N\"><span><span>8,268 Ratings\\xc2\\xa0</span><span class=\"hG7V+4\">&amp;</span><span>\\xc2\\xa0664 Reviews</span></span></span></div><div class=\"_6NESgJ\"><ul class=\"G4BRas\"><li class=\"J+igdf\">512 GB ROM</li><li class=\"J+igdf\">17.02 cm (6.7 inch) Super Retina XDR Display</li><li class=\"J+igdf\">48MP + 12MP | 12MP Front Camera</li><li class=\"J+igdf\">A16 Bionic Chip, 6 Core Processor Processor</li><li class=\"J+igdf\">1 Year Warranty for Phone and 6 Months Warranty for In-Box Accessories</li></ul></div></div><div class=\"col col-5-12 BfVC2z\"><div class=\"cN1yYO\"><div class=\"hl05eU\"><div class=\"Nx9bqj _4b5DiR\">\\xe2\\x82\\xb91,04,499</div><div class=\"yRaY8j ZYYwLA\">\\xe2\\x82\\xb9<!-- -->1,19,600</div><div class=\"UkUFwK\"><span>12% off</span></div></div><div class=\"k6cAZE dlFt9U\"><div><div class=\"yiggsN\" style=\"color:#000000;font-size:12px;font-weight:400\">Free delivery</div></div></div></div><div class=\"_0CSTHy\"><img height=\"21\" src=\"//static-assets-web.flixcart.com/fk-p-linchpin-web/fk-cp-zion/img/fa_62673a.png\"/></div><div class=\"M4DNwV\"><div class=\"n5vj9c\"><div class=\"yiggsN O5Fpg8\" style=\"color:#26A541;font-size:12px;font-style:normal;font-weight:700\">Save extra with combo offers</div></div></div><div class=\"M4DNwV\"><div class=\"n5vj9c\"><div class=\"yiggsN O5Fpg8\" style=\"color:#C70055;font-size:12px;font-weight:700\">Only 1 left</div></div></div></div></div></a></div></div></div></div><div class=\"cPHDOP col-12-12\"><div class=\"_75nlfW\"><div data-id=\"MOBH28RGDGMDWZJE\" style=\"width:100%\"><div class=\"tUxRFH\"><a class=\"CGtC98\" target=\"_blank\" rel=\"noopener noreferrer\" href=\"/apple-iphone-15-unboxed-black-256-gb/p/itm6da62740b9340?pid=MOBH28RGDGMDWZJE&amp;lid=LSTMOBH28RGDGMDWZJET2ZSII&amp;marketplace=FLIPKART&amp;q=iphone15&amp;store=tyy%2F4io&amp;srno=s_1_22&amp;otracker=search&amp;fm=organic&amp;iid=cf7b50be-4b30-4327-ad53-e7d5472b0408.MOBH28RGDGMDWZJE.SEARCH&amp;ppt=None&amp;ppn=None&amp;ssid=nq9sahes340000001724043351749&amp;qH=1827ac0d826493c5\"><div class=\"Otbq5D\"><div class=\"yPq5Io\"><div><div class=\"_4WELSP\" style=\"height:200px;width:200px\"><img loading=\"eager\" class=\"DByuf4\" alt=\"Apple iPhone 15 - Unboxed (Black, 256 GB)\" src=\"https://rukminim2.flixcart.com/image/312/312/xif0q/mobile/h/d/9/-original-imagtc2qzgnnuhxh.jpeg?q=70\"/></div></div></div><div class=\"qaR90o\"><div class=\"A8uQAd\"><span class=\"Lni97G\"><label class=\"tJjCVx\"><input type=\"checkbox\" class=\"vn9L2C\" readonly=\"\"/><div class=\"XqNaEv\"></div></label></span><label class=\"uu79Xy\"><span>Add to Compare</span></label></div></div><div class=\"oUss6M ssUU08\"><div class=\"+7E521\"><svg xmlns=\"http://www.w3.org/2000/svg\" class=\"N1bADF\" width=\"16\" height=\"16\" viewBox=\"0 0 20 16\"><path d=\"M8.695 16.682C4.06 12.382 1 9.536 1 6.065 1 3.219 3.178 1 5.95 1c1.566 0 3.069.746 4.05 1.915C10.981 1.745 12.484 1 14.05 1 16.822 1 19 3.22 19 6.065c0 3.471-3.06 6.316-7.695 10.617L10 17.897l-1.305-1.215z\" fill=\"#2874F0\" class=\"x1UMqG\" stroke=\"#FFF\" fill-rule=\"evenodd\" opacity=\".9\"></path></svg></div></div></div><div class=\"yKfJKb row\"><div class=\"col col-7-12\"><div class=\"KzDlHZ\">Apple iPhone 15 - Unboxed (Black, 256 GB)</div><div class=\"_5OesEi\"><span id=\"productRating_LSTMOBH28RGDGMDWZJET2ZSII_MOBH28RGDGMDWZJE_\" class=\"Y1HWO0\"><div class=\"XQDdHH\">4.6<img src=\"data:image/svg+xml;base64,PHN2ZyB4bWxucz0iaHR0cDovL3d3dy53My5vcmcvMjAwMC9zdmciIHdpZHRoPSIxMyIgaGVpZ2h0PSIxMiI+PHBhdGggZmlsbD0iI0ZGRiIgZD0iTTYuNSA5LjQzOWwtMy42NzQgMi4yMy45NC00LjI2LTMuMjEtMi44ODMgNC4yNTQtLjQwNEw2LjUuMTEybDEuNjkgNC4wMSA0LjI1NC40MDQtMy4yMSAyLjg4Mi45NCA0LjI2eiIvPjwvc3ZnPg==\" class=\"Rza2QY\"/></div></span><span class=\"Wphh3N\"><span><span>47,150 Ratings\\xc2\\xa0</span><span class=\"hG7V+4\">&amp;</span><span>\\xc2\\xa02,494 Reviews</span></span></span></div><div class=\"_6NESgJ\"><ul class=\"G4BRas\"><li class=\"J+igdf\">256 GB ROM</li><li class=\"J+igdf\">15.49 cm (6.1 inch) Super Retina XDR Display</li><li class=\"J+igdf\">48MP + 12MP | 12MP Front Camera</li><li class=\"J+igdf\">A16 Bionic Chip, 6 Core Processor Processor</li><li class=\"J+igdf\">1 Year Warranty for Phone and 6 Months Warranty for In-Box Accessories</li></ul></div></div><div class=\"col col-5-12 BfVC2z\"><div class=\"cN1yYO\"><div class=\"hl05eU\"><div class=\"Nx9bqj _4b5DiR\">\\xe2\\x82\\xb989,900</div></div><div class=\"k6cAZE dlFt9U\"><div><div class=\"yiggsN\" style=\"color:#000000;font-size:12px;font-weight:400\">Free delivery</div></div></div></div><div class=\"_0CSTHy\"><img height=\"21\" src=\"//static-assets-web.flixcart.com/fk-p-linchpin-web/fk-cp-zion/img/fa_62673a.png\"/></div><div class=\"M4DNwV\"><div class=\"n5vj9c\"><div class=\"yiggsN O5Fpg8\" style=\"color:#26A541;font-size:12px;font-style:normal;font-weight:700\">Save extra with combo offers</div></div></div><div class=\"M4DNwV\"><div class=\"n5vj9c\"><div class=\"yiggsN O5Fpg8\" style=\"color:#C70055;font-size:12px;font-weight:700\">Only 3 left</div></div></div></div></div></a></div></div></div></div><div class=\"cPHDOP col-12-12\"><div class=\"_75nlfW\"><div data-id=\"MOBGTAGPHKDJXZJA\" style=\"width:100%\"><div class=\"tUxRFH\"><a class=\"CGtC98\" target=\"_blank\" rel=\"noopener noreferrer\" href=\"/apple-iphone-15-pro-black-titanium-256-gb/p/itm2731066ffb3cc?pid=MOBGTAGPHKDJXZJA&amp;lid=LSTMOBGTAGPHKDJXZJAZIBNQ5&amp;marketplace=FLIPKART&amp;q=iphone15&amp;store=tyy%2F4io&amp;srno=s_1_23&amp;otracker=search&amp;fm=organic&amp;iid=cf7b50be-4b30-4327-ad53-e7d5472b0408.MOBGTAGPHKDJXZJA.SEARCH&amp;ppt=None&amp;ppn=None&amp;ssid=nq9sahes340000001724043351749&amp;qH=1827ac0d826493c5\"><div class=\"Otbq5D\"><div class=\"yPq5Io\"><div><div class=\"_4WELSP\" style=\"height:200px;width:200px\"><img loading=\"eager\" class=\"DByuf4\" alt=\"Apple iPhone 15 Pro (Black Titanium, 256 GB)\" src=\"https://rukminim2.flixcart.com/image/312/312/xif0q/mobile/0/q/d/-original-imagtc4hzawdcp4g.jpeg?q=70\"/></div></div><div class=\"DShtpz\"><span class=\"Y9obZf\">Coming Soon</span></div></div><div class=\"qaR90o\"><div class=\"A8uQAd\"><span class=\"Lni97G\"><label class=\"tJjCVx\"><input type=\"checkbox\" class=\"vn9L2C\" readonly=\"\"/><div class=\"XqNaEv\"></div></label></span><label class=\"uu79Xy\"><span>Add to Compare</span></label></div></div><div class=\"oUss6M ssUU08\"><div class=\"+7E521\"><svg xmlns=\"http://www.w3.org/2000/svg\" class=\"N1bADF\" width=\"16\" height=\"16\" viewBox=\"0 0 20 16\"><path d=\"M8.695 16.682C4.06 12.382 1 9.536 1 6.065 1 3.219 3.178 1 5.95 1c1.566 0 3.069.746 4.05 1.915C10.981 1.745 12.484 1 14.05 1 16.822 1 19 3.22 19 6.065c0 3.471-3.06 6.316-7.695 10.617L10 17.897l-1.305-1.215z\" fill=\"#2874F0\" class=\"x1UMqG\" stroke=\"#FFF\" fill-rule=\"evenodd\" opacity=\".9\"></path></svg></div></div></div><div class=\"yKfJKb row\"><div class=\"col col-7-12\"><div class=\"KzDlHZ\">Apple iPhone 15 Pro (Black Titanium, 256 GB)</div><div class=\"_5OesEi\"><span id=\"productRating_LSTMOBGTAGPHKDJXZJAZIBNQ5_MOBGTAGPHKDJXZJA_\" class=\"Y1HWO0\"><div class=\"XQDdHH\">4.7<img src=\"data:image/svg+xml;base64,PHN2ZyB4bWxucz0iaHR0cDovL3d3dy53My5vcmcvMjAwMC9zdmciIHdpZHRoPSIxMyIgaGVpZ2h0PSIxMiI+PHBhdGggZmlsbD0iI0ZGRiIgZD0iTTYuNSA5LjQzOWwtMy42NzQgMi4yMy45NC00LjI2LTMuMjEtMi44ODMgNC4yNTQtLjQwNEw2LjUuMTEybDEuNjkgNC4wMSA0LjI1NC40MDQtMy4yMSAyLjg4Mi45NCA0LjI2eiIvPjwvc3ZnPg==\" class=\"Rza2QY\"/></div></span><span class=\"Wphh3N\"><span><span>863 Ratings\\xc2\\xa0</span><span class=\"hG7V+4\">&amp;</span><span>\\xc2\\xa069 Reviews</span></span></span></div><div class=\"_6NESgJ\"><ul class=\"G4BRas\"><li class=\"J+igdf\">256 GB ROM</li><li class=\"J+igdf\">15.49 cm (6.1 inch) Super Retina XDR Display</li><li class=\"J+igdf\">48MP + 12MP + 12MP | 12MP Front Camera</li><li class=\"J+igdf\">A17 Pro Chip, 6 Core Processor Processor</li><li class=\"J+igdf\">1 Year Warranty for Phone and 6 Months Warranty for In-Box Accessories</li></ul></div></div><div class=\"col col-5-12 BfVC2z\"><div class=\"cN1yYO\"><div class=\"hl05eU\"><div class=\"Nx9bqj _4b5DiR\">\\xe2\\x82\\xb91,29,990</div><div class=\"yRaY8j ZYYwLA\">\\xe2\\x82\\xb9<!-- -->1,39,800</div><div class=\"UkUFwK\"><span>7% off</span></div></div></div><div class=\"_0CSTHy\"><img height=\"21\" src=\"//static-assets-web.flixcart.com/fk-p-linchpin-web/fk-cp-zion/img/fa_62673a.png\"/></div></div></div></a></div></div></div></div><div class=\"cPHDOP col-12-12\"><div class=\"_75nlfW\"><div data-id=\"MOBGTAGPFDXBQ9BH\" style=\"width:100%\"><div class=\"tUxRFH\"><a class=\"CGtC98\" target=\"_blank\" rel=\"noopener noreferrer\" href=\"/apple-iphone-15-pink-256-gb/p/itmd205d11e1959e?pid=MOBGTAGPFDXBQ9BH&amp;lid=LSTMOBGTAGPFDXBQ9BH7PBY4G&amp;marketplace=FLIPKART&amp;q=iphone15&amp;store=tyy%2F4io&amp;srno=s_1_24&amp;otracker=search&amp;fm=organic&amp;iid=cf7b50be-4b30-4327-ad53-e7d5472b0408.MOBGTAGPFDXBQ9BH.SEARCH&amp;ppt=None&amp;ppn=None&amp;ssid=nq9sahes340000001724043351749&amp;qH=1827ac0d826493c5\"><div class=\"Otbq5D\"><div class=\"yPq5Io\"><div><div class=\"_4WELSP\" style=\"height:200px;width:200px\"><img loading=\"eager\" class=\"DByuf4\" alt=\"Apple iPhone 15 (Pink, 256 GB)\" src=\"https://rukminim2.flixcart.com/image/312/312/xif0q/mobile/a/c/k/-original-imagtc5fuzkvczr7.jpeg?q=70\"/></div></div><div class=\"DShtpz\"><span class=\"vfSpSs\">Currently unavailable</span></div></div><div class=\"qaR90o\"><div class=\"A8uQAd\"><span class=\"Lni97G\"><label class=\"tJjCVx\"><input type=\"checkbox\" class=\"vn9L2C\" readonly=\"\"/><div class=\"XqNaEv\"></div></label></span><label class=\"uu79Xy\"><span>Add to Compare</span></label></div></div><div class=\"oUss6M ssUU08\"><div class=\"+7E521\"><svg xmlns=\"http://www.w3.org/2000/svg\" class=\"N1bADF\" width=\"16\" height=\"16\" viewBox=\"0 0 20 16\"><path d=\"M8.695 16.682C4.06 12.382 1 9.536 1 6.065 1 3.219 3.178 1 5.95 1c1.566 0 3.069.746 4.05 1.915C10.981 1.745 12.484 1 14.05 1 16.822 1 19 3.22 19 6.065c0 3.471-3.06 6.316-7.695 10.617L10 17.897l-1.305-1.215z\" fill=\"#2874F0\" class=\"x1UMqG\" stroke=\"#FFF\" fill-rule=\"evenodd\" opacity=\".9\"></path></svg></div></div></div><div class=\"yKfJKb row\"><div class=\"col col-7-12\"><div class=\"KzDlHZ\">Apple iPhone 15 (Pink, 256 GB)</div><div class=\"_5OesEi\"><span id=\"productRating_LSTMOBGTAGPFDXBQ9BH7PBY4G_MOBGTAGPFDXBQ9BH_\" class=\"Y1HWO0\"><div class=\"XQDdHH\">4.6<img src=\"data:image/svg+xml;base64,PHN2ZyB4bWxucz0iaHR0cDovL3d3dy53My5vcmcvMjAwMC9zdmciIHdpZHRoPSIxMyIgaGVpZ2h0PSIxMiI+PHBhdGggZmlsbD0iI0ZGRiIgZD0iTTYuNSA5LjQzOWwtMy42NzQgMi4yMy45NC00LjI2LTMuMjEtMi44ODMgNC4yNTQtLjQwNEw2LjUuMTEybDEuNjkgNC4wMSA0LjI1NC40MDQtMy4yMSAyLjg4Mi45NCA0LjI2eiIvPjwvc3ZnPg==\" class=\"Rza2QY\"/></div></span><span class=\"Wphh3N\"><span><span>47,150 Ratings\\xc2\\xa0</span><span class=\"hG7V+4\">&amp;</span><span>\\xc2\\xa02,494 Reviews</span></span></span></div><div class=\"_6NESgJ\"><ul class=\"G4BRas\"><li class=\"J+igdf\">256 GB ROM</li><li class=\"J+igdf\">15.49 cm (6.1 inch) Super Retina XDR Display</li><li class=\"J+igdf\">48MP + 12MP | 12MP Front Camera</li><li class=\"J+igdf\">A16 Bionic Chip, 6 Core Processor Processor</li><li class=\"J+igdf\">1 Year Warranty for Phone and 6 Months Warranty for In-Box Accessories</li></ul></div></div><div class=\"col col-5-12 BfVC2z\"><div class=\"cN1yYO\"><div class=\"hl05eU\"><div class=\"Nx9bqj _4b5DiR\">\\xe2\\x82\\xb975,499</div><div class=\"yRaY8j ZYYwLA\">\\xe2\\x82\\xb9<!-- -->89,600</div><div class=\"UkUFwK\"><span>15% off</span></div></div><div class=\"k6cAZE dlFt9U\"><div><div class=\"yiggsN\" style=\"color:#000000;font-size:12px;font-weight:400\">Free delivery</div></div></div></div><div class=\"_0CSTHy\"><img height=\"21\" src=\"//static-assets-web.flixcart.com/fk-p-linchpin-web/fk-cp-zion/img/fa_62673a.png\"/></div><div class=\"M4DNwV\"><div class=\"n5vj9c\"><div class=\"yiggsN O5Fpg8\" style=\"color:#26A541;font-size:12px;font-weight:700\">Daily Saver</div></div></div><div class=\"M4DNwV\"><div class=\"n5vj9c\"><div class=\"yiggsN O5Fpg8\" style=\"color:#000000;font-size:14px;font-style:normal;font-weight:400\">Upto </div><div class=\"yiggsN O5Fpg8\" style=\"color:#000000;font-size:14px;font-style:normal;font-weight:700\">\\xe2\\x82\\xb942,100</div><div class=\"yiggsN O5Fpg8\" style=\"color:#000000;font-size:14px;font-style:normal;font-weight:400\"> Off on Exchange</div></div></div></div></div></a></div></div></div></div><div class=\"cPHDOP col-12-12\"><div><div class=\"_1G0WLw\"><span>Page 1 of 26</span><nav class=\"WSL9JP\"><a class=\"cn++Ap A1msZJ\" href=\"/search?q=iphone15&amp;page=1\">1</a><a class=\"cn++Ap\" href=\"/search?q=iphone15&amp;page=2\">2</a><a class=\"cn++Ap\" href=\"/search?q=iphone15&amp;page=3\">3</a><a class=\"cn++Ap\" href=\"/search?q=iphone15&amp;page=4\">4</a><a class=\"cn++Ap\" href=\"/search?q=iphone15&amp;page=5\">5</a><a class=\"cn++Ap\" href=\"/search?q=iphone15&amp;page=6\">6</a><a class=\"cn++Ap\" href=\"/search?q=iphone15&amp;page=7\">7</a><a class=\"cn++Ap\" href=\"/search?q=iphone15&amp;page=8\">8</a><a class=\"cn++Ap\" href=\"/search?q=iphone15&amp;page=9\">9</a><a class=\"cn++Ap\" href=\"/search?q=iphone15&amp;page=10\">10</a><a class=\"_9QVEpD\" href=\"/search?q=iphone15&amp;page=2\"><span>Next</span></a></nav><span class=\"TEAQU1\"></span></div></div></div><div class=\"cPHDOP col-12-12\" style=\"margin:10px 0px 0px 0px\"><div class=\"b5p4CI\"><span class=\"H+18AT\">Did you find what you were looking for?</span><div class=\"c6QpTS oWf9LO\"><span class=\"WZkjSk eQ1o1C\">Yes</span><span class=\"WZkjSk eQ1o1C\">No</span></div></div></div></div></div><div class=\"cPHDOP col-12-12\" style=\"padding:16px 0px 0px 0px\"><div class=\"Pg+ADy -u2ZnE row\"><div class=\"naMJjQ\">Reviews for Popular Mobiles</div><div class=\"ybB1XH\"><div class=\"MohBBj\"><div class=\"Ld8TWM\"><div class=\"_4WELSP\" style=\"height:150px;width:150px\"><img loading=\"lazy\" class=\"DByuf4\" alt=\"Apple iPhone 15 (Pink, 512 GB)\" src=\"https://rukminim2.flixcart.com/image/300/300/xif0q/mobile/a/c/k/-original-imagtc5fuzkvczr7.jpeg?q=90\"/></div></div><div class=\"_8zhCRP\"><a target=\"_blank\" rel=\"noopener noreferrer\" href=\"/apple-iphone-15-pink-512-gb/p/itm199cb71dd211d?pid=MOBGTAGPASPYHVXZ&amp;marketplace=FLIPKART\"><div class=\"kv0tEm\"><div>1. Apple iPhone 15 (Pink, 512 ...</div></div><div class=\"sRoN4i\"><div class=\"XQDdHH\">4.6<img src=\"data:image/svg+xml;base64,PHN2ZyB4bWxucz0iaHR0cDovL3d3dy53My5vcmcvMjAwMC9zdmciIHdpZHRoPSIxMyIgaGVpZ2h0PSIxMiI+PHBhdGggZmlsbD0iI0ZGRiIgZD0iTTYuNSA5LjQzOWwtMy42NzQgMi4yMy45NC00LjI2LTMuMjEtMi44ODMgNC4yNTQtLjQwNEw2LjUuMTEybDEuNjkgNC4wMSA0LjI1NC40MDQtMy4yMSAyLjg4Mi45NCA0LjI2eiIvPjwvc3ZnPg==\" class=\"Rza2QY\"/></div><span class=\"Bz-crL\"><span>47,150 Ratings</span><span><span class=\"_8O4+-w\">&amp;</span><span>2,494 Reviews</span></span></span></div><div class=\"Xrs8Tf\"><div class=\"hl05eU\"><div class=\"Nx9bqj OQ4U3k\">\\xe2\\x82\\xb995,499</div><div class=\"UkUFwK WMQHm1\"><span>12% off</span></div></div></div></a><ul class=\"akQAfe\"><li class=\"Ov4d6Q\">512 GB ROM</li><li class=\"Ov4d6Q\">15.49 cm (6.1 inch) Super Retina XDR Display</li><li class=\"Ov4d6Q\">48MP + 12MP | 12MP Front Camera</li></ul></div></div><div class=\"vQjHak\"><div class=\"VEuN0R\">Most Helpful Review</div><div class=\"col\"><div class=\"col EPCmJX xJgaqh\"><div class=\"row\"><div class=\"XQDdHH Ga3i8K\">5<img src=\"data:image/svg+xml;base64,PHN2ZyB4bWxucz0iaHR0cDovL3d3dy53My5vcmcvMjAwMC9zdmciIHdpZHRoPSIxMyIgaGVpZ2h0PSIxMiI+PHBhdGggZmlsbD0iI0ZGRiIgZD0iTTYuNSA5LjQzOWwtMy42NzQgMi4yMy45NC00LjI2LTMuMjEtMi44ODMgNC4yNTQtLjQwNEw2LjUuMTEybDEuNjkgNC4wMSA0LjI1NC40MDQtMy4yMSAyLjg4Mi45NCA0LjI2eiIvPjwvc3ZnPg==\" class=\"Rza2QY\"/></div><p class=\"z9E0IG\">Classy product</p></div><div class=\"row\"><div class=\"ZmyHeo\"><div><div class=\"\">A perfect n balanced phone \\xe2\\x9d\\xa3\\xef\\xb8\\x8f. Was thinking of switching to ios from last two years and yeah its worth buying the black beauty \\xf0\\x9f\\x96\\xa4.</div><span class=\"wTYmpv\"><span>Read full review</span></span></div></div></div><div class=\"row gHqwa8\"><div class=\"row\"><p class=\"_2NsDsF AwS1CA\">Abhijit Kumar</p><svg width=\"14\" height=\"14\" viewBox=\"0 0 12 12\" xmlns=\"http://www.w3.org/2000/svg\" class=\"VjlQyz\"><g><circle cx=\"6\" cy=\"6\" r=\"6\" fill=\"#878787\"></circle><path stroke=\"#FFF\" stroke-width=\"1.5\" d=\"M3 6l2 2 4-4\" fill=\"#878787\"></path></g></svg><p id=\"review-b8304200-4e08-49f5-bf0d-1e5e7a5d9596\" class=\"MztJPv\"><span>Certified Buyer</span></p><p class=\"_2NsDsF\">7 months ago</p></div></div></div></div></div><div class=\"vQjHak\"><div class=\"VEuN0R\">Recent Review</div><div class=\"col\"><div class=\"col EPCmJX xJgaqh\"><div class=\"row\"><div class=\"XQDdHH Ga3i8K\">4<img src=\"data:image/svg+xml;base64,PHN2ZyB4bWxucz0iaHR0cDovL3d3dy53My5vcmcvMjAwMC9zdmciIHdpZHRoPSIxMyIgaGVpZ2h0PSIxMiI+PHBhdGggZmlsbD0iI0ZGRiIgZD0iTTYuNSA5LjQzOWwtMy42NzQgMi4yMy45NC00LjI2LTMuMjEtMi44ODMgNC4yNTQtLjQwNEw2LjUuMTEybDEuNjkgNC4wMSA0LjI1NC40MDQtMy4yMSAyLjg4Mi45NCA0LjI2eiIvPjwvc3ZnPg==\" class=\"Rza2QY\"/></div><p class=\"z9E0IG\">Value-for-money</p></div><div class=\"row\"><div class=\"ZmyHeo\"><div><div class=\"\">Need to upgrade battery mah</div><span class=\"wTYmpv\"><span>Read full review</span></span></div></div></div><div class=\"row gHqwa8\"><div class=\"row\"><p class=\"_2NsDsF AwS1CA\">RAHUL KUMAR</p><svg width=\"14\" height=\"14\" viewBox=\"0 0 12 12\" xmlns=\"http://www.w3.org/2000/svg\" class=\"VjlQyz\"><g><circle cx=\"6\" cy=\"6\" r=\"6\" fill=\"#878787\"></circle><path stroke=\"#FFF\" stroke-width=\"1.5\" d=\"M3 6l2 2 4-4\" fill=\"#878787\"></path></g></svg><p id=\"review-812c1394-336a-47af-b823-709d4f27f1ad\" class=\"MztJPv\"><span>Certified Buyer</span></p><p class=\"_2NsDsF\">1 day ago</p></div></div></div></div></div></div><div class=\"ybB1XH\"><div class=\"MohBBj\"><div class=\"Ld8TWM\"><div class=\"_4WELSP\" style=\"height:150px;width:150px\"><img loading=\"lazy\" class=\"DByuf4\" alt=\"Apple iPhone 15 Plus (Pink, 512 GB)\" src=\"https://rukminim2.flixcart.com/image/300/300/xif0q/mobile/c/6/r/-original-imagtc6fn8fecysv.jpeg?q=90\"/></div></div><div class=\"_8zhCRP\"><a target=\"_blank\" rel=\"noopener noreferrer\" href=\"/apple-iphone-15-plus-pink-512-gb/p/itme9cc36fe09419?pid=MOBGTAGP7JCP6YBB&amp;marketplace=FLIPKART\"><div class=\"kv0tEm\"><div>2. Apple iPhone 15 Plus (Pink,...</div></div><div class=\"sRoN4i\"><div class=\"XQDdHH\">4.6<img src=\"data:image/svg+xml;base64,PHN2ZyB4bWxucz0iaHR0cDovL3d3dy53My5vcmcvMjAwMC9zdmciIHdpZHRoPSIxMyIgaGVpZ2h0PSIxMiI+PHBhdGggZmlsbD0iI0ZGRiIgZD0iTTYuNSA5LjQzOWwtMy42NzQgMi4yMy45NC00LjI2LTMuMjEtMi44ODMgNC4yNTQtLjQwNEw2LjUuMTEybDEuNjkgNC4wMSA0LjI1NC40MDQtMy4yMSAyLjg4Mi45NCA0LjI2eiIvPjwvc3ZnPg==\" class=\"Rza2QY\"/></div><span class=\"Bz-crL\"><span>8,268 Ratings</span><span><span class=\"_8O4+-w\">&amp;</span><span>664 Reviews</span></span></span></div><div class=\"Xrs8Tf\"><div class=\"hl05eU\"><div class=\"Nx9bqj OQ4U3k\">\\xe2\\x82\\xb91,04,499</div><div class=\"UkUFwK WMQHm1\"><span>12% off</span></div></div></div></a><ul class=\"akQAfe\"><li class=\"Ov4d6Q\">512 GB ROM</li><li class=\"Ov4d6Q\">17.02 cm (6.7 inch) Super Retina XDR Display</li><li class=\"Ov4d6Q\">48MP + 12MP | 12MP Front Camera</li></ul></div></div><div class=\"vQjHak\"><div class=\"VEuN0R\">Most Helpful Review</div><div class=\"col\"><div class=\"col EPCmJX xJgaqh\"><div class=\"row\"><div class=\"XQDdHH Ga3i8K\">5<img src=\"data:image/svg+xml;base64,PHN2ZyB4bWxucz0iaHR0cDovL3d3dy53My5vcmcvMjAwMC9zdmciIHdpZHRoPSIxMyIgaGVpZ2h0PSIxMiI+PHBhdGggZmlsbD0iI0ZGRiIgZD0iTTYuNSA5LjQzOWwtMy42NzQgMi4yMy45NC00LjI2LTMuMjEtMi44ODMgNC4yNTQtLjQwNEw2LjUuMTEybDEuNjkgNC4wMSA0LjI1NC40MDQtMy4yMSAyLjg4Mi45NCA0LjI2eiIvPjwvc3ZnPg==\" class=\"Rza2QY\"/></div><p class=\"z9E0IG\">Best in the market!</p></div><div class=\"row\"><div class=\"ZmyHeo\"><div><div class=\"\">I personally loved it.<br/>And obviously you are using this phone so u have to be extra careful.<br/>Camera battery very good</div><span class=\"wTYmpv\"><span>Read full review</span></span></div></div></div><div class=\"row gHqwa8\"><div class=\"row\"><p class=\"_2NsDsF AwS1CA\">Subhasmita Panda</p><svg width=\"14\" height=\"14\" viewBox=\"0 0 12 12\" xmlns=\"http://www.w3.org/2000/svg\" class=\"VjlQyz\"><g><circle cx=\"6\" cy=\"6\" r=\"6\" fill=\"#878787\"></circle><path stroke=\"#FFF\" stroke-width=\"1.5\" d=\"M3 6l2 2 4-4\" fill=\"#878787\"></path></g></svg><p id=\"review-24aaee1b-e9e0-4bfe-b975-fdd4915433a4\" class=\"MztJPv\"><span>Certified Buyer</span></p><p class=\"_2NsDsF\">7 months ago</p></div></div></div></div></div><div class=\"vQjHak\"><div class=\"VEuN0R\">Recent Review</div><div class=\"col\"><div class=\"col EPCmJX xJgaqh\"><div class=\"row\"><div class=\"XQDdHH Ga3i8K\">4<img src=\"data:image/svg+xml;base64,PHN2ZyB4bWxucz0iaHR0cDovL3d3dy53My5vcmcvMjAwMC9zdmciIHdpZHRoPSIxMyIgaGVpZ2h0PSIxMiI+PHBhdGggZmlsbD0iI0ZGRiIgZD0iTTYuNSA5LjQzOWwtMy42NzQgMi4yMy45NC00LjI2LTMuMjEtMi44ODMgNC4yNTQtLjQwNEw2LjUuMTEybDEuNjkgNC4wMSA0LjI1NC40MDQtMy4yMSAyLjg4Mi45NCA0LjI2eiIvPjwvc3ZnPg==\" class=\"Rza2QY\"/></div><p class=\"z9E0IG\">Pretty good</p></div><div class=\"row\"><div class=\"ZmyHeo\"><div><div class=\"\">There is no comparison between android and ios</div><span class=\"wTYmpv\"><span>Read full review</span></span></div></div></div><div class=\"row gHqwa8\"><div class=\"row\"><p class=\"_2NsDsF AwS1CA\">Rahul --</p><svg width=\"14\" height=\"14\" viewBox=\"0 0 12 12\" xmlns=\"http://www.w3.org/2000/svg\" class=\"VjlQyz\"><g><circle cx=\"6\" cy=\"6\" r=\"6\" fill=\"#878787\"></circle><path stroke=\"#FFF\" stroke-width=\"1.5\" d=\"M3 6l2 2 4-4\" fill=\"#878787\"></path></g></svg><p id=\"review-4356fb87-976b-4b90-969a-7db0f6b30cbb\" class=\"MztJPv\"><span>Certified Buyer</span></p><p class=\"_2NsDsF\">1 day ago</p></div></div></div></div></div></div><div class=\"ybB1XH\"><div class=\"MohBBj\"><div class=\"Ld8TWM\"><div class=\"_4WELSP\" style=\"height:150px;width:150px\"><img loading=\"lazy\" class=\"DByuf4\" alt=\"Apple iPhone 15 Pro (Black Titanium, 256 GB)\" src=\"https://rukminim2.flixcart.com/image/300/300/xif0q/mobile/0/q/d/-original-imagtc4hzawdcp4g.jpeg?q=90\"/></div></div><div class=\"_8zhCRP\"><a target=\"_blank\" rel=\"noopener noreferrer\" href=\"/apple-iphone-15-pro-black-titanium-256-gb/p/itm2731066ffb3cc?pid=MOBGTAGPHKDJXZJA&amp;marketplace=FLIPKART\"><div class=\"kv0tEm\"><div>3. Apple iPhone 15 Pro (Black ...</div></div><div class=\"sRoN4i\"><div class=\"XQDdHH\">4.7<img src=\"data:image/svg+xml;base64,PHN2ZyB4bWxucz0iaHR0cDovL3d3dy53My5vcmcvMjAwMC9zdmciIHdpZHRoPSIxMyIgaGVpZ2h0PSIxMiI+PHBhdGggZmlsbD0iI0ZGRiIgZD0iTTYuNSA5LjQzOWwtMy42NzQgMi4yMy45NC00LjI2LTMuMjEtMi44ODMgNC4yNTQtLjQwNEw2LjUuMTEybDEuNjkgNC4wMSA0LjI1NC40MDQtMy4yMSAyLjg4Mi45NCA0LjI2eiIvPjwvc3ZnPg==\" class=\"Rza2QY\"/></div><span class=\"Bz-crL\"><span>863 Ratings</span><span><span class=\"_8O4+-w\">&amp;</span><span>69 Reviews</span></span></span></div><div class=\"Xrs8Tf\"><div class=\"hl05eU\"><div class=\"Nx9bqj OQ4U3k\">\\xe2\\x82\\xb91,29,990</div><div class=\"UkUFwK WMQHm1\"><span>7% off</span></div></div></div></a><ul class=\"akQAfe\"><li class=\"Ov4d6Q\">256 GB ROM</li><li class=\"Ov4d6Q\">15.49 cm (6.1 inch) Super Retina XDR Display</li><li class=\"Ov4d6Q\">48MP + 12MP + 12MP | 12MP Front Camera</li></ul></div></div><div class=\"vQjHak\"><div class=\"VEuN0R\">Most Helpful Review</div><div class=\"col\"><div class=\"col EPCmJX xJgaqh\"><div class=\"row\"><div class=\"XQDdHH Ga3i8K\">5<img src=\"data:image/svg+xml;base64,PHN2ZyB4bWxucz0iaHR0cDovL3d3dy53My5vcmcvMjAwMC9zdmciIHdpZHRoPSIxMyIgaGVpZ2h0PSIxMiI+PHBhdGggZmlsbD0iI0ZGRiIgZD0iTTYuNSA5LjQzOWwtMy42NzQgMi4yMy45NC00LjI2LTMuMjEtMi44ODMgNC4yNTQtLjQwNEw2LjUuMTEybDEuNjkgNC4wMSA0LjI1NC40MDQtMy4yMSAyLjg4Mi45NCA0LjI2eiIvPjwvc3ZnPg==\" class=\"Rza2QY\"/></div><p class=\"z9E0IG\">Fabulous!</p></div><div class=\"row\"><div class=\"ZmyHeo\"><div><div class=\"\">Extremely Happy with my 15pro mobile,,\\xf0\\x9f\\x98\\x8athanq seller n Flipkart for the fast delivery</div><span class=\"wTYmpv\"><span>Read full review</span></span></div></div></div><div class=\"row gHqwa8\"><div class=\"row\"><p class=\"_2NsDsF AwS1CA\">Dr priyanka L priyanka</p><svg width=\"14\" height=\"14\" viewBox=\"0 0 12 12\" xmlns=\"http://www.w3.org/2000/svg\" class=\"VjlQyz\"><g><circle cx=\"6\" cy=\"6\" r=\"6\" fill=\"#878787\"></circle><path stroke=\"#FFF\" stroke-width=\"1.5\" d=\"M3 6l2 2 4-4\" fill=\"#878787\"></path></g></svg><p id=\"review-24b9bfde-87bd-4aa8-a271-b4898e4b05ce\" class=\"MztJPv\"><span>Certified Buyer</span></p><p class=\"_2NsDsF\">9 months ago</p></div></div></div></div></div><div class=\"vQjHak\"><div class=\"VEuN0R\">Recent Review</div><div class=\"col\"><div class=\"col EPCmJX xJgaqh\"><div class=\"row\"><div class=\"XQDdHH Ga3i8K\">5<img src=\"data:image/svg+xml;base64,PHN2ZyB4bWxucz0iaHR0cDovL3d3dy53My5vcmcvMjAwMC9zdmciIHdpZHRoPSIxMyIgaGVpZ2h0PSIxMiI+PHBhdGggZmlsbD0iI0ZGRiIgZD0iTTYuNSA5LjQzOWwtMy42NzQgMi4yMy45NC00LjI2LTMuMjEtMi44ODMgNC4yNTQtLjQwNEw2LjUuMTEybDEuNjkgNC4wMSA0LjI1NC40MDQtMy4yMSAyLjg4Mi45NCA0LjI2eiIvPjwvc3ZnPg==\" class=\"Rza2QY\"/></div><p class=\"z9E0IG\">Highly recommended</p></div><div class=\"row\"><div class=\"ZmyHeo\"><div><div class=\"\">Nice product, good features , really nice product <br/>Good one product</div><span class=\"wTYmpv\"><span>Read full review</span></span></div></div></div><div class=\"row gHqwa8\"><div class=\"row\"><p class=\"_2NsDsF AwS1CA\">Abhinav Kumar</p><svg width=\"14\" height=\"14\" viewBox=\"0 0 12 12\" xmlns=\"http://www.w3.org/2000/svg\" class=\"VjlQyz\"><g><circle cx=\"6\" cy=\"6\" r=\"6\" fill=\"#878787\"></circle><path stroke=\"#FFF\" stroke-width=\"1.5\" d=\"M3 6l2 2 4-4\" fill=\"#878787\"></path></g></svg><p id=\"review-59d01386-6f02-4dc3-b0cc-97131c9097eb\" class=\"MztJPv\"><span>Certified Buyer</span></p><p class=\"_2NsDsF\">23 days ago</p></div></div></div></div></div></div></div></div><div class=\"cPHDOP col-12-12\"></div></div><footer class=\"+NQyZq\"><div class=\"xLsVdV\"><div class=\"row\"><div class=\"col gu12 QVgdtd\"></div></div><div><div class=\"_8K2S+t row\"><div class=\"bowO0w\"><div class=\"AZc3lB\">ABOUT</div><a href=\"/helpcentre?otracker=undefined_footer_navlinks\" class=\"bXmsT+\">Contact Us</a><a href=\"https://corporate.flipkart.net/corporate-home\" class=\"bXmsT+\">About Us</a><a href=\"https://www.flipkartcareers.com/?otracker=undefined_footer_navlinks\" class=\"bXmsT+\">Careers</a><a href=\"http://stories.flipkart.com/?otracker=undefined_footer_navlinks\" class=\"bXmsT+\">Flipkart Stories</a><a href=\"http://stories.flipkart.com/category/top-stories/news/\" class=\"bXmsT+\">Press</a><a href=\"/corporate-information\" class=\"bXmsT+\">Corporate Information</a></div><div class=\"bowO0w\"><div class=\"AZc3lB\">GROUP COMPANIES</div><a href=\"https://www.myntra.com/\" target=\"_blank\" title=\"Myntra\" class=\"bXmsT+\" rel=\"noopener noreferrer\">Myntra</a><a href=\"https://www.cleartrip.com/\" target=\"_blank\" title=\"Cleartrip: #1 Site for Booking Flights Tickets, Buses &amp; Hotels Online\" class=\"bXmsT+\" rel=\"noopener noreferrer\">Cleartrip</a><a href=\"https://www.shopsy.in/\" target=\"_blank\" title=\"Shopsy\" class=\"bXmsT+\" rel=\"noopener noreferrer\">Shopsy</a></div><div class=\"bowO0w\"><div class=\"AZc3lB\">HELP</div><a href=\"/pages/payments\" class=\"bXmsT+\">Payments</a><a href=\"/pages/shipping\" class=\"bXmsT+\">Shipping</a><a href=\"/helpcentre?catalog=55c9c6edb000002e002c1701&amp;view=CATALOG\" class=\"bXmsT+\">Cancellation &amp; Returns</a><a href=\"/helpcentre?catalog=55c9c8e2b0000023002c1702&amp;view=CATALOG\" class=\"bXmsT+\">FAQ</a><a href=\"https://seller.flipkart.com/fiv?otracker=undefined_footer_navlinks\" class=\"bXmsT+\">Report Infringement</a></div><div class=\"bowO0w\"><div class=\"AZc3lB\">CONSUMER POLICY</div><a href=\"/pages/returnpolicy?otracker=undefined_footer_navlinks\" class=\"bXmsT+\">Cancellation &amp; Returns</a><a href=\"/pages/terms?otracker=undefined_footer_navlinks\" class=\"bXmsT+\">Terms Of Use</a><a href=\"/pages/paymentsecurity?otracker=undefined_footer_navlinks\" class=\"bXmsT+\">Security</a><a href=\"/pages/privacypolicy?otracker=undefined_footer_navlinks\" class=\"bXmsT+\">Privacy</a><a href=\"/sitemap?otracker=undefined_footer_navlinks\" class=\"bXmsT+\">Sitemap</a><a href=\"/pages/grievance-redressal-mechanism?otracker=undefined_footer_navlinks\" class=\"bXmsT+\">Grievance Redressal</a><a href=\"/pages/ewaste-compliance-tnc?otracker=undefined_footer_navlinks\" class=\"bXmsT+\">EPR Compliance</a></div><div class=\"bowO0w address\"><div class=\"_8W+7ID\"><div class=\"AZc3lB\"><span>Mail Us:</span></div><div class=\"iE4xEP\"><div class=\"aL22KS\"><div class=\"KalC6f iE4xEP\"><p>Flipkart Internet Private Limited, </p>\\n<p> Buildings Alyssa, Begonia &amp; </p>\\n<p> Clove Embassy Tech Village, </p>\\n<p> Outer Ring Road, Devarabeesanahalli Village, </p>\\n<p> Bengaluru, 560103, </p>\\n<p> Karnataka, India</p>\\n</div></div></div><div class=\"AZc3lB\">Social</div><div class=\"mK8LcN\"><span class=\"RbqUpy\"><a href=\"https://www.facebook.com/flipkart\"><img src=\"data:image/svg+xml;base64,PHN2ZyB3aWR0aD0iMjUiIGhlaWdodD0iMjQiIHZpZXdCb3g9IjAgMCAyNSAyNCIgZmlsbD0ibm9uZSIgeG1sbnM9Imh0dHA6Ly93d3cudzMub3JnLzIwMDAvc3ZnIj4KPHBhdGggZD0iTTEyLjkzMzEgMjFDMTcuOTAzNyAyMSAyMS45MzMxIDE2Ljk3MDYgMjEuOTMzMSAxMkMyMS45MzMxIDcuMDI5NDQgMTcuOTAzNyAzIDEyLjkzMzEgM0M3Ljk2MjU0IDMgMy45MzMxMSA3LjAyOTQ0IDMuOTMzMTEgMTJDMy45MzMxMSAxNi45NzA2IDcuOTYyNTQgMjEgMTIuOTMzMSAyMVoiIHN0cm9rZT0id2hpdGUiIHN0cm9rZS13aWR0aD0iMS41IiBzdHJva2UtbGluZWNhcD0icm91bmQiIHN0cm9rZS1saW5lam9pbj0icm91bmQiLz4KPHBhdGggZD0iTTE2LjY4MzEgOC4yNUgxNS4xODMxQzE0LjU4NjQgOC4yNSAxNC4wMTQxIDguNDg3MDUgMTMuNTkyMSA4LjkwOTAxQzEzLjE3MDIgOS4zMzA5NyAxMi45MzMxIDkuOTAzMjYgMTIuOTMzMSAxMC41VjIxIiBzdHJva2U9IndoaXRlIiBzdHJva2Utd2lkdGg9IjEuNSIgc3Ryb2tlLWxpbmVjYXA9InJvdW5kIiBzdHJva2UtbGluZWpvaW49InJvdW5kIi8+CjxwYXRoIGQ9Ik05LjkzMzExIDEzLjVIMTUuOTMzMSIgc3Ryb2tlPSJ3aGl0ZSIgc3Ryb2tlLXdpZHRoPSIxLjUiIHN0cm9rZS1saW5lY2FwPSJyb3VuZCIgc3Ryb2tlLWxpbmVqb2luPSJyb3VuZCIvPgo8L3N2Zz4K\" height=\"24\" width=\"24\"/></a></span><span class=\"RbqUpy\"><a href=\"https://www.twitter.com/flipkart\"><img src=\"data:image/svg+xml;base64,PHN2ZyB3aWR0aD0iMjQiIGhlaWdodD0iMjQiIHZpZXdCb3g9IjAgMCAyNCAyNCIgZmlsbD0ibm9uZSIgeG1sbnM9Imh0dHA6Ly93d3cudzMub3JnLzIwMDAvc3ZnIj4KPGcgY2xpcC1wYXRoPSJ1cmwoI2NsaXAwXzE4M18yMCkiPgo8cGF0aCBkPSJNMTMuNTQzNiAxMC42MTc5TDIwLjA5NzEgM0gxOC41NDQxTDEyLjg1MzcgOS42MTQ0OEw4LjMwODg3IDNIMy4wNjY4OUw5LjkzOTY0IDEzLjAwMjNMMy4wNjY4OSAyMC45OTA4SDQuNjE5OTRMMTAuNjI5MSAxNC4wMDU2TDE1LjQyODggMjAuOTkwOEgyMC42NzA4TDEzLjU0MzIgMTAuNjE3OUgxMy41NDM2Wk0xMS40MTY1IDEzLjA5MDRMMTAuNzIwMiAxMi4wOTQ0TDUuMTc5NTMgNC4xNjkxMUg3LjU2NDkxTDEyLjAzNjMgMTAuNTY1MUwxMi43MzI2IDExLjU2MTFMMTguNTQ0OCAxOS44NzQ4SDE2LjE1OTVMMTEuNDE2NSAxMy4wOTA4VjEzLjA5MDRaIiBmaWxsPSJ3aGl0ZSIvPgo8L2c+CjxkZWZzPgo8Y2xpcFBhdGggaWQ9ImNsaXAwXzE4M18yMCI+CjxyZWN0IHg9IjMuMDY2ODkiIHk9IjMiIHdpZHRoPSIxNy42MDM5IiBoZWlnaHQ9IjE4IiByeD0iMC4yIiBmaWxsPSJ3aGl0ZSIvPgo8L2NsaXBQYXRoPgo8L2RlZnM+Cjwvc3ZnPgo=\" height=\"24\" width=\"24\"/></a></span><span class=\"RbqUpy\"><a href=\"https://www.youtube.com/flipkart\"><img src=\"//static-assets-web.flixcart.com/fk-p-linchpin-web/fk-cp-zion/img/YoutubeLogo_958b78.svg\" height=\"24\" width=\"24\"/></a></span></div></div></div><div class=\"bowO0w address\"><div class=\"QYRYF-\"><div class=\"AZc3lB\"><span>Registered Office Address:</span></div><div class=\"iE4xEP\"><div class=\"aL22KS\"><div class=\"KalC6f iE4xEP\"><p>Flipkart Internet Private Limited, </p>\\n<p> Buildings Alyssa, Begonia &amp; </p>\\n<p> Clove Embassy Tech Village, </p>\\n<p> Outer Ring Road, Devarabeesanahalli Village, </p>\\n<p> Bengaluru, 560103, </p>\\n<p> Karnataka, India </p>\\n<p> CIN : U51109KA2012PTC066107 </p>\\n<p> Telephone: <a href=\"tel:044-45614700\">044-45614700</a> / <a href=\"tel:044-67415800\">044-67415800</a></p>\\n</div></div></div></div></div></div><div><div class=\"pXtEV2\"><div><img src=\"data:image/svg+xml;base64,PHN2ZyB4bWxucz0iaHR0cDovL3d3dy53My5vcmcvMjAwMC9zdmciIHdpZHRoPSIxNiIgaGVpZ2h0PSIxNSIgdmlld0JveD0iMCAwIDE2IDE1Ij4KICAgIDxkZWZzPgogICAgICAgIDxsaW5lYXJHcmFkaWVudCBpZD0iYSIgeDE9IjAlIiB4Mj0iODYuODc2JSIgeTE9IjAlIiB5Mj0iODAuMjAyJSI+CiAgICAgICAgICAgIDxzdG9wIG9mZnNldD0iMCUiIHN0b3AtY29sb3I9IiNGRkQ4MDAiLz4KICAgICAgICAgICAgPHN0b3Agb2Zmc2V0PSIxMDAlIiBzdG9wLWNvbG9yPSIjRkZBRjAwIi8+CiAgICAgICAgPC9saW5lYXJHcmFkaWVudD4KICAgIDwvZGVmcz4KICAgIDxnIGZpbGw9Im5vbmUiIGZpbGwtcnVsZT0iZXZlbm9kZCI+CiAgICAgICAgPHBhdGggZD0iTS0yLTJoMjB2MjBILTJ6Ii8+CiAgICAgICAgPHBhdGggZmlsbD0idXJsKCNhKSIgZmlsbC1ydWxlPSJub256ZXJvIiBkPSJNMTUuOTMgNS42MTRoLTIuOTQ4VjQuMTRjMC0uODE4LS42NTUtMS40NzMtMS40NzMtMS40NzNIOC41NmMtLjgxNyAwLTEuNDczLjY1NS0xLjQ3MyAxLjQ3M3YxLjQ3NEg0LjE0Yy0uODE4IDAtMS40NjYuNjU2LTEuNDY2IDEuNDc0bC0uMDA3IDguMTA1YzAgLjgxOC42NTUgMS40NzQgMS40NzMgMS40NzRoMTEuNzljLjgxOCAwIDEuNDc0LS42NTYgMS40NzQtMS40NzRWNy4wODhjMC0uODE4LS42NTYtMS40NzQtMS40NzQtMS40NzR6bS00LjQyMSAwSDguNTZWNC4xNGgyLjk0OHYxLjQ3NHoiIHRyYW5zZm9ybT0idHJhbnNsYXRlKC0yIC0yKSIvPgogICAgPC9nPgo8L3N2Zz4K\"/><a href=\"https://seller.flipkart.com/?utm_source=fkwebsite&amp;utm_medium=websitedirect\"><span class=\"XqVBP0\">Become a Seller</span></a></div><div><img src=\"data:image/svg+xml;base64,PHN2ZyB4bWxucz0iaHR0cDovL3d3dy53My5vcmcvMjAwMC9zdmciIHdpZHRoPSIxNSIgaGVpZ2h0PSIxNSIgdmlld0JveD0iMCAwIDE1IDE1Ij4KICAgIDxkZWZzPgogICAgICAgIDxsaW5lYXJHcmFkaWVudCBpZD0iYSIgeDE9IjAlIiB4Mj0iODYuODc2JSIgeTE9IjAlIiB5Mj0iODAuMjAyJSI+CiAgICAgICAgICAgIDxzdG9wIG9mZnNldD0iMCUiIHN0b3AtY29sb3I9IiNGRkQ4MDAiLz4KICAgICAgICAgICAgPHN0b3Agb2Zmc2V0PSIxMDAlIiBzdG9wLWNvbG9yPSIjRkZBRjAwIi8+CiAgICAgICAgPC9saW5lYXJHcmFkaWVudD4KICAgIDwvZGVmcz4KICAgIDxnIGZpbGw9Im5vbmUiIGZpbGwtcnVsZT0iZXZlbm9kZCI+CiAgICAgICAgPHBhdGggZD0iTS0zLTNoMjB2MjBILTN6Ii8+CiAgICAgICAgPHBhdGggZmlsbD0idXJsKCNhKSIgZmlsbC1ydWxlPSJub256ZXJvIiBkPSJNMTAuNDkyIDNDNi4zNTMgMyAzIDYuMzYgMyAxMC41YzAgNC4xNCAzLjM1MyA3LjUgNy40OTIgNy41QzE0LjY0IDE4IDE4IDE0LjY0IDE4IDEwLjUgMTggNi4zNiAxNC42NCAzIDEwLjQ5MiAzem0zLjE4IDEyTDEwLjUgMTMuMDg4IDcuMzI3IDE1bC44NC0zLjYwN0w1LjM3IDguOTdsMy42OS0uMzE1TDEwLjUgNS4yNWwxLjQ0IDMuMzk4IDMuNjkuMzE1LTIuNzk4IDIuNDIyLjg0IDMuNjE1eiIgdHJhbnNmb3JtPSJ0cmFuc2xhdGUoLTMgLTMpIi8+CiAgICA8L2c+Cjwvc3ZnPgo=\"/><a href=\"https://brands.flipkart.com\"><span class=\"XqVBP0\">Advertise</span></a></div><div><img src=\"data:image/svg+xml;base64,PHN2ZyB4bWxucz0iaHR0cDovL3d3dy53My5vcmcvMjAwMC9zdmciIHdpZHRoPSIxOCIgaGVpZ2h0PSIxNyIgdmlld0JveD0iMCAwIDE4IDE3Ij4KICAgIDxkZWZzPgogICAgICAgIDxsaW5lYXJHcmFkaWVudCBpZD0iYSIgeDE9IjAlIiB4Mj0iODYuODc2JSIgeTE9IjAlIiB5Mj0iODAuMjAyJSI+CiAgICAgICAgICAgIDxzdG9wIG9mZnNldD0iMCUiIHN0b3AtY29sb3I9IiNGRkQ4MDAiLz4KICAgICAgICAgICAgPHN0b3Agb2Zmc2V0PSIxMDAlIiBzdG9wLWNvbG9yPSIjRkZBRjAwIi8+CiAgICAgICAgPC9saW5lYXJHcmFkaWVudD4KICAgIDwvZGVmcz4KICAgIDxnIGZpbGw9Im5vbmUiIGZpbGwtcnVsZT0iZXZlbm9kZCI+CiAgICAgICAgPHBhdGggZD0iTS0xLTFoMjB2MjBILTF6Ii8+CiAgICAgICAgPHBhdGggZmlsbD0idXJsKCNhKSIgZmlsbC1ydWxlPSJub256ZXJvIiBkPSJNMTYuNjY3IDVIMTQuODVjLjA5Mi0uMjU4LjE1LS41NDIuMTUtLjgzM2EyLjQ5NyAyLjQ5NyAwIDAgMC00LjU4My0xLjM3NUwxMCAzLjM1bC0uNDE3LS41NjdBMi41MSAyLjUxIDAgMCAwIDcuNSAxLjY2N2EyLjQ5NyAyLjQ5NyAwIDAgMC0yLjUgMi41YzAgLjI5MS4wNTguNTc1LjE1LjgzM0gzLjMzM2MtLjkyNSAwLTEuNjU4Ljc0Mi0xLjY1OCAxLjY2N2wtLjAwOCA5LjE2NkExLjY2IDEuNjYgMCAwIDAgMy4zMzMgMTcuNWgxMy4zMzRhMS42NiAxLjY2IDAgMCAwIDEuNjY2LTEuNjY3VjYuNjY3QTEuNjYgMS42NiAwIDAgMCAxNi42NjcgNXptMCA2LjY2N0gzLjMzM3YtNWg0LjIzNEw1LjgzMyA5LjAyNWwxLjM1Ljk3NSAxLjk4NC0yLjdMMTAgNi4xNjdsLjgzMyAxLjEzMyAxLjk4NCAyLjcgMS4zNS0uOTc1LTEuNzM0LTIuMzU4aDQuMjM0djV6IiB0cmFuc2Zvcm09InRyYW5zbGF0ZSgtMSAtMSkiLz4KICAgIDwvZz4KPC9zdmc+Cg==\"/><a href=\"/the-gift-card-store?otracker=undefined_footer_footer_navlinks\"><span class=\"XqVBP0\">Gift Cards</span></a></div><div><img src=\"data:image/svg+xml;base64,PHN2ZyB4bWxucz0iaHR0cDovL3d3dy53My5vcmcvMjAwMC9zdmciIHdpZHRoPSIxNSIgaGVpZ2h0PSIxNSIgdmlld0JveD0iMCAwIDE1IDE1Ij4KICAgIDxkZWZzPgogICAgICAgIDxsaW5lYXJHcmFkaWVudCBpZD0iYSIgeDE9IjAlIiB4Mj0iODYuODc2JSIgeTE9IjAlIiB5Mj0iODAuMjAyJSI+CiAgICAgICAgICAgIDxzdG9wIG9mZnNldD0iMCUiIHN0b3AtY29sb3I9IiNGRkQ4MDAiLz4KICAgICAgICAgICAgPHN0b3Agb2Zmc2V0PSIxMDAlIiBzdG9wLWNvbG9yPSIjRkZBRjAwIi8+CiAgICAgICAgPC9saW5lYXJHcmFkaWVudD4KICAgIDwvZGVmcz4KICAgIDxnIGZpbGw9Im5vbmUiIGZpbGwtcnVsZT0iZXZlbm9kZCI+CiAgICAgICAgPHBhdGggZD0iTS0yLTNoMjB2MjBILTJ6Ii8+CiAgICAgICAgPHBhdGggZmlsbD0idXJsKCNhKSIgZmlsbC1ydWxlPSJub256ZXJvIiBkPSJNOS41IDNDNS4zNiAzIDIgNi4zNiAyIDEwLjUgMiAxNC42NCA1LjM2IDE4IDkuNSAxOGM0LjE0IDAgNy41LTMuMzYgNy41LTcuNUMxNyA2LjM2IDEzLjY0IDMgOS41IDN6bS43NSAxMi43NWgtMS41di0xLjVoMS41djEuNXptMS41NTMtNS44MTNsLS42NzYuNjljLS41NC41NDgtLjg3Ny45OTgtLjg3NyAyLjEyM2gtMS41di0uMzc1YzAtLjgyNS4zMzgtMS41NzUuODc3LTIuMTIzbC45My0uOTQ1Yy4yNzgtLjI3LjQ0My0uNjQ1LjQ0My0xLjA1NyAwLS44MjUtLjY3NS0xLjUtMS41LTEuNVM4IDcuNDI1IDggOC4yNUg2LjVhMyAzIDAgMSAxIDYgMGMwIC42Ni0uMjcgMS4yNi0uNjk3IDEuNjg4eiIgdHJhbnNmb3JtPSJ0cmFuc2xhdGUoLTIgLTMpIi8+CiAgICA8L2c+Cjwvc3ZnPgo=\"/><a href=\"/helpcentre?otracker=undefined_footer_footer_navlinks\"><span class=\"XqVBP0\">Help Center</span></a></div><span class=\"T8+RtG\">\\xc2\\xa9 2007-<!-- -->2024<!-- --> <span>Flipkart.com</span></span><img src=\"//static-assets-web.flixcart.com/fk-p-linchpin-web/fk-cp-zion/img/payment-method_69e7ec.svg\"/></div></div></div></div></footer><div class=\"XiSiPK AqhsUa\"><div class=\"sRIueJ\"><svg width=\"16\" height=\"27\" viewBox=\"0 0 16 27\" xmlns=\"http://www.w3.org/2000/svg\" class=\"jY-KQI\"><path d=\"M16 23.207L6.11 13.161 16 3.093 12.955 0 0 13.161l12.955 13.161z\" fill=\"#fff\" class=\"laqJUS\"></path></svg><span>Back to top</span></div></div></div></div> <script type=\"application/ld+json\" nonce=\"8361205681871228607\" id=\"jsonLD\">{\"@context\":\"http://schema.org\",\"@type\":\"ItemList\",\"itemListElement\":[{\"@type\":\"ListItem\",\"position\":1,\"url\":\"https://www.flipkart.com/apple-iphone-15-black-128-gb/p/itm6ac6485515ae4?pid=MOBGTAGPTB3VS24W&lid=LSTMOBGTAGPTB3VS24WVZNSC6&marketplace=FLIPKART&q=iphone15&store=tyy%2F4io&spotlightTagId=BestsellerId_tyy%2F4io\",\"name\":\"Apple iPhone 15 (Black, 128 GB)\"},{\"@type\":\"ListItem\",\"position\":2,\"url\":\"https://www.flipkart.com/apple-iphone-15-blue-128-gb/p/itmbf14ef54f645d?pid=MOBGTAGPAQNVFZZY&lid=LSTMOBGTAGPAQNVFZZYO7HQ2L&marketplace=FLIPKART&q=iphone15&store=tyy%2F4io&spotlightTagId=BestsellerId_tyy%2F4io\",\"name\":\"Apple iPhone 15 (Blue, 128 GB)\"},{\"@type\":\"ListItem\",\"position\":3,\"url\":\"https://www.flipkart.com/apple-iphone-15-pink-128-gb/p/itm7579ed94ca647?pid=MOBGTAGPNMZA5PU5&lid=LSTMOBGTAGPNMZA5PU51YWTGZ&marketplace=FLIPKART&q=iphone15&store=tyy%2F4io\",\"name\":\"Apple iPhone 15 (Pink, 128 GB)\"},{\"@type\":\"ListItem\",\"position\":4,\"url\":\"https://www.flipkart.com/apple-iphone-15-green-128-gb/p/itm235cd318bde73?pid=MOBGTAGPYYWZRUJX&lid=LSTMOBGTAGPYYWZRUJXUGY7PM&marketplace=FLIPKART&q=iphone15&store=tyy%2F4io\",\"name\":\"Apple iPhone 15 (Green, 128 GB)\"},{\"@type\":\"ListItem\",\"position\":5,\"url\":\"https://www.flipkart.com/apple-iphone-15-plus-black-128-gb/p/itme3a53984760fb?pid=MOBGTAGPNRQA7CS3&lid=LSTMOBGTAGPNRQA7CS3L7XK7L&marketplace=FLIPKART&q=iphone15&store=tyy%2F4io\",\"name\":\"Apple iPhone 15 Plus (Black, 128 GB)\"},{\"@type\":\"ListItem\",\"position\":6,\"url\":\"https://www.flipkart.com/apple-iphone-15-plus-blue-128-gb/p/itm4022c14383050?pid=MOBGTAGPE4F2HAW7&lid=LSTMOBGTAGPE4F2HAW7NDYSPY&marketplace=FLIPKART&q=iphone15&store=tyy%2F4io\",\"name\":\"Apple iPhone 15 Plus (Blue, 128 GB)\"},{\"@type\":\"ListItem\",\"position\":7,\"url\":\"https://www.flipkart.com/apple-iphone-15-green-256-gb/p/itmc24db2484dee9?pid=MOBGTAGPGF8HJGS7&lid=LSTMOBGTAGPGF8HJGS7FKUSRQ&marketplace=FLIPKART&q=iphone15&store=tyy%2F4io\",\"name\":\"Apple iPhone 15 (Green, 256 GB)\"},{\"@type\":\"ListItem\",\"position\":8,\"url\":\"https://www.flipkart.com/apple-iphone-15-plus-pink-128-gb/p/itmecb6209a78172?pid=MOBGTAGPXUWEXXWY&lid=LSTMOBGTAGPXUWEXXWYKVXCUT&marketplace=FLIPKART&q=iphone15&store=tyy%2F4io\",\"name\":\"Apple iPhone 15 Plus (Pink, 128 GB)\"},{\"@type\":\"ListItem\",\"position\":9,\"url\":\"https://www.flipkart.com/apple-iphone-15-yellow-128-gb/p/itm825e4ad0b80ca?pid=MOBGTAGPDTKHHHZU&lid=LSTMOBGTAGPDTKHHHZUTQZRMS&marketplace=FLIPKART&q=iphone15&store=tyy%2F4io\",\"name\":\"Apple iPhone 15 (Yellow, 128 GB)\"},{\"@type\":\"ListItem\",\"position\":10,\"url\":\"https://www.flipkart.com/apple-iphone-15-black-256-gb/p/itm6f0727e3e3b52?pid=MOBGTAGPSMHFKHT5&lid=LSTMOBGTAGPSMHFKHT5QSQH4U&marketplace=FLIPKART&q=iphone15&store=tyy%2F4io\",\"name\":\"Apple iPhone 15 (Black, 256 GB)\"}]}</script> <script type=\"application/ld+json\" nonce=\"8361205681871228607\" id=\"jsonLD\">{}</script><script type=\"application/ld+json\" nonce=\"8361205681871228607\">{\\n    \"@context\": \"http://schema.org\",\\n    \"@type\": \"WebSite\",\\n    \"url\": \"http://www.flipkart.com/\",\\n    \"potentialAction\": [{\\n        \"@type\": \"SearchAction\",\\n        \"target\": \"http://www.flipkart.com/search?q={search_term_string}\",\\n        \"query-input\": \"required name=search_term_string\"\\n        },{\\n        \"@type\": \"SearchAction\",\\n        \"target\": \"android-app://com.flipkart.android/flipkart/de_sq_seg_-search.flipkart.com-_{search_term_string}\",\\n        \"query-input\": \"required name=search_term_string\"\\n    }]\\n}</script><script nonce=\"8361205681871228607\" id=\"is_script\">window.__INITIAL_STATE__ = {};</script> <link data-chunk=\"NavMenu\" rel=\"stylesheet\" href=\"//static-assets-web.flixcart.com/fk-p-linchpin-web/fk-cp-zion/css/NavMenu.chunk.3b0c6b.css\">\\n<link data-chunk=\"SearchFeedback\" rel=\"stylesheet\" href=\"//static-assets-web.flixcart.com/fk-p-linchpin-web/fk-cp-zion/css/SearchFeedback.chunk.50a83f.css\"> <script id=\"__LOADABLE_REQUIRED_CHUNKS__\" type=\"application/json\">[131,207]</script><script id=\"__LOADABLE_REQUIRED_CHUNKS___ext\" type=\"application/json\">{\"namedChunks\":[\"NavMenu\",\"SearchFeedback\"]}</script>\\n<script async data-chunk=\"NavMenu\" src=\"//static-assets-web.flixcart.com/fk-p-linchpin-web/fk-cp-zion/js/NavMenu.chunk.b48fb8c0.js\"></script>\\n<script async data-chunk=\"SearchFeedback\" src=\"//static-assets-web.flixcart.com/fk-p-linchpin-web/fk-cp-zion/js/SearchFeedback.chunk.72a0e8b3.js\"></script><script nonce=\"8361205681871228607\">window.omniture={tpv:[],tl:[]};window.omniture.trackPageView=function(){window.omniture.tpv.push(arguments)};window.omniture.trackLink=function(){window.omniture.tl.push(arguments)}\\n\\n    if(window.location.host === \\'www.flipkart.com\\' || /\\\\.store\\\\.flipkart\\\\.com/i.test(window.location.host)){\\n        window.s_account = \"flipkart-prd\"; //omniture account id\\n    }else{\\n        window.s_account = \"flipkart-prd-test\";\\n    }\\n    window.s_isDesktop = true;</script><script nonce=\"8361205681871228607\">function isMobile(){\\n\\t\\tif (!!(navigator.userAgentData && navigator.userAgentData.mobile) || navigator.userAgent.indexOf(\"Mobile\") !== -1){\\n\\t\\t\\treturn true;\\n\\t\\t}\\n\\t\\telse {\\n\\t\\t\\treturn false;\\n\\t\\t}\\n\\t}\\n\\n\\tif (\\'serviceWorker\\' in navigator && !isMobile()) {\\n\\t\\tnavigator.serviceWorker.register(\\'/sw.js\\').then(function(registration) {\\n\\t\\t\\tconsole.log(\\'ServiceWorker registration successful with scope: \\', registration.scope);\\n\\t\\t\\tnavigator.onLine && navigator.serviceWorker.controller && navigator.serviceWorker.controller.postMessage(\\'BANDWIDTH_COMPUTE\\');\\n\\t\\t\\tnavigator.serviceWorker.addEventListener(\\'message\\', function (event) {\\n\\t\\t\\t\\ttry {\\n\\t\\t\\t\\t\\tconst bandwidthData = JSON.parse(event.data);\\n\\t\\t\\t\\t\\tif (bandwidthData && bandwidthData.data) {\\n\\t\\t\\t\\t\\t\\twindow.bandwidth = bandwidthData.data.downlink + \\'_\\' + bandwidthData.data.computeMethod + \\'_\\' + bandwidthData.data.effectiveType + \\'_\\' + bandwidthData.data.type;\\n\\t\\t\\t\\t\\t}\\n\\t\\t\\t\\t}catch(err) {\\n\\t\\t\\t\\t\\tconsole.error(\\'JSON.parse failed:\\', err);\\n\\t\\t\\t\\t}\\n\\t\\t\\t});\\n\\t\\t})\\n\\t\\t.catch(function(err) {\\n\\t\\t\\tconsole.error(\\'ServiceWorker registration failed: \\', err);\\n\\t\\t});\\n\\t} else if(\\'serviceWorker\\' in navigator && isMobile()){\\n        navigator.serviceWorker.getRegistration().then(function(registration) {\\n            var serviceWorkerUnregistered=false;\\n            if(registration) {\\n                registration.unregister();\\n                serviceWorkerUnregistered=true;\\n            }\\n            serviceWorkerUnregistered && window.location.reload();\\n        });\\n    }</script> <script src=\"///www/linchpin/batman-returns/omni/omni16.js\" defer=\"defer\" async nonce=\"8361205681871228607\" id=\"omni_script\"></script>  </body></html>'"
      ]
     },
     "execution_count": 41,
     "metadata": {},
     "output_type": "execute_result"
    }
   ],
   "source": [
    "response_website.read()"
   ]
  },
  {
   "cell_type": "code",
   "execution_count": 43,
   "id": "44049b40-9f2f-49dc-aecf-510fd275acf3",
   "metadata": {},
   "outputs": [],
   "source": [
    "# Let's_Stote this inside a Variable\n",
    "\n",
    "# The above information is not readable format. So, keep this data inside my again variable - [ data_flipkart ] "
   ]
  },
  {
   "cell_type": "code",
   "execution_count": 45,
   "id": "e99a1a7b-a0f1-44af-a71c-14ef81a3c2eb",
   "metadata": {},
   "outputs": [],
   "source": [
    "data_flipkart = response_website.read()"
   ]
  },
  {
   "cell_type": "code",
   "execution_count": 47,
   "id": "f32f5b4a-6c95-41b5-ba3d-d1d5328441dc",
   "metadata": {},
   "outputs": [],
   "source": [
    "# So, now in that case what we can do is we can beautify this things.\n",
    "\n",
    "# To beauty this one we can call a libary called as [ \"BeautifulSoup\" ]. This is the use of this - \"BeautifulSoup\"\n",
    "\n",
    "# It will try to, it will try to help out to beautify the scrapped that we already have inside our code.\n",
    "\n",
    "# If I am going to call \"bs\" It is nothing but, it is an \"ALIS\" which I am going to created for beautifulSoup.\n",
    "\n",
    "# If I am going to pass this data, inside my beautifulSoup."
   ]
  },
  {
   "cell_type": "code",
   "execution_count": 49,
   "id": "90c7f134-e4a0-4f34-bf49-d9a4611e0c71",
   "metadata": {},
   "outputs": [
    {
     "data": {
      "text/plain": []
     },
     "execution_count": 49,
     "metadata": {},
     "output_type": "execute_result"
    }
   ],
   "source": [
    "bs(data_flipkart,\"html.parser\")"
   ]
  },
  {
   "cell_type": "code",
   "execution_count": 61,
   "id": "735e51e4-6d60-4c19-a402-921f25af0779",
   "metadata": {},
   "outputs": [],
   "source": [
    "# Lets store these information in some of the text.\n",
    "\n",
    "# lets me craete one more varible, [ Beautifyed_html ] & then I am going to store all of these beautified HTML."
   ]
  },
  {
   "cell_type": "code",
   "execution_count": 63,
   "id": "70ee37e9-8b62-46dd-9843-67913ba55707",
   "metadata": {},
   "outputs": [],
   "source": [
    "beautifyed_html = bs(response_website.read(),\"html.parser\")"
   ]
  },
  {
   "cell_type": "code",
   "execution_count": 65,
   "id": "d61833f0-d67b-4c82-ae22-4a3f14b70568",
   "metadata": {},
   "outputs": [],
   "source": [
    "# Now I will aksed to try to give me 1 single \"iphone11\". I want only one phone."
   ]
  },
  {
   "cell_type": "code",
   "execution_count": 67,
   "id": "780c7393-7650-4bb8-a1de-59ebd4ffc6b0",
   "metadata": {},
   "outputs": [],
   "source": [
    "# Right click and inpect - Div Class \n",
    "\n",
    "# Here, we will going extract only one \"iPhone11\" copy the URL from the \"inpect\"\n",
    "\n",
    "# If we keep doing next and next to the \"inpect\" it will gp next, next \"iphone11\" which one avalible there  list of the \"iPhone11\""
   ]
  },
  {
   "cell_type": "code",
   "execution_count": 69,
   "id": "4bc0f706-c9f2-469d-9476-efd84412d342",
   "metadata": {},
   "outputs": [],
   "source": [
    "# If I will click on every single \"iphone11\" there i can find a URL reference.With the help of that URL I can reach out to the any web pages.\n",
    "\n",
    "# Very 1st what we will going to over here is that."
   ]
  },
  {
   "cell_type": "markdown",
   "id": "54a5e6be-ad9b-49b7-a8f3-5384e001fc5b",
   "metadata": {},
   "source": [
    "#My requirements is that \n",
    "\n",
    "- Extra the data from list fo “iPhone11”  \n",
    "- One by one, lets suppose total 5 iPhone11, step by step one by one then I will go to the respective pages and I will go to the reviews and likes and dislikes of that particular product and I will be able to scrapped that product information.\n",
    "\n",
    "- Go to website and right click and to the spect. Click on that we can see the HTML format it will open.\n",
    "\n",
    "- Just hold mouse one “iphone11”, we can see there is a class in code  [ “Div Class” ]\n",
    "- All Div class of every single iphone11 in these respective page.For all its same “Div Class”\n",
    "\n",
    "- Div class is same for all of these product. If somehow  I will be able to extract all the class.\n",
    "- Every single div class inside there is detail code. URL I am able to extract.\n",
    "\n",
    "- For example : This below is I am suppose to extract and every single product its has.\n",
    "- [ <div class=”cPHDOOP col-12-12”> </div> ]\n",
    "\n",
    "- Try to extract from where from where.\n",
    "\n",
    "- From page sources, for that I have already load my “beautifulSoup”   - beautified_html\n",
    "- Which is unstructured \n"
   ]
  },
  {
   "cell_type": "code",
   "execution_count": 72,
   "id": "4aaea5a9-38a7-47d9-b456-54992adbb112",
   "metadata": {},
   "outputs": [
    {
     "data": {
      "text/plain": []
     },
     "execution_count": 72,
     "metadata": {},
     "output_type": "execute_result"
    }
   ],
   "source": [
    "beautifyed_html"
   ]
  },
  {
   "cell_type": "code",
   "execution_count": 76,
   "id": "d5eabfcf-b761-4426-9ff5-bbfe45c4c370",
   "metadata": {},
   "outputs": [
    {
     "data": {
      "text/plain": [
       "[]"
      ]
     },
     "execution_count": 76,
     "metadata": {},
     "output_type": "execute_result"
    }
   ],
   "source": [
    "beautifyed_html.find_all(\"div\", {\"class\" : \"cPHDOP col-12-12\"})"
   ]
  },
  {
   "cell_type": "code",
   "execution_count": 78,
   "id": "4c08fd53-aad7-4b8c-a041-274c45307aa6",
   "metadata": {},
   "outputs": [],
   "source": [
    "# Now if I want to know how many mobile phone detail in has inside this for that\n",
    "\n",
    "# If i execute this below code may 30 or some number of iphone it will show to me\n",
    "\n",
    "# Here I can search 30 kind of iPhone row. I am geeting"
   ]
  },
  {
   "cell_type": "code",
   "execution_count": 80,
   "id": "136f776a-e126-43d6-9344-158499244ead",
   "metadata": {},
   "outputs": [
    {
     "data": {
      "text/plain": [
       "0"
      ]
     },
     "execution_count": 80,
     "metadata": {},
     "output_type": "execute_result"
    }
   ],
   "source": [
    "len(beautifyed_html.find_all(\"div\", {\"class\" : \"cPHDOP col-12-12\"}))"
   ]
  },
  {
   "cell_type": "code",
   "execution_count": 33,
   "id": "03ecc9f5-eb27-4eec-a452-02f0d0473aba",
   "metadata": {},
   "outputs": [],
   "source": [
    "# My requiredment is to click on each and everyone through my code.\n",
    "\n",
    "# If i have to do click so for that, I am suppose to look for this [\"Hrfs\"] - for example : we can find this just down below this\n",
    "#   Div : Class href=\"//static-assets-web.flixcar . So that I will be able to land any specific mobile that I am looking for mobile phone page."
   ]
  },
  {
   "cell_type": "code",
   "execution_count": 34,
   "id": "eaa0970d-e738-4bbe-af76-1ee3c0bc356d",
   "metadata": {},
   "outputs": [],
   "source": [
    "# Let me store all this insdie varible - [\"BigBox\"]. Inside bigbox I can call ( 0,1,2,3,4,5,6 etc)\n",
    "\n",
    "# Bigbox[0] its means 1 mobile information then 1 means next one like this it goes.\n",
    "\n",
    "# or esle we can do is that we can do we can manually we can do \"Hrfs\" but that is not our entenstion to do that."
   ]
  },
  {
   "cell_type": "code",
   "execution_count": 35,
   "id": "5103ab41-0e11-4276-97bd-80df4ff574e1",
   "metadata": {},
   "outputs": [],
   "source": [
    "bigbox = beautifyed_html.find_all(\"div\", {\"class\" : \"cPHDOP col-12-12\"})  "
   ]
  },
  {
   "cell_type": "code",
   "execution_count": 36,
   "id": "c23e0adb-7fec-4003-8769-94aa2b18d1aa",
   "metadata": {},
   "outputs": [
    {
     "ename": "IndexError",
     "evalue": "list index out of range",
     "output_type": "error",
     "traceback": [
      "\u001b[1;31m---------------------------------------------------------------------------\u001b[0m",
      "\u001b[1;31mIndexError\u001b[0m                                Traceback (most recent call last)",
      "Cell \u001b[1;32mIn[36], line 1\u001b[0m\n\u001b[1;32m----> 1\u001b[0m bigbox[\u001b[38;5;241m0\u001b[39m]\n",
      "\u001b[1;31mIndexError\u001b[0m: list index out of range"
     ]
    }
   ],
   "source": [
    "bigbox[0]"
   ]
  },
  {
   "cell_type": "code",
   "execution_count": null,
   "id": "3d10ea0c-cdd2-4dac-895c-9a800dd684f9",
   "metadata": {},
   "outputs": [],
   "source": [
    "# How i will be able to search for a \"Hrfs\".\n",
    "\n",
    "# I will go step by step \".dev\" next (.dev)  this way i can reach out particular link."
   ]
  },
  {
   "cell_type": "code",
   "execution_count": null,
   "id": "2b23dbf1-9db8-4b02-8294-10d47129bd0d",
   "metadata": {},
   "outputs": [],
   "source": [
    "bigbox[0].dev.dev"
   ]
  },
  {
   "cell_type": "code",
   "execution_count": null,
   "id": "3870acfd-2bee-449e-ab99-e5667eec0337",
   "metadata": {},
   "outputs": [],
   "source": [
    "# Now lets do for Box number 6. As a outcome we can I am able to reach out the particular page.\n",
    "\n",
    "# Now I am again going to with add [ .dev ]. Now i am able to reach out this one. Close to \"Href\"\n",
    "\n",
    "# Now I am again going to going to pass[ \"a\" ]. So that I am able to going to \"a\" Tag. So inside this \"a\" Tag I have \"Href\""
   ]
  },
  {
   "cell_type": "code",
   "execution_count": null,
   "id": "8fccfb79-7535-4619-8d9b-ad6252a81061",
   "metadata": {},
   "outputs": [],
   "source": [
    "bigbox[6].dev.dev"
   ]
  },
  {
   "cell_type": "code",
   "execution_count": null,
   "id": "68a89d99-5558-4770-8bd6-1e1dd87f8bb8",
   "metadata": {},
   "outputs": [],
   "source": [
    "# Now I am again going to with add [ .dev ]. Now i am able to reach out this one. Close to \"Href\""
   ]
  },
  {
   "cell_type": "code",
   "execution_count": null,
   "id": "9e300a7f-1bd9-4491-a659-a4be465dc018",
   "metadata": {},
   "outputs": [],
   "source": [
    "bigbox[6].dev.dev.dev"
   ]
  },
  {
   "cell_type": "code",
   "execution_count": null,
   "id": "12ba06ce-905d-4c7d-91f9-653b4219f2fa",
   "metadata": {},
   "outputs": [],
   "source": [
    "# Now I am again going to going to pass[ \"a\" ]. So that I am able to going to \"a\" Tag. So inside this \"a\" Tag I have \"Href\""
   ]
  },
  {
   "cell_type": "code",
   "execution_count": null,
   "id": "f9b7e014-033f-4015-95b7-666fd93970d9",
   "metadata": {},
   "outputs": [],
   "source": [
    "bigbox[6].dev.dev.dev.a"
   ]
  },
  {
   "cell_type": "code",
   "execution_count": null,
   "id": "cfd826b8-d09d-4c7a-99fc-5ee7eb935c80",
   "metadata": {},
   "outputs": [],
   "source": [
    "# If I am going to write a of \"Href\". As  a outcome I am geeting an URL.\n",
    "\n",
    "# Can I say tihs is my URl.I am geeting for my 6 number Box.That was my objective"
   ]
  },
  {
   "cell_type": "code",
   "execution_count": null,
   "id": "100fa2cb-89aa-4fd5-ab23-6276ef71bcea",
   "metadata": {},
   "outputs": [],
   "source": [
    "bigbox[6].dev.dev.dev.a[\"href\"]"
   ]
  },
  {
   "cell_type": "code",
   "execution_count": null,
   "id": "5489306e-1c60-4447-880d-5c3c404259ac",
   "metadata": {},
   "outputs": [],
   "source": [
    "# Now lets suppose I am going to append this below UrL with my original URL. mY original URL : [ https://www.flipkart.com ]\n",
    "\n",
    "# Now I combined both i have completed Flipkart.com URL"
   ]
  },
  {
   "cell_type": "code",
   "execution_count": null,
   "id": "cb4e10d5-f6f5-4aef-b317-144b5878dda7",
   "metadata": {},
   "outputs": [],
   "source": [
    "# Now once copy and paste this URl in chome, I am able see redierct to the specific page.\n",
    "\n",
    "# So what we did not go to the that page screen flipkart and right click inspect. There this was my bigbox - [ cPHDOP col-12-12 ] 1st \"iphone11\" \n",
    "# and what i have done [dev.dev.dev.dev] and there we can seee  [ \"a\" ]  inide the same line there is my [ \"Href\" ] Key:Value pair.\n",
    "\n",
    "# [\"Dev\"] is nothing but \"Tag\". SO I am trying to go through a \"Tag\". Go to this tag this tag.then reach out to this one.That is only region \n",
    "\n",
    "# That was only region I have written [.def] [.def] and {'a} then I am trying to find out the key : value  pair or (Href)\n",
    "\n",
    "# {Href} is a actaul object which is avaible, which is trying to hold our URL string."
   ]
  },
  {
   "cell_type": "code",
   "execution_count": null,
   "id": "dbd9bf69-2230-48c0-8878-537bd503864a",
   "metadata": {},
   "outputs": [],
   "source": [
    "\"https://www.flipkart.com/\" + bigbox[6].dev.dev.dev.a[\"href\"]"
   ]
  },
  {
   "cell_type": "code",
   "execution_count": null,
   "id": "1f8b473e-479a-436e-8887-8dfee2d754eb",
   "metadata": {},
   "outputs": [],
   "source": [
    "# Once this URL Created. "
   ]
  },
  {
   "cell_type": "code",
   "execution_count": 39,
   "id": "17a37a1b-1f50-4250-be99-a544cb6fbfda",
   "metadata": {},
   "outputs": [],
   "source": [
    "import requests"
   ]
  },
  {
   "cell_type": "code",
   "execution_count": null,
   "id": "253312ae-0a23-4b28-bb01-19a59a0b73ea",
   "metadata": {},
   "outputs": [],
   "source": [
    "product6 = \"https://www.flipkart.com/\" + bigbox[6].dev.dev.dev.a[\"href\"]"
   ]
  },
  {
   "cell_type": "code",
   "execution_count": null,
   "id": "1e684834-40d9-4163-b3b3-9d00546b7e5e",
   "metadata": {},
   "outputs": [],
   "source": [
    "# oucome is response = 200 it successfully execution"
   ]
  },
  {
   "cell_type": "code",
   "execution_count": null,
   "id": "09e1a4f8-b6d9-45c1-83ad-cbc633313119",
   "metadata": {},
   "outputs": [],
   "source": [
    "product66 = request.get(product6)"
   ]
  },
  {
   "cell_type": "code",
   "execution_count": null,
   "id": "3a4c5f99-3fb1-4db0-b3a1-08464a6b953e",
   "metadata": {},
   "outputs": [],
   "source": [
    "# if we call this it will give me URls below one - [ product6 ]\n",
    "\n",
    "# copy and paste in chrome and right click and go to \"inspect\" still there are so many junk data i am end up getting."
   ]
  },
  {
   "cell_type": "code",
   "execution_count": null,
   "id": "946d54bd-b3de-4feb-a842-0d5c90d3423b",
   "metadata": {},
   "outputs": [],
   "source": [
    "product6 "
   ]
  },
  {
   "cell_type": "code",
   "execution_count": null,
   "id": "36f48bb6-2188-4e2f-b191-fdd31cb4c901",
   "metadata": {},
   "outputs": [],
   "source": [
    "# here we are trying to encoding. So endcoding = \"utf-8\""
   ]
  },
  {
   "cell_type": "code",
   "execution_count": null,
   "id": "da4e279f-fe12-4f80-9dfe-42988ada7843",
   "metadata": {},
   "outputs": [],
   "source": [
    "product66.endcoding = \"utf-8\""
   ]
  },
  {
   "cell_type": "markdown",
   "id": "c03672cb-b2b5-498c-b7b9-546568dff597",
   "metadata": {},
   "source": [
    "# MY Target or requiredment is simple.\n",
    "\n",
    "- My target is go through the reviews and then identify each and every reviews and extract \n",
    "\n",
    "- only those information or which is i am looking for from those webpages. "
   ]
  },
  {
   "cell_type": "markdown",
   "id": "85eda7af-0cde-4467-8b90-c399b9867b18",
   "metadata": {},
   "source": [
    "- Now here below i am going to call beautifulSoup once again. whatever this [ Product6 ] link that we have already created, here below\n",
    "- I can pass that particular link & HTML_parsel we can try to pass like earlier we did."
   ]
  },
  {
   "cell_type": "code",
   "execution_count": null,
   "id": "6a6ada84-9617-428d-9467-06153dbaf2d7",
   "metadata": {},
   "outputs": [],
   "source": [
    "# If we execute this we will get URL link, it is trying to beauty a little bit.\n",
    "\n",
    "# Below outcome URL it giving me the Url code of this one [ \"product6\"] whatever URL it giving me that code URL here below giving me\n",
    "\n",
    "# which we cant readable.all the sources code.It is trying to giving me.\n",
    "\n",
    "# That is basically my requiredment.\n",
    "\n",
    "# So whatever below long URl same, if we want to check copy [ product6 ] URL paste to chrome and right click inspect section i will get the same below URL."
   ]
  },
  {
   "cell_type": "code",
   "execution_count": null,
   "id": "d2588107-6e2f-457b-b4c7-93868cb3f318",
   "metadata": {},
   "outputs": [],
   "source": [
    "# Now we are able to beautity this things, lets move to next step"
   ]
  },
  {
   "cell_type": "code",
   "execution_count": null,
   "id": "730ee262-a562-4de8-afd7-d86ace439830",
   "metadata": {},
   "outputs": [],
   "source": [
    "bs(product66.text,\"html.parser\")"
   ]
  },
  {
   "cell_type": "markdown",
   "id": "e74fbbc2-60e4-40ce-a062-6c587c7e63c5",
   "metadata": {},
   "source": [
    "# Next_Step :"
   ]
  },
  {
   "cell_type": "code",
   "execution_count": null,
   "id": "9c30e1b0-27a6-426c-9d7f-9e1ddbfd9175",
   "metadata": {},
   "outputs": [],
   "source": [
    "# Now currently we are into the \"product6\" \"iphone11\" page in chrome."
   ]
  },
  {
   "cell_type": "code",
   "execution_count": null,
   "id": "ca509f22-a80a-40cb-82de-64862c9f360a",
   "metadata": {},
   "outputs": [],
   "source": [
    "# Now once we are into this page a 1 single product - \"iPhone11\" - ( Product6 ) now, if we right click inspect section. same things we can seee\n",
    "\n",
    "# Here we can see again Boxes - [ Div_ class | Div_ class & a] But this time only one product, only which is my [ Product 6 ] & we can only seee\n",
    "\n",
    "# the Review of these ( product no 6 )"
   ]
  },
  {
   "cell_type": "markdown",
   "id": "9db4f640-e4d7-4a82-8aa0-00328baf7ce4",
   "metadata": {},
   "source": [
    "# My requiredment :\n",
    "\n",
    "- Is to reach out to the respective Boxes & to review the respective reviews.That is the only requiredment i do have."
   ]
  },
  {
   "cell_type": "code",
   "execution_count": null,
   "id": "98701514-d2ac-466f-a762-33c1762dadd9",
   "metadata": {},
   "outputs": [],
   "source": [
    "# SO my requiredment is to "
   ]
  },
  {
   "cell_type": "code",
   "execution_count": null,
   "id": "f7085389-b2ce-475a-a3df-c7328041c824",
   "metadata": {},
   "outputs": [],
   "source": []
  },
  {
   "cell_type": "code",
   "execution_count": null,
   "id": "f98c39b9-1f22-406c-ace7-6274cec90d12",
   "metadata": {},
   "outputs": [],
   "source": [
    "product6_page = bs(product66.text,\"html.parser\")"
   ]
  },
  {
   "cell_type": "code",
   "execution_count": null,
   "id": "546d849c-e90c-4d16-a63b-6e99faf2fa43",
   "metadata": {},
   "outputs": [],
   "source": [
    "# This is giving me all the information about the for that particular page."
   ]
  },
  {
   "cell_type": "markdown",
   "id": "f30ba82c-9bd2-4046-9346-b12decffb573",
   "metadata": {},
   "source": [
    "# My requiredment is to reach out to the respective Boxes or \n",
    "# .Dev_Class and to extract the respective reviews.\n",
    "\n",
    "- There are so many reviews which are available to here.If I would like to extract some information,\n",
    "- With respect to This Flipkart \n",
    "-\tcustomer and  \n",
    "-\treview posted date\n",
    "-\tfinal comments \n",
    " \n",
    "- We can performed that operation.\n",
    "\n",
    "- If I will click on more option, I will be able to see more reviews. Next page also I will do I can see the more reviews. We can even fitch all the reviews.\n",
    "\n",
    "- How I will be able to Fitch the reviews? Lets understand.\n",
    "\n",
    "- Now If go to the Inspect section again, we keep our mouse curser there is [ Div_class ] or we can call it “Tag”.\n",
    "\n",
    "- Here, I am only looking for the review, if we want comment and image and others we can do as well.\n",
    "\n",
    "- If I wan to fitch picture, we can do [ div_href+”a” ] this way we can fitch the photos data.\n",
    "\n",
    "- Lets only we have to do with reviews, what we have to do.\n",
    "\n",
    "- So , for that very 1st [ Div_Class ] in inspect section  Div class=\"16_Bpl>” kind of this we can see.\n",
    "\n",
    "- If we click in Div and explore, more options, more ad more till [ “a”]. We can observed there we can find – [ “5” ] Rating is [‘5’]\n",
    "\n",
    "- If we click more in [div_class ], there we can find the text – Message “comment” that, customer has commented on the this product review section.\n",
    "\n",
    "- Comment – ( Best and amazing product.....phone looks so premium.... battary is also good as expected .... Wide angle camera is so addictive ...if you are a IOS lover....then this phone will be the best choice for you all!! ) This kind of message we can see.\n",
    "\n",
    "- If I would like to extract images, that option also available to me. Place and name of that particular buyers, when users has given reviews.\n",
    "\n",
    "- Everything we can find inside this [ Div_Class ] or we can called it [ “TAGS ].\n",
    "\n",
    "\n",
    "- So, what I will do 1st over here is that, I will research for the [ DIV_class ] or Tag which is =\n",
    "- Div class=\"16_Bpl>” kind of we can see. I am search for what out of these one.\n",
    "\n",
    "- [   bs(product66.text,\"html.parser\")  ]\n",
    "\n",
    "- I will keep inside variable = product6_page \n",
    "\n",
    "- [ product6_page = bs(product66.text,\"html.parser\") ]\n"
   ]
  },
  {
   "cell_type": "code",
   "execution_count": 51,
   "id": "8d3e39a1-3d17-40fe-b242-cd669a613372",
   "metadata": {},
   "outputs": [],
   "source": [
    "# SO, I will try to call this one - [ product6_page ]\n",
    "\n",
    "# Div and copy class and paste here make it dictionary so that python can understand.\n",
    "\n",
    "# Once I will execute i will get long ouctome, where all the Div or Division I can see over here, which is not readable."
   ]
  },
  {
   "cell_type": "code",
   "execution_count": null,
   "id": "aeb28b29-55fa-437e-a3e5-7e2f28ebb165",
   "metadata": {},
   "outputs": [],
   "source": [
    "product6_page.find_all(\"div\", {\"class\" : _16PBlm\"})"
   ]
  },
  {
   "cell_type": "code",
   "execution_count": null,
   "id": "a464d829-99ad-4d2f-801f-a9475f3255da",
   "metadata": {},
   "outputs": [],
   "source": [
    "# now if we would like to see the \"Length\" len of how many reviews we have received. Variable = [ all_review ]\n",
    "\n",
    "# So the total length [ 11 ] review I am geeting over here."
   ]
  },
  {
   "cell_type": "code",
   "execution_count": null,
   "id": "3aa820eb-5784-478e-a34a-cbe44b677f9a",
   "metadata": {},
   "outputs": [],
   "source": [
    "all_review = product6_page.find_all(\"div\", {\"class\" : _16PBlm\"})"
   ]
  },
  {
   "cell_type": "code",
   "execution_count": null,
   "id": "36604832-dc8c-4d5e-90c4-c30205b9fb6d",
   "metadata": {},
   "outputs": [],
   "source": [
    "# Lets go with one of the \"TAG\" result.Lets example I will go with the tag[5th]\n",
    "\n",
    "# Long outcome I am geeting which is not readable. If I will seee closly, that inside it I can seee the comments that cumstomer has commented in\n",
    "# the product below review section.\n",
    "\n",
    "# Here If I am looking for something like \"Post date\" or something like that."
   ]
  },
  {
   "cell_type": "code",
   "execution_count": null,
   "id": "7256bbc7-d10d-4600-a65e-23dfcfeb1ba5",
   "metadata": {},
   "outputs": [],
   "source": [
    "all_review[5]"
   ]
  },
  {
   "cell_type": "code",
   "execution_count": null,
   "id": "bc420d01-8ab1-48ac-8be9-1a8e12fc1695",
   "metadata": {},
   "outputs": [],
   "source": [
    "# My responsibility to extarct those data or information one by one at a time."
   ]
  },
  {
   "cell_type": "markdown",
   "id": "37711c3b-2a42-4b7a-b777-d49041850881",
   "metadata": {},
   "source": [
    "# what data 1st we will extract :\n",
    "\n",
    "- 1.Product information\n",
    "- 2.Customer name\n",
    "- 3.Rating\n",
    "- 4.Heading\n",
    "- 5.Comments"
   ]
  },
  {
   "cell_type": "markdown",
   "id": "43c7eeea-7e82-4966-91f0-d6ab85f8be62",
   "metadata": {},
   "source": [
    "# Out of above data lets extarct the comment Box 1st."
   ]
  },
  {
   "cell_type": "code",
   "execution_count": null,
   "id": "3c29c4f4-a249-47e2-b9c6-20946fc16d4b",
   "metadata": {},
   "outputs": [],
   "source": [
    "# If we run this infromation all_review[5] with loops that it.In loop I am able to extract such kind of information."
   ]
  },
  {
   "cell_type": "code",
   "execution_count": null,
   "id": "994a837d-88c0-4cb6-9b08-e2d0b153f2ad",
   "metadata": {},
   "outputs": [],
   "source": [
    "# This is my review box [ all_review[5] ]   from this I have to extact basically a comment Box."
   ]
  },
  {
   "cell_type": "markdown",
   "id": "f3558232-e647-4619-82cc-7e55b894900c",
   "metadata": {},
   "source": [
    "# Lets see very 1st comment we can see just below \"Iphone11\" product below."
   ]
  },
  {
   "cell_type": "code",
   "execution_count": null,
   "id": "654099ca-3c82-4609-b758-64ab8c0295d6",
   "metadata": {},
   "outputs": [],
   "source": [
    "# If i will take my mouse curser inside \"Inspect\" we can see the that very comment comment.\n",
    "\n",
    "# If I have to extarct the comment for that I have to go from this one - [ \"div\", {\"class\" : _16PBlm ] to till below where i can find this comment."
   ]
  },
  {
   "cell_type": "markdown",
   "id": "20894961-dd4c-47dd-9b6d-04ec393750d6",
   "metadata": {},
   "source": [
    "# If may be I am looking for my Rating wise :"
   ]
  },
  {
   "cell_type": "code",
   "execution_count": null,
   "id": "67a489c9-ee14-4c88-aa55-b0d4f2c9fcc6",
   "metadata": {},
   "outputs": [],
   "source": [
    "# For that same we can find out there in Inspect section. [ \"5\" ] till this message look inside inspect. \"5 \" Rating which people has given.\n",
    "# reach out till that part then only i will able to extarct that information Ratin one."
   ]
  },
  {
   "cell_type": "markdown",
   "id": "3f49a6b7-5926-4833-851a-2385c80668d4",
   "metadata": {},
   "source": [
    "- So this way we can start parsing one after another informations.Then I will be able to get all of those result.\n",
    "\n",
    "-  what we can do is [ div.div.dev ]\n",
    "\n",
    "- As outcome we can see this is something we can seee, can we see this \"5\" rating insdie my outcome, which i was looking for.\n",
    "\n",
    "- This all information is avaible inside \"Tag\". But this information is avaible between the \n",
    "\n",
    "# 'TAG\" [ <div class........ >5<image ]"
   ]
  },
  {
   "cell_type": "code",
   "execution_count": null,
   "id": "d886ba97-8ca6-45de-abe3-b82fcdfc507b",
   "metadata": {},
   "outputs": [],
   "source": [
    "all_review[5].dev.dev.dev.dev"
   ]
  },
  {
   "cell_type": "markdown",
   "id": "24da8444-43c6-4c73-af50-49d29289641c",
   "metadata": {},
   "source": [
    " # So, basically its called as ( Text).\n",
    "\n",
    "- As a outcome, i will get the [ 5 ] below code."
   ]
  },
  {
   "cell_type": "code",
   "execution_count": null,
   "id": "ff3d2a44-651a-46de-8d46-fbd90fdf8328",
   "metadata": {},
   "outputs": [],
   "source": [
    "# So, all of review part, out of total part 1 single review I am able to extract which is Rating - 5.\n",
    "\n",
    "# Others rating also these may be - 4,3.2,4 etc."
   ]
  },
  {
   "cell_type": "code",
   "execution_count": null,
   "id": "9626295d-7223-47a5-868c-7838f7a03eec",
   "metadata": {},
   "outputs": [],
   "source": [
    "all_review[5].dev.dev.dev.dev.text"
   ]
  },
  {
   "cell_type": "code",
   "execution_count": null,
   "id": "dbd55c1a-4ac1-46b9-b1aa-a559da58340b",
   "metadata": {},
   "outputs": [],
   "source": []
  },
  {
   "cell_type": "markdown",
   "id": "f1e91832-ad8a-4f50-b600-194a228d6591",
   "metadata": {},
   "source": [
    "# Extarct Person Name "
   ]
  },
  {
   "cell_type": "markdown",
   "id": "31841275-b070-47c9-8631-4d4fc4f008a6",
   "metadata": {},
   "source": [
    "# Who has basically given this particular comment."
   ]
  },
  {
   "cell_type": "code",
   "execution_count": null,
   "id": "7e1da6de-8322-4c1b-9b4f-93c5380dca0a",
   "metadata": {},
   "outputs": [],
   "source": [
    "# Lets suppsoe \" Manish Ragnunvasi\" or Flipkart or any name just hold mouse inside inspect.\n",
    "\n",
    "# If I will see inside mouse and try to find out where this manish Gagnuvasi\" Once i will hold mouse inside my inspect, i will be able to see \n",
    "\n",
    "# that marked the name of \"Manish\"  1st i have to go 1st [ Div class ] come till that Mainsh name.Inside BOx my customer \"manish Ragunvansi\"\n",
    "\n"
   ]
  },
  {
   "cell_type": "code",
   "execution_count": null,
   "id": "e0fe6945-7ca7-4884-ab6a-879354aeec93",
   "metadata": {},
   "outputs": [],
   "source": [
    "# If I will do Div.div div it too long upto my name If i have to reach it have to do allots of \"Div_Class\"\n",
    "\n",
    "# So fine, we can do, this is the information which i am geeting, all the comment person name i can see here."
   ]
  },
  {
   "cell_type": "code",
   "execution_count": null,
   "id": "7bdb090b-ea8d-4202-9d8c-67891fb82041",
   "metadata": {},
   "outputs": [],
   "source": [
    "all_review[5].dev.dev"
   ]
  },
  {
   "cell_type": "code",
   "execution_count": null,
   "id": "0e00f459-3342-49f9-bff8-f08e13126fe4",
   "metadata": {},
   "outputs": [],
   "source": [
    "# So now what i can do I will call - [ find_all() ] & Manish raghvanshi avaible where, if we see there its avaible inside \"P Tag\" in \"Parameter Tag\".\n",
    "\n",
    "# What is the class - [_2sc7ZR_2V5EHH ] can we say that, with the help of [\"P Tag] & [ \"Class Tag ] we can easily find out."
   ]
  },
  {
   "cell_type": "markdown",
   "id": "a80611b2-1e39-4b9f-af67-b48dcf9f25bb",
   "metadata": {},
   "source": [
    "# Otherewise everywhere name is avaible long process to reach out upto there.\n",
    "\n",
    "- Let me copy Class_name & make it Key : Value pair.\n",
    "\n",
    "- If we execute below code, as outcome we can find out different name which is \"Naveen Baoopathi\" \n",
    "-  Why because, review 5 number comment this name person has given, so that why as per record its given his name outcome.\n",
    "# [ Naveen Baoopathi ]"
   ]
  },
  {
   "cell_type": "code",
   "execution_count": null,
   "id": "f881f0f1-4506-4fe8-a26b-5d2bfdd2c999",
   "metadata": {},
   "outputs": [],
   "source": [
    "all_review[5].dev.dev.find_all(\"p\",{\"Class\" : \"_2sc7ZR_2V5EHH\"})"
   ]
  },
  {
   "cell_type": "markdown",
   "id": "da59cd4d-d3d2-4612-b50c-a7620f155d9c",
   "metadata": {},
   "source": [
    "- In oucome section name outcome we can find as well as \"P\" Tag also printed how we can remove it I am not looking for this.\n",
    "\n",
    "# How we can extract only [ Name ]"
   ]
  },
  {
   "cell_type": "markdown",
   "id": "75790f5f-e310-492e-a086-18b741332fb2",
   "metadata": {},
   "source": [
    "- For that, 1st of all I will do list of zero [0] it will remove the list part. Now i am access the data then now lets fire the [ text ]\n",
    "\n",
    "- As outcome,we can find out only name of that person. - \n",
    "\n",
    "# [ Naveen Baoopathi ]"
   ]
  },
  {
   "cell_type": "markdown",
   "id": "1ad3e006-90e5-4b9a-9dc9-26a7da9cf63f",
   "metadata": {},
   "source": [
    "- The Person who has given rating 5 now i can know his name."
   ]
  },
  {
   "cell_type": "code",
   "execution_count": null,
   "id": "f9a7cac6-a910-4387-b4ff-1d1054c55e04",
   "metadata": {},
   "outputs": [],
   "source": [
    "name = all_review[5].dev.dev.find_all(\"p\",{\"Class\" : \"_2sc7ZR_2V5EHH\"})[0].text"
   ]
  },
  {
   "cell_type": "markdown",
   "id": "d218befc-9fe5-42b3-8860-3c7b6af68cd4",
   "metadata": {},
   "source": [
    "# Extract - Comment_Header "
   ]
  },
  {
   "cell_type": "code",
   "execution_count": null,
   "id": "2091ed12-89ac-42b3-9b70-84cdf29dcb55",
   "metadata": {},
   "outputs": [],
   "source": [
    "# If I will hit enter below code, I will reach to give me the header of comment,\n",
    "\n",
    "# Similarly, We have alots of Comment Header in that particular product.\n",
    "\n",
    "# For Example : [ \" Best in the market\",\"Perfect Product\" , \"simply awesome\" ] These are comment header this person has commented.\n",
    "\n",
    "# How to raech out this part, Just right click and inspect section if we curser our mouse and we can reach that header of comments.\n",
    "\n",
    "# Suppose this my comment header, - \"Best in the market\". if I ahve to raech here, I have to check dev. how many times and at Last \"P\" is there."
   ]
  },
  {
   "cell_type": "code",
   "execution_count": null,
   "id": "daca398e-75f6-4765-8ad4-7d42f7a0d44e",
   "metadata": {},
   "outputs": [],
   "source": [
    "all_review[5].dev.dev.dev.p"
   ]
  },
  {
   "cell_type": "code",
   "execution_count": null,
   "id": "8cf8a39f-bd96-4a8a-af87-5d615ff73046",
   "metadata": {},
   "outputs": [],
   "source": [
    "# It will give me a text like - \"Fabolous\" something, my outcome will different."
   ]
  },
  {
   "cell_type": "code",
   "execution_count": null,
   "id": "1547eda7-712e-4df3-a93e-f701ff4edff6",
   "metadata": {},
   "outputs": [],
   "source": [
    "comment_header = all_review[5].dev.dev.dev.p.text"
   ]
  },
  {
   "cell_type": "code",
   "execution_count": null,
   "id": "6280ec7d-cb2f-4c25-ba5b-1da0352a2a24",
   "metadata": {},
   "outputs": [],
   "source": [
    "# This will be my coutcome - [ \"Fabolous\" ]"
   ]
  },
  {
   "cell_type": "code",
   "execution_count": null,
   "id": "6ef62d65-84c1-45a6-aaa5-db162b4996ed",
   "metadata": {},
   "outputs": [],
   "source": [
    "comment_header"
   ]
  },
  {
   "cell_type": "code",
   "execution_count": null,
   "id": "7743c028-385c-4942-b567-da4f50893604",
   "metadata": {},
   "outputs": [],
   "source": []
  },
  {
   "cell_type": "code",
   "execution_count": null,
   "id": "782bb764-2ac0-4230-bdb8-f660c5625361",
   "metadata": {},
   "outputs": [],
   "source": [
    "# Lets suppose If I ahve to extract \"long comment\".\n",
    "\n",
    "# If we curser mouse, we can find list of comment 6-7 lines.\n",
    "\n",
    "# Click on the Top and below all are - [ Br,br,br,br] inside there we can find the list."
   ]
  },
  {
   "cell_type": "code",
   "execution_count": null,
   "id": "749f0a34-6610-426e-9cb4-51400ce721ce",
   "metadata": {},
   "outputs": [],
   "source": []
  },
  {
   "cell_type": "code",
   "execution_count": null,
   "id": "39219f5b-dafd-4156-a25f-1956f29ea277",
   "metadata": {},
   "outputs": [],
   "source": []
  },
  {
   "cell_type": "code",
   "execution_count": null,
   "id": "18b859bb-1d7a-445a-b710-b17454e391e1",
   "metadata": {},
   "outputs": [],
   "source": []
  },
  {
   "cell_type": "code",
   "execution_count": null,
   "id": "2e67594e-39f0-4b5e-a295-39ab79d1af60",
   "metadata": {},
   "outputs": [],
   "source": []
  },
  {
   "cell_type": "code",
   "execution_count": null,
   "id": "821f2524-6279-4a44-b340-8dc26e5dbc36",
   "metadata": {},
   "outputs": [],
   "source": []
  },
  {
   "cell_type": "code",
   "execution_count": null,
   "id": "3914878c-105b-4e47-8ae1-1881ac36a0f2",
   "metadata": {},
   "outputs": [],
   "source": []
  },
  {
   "cell_type": "code",
   "execution_count": null,
   "id": "3cc7b8ec-3a96-4792-bbcc-b4d4e13c6d3d",
   "metadata": {},
   "outputs": [],
   "source": []
  },
  {
   "cell_type": "code",
   "execution_count": null,
   "id": "b7822864-21e4-4fba-bb82-4cd1bf567d52",
   "metadata": {},
   "outputs": [],
   "source": []
  },
  {
   "cell_type": "code",
   "execution_count": null,
   "id": "f4351a5c-d940-468a-8cfb-9f1160f167e2",
   "metadata": {},
   "outputs": [],
   "source": []
  },
  {
   "cell_type": "code",
   "execution_count": null,
   "id": "66234192-756c-436e-8904-c8c0adbe4dc8",
   "metadata": {},
   "outputs": [],
   "source": []
  },
  {
   "cell_type": "code",
   "execution_count": null,
   "id": "803bfd57-42e5-4507-b6b3-9bbcfca9fa53",
   "metadata": {},
   "outputs": [],
   "source": []
  },
  {
   "cell_type": "code",
   "execution_count": null,
   "id": "649de101-929c-4a39-afe8-78901f06c235",
   "metadata": {},
   "outputs": [],
   "source": []
  },
  {
   "cell_type": "code",
   "execution_count": null,
   "id": "04bd56fd-c57b-48e7-8f1f-3e81b44699a7",
   "metadata": {},
   "outputs": [],
   "source": []
  }
 ],
 "metadata": {
  "kernelspec": {
   "display_name": "Python 3 (ipykernel)",
   "language": "python",
   "name": "python3"
  },
  "language_info": {
   "codemirror_mode": {
    "name": "ipython",
    "version": 3
   },
   "file_extension": ".py",
   "mimetype": "text/x-python",
   "name": "python",
   "nbconvert_exporter": "python",
   "pygments_lexer": "ipython3",
   "version": "3.11.5"
  }
 },
 "nbformat": 4,
 "nbformat_minor": 5
}
