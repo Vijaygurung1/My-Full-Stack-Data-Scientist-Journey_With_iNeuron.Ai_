{
 "cells": [
  {
   "cell_type": "markdown",
   "id": "6008830e",
   "metadata": {},
   "source": [
    "                                   #12th-JUNE-22\n",
    "\n",
    "                                 9th Class - \"Python\"\n",
    "\n",
    "                                 \"Exception Handling\" "
   ]
  },
  {
   "cell_type": "code",
   "execution_count": null,
   "id": "38139065",
   "metadata": {},
   "outputs": [],
   "source": [
    "# Code No :- 1 \n",
    "\n",
    "# Explanation below code :-\n",
    "\n",
    "# I have added to numbers -> c = a+b. simple operation and If we print it as a outcome we will get 30."
   ]
  },
  {
   "cell_type": "code",
   "execution_count": 1,
   "id": "c8a51829",
   "metadata": {},
   "outputs": [
    {
     "name": "stdout",
     "output_type": "stream",
     "text": [
      "30\n"
     ]
    }
   ],
   "source": [
    "a = 10 \n",
    "b = 20\n",
    "c = a+b\n",
    "print(c)"
   ]
  },
  {
   "cell_type": "code",
   "execution_count": 2,
   "id": "606da157",
   "metadata": {},
   "outputs": [],
   "source": [
    "# Code No :- 2 \n",
    "\n",
    "# Explanation below code :- \n",
    "\n",
    "# If we try to run this below code then we get as a outcome Syntax Error :- Unexpected EOF while parsing.\n",
    "\n",
    "# So, this is exception which we are geeting at run time or we are getting at complied time.\n",
    "# It's a Complied time.\n",
    "\n",
    "# c = a+b - Source code \n",
    "#             |\n",
    "#           Compiler\n",
    "\n",
    "# This is my source code and these sources code going through a compiler. If we know operating system of compiler design.\n",
    "\n",
    "# At the time of compilation each and every thing is going to be check. Means there is some check over there.\n",
    "\n",
    "# We are going to check, syntax each and everything going to be check, whenever my code is going through the compiler.\n",
    "\n",
    "# Below code we can see that at the time of compiler, it will dectating there is no proper syntax. This is called,\n",
    "# compile time Error.\n"
   ]
  },
  {
   "cell_type": "code",
   "execution_count": 3,
   "id": "e75cffaa",
   "metadata": {},
   "outputs": [
    {
     "ename": "SyntaxError",
     "evalue": "incomplete input (2565316972.py, line 4)",
     "output_type": "error",
     "traceback": [
      "\u001b[1;36m  Cell \u001b[1;32mIn[3], line 4\u001b[1;36m\u001b[0m\n\u001b[1;33m    print(c\u001b[0m\n\u001b[1;37m           ^\u001b[0m\n\u001b[1;31mSyntaxError\u001b[0m\u001b[1;31m:\u001b[0m incomplete input\n"
     ]
    }
   ],
   "source": [
    "a = 10 \n",
    "b = 20\n",
    "c = a+b\n",
    "print(c"
   ]
  },
  {
   "cell_type": "code",
   "execution_count": 4,
   "id": "9e7524ae",
   "metadata": {},
   "outputs": [],
   "source": [
    "# Code No :- 3\n",
    "\n",
    "#  Explanation below code :-\n",
    "\n",
    "# If we run this code, we are getting an Error, what is the Error.\n",
    "\n",
    "# This is a Type Error. we are getting an Type Error, once execute it.\n",
    "# TypeError means here (int) integer and string (str) we can not add.\n",
    "\n",
    "# a = 10       Source Code \n",
    "# b = \"v\"      Compiler \n",
    "# c = a+b      Bite Code or Machine Code\n",
    "# print(c)     Interpreter\n",
    "\n",
    "# Whenever we are talking about source code this code going through compiler there will be a bit code.\n",
    "\n",
    "# So, whenever this code is going through a compiler is there any syntax Error. No, every syntax is fine.\n",
    "# what exactly happened over here is that.\n",
    "\n",
    "# My this ( Bite code or Machie code ) going to the ( Interpreter )\n",
    "\n",
    "# Now real this will happened,mean in the CPU, there will be a small program Interpreter.\n"
   ]
  },
  {
   "cell_type": "code",
   "execution_count": 6,
   "id": "2380a9c8",
   "metadata": {},
   "outputs": [],
   "source": [
    "# Continueee....\n",
    "\n",
    "# Now it is executing our entire code. So it is checking doing some calculation or processing my code.\n",
    "\n",
    "# ok, c = a+b  a is Integer(Int) and B is a String(str)\n",
    "\n",
    "# It is checking c = a+b are we able to add these 2 one is \"int\" and another is \"str\".\n",
    "\n",
    "# Only Syntax Error is compiler Error. We would not able to add these two c = a+b  here a is int and b is str.\n",
    "\n",
    "# So, this time it will through an Error. This is all process call \" Run time Error\".\n",
    "\n",
    "# So, Run time Error is a Exception.\n",
    "\n",
    "# What is \"Run Time Error\"?\n",
    "\n",
    "# Run time Error is Exception or Exception is a run time Error.\n",
    "# Definitely now we should handle this execption. So, these thing call \"Exception Handling\".\n",
    "\n",
    "# Codeshare.io -> website where we can share code live. just for understanding."
   ]
  },
  {
   "cell_type": "code",
   "execution_count": 7,
   "id": "6172726e",
   "metadata": {},
   "outputs": [
    {
     "ename": "TypeError",
     "evalue": "unsupported operand type(s) for +: 'int' and 'str'",
     "output_type": "error",
     "traceback": [
      "\u001b[1;31m---------------------------------------------------------------------------\u001b[0m",
      "\u001b[1;31mTypeError\u001b[0m                                 Traceback (most recent call last)",
      "Cell \u001b[1;32mIn[7], line 3\u001b[0m\n\u001b[0;32m      1\u001b[0m a \u001b[38;5;241m=\u001b[39m \u001b[38;5;241m10\u001b[39m\n\u001b[0;32m      2\u001b[0m b \u001b[38;5;241m=\u001b[39m \u001b[38;5;124m\"\u001b[39m\u001b[38;5;124mv\u001b[39m\u001b[38;5;124m\"\u001b[39m\n\u001b[1;32m----> 3\u001b[0m c \u001b[38;5;241m=\u001b[39m a\u001b[38;5;241m+\u001b[39mb\n\u001b[0;32m      4\u001b[0m \u001b[38;5;28mprint\u001b[39m(c)\n",
      "\u001b[1;31mTypeError\u001b[0m: unsupported operand type(s) for +: 'int' and 'str'"
     ]
    }
   ],
   "source": [
    "a = 10\n",
    "b = \"v\"\n",
    "c = a+b\n",
    "print(c)"
   ]
  },
  {
   "cell_type": "code",
   "execution_count": null,
   "id": "02aafbab",
   "metadata": {},
   "outputs": [],
   "source": []
  },
  {
   "cell_type": "markdown",
   "id": "bc743cd1",
   "metadata": {},
   "source": [
    "                                             \"PYTHON\"\n",
    "                                       \"Exception Handling\"\n",
    "\n",
    "                           There are 5 keywords to perform these task.\n",
    "\n",
    "#1. Try\n",
    "\n",
    "#2. Except\n",
    "\n",
    "#3. Else\n",
    "\n",
    "#4. Raise\n",
    "\n",
    "#5. Finally"
   ]
  },
  {
   "cell_type": "code",
   "execution_count": null,
   "id": "d21e2be1",
   "metadata": {},
   "outputs": [],
   "source": []
  },
  {
   "cell_type": "code",
   "execution_count": null,
   "id": "ecfb71dc",
   "metadata": {},
   "outputs": [],
   "source": [
    "# Code No :- 4\n",
    "\n",
    "# Explanation for Below code :-\n",
    "\n",
    "# Here I have written two number, Now we are going to do \"Exception Handling\". Why we need to do Exception handling.\n",
    "\n",
    "# With the help of these line of code, we will try to understand. We are going to do \"input Statement\"\n",
    "\n",
    "# a = int(input(\"enter first number\"))\n",
    "# b =  int(input(\"enter second number\"))\n",
    "\n",
    "# Here, what we have to do, we have to do a \"Type casting\" Int otherwise, It will by default return string(str) value.\n",
    "\n",
    "# So, now we got a 2 value, we got 2 number. we can perform any operation on this 2 number.\n",
    "\n",
    "# a = int(input(\"enter first number\"))\n",
    "# b =  int(input(\"enter second number\"))\n",
    "\n",
    "# So, what I am going to do is performing operation. Operation will be a divison operation.\n",
    "\n",
    "# c = a/b - \"C\" equal a upon b (c = a/b) and I am going to print(c)\n",
    "\n",
    "# 1.1st number will be 10\n",
    "# 2.2nd number will be 20\n",
    "\n",
    "# Outcome is 0.5 Yes, we are getting 0.5 over here."
   ]
  },
  {
   "cell_type": "code",
   "execution_count": 15,
   "id": "cae910ed",
   "metadata": {},
   "outputs": [
    {
     "name": "stdout",
     "output_type": "stream",
     "text": [
      "enter first number10\n",
      "enter second number20\n",
      "0.5\n"
     ]
    }
   ],
   "source": [
    "# Use 10 & 20 for outcome\n",
    "\n",
    "a = int(input(\"enter first number\"))\n",
    "b =  int(input(\"enter second number\"))\n",
    "c = a/b\n",
    "print(c)"
   ]
  },
  {
   "cell_type": "code",
   "execution_count": null,
   "id": "10fe972c",
   "metadata": {},
   "outputs": [],
   "source": [
    "# Code No :- 5\n",
    "\n",
    "# Explanation for Below code :-\n",
    "\n",
    "# If i am going to run these below code. by putting value 10 and 0.\n",
    "\n",
    "# we are getting - ZeroDivisionError: division by zero  As a outcome, we can see we are getting an Error.\n",
    "\n",
    "# This is the run time Error, This is the exception which we are getting.\n",
    "\n",
    "# So, we are getting an Error, why we should do a Exception Handling. Suppose we have written this code we are\n",
    "# running this code we are getting Exception. Over here Exception handling required but why?"
   ]
  },
  {
   "cell_type": "code",
   "execution_count": null,
   "id": "b3520e9a",
   "metadata": {},
   "outputs": [],
   "source": [
    "# Continuee.....\n",
    "\n",
    "# Let's suppose, this is my project, I am going to build a calculator. Inside this calculator different operation\n",
    "# will be there.\n",
    "\n",
    "# I am going to perform a divide operation.\n",
    "\n",
    "# Apart from that there will be multiplication and there will be addition operation. There will be like \n",
    "# Substraction different different operation."
   ]
  },
  {
   "cell_type": "code",
   "execution_count": 16,
   "id": "5926fafa",
   "metadata": {},
   "outputs": [
    {
     "name": "stdout",
     "output_type": "stream",
     "text": [
      "enter first number10\n",
      "enter second number0\n"
     ]
    },
    {
     "ename": "ZeroDivisionError",
     "evalue": "division by zero",
     "output_type": "error",
     "traceback": [
      "\u001b[1;31m---------------------------------------------------------------------------\u001b[0m",
      "\u001b[1;31mZeroDivisionError\u001b[0m                         Traceback (most recent call last)",
      "Cell \u001b[1;32mIn[16], line 3\u001b[0m\n\u001b[0;32m      1\u001b[0m a \u001b[38;5;241m=\u001b[39m \u001b[38;5;28mint\u001b[39m(\u001b[38;5;28minput\u001b[39m(\u001b[38;5;124m\"\u001b[39m\u001b[38;5;124menter first number\u001b[39m\u001b[38;5;124m\"\u001b[39m))\n\u001b[0;32m      2\u001b[0m b \u001b[38;5;241m=\u001b[39m  \u001b[38;5;28mint\u001b[39m(\u001b[38;5;28minput\u001b[39m(\u001b[38;5;124m\"\u001b[39m\u001b[38;5;124menter second number\u001b[39m\u001b[38;5;124m\"\u001b[39m))\n\u001b[1;32m----> 3\u001b[0m c \u001b[38;5;241m=\u001b[39m a\u001b[38;5;241m/\u001b[39mb\n\u001b[0;32m      4\u001b[0m \u001b[38;5;28mprint\u001b[39m(c)\n",
      "\u001b[1;31mZeroDivisionError\u001b[0m: division by zero"
     ]
    }
   ],
   "source": [
    "#  Use 10 & 0 for outcome\n",
    "\n",
    "a = int(input(\"enter first number\"))\n",
    "b =  int(input(\"enter second number\"))\n",
    "c = a/b\n",
    "print(c)"
   ]
  },
  {
   "cell_type": "code",
   "execution_count": null,
   "id": "ddf51d8a",
   "metadata": {},
   "outputs": [],
   "source": [
    "# Code No :- 6\n",
    "\n",
    "# If I am going to write d = a*b and Print(d)\n",
    "\n",
    "# If we run this code by putting value of 10 and 20.\n",
    "\n",
    "# As a outcome we can see we are getting 0.5 and we are getting 200 over here.\n"
   ]
  },
  {
   "cell_type": "code",
   "execution_count": 17,
   "id": "b25a568f",
   "metadata": {},
   "outputs": [
    {
     "name": "stdout",
     "output_type": "stream",
     "text": [
      "enter first number10\n",
      "enter second number20\n",
      "0.5\n",
      "200\n"
     ]
    }
   ],
   "source": [
    "#  Use 10 & 20 for outcome\n",
    "\n",
    "a = int(input(\"enter first number\"))\n",
    "b =  int(input(\"enter second number\"))\n",
    "c = a/b\n",
    "print(c)\n",
    "d = a*b\n",
    "print(d)"
   ]
  },
  {
   "cell_type": "code",
   "execution_count": null,
   "id": "f697f183",
   "metadata": {},
   "outputs": [],
   "source": [
    "# Code No :- 7\n",
    "\n",
    "# lets understand,\n",
    "\n",
    "# If we run this code by putting value of 10 and 0.  As aoutcome we will get an \"ZeroDivisionError: division by zero\"\n",
    "\n",
    "# Why getting an Error, Because I am saying that.\n",
    "\n",
    "# 10/0 ( 10 division by 0)\n",
    "# infinite\n",
    "\n",
    "# 10*0 (10 multiply by 0)\n",
    "\n",
    "# c = a/b or 10/0\n",
    "# Print(c)   ( Warning dnt run otherwise laptop hang Just for knowledge).\n",
    "\n",
    "# d = a*b or 10*0 = 0\n",
    "\n",
    "# c = a/b ( This is giving me an Error).\n",
    "# d = a*b ( But a*b it should run, because it giving me outcome atleast \"0\", But why we are getting an Error)\n",
    "\n",
    "# d = a*b ( My syntax is fine, my value is fine why I am getting an Error)\n",
    "\n",
    "# This time Exception Handling is required. \n",
    "\n",
    "# Because, In bigger project, Exception Handling must, because of these kind of scenario.\n",
    "\n",
    "# Everytime we can see whenever we get an Error. As below we can see this Type things we can see on the screen.\n",
    "\n",
    "# ZeroDivisionError.\n",
    "\n",
    "# Whenever we are getting an Error, We can see above message pop-up.By looking this type message pop-up, we get scare\n",
    "# somethings. So these also we should do a Exception Handling.\n",
    "\n",
    "# Thare is 2 region Exception Handling."
   ]
  },
  {
   "cell_type": "code",
   "execution_count": null,
   "id": "a493adf0",
   "metadata": {},
   "outputs": [],
   "source": [
    "# Interview Question :-\n",
    "\n",
    "# Why we are doing a Exception Handling or Runtime Error. - Give me a region.\n",
    "\n",
    "# 1. If we are not doing Exception Handling. So, my further code Exception will stop.\n",
    "\n",
    "# 2. This is not user Friendly.\n",
    "\n",
    "# Whenever we are doing Exception Handling in Python. There are different different keyword we will able to see.\n",
    "\n",
    "# 1.Try\n",
    "\n",
    "# 2.Exception\n",
    "\n",
    "# 3.Else\n",
    "\n",
    "# 4.Raise\n",
    "\n",
    "# 5.Finally\n",
    "\n",
    "# So, these 5 keyword we are having with the help of these, we can handle Exception.\n",
    "\n",
    "# With the help of those key word we are going to solve problem."
   ]
  },
  {
   "cell_type": "code",
   "execution_count": 18,
   "id": "cdb5bac1",
   "metadata": {},
   "outputs": [
    {
     "name": "stdout",
     "output_type": "stream",
     "text": [
      "enter first number10\n",
      "enter second number0\n"
     ]
    },
    {
     "ename": "ZeroDivisionError",
     "evalue": "division by zero",
     "output_type": "error",
     "traceback": [
      "\u001b[1;31m---------------------------------------------------------------------------\u001b[0m",
      "\u001b[1;31mZeroDivisionError\u001b[0m                         Traceback (most recent call last)",
      "Cell \u001b[1;32mIn[18], line 5\u001b[0m\n\u001b[0;32m      3\u001b[0m a \u001b[38;5;241m=\u001b[39m \u001b[38;5;28mint\u001b[39m(\u001b[38;5;28minput\u001b[39m(\u001b[38;5;124m\"\u001b[39m\u001b[38;5;124menter first number\u001b[39m\u001b[38;5;124m\"\u001b[39m))\n\u001b[0;32m      4\u001b[0m b \u001b[38;5;241m=\u001b[39m  \u001b[38;5;28mint\u001b[39m(\u001b[38;5;28minput\u001b[39m(\u001b[38;5;124m\"\u001b[39m\u001b[38;5;124menter second number\u001b[39m\u001b[38;5;124m\"\u001b[39m))\n\u001b[1;32m----> 5\u001b[0m c \u001b[38;5;241m=\u001b[39m a\u001b[38;5;241m/\u001b[39mb\n\u001b[0;32m      6\u001b[0m \u001b[38;5;28mprint\u001b[39m(c)\n\u001b[0;32m      7\u001b[0m d \u001b[38;5;241m=\u001b[39m a\u001b[38;5;241m*\u001b[39mb\n",
      "\u001b[1;31mZeroDivisionError\u001b[0m: division by zero"
     ]
    }
   ],
   "source": [
    "#  Use 10 & 0 for outcome\n",
    "\n",
    "a = int(input(\"enter first number\"))\n",
    "b =  int(input(\"enter second number\"))\n",
    "c = a/b\n",
    "print(c)\n",
    "d = a*b\n",
    "print(d)"
   ]
  },
  {
   "cell_type": "code",
   "execution_count": 1,
   "id": "85ec5c7e",
   "metadata": {},
   "outputs": [],
   "source": [
    "# Code No :- 8 \n",
    "\n",
    "# Warning :-  Do not run below code. This is just for understand for knowledge only. We will get the outcome \"infinite\""
   ]
  },
  {
   "cell_type": "markdown",
   "id": "aca4a27a",
   "metadata": {},
   "source": [
    "#Use 10 & 0 for outcome\n",
    "\n",
    "a = int(input(\"enter first number\"))\n",
    "\n",
    "b =  int(input(\"enter second number\"))\n",
    "\n",
    "c = a/b\n",
    "\n",
    "print(c)"
   ]
  },
  {
   "cell_type": "code",
   "execution_count": 7,
   "id": "36898585",
   "metadata": {},
   "outputs": [],
   "source": [
    "# Code No :- 9\n",
    "\n",
    "# Let's understand below code :-\n",
    "\n",
    "# Let's suppose,\n",
    "\n",
    "# How we can use those keyword and\n",
    "# How we can handle Exception\n",
    "# Here we have 2 number.\n",
    "\n",
    "#a = int(input(\"enter first number\"))\n",
    "#b =  int(input(\"enter second number\"))\n",
    "\n",
    "# These 2 numbers as a input and down below code.\n",
    "\n",
    "# Here in this line code  - c = a/b - (10/0)\n",
    "\n",
    "# we may be get the exception in my code. For this what we can do is that we can keep this code under \"Try\" block.\n",
    "\n",
    "# And Exception message where, I have to keep that Exception message under the \"Except \"block.\n",
    "\n",
    "# except :\n",
    "#    print(\"b should not be a zero\")\n",
    "\n",
    "# Inside this exception block, I can keep my message. I can print anything over here is (\"b should not be a zero\").\n",
    "\n",
    "# Many thing over here when we are handling Exception. In \"Except\" there will be classes. According to classes,\n",
    "# We are going to handle \"Exception\".\n",
    "\n",
    "# Exception we are getting \"ZeroDivision Error\".\n",
    "\n",
    "# Now when we run this code - 10 and 20. As a outcome we will get the 0.5.\n",
    "\n",
    "# But again, If I am going to run  - 10 and 0. As a outcome, we will - (\"b should not be a zero\")\n",
    "\n",
    "# Here, we can see my code is prefectly fine, I am not getting any Error over here."
   ]
  },
  {
   "cell_type": "code",
   "execution_count": 3,
   "id": "e8ec48c8",
   "metadata": {},
   "outputs": [
    {
     "name": "stdout",
     "output_type": "stream",
     "text": [
      "enter first number10\n",
      "enter second number0\n",
      "b should not be a zero\n"
     ]
    }
   ],
   "source": [
    "# Use 10 & 0 for outcome\n",
    "\n",
    "a = int(input(\"enter first number\"))\n",
    "b =  int(input(\"enter second number\"))\n",
    "try :\n",
    "    c = a/b\n",
    "    print(c)\n",
    "\n",
    "except :\n",
    "    print(\"b should not be a zero\")"
   ]
  },
  {
   "cell_type": "code",
   "execution_count": 4,
   "id": "fddd5a1c",
   "metadata": {},
   "outputs": [],
   "source": [
    "# Code No :- 10\n",
    "\n",
    "# Here in this code we are geeting an \"Error\".\n",
    "# Code is not going to execute. But when above code, I used - \"Try:\" and \"Except:\"\n",
    "\n",
    "# During that time my code was working prefectly. If I did not use (Try and Except) then, If I try to run the code.\n",
    "\n",
    "# I am getting an Error."
   ]
  },
  {
   "cell_type": "code",
   "execution_count": 5,
   "id": "1fd6ecff",
   "metadata": {},
   "outputs": [
    {
     "name": "stdout",
     "output_type": "stream",
     "text": [
      "enter first number10\n",
      "enter second number0\n"
     ]
    },
    {
     "ename": "ZeroDivisionError",
     "evalue": "division by zero",
     "output_type": "error",
     "traceback": [
      "\u001b[1;31m---------------------------------------------------------------------------\u001b[0m",
      "\u001b[1;31mZeroDivisionError\u001b[0m                         Traceback (most recent call last)",
      "Cell \u001b[1;32mIn[5], line 5\u001b[0m\n\u001b[0;32m      3\u001b[0m a \u001b[38;5;241m=\u001b[39m \u001b[38;5;28mint\u001b[39m(\u001b[38;5;28minput\u001b[39m(\u001b[38;5;124m\"\u001b[39m\u001b[38;5;124menter first number\u001b[39m\u001b[38;5;124m\"\u001b[39m))\n\u001b[0;32m      4\u001b[0m b \u001b[38;5;241m=\u001b[39m  \u001b[38;5;28mint\u001b[39m(\u001b[38;5;28minput\u001b[39m(\u001b[38;5;124m\"\u001b[39m\u001b[38;5;124menter second number\u001b[39m\u001b[38;5;124m\"\u001b[39m))\n\u001b[1;32m----> 5\u001b[0m c \u001b[38;5;241m=\u001b[39m a\u001b[38;5;241m/\u001b[39mb\n\u001b[0;32m      6\u001b[0m \u001b[38;5;28mprint\u001b[39m(c)\n",
      "\u001b[1;31mZeroDivisionError\u001b[0m: division by zero"
     ]
    }
   ],
   "source": [
    "# Use 10 & 0 for outcome\n",
    "\n",
    "a = int(input(\"enter first number\"))\n",
    "b =  int(input(\"enter second number\"))\n",
    "c = a/b\n",
    "print(c)"
   ]
  },
  {
   "cell_type": "code",
   "execution_count": 8,
   "id": "de815cae",
   "metadata": {},
   "outputs": [],
   "source": [
    "# Code No :- 11\n",
    "\n",
    "# Let's Understand :-\n",
    "\n",
    "# So, over here we can see my try block and Except block. If I am getting any Error inside my try block.\n",
    "\n",
    "# try :\n",
    "#    c = a/b\n",
    "#    print(c)\n",
    "\n",
    "# except ZeroDivisionError :\n",
    "#   print(\"b should not be a zero\")\n",
    "\n",
    "\n",
    "# Then it is automatically coming to my except block and we are getting as a outcome message.\n",
    "\n",
    "# print(\"b should not be a zero\") But here what I can define.\n",
    "\n",
    "# except ZeroDivisionError :\n",
    "#   print(\"b should not be a zero\")\n",
    "\n",
    "# Zero devision Error, this will be my class. Based on this. I am able to get an outcome print(\"b should not be a zero\")\n",
    "\n",
    "# If we run this code by giving - putting 10 & 0 outcome is - [\"b should not be a zero\"]\n",
    "\n",
    "# As a outcome we can see we are getting same outcome earlier we got, but here difference is that, we have added this\n",
    "# line. - [\"except ZeroDivisionError\"] :\n",
    "\n",
    "\n",
    "# try :\n",
    "#    c = a/b\n",
    "#    print(c)\n",
    "\n",
    "# This is my try block, inside this try block we can see there is a possibility we may get an \"Error\"\n",
    "\n",
    "# So, we have kept these inside \"try\" block.\n",
    "\n",
    "# except ZeroDivisionError :\n",
    "#    print(\"b should not be a zero\")\n",
    "\n",
    "# Now, inside except, this is a key word except, what we are done here we have defined a class.\n",
    "\n",
    "# Except(?) - Class according to what, According to the \"Error\".\n"
   ]
  },
  {
   "cell_type": "code",
   "execution_count": null,
   "id": "3253ceb7",
   "metadata": {},
   "outputs": [],
   "source": [
    "# continuee......\n",
    "\n",
    "#  try :\n",
    "#    c = a/b\n",
    "#    print(c)\n",
    "\n",
    "# Over here we can see we may get Zero division Error. Whenever we are going to divide.\n",
    "\n",
    "# c = a/b or c = 10/20 ( it is fine correct ) / c = 10/0 ( this is not fessible or correct )\n",
    "\n",
    "# There is high chance that, we may get an \"Zerodivision Error\".So, that is why we are going to add or define.\n",
    "\n",
    "# Class Zerodivision Error over here.\n",
    "\n",
    "# [except ZeroDivisionError : ]    -  Class\n",
    "\n",
    "# If i am going to write a+b, so \"a\" is integer value  and \"b\" is String value.\n",
    "\n",
    "# So, which class, I should write over here There will be a \"TypeError\".\n",
    "\n",
    "# From below chart which class should I write over here.\n",
    "\n",
    "# Yes, Class mentioning is not menditory but its a good practise to have.\n",
    "\n",
    "# For Table Google it - \"Exception hierarchy in python with example\" and is the link for recomendation.\n",
    "\n",
    "# https://medium.com/building-enterprise-applications-in-python/exception-handling-in-python-part-1-94ef5b49e043\n",
    "\n",
    "# We should mention (Runtime Error ). But There will be a [Arithmetic Error].\n",
    "\n",
    "# Arithmetic Error will be there. Directly what we can do we can define these [\"Exception\"] This is my parent class.\n",
    "\n",
    "# We can define Exception class also."
   ]
  },
  {
   "cell_type": "code",
   "execution_count": 10,
   "id": "e69ecf97",
   "metadata": {},
   "outputs": [
    {
     "name": "stdout",
     "output_type": "stream",
     "text": [
      "enter first number10\n",
      "enter second number0\n",
      "b should not be a zero\n"
     ]
    }
   ],
   "source": [
    "# Use 10 & 0 for outcome\n",
    "\n",
    "a = int(input(\"enter first number\"))\n",
    "b =  int(input(\"enter second number\"))\n",
    "try :\n",
    "    c = a/b\n",
    "    print(c)\n",
    "\n",
    "except ZeroDivisionError :\n",
    "    print(\"b should not be a zero\")"
   ]
  },
  {
   "cell_type": "code",
   "execution_count": 11,
   "id": "7f13e8f8",
   "metadata": {},
   "outputs": [],
   "source": [
    "# Code No :- 12\n",
    "\n",
    "# Let's understand :-\n",
    "\n",
    "# Here in these code we are going to use 2 symbol or 2 parenthesis print()).\n",
    "\n",
    "# Definitely, it will be a \"Syntax Error\". \n",
    "\n",
    "# a = int(input(\"enter first number\"))\n",
    "# b =  int(input(\"enter second number\"))\n",
    "\n",
    "# c =  a/b \n",
    "#    print())\n",
    "\n",
    "# In print we are going to use 2 parenthesis. \n",
    "\n",
    "# Except :\n",
    "#     print( \"wrong Syntax\")\n",
    "\n",
    "# In these \"Except\" we can write a \"Syntax Error\" but this time we are not writing, because it is not mendatory.\n",
    "\n",
    "# Simple \"Except \" block write. If we are going to write a message over here that, (\"wrong syntax\") \n",
    "\n",
    "# d = a+b\n",
    "\n",
    "# So, if we are trying to run this code we are able to do that.\n",
    "\n",
    "# Here, As a outcome we are not getting (\"wrong Syntax\") and we are not able to run this code.\n",
    "\n",
    "# [d = a+b] Why, because this is a [\"Compile time Error\"].\n",
    "\n",
    "# This is a \"Compile Time Error\", Except block means - whenever we are handling \"run time Error\" or a \"Exception\".\n",
    "\n",
    "# So, definitely we can handle those things with the help of \"Try and Except\".\n",
    "\n",
    "# But, we can't handle \"Syntax Error\" with the help of these \"Try and Except\".\n",
    "\n"
   ]
  },
  {
   "cell_type": "code",
   "execution_count": 13,
   "id": "333935d0",
   "metadata": {},
   "outputs": [
    {
     "ename": "SyntaxError",
     "evalue": "unmatched ')' (3071222595.py, line 7)",
     "output_type": "error",
     "traceback": [
      "\u001b[1;36m  Cell \u001b[1;32mIn[13], line 7\u001b[1;36m\u001b[0m\n\u001b[1;33m    print(c))\u001b[0m\n\u001b[1;37m            ^\u001b[0m\n\u001b[1;31mSyntaxError\u001b[0m\u001b[1;31m:\u001b[0m unmatched ')'\n"
     ]
    }
   ],
   "source": [
    "# Just run this code, we will get an Error , because of these - (c)) \n",
    "\n",
    "a = int(input(\"enter first number\"))\n",
    "b =  int(input(\"enter second number\"))\n",
    "try :\n",
    "    c = a/b\n",
    "    print(c))\n",
    "\n",
    "except :\n",
    "    print(\"Wrong syntax\")\n",
    "d = a+b"
   ]
  },
  {
   "cell_type": "code",
   "execution_count": 14,
   "id": "3472b162",
   "metadata": {},
   "outputs": [],
   "source": [
    "# Code No :- 13\n",
    "\n",
    "# Let's understand :-\n",
    "\n",
    "# Here what difference is that we have just removed 2 parathesis. From these - print(c))  to these - print(c).\n",
    "\n",
    "# try :\n",
    "# c = a/b\n",
    "# print(c)\n",
    "\n",
    "# we have removed 2 parathesis and  addition we have added \n",
    "\n",
    "# d = a+b\n",
    "# print(d)\n",
    "\n",
    "# So, As a outcome we can down below it printed last line code also.\n",
    "\n",
    "# If we use or put the value of 10 and 0 as a outcome we are getting\n",
    "\n",
    "# b should not be a zero\n",
    "# 10"
   ]
  },
  {
   "cell_type": "code",
   "execution_count": 15,
   "id": "455b3ef4",
   "metadata": {},
   "outputs": [
    {
     "name": "stdout",
     "output_type": "stream",
     "text": [
      "enter first number10\n",
      "enter second number0\n",
      "b should not be a zero\n",
      "10\n"
     ]
    }
   ],
   "source": [
    "# Use 10 & 0 for outcome\n",
    "\n",
    "a = int(input(\"enter first number\"))\n",
    "b =  int(input(\"enter second number\"))\n",
    "try :\n",
    "    c = a/b\n",
    "    print(c)\n",
    "\n",
    "except :\n",
    "    print(\"b should not be a zero\")\n",
    "d = a+b\n",
    "print(d)"
   ]
  },
  {
   "cell_type": "code",
   "execution_count": null,
   "id": "26d4e495",
   "metadata": {},
   "outputs": [],
   "source": [
    "# For Understanding\n",
    "\n",
    "# In python whenever, we are talking about \"Except\" there some classes has defined. Which classes ?\n",
    "\n",
    "# Object oriented programming :-\n",
    "\n",
    "# Whenever, we are writing a code, we are having two approach for writing this code.\n",
    "\n",
    "#                          Code \n",
    "                            |\n",
    "# 1. Functional Approach          2. Object Oriented Programming approach\n",
    "\n",
    "# 1. Functional Approach :-\n",
    "\n",
    "# Inside this fucntional approach we are just writing a fucntion. There will be function name (A,B,C) whatever &\n",
    "\n",
    "# We are going to define code over here, inside this function. This is called fucntion Definition.\n",
    "\n",
    "# IF we call this fucntion ( A, b, c) over here, we will be going to see. We are going to call this fucntion and my\n",
    "\n",
    "# my function is going to be execute my definition is going to be execute.\n",
    "\n",
    "# 2. Object Oriented Programming approach :-\n",
    "\n",
    "# Inside object oriented programming one things come to picture that is called class.\n",
    "\n",
    "# Class(ABC) and inside class I am going to define a different different method.\n",
    "\n",
    "# Function 1 \n",
    "# Function 2\n",
    "\n",
    "# Like this end number of function define inside this code. We are going crate object of these class.\n",
    "\n",
    "# These is called classes in object.\n",
    "\n",
    "# So, we generally we don't write this fucntional approach, now a days we use the object oriented programming approach.\n",
    "\n",
    "# This fucntion is nothing this is called method.\n",
    "\n",
    "# Someone asked, please define what is function and method ?\n",
    "\n",
    "# So, Method is nothing, method is a function which we are defining inside a Classes.\n",
    "\n",
    "# As a function, we can called something like this :- (obj.def) This is a function name. We shaw like-\n",
    "\n",
    "# [ List.append() ] we already know about it.\n",
    "\n",
    "# Somebody has already written this Append fucntion in the \"Python\". \n",
    "\n",
    "# Whenever we are talking about this \"Except\" Block.\n",
    "\n",
    "# Except (\" \") whenever we talked about except we have to write some classes. According to the classes we are going\n",
    "\n",
    "# descriminate what will be my exception.\n",
    "\n",
    "# Google it about it - ( Exception Hierarchy in Python )"
   ]
  },
  {
   "cell_type": "code",
   "execution_count": null,
   "id": "2b7fcfc6",
   "metadata": {},
   "outputs": [],
   "source": [
    "# Continueee..\n",
    "\n",
    "# What is the meaning of Exception Hierarchy in Python?\n",
    "\n",
    "# Exception Hierarchy :- Exception Hierarchy is whenever we are talking about object oriented programming.\n",
    "\n",
    "# The three pillar of the object oriented programming :-\n",
    "\n",
    "# 1.Encapsulation.\n",
    "# 2.Inheritance\n",
    "# 3.Polymorphism etc.\n",
    "\n",
    "#          2.Inheritance \n",
    "#                |\n",
    "#      parent class and Child Class \n",
    "\n",
    "# Whenever we are talking about Inheritance,inside this one there will be a parent class and another one child class.\n",
    "\n",
    "# Class :-\n",
    "\n",
    "# Whenever we are talking about class. Over here I am going to define  - @Cuboid.Class \n",
    "\n",
    "# This is my class and there is my function will be a volume. Over here, I am going to write inside this \n",
    "# Function, empty as of now.\n",
    "\n",
    "# Cuboid - Google symbol for Picture\n",
    "\n",
    "# Rectangle will be part of these cuboid only.\n",
    "\n",
    "# Rectangle :- Google symbol for Picture\n",
    "\n",
    "# Can we inherit these class rectangle, whatever property will be there, with respect to these rectangle.\n",
    "\n",
    "# So, whenever property will be there, with respect to these rectangle. All these properties, we will be getting in\n",
    "\n",
    "# my cuboid class.\n",
    "\n",
    "# We will be able to find out volume and all whatever.\n",
    "\n",
    "# Class rectangle : - This is my rectangle class, this is my parent class.\n",
    "\n",
    "# Class Cuboid :- This is my cuboid class, this is my child class, we are going to inherit the properties from\n",
    "\n",
    "# cuboid to rectangle.\n",
    "\n",
    "# Parent and child :-\n",
    "\n",
    "# Why we are saying this concept, because whenever we are talking about exception there will be a \n",
    "\n",
    "#hierarchy of this exception.\n",
    "\n",
    "#                           Base Exception - This will be my parent class\n",
    "\n",
    "#                          Exception - This will be my child class\n",
    "\n",
    "#                         Standard Error\n",
    "\n",
    "# Generally we use these class only considering my parent class. we have seen that, whenever we are going to \n",
    "# Handle the exception, So.\n",
    "\n",
    "# 1.Try \n",
    "# 2.Except or Exception\n",
    "\n",
    "#                       Exception - This is my parent class\n",
    "\n",
    "#                       Standard Error - This will the Child class\n",
    "\n",
    "\n",
    "# For Table Google it - \"Exception hierarchy in python with example\" and is the link for recomendation.\n",
    "\n",
    "# https://medium.com/building-enterprise-applications-in-python/exception-handling-in-python-part-1-94ef5b49e043\n",
    "    \n",
    "# S0, which Error we are getting in our code. It was a - [\"ZeroDivision Error\"]\n",
    "\n",
    "# For these someone had already defined the class. These ZeroDivision class. In Python, we just need to call these\n",
    "# class - [\"ZeroDivision Error\"]\n"
   ]
  },
  {
   "cell_type": "code",
   "execution_count": 16,
   "id": "8c4155d5",
   "metadata": {},
   "outputs": [],
   "source": [
    "# Continuee......\n",
    "\n",
    "# We can see different kind of Error we can see [ \"OS Error\" ] for that we have to call these OS Class.\n",
    "\n",
    "# IF we going to see these [\"IO Error\"] Based on that we have to define IO class.\n",
    "\n",
    "# If we going to see - [\"Intentation Error \"]. So, we have to define these Indentation Class.etc....\n"
   ]
  },
  {
   "cell_type": "code",
   "execution_count": 17,
   "id": "5cdf808b",
   "metadata": {},
   "outputs": [],
   "source": [
    "# Code No :- 14"
   ]
  },
  {
   "cell_type": "markdown",
   "id": "86e94c7e",
   "metadata": {},
   "source": [
    "                                        Question given to solve during class\n",
    "\n",
    "\n",
    "Q.Write a program to ask the user to input 2 integers and calculate and print their division. Make sure your \n",
    "\n",
    "program behaves ad follows :-\n",
    "\n",
    "\n",
    "#1.If the user enters a non integer value then ask him to enter only integers.\n",
    "\n",
    "#2.If denominator is 0, then ask him to input non- Zero denominator.\n",
    "\n",
    "#3.Repeat the process until correct input is given.\n",
    "\n",
    "#4.Only if the inputs are correct then display their division and terminate the code.\n"
   ]
  },
  {
   "cell_type": "code",
   "execution_count": null,
   "id": "c313d67d",
   "metadata": {},
   "outputs": [],
   "source": []
  },
  {
   "cell_type": "code",
   "execution_count": 22,
   "id": "fa889acb",
   "metadata": {},
   "outputs": [
    {
     "name": "stdout",
     "output_type": "stream",
     "text": [
      "enter first number1:10\n",
      "enter second number2:0\n",
      "Enter non zero value in integer\n"
     ]
    }
   ],
   "source": [
    "# Below are the code send my Public :-\n",
    "\n",
    "# 1.Nisha :- just use any number i have use 10 and 0\n",
    "\n",
    "try :\n",
    "    a = int(input(\"enter first number1:\"))\n",
    "    b =  int(input(\"enter second number2:\"))\n",
    "except Exception :\n",
    "    print(\"Enter integer values only\")\n",
    "try :\n",
    "    c = a/b\n",
    "    print(c)\n",
    "except ZeroDivisionError :\n",
    "    print(\"Enter non zero value in integer\")"
   ]
  },
  {
   "cell_type": "code",
   "execution_count": 23,
   "id": "24e83618",
   "metadata": {},
   "outputs": [
    {
     "name": "stdout",
     "output_type": "stream",
     "text": [
      "enter first number:10\n",
      "enter second number:0\n",
      "Input Error Please enter Non O value for b:\n"
     ]
    }
   ],
   "source": [
    "# 2. Anup :- just use any number i have use 10 and 0\n",
    "\n",
    "a = int(input(\"enter first number:\"))\n",
    "b =  int(input(\"enter second number:\"))\n",
    "\n",
    "error=\" \"\n",
    "if type(a)!=int:\n",
    "    error = \"Please enter numeric value of a:\"\n",
    "if type(b)!= int:\n",
    "    error = \"Please enter numeric value of b:\"\n",
    "if b == 0:\n",
    "    error = \"Please enter Non O value for b:\"\n",
    "try :\n",
    "    print(a/b)\n",
    "except :\n",
    "    print(\"Input Error\",error)"
   ]
  },
  {
   "cell_type": "code",
   "execution_count": 24,
   "id": "5721b420",
   "metadata": {},
   "outputs": [
    {
     "name": "stdout",
     "output_type": "stream",
     "text": [
      "enter first number:10\n",
      "enter second number:0\n",
      "number 2 should not be 0\n"
     ]
    }
   ],
   "source": [
    "# 3. Praneet :- just use any number i have use 10 and 0\n",
    "\n",
    "a = int(input(\"enter first number:\"))\n",
    "b =  int(input(\"enter second number:\"))\n",
    "while a<0:\n",
    "    a = int(input(\"enter a positive number1:\"))\n",
    "while b<0 :\n",
    "    b = int(input(\"enter a positive number2:\"))\n",
    "try:\n",
    "    c = a/b\n",
    "    print(c)\n",
    "except :\n",
    "    print(\"number 2 should not be 0\")"
   ]
  },
  {
   "cell_type": "code",
   "execution_count": 26,
   "id": "04d3512f",
   "metadata": {},
   "outputs": [
    {
     "name": "stdout",
     "output_type": "stream",
     "text": [
      "enter first number10\n",
      "enter second number0\n",
      "b should not be zero\n"
     ]
    }
   ],
   "source": [
    "# 4. Abhishek :- just use any number i have use 10 and 0\n",
    "\n",
    "try:\n",
    "    a = int(input(\"enter first number\"))\n",
    "    b = int(input(\"enter second number\"))\n",
    "    c = a/b\n",
    "    print(c)\n",
    "except ZeroDivisionError:\n",
    "    print(\"b should not be zero\")\n",
    "except ValueError :\n",
    "    print(\"enter an integer\")"
   ]
  },
  {
   "cell_type": "code",
   "execution_count": 27,
   "id": "1203a050",
   "metadata": {},
   "outputs": [
    {
     "name": "stdout",
     "output_type": "stream",
     "text": [
      "enter first number:10\n",
      "enter second number:0\n",
      "b should not be 0\n"
     ]
    }
   ],
   "source": [
    "# 5. Sumit :- just use any number i have use 10 and 0\n",
    "\n",
    "a = int(input(\"enter first number:\"))\n",
    "b =  int(input(\"enter second number:\"))\n",
    "try:\n",
    "    c = int(a)/int(b)\n",
    "    print(c)\n",
    "except ZeroDivisionError :\n",
    "    print(\"b should not be 0\")\n",
    "except:\n",
    "    print(\"enter integer value\")"
   ]
  },
  {
   "cell_type": "code",
   "execution_count": 28,
   "id": "86ebca01",
   "metadata": {},
   "outputs": [],
   "source": [
    "# Code No :- 15\n",
    "\n",
    "# Let's understand :-\n",
    "\n",
    "# If we are not writing any class over here, still we are able to handle exception.\n",
    "\n",
    "#except :\n",
    "#   print(\"b should not be a zero\")\n",
    "\n",
    "# We are able to get the message or outcome. Put these value 10 & 0 to get the outcome.\n",
    "\n",
    "# Here we have just only written except : block and we are able to get this message or outcome."
   ]
  },
  {
   "cell_type": "code",
   "execution_count": 29,
   "id": "6ef57b57",
   "metadata": {},
   "outputs": [
    {
     "name": "stdout",
     "output_type": "stream",
     "text": [
      "enter first number:10\n",
      "enter second number:0\n",
      "b should not be a zero\n"
     ]
    }
   ],
   "source": [
    "# Use 10 & 0 for outcome\n",
    "\n",
    "a = int(input(\"enter first number:\"))\n",
    "b =  int(input(\"enter second number:\"))\n",
    "try :\n",
    "    c = a/b\n",
    "    print(c)\n",
    "    d = a+str(b)\n",
    "    print(d)\n",
    "except :\n",
    "    print(\"b should not be a zero\")"
   ]
  },
  {
   "cell_type": "code",
   "execution_count": 30,
   "id": "35aa1969",
   "metadata": {},
   "outputs": [],
   "source": [
    "# Code No :- 16\n",
    "\n",
    "# Here, In this code also we are getting some outcome as my above code.\n",
    "\n",
    "# Earlier code we did not given or written any class.\n",
    "\n",
    "# except :\n",
    "#   print(\"b should not be a zero\")\n",
    "\n",
    "# still we are getting same outcome. In this code, we have given or written class.\n",
    "\n",
    "#except ZeroDivisionError:\n",
    "#    print(\"b should not be a zero\")\n",
    "\n",
    "# Here, I have given class, then also we are getting same outcome. What is the difference between those both code.\n",
    "\n",
    "# By giving class also we are getting as result or outcome. Without giving any class also we are getting same outcome.\n"
   ]
  },
  {
   "cell_type": "code",
   "execution_count": null,
   "id": "ec832380",
   "metadata": {},
   "outputs": [],
   "source": [
    "# Continuee...\n",
    "\n",
    "# The thing is that,\n",
    "\n",
    "# * If we are not writting this class name (\"ZeroDivision Error\").\n",
    "\n",
    "# So, we would not able to get that which Error we are getting in my code.\n",
    "\n",
    "# When we write code in production, there is thousand lines of code.\n",
    "\n",
    "# Big project, big line codes. Whenever we are going to handle this \"exception\" at that time, it is mendatory\n",
    "\n",
    "# we should write name of the class.\n",
    "\n",
    "# In class if we look at it, If someone look into my code, then they can understand that its a [\"ZeroDivisionError\"].\n"
   ]
  },
  {
   "cell_type": "code",
   "execution_count": 31,
   "id": "e1728a1d",
   "metadata": {},
   "outputs": [
    {
     "name": "stdout",
     "output_type": "stream",
     "text": [
      "enter first number:10\n",
      "enter second number:0\n",
      "b should not be a zero\n"
     ]
    }
   ],
   "source": [
    "# Use 10 & 0 for outcome\n",
    "\n",
    "a = int(input(\"enter first number:\"))\n",
    "b =  int(input(\"enter second number:\"))\n",
    "try :\n",
    "    c = a/b\n",
    "    print(c)\n",
    "    d = a+str(b)\n",
    "    print(d)\n",
    "except ZeroDivisionError:\n",
    "    print(\"b should not be a zero\")"
   ]
  },
  {
   "cell_type": "code",
   "execution_count": 32,
   "id": "4fe1158f",
   "metadata": {},
   "outputs": [],
   "source": [
    "# Code No :- 17\n",
    "\n",
    "# Let's understand :-\n",
    "\n",
    "# Here we can see that, [\"except ZeroDivisionError\"] : but here another except [\"ValueError:\"] also we are able to get.\n",
    "\n",
    "# Actually, I am getting this things in my code. I will be get [\"ValueError:\" ].\n",
    "\n",
    "# This is my code so :-\n",
    "\n",
    "# c = a/b\n",
    "    print(c)\n",
    "    d = a+str(b)\n",
    "    print(d)\n",
    "    \n",
    "# Here, we are having 2 possibility :-\n",
    "\n",
    "# 1.1st Possibility is we may get [\"ValueError\"]\n",
    "\n",
    "# 2.2nd Possibility is we may get an [\"ZeroDivisionError\"]"
   ]
  },
  {
   "cell_type": "code",
   "execution_count": 33,
   "id": "303705d2",
   "metadata": {},
   "outputs": [
    {
     "name": "stdout",
     "output_type": "stream",
     "text": [
      "enter first number:10\n",
      "enter second number:0\n",
      "b should not be a zero\n"
     ]
    }
   ],
   "source": [
    "# Use 10 & 0 for outcome\n",
    "\n",
    "a = int(input(\"enter first number:\"))\n",
    "b =  int(input(\"enter second number:\"))\n",
    "try :\n",
    "    c = a/b\n",
    "    print(c)\n",
    "    d = a+str(b)\n",
    "    print(d)\n",
    "except ZeroDivisionError:\n",
    "    print(\"b should not be a zero\")\n",
    "except ValueError :\n",
    "    print(\"Please input number only\")"
   ]
  },
  {
   "cell_type": "code",
   "execution_count": 34,
   "id": "14d1db44",
   "metadata": {},
   "outputs": [],
   "source": [
    "# Code No :- 18\n",
    "\n",
    "# Let's understand both the code Code No \n",
    "\n",
    "# Here inside, we have a multiple except block.\n",
    "\n",
    "#except ZeroDivisionError:\n",
    "#   print(\"b should not be a zero\")\n",
    "#except ValueError :\n",
    "    print(\"Please input number only\")\n",
    "\n",
    "# Here we have 2 except block.With one try block we can use a multiple execption block.\n",
    "\n",
    "# try\n",
    "# except\n",
    "# print\n",
    "# except\n",
    "# Print\n",
    "\n",
    "# c=a/b\n",
    "# print(c)\n",
    "\n",
    "# 1st except block we will able to see with respect to above Error.\n",
    "\n",
    "# 1st except block --> ZeroDivision Error:\n",
    "\n",
    "# 2nd Except block ( ValueError :) we can see with respect to these Error.\n",
    "\n",
    "# d = a+str(b)\n",
    "# print(d)\n"
   ]
  },
  {
   "cell_type": "code",
   "execution_count": 1,
   "id": "edda7507",
   "metadata": {},
   "outputs": [
    {
     "name": "stdout",
     "output_type": "stream",
     "text": [
      "enter first number:10\n",
      "enter second number:20\n",
      "0.5\n"
     ]
    },
    {
     "ename": "TypeError",
     "evalue": "unsupported operand type(s) for +: 'int' and 'str'",
     "output_type": "error",
     "traceback": [
      "\u001b[1;31m---------------------------------------------------------------------------\u001b[0m",
      "\u001b[1;31mTypeError\u001b[0m                                 Traceback (most recent call last)",
      "Cell \u001b[1;32mIn[1], line 8\u001b[0m\n\u001b[0;32m      6\u001b[0m     c \u001b[38;5;241m=\u001b[39m a\u001b[38;5;241m/\u001b[39mb\n\u001b[0;32m      7\u001b[0m     \u001b[38;5;28mprint\u001b[39m(c)\n\u001b[1;32m----> 8\u001b[0m     d \u001b[38;5;241m=\u001b[39m a\u001b[38;5;241m+\u001b[39m\u001b[38;5;28mstr\u001b[39m(b)\n\u001b[0;32m      9\u001b[0m     \u001b[38;5;28mprint\u001b[39m(d)\n\u001b[0;32m     10\u001b[0m \u001b[38;5;28;01mexcept\u001b[39;00m \u001b[38;5;167;01mZeroDivisionError\u001b[39;00m:\n",
      "\u001b[1;31mTypeError\u001b[0m: unsupported operand type(s) for +: 'int' and 'str'"
     ]
    }
   ],
   "source": [
    "# Use 10 & 20 for outcome\n",
    "\n",
    "a = int(input(\"enter first number:\"))\n",
    "b =  int(input(\"enter second number:\"))\n",
    "try :\n",
    "    c = a/b\n",
    "    print(c)\n",
    "    d = a+str(b)\n",
    "    print(d)\n",
    "except ZeroDivisionError:\n",
    "    print(\"b should not be a zero\")\n",
    "except ValueError :\n",
    "    print(\"Please input number only\")"
   ]
  },
  {
   "cell_type": "code",
   "execution_count": 2,
   "id": "89a6188c",
   "metadata": {},
   "outputs": [],
   "source": [
    "# Code No :- 19\n",
    "\n",
    "# Let's understand below code :\n",
    "\n",
    "# So, above code we have write 2 separate execpt block.\n",
    "\n",
    "# except ZeroDivisionError:\n",
    "#   print(\"b should not be a zero\")\n",
    "#except ValueError :\n",
    "#   print(\"Please input number only\")\n",
    "\n",
    "# But in these code, instead of writting these 2 seperate block.\n",
    "\n",
    "# Except(ZeroDIivisionError, ValueError) :\n",
    "#      print(\"b should not be a Zero or please input number only\")\n",
    "\n",
    "# We can write 2 seperate block into one execpt block. we can write it under parenthesis. \n",
    "\n",
    "# Now, we can write a message.\n",
    "# Print(\"b should not be a Zero or please input number only\")\n",
    "\n",
    "# So, we have seen that 2 codes.There is a 2 syntax to write a same things or same outcome.\n",
    "\n",
    "# One is 2 seperate way except block, Another way is combined both into a parenthesis into a one except block."
   ]
  },
  {
   "cell_type": "code",
   "execution_count": 3,
   "id": "7b7ae301",
   "metadata": {},
   "outputs": [
    {
     "name": "stdout",
     "output_type": "stream",
     "text": [
      "enter first number:10\n",
      "enter second number:20\n",
      "0.5\n"
     ]
    },
    {
     "ename": "TypeError",
     "evalue": "unsupported operand type(s) for +: 'int' and 'str'",
     "output_type": "error",
     "traceback": [
      "\u001b[1;31m---------------------------------------------------------------------------\u001b[0m",
      "\u001b[1;31mTypeError\u001b[0m                                 Traceback (most recent call last)",
      "Cell \u001b[1;32mIn[3], line 8\u001b[0m\n\u001b[0;32m      6\u001b[0m     c \u001b[38;5;241m=\u001b[39m a\u001b[38;5;241m/\u001b[39mb\n\u001b[0;32m      7\u001b[0m     \u001b[38;5;28mprint\u001b[39m(c)\n\u001b[1;32m----> 8\u001b[0m     d \u001b[38;5;241m=\u001b[39m a\u001b[38;5;241m+\u001b[39m\u001b[38;5;28mstr\u001b[39m(b)\n\u001b[0;32m      9\u001b[0m     \u001b[38;5;28mprint\u001b[39m(d)\n\u001b[0;32m     10\u001b[0m \u001b[38;5;28;01mexcept\u001b[39;00m \u001b[38;5;167;01mZeroDivisionError\u001b[39;00m:\n",
      "\u001b[1;31mTypeError\u001b[0m: unsupported operand type(s) for +: 'int' and 'str'"
     ]
    }
   ],
   "source": [
    "# Use 10 & 20 for outcome\n",
    "\n",
    "a = int(input(\"enter first number:\"))\n",
    "b =  int(input(\"enter second number:\"))\n",
    "try :\n",
    "    c = a/b\n",
    "    print(c)\n",
    "    d = a+str(b)\n",
    "    print(d)\n",
    "except ZeroDivisionError:\n",
    "    print(\"b should not be a zero\")"
   ]
  },
  {
   "cell_type": "code",
   "execution_count": 4,
   "id": "6fddcf7b",
   "metadata": {},
   "outputs": [],
   "source": [
    "# Code No :- 20\n",
    "\n",
    "# Let's understand :-\n",
    "\n",
    "# With the help of \"TypeError: We can get the Value or we can able to handle the situation."
   ]
  },
  {
   "cell_type": "code",
   "execution_count": 7,
   "id": "02dca4ca",
   "metadata": {},
   "outputs": [
    {
     "name": "stdout",
     "output_type": "stream",
     "text": [
      "enter first number:10\n",
      "second number:a\n",
      "Please input number only\n"
     ]
    }
   ],
   "source": [
    "# Use 10 & a for outcome\n",
    "\n",
    "a = int(input(\"enter first number:\"))\n",
    "b =  input(\"second number:\")\n",
    "try :\n",
    "    d =a+b\n",
    "    print(d)\n",
    "except TypeError:\n",
    "    print(\"Please input number only\")"
   ]
  },
  {
   "cell_type": "code",
   "execution_count": 8,
   "id": "28d7e2bf",
   "metadata": {},
   "outputs": [],
   "source": [
    "                                                # Code No :- 21\n",
    "\n",
    "                                                  # For Understanding :-\n",
    "\n",
    "# So,we are having Total 5 keyword :-\n",
    "\n",
    "#1.Try\n",
    "\n",
    "#2.Except :-\n",
    "\n",
    "# In except, we have seen a multiple except block with one try block.\n",
    "\n",
    "# Yes, we can as many as \"Except\" block we can use with respect to try block.\n",
    "\n",
    "#3.Raise :- \n",
    "\n",
    "# Another concept called raise, we can create our own exception, Means we can raise the exception at the particular\n",
    "# time, we can create our \n",
    "\n",
    "#4.Custom Exception :-\n",
    "\n",
    "# Also, These two things we are trying to understand.Apart from that, we can see.\n",
    "\n",
    "#5.Finally :-\n",
    "\n",
    "# Finally concept also, what is the meaning of these finally concept also. Before these one, if we want to know\n",
    "# more about these exception.There is 2 function has been given in \"Python\".\n",
    "\n",
    "# (a) Format_exc()\n",
    "\n",
    "# (b) exc_info()\n",
    "\n",
    "# Why we are using these 2 fucntion for getting a more detail about my exception.\n"
   ]
  },
  {
   "cell_type": "code",
   "execution_count": 12,
   "id": "d15fdc4f",
   "metadata": {},
   "outputs": [],
   "source": [
    "                                                 # Code No :- 22  \n",
    "\n",
    "\n",
    "# For Understanding :-\n",
    "\n",
    "\n",
    "# For Table Google it - \"Exception hierarchy in python with example\" and is the link for recomendation.\n",
    "\n",
    "# https://medium.com/building-enterprise-applications-in-python/exception-handling-in-python-part-1-94ef5b49e043\n",
    "\n",
    "# Now once if we are going to check these exception Hierarchy. Exception Hierarchy means we have :-\n",
    "\n",
    "# Parent class  and  child class \n",
    "\n",
    "# Base exception  and Exception are - These are exception is parent class.\n",
    "\n",
    "# Arithmetic Error :- This is child class.\n",
    "\n",
    "# ZeroDivision Error :- This is a child Class of Arithmetic Error.\n",
    "\n",
    "# So, there is a conviences that, whenever we are writing a code, child class should come at first place.\n",
    "# Then a parent class means of these over here.\n",
    "\n",
    "# ZeroDivision Class and Arithmetic class\n",
    "\n",
    "# Whenever our code is going to be execute, if I am getting \"ZeroDivision Error\".\n",
    "\n",
    "# So, it will check with respect to the except block.\n",
    "\n",
    "# Arithmetic CLass and ZeroDivision Class \n",
    "\n",
    "# If we are writing like this parent class 1st \"Arithmetic class\" then we are writing \"Child class or ZeroDivision Class\"\n",
    "# would not execute it would not get chance to execute.\n",
    "\n",
    "# Convience is that, 1st we should write a child means \"ZeroDivision Error\".\n",
    "\n",
    "# Then we should write these \"Arithmetic Error\". Why we are doing, because when we are writing like these.\n",
    "\n",
    "# Arithmetic CLass and ZeroDivision Class - It would not able to execute.\n",
    "    "
   ]
  },
  {
   "cell_type": "code",
   "execution_count": 13,
   "id": "02776360",
   "metadata": {},
   "outputs": [],
   "source": [
    "# Code No :- 23"
   ]
  },
  {
   "cell_type": "code",
   "execution_count": 14,
   "id": "fc8b92a0",
   "metadata": {},
   "outputs": [],
   "source": [
    "# Question :- \n",
    "\n",
    "# Write a program to ask the user to input 2 integer and calculate and print their division. Make sure your\n",
    "\n",
    "# program behaves as follows :\n",
    "\n",
    "# If the user enters a non integer value ask him to enter only integers.\n",
    "\n",
    "# If denominator is 0, then ask him to input non-Zero denominator.\n",
    "\n",
    "# Repeate the process until correct input is given.\n",
    "\n",
    "# Only if the inputs are correct then display their division and terminate the code.\n",
    "\n",
    "# Meaning of these sentence below is question.\n",
    "\n",
    "# a \n",
    "# b\n",
    "# a/b\n",
    "# a = \"s\"\n",
    "# print(only int)\n",
    "# b = 0\n",
    "# print(only non zero)"
   ]
  },
  {
   "cell_type": "markdown",
   "id": "4a8bd50a",
   "metadata": {},
   "source": [
    "                           #Dn't run this code just for understanding otehrwise hang the pc.\n",
    "                           \n",
    "                           # Outcome will be \"Infinite\" so it will continuee provide outcome non stop.\n",
    "\n",
    "#while true :\n",
    "\n",
    "       print(\"vijay\")\n",
    "       \n",
    "    "
   ]
  },
  {
   "cell_type": "code",
   "execution_count": 15,
   "id": "28ad1bbd",
   "metadata": {},
   "outputs": [],
   "source": [
    "# Code No :- 24\n",
    "\n",
    "# Explanation below code :-\n",
    "\n",
    "# If I will going to run or execute this code.\n",
    "\n",
    "# start giving name \n",
    "\n",
    "# Amit\n",
    "# Tarun\n",
    "# Ajay\n",
    "# Vijay\n",
    "# Vijay\n",
    "\n",
    "# If I am going to write other name then, it will keep going to giving me write another name.\n",
    "\n",
    "# But when at time, If I will write \"Vijay\". Then, it will stop there and print \"Vijay\".\n",
    "\n",
    "# So, it will be asking untill, I am not giving proper name. Then it will break my condition."
   ]
  },
  {
   "cell_type": "code",
   "execution_count": 16,
   "id": "4fc5184f",
   "metadata": {},
   "outputs": [
    {
     "name": "stdout",
     "output_type": "stream",
     "text": [
      "write your name:Amit\n",
      "write your name:Trun\n",
      "write your name:Ajay\n",
      "write your name:Vijay\n",
      "write your name:vijay\n",
      "vijay\n"
     ]
    }
   ],
   "source": [
    "# Use Amit, Trun, Ajay, Vijay and Vijay for outcome\n",
    "\n",
    "while True :\n",
    "    name = input(\"write your name:\")\n",
    "    if name == \"vijay\":\n",
    "        print(\"vijay\")\n",
    "        break"
   ]
  },
  {
   "cell_type": "code",
   "execution_count": 17,
   "id": "162270c5",
   "metadata": {},
   "outputs": [],
   "source": [
    "# Code No :- 25\n",
    "\n",
    "# It keep generating codes."
   ]
  },
  {
   "cell_type": "code",
   "execution_count": 30,
   "id": "35a65c30",
   "metadata": {},
   "outputs": [
    {
     "name": "stdout",
     "output_type": "stream",
     "text": [
      "enter first number10\n",
      "enter second numbera\n",
      "there should not be string\n",
      "enter first numbera\n",
      "there should not be string\n",
      "enter first number10\n",
      "enter second number0\n",
      "Non zero denomitor\n",
      "enter first number10\n",
      "enter second number20\n",
      "0.5\n"
     ]
    }
   ],
   "source": [
    "# Use 10 and a | 10 and 0 | 10 and 20 for outcome\n",
    "\n",
    "while True :\n",
    "    try :\n",
    "        a = int(input(\"enter first number\"))\n",
    "        b = int(input(\"enter second number\"))\n",
    "        c = a/b\n",
    "        print(c)\n",
    "        break\n",
    "    except ValueError:\n",
    "        print(\"there should not be string\")\n",
    "    except ZeroDivisionError :\n",
    "        print(\"Non zero denomitor\")"
   ]
  },
  {
   "cell_type": "code",
   "execution_count": 31,
   "id": "bff79c2e",
   "metadata": {},
   "outputs": [],
   "source": [
    "# Code No :- 26\n",
    "\n",
    "# Explanation :-\n",
    "\n",
    "# If we write wrong value definitely,it will through the \"exception\".\n",
    "\n",
    "# If I am going to write over here input(\"enter a string\").\n",
    "\n",
    "# It will be working fine. It is giving me a \"Vijay\""
   ]
  },
  {
   "cell_type": "code",
   "execution_count": 32,
   "id": "1afd0361",
   "metadata": {},
   "outputs": [
    {
     "name": "stdout",
     "output_type": "stream",
     "text": [
      "enter a stringvijay\n"
     ]
    },
    {
     "data": {
      "text/plain": [
       "'vijay'"
      ]
     },
     "execution_count": 32,
     "metadata": {},
     "output_type": "execute_result"
    }
   ],
   "source": [
    "# Use Vijay string for outcome\n",
    "\n",
    "input(\"enter a string\")"
   ]
  },
  {
   "cell_type": "code",
   "execution_count": null,
   "id": "afc12e05",
   "metadata": {},
   "outputs": [],
   "source": [
    "# Code No :- 27\n",
    "\n",
    "# Explanation :-\n",
    "\n",
    "# If I am going to do a type casting and run the code. As a outcome it will through the Error.\n",
    "\n",
    "# The Error name will be \"ValueError\" :\n",
    "\n",
    "# As a outcome we can see below -\n",
    "\n",
    "# ValueError: invalid literal for int() with base 10: 'vijay' "
   ]
  },
  {
   "cell_type": "code",
   "execution_count": 33,
   "id": "b91508dc",
   "metadata": {},
   "outputs": [
    {
     "name": "stdout",
     "output_type": "stream",
     "text": [
      "enter a stringvijay\n"
     ]
    },
    {
     "ename": "ValueError",
     "evalue": "invalid literal for int() with base 10: 'vijay'",
     "output_type": "error",
     "traceback": [
      "\u001b[1;31m---------------------------------------------------------------------------\u001b[0m",
      "\u001b[1;31mValueError\u001b[0m                                Traceback (most recent call last)",
      "Cell \u001b[1;32mIn[33], line 1\u001b[0m\n\u001b[1;32m----> 1\u001b[0m \u001b[38;5;28mint\u001b[39m(\u001b[38;5;28minput\u001b[39m(\u001b[38;5;124m\"\u001b[39m\u001b[38;5;124menter a string\u001b[39m\u001b[38;5;124m\"\u001b[39m))\n",
      "\u001b[1;31mValueError\u001b[0m: invalid literal for int() with base 10: 'vijay'"
     ]
    }
   ],
   "source": [
    "# Use Vijay string for outcome, But unfortunately its giving me Error.\n",
    "\n",
    "int(input(\"enter a string\"))"
   ]
  },
  {
   "cell_type": "code",
   "execution_count": 34,
   "id": "70e21063",
   "metadata": {},
   "outputs": [],
   "source": [
    "# Code No :- 28\n",
    "\n",
    "# Explanation :-\n",
    "\n",
    "# So, here we can keep the type casting inside the \"Try Block\"\n",
    "\n",
    "# inside Except, we can write - Print(\"string not allow\"). Because, we have the integer value."
   ]
  },
  {
   "cell_type": "code",
   "execution_count": 35,
   "id": "cb3d3578",
   "metadata": {},
   "outputs": [
    {
     "name": "stdout",
     "output_type": "stream",
     "text": [
      "enter a stringvijay\n",
      "string not allow\n"
     ]
    }
   ],
   "source": [
    "# Use \"Vijay\" string for outcome.\n",
    "\n",
    "try :\n",
    "    int(input(\"enter a string\"))\n",
    "except:\n",
    "    print(\"string not allow\")"
   ]
  },
  {
   "cell_type": "code",
   "execution_count": 36,
   "id": "e0295d11",
   "metadata": {},
   "outputs": [],
   "source": [
    "# Code No :- 29"
   ]
  },
  {
   "cell_type": "code",
   "execution_count": null,
   "id": "636965d1",
   "metadata": {},
   "outputs": [],
   "source": [
    "# For Understand only :-\n",
    "\n",
    "# Let's talk about 2 things over here.\n",
    "\n",
    "# There is 2 function has been given in Python.\n",
    "\n",
    "# (a) Format_exc()\n",
    "\n",
    "# (b) exc_info()\n",
    "\n",
    "# These 2 function we will be talk about.\n",
    "\n",
    "# After that ;-\n",
    "\n",
    "# Raise Block\n",
    "# Custom Excception\n",
    "# Finally Block"
   ]
  },
  {
   "cell_type": "code",
   "execution_count": 38,
   "id": "3d134a77",
   "metadata": {},
   "outputs": [],
   "source": [
    "# Code No :- 30\n",
    "\n",
    "# Let's understand this code.\n",
    "\n",
    "# The code, I have written over here is.\n",
    "\n",
    "# print(\"div:\",c)\n",
    "\n",
    "# Over here, print I am going to write the value of \"C\". It will be \"Division (div)\" Column (:).\n",
    "\n",
    "# Now, we can see inside except block.\n",
    "\n",
    "# \"Except :\"\n",
    "#       print(\"b should not be a Zero\")\n",
    "\n",
    "# Inside execpt block the message, I have written. - print(\"b should not be a Zero\")\n",
    "\n",
    "# If i am going to run this code - 10 and 0 | 10 and 0 | 10 and 20 div : 0.5 \n",
    "\n",
    "# Here if I write 10 & 20 it will break the as a outcome we can see - [div : 0.5 ]"
   ]
  },
  {
   "cell_type": "code",
   "execution_count": 39,
   "id": "16f3fda3",
   "metadata": {},
   "outputs": [
    {
     "name": "stdout",
     "output_type": "stream",
     "text": [
      "enter first number:10\n",
      "enter second number:0\n",
      "b should not be a Zero\n",
      "enter first number:10\n",
      "enter second number:0\n",
      "b should not be a Zero\n",
      "enter first number:10\n",
      "enter second number:20\n",
      "div: 0.5\n"
     ]
    }
   ],
   "source": [
    "# Use 10 and 0 | 10 and 0 | 10 and 20 for outcome\n",
    "\n",
    "while True :\n",
    "    try :\n",
    "        a = int(input(\"enter first number:\"))\n",
    "        b = int(input(\"enter second number:\"))\n",
    "        c = a/b\n",
    "        print(\"div:\",c)\n",
    "        break\n",
    "    except :\n",
    "        print(\"b should not be a Zero\")"
   ]
  },
  {
   "cell_type": "code",
   "execution_count": 40,
   "id": "226673f6",
   "metadata": {},
   "outputs": [],
   "source": [
    "# Code No :- 31\n",
    "\n",
    "# Explanation :-\n",
    "\n",
    "# If i am going to write \n",
    "# except ZeroDivisionError as e :\n",
    "#        print(e)\n",
    "\n",
    "#If we are going to print(e) directly If I am going to write 10 & 0.As a outcome what we are getting- [\"division by zero\"]\n",
    "\n",
    "# I have not written any message inside print() only we have written print(e).\n",
    "\n",
    "# But still I am able to get a outcome message. - [\"division by zero\"].\n",
    "\n",
    "# If we write any message inside print(.......), I will get the output.\n",
    "\n",
    "# Why print(e) - giving me an outcome, because of these line code.\n",
    "\n",
    "# Except ZerodivisionError as e:  This is [ \"Alice\" ] name."
   ]
  },
  {
   "cell_type": "code",
   "execution_count": 41,
   "id": "fc84d587",
   "metadata": {},
   "outputs": [
    {
     "name": "stdout",
     "output_type": "stream",
     "text": [
      "enter first number:10\n",
      "enter second number:0\n",
      "division by zero\n",
      "enter first number:10\n",
      "enter second number:20\n",
      "div: 0.5\n"
     ]
    }
   ],
   "source": [
    "# Use 10 and 0 | 10 and 20 for outcome\n",
    "\n",
    "while True :\n",
    "    try :\n",
    "        a = int(input(\"enter first number:\"))\n",
    "        b = int(input(\"enter second number:\"))\n",
    "        c = a/b\n",
    "        print(\"div:\",c)\n",
    "        break\n",
    "    except ZeroDivisionError as e :\n",
    "        print(e)"
   ]
  },
  {
   "cell_type": "code",
   "execution_count": 42,
   "id": "014534ba",
   "metadata": {},
   "outputs": [],
   "source": [
    "# Code No :- 32\n",
    "\n",
    "# Explanation :-\n",
    "\n",
    "# If we run this code, As a outcome we can see 10 and 0.\n",
    "\n",
    "#(<class 'ZeroDivisionError'>, ZeroDivisionError('division by zero'), <traceback object at 0x000002867F5A1BC0>)\n",
    "\n",
    "# As a outcome, we can see here, its giving me a entire things.\n",
    "\n",
    "# It is giving me a more detail with respect to my exception.\n",
    "\n",
    "# If we working on a project while doing debugging entire code. So, sure we call these - [\"exc_info())\"].\n",
    "\n",
    "# So, what is the system(sys) over here. Sys nothing its a module. Module is [.py] or dot py file or dot python file.\n",
    "\n",
    "# Suppose, I am writting my python file.\n",
    "\n",
    "# abc.py anything instead of ABC\n",
    "\n",
    "# This is a module, directly I can import this module functionally in order file. Same things we are going to do over here.\n",
    "\n",
    "# Someone has already written these file (SYS), we are importing these system file inside our code and we are using\n",
    "# these (\"exc_info())\") method.\n",
    "\n",
    "# If we put these value 10 and 20 - As a outcome we are getting outcome (0.5)"
   ]
  },
  {
   "cell_type": "code",
   "execution_count": null,
   "id": "77675516",
   "metadata": {},
   "outputs": [],
   "source": [
    "# FOr understanding :-\n",
    "\n",
    "# Module, we have 2 types\n",
    "\n",
    "#1.Build - in Module and\n",
    "#2.Custom Modules\n",
    "\n",
    "# So, (Sys) system is a Build - in Module."
   ]
  },
  {
   "cell_type": "code",
   "execution_count": 43,
   "id": "46ed6fa5",
   "metadata": {},
   "outputs": [
    {
     "name": "stdout",
     "output_type": "stream",
     "text": [
      "enter first number:10\n",
      "enter second number:0\n",
      "(<class 'ZeroDivisionError'>, ZeroDivisionError('division by zero'), <traceback object at 0x000002867F5A1BC0>)\n",
      "enter first number:10\n",
      "enter second number:20\n",
      "div: 0.5\n"
     ]
    }
   ],
   "source": [
    "# Use 10 and 0 | 10 and 20 for outcome\n",
    "\n",
    "import sys\n",
    "while True :\n",
    "    try :\n",
    "        a = int(input(\"enter first number:\"))\n",
    "        b = int(input(\"enter second number:\"))\n",
    "        c = a/b\n",
    "        print(\"div:\",c)\n",
    "        break\n",
    "    except :\n",
    "        print(sys.exc_info())"
   ]
  },
  {
   "cell_type": "code",
   "execution_count": 2,
   "id": "71543976",
   "metadata": {},
   "outputs": [],
   "source": [
    "# Code No :- 33\n",
    "\n",
    "# Explanation :-\n",
    "\n",
    "# Now we have seen packaging and unpacking. \n",
    "\n",
    "# a,b,c = (1,2,3)\n",
    "\n",
    "#a = 1\n",
    "#b = 2\n",
    "#c = 3\n",
    "\n",
    "# If I write like this -  a,b,c = (1,2,3)\n",
    "\n",
    "# I am print a outcome will be 1, If I am print b outcome will be 2,  If I am print c outcome will be 3.\n",
    "\n",
    "# (1,2,3) This is a my Tuple and we are going to unpacked Tuples inside these (a,b,c) variable.\n",
    "\n",
    "# I am writing over here - [ a,b,c =sys.exc_info()] - Below then this line code are \"Tuples\".\n",
    "\n",
    "# So, I can decode these entire \"Tuples\" inside these variable (a,b,c).\n",
    "\n",
    "# So, in \"a\" what I am getting print \"a\" will be my exception class.\n",
    "\n",
    "# print(\"exception class\",a)\n",
    "# print(\"exception message\",b)\n",
    "\n",
    "# Here what, I am printiing, exception message. Definitely these will be my exception message.\n",
    "\n",
    "# exception class < class.\"zeroDivisionError\", Here are able to get.\n",
    "\n",
    "# print(\"line number,c.tb_lineno\") - with the help of these line - [c.tb_lineno] atribute we can get the line no. also.\n",
    "\n",
    "#[ c = a/b ] - Exception message division by zero line number \"6\".\n",
    "\n",
    "# Line no 6, here is the c = a/b\n",
    "\n",
    "# Why because in [c = a/b] we are getting an Error, line no 6. Like these we can decode our entire \"Error\"."
   ]
  },
  {
   "cell_type": "code",
   "execution_count": 4,
   "id": "d4a8bdca",
   "metadata": {},
   "outputs": [],
   "source": [
    "a,b,c = (1,2,3)"
   ]
  },
  {
   "cell_type": "code",
   "execution_count": 5,
   "id": "eaa9b274",
   "metadata": {},
   "outputs": [
    {
     "data": {
      "text/plain": [
       "1"
      ]
     },
     "execution_count": 5,
     "metadata": {},
     "output_type": "execute_result"
    }
   ],
   "source": [
    "a"
   ]
  },
  {
   "cell_type": "code",
   "execution_count": 6,
   "id": "cf155f9c",
   "metadata": {},
   "outputs": [
    {
     "data": {
      "text/plain": [
       "2"
      ]
     },
     "execution_count": 6,
     "metadata": {},
     "output_type": "execute_result"
    }
   ],
   "source": [
    "b"
   ]
  },
  {
   "cell_type": "code",
   "execution_count": 8,
   "id": "c898e021",
   "metadata": {},
   "outputs": [
    {
     "data": {
      "text/plain": [
       "3"
      ]
     },
     "execution_count": 8,
     "metadata": {},
     "output_type": "execute_result"
    }
   ],
   "source": [
    "c"
   ]
  },
  {
   "cell_type": "code",
   "execution_count": 10,
   "id": "735a4a35",
   "metadata": {},
   "outputs": [
    {
     "name": "stdout",
     "output_type": "stream",
     "text": [
      "first number:10\n",
      "second number:0\n"
     ]
    },
    {
     "ename": "NameError",
     "evalue": "name 'sys' is not defined",
     "output_type": "error",
     "traceback": [
      "\u001b[1;31m---------------------------------------------------------------------------\u001b[0m",
      "\u001b[1;31mZeroDivisionError\u001b[0m                         Traceback (most recent call last)",
      "Cell \u001b[1;32mIn[10], line 5\u001b[0m\n\u001b[0;32m      4\u001b[0m b \u001b[38;5;241m=\u001b[39m \u001b[38;5;28mint\u001b[39m(\u001b[38;5;28minput\u001b[39m(\u001b[38;5;124m\"\u001b[39m\u001b[38;5;124msecond number:\u001b[39m\u001b[38;5;124m\"\u001b[39m))\n\u001b[1;32m----> 5\u001b[0m c \u001b[38;5;241m=\u001b[39m a\u001b[38;5;241m/\u001b[39mb\n\u001b[0;32m      6\u001b[0m \u001b[38;5;28mprint\u001b[39m(\u001b[38;5;124m\"\u001b[39m\u001b[38;5;124mdiv:\u001b[39m\u001b[38;5;124m\"\u001b[39m,c)\n",
      "\u001b[1;31mZeroDivisionError\u001b[0m: division by zero",
      "\nDuring handling of the above exception, another exception occurred:\n",
      "\u001b[1;31mNameError\u001b[0m                                 Traceback (most recent call last)",
      "Cell \u001b[1;32mIn[10], line 9\u001b[0m\n\u001b[0;32m      7\u001b[0m     \u001b[38;5;28;01mbreak\u001b[39;00m\n\u001b[0;32m      8\u001b[0m \u001b[38;5;28;01mexcept\u001b[39;00m :\n\u001b[1;32m----> 9\u001b[0m     a,b,c \u001b[38;5;241m=\u001b[39msys\u001b[38;5;241m.\u001b[39mexc_info()\n\u001b[0;32m     10\u001b[0m     \u001b[38;5;28mprint\u001b[39m(\u001b[38;5;124m\"\u001b[39m\u001b[38;5;124mexception class\u001b[39m\u001b[38;5;124m\"\u001b[39m,a)\n\u001b[0;32m     11\u001b[0m     \u001b[38;5;28mprint\u001b[39m(\u001b[38;5;124m\"\u001b[39m\u001b[38;5;124mexception message\u001b[39m\u001b[38;5;124m\"\u001b[39m,b)\n",
      "\u001b[1;31mNameError\u001b[0m: name 'sys' is not defined"
     ]
    }
   ],
   "source": [
    "while True:\n",
    "    try :\n",
    "        a = int(input(\"first number:\"))\n",
    "        b = int(input(\"second number:\"))\n",
    "        c = a/b\n",
    "        print(\"div:\",c)\n",
    "        break\n",
    "    except :\n",
    "        a,b,c =sys.exc_info()\n",
    "        print(\"exception class\",a)\n",
    "        print(\"exception message\",b)\n",
    "        print(\"line number,c.tb_lineno\")         "
   ]
  },
  {
   "cell_type": "code",
   "execution_count": 11,
   "id": "a955d7b7",
   "metadata": {},
   "outputs": [],
   "source": [
    "# Code No :- 34\n",
    "\n",
    "# Explanation :-\n",
    "\n",
    "# This line code for above code understanding."
   ]
  },
  {
   "cell_type": "code",
   "execution_count": 12,
   "id": "8fc7302b",
   "metadata": {},
   "outputs": [
    {
     "name": "stdout",
     "output_type": "stream",
     "text": [
      "first number:10\n",
      "second number:20\n",
      "div: 0.5\n"
     ]
    }
   ],
   "source": [
    "while True:\n",
    "    try :\n",
    "        a = int(input(\"first number:\"))\n",
    "        b = int(input(\"second number:\"))\n",
    "        c = a/b\n",
    "        print(\"div:\",c)\n",
    "        break\n",
    "    except :\n",
    "        a,b,c =sys.exc_info()\n",
    "        print(\"exception class\",a)\n",
    "        print(\"exception message\",b)\n",
    "        print(\"line number,c.tb_lineno\")"
   ]
  },
  {
   "cell_type": "code",
   "execution_count": 13,
   "id": "2f7944fd",
   "metadata": {},
   "outputs": [],
   "source": [
    "# Code No :- 35\n",
    "\n",
    "# Explanation :-\n",
    "\n",
    "# Let's discussed 1 more module that is called \"Traceback\"  module.\n",
    "\n",
    "# # Import sys.exc.info()\n",
    "\n",
    "# import traceback.format_exc()\n",
    "\n",
    "# As of now we have imported sys module insisde \"Sys\", module we have exc,info(). These method we are having,\n",
    "\n",
    "# by putting #hastagee symbol  let make it comment as of now.\n",
    "\n",
    "# Now, we are having 1 more method import traceback inside these module, we are having function called format_exc().\n",
    "\n",
    "# If we call these function, it will give me a same output.\n",
    "\n",
    "# break\n",
    "# except :\n",
    "#    print(traceback.format_exc)\n",
    "\n",
    "# Here this line of code, I will going to add or make change. If I will call or type 10 & 0. execute code.\n",
    "\n",
    "# import traceback\n",
    "#while True:\n",
    "#    try :\n",
    "#        a = int(input(\"first number:\"))\n",
    "#        b = int(input(\"second number:\"))\n",
    "#        c = a/b\n",
    "\n",
    "# These entire [\"traceback\"] Error above outcome we can see. - [\"ZeroDivisionError: division by zero\"]\n",
    "\n",
    "# Traceback is a module actually, inside these we are having this fucntion.[\"format_exc())\"]\n",
    "\n",
    "# If we run these code by puttung this 2 value 10 and 20. As a outcome we will get the [0.5] outcome.\n",
    "\n",
    "# Now, if we run below code.\n",
    "\n",
    "# a = 10\n",
    "# b = 0\n",
    "# a/b\n",
    "\n",
    "# [\"ZeroDivisionError: division by zero\"] - outcome \n"
   ]
  },
  {
   "cell_type": "code",
   "execution_count": null,
   "id": "1932de1b",
   "metadata": {},
   "outputs": [],
   "source": [
    "# Continuee.....\n",
    "\n",
    "# sys.exc_info() is  (function)- we understood.\n",
    "\n",
    "# \"Traceback.format_exc())\"  - we are having this module.\n",
    "\n",
    "# This thing also we can call, and we are getting description about, my execption. \n",
    "\n",
    "# Why we are getting this descrription whenever we are running the large code or doing any project at that time,\n",
    "\n",
    "# it help us to debugging the project.\n",
    "\n",
    "# Whenever we are going to code our project we have to code in such a way. We are going to handle each and every\n",
    "# exception along with these kind of funtion.\n",
    "\n",
    "# \"Traceback.format_exc())\" - So, we will getting a description (10 & 0 value) about my exception. \n",
    "\n",
    "# Without using any class, we are getting amount of outcome which we are looking for. Instead  of using class fucntion\n",
    "\n",
    "# If we use these \"Trace or sys.exc())\" fucntion we will going to get outcome.\n",
    "\n",
    "# Raise Exception :-\n",
    "\n",
    "# Inside this raise execption, what we are going to do its a manual custom exception. Custom means a custom line. with \n",
    "# the help of code let's understand the custom means.\n"
   ]
  },
  {
   "cell_type": "code",
   "execution_count": 14,
   "id": "f358d01f",
   "metadata": {},
   "outputs": [],
   "source": [
    "# Import sys.exc.info()\n",
    "\n",
    "# import traceback.format_exc()"
   ]
  },
  {
   "cell_type": "code",
   "execution_count": 15,
   "id": "2e117bbe",
   "metadata": {},
   "outputs": [
    {
     "name": "stdout",
     "output_type": "stream",
     "text": [
      "first number:10\n",
      "second number:0\n",
      "Traceback (most recent call last):\n",
      "  File \"C:\\Users\\DELL\\AppData\\Local\\Temp\\ipykernel_21228\\2252312355.py\", line 6, in <module>\n",
      "    c = a/b\n",
      "        ~^~\n",
      "ZeroDivisionError: division by zero\n",
      "\n",
      "first number:10\n",
      "second number:20\n",
      "div: 0.5\n"
     ]
    }
   ],
   "source": [
    "import traceback\n",
    "while True:\n",
    "    try :\n",
    "        a = int(input(\"first number:\"))\n",
    "        b = int(input(\"second number:\"))\n",
    "        c = a/b\n",
    "        print(\"div:\",c)\n",
    "        break\n",
    "    except :\n",
    "        print(traceback.format_exc())"
   ]
  },
  {
   "cell_type": "code",
   "execution_count": 16,
   "id": "3ec8ebae",
   "metadata": {},
   "outputs": [],
   "source": [
    "# Code No :- 36\n",
    "\n",
    "# Explanation :-\n",
    "\n",
    "# Raise Exception :-\n",
    "\n",
    "# Inside this raise exception, what we are getting to do its a Manual custom exception. Custom means a custom line with\n",
    "# the help of code, let's understand the custom means.\n",
    "\n",
    "#  a = int(input(\"first number:\"))\n",
    "#  b = int(input(\"second number:\"))\n",
    "\n",
    "# If we enter the value or 0 and 10 - If I am going to do \"TypeCasting\" means putting \"int\". After that 0 and 10.\n",
    "# As a outcome we are getting 0 and 0.\n",
    "\n",
    "# But, my condition is this number or outcome should be a 0 (Zero).\n",
    "\n",
    "# If I am giving these number is Zero.So, we have to raise the exception at that point of time.\n",
    "\n",
    "# If we enter 10 and 0  also we as a outcome we can see over here we are getting as \"Error\" as a outcome, why because\n",
    "# line no.3 (a/b). It is giving me a execption, we are giving wrong input means 0 \"zero\".\n"
   ]
  },
  {
   "cell_type": "code",
   "execution_count": 20,
   "id": "caffb40e",
   "metadata": {},
   "outputs": [
    {
     "ename": "SyntaxError",
     "evalue": "incomplete input (782913361.py, line 5)",
     "output_type": "error",
     "traceback": [
      "\u001b[1;36m  Cell \u001b[1;32mIn[20], line 5\u001b[1;36m\u001b[0m\n\u001b[1;33m    a/b\u001b[0m\n\u001b[1;37m       ^\u001b[0m\n\u001b[1;31mSyntaxError\u001b[0m\u001b[1;31m:\u001b[0m incomplete input\n"
     ]
    }
   ],
   "source": [
    "# use  0 and 10  for outcome / Use 10 and 0 also\n",
    "\n",
    "while True:\n",
    "    try :\n",
    "        a = int(input(\"first number:\"))\n",
    "        b = int(input(\"second number:\"))\n",
    "        a/b"
   ]
  },
  {
   "cell_type": "code",
   "execution_count": 1,
   "id": "0aa5f2be",
   "metadata": {},
   "outputs": [],
   "source": [
    "# Code No :- 37\n",
    "\n",
    "# Explanation :-\n",
    "\n",
    "# if a<0 or b<0: raise Exception (\"negative number not allowed\") or,\n",
    "# If a<0 or b<0 :  - (\"Negative number not allowed\")\n",
    "\n",
    "# Single line also we can write or in 2 line also this code.\n",
    "\n",
    "# over here this line, we have written a condition.\n",
    "\n",
    "# My condition, I have written,\n",
    "\n",
    "# a<0 - a is less than \"0\" zero.\n",
    "# b>0 - b is less than \"0\" zero.\n",
    "\n",
    "# Then at that time we have to raise a Exception and Inside these exception only we are going to raise\n",
    "# these message. (\"Negative number not allowed\")\n",
    "\n",
    "# c = a/b\n",
    "# print(\"div is\", C)\n",
    "#break\n",
    "#except valueError :\n",
    "#  print(\" \")\n",
    "\n",
    "# except ZeroDivisionError :\n",
    "#   print(\"Please enter non zero denomitor\")\n",
    "\n",
    "# except Except as e :\n",
    "#  print(e)\n",
    "\n",
    "# I am writing further code over here,\n",
    "# c = a/b\n",
    "# There will be a \"break\"\n",
    "\n",
    "# Now, I am going to write Except block.\n",
    "\n",
    "# 1.ValueError :\n",
    "# 2.ZeroError Error :\n",
    "# 3.Exception\n",
    "\n",
    "#Last one more 3.Except block, that except block will be a Exception. Over here, I am going to print this (e).\n",
    "\n",
    "# If we run this code. As a outcome what we are getting.\n"
   ]
  },
  {
   "cell_type": "code",
   "execution_count": null,
   "id": "6bc6939b",
   "metadata": {},
   "outputs": [],
   "source": [
    "# Continueee.....\n",
    "\n",
    "# while True:\n",
    "#    try :\n",
    "#        a = int(input(\"first number:\"))\n",
    "#        b = int(input(\"second number:\"))\n",
    "\n",
    "# while True condition is a and b.\n",
    "\n",
    "# if a<0 or b<0 :\n",
    "#            raise Exception(\"negative number not allowed\")\n",
    "\n",
    "# a<0  - a is less than \"O\" / b<0 - b is less than \"0\".  Here a & b is not same both are different.\n",
    "# Now, we going to raise the exception.\n",
    "\n",
    "# Exception :- \n",
    "\n",
    "# This is actually a built-in class which I have written over here. I can write my custom class also.\n",
    "# How we can raise the custom execption. For these things is the keyword has been given - [\"Raise\"]\n",
    "\n",
    "# Where we have written this raise keyword.\n",
    "\n",
    "# if a<0 or b<0 : - with respect to this above condition. - Exception (\" Negative number are not allowed\") &\n",
    "\n",
    "# Exception this will be the execption message which we are passing. (\" Negative number are not allowed\") \n",
    "\n",
    "# c = a/b\n",
    "#       print(\"div:\",c)\n",
    "#       break\n",
    "\n",
    "# a/b or a upto b - If here  a = 10 , b = 20 then divide('div')\n",
    "\n",
    "# otherwise a =10 and b = 10 then - It will come over here this line - [except ZeroDivisionError:]\n",
    "\n",
    "# If we passing - a =10 and b = a - It will come over here this line - [except ValueError:]\n",
    "\n",
    "# If we are passing if a<0 or b<0 : - which is a<0 or b = 10 both case, it will come to this line - or it will\n",
    "# give me\n",
    "\n",
    "# except Exception as e :\n",
    "#       print(e)\n",
    "\n",
    "# This is why -  10 and 12232 - If we will put 0 or 10. It will come under the line code print that code.\n",
    "\n",
    "# outcome - div:0.0008175277959450621\n",
    "\n",
    "# We have written simple code and we have handle the execption with respect to that code.\n",
    "\n",
    "# If we give written simple code and we have handle the exception with respect to that code. If we put 0 and 10.\n",
    "\n",
    "# If we put 0 and 10.- outcome will be - div is 0.0"
   ]
  },
  {
   "cell_type": "code",
   "execution_count": 22,
   "id": "a1eb0280",
   "metadata": {},
   "outputs": [
    {
     "name": "stdout",
     "output_type": "stream",
     "text": [
      "first number:10\n",
      "second number:0\n",
      "Please enter non Zero denomitor\n",
      "first number:10\n",
      "second number:a\n",
      "please enter int only\n",
      "first number:10\n",
      "second number:-10\n",
      "negative number not allowed\n",
      "first number:10\n",
      "second number:12232\n",
      "div: 0.0008175277959450621\n"
     ]
    }
   ],
   "source": [
    "# Use 10 and 0 | 10 and a | 10 and -10 | 10 and 12232 for outcome\n",
    "\n",
    "while True:\n",
    "    try :\n",
    "        a = int(input(\"first number:\"))\n",
    "        b = int(input(\"second number:\"))\n",
    "        if a<0 or b<0 :\n",
    "            raise Exception(\"negative number not allowed\")\n",
    "        c = a/b\n",
    "        print(\"div:\",c)\n",
    "        break\n",
    "    except ValueError:\n",
    "        print(\"please enter int only\")\n",
    "    except ZeroDivisionError:\n",
    "        print(\"Please enter non Zero denomitor\")\n",
    "    except Exception as e :\n",
    "        print(e)"
   ]
  },
  {
   "cell_type": "code",
   "execution_count": null,
   "id": "12b7525d",
   "metadata": {},
   "outputs": [],
   "source": [
    "# Code No :- 38\n",
    "\n",
    "# Explanation :-\n",
    "\n",
    "# Both the code - If we put - [324423 and -32432 ] and again second code - [10 and -20].As a outcome it will be [\"Error\"]\n",
    "\n",
    "# Let's understand this code :-\n",
    "\n",
    "# we can create a \"Custom Exception\" also. We will work with same code last one but few changes inside.\n",
    "\n",
    "#  if a<0 or b<0 : - raise NegativeNumberExecption(\"negative number not allowed\")\n",
    "\n",
    "# So, over here instead of writting Exception (build-in) Exception. I am giving my own name.\n",
    "\n",
    "# Earlier code - Exception \n",
    "\n",
    "# Now change - Negative NumberException.\n",
    "\n",
    "# This is my custom name with respect to my data.\n",
    "\n",
    "# Another change -\n",
    "\n",
    "# except Exception as e :\n",
    "# Now change - Except NegativeNumber Exception as e :\n",
    "\n",
    "# If we run this code.  - put -  [32456 | -32457] and [10 | -20] if we run this code as a outcome we will get an Error.\n",
    "\n",
    "# Why we are getting NameError over here. Because we did not define class.\n",
    "\n",
    "# If we define class before running this code, then only we will not get any \"Error\"."
   ]
  },
  {
   "cell_type": "code",
   "execution_count": 3,
   "id": "52a372b7",
   "metadata": {},
   "outputs": [
    {
     "name": "stdout",
     "output_type": "stream",
     "text": [
      "first number:324423\n",
      "second number:-32432\n"
     ]
    },
    {
     "ename": "NameError",
     "evalue": "name 'NegativeNumberExecption' is not defined",
     "output_type": "error",
     "traceback": [
      "\u001b[1;31m---------------------------------------------------------------------------\u001b[0m",
      "\u001b[1;31mNameError\u001b[0m                                 Traceback (most recent call last)",
      "Cell \u001b[1;32mIn[3], line 10\u001b[0m\n\u001b[0;32m      9\u001b[0m \u001b[38;5;28;01mif\u001b[39;00m a\u001b[38;5;241m<\u001b[39m\u001b[38;5;241m0\u001b[39m \u001b[38;5;129;01mor\u001b[39;00m b\u001b[38;5;241m<\u001b[39m\u001b[38;5;241m0\u001b[39m :\n\u001b[1;32m---> 10\u001b[0m     \u001b[38;5;28;01mraise\u001b[39;00m NegativeNumberExecption(\u001b[38;5;124m\"\u001b[39m\u001b[38;5;124mnegative number not allowed\u001b[39m\u001b[38;5;124m\"\u001b[39m)\n\u001b[0;32m     11\u001b[0m a \u001b[38;5;241m=\u001b[39m a\u001b[38;5;241m/\u001b[39mb\n",
      "\u001b[1;31mNameError\u001b[0m: name 'NegativeNumberExecption' is not defined",
      "\nDuring handling of the above exception, another exception occurred:\n",
      "\u001b[1;31mNameError\u001b[0m                                 Traceback (most recent call last)",
      "Cell \u001b[1;32mIn[3], line 18\u001b[0m\n\u001b[0;32m     16\u001b[0m \u001b[38;5;28;01mexcept\u001b[39;00m \u001b[38;5;167;01mZeroDivisionError\u001b[39;00m:\n\u001b[0;32m     17\u001b[0m     \u001b[38;5;28mprint\u001b[39m(\u001b[38;5;124m\"\u001b[39m\u001b[38;5;124mPlease enter non Zero denomitor\u001b[39m\u001b[38;5;124m\"\u001b[39m)\n\u001b[1;32m---> 18\u001b[0m \u001b[38;5;28;01mexcept\u001b[39;00m NegativeNumberExecption \u001b[38;5;28;01mas\u001b[39;00m e :\n\u001b[0;32m     19\u001b[0m     \u001b[38;5;28mprint\u001b[39m(e)\n",
      "\u001b[1;31mNameError\u001b[0m: name 'NegativeNumberExecption' is not defined"
     ]
    }
   ],
   "source": [
    "# Use 32456 | -32457 as a outcome it's a \"Error\"\n",
    "\n",
    "# Custom Exception\n",
    "\n",
    "while True:\n",
    "    try :\n",
    "        a = int(input(\"first number:\"))\n",
    "        b = int(input(\"second number:\"))\n",
    "        if a<0 or b<0 :\n",
    "            raise NegativeNumberExecption(\"negative number not allowed\")\n",
    "        a = a/b\n",
    "        print(\"div:\",c)\n",
    "        break\n",
    "    except ValueError:\n",
    "        print(\"please enter int only\")\n",
    "    except ZeroDivisionError:\n",
    "        print(\"Please enter non Zero denomitor\")\n",
    "    except NegativeNumberExecption as e :\n",
    "        print(e)"
   ]
  },
  {
   "cell_type": "code",
   "execution_count": null,
   "id": "43089d9d",
   "metadata": {},
   "outputs": [],
   "source": [
    "# Code No :- 39\n",
    "\n",
    "# Explanation :-\n",
    "\n",
    "# Let's understand :-\n",
    "\n",
    "# Earlier Code why we got NameError.\n",
    "\n",
    "# Because, Here if we are going to add this line of code or if we define this code before writing that code,\n",
    "# then my outcome will not going to give me an Error.\n",
    "\n",
    "# Class NegativeNumberExecption (Exception):\n",
    "# Pass\n",
    "\n",
    "# So, Exception class in \"Python\" already they have define and we are calling this class. \"Python\" create already\n",
    "# define this way if you write then only it will work.\n",
    "\n",
    "# If we are going to define this class (\"NegativeNumberExecption\") in our code then only it will run.\n",
    "\n",
    "# \"Pass \" we have define because, if we don't have to write anything during that time we use \"Pass\".\n",
    "\n",
    "# Now, If we run this code. - 10 and -10 - as a outcome - negative number not allowed.\n",
    "\n",
    "# We can see as a outcome it is giving me an Answer. Its not giving me an any \"Error\". Because we have already define,\n",
    "# our own class over here.\n",
    "\n",
    "# Class NegativeNumberExecption(Exception) :\n",
    "# Pass\n",
    "\n",
    "# Because of these line code we define that is why while running code its not giving me an any \"Error\"."
   ]
  },
  {
   "cell_type": "code",
   "execution_count": 5,
   "id": "d0d830d2",
   "metadata": {},
   "outputs": [
    {
     "name": "stdout",
     "output_type": "stream",
     "text": [
      "first number:10\n",
      "second number:-20\n"
     ]
    },
    {
     "ename": "NameError",
     "evalue": "name 'NegativeNumberExecption' is not defined",
     "output_type": "error",
     "traceback": [
      "\u001b[1;31m---------------------------------------------------------------------------\u001b[0m",
      "\u001b[1;31mNameError\u001b[0m                                 Traceback (most recent call last)",
      "Cell \u001b[1;32mIn[5], line 6\u001b[0m\n\u001b[0;32m      5\u001b[0m \u001b[38;5;28;01mif\u001b[39;00m a\u001b[38;5;241m<\u001b[39m\u001b[38;5;241m0\u001b[39m \u001b[38;5;129;01mor\u001b[39;00m b\u001b[38;5;241m<\u001b[39m\u001b[38;5;241m0\u001b[39m :\n\u001b[1;32m----> 6\u001b[0m     \u001b[38;5;28;01mraise\u001b[39;00m NegativeNumberExecption(\u001b[38;5;124m\"\u001b[39m\u001b[38;5;124mnegative number not allowed\u001b[39m\u001b[38;5;124m\"\u001b[39m)\n\u001b[0;32m      7\u001b[0m a \u001b[38;5;241m=\u001b[39m a\u001b[38;5;241m/\u001b[39mb\n",
      "\u001b[1;31mNameError\u001b[0m: name 'NegativeNumberExecption' is not defined",
      "\nDuring handling of the above exception, another exception occurred:\n",
      "\u001b[1;31mNameError\u001b[0m                                 Traceback (most recent call last)",
      "Cell \u001b[1;32mIn[5], line 14\u001b[0m\n\u001b[0;32m     12\u001b[0m \u001b[38;5;28;01mexcept\u001b[39;00m \u001b[38;5;167;01mZeroDivisionError\u001b[39;00m:\n\u001b[0;32m     13\u001b[0m     \u001b[38;5;28mprint\u001b[39m(\u001b[38;5;124m\"\u001b[39m\u001b[38;5;124mPlease enter non Zero denomitor\u001b[39m\u001b[38;5;124m\"\u001b[39m)\n\u001b[1;32m---> 14\u001b[0m \u001b[38;5;28;01mexcept\u001b[39;00m NegativeNumberExecption \u001b[38;5;28;01mas\u001b[39;00m e :\n\u001b[0;32m     15\u001b[0m     \u001b[38;5;28mprint\u001b[39m(e)\n",
      "\u001b[1;31mNameError\u001b[0m: name 'NegativeNumberExecption' is not defined"
     ]
    }
   ],
   "source": [
    "# Use - 10 | -20 as a outcome it's a \"Error\"\n",
    "\n",
    "while True:\n",
    "    try :\n",
    "        a = int(input(\"first number:\"))\n",
    "        b = int(input(\"second number:\"))\n",
    "        if a<0 or b<0 :\n",
    "            raise NegativeNumberExecption(\"negative number not allowed\")\n",
    "        a = a/b\n",
    "        print(\"div:\",c)\n",
    "        break\n",
    "    except ValueError:\n",
    "        print(\"please enter int only\")\n",
    "    except ZeroDivisionError:\n",
    "        print(\"Please enter non Zero denomitor\")\n",
    "    except NegativeNumberExecption as e :\n",
    "        print(e)"
   ]
  },
  {
   "cell_type": "code",
   "execution_count": 6,
   "id": "9e85b0bd",
   "metadata": {},
   "outputs": [],
   "source": [
    "# Code No :- 40\n",
    "\n",
    "# Let's understand :-\n",
    "\n",
    "# Let's understand Final Block :-\n",
    "\n",
    "# 1.Try\n",
    "# 2.Except\n",
    "# 3.Finally\n",
    "\n",
    "# Why we need a final Block?\n",
    "\n",
    "# We have already use Try & Except Block. Now let's understand final block.\n",
    "\n",
    "# So, here in this code.\n",
    "\n",
    "# If we run this below code by using [10 and 23] \n",
    "\n",
    "# As a outcome - \n",
    "\n",
    "# dont use zero in denomitor\n",
    "# hello\n",
    "# python\n",
    "\n",
    "# As we can see outcome my don't use Zero in denomitor this line coming under Except we can see and we are able \n",
    "# to print that Hello and Python message also."
   ]
  },
  {
   "cell_type": "code",
   "execution_count": 11,
   "id": "1d563935",
   "metadata": {},
   "outputs": [
    {
     "name": "stdout",
     "output_type": "stream",
     "text": [
      "first number:10\n",
      "second number:23\n",
      "dont use zero in denomitor\n",
      "hello\n",
      "python\n"
     ]
    }
   ],
   "source": [
    "# Use - 10 and 23 \n",
    "\n",
    "try :\n",
    "    a = int(input(\"first number:\"))\n",
    "    b = int(input(\"second number:\"))\n",
    "    C = a/b\n",
    "    print(c)\n",
    "except:\n",
    "    print(\"dont use zero in denomitor\")\n",
    "    \n",
    "print(\"hello\")\n",
    "print(\"python\")"
   ]
  },
  {
   "cell_type": "code",
   "execution_count": null,
   "id": "4142657f",
   "metadata": {},
   "outputs": [],
   "source": [
    "# Code No :- 41\n",
    "\n",
    "\n",
    "# Let's understand :-\n",
    "\n",
    "# In python they have introduce Finally block.\n",
    "# Why they have introduce this finally block.\n",
    "\n",
    "# Because, If we want to run code in any situation in all the situation, then we should use these final block.\n",
    "\n",
    "#print(\"hello\")\n",
    "#print(\"python\")\n",
    "\n",
    "# This code are very crucial. In these code many things, depend.\n",
    "\n",
    "# Let's understand :-\n",
    "\n",
    "# Let's suppose, we have created one database of any organization and we forgot to close the connection, in that\n",
    "# case there will be a some kind of loss.\n",
    "\n",
    "# If we are using paid service or some important work using \"SQL\" or \"NOSQL\" database.\n",
    "\n",
    "# 2. Let's Suppose :-\n",
    "\n",
    "# We are using cloud Services & inside these cloud service, we have deploy some application & those application\n",
    "# we forgot to terminate after deployment that senerio it will charge.\n",
    "\n",
    "# So, this types of important document or file, we should keep inside final block.\n",
    "\n",
    "# If we did not keep these file under \"Final Block\" that is also ok no problem. But, there is a possibility that\n",
    "# we might get an Error.\n",
    "\n",
    "# So, always make sure, we should keep those file or code inside the \"Final Block\".\n"
   ]
  },
  {
   "cell_type": "code",
   "execution_count": 13,
   "id": "68ca3afa",
   "metadata": {},
   "outputs": [
    {
     "name": "stdout",
     "output_type": "stream",
     "text": [
      "first number:10\n",
      "second number:20\n",
      "dont use zero in denomitor\n",
      "hello\n",
      "python\n"
     ]
    }
   ],
   "source": [
    "# Use 10 & 20  as a outcome we can see below.\n",
    "\n",
    "try :\n",
    "    a = int(input(\"first number:\"))\n",
    "    b = int(input(\"second number:\"))\n",
    "    C = a/b\n",
    "    print(c)\n",
    "except:\n",
    "    print(\"dont use zero in denomitor\")\n",
    "    \n",
    "print(\"hello\")\n",
    "print(\"python\")"
   ]
  },
  {
   "cell_type": "code",
   "execution_count": 14,
   "id": "c8911b91",
   "metadata": {},
   "outputs": [],
   "source": [
    "# Code No :- 42\n",
    "\n",
    "# Let's understand :-\n",
    "\n",
    "# \"Else Block\" :\n",
    "\n",
    "# If we will going to run this code.\n",
    "\n",
    "# If we use - 10 & 0 - as outcome - [\"Dont use zero in denomitor\"]\n",
    "\n",
    "# If we are getting any execption this try block.So, these block not going to execute.\n",
    "\n",
    "# If we use 10 & 20 - As a outcome will be - 0.5 and "
   ]
  },
  {
   "cell_type": "code",
   "execution_count": 16,
   "id": "98c6090f",
   "metadata": {},
   "outputs": [
    {
     "name": "stdout",
     "output_type": "stream",
     "text": [
      "first number:10\n",
      "second number:0\n",
      "dont use zero in denomitor\n"
     ]
    }
   ],
   "source": [
    "# Use 10 & 0  as a outcome we can see below.\n",
    "\n",
    "try :\n",
    "    a = int(input(\"first number:\"))\n",
    "    b = int(input(\"second number:\"))\n",
    "    C = a/b\n",
    "    print(c)\n",
    "except:\n",
    "    print(\"dont use zero in denomitor\")\n",
    "else:\n",
    "    print(\"Python rocks !!\")"
   ]
  },
  {
   "cell_type": "code",
   "execution_count": null,
   "id": "2dadcf27",
   "metadata": {},
   "outputs": [],
   "source": [
    "# Code No :- 43                    # Else #\n",
    "\n",
    "# Let's understand :-\n",
    "\n",
    "# If we are not getting any exception inside the try block.\n",
    "\n",
    "# Just after try Block this else block will be executed."
   ]
  },
  {
   "cell_type": "code",
   "execution_count": 17,
   "id": "2f9450d1",
   "metadata": {},
   "outputs": [
    {
     "name": "stdout",
     "output_type": "stream",
     "text": [
      "first number:10\n",
      "second number:20\n",
      "dont use zero in denomitor\n"
     ]
    }
   ],
   "source": [
    "# Use 10 & 20  as a outcome we can see below.\n",
    "\n",
    "try :\n",
    "    a = int(input(\"first number:\"))\n",
    "    b = int(input(\"second number:\"))\n",
    "    C = a/b\n",
    "    print(c)\n",
    "except:\n",
    "    print(\"dont use zero in denomitor\")\n",
    "else:\n",
    "    print(\"Python rocks !!\")"
   ]
  },
  {
   "cell_type": "code",
   "execution_count": null,
   "id": "52066a6b",
   "metadata": {},
   "outputs": [],
   "source": [
    "# Code No :- 44                               # Finally #\n",
    "\n",
    "\n",
    "# Let's understand :-\n",
    "\n",
    "# If we will going to write finally.So, definitelly we will be able to get these outcome also."
   ]
  },
  {
   "cell_type": "code",
   "execution_count": 19,
   "id": "229bb3b8",
   "metadata": {},
   "outputs": [
    {
     "name": "stdout",
     "output_type": "stream",
     "text": [
      "first number:10\n",
      "second number:0\n",
      "dont use zero in denomitor\n",
      "Python rocks !!\n"
     ]
    }
   ],
   "source": [
    "# Use 10 & 0  as a outcome we can see below.\n",
    "\n",
    "try :\n",
    "    a = int(input(\"first number:\"))\n",
    "    b = int(input(\"second number:\"))\n",
    "    C = a/b\n",
    "    print(c)\n",
    "except:\n",
    "    print(\"dont use zero in denomitor\")\n",
    "finally:\n",
    "    print(\"Python rocks !!\")"
   ]
  },
  {
   "cell_type": "code",
   "execution_count": 21,
   "id": "c4a50a74",
   "metadata": {},
   "outputs": [],
   "source": [
    "                       "
   ]
  },
  {
   "cell_type": "markdown",
   "id": "682b5edd",
   "metadata": {},
   "source": [
    "                                     Just for understanding how Finally Block use\n",
    "    \n",
    "    \n",
    "\n",
    "#Lets understand :-\n",
    "\n",
    "#Senerio -\n",
    "\n",
    "#Suppose I have written - String = \"database connection\".....\n",
    "\n",
    "#\"String for database connection\" and I got Error.\n",
    "\n",
    "#Then I will try to keep that Error line under the \"TRY BLOCK\" & \n",
    "\n",
    "#I will write message inside execpt block try and except both are fine.\n",
    "\n",
    "#So, what we have to do, we have to close the connection of this database.\n",
    "\n",
    "#So, any how I have to close the database connection because its important file of my project, if I will not close\n",
    "#it will charge in cloud.\n",
    "\n",
    "#So, I will write or close this inside finally because, there is surety with respect to my code that my connection\n",
    "#will be closed or what I was trying to do will be close, if code coming under finally block.\n",
    "\n",
    "#If we will write without finally also, I will get outcome or result.\n",
    "\n",
    "#But that is not a good practise, always try to write inside finally block."
   ]
  },
  {
   "cell_type": "code",
   "execution_count": null,
   "id": "19d98faf",
   "metadata": {},
   "outputs": [],
   "source": []
  }
 ],
 "metadata": {
  "kernelspec": {
   "display_name": "Python 3 (ipykernel)",
   "language": "python",
   "name": "python3"
  },
  "language_info": {
   "codemirror_mode": {
    "name": "ipython",
    "version": 3
   },
   "file_extension": ".py",
   "mimetype": "text/x-python",
   "name": "python",
   "nbconvert_exporter": "python",
   "pygments_lexer": "ipython3",
   "version": "3.11.5"
  }
 },
 "nbformat": 4,
 "nbformat_minor": 5
}
