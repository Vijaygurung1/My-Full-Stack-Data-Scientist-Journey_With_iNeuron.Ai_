{
 "cells": [
  {
   "cell_type": "markdown",
   "id": "0a44be63",
   "metadata": {},
   "source": [
    "                                        #28-MAY-22\n",
    "\n",
    "                                   5th Class - \"Python\"\n",
    "\n",
    "                                         FOR LOOP                             "
   ]
  },
  {
   "cell_type": "code",
   "execution_count": 3,
   "id": "52b41c25",
   "metadata": {},
   "outputs": [],
   "source": [
    "#1. No Code -\n",
    "\n",
    "l = [1,2,3,4, \"vijay\",\"gurung\",45.56]"
   ]
  },
  {
   "cell_type": "code",
   "execution_count": 5,
   "id": "faf058ae",
   "metadata": {},
   "outputs": [
    {
     "name": "stdout",
     "output_type": "stream",
     "text": [
      "1\n",
      "2\n",
      "3\n",
      "4\n",
      "vijay\n",
      "gurung\n",
      "45.56\n"
     ]
    }
   ],
   "source": [
    "l = [1,2,3,4, \"vijay\",\"gurung\",45.56]\n",
    "for i in l :\n",
    "        print(i)"
   ]
  },
  {
   "cell_type": "code",
   "execution_count": 6,
   "id": "5f21934e",
   "metadata": {},
   "outputs": [
    {
     "name": "stdout",
     "output_type": "stream",
     "text": [
      "[1, 2, 3, 4, 'vijay', 'gurung', 45.56]\n",
      "[1, 2, 3, 4, 'vijay', 'gurung', 45.56]\n",
      "[1, 2, 3, 4, 'vijay', 'gurung', 45.56]\n",
      "[1, 2, 3, 4, 'vijay', 'gurung', 45.56]\n",
      "[1, 2, 3, 4, 'vijay', 'gurung', 45.56]\n",
      "[1, 2, 3, 4, 'vijay', 'gurung', 45.56]\n",
      "[1, 2, 3, 4, 'vijay', 'gurung', 45.56]\n"
     ]
    }
   ],
   "source": [
    "#2.  No Code -\n",
    "\n",
    "l = [1,2,3,4, \"vijay\",\"gurung\",45.56]\n",
    "for i in l :\n",
    "        print(l)"
   ]
  },
  {
   "cell_type": "code",
   "execution_count": 7,
   "id": "b6c5e30a",
   "metadata": {},
   "outputs": [
    {
     "ename": "IndentationError",
     "evalue": "expected an indented block (54498957.py, line 4)",
     "output_type": "error",
     "traceback": [
      "\u001b[1;36m  File \u001b[1;32m\"C:\\Users\\Admin\\AppData\\Local\\Temp\\ipykernel_7088\\54498957.py\"\u001b[1;36m, line \u001b[1;32m4\u001b[0m\n\u001b[1;33m    for i in l :\u001b[0m\n\u001b[1;37m                ^\u001b[0m\n\u001b[1;31mIndentationError\u001b[0m\u001b[1;31m:\u001b[0m expected an indented block\n"
     ]
    }
   ],
   "source": [
    "#3. No Code -\n",
    "\n",
    "l = [1,2,3,4, \"vijay\",\"gurung\",45.56]\n",
    "for i in l :"
   ]
  },
  {
   "cell_type": "code",
   "execution_count": 8,
   "id": "49e2b675",
   "metadata": {},
   "outputs": [],
   "source": [
    "#4. No Code - As a outcome its blank\n",
    "\n",
    "l = [1,2,3,4, \"vijay\",\"gurung\",45.56]\n",
    "for i in l :\n",
    "    pass"
   ]
  },
  {
   "cell_type": "code",
   "execution_count": null,
   "id": "76659584",
   "metadata": {},
   "outputs": [],
   "source": []
  },
  {
   "cell_type": "code",
   "execution_count": 9,
   "id": "dd3ad77d",
   "metadata": {},
   "outputs": [
    {
     "name": "stdout",
     "output_type": "stream",
     "text": [
      "v\n",
      "i\n",
      "j\n",
      "a\n",
      "y\n"
     ]
    }
   ],
   "source": [
    "#5. No Code- \n",
    "\n",
    "v = \"vijay\"\n",
    "for i in v :\n",
    "    print(i)"
   ]
  },
  {
   "cell_type": "code",
   "execution_count": 10,
   "id": "6bec2a8f",
   "metadata": {},
   "outputs": [
    {
     "name": "stdout",
     "output_type": "stream",
     "text": [
      "1\n",
      "2\n",
      "3\n",
      "4\n",
      "vijay\n",
      "gurung\n",
      "45.56\n",
      "if for loop is going to complete itself then it will execute else\n"
     ]
    }
   ],
   "source": [
    "#5. No Code- \n",
    "\n",
    "l = [1,2,3,4, \"vijay\",\"gurung\",45.56]\n",
    "for i in l :\n",
    "    print(i)\n",
    "else :\n",
    "    print(\"if for loop is going to complete itself then it will execute else\")"
   ]
  },
  {
   "cell_type": "code",
   "execution_count": 11,
   "id": "fd94b93d",
   "metadata": {},
   "outputs": [
    {
     "name": "stdout",
     "output_type": "stream",
     "text": [
      "1\n",
      "2\n",
      "3\n"
     ]
    }
   ],
   "source": [
    "#6. No Code- \n",
    "\n",
    "l = [1,2,3,4, \"vijay\",\"gurung\",45.56]\n",
    "for i in l :\n",
    "    if i == 4 :\n",
    "        break\n",
    "    print(i)\n",
    "else :\n",
    "    print(\"this will execute only if for is going to complete itself\")"
   ]
  },
  {
   "cell_type": "code",
   "execution_count": 12,
   "id": "ce825f3a",
   "metadata": {},
   "outputs": [
    {
     "name": "stdout",
     "output_type": "stream",
     "text": [
      "v\n",
      "i\n",
      "j\n",
      "a\n",
      "y\n",
      "g\n",
      "u\n",
      "r\n",
      "u\n"
     ]
    }
   ],
   "source": [
    "#7. No Code - This code we have given \"n\" as a limitation,So it will check upto \"n\" letter and print upto there.\n",
    "\n",
    "v = \"vijaygurung\"\n",
    "for i in v :\n",
    "    if i == \"n\" :\n",
    "        break\n",
    "    print(i)\n",
    "else:\n",
    "    print(\"print string\",v)"
   ]
  },
  {
   "cell_type": "code",
   "execution_count": 14,
   "id": "8c126892",
   "metadata": {},
   "outputs": [
    {
     "name": "stdout",
     "output_type": "stream",
     "text": [
      "v\n",
      "i\n",
      "j\n",
      "a\n",
      "y\n",
      "g\n",
      "u\n",
      "r\n",
      "u\n",
      "n\n",
      "g\n",
      "print string vijaygurung\n"
     ]
    }
   ],
   "source": [
    "#8 No Code - This code we can see that it executed entire sentences.Because we have used \"Z\". which is not exist in my \"string\".\n",
    "\n",
    "# Here I have not given any stop point so it printed entire \"string\" or sentences.\n",
    "\n",
    "v = \"vijaygurung\"\n",
    "for i in v :\n",
    "    if i == \"z\" :\n",
    "        break\n",
    "    print(i)\n",
    "else :\n",
    "    print(\"print string\", v)"
   ]
  },
  {
   "cell_type": "code",
   "execution_count": 15,
   "id": "a181ccc1",
   "metadata": {},
   "outputs": [
    {
     "name": "stdout",
     "output_type": "stream",
     "text": [
      "4\n",
      "5\n",
      "6\n",
      "7\n",
      "8\n",
      "6\n",
      "vijay\n"
     ]
    }
   ],
   "source": [
    "# 9 No Code :\n",
    "\n",
    "t = (4,5,6,7,8,6,\"vijay\")\n",
    "for i in t :\n",
    "    print(i)"
   ]
  },
  {
   "cell_type": "code",
   "execution_count": 16,
   "id": "71e99e94",
   "metadata": {},
   "outputs": [],
   "source": [
    "                      # Difference between \"Tuples\" & \"List\" \n",
    "    \n",
    "# \"Tuples\" are Immutable or Immutability\" & \n",
    "\n",
    "# \"List\" are Mutable or Mutability object.\n",
    "\n",
    "\n",
    "# Note :- Difference between \"Immutable\" & \"Mutable\"\n",
    "\n",
    "# Mutability is a phenomenon where if i will be able to change something in a particular indexes of a collection.\n",
    "                       # If I would not able to do it in that case it is called as Immutability object.\n",
    "    \n",
    "    \n",
    "# Extraction of Dataset is possible for all those below mention.\n",
    "\n",
    "# 1.\"String\" 2.\"List\" 3. \"Tuples\" 4. \"Set\" 5. \"Dictionary\"\n",
    "\n"
   ]
  },
  {
   "cell_type": "code",
   "execution_count": 17,
   "id": "f2fced0f",
   "metadata": {},
   "outputs": [],
   "source": [
    "                                       # Set\n",
    "    \n",
    "#10 No Code - It removed the duplicated value.\n",
    "\n",
    "b = {4,5,6,7,7,7,7,7,7,7,8, \"vijay\"}"
   ]
  },
  {
   "cell_type": "code",
   "execution_count": 18,
   "id": "57849708",
   "metadata": {},
   "outputs": [
    {
     "data": {
      "text/plain": [
       "set"
      ]
     },
     "execution_count": 18,
     "metadata": {},
     "output_type": "execute_result"
    }
   ],
   "source": [
    "type(b)"
   ]
  },
  {
   "cell_type": "code",
   "execution_count": 20,
   "id": "1d316ed4",
   "metadata": {},
   "outputs": [],
   "source": [
    "b = {4,5,6,7,7,7,7,7,7,7,8, \"vijay\"}"
   ]
  },
  {
   "cell_type": "code",
   "execution_count": 21,
   "id": "df223063",
   "metadata": {},
   "outputs": [
    {
     "data": {
      "text/plain": [
       "{4, 5, 6, 7, 8, 'vijay'}"
      ]
     },
     "execution_count": 21,
     "metadata": {},
     "output_type": "execute_result"
    }
   ],
   "source": [
    "b"
   ]
  },
  {
   "cell_type": "code",
   "execution_count": 23,
   "id": "ca1ab60c",
   "metadata": {},
   "outputs": [
    {
     "name": "stdout",
     "output_type": "stream",
     "text": [
      "4\n",
      "5\n",
      "6\n",
      "7\n",
      "8\n",
      "vijay\n"
     ]
    }
   ],
   "source": [
    "#11 No Code :\n",
    "\n",
    "b = {4,5,6,7,8,\"vijay\"}\n",
    "for i in b :\n",
    "    print(i)"
   ]
  },
  {
   "cell_type": "code",
   "execution_count": 2,
   "id": "8314de93",
   "metadata": {},
   "outputs": [
    {
     "name": "stdout",
     "output_type": "stream",
     "text": [
      "key1\n",
      "Contact\n",
      "position\n"
     ]
    }
   ],
   "source": [
    "#12 No code :\n",
    "\n",
    "d = {\"key1\" : \"vijay\", \"Contact\": \"vijaygurung555@gmail.com\",\"position\": \"xyz\"}\n",
    "for i in d :\n",
    "    print(i)"
   ]
  },
  {
   "cell_type": "code",
   "execution_count": 3,
   "id": "48b667c7",
   "metadata": {},
   "outputs": [
    {
     "name": "stdout",
     "output_type": "stream",
     "text": [
      "vijay\n",
      "vijaygurung555@gmail.com\n",
      "xyz\n"
     ]
    }
   ],
   "source": [
    "#13 No Code :\n",
    "\n",
    "d = {\"key1\" : \"vijay\", \"Contact\": \"vijaygurung555@gmail.com\",\"position\": \"xyz\"}\n",
    "for i in d :\n",
    "    print(d[i])"
   ]
  },
  {
   "cell_type": "code",
   "execution_count": 4,
   "id": "642dd470",
   "metadata": {},
   "outputs": [
    {
     "name": "stdout",
     "output_type": "stream",
     "text": [
      "key1 : vijay\n",
      "Contact : vijaygurung555@gmail.com\n",
      "position : xyz\n"
     ]
    }
   ],
   "source": [
    "#14 No Code :\n",
    "\n",
    "d = {\"key1\" : \"vijay\", \"Contact\": \"vijaygurung555@gmail.com\",\"position\": \"xyz\"}\n",
    "for i in d :\n",
    "    print(i,\":\",d[i])"
   ]
  },
  {
   "cell_type": "code",
   "execution_count": 46,
   "id": "d2600558",
   "metadata": {},
   "outputs": [
    {
     "data": {
      "text/plain": [
       "range(0, 9)"
      ]
     },
     "execution_count": 46,
     "metadata": {},
     "output_type": "execute_result"
    }
   ],
   "source": [
    "# 15 No Code :\n",
    "\n",
    "range(9)"
   ]
  },
  {
   "cell_type": "code",
   "execution_count": 7,
   "id": "891ffc17",
   "metadata": {},
   "outputs": [
    {
     "data": {
      "text/plain": [
       "[0, 1, 2, 3, 4, 5, 6, 7, 8]"
      ]
     },
     "execution_count": 7,
     "metadata": {},
     "output_type": "execute_result"
    }
   ],
   "source": [
    "list(range(9))"
   ]
  },
  {
   "cell_type": "code",
   "execution_count": 10,
   "id": "e1407ef3",
   "metadata": {},
   "outputs": [
    {
     "name": "stdout",
     "output_type": "stream",
     "text": [
      "0\n",
      "1\n",
      "2\n",
      "3\n",
      "4\n",
      "5\n",
      "6\n",
      "7\n",
      "8\n"
     ]
    }
   ],
   "source": [
    "for i in range(9) :\n",
    "    print(i)"
   ]
  },
  {
   "cell_type": "code",
   "execution_count": null,
   "id": "322fd042",
   "metadata": {},
   "outputs": [],
   "source": [
    "                                 # \"RANGE\"\n",
    "# Range - Range is nothing but, range  is a kind of a function which is been used to produce a dataset \n",
    "#at any point of a time."
   ]
  },
  {
   "cell_type": "code",
   "execution_count": 11,
   "id": "afcc9aab",
   "metadata": {},
   "outputs": [
    {
     "data": {
      "text/plain": [
       "range(0, 9)"
      ]
     },
     "execution_count": 11,
     "metadata": {},
     "output_type": "execute_result"
    }
   ],
   "source": [
    "range(0,9)"
   ]
  },
  {
   "cell_type": "code",
   "execution_count": 12,
   "id": "de6eff49",
   "metadata": {},
   "outputs": [
    {
     "data": {
      "text/plain": [
       "[0, 1, 2, 3, 4, 5, 6, 7, 8]"
      ]
     },
     "execution_count": 12,
     "metadata": {},
     "output_type": "execute_result"
    }
   ],
   "source": [
    "list(range(0,9))"
   ]
  },
  {
   "cell_type": "code",
   "execution_count": 13,
   "id": "c3b88604",
   "metadata": {},
   "outputs": [
    {
     "data": {
      "text/plain": [
       "[0, 1, 2, 3, 4, 5, 6, 7, 8]"
      ]
     },
     "execution_count": 13,
     "metadata": {},
     "output_type": "execute_result"
    }
   ],
   "source": [
    "list(range(0,9,1))"
   ]
  },
  {
   "cell_type": "code",
   "execution_count": 14,
   "id": "05633026",
   "metadata": {},
   "outputs": [
    {
     "data": {
      "text/plain": [
       "[0, 1, 2, 3, 4, 5, 6, 7, 8]"
      ]
     },
     "execution_count": 14,
     "metadata": {},
     "output_type": "execute_result"
    }
   ],
   "source": [
    "list(range(0,9))"
   ]
  },
  {
   "cell_type": "code",
   "execution_count": 15,
   "id": "dcd9993a",
   "metadata": {},
   "outputs": [
    {
     "data": {
      "text/plain": [
       "[]"
      ]
     },
     "execution_count": 15,
     "metadata": {},
     "output_type": "execute_result"
    }
   ],
   "source": [
    "list(range(0,9,-1))"
   ]
  },
  {
   "cell_type": "code",
   "execution_count": 16,
   "id": "614ddba9",
   "metadata": {},
   "outputs": [
    {
     "data": {
      "text/plain": [
       "[9, 8, 7, 6, 5, 4, 3, 2, 1]"
      ]
     },
     "execution_count": 16,
     "metadata": {},
     "output_type": "execute_result"
    }
   ],
   "source": [
    "list(range(9,0,-1))"
   ]
  },
  {
   "cell_type": "code",
   "execution_count": 1,
   "id": "8d948755",
   "metadata": {},
   "outputs": [
    {
     "name": "stdout",
     "output_type": "stream",
     "text": [
      "vijay \n",
      "\n",
      "vijay vijay \n",
      "\n",
      "vijay vijay vijay \n",
      "\n",
      "vijay vijay vijay vijay \n",
      "\n"
     ]
    }
   ],
   "source": [
    "#16 No Code :-\n",
    "\n",
    "n = 4 \n",
    "for i in range(4) :\n",
    "    for j in range (0, i+1) :\n",
    "        print(\"vijay\",end=\" \")\n",
    "    print(\"\\n\")"
   ]
  },
  {
   "cell_type": "code",
   "execution_count": 2,
   "id": "c03f61a7",
   "metadata": {},
   "outputs": [
    {
     "name": "stdout",
     "output_type": "stream",
     "text": [
      "vijay   \n",
      "\n",
      "vijay   vijay   \n",
      "\n",
      "vijay   vijay   vijay   \n",
      "\n",
      "vijay   vijay   vijay   vijay   \n",
      "\n"
     ]
    }
   ],
   "source": [
    "# No Code :-\n",
    "\n",
    "n = 4 \n",
    "for i in range(4) :\n",
    "    for j in range (0, i+1) :\n",
    "        print(\"vijay\",end=\"   \")\n",
    "    print(\"\\n\")"
   ]
  },
  {
   "cell_type": "code",
   "execution_count": 5,
   "id": "c5575b7d",
   "metadata": {},
   "outputs": [
    {
     "name": "stdout",
     "output_type": "stream",
     "text": [
      "vijay\n",
      "\n",
      "vijayvijay\n",
      "\n",
      "vijayvijayvijay\n",
      "\n",
      "vijayvijayvijayvijay\n",
      "\n"
     ]
    }
   ],
   "source": [
    "# No Code :-\n",
    "\n",
    "n = 4 \n",
    "for i in range(4) :\n",
    "    for j in range (0, i+1) :\n",
    "        print(\"vijay\",end=\"\")\n",
    "    print(\"\\n\")"
   ]
  },
  {
   "cell_type": "code",
   "execution_count": 6,
   "id": "ab2494a8",
   "metadata": {},
   "outputs": [
    {
     "name": "stdout",
     "output_type": "stream",
     "text": [
      "            vijay \n",
      "      vijay vijay vijay \n",
      "vijay vijay vijay vijay vijay \n",
      "vijay vijay vijay vijay vijay vijay vijay \n"
     ]
    }
   ],
   "source": [
    "#17 No Code :-\n",
    "\n",
    "n = 3 \n",
    "for i in range(4) :\n",
    "    for j in range (i, n-1) :\n",
    "        print(\" \" * len(\"vijay\"),end=\" \")\n",
    "    for j in range(i+1):\n",
    "        print(\"vijay\",end=\" \")\n",
    "    for j in range(i):\n",
    "        print(\"vijay\",end=\" \")\n",
    "    print()"
   ]
  },
  {
   "cell_type": "code",
   "execution_count": 8,
   "id": "c70256d5",
   "metadata": {},
   "outputs": [],
   "source": [
    "#18 No code :-\n",
    "\n",
    "t = (3,23,45,67,2,4,5,6)"
   ]
  },
  {
   "cell_type": "code",
   "execution_count": 9,
   "id": "b882a7c7",
   "metadata": {},
   "outputs": [],
   "source": [
    "t = (3,23,45,67,2,4,5,6)"
   ]
  },
  {
   "cell_type": "code",
   "execution_count": 10,
   "id": "e4e6b548",
   "metadata": {},
   "outputs": [
    {
     "data": {
      "text/plain": [
       "8"
      ]
     },
     "execution_count": 10,
     "metadata": {},
     "output_type": "execute_result"
    }
   ],
   "source": [
    "len(t)"
   ]
  },
  {
   "cell_type": "code",
   "execution_count": 11,
   "id": "a8403a07",
   "metadata": {},
   "outputs": [
    {
     "data": {
      "text/plain": [
       "range(0, 8)"
      ]
     },
     "execution_count": 11,
     "metadata": {},
     "output_type": "execute_result"
    }
   ],
   "source": [
    "range(len(t))\n",
    "range(0,8)"
   ]
  },
  {
   "cell_type": "code",
   "execution_count": 12,
   "id": "a13b0a93",
   "metadata": {},
   "outputs": [
    {
     "data": {
      "text/plain": [
       "[0, 1, 2, 3, 4, 5, 6, 7]"
      ]
     },
     "execution_count": 12,
     "metadata": {},
     "output_type": "execute_result"
    }
   ],
   "source": [
    "#19 No Code - If i am going to convert these things into \"List\"\n",
    "\n",
    "list(range(len(t)))"
   ]
  },
  {
   "cell_type": "code",
   "execution_count": 14,
   "id": "5d4bd950",
   "metadata": {},
   "outputs": [
    {
     "name": "stdout",
     "output_type": "stream",
     "text": [
      "0\n",
      "1\n",
      "2\n",
      "3\n",
      "4\n",
      "5\n",
      "6\n",
      "7\n"
     ]
    }
   ],
   "source": [
    "#20 No Code :\n",
    "\n",
    "#Try to print its respective indexes as well.\n",
    "\n",
    "#How it internally works - In the very 1st iterator, \n",
    "\n",
    "# the value of i = 0 ,2nd iterator value of i = 1, 3rd interator value of i = 2 these way it goes upto 7.\n",
    "\n",
    "for i in range(len(t)) :\n",
    "    print(i)"
   ]
  },
  {
   "cell_type": "code",
   "execution_count": 16,
   "id": "3462f67a",
   "metadata": {},
   "outputs": [
    {
     "name": "stdout",
     "output_type": "stream",
     "text": [
      "0 3\n",
      "1 23\n",
      "2 45\n",
      "3 67\n",
      "4 2\n",
      "5 4\n",
      "6 5\n",
      "7 6\n"
     ]
    }
   ],
   "source": [
    "#21 No Code :\n",
    "\n",
    "# In upper code, we can see It will be able to give us a \"indexes\" (0 to 7) \n",
    "\n",
    "# But now along with that, I have to extract element.As a outcome we can see that I am able to get an indexes as well as\n",
    "# respectve element.\n",
    "\n",
    "for i in range(len(t)) :\n",
    "    print(i,t[i])"
   ]
  },
  {
   "cell_type": "code",
   "execution_count": 17,
   "id": "eca7203f",
   "metadata": {},
   "outputs": [],
   "source": [
    "#22 No Code :\n",
    "\n",
    "v = \"ineuron\""
   ]
  },
  {
   "cell_type": "code",
   "execution_count": 18,
   "id": "ec19c76c",
   "metadata": {},
   "outputs": [
    {
     "data": {
      "text/plain": [
       "range(0, 7)"
      ]
     },
     "execution_count": 18,
     "metadata": {},
     "output_type": "execute_result"
    }
   ],
   "source": [
    "range(len(v))"
   ]
  },
  {
   "cell_type": "code",
   "execution_count": 19,
   "id": "572c5292",
   "metadata": {},
   "outputs": [
    {
     "name": "stdout",
     "output_type": "stream",
     "text": [
      "0\n",
      "1\n",
      "2\n",
      "3\n",
      "4\n",
      "5\n",
      "6\n"
     ]
    }
   ],
   "source": [
    "#23 No code :\n",
    "\n",
    "for i in range(len(v)):\n",
    "    print(i)"
   ]
  },
  {
   "cell_type": "code",
   "execution_count": 21,
   "id": "c16e3d30",
   "metadata": {},
   "outputs": [
    {
     "name": "stdout",
     "output_type": "stream",
     "text": [
      "0 i\n",
      "1 n\n",
      "2 e\n",
      "3 u\n",
      "4 r\n",
      "5 o\n",
      "6 n\n"
     ]
    }
   ],
   "source": [
    "# 24 No Code :\n",
    "\n",
    "#Index = 0,1,2,3,4,5,6 & Element =  i,n,e,u,r,o,n\n",
    "\n",
    "for i in range(len(v)) :\n",
    "    print(i, v[i])"
   ]
  },
  {
   "cell_type": "code",
   "execution_count": 22,
   "id": "2470f1a4",
   "metadata": {},
   "outputs": [
    {
     "data": {
      "text/plain": [
       "[0, 1, 2, 3, 4, 5, 6]"
      ]
     },
     "execution_count": 22,
     "metadata": {},
     "output_type": "execute_result"
    }
   ],
   "source": [
    "#25 No Code :\n",
    "\n",
    "# Here, Upper code same thing Index & Element outcome wanted to print,But this time into a reverse format.\n",
    "\n",
    "# Before that lets try understand others pratise code.\n",
    "\n",
    "\n",
    "list(range(len(v)))"
   ]
  },
  {
   "cell_type": "code",
   "execution_count": 31,
   "id": "35579f30",
   "metadata": {},
   "outputs": [
    {
     "data": {
      "text/plain": [
       "[]"
      ]
     },
     "execution_count": 31,
     "metadata": {},
     "output_type": "execute_result"
    }
   ],
   "source": [
    "list(range(len(v),0))"
   ]
  },
  {
   "cell_type": "code",
   "execution_count": 32,
   "id": "88345348",
   "metadata": {},
   "outputs": [
    {
     "data": {
      "text/plain": [
       "[7, 6, 5, 4, 3, 2, 1]"
      ]
     },
     "execution_count": 32,
     "metadata": {},
     "output_type": "execute_result"
    }
   ],
   "source": [
    "#26 No Code:\n",
    "\n",
    "# Let suppose if we use (-1) over here,as outcome we can see we are missed out (0), I am suppose to produce \"0\" as well.\n",
    "# I have given these upper bound \"0\" this is only region it is tryig to excluding \"0\" zero.\n",
    "\n",
    "list(range(len(v),0,-1))"
   ]
  },
  {
   "cell_type": "code",
   "execution_count": 35,
   "id": "8716cdb0",
   "metadata": {},
   "outputs": [
    {
     "data": {
      "text/plain": [
       "[7, 6, 5, 4, 3, 2, 1, 0]"
      ]
     },
     "execution_count": 35,
     "metadata": {},
     "output_type": "execute_result"
    }
   ],
   "source": [
    "# 27 No Code :\n",
    "\n",
    "# Here I have replace 0 zero with -1 as a upper bound, In these case as a outcome it will going to produce \"0\" zero also.\n",
    "# In a reverse order.\n",
    "\n",
    "list(range(len(v),-1,-1))"
   ]
  },
  {
   "cell_type": "code",
   "execution_count": 36,
   "id": "10195c25",
   "metadata": {},
   "outputs": [],
   "source": [
    "# 28 No code :\n",
    "\n",
    "# But outcome is ok, But if we check that my real total index which is available inside \"INEURON\".\n",
    "\n",
    "# Can we say that we do not have index starting from (0, 7), It actually our index is (0, 6)\n",
    "\n",
    "# We have produce these [7, 6, 5, 4, 3, 2, 1, 0] which is not correct."
   ]
  },
  {
   "cell_type": "code",
   "execution_count": 38,
   "id": "25c2e08f",
   "metadata": {},
   "outputs": [
    {
     "data": {
      "text/plain": [
       "[6, 5, 4, 3, 2, 1, 0]"
      ]
     },
     "execution_count": 38,
     "metadata": {},
     "output_type": "execute_result"
    }
   ],
   "source": [
    "# 29 No Code :\n",
    "\n",
    "#lets produce correct one ( 0, 6 ), which is reversed order (6, 0)\n",
    "\n",
    "# As a outcome we got a correct one produce (6, 0).Now I am able to produce reversed order (0, 6)\n",
    "\n",
    "list(range(len(v)-1,-1,-1))"
   ]
  },
  {
   "cell_type": "code",
   "execution_count": 39,
   "id": "8b79953b",
   "metadata": {},
   "outputs": [
    {
     "name": "stdout",
     "output_type": "stream",
     "text": [
      "6\n",
      "5\n",
      "4\n",
      "3\n",
      "2\n",
      "1\n",
      "0\n"
     ]
    }
   ],
   "source": [
    "#30 No Code :-\n",
    "\n",
    "# As a outcome we can see we are ablr to print all index in a reversed direction.\n",
    "\n",
    "for i in range(len(v)-1,-1,-1) :\n",
    "    print(i)"
   ]
  },
  {
   "cell_type": "code",
   "execution_count": 41,
   "id": "dac9853b",
   "metadata": {},
   "outputs": [
    {
     "name": "stdout",
     "output_type": "stream",
     "text": [
      "6 n\n",
      "5 o\n",
      "4 r\n",
      "3 u\n",
      "2 e\n",
      "1 n\n",
      "0 i\n"
     ]
    }
   ],
   "source": [
    "# 31 No code:-\n",
    "\n",
    "# If I want to see Index as well as value or character then, if I will add these line code v[i], then we can see both\n",
    "# Index as well as Value or character.\n",
    "\n",
    "for i in range(len(v)-1,-1,-1) :\n",
    "    print(i, v[i])"
   ]
  },
  {
   "cell_type": "code",
   "execution_count": 5,
   "id": "6fb8d69f",
   "metadata": {},
   "outputs": [
    {
     "data": {
      "text/plain": [
       "{'key1': 'vijay', 'Contact': 'vijaygurung555@gmail.com', 'position': 'xyz'}"
      ]
     },
     "execution_count": 5,
     "metadata": {},
     "output_type": "execute_result"
    }
   ],
   "source": [
    "# 32 No code ;-\n",
    "\n",
    "d"
   ]
  },
  {
   "cell_type": "code",
   "execution_count": 6,
   "id": "a6f45886",
   "metadata": {},
   "outputs": [
    {
     "data": {
      "text/plain": [
       "dict_items([('key1', 'vijay'), ('Contact', 'vijaygurung555@gmail.com'), ('position', 'xyz')])"
      ]
     },
     "execution_count": 6,
     "metadata": {},
     "output_type": "execute_result"
    }
   ],
   "source": [
    "d.items()"
   ]
  },
  {
   "cell_type": "code",
   "execution_count": 7,
   "id": "56fd8ba6",
   "metadata": {},
   "outputs": [
    {
     "name": "stdout",
     "output_type": "stream",
     "text": [
      "('key1', 'vijay')\n",
      "('Contact', 'vijaygurung555@gmail.com')\n",
      "('position', 'xyz')\n"
     ]
    }
   ],
   "source": [
    "# 33 No code :-\n",
    "\n",
    "# As a outcome \"key\" & \"Value\" pairs in the form of \"Tuples\"\n",
    "\n",
    "for i in d.items() :\n",
    "    print(i)"
   ]
  },
  {
   "cell_type": "code",
   "execution_count": 8,
   "id": "e1bf8307",
   "metadata": {},
   "outputs": [
    {
     "name": "stdout",
     "output_type": "stream",
     "text": [
      "('key1', 'vijay') <class 'tuple'>\n",
      "('Contact', 'vijaygurung555@gmail.com') <class 'tuple'>\n",
      "('position', 'xyz') <class 'tuple'>\n"
     ]
    }
   ],
   "source": [
    "# 34 No Code :\n",
    "\n",
    "# If along with \"key\" & \"Value\" I would like to print its (data type ) for all others also. \"key\" & \"Value\" data type, I want to\n",
    "# print i can print that one, as we can see \"Tuples form\" bydefault it will print as a outcome in \"Tuples\".\n",
    "\n",
    "for i in d.items() :\n",
    "    print(i, type(i))"
   ]
  },
  {
   "cell_type": "code",
   "execution_count": 10,
   "id": "218c3e49",
   "metadata": {},
   "outputs": [
    {
     "name": "stdout",
     "output_type": "stream",
     "text": [
      "('key1', 'vijay') <class 'tuple'> <class 'str'>\n",
      "('Contact', 'vijaygurung555@gmail.com') <class 'tuple'> <class 'str'>\n",
      "('position', 'xyz') <class 'tuple'> <class 'str'>\n"
     ]
    }
   ],
   "source": [
    "# 35 No code :\n",
    "\n",
    "# \"key\" & \"Value\" sepearted !\n",
    "\n",
    "\n",
    "for i in d.items() :\n",
    "    print(i, type(i), type(i[1]))"
   ]
  },
  {
   "cell_type": "code",
   "execution_count": 13,
   "id": "ce225df6",
   "metadata": {},
   "outputs": [],
   "source": [
    "# 36 No Code :-\n",
    "\n",
    "#Question :-  My problem statement is that here is a \"List\" inside these \"list\" we have a (vijay & gurung) string (str) &\n",
    "\n",
    "#We have a numbers ( 3234545, 345 & 34345353). I want to create a seperate \"list\" where, I am just looking for a numbers only\n",
    "# not others. Just wanted to filter out just a number out of these \"list\".\n",
    "\n",
    "#Here we have extracted only integer or we can say Numbers.\n",
    "\n",
    "v = [\"vijay\",\"gurung\",3234545,\"vijaygurung555@gmail.com\",345,34345353]"
   ]
  },
  {
   "cell_type": "code",
   "execution_count": 14,
   "id": "fcde8c34",
   "metadata": {},
   "outputs": [],
   "source": [
    "v1 = []\n",
    "for i in v :\n",
    "    if type(i) == int :\n",
    "        v1.append(i)"
   ]
  },
  {
   "cell_type": "code",
   "execution_count": 15,
   "id": "de7afd7d",
   "metadata": {},
   "outputs": [
    {
     "data": {
      "text/plain": [
       "[3234545, 345, 34345353]"
      ]
     },
     "execution_count": 15,
     "metadata": {},
     "output_type": "execute_result"
    }
   ],
   "source": [
    "v1"
   ]
  },
  {
   "cell_type": "code",
   "execution_count": 21,
   "id": "a008fa80",
   "metadata": {},
   "outputs": [],
   "source": [
    "# 37 No Code :-\n",
    "\n",
    "d = {1:3345345,\"name\":\"vijay\",\"email_id\":\"vijaygurung555@gmail.com\",234:\"fsfddsf\",43:\"sfsaf\",234:\"3454\"}"
   ]
  },
  {
   "cell_type": "code",
   "execution_count": 22,
   "id": "6f0e23f3",
   "metadata": {
    "scrolled": true
   },
   "outputs": [
    {
     "name": "stdout",
     "output_type": "stream",
     "text": [
      "1\n",
      "name\n",
      "email_id\n",
      "234\n",
      "43\n"
     ]
    }
   ],
   "source": [
    "for i in d :\n",
    "    print(i)"
   ]
  },
  {
   "cell_type": "code",
   "execution_count": 25,
   "id": "5f4d8247",
   "metadata": {},
   "outputs": [
    {
     "name": "stdout",
     "output_type": "stream",
     "text": [
      "1 : 3345345\n",
      "234 : 3454\n",
      "43 : sfsaf\n"
     ]
    }
   ],
   "source": [
    "# 38 No Code :-\n",
    "\n",
    "# We have dictionary which we have created, where we can see key & values pairs.\n",
    "\n",
    "# My problem statement is that, I am expecting out of these dictionary, I am expecting all the values or a pair, key value \n",
    "# where Key must be numeric one.\n",
    "\n",
    "for i in d :\n",
    "    if type(i) == int :\n",
    "        print(i,\":\", d[i])"
   ]
  },
  {
   "cell_type": "code",
   "execution_count": 32,
   "id": "ecc828be",
   "metadata": {},
   "outputs": [],
   "source": [
    "# 39 No Code :-\n",
    "\n",
    "v = \"aaaabbccd\""
   ]
  },
  {
   "cell_type": "code",
   "execution_count": 33,
   "id": "03804ed0",
   "metadata": {},
   "outputs": [
    {
     "data": {
      "text/plain": [
       "{'a', 'b', 'c', 'd'}"
      ]
     },
     "execution_count": 33,
     "metadata": {},
     "output_type": "execute_result"
    }
   ],
   "source": [
    "set(v)"
   ]
  },
  {
   "cell_type": "code",
   "execution_count": 54,
   "id": "42e23821",
   "metadata": {},
   "outputs": [],
   "source": [
    "# 40 No Code :-\n",
    "\n",
    "v = \"aaaabbccd\""
   ]
  },
  {
   "cell_type": "code",
   "execution_count": 56,
   "id": "fb411082",
   "metadata": {},
   "outputs": [
    {
     "name": "stdout",
     "output_type": "stream",
     "text": [
      "a\n",
      "c\n",
      "b\n",
      "d\n"
     ]
    }
   ],
   "source": [
    "for i in set(v):\n",
    "    print(i)"
   ]
  },
  {
   "cell_type": "code",
   "execution_count": 57,
   "id": "444d864b",
   "metadata": {},
   "outputs": [
    {
     "data": {
      "text/plain": [
       "4"
      ]
     },
     "execution_count": 57,
     "metadata": {},
     "output_type": "execute_result"
    }
   ],
   "source": [
    "v.count('a')"
   ]
  },
  {
   "cell_type": "code",
   "execution_count": 58,
   "id": "bc34e094",
   "metadata": {},
   "outputs": [],
   "source": [
    "# 41 No Code :-\n",
    "\n",
    "v = \"aaaabbccd\""
   ]
  },
  {
   "cell_type": "code",
   "execution_count": 59,
   "id": "5500f091",
   "metadata": {},
   "outputs": [
    {
     "name": "stdout",
     "output_type": "stream",
     "text": [
      "a : 4\n",
      "c : 2\n",
      "b : 2\n",
      "d : 1\n"
     ]
    }
   ],
   "source": [
    "for i in set(v) :\n",
    "    print(i, \":\", v.count(i))"
   ]
  },
  {
   "cell_type": "code",
   "execution_count": 60,
   "id": "8dc6f9d9",
   "metadata": {},
   "outputs": [
    {
     "ename": "TypeError",
     "evalue": "'int' object is not iterable",
     "output_type": "error",
     "traceback": [
      "\u001b[1;31m---------------------------------------------------------------------------\u001b[0m",
      "\u001b[1;31mTypeError\u001b[0m                                 Traceback (most recent call last)",
      "\u001b[1;32m~\\AppData\\Local\\Temp\\ipykernel_14244\\3607500854.py\u001b[0m in \u001b[0;36m<module>\u001b[1;34m\u001b[0m\n\u001b[0;32m      2\u001b[0m \u001b[1;33m\u001b[0m\u001b[0m\n\u001b[0;32m      3\u001b[0m \u001b[0mi\u001b[0m \u001b[1;33m=\u001b[0m \u001b[1;36m34534654646435\u001b[0m\u001b[1;33m\u001b[0m\u001b[1;33m\u001b[0m\u001b[0m\n\u001b[1;32m----> 4\u001b[1;33m \u001b[1;32mfor\u001b[0m \u001b[0mj\u001b[0m \u001b[1;32min\u001b[0m \u001b[0mi\u001b[0m \u001b[1;33m:\u001b[0m\u001b[1;33m\u001b[0m\u001b[1;33m\u001b[0m\u001b[0m\n\u001b[0m\u001b[0;32m      5\u001b[0m     \u001b[0mprint\u001b[0m\u001b[1;33m(\u001b[0m\u001b[0mj\u001b[0m\u001b[1;33m)\u001b[0m\u001b[1;33m\u001b[0m\u001b[1;33m\u001b[0m\u001b[0m\n",
      "\u001b[1;31mTypeError\u001b[0m: 'int' object is not iterable"
     ]
    }
   ],
   "source": [
    "# 42 No Code :-  As a outcome Error.\n",
    "\n",
    "# My problem statement is that, I have a \"i\" which available over here,34534654646435 then one by one, I have to extract the \n",
    "# integer individual integer, which is available inside my \"i\".\n",
    "\n",
    "i = 34534654646435\n",
    "for j in i :\n",
    "    print(j)"
   ]
  },
  {
   "cell_type": "code",
   "execution_count": 61,
   "id": "82d30618",
   "metadata": {},
   "outputs": [
    {
     "data": {
      "text/plain": [
       "'34534654646435'"
      ]
     },
     "execution_count": 61,
     "metadata": {},
     "output_type": "execute_result"
    }
   ],
   "source": [
    "# 43 No Code :-  Upper code was Error.Now by type casting we can run the code.\n",
    "\n",
    "# Here we see there is a wayy by which we will be able to find out that which object is iterable object & which object is not\n",
    "# a iterable object.But still I have to print out each & every integer out of these whole integer which is given to me.\n",
    "\n",
    "# For these I have to do a \"Type Casting\", Now Below we can see the outcome in the form of String(str)\n",
    "\n",
    "\n",
    "str(i)"
   ]
  },
  {
   "cell_type": "code",
   "execution_count": 62,
   "id": "bce91320",
   "metadata": {},
   "outputs": [
    {
     "name": "stdout",
     "output_type": "stream",
     "text": [
      "3 <class 'str'>\n",
      "4 <class 'str'>\n",
      "5 <class 'str'>\n",
      "3 <class 'str'>\n",
      "4 <class 'str'>\n",
      "6 <class 'str'>\n",
      "5 <class 'str'>\n",
      "4 <class 'str'>\n",
      "6 <class 'str'>\n",
      "4 <class 'str'>\n",
      "6 <class 'str'>\n",
      "4 <class 'str'>\n",
      "3 <class 'str'>\n",
      "5 <class 'str'>\n"
     ]
    }
   ],
   "source": [
    "# 44 No Code :-  \n",
    "\n",
    "# we can see outcome was in the String(str) form, Now I will be able to extract a dataset one by one out of these entire\n",
    "#string(str) that is preety much possible. As a outcome we can even check (type \"j\") is going to be string(str)\n",
    "\n",
    "i = 34534654646435\n",
    "for j in str(i) :\n",
    "    print(j, type(j))"
   ]
  },
  {
   "cell_type": "code",
   "execution_count": 63,
   "id": "5f259da5",
   "metadata": {},
   "outputs": [
    {
     "name": "stdout",
     "output_type": "stream",
     "text": [
      "3 <class 'int'>\n",
      "4 <class 'int'>\n",
      "5 <class 'int'>\n",
      "3 <class 'int'>\n",
      "4 <class 'int'>\n",
      "6 <class 'int'>\n",
      "5 <class 'int'>\n",
      "4 <class 'int'>\n",
      "6 <class 'int'>\n",
      "4 <class 'int'>\n",
      "6 <class 'int'>\n",
      "4 <class 'int'>\n",
      "3 <class 'int'>\n",
      "5 <class 'int'>\n"
     ]
    }
   ],
   "source": [
    "# 45 No Code :-  Here in this code i was expecting each & everything in a int(integer) format.\n",
    "\n",
    "#So here I am trying to apply \"Type Casting Operation\".Now I can convert it back with integer (Int).\n",
    "\n",
    "# This way I am able to extract data one by one from integer object.I am not able to extract the data as a individual\n",
    "\n",
    "#Integer(int) out of these one. Because, int object is not a iterable object at all.\n",
    "\n",
    "i = 34534654646435\n",
    "for j in str(i) :\n",
    "    print(int(j),type(int(j)))"
   ]
  },
  {
   "cell_type": "code",
   "execution_count": 1,
   "id": "6c162263",
   "metadata": {},
   "outputs": [],
   "source": [
    "# 46 No Code :-\n",
    "\n",
    "t = (\"vijay\",\"gurung\",[1,2,3,4,5],(3,4,5,6),{\"key1\":\"vijay\",\"key2\":\"gurung\"})"
   ]
  },
  {
   "cell_type": "code",
   "execution_count": 2,
   "id": "d5a1a307",
   "metadata": {},
   "outputs": [
    {
     "name": "stdout",
     "output_type": "stream",
     "text": [
      "vijay\n",
      "gurung\n",
      "[1, 2, 3, 4, 5]\n",
      "(3, 4, 5, 6)\n",
      "{'key1': 'vijay', 'key2': 'gurung'}\n"
     ]
    }
   ],
   "source": [
    "for i in t :\n",
    "    print(i)"
   ]
  },
  {
   "cell_type": "code",
   "execution_count": 3,
   "id": "ed2a4f82",
   "metadata": {},
   "outputs": [
    {
     "name": "stdout",
     "output_type": "stream",
     "text": [
      "3\n",
      "3\n"
     ]
    }
   ],
   "source": [
    "# 47 No Code : Continue code :-\n",
    "\n",
    "# Problem statement :-\n",
    "\n",
    "#Through these entire \"Tuple\" we have to extract [3] wherever we have [3] whether it is inside \"Tuples\" or inside \"List\"\n",
    "\n",
    "# or inside \"Tuples of Tuples\" we have to extract [3] out of these one.\n",
    "\n",
    "for i in t :\n",
    "    if type(i) == list or type(i) == tuple :\n",
    "        for j in i :\n",
    "            if j == 3 :\n",
    "                print(j)"
   ]
  },
  {
   "cell_type": "code",
   "execution_count": 7,
   "id": "8c9aacc9",
   "metadata": {},
   "outputs": [],
   "source": [
    "# 48 No Code :-\n",
    "\n",
    "t = (\"vijay\",\"gurung\",[1,2,3,4,5],(3,4,5,6),{3:\"vijay\",\"key2\":\"gurung\"})"
   ]
  },
  {
   "cell_type": "code",
   "execution_count": 8,
   "id": "aa83f554",
   "metadata": {},
   "outputs": [
    {
     "name": "stdout",
     "output_type": "stream",
     "text": [
      "3\n",
      "3\n",
      "3\n"
     ]
    }
   ],
   "source": [
    "# Here i have made a chnages in 2 area one is \"key1\" replace by \"3\"  & another is I have added ==dict :\n",
    "\n",
    "#So as outcome we can see we are geeting another 3 added.\n",
    "\n",
    "# So, bydefault we aware about fact that it is going to iterate over towards keys.\n",
    "\n",
    "# Keys   Values\n",
    "\n",
    "# 3      \"vijay\"\n",
    "#\"key2\"   \"gurung\"\n",
    "\n",
    "\n",
    "for i in t :\n",
    "    if type(i) == list or type(i) == tuple or type(i) == dict :\n",
    "        for j in i :\n",
    "            if j == 3 :\n",
    "                print(j)"
   ]
  },
  {
   "cell_type": "code",
   "execution_count": 12,
   "id": "259c5a19",
   "metadata": {},
   "outputs": [],
   "source": [
    "# 49 No Code :-\n",
    "\n",
    "t = (\"vijay\",\"gurung\",[1,2,3,4,5],(3,4,5,6),{3:3,\"key2\":\"gurung\"})"
   ]
  },
  {
   "cell_type": "code",
   "execution_count": 13,
   "id": "0d2e060f",
   "metadata": {},
   "outputs": [
    {
     "name": "stdout",
     "output_type": "stream",
     "text": [
      "3\n",
      "3\n",
      "{3: 3, 'key2': 'gurung'}\n"
     ]
    }
   ],
   "source": [
    "# if i want to update entire dictionary then write this code.\n",
    "\n",
    "#For that we have to write seperate \"If\" statement.\n",
    "\n",
    "#The entire code only handle \"List\" & \"Tuples\" Parts.\n",
    "\n",
    "for i in t :\n",
    "    if type(i) == list or type(i) == tuple :\n",
    "        for j in i :\n",
    "            if j == 3 :\n",
    "                print(j)\n",
    "    if type(i) == dict :\n",
    "        print(i)"
   ]
  },
  {
   "cell_type": "code",
   "execution_count": 2,
   "id": "3b3f852f",
   "metadata": {},
   "outputs": [],
   "source": [
    "# 50 No Code :-\n",
    "\n",
    "# Above all code is ok but my problem statement was different.\n",
    "\n",
    "# Now below code my expecation was to extract both 3. \n",
    "\n",
    "# For that we can write this line of statement \n",
    "\n",
    "# for k in i.items() :\n",
    "#     print(k)\n",
    "\n",
    "# This time we have taken \"K\" as a different variable. \"i.items()\" - \"i\" will become dictionary over here.\n",
    "\n",
    "\n",
    "t = (\"vijay\",\"gurung\",[1,2,3,4,5],(3,4,5,6),{3:3,\"key2\":\"gurung\"})"
   ]
  },
  {
   "cell_type": "code",
   "execution_count": 3,
   "id": "7a38f832",
   "metadata": {},
   "outputs": [
    {
     "name": "stdout",
     "output_type": "stream",
     "text": [
      "3\n",
      "3\n",
      "(3, 3)\n",
      "('key2', 'gurung')\n"
     ]
    }
   ],
   "source": [
    "# (3,3) this is the tuples which I am able to extract in a easiest way.\n",
    "\n",
    "# As we know ( i.items() or dictionary.items()) is going to throught 2 elements one is key another is value.\n",
    "\n",
    "# (3, 3)\n",
    "\n",
    "# key Value\n",
    " \n",
    "\n",
    "\n",
    "for i in t :\n",
    "    if type(i) == list or type(i) == tuple :\n",
    "        for j in i :\n",
    "            if j == 3 :\n",
    "                print(j)\n",
    "    if type(i) == dict :\n",
    "        for k in i.items() :\n",
    "            print(k)"
   ]
  },
  {
   "cell_type": "code",
   "execution_count": 4,
   "id": "31d6f943",
   "metadata": {},
   "outputs": [
    {
     "name": "stdout",
     "output_type": "stream",
     "text": [
      "3\n",
      "3\n",
      "3\n",
      "3\n"
     ]
    }
   ],
   "source": [
    " # 51 No Code :-\n",
    "    \n",
    "# In this code I am expecting to have 4 times total [3] as a outcome, this is how we keep adding code to top of the existing\n",
    "#code.\n",
    "     \n",
    "    \n",
    "for i in t :\n",
    "    if type(i) == list or type(i) == tuple :\n",
    "        for j in i :\n",
    "            if j == 3 :\n",
    "                print(j)\n",
    "    if type(i) == dict :\n",
    "        for k,v in i.items() :\n",
    "            if k == 3 or v == 3 :\n",
    "                print(k)\n",
    "                print(v)"
   ]
  },
  {
   "cell_type": "code",
   "execution_count": 6,
   "id": "a03a76f6",
   "metadata": {},
   "outputs": [],
   "source": [
    " # 52 No Code :-\n",
    "    \n",
    "d = {4:5, \"key1\" : \"vijay\", \"key2\": \"gurung\"}"
   ]
  },
  {
   "cell_type": "code",
   "execution_count": 7,
   "id": "f5ea47df",
   "metadata": {},
   "outputs": [
    {
     "name": "stdout",
     "output_type": "stream",
     "text": [
      "(4, 5)\n",
      "('key1', 'vijay')\n",
      "('key2', 'gurung')\n"
     ]
    }
   ],
   "source": [
    "for i in d.items() :\n",
    "    print(i)"
   ]
  },
  {
   "cell_type": "code",
   "execution_count": 8,
   "id": "14cc96f0",
   "metadata": {},
   "outputs": [
    {
     "data": {
      "text/plain": [
       "dict_items([(4, 5), ('key1', 'vijay'), ('key2', 'gurung')])"
      ]
     },
     "execution_count": 8,
     "metadata": {},
     "output_type": "execute_result"
    }
   ],
   "source": [
    "# 53 No Code :\n",
    "\n",
    "#d.items() what this going to return, it will return a \"list\" of the \"Tuples\". \"Tuples\" having key & value pairs.\n",
    "\n",
    "d.items()"
   ]
  },
  {
   "cell_type": "code",
   "execution_count": 9,
   "id": "3d76d6ea",
   "metadata": {},
   "outputs": [
    {
     "name": "stdout",
     "output_type": "stream",
     "text": [
      "4\n",
      "key1\n",
      "key2\n"
     ]
    }
   ],
   "source": [
    "# 54 No Code :\n",
    "\n",
    "for i, j in d.items():\n",
    "    print(i)"
   ]
  },
  {
   "cell_type": "code",
   "execution_count": 10,
   "id": "afefbb48",
   "metadata": {},
   "outputs": [],
   "source": [
    "# 55 No code :\n",
    "\n",
    "# Below line code both ways correct to write.This is how we declear the variable at any point of time.\n",
    "\n",
    "a =  10 \n",
    "b =  20\n",
    "c =  30"
   ]
  },
  {
   "cell_type": "code",
   "execution_count": 11,
   "id": "0cefcf9e",
   "metadata": {},
   "outputs": [],
   "source": [
    "a,b,c = 10,20,30"
   ]
  },
  {
   "cell_type": "code",
   "execution_count": 12,
   "id": "0ee2b6b9",
   "metadata": {},
   "outputs": [
    {
     "name": "stdout",
     "output_type": "stream",
     "text": [
      "ineuron \n",
      "ineuron ineuron \n",
      "ineuron ineuron ineuron \n",
      "ineuron ineuron ineuron ineuron \n"
     ]
    }
   ],
   "source": [
    "n = 4\n",
    "for i in range(1, n + 1):\n",
    "    print(\"ineuron \" * i)"
   ]
  },
  {
   "cell_type": "code",
   "execution_count": null,
   "id": "99fdf670",
   "metadata": {},
   "outputs": [],
   "source": []
  }
 ],
 "metadata": {
  "kernelspec": {
   "display_name": "Python 3 (ipykernel)",
   "language": "python",
   "name": "python3"
  },
  "language_info": {
   "codemirror_mode": {
    "name": "ipython",
    "version": 3
   },
   "file_extension": ".py",
   "mimetype": "text/x-python",
   "name": "python",
   "nbconvert_exporter": "python",
   "pygments_lexer": "ipython3",
   "version": "3.9.13"
  }
 },
 "nbformat": 4,
 "nbformat_minor": 5
}
