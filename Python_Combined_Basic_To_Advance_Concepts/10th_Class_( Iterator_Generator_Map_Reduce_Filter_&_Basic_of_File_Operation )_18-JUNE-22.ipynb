{
 "cells": [
  {
   "cell_type": "markdown",
   "id": "4ee0b0fb",
   "metadata": {},
   "source": [
    "                                   #18th-JUNE-22\n",
    " \n",
    "                                10th Class - \"Python\"\n",
    "\n",
    "             [\"Iterator, Generator, Map, Reduce, Filter and Basic of File Operation\" ]"
   ]
  },
  {
   "cell_type": "code",
   "execution_count": 2,
   "id": "d581e2b5",
   "metadata": {},
   "outputs": [],
   "source": [
    "                                            #  TOPICS\n",
    "\n",
    "# 1.Iterator\n",
    "\n",
    "# 2.Generator \n",
    "\n",
    "# 3.MAP\n",
    "\n",
    "# 4.Reduce\n",
    "\n",
    "# 5.Filter\n",
    "\n",
    "# 6.Basic of File Operation"
   ]
  },
  {
   "cell_type": "code",
   "execution_count": 3,
   "id": "2a95505b",
   "metadata": {},
   "outputs": [],
   "source": [
    "# Code No :- 1 \n",
    "\n",
    "# Explanation below code :-\n",
    "\n",
    "# Let's suppose I have written Loop over here (for i in l:)\n",
    "\n",
    "# Then, if I am going to Print(i) # outcome will be -  1,2,3,4,5,5\n",
    "\n",
    "# Ony by one it started exetracting a data, then it is going to show data in our console. So, it is visiable here.\n",
    "\n",
    "# If with  this data, I would like to do any kind of manipulation, Yes we will be able to do, all short of manipulation,\n",
    "\n",
    "# with respect to data.That we are trying to extract."
   ]
  },
  {
   "cell_type": "code",
   "execution_count": 4,
   "id": "78d5cb24",
   "metadata": {},
   "outputs": [
    {
     "name": "stdout",
     "output_type": "stream",
     "text": [
      "1\n",
      "2\n",
      "3\n",
      "4\n",
      "5\n",
      "5\n"
     ]
    }
   ],
   "source": [
    "l = [1,2,3,4,5,5]\n",
    "for i in l:\n",
    "    print(i)"
   ]
  },
  {
   "cell_type": "code",
   "execution_count": null,
   "id": "625424fe",
   "metadata": {},
   "outputs": [],
   "source": [
    "# Code No :- 2 :-\n",
    "\n",
    "# Question :-\n",
    "\n",
    "# Here, So, can you please tell me how for loop works internally, how for loop is internally extract \n",
    "# a data one by one &\n",
    "\n",
    "# It is trying to give me.\n",
    "\n",
    "# Next(L) :-  TypeError: 'list' object is not an iterator. \n",
    "\n",
    "# So, This is inbuild function, which exist inside a Python called as next. Next is a fucntion, if we call next(L).\n",
    "\n",
    "# So, it is giving me an Error.It is telling me that.\n",
    "\n",
    "#  TypeError: ('list' object is not an iterator). So, it is telling me that, I will be not able to iterate through or\n",
    "\n",
    "# I will not be able extract information or a data out of these \"List\".\n"
   ]
  },
  {
   "cell_type": "code",
   "execution_count": 5,
   "id": "25c4225f",
   "metadata": {},
   "outputs": [
    {
     "ename": "TypeError",
     "evalue": "'list' object is not an iterator",
     "output_type": "error",
     "traceback": [
      "\u001b[1;31m---------------------------------------------------------------------------\u001b[0m",
      "\u001b[1;31mTypeError\u001b[0m                                 Traceback (most recent call last)",
      "Cell \u001b[1;32mIn[5], line 1\u001b[0m\n\u001b[1;32m----> 1\u001b[0m \u001b[38;5;28mnext\u001b[39m(l)\n",
      "\u001b[1;31mTypeError\u001b[0m: 'list' object is not an iterator"
     ]
    }
   ],
   "source": [
    "next(l)"
   ]
  },
  {
   "cell_type": "code",
   "execution_count": null,
   "id": "0f73ad64",
   "metadata": {},
   "outputs": [],
   "source": [
    "# Code No :- 3 :-\n",
    "\n",
    "# Let's suppose, we have called ( \"iter and inside iter \"List\" )\n",
    "\n",
    "# If I have called next of b.\n",
    "\n",
    "# next of (b) = 1\n",
    "\n",
    "# next of (b) = 3\n",
    "\n",
    "# next of (b) = 4\n",
    "\n",
    "# next of (b) = 5\n",
    "\n",
    "# next of (b) = 5\n",
    "\n",
    "# Again, If I am going to called next of \"b\". Then, As a outcome we can see, It is giving me an [\"Error\"].\n",
    "\n",
    "# next(b) - In last, if we try to enter call - next(b). As a outcome we can see we are getting \"Error\" or Exception\n",
    "# with message - ( StopIteration: )\n"
   ]
  },
  {
   "cell_type": "code",
   "execution_count": 6,
   "id": "28ad2d51",
   "metadata": {},
   "outputs": [],
   "source": [
    "b = iter(l)"
   ]
  },
  {
   "cell_type": "code",
   "execution_count": 7,
   "id": "9a521870",
   "metadata": {},
   "outputs": [
    {
     "data": {
      "text/plain": [
       "1"
      ]
     },
     "execution_count": 7,
     "metadata": {},
     "output_type": "execute_result"
    }
   ],
   "source": [
    "next(b)"
   ]
  },
  {
   "cell_type": "code",
   "execution_count": 8,
   "id": "c0c270b8",
   "metadata": {},
   "outputs": [
    {
     "data": {
      "text/plain": [
       "2"
      ]
     },
     "execution_count": 8,
     "metadata": {},
     "output_type": "execute_result"
    }
   ],
   "source": [
    "next(b)"
   ]
  },
  {
   "cell_type": "code",
   "execution_count": 10,
   "id": "79b036e1",
   "metadata": {},
   "outputs": [
    {
     "data": {
      "text/plain": [
       "3"
      ]
     },
     "execution_count": 10,
     "metadata": {},
     "output_type": "execute_result"
    }
   ],
   "source": [
    "next(b)"
   ]
  },
  {
   "cell_type": "code",
   "execution_count": 11,
   "id": "81746139",
   "metadata": {},
   "outputs": [
    {
     "data": {
      "text/plain": [
       "4"
      ]
     },
     "execution_count": 11,
     "metadata": {},
     "output_type": "execute_result"
    }
   ],
   "source": [
    "next(b)"
   ]
  },
  {
   "cell_type": "code",
   "execution_count": 12,
   "id": "7b3d4244",
   "metadata": {},
   "outputs": [
    {
     "data": {
      "text/plain": [
       "5"
      ]
     },
     "execution_count": 12,
     "metadata": {},
     "output_type": "execute_result"
    }
   ],
   "source": [
    "next(b)"
   ]
  },
  {
   "cell_type": "code",
   "execution_count": 13,
   "id": "0913b5da",
   "metadata": {},
   "outputs": [
    {
     "data": {
      "text/plain": [
       "5"
      ]
     },
     "execution_count": 13,
     "metadata": {},
     "output_type": "execute_result"
    }
   ],
   "source": [
    "next(b)"
   ]
  },
  {
   "cell_type": "code",
   "execution_count": 14,
   "id": "895a05ad",
   "metadata": {},
   "outputs": [
    {
     "ename": "StopIteration",
     "evalue": "",
     "output_type": "error",
     "traceback": [
      "\u001b[1;31m---------------------------------------------------------------------------\u001b[0m",
      "\u001b[1;31mStopIteration\u001b[0m                             Traceback (most recent call last)",
      "Cell \u001b[1;32mIn[14], line 1\u001b[0m\n\u001b[1;32m----> 1\u001b[0m \u001b[38;5;28mnext\u001b[39m(b)\n",
      "\u001b[1;31mStopIteration\u001b[0m: "
     ]
    }
   ],
   "source": [
    "next(b)"
   ]
  },
  {
   "cell_type": "code",
   "execution_count": null,
   "id": "30978a62",
   "metadata": {},
   "outputs": [],
   "source": [
    "# Code No :- 4 :-\n",
    "\n",
    "# For understanding :- above code Explanation.\n",
    "\n",
    "# for i in l:\n",
    "#    print(i)\n",
    "\n",
    "# Here we can see that, Yes with the help of for loop, I was with the help of for loop. I was able to extract a data,\n",
    "# one by one.\n",
    "\n",
    "#1. next(b) \n",
    "# 1\n",
    "\n",
    "#2. next(b)\n",
    "# 2 \n",
    "\n",
    "# If we keep doing next(b), with the help of next(b), I am able to extract the data ony by one.\n",
    "\n",
    "# next(b)\n",
    "\n",
    "# next(L) if we run this line code :- As a outcome we will get - TypeError: 'list' object is not an iterator.\n",
    "\n",
    "# But, when we try to find out next of \"L\", which was next of \"List\". So, it is telling me that.\n",
    "# TypeError :- 'list' object is not an iterator.\n",
    "\n",
    "# But, we see below code next(b), yes it is able to extract dataset.  keep doing next(b) we will keep get data."
   ]
  },
  {
   "cell_type": "code",
   "execution_count": null,
   "id": "d34f2da5",
   "metadata": {},
   "outputs": [],
   "source": []
  },
  {
   "cell_type": "code",
   "execution_count": null,
   "id": "2e89c8d5",
   "metadata": {},
   "outputs": [],
   "source": [
    "# Diiferent Between Iterable  and Iterator.\n",
    "\n",
    "# (1) Iterable :- \n",
    "\n",
    "# next(45) :- As a outcome, we can see :-  TypeError: ['int' object is not an iterator]\n",
    "\n",
    "# Let's suppose, \n",
    "\n",
    "# If I am going to call next(45) or next of some digit (\"int\") object is not an Iterator."
   ]
  },
  {
   "cell_type": "code",
   "execution_count": 15,
   "id": "5181fd2c",
   "metadata": {},
   "outputs": [
    {
     "ename": "TypeError",
     "evalue": "'int' object is not an iterator",
     "output_type": "error",
     "traceback": [
      "\u001b[1;31m---------------------------------------------------------------------------\u001b[0m",
      "\u001b[1;31mTypeError\u001b[0m                                 Traceback (most recent call last)",
      "Cell \u001b[1;32mIn[15], line 1\u001b[0m\n\u001b[1;32m----> 1\u001b[0m \u001b[38;5;28mnext\u001b[39m(\u001b[38;5;241m45\u001b[39m)\n",
      "\u001b[1;31mTypeError\u001b[0m: 'int' object is not an iterator"
     ]
    }
   ],
   "source": [
    "next(45)"
   ]
  },
  {
   "cell_type": "code",
   "execution_count": 16,
   "id": "3fbeaa38",
   "metadata": {},
   "outputs": [],
   "source": [
    "# (2) Iterator :-\n",
    "\n",
    "# next(45) :- As a outcome, we can see :-  TypeError: ['int' object is not an iterator]\n",
    "\n",
    "# Let's suppose, If I am going to call or pass iter(45). Now it is telling me that \"int\" object is not \"iterable\".\n",
    "\n",
    "# Now, here is two different term iterator and iterable."
   ]
  },
  {
   "cell_type": "code",
   "execution_count": 18,
   "id": "0ac58eba",
   "metadata": {},
   "outputs": [],
   "source": [
    "# b = iter(L)\n",
    "\n",
    "# Now, here incase of \"lIST\" it has not given me similar kind of issue, when I was try to pass \"a\" \"L\", it was not \n",
    "# given me same kind of issue.\n",
    "\n",
    "# iter(45)\n",
    "\n",
    "# But when I was try to pass these (45) which is digit by the way which is integer.\n",
    "\n",
    "# \"int\" object is not iterable."
   ]
  },
  {
   "cell_type": "markdown",
   "id": "e96f89fd",
   "metadata": {},
   "source": [
    "                              # Diiference Between \"Iterator\"  and \"Iterable\""
   ]
  },
  {
   "cell_type": "code",
   "execution_count": 1,
   "id": "6630590f",
   "metadata": {},
   "outputs": [],
   "source": [
    "# There are 2 things which is exist interm of Python.\n",
    "# One is Iterable and another is iterable.\n",
    "\n",
    "#Let's Undersatand :-\n",
    "\n",
    "# When, we are talking about iterable and when I am taking about iterator.\n",
    "\n",
    "# \"TypeError\" : \"int\" object is not an iterator.\n",
    "\n",
    "# \"TypeError\" : \"int\" object is not \"iterable\"\n",
    "\n",
    "# Object or dataset which will be iterable, we can convert those dataset into iterator.\n",
    "\n",
    "# Means whatever data like a \"list\" or \"String\" or \"Tuples\", if it is a iterable only in that case, we will be able to\n",
    "# extract a data, extract a information.If there is data which is not iterable like a integer (int).\n",
    "\n",
    "# So, if it is not iterable, we would not able to convert those data into a iterator.\n",
    "\n",
    "# So, when I am going to write down a statement and for is going to send me, for is going to give me a back data.\n",
    "# What \"for\" does internally first of all for loop is going to call \"iter\" function internally.\n",
    "\n",
    "# For Loop try to convert internally. For loop try to convert \"iterble\" into \"iterator\" in a very first place.\n",
    "# For Loop is trying to convert iterable into interator means a data which we will be able to iterate through it.\n",
    "\n",
    "# Bydefault data will be available in a form of iterables not a iterator.\n",
    "\n",
    "# So, here \"for Loop\" will try to convert each and every information in a form of iterator and then one by one\n",
    "# using a next kind of function, it will start extracting a data, that is the region we all uses to see our result.\n",
    "\n",
    "# Whenever object is a \"iterable\" object we can convert it into a \"iterator\" object itself is not iterable, we will be \n",
    "# not able to convert into a \"iterator\".\n"
   ]
  },
  {
   "cell_type": "code",
   "execution_count": 2,
   "id": "b4a79834",
   "metadata": {},
   "outputs": [],
   "source": [
    "# Code No :- 4 :-\n",
    "\n",
    "# Let's understand :-\n",
    "\n",
    "# Here, If i am going to fire a \"For Loop\" for i in 45456 some numbers. Then if I am going to print this things. Print(i)\n",
    "\n",
    "# [\"int\" object is not iterable]\n",
    "\n",
    "# It giving me that, means it is not able to convert these digit [45456] into iterator.\n",
    "\n",
    "# Why not able to convert because befault its not even a iterable. So, Something is not iterable, it will be not \n",
    "# able to convert into a iterable. So, it will not able to fire a next on top of it."
   ]
  },
  {
   "cell_type": "code",
   "execution_count": 3,
   "id": "1d33278f",
   "metadata": {},
   "outputs": [
    {
     "ename": "TypeError",
     "evalue": "'int' object is not iterable",
     "output_type": "error",
     "traceback": [
      "\u001b[1;31m---------------------------------------------------------------------------\u001b[0m",
      "\u001b[1;31mTypeError\u001b[0m                                 Traceback (most recent call last)",
      "Cell \u001b[1;32mIn[3], line 1\u001b[0m\n\u001b[1;32m----> 1\u001b[0m \u001b[38;5;28;01mfor\u001b[39;00m i \u001b[38;5;129;01min\u001b[39;00m \u001b[38;5;241m45456\u001b[39m :\n\u001b[0;32m      2\u001b[0m     \u001b[38;5;28mprint\u001b[39m(i)\n",
      "\u001b[1;31mTypeError\u001b[0m: 'int' object is not iterable"
     ]
    }
   ],
   "source": [
    "for i in 45456 :\n",
    "    print(i)"
   ]
  },
  {
   "cell_type": "code",
   "execution_count": 4,
   "id": "39114464",
   "metadata": {},
   "outputs": [],
   "source": [
    "# Code No :- 5 :-\n",
    "\n",
    "# Let's understand :-\n",
    "\n",
    "# So, internally when we trying to write \"L\". This is my \"List\" [1,3,4,5,5]\n",
    "\n",
    "# for i in L :\n",
    "\n",
    "# Whenever, I am going to fire. \"List\" object is bydefault \"iterator\" or \"iterable\".\n",
    "\n",
    "# Bydefault \"list\" object is a \"iterable\" object.\n",
    "\n",
    "# So, \"For Loop\"  internally trying to call \"iter\" function and then it is trying to call a \"next\" fucntion and when we\n",
    "# need to trying to call \"iter\" fucntion.\n",
    "\n",
    "# It is trying to convert a \"iterable\" into \"iterator\" and then with the help of \"next\" function, it will try to \n",
    "# extract a data ont by one.\n",
    "\n",
    "# If some object are not \"iterable\", we will not able to convert it into a iterator.\n",
    "\n",
    "# Example is a \"Digits\""
   ]
  },
  {
   "cell_type": "code",
   "execution_count": 7,
   "id": "c0028323",
   "metadata": {},
   "outputs": [],
   "source": [
    "l = [1,2,3,4,5,5] "
   ]
  },
  {
   "cell_type": "code",
   "execution_count": 8,
   "id": "61431171",
   "metadata": {},
   "outputs": [
    {
     "data": {
      "text/plain": [
       "[1, 2, 3, 4, 5, 5]"
      ]
     },
     "execution_count": 8,
     "metadata": {},
     "output_type": "execute_result"
    }
   ],
   "source": [
    "l"
   ]
  },
  {
   "cell_type": "code",
   "execution_count": 9,
   "id": "8916c396",
   "metadata": {},
   "outputs": [
    {
     "ename": "SyntaxError",
     "evalue": "incomplete input (3640463963.py, line 1)",
     "output_type": "error",
     "traceback": [
      "\u001b[1;36m  Cell \u001b[1;32mIn[9], line 1\u001b[1;36m\u001b[0m\n\u001b[1;33m    for i in l :\u001b[0m\n\u001b[1;37m                ^\u001b[0m\n\u001b[1;31mSyntaxError\u001b[0m\u001b[1;31m:\u001b[0m incomplete input\n"
     ]
    }
   ],
   "source": [
    "for i in l :"
   ]
  },
  {
   "cell_type": "code",
   "execution_count": 10,
   "id": "93f0c711",
   "metadata": {},
   "outputs": [],
   "source": [
    "# Code No :- 6 :-\n",
    "\n",
    "# Let's understand :-\n",
    "\n",
    "# So, here internally, it will try to call 1st of all it will try to convert these \"L\" nu using a \"iter\" function.\n",
    "\n",
    "# After that it is trying to fire next. Next that is region, we are seeing that data over here [1,2,3,4,5]\n",
    "\n",
    "# Interveiw Question :-\n",
    "\n",
    "# Can you please tell me how \"For Loop\" works. \n",
    "\n",
    "# If objects are iterable for loop try to convert all those object into a \"iterator\", then apply \"next\" \"next\" function.\n",
    "\n",
    "# It will start extracting a data and then it will be get a information. This is how for loop Works.\n",
    "\n",
    "# People may ask ?\n",
    "\n",
    "# Is it possible to convert any object into a \"iterator\"?\n",
    "\n",
    "# No, If object is not iterable, then we will not be able to convert it into a iterator at all. So, we will able to\n",
    "# extract any kind of a information from that particular object."
   ]
  },
  {
   "cell_type": "code",
   "execution_count": 11,
   "id": "2b8c7a4a",
   "metadata": {},
   "outputs": [
    {
     "name": "stdout",
     "output_type": "stream",
     "text": [
      "1\n",
      "2\n",
      "3\n",
      "4\n",
      "5\n",
      "5\n"
     ]
    }
   ],
   "source": [
    "for i in l:\n",
    "    print(i)"
   ]
  },
  {
   "cell_type": "code",
   "execution_count": 12,
   "id": "6d6211f3",
   "metadata": {},
   "outputs": [],
   "source": [
    "# Code No :- 7 :-\n",
    "\n",
    "# Let's understand :-\n",
    "\n",
    "# Let's suppose :-\n",
    "\n",
    "# I am going to take string over here \"vijay\".\n",
    "\n",
    "# If I will fire \"next\" of \"V\". Shall we get the data.\n",
    "\n",
    "# No, Why here I am looking for a data, I am looking for outcome \"Vijay\".\n",
    "\n",
    "# So, befault \"string\" are not \"iterator\" but bydefault \"string\" are iterable object."
   ]
  },
  {
   "cell_type": "code",
   "execution_count": 13,
   "id": "6a00a807",
   "metadata": {},
   "outputs": [],
   "source": [
    "v = \"vijay\""
   ]
  },
  {
   "cell_type": "code",
   "execution_count": 14,
   "id": "32af5421",
   "metadata": {},
   "outputs": [
    {
     "ename": "TypeError",
     "evalue": "'str' object is not an iterator",
     "output_type": "error",
     "traceback": [
      "\u001b[1;31m---------------------------------------------------------------------------\u001b[0m",
      "\u001b[1;31mTypeError\u001b[0m                                 Traceback (most recent call last)",
      "Cell \u001b[1;32mIn[14], line 1\u001b[0m\n\u001b[1;32m----> 1\u001b[0m \u001b[38;5;28mnext\u001b[39m(v)\n",
      "\u001b[1;31mTypeError\u001b[0m: 'str' object is not an iterator"
     ]
    }
   ],
   "source": [
    "next(v)"
   ]
  },
  {
   "cell_type": "code",
   "execution_count": null,
   "id": "159f55b3",
   "metadata": {},
   "outputs": [],
   "source": [
    "# Code No :- 8 :-\n",
    "\n",
    "# Let's understand :-\n",
    "\n",
    "# Here, to get data or outcome as a \"String\" what, I suppose to do is convert \"String\" into \"iterator\".\n",
    "\n",
    "# Unless and untill, I am not going to convert these object \"String \" into a \"iterator\" it will not able to \n",
    "# extract any kind of information out of these one.\n",
    "\n",
    "# I am suppose to do is.\n",
    "# v = iter(v)\n",
    "\n",
    "# I am suppose to do write iter and I am suppose to pass a string into it (V) same string, I have taken.\n",
    "\n",
    "# Now, I am going to fire next(V). I am able to extract the data.\n",
    "\n",
    "\n",
    "# If I am going to fire next(v) keep doing from \"V\" upto \"Y\" (Vijay) I am able to get the data.\n",
    "\n",
    "# But at last it saying that it giving me a Exception or Error.\n",
    "\n",
    "# It telling me is that, Stop iterator, I am not find out the \"next\" indexes.I am not able to find out a next indexes.\n",
    "\n",
    "# So, I am not able to extract any kind of a information next to it.\n",
    "\n",
    "# \"For Loop\" here internally find out the lengthof the entire \"iterable\" or \"iterator\" object. \n",
    "# Then for loop knows that when we have to stop."
   ]
  },
  {
   "cell_type": "code",
   "execution_count": 15,
   "id": "7d9c7fed",
   "metadata": {},
   "outputs": [],
   "source": [
    "v = iter(v)"
   ]
  },
  {
   "cell_type": "code",
   "execution_count": 16,
   "id": "4829606e",
   "metadata": {},
   "outputs": [
    {
     "data": {
      "text/plain": [
       "'v'"
      ]
     },
     "execution_count": 16,
     "metadata": {},
     "output_type": "execute_result"
    }
   ],
   "source": [
    "next(v)"
   ]
  },
  {
   "cell_type": "code",
   "execution_count": 17,
   "id": "2778a9d3",
   "metadata": {},
   "outputs": [
    {
     "data": {
      "text/plain": [
       "'i'"
      ]
     },
     "execution_count": 17,
     "metadata": {},
     "output_type": "execute_result"
    }
   ],
   "source": [
    "next(v)"
   ]
  },
  {
   "cell_type": "code",
   "execution_count": 18,
   "id": "482d56b2",
   "metadata": {},
   "outputs": [
    {
     "data": {
      "text/plain": [
       "'j'"
      ]
     },
     "execution_count": 18,
     "metadata": {},
     "output_type": "execute_result"
    }
   ],
   "source": [
    "next(v)"
   ]
  },
  {
   "cell_type": "code",
   "execution_count": 19,
   "id": "90bc8684",
   "metadata": {},
   "outputs": [
    {
     "data": {
      "text/plain": [
       "'a'"
      ]
     },
     "execution_count": 19,
     "metadata": {},
     "output_type": "execute_result"
    }
   ],
   "source": [
    "next(v)"
   ]
  },
  {
   "cell_type": "code",
   "execution_count": 20,
   "id": "024ff38d",
   "metadata": {},
   "outputs": [
    {
     "data": {
      "text/plain": [
       "'y'"
      ]
     },
     "execution_count": 20,
     "metadata": {},
     "output_type": "execute_result"
    }
   ],
   "source": [
    "next(v)"
   ]
  },
  {
   "cell_type": "code",
   "execution_count": 21,
   "id": "dc54c9a9",
   "metadata": {},
   "outputs": [
    {
     "ename": "StopIteration",
     "evalue": "",
     "output_type": "error",
     "traceback": [
      "\u001b[1;31m---------------------------------------------------------------------------\u001b[0m",
      "\u001b[1;31mStopIteration\u001b[0m                             Traceback (most recent call last)",
      "Cell \u001b[1;32mIn[21], line 1\u001b[0m\n\u001b[1;32m----> 1\u001b[0m \u001b[38;5;28mnext\u001b[39m(v)\n",
      "\u001b[1;31mStopIteration\u001b[0m: "
     ]
    }
   ],
   "source": [
    "next(v)"
   ]
  },
  {
   "cell_type": "code",
   "execution_count": null,
   "id": "cde429ed",
   "metadata": {},
   "outputs": [],
   "source": [
    "# Code No :- 9 :-\n",
    "\n",
    "# Let's understand :-\n",
    "\n",
    "# Here incase of \"For Loop\", For Loop knows about length, because of it, it knows when we have to stop. \n",
    "\n",
    "# For Loop will not going to give any Exception or Error.\n",
    "\n",
    "# Internally For Loop is using a \"Length\" fucntion. Iter fucntion and a Next Function. \n",
    "\n",
    "# Length Function :- To know where to stop.\n",
    "\n",
    "# Iter Function :- Convert any iterable variable into iterator.\n",
    "\n",
    "# Next Function :- Next is for call the data. Next, next, next one by one and show us the infromation at any point \n",
    "# of time.\n",
    "\n",
    "# This is how internally Loop is working."
   ]
  },
  {
   "cell_type": "code",
   "execution_count": 23,
   "id": "38fdb355",
   "metadata": {},
   "outputs": [
    {
     "name": "stdout",
     "output_type": "stream",
     "text": [
      "v\n",
      "i\n",
      "j\n",
      "a\n",
      "y\n"
     ]
    }
   ],
   "source": [
    "v = \"vijay\"\n",
    "for i in v :\n",
    "    print(i)"
   ]
  },
  {
   "cell_type": "code",
   "execution_count": null,
   "id": "a3af89d5",
   "metadata": {},
   "outputs": [],
   "source": [
    "# Code No :- 10 :-\n",
    "\n",
    "# Let's understand :-\n",
    "\n",
    "# Same thing, I can apply interm of \"Tuples \"also.\n",
    "\n",
    "# t = (5,6,7,8,8)\n",
    "\n",
    "# Here, I have store some information (5,6,7,8,8)\n",
    "\n",
    "# Next(t) - TypeError: 'tuple' object is not an iterator \n",
    "\n",
    "# If (we fire next(t) as a outcome, we can see its giving me Error. Bydefault Tuples are iterable but we have not \n",
    "# converted Tuples into a iterator. That is why, I am getting an Issue.\n",
    "\n",
    "# t = iter(t)\n",
    "\n",
    "# For this, If I use Iter fucntion, I can try to convert this things.\n",
    "\n",
    "# next(t)\n",
    "# 5\n",
    "\n",
    "# Now , If I am going to call next(t), I am able to get the data. [5] . Similar way for all till last. \n",
    "\n",
    "# In last next(t) - outcome [8] . \n",
    "\n",
    "# Next(t) - [\"StopIteration\"] - So, here at last stop Iteration outcome, because \"next\" fucntion does not know\n",
    "# when to stop and where to stop, it not aware about the length of entire object that we are trying to pass inside\n",
    "# this particular next fucntion."
   ]
  },
  {
   "cell_type": "code",
   "execution_count": null,
   "id": "541b73ac",
   "metadata": {},
   "outputs": [],
   "source": [
    "# What ever we have learn here about \n",
    "\n",
    "# Iter function &\n",
    "\n",
    "# Next Function\n",
    "\n",
    "# We will not going to use in real time, just for interview prospective. In realtime we are not going to use it.\n",
    "\n",
    "# IT is been used internally by [\"For Loop\"] bydefault. But we are suppose to be aware about it from a interview\n",
    "# prospective.  - [\" Iterator and Iterable \"]"
   ]
  },
  {
   "cell_type": "code",
   "execution_count": 24,
   "id": "c12b4155",
   "metadata": {},
   "outputs": [],
   "source": [
    "t = (5,6,7,8,8)"
   ]
  },
  {
   "cell_type": "code",
   "execution_count": 25,
   "id": "09c9089b",
   "metadata": {},
   "outputs": [
    {
     "ename": "TypeError",
     "evalue": "'tuple' object is not an iterator",
     "output_type": "error",
     "traceback": [
      "\u001b[1;31m---------------------------------------------------------------------------\u001b[0m",
      "\u001b[1;31mTypeError\u001b[0m                                 Traceback (most recent call last)",
      "Cell \u001b[1;32mIn[25], line 1\u001b[0m\n\u001b[1;32m----> 1\u001b[0m \u001b[38;5;28mnext\u001b[39m(t)\n",
      "\u001b[1;31mTypeError\u001b[0m: 'tuple' object is not an iterator"
     ]
    }
   ],
   "source": [
    "next(t)"
   ]
  },
  {
   "cell_type": "code",
   "execution_count": 26,
   "id": "fca3e40d",
   "metadata": {},
   "outputs": [],
   "source": [
    "t = iter(t)"
   ]
  },
  {
   "cell_type": "code",
   "execution_count": 27,
   "id": "1d8b03ab",
   "metadata": {},
   "outputs": [
    {
     "data": {
      "text/plain": [
       "5"
      ]
     },
     "execution_count": 27,
     "metadata": {},
     "output_type": "execute_result"
    }
   ],
   "source": [
    "next(t)"
   ]
  },
  {
   "cell_type": "code",
   "execution_count": 28,
   "id": "f3b57a68",
   "metadata": {},
   "outputs": [
    {
     "data": {
      "text/plain": [
       "6"
      ]
     },
     "execution_count": 28,
     "metadata": {},
     "output_type": "execute_result"
    }
   ],
   "source": [
    "next(t)"
   ]
  },
  {
   "cell_type": "code",
   "execution_count": 29,
   "id": "6cccf059",
   "metadata": {},
   "outputs": [
    {
     "data": {
      "text/plain": [
       "7"
      ]
     },
     "execution_count": 29,
     "metadata": {},
     "output_type": "execute_result"
    }
   ],
   "source": [
    "next(t)"
   ]
  },
  {
   "cell_type": "code",
   "execution_count": 30,
   "id": "19750261",
   "metadata": {},
   "outputs": [
    {
     "data": {
      "text/plain": [
       "8"
      ]
     },
     "execution_count": 30,
     "metadata": {},
     "output_type": "execute_result"
    }
   ],
   "source": [
    "next(t)"
   ]
  },
  {
   "cell_type": "code",
   "execution_count": 31,
   "id": "58878977",
   "metadata": {},
   "outputs": [
    {
     "data": {
      "text/plain": [
       "8"
      ]
     },
     "execution_count": 31,
     "metadata": {},
     "output_type": "execute_result"
    }
   ],
   "source": [
    "next(t)"
   ]
  },
  {
   "cell_type": "code",
   "execution_count": 32,
   "id": "82e0f5d3",
   "metadata": {},
   "outputs": [
    {
     "ename": "StopIteration",
     "evalue": "",
     "output_type": "error",
     "traceback": [
      "\u001b[1;31m---------------------------------------------------------------------------\u001b[0m",
      "\u001b[1;31mStopIteration\u001b[0m                             Traceback (most recent call last)",
      "Cell \u001b[1;32mIn[32], line 1\u001b[0m\n\u001b[1;32m----> 1\u001b[0m \u001b[38;5;28mnext\u001b[39m(t)\n",
      "\u001b[1;31mStopIteration\u001b[0m: "
     ]
    }
   ],
   "source": [
    "next(t)"
   ]
  },
  {
   "cell_type": "code",
   "execution_count": null,
   "id": "ace53f22",
   "metadata": {},
   "outputs": [],
   "source": [
    "# Code No :- 10 :-\n",
    "\n",
    "# Let's understand :-\n",
    "\n",
    "# "
   ]
  },
  {
   "cell_type": "code",
   "execution_count": 33,
   "id": "cbb20169",
   "metadata": {},
   "outputs": [],
   "source": [
    "v = \"vijay\""
   ]
  },
  {
   "cell_type": "code",
   "execution_count": 34,
   "id": "a65c93ac",
   "metadata": {},
   "outputs": [
    {
     "ename": "TypeError",
     "evalue": "'str' object is not an iterator",
     "output_type": "error",
     "traceback": [
      "\u001b[1;31m---------------------------------------------------------------------------\u001b[0m",
      "\u001b[1;31mTypeError\u001b[0m                                 Traceback (most recent call last)",
      "Cell \u001b[1;32mIn[34], line 1\u001b[0m\n\u001b[1;32m----> 1\u001b[0m \u001b[38;5;28mnext\u001b[39m(v)\n",
      "\u001b[1;31mTypeError\u001b[0m: 'str' object is not an iterator"
     ]
    }
   ],
   "source": [
    "next(v)"
   ]
  },
  {
   "cell_type": "markdown",
   "id": "304bb95a",
   "metadata": {},
   "source": [
    "                                      # Generator Function"
   ]
  },
  {
   "cell_type": "code",
   "execution_count": null,
   "id": "3bb46c4b",
   "metadata": {},
   "outputs": [],
   "source": [
    "# Code No :- 11 :-\n",
    "\n",
    "# Let's understand :-\n",
    "\n",
    "# Range(1,10) -\n",
    "\n",
    "# So, we all aware about the range function. if I have written over here range(1,10).\n",
    "\n",
    "# So, it is going to produce data starting from 1 till 10.\n",
    "\n",
    "# Excluding an upper bound, which is 10 by default. \n",
    "\n",
    "# List(range(1,10))\n",
    "# [1, 2, 3, 4, 5, 6, 7, 8, 9]\n",
    "\n",
    "# If I am going to enclosed, this things within a \"List\". I will be able to see the data.\n",
    "\n",
    "# It is trying to do generate a data starting from 1 going till 10 excluding an upper bound.\n",
    "# So, as a outcome we can see over here [1 till 9] it generate a data.\n",
    "\n",
    "# Question :-\n",
    "\n",
    "# Now let's suppose, Sir, asked a question, can you please try to create a similar kind of fucntion, because these \n",
    "# function looks like.\n",
    "\n",
    "# Generator fucntion for me which is trying to generate a kind of a dataset for all of us.So, how I will be able to\n",
    "# create a similar kind of a fucntion.\n",
    "\n",
    "# Let's understand :-\n",
    "\n",
    "# Let's Suppose sir, going to ask question, can you please write a function which will be able to generate basically\n",
    "# a square of a particular number till 10.\n",
    "\n",
    "# Anyone who can write a function which will be able to a produce a square of a data till 10 of for \"n\".\n",
    "\n",
    "# [1,4,9,16] - This is the outcome of these Question.\n",
    "\n",
    "# Def square_fun(n): | x = [i for i in range(n)] | return x square_fun(4) | outcome = [0, 1, 2, 3]\n",
    " \n",
    "# So, here let's suppose I am going to write, def square fun or fucntion which, I am going to write. I will put up \"n\"\n",
    "\n",
    "# means here, I would like to generate a Dataset. For that what I can do is May, I can try to write this way.\n",
    "\n",
    "# x = [i for i in range(n)]  - Then I can return \"x\" over here.\n",
    "\n",
    "# square_fun(4) outcome - [0, 1, 2, 3]\n",
    "\n",
    "# Now, If I am going to call square function(4).\n",
    "# Can we say that, If I am trying to put up (4) over here. It is able to generate something for me like [0,1,2,3]\n",
    "\n",
    "# Square_fun(4)  - outcome - [0, 1, 2, 3] \n",
    "\n",
    "# But, I am looking for square so, may be I can writ [i*i] over here. Can we say that, I am trying to put up (\"n\").\n",
    "\n",
    "# \"n\" is nothing but [4].\n",
    "\n",
    "# So, it is able to generate square of a 4 numbers.\n",
    "\n",
    "# [0,1,2,3] now [0,1,4,9]\n"
   ]
  },
  {
   "cell_type": "code",
   "execution_count": 1,
   "id": "a1d61345",
   "metadata": {},
   "outputs": [
    {
     "data": {
      "text/plain": [
       "[1, 2, 3, 4, 5, 6, 7, 8, 9]"
      ]
     },
     "execution_count": 1,
     "metadata": {},
     "output_type": "execute_result"
    }
   ],
   "source": [
    "list(range(1,10))"
   ]
  },
  {
   "cell_type": "code",
   "execution_count": 2,
   "id": "7df35021",
   "metadata": {},
   "outputs": [],
   "source": [
    "def square_fun(n):\n",
    "    x = [i for i in range(n)]\n",
    "    return x"
   ]
  },
  {
   "cell_type": "code",
   "execution_count": 3,
   "id": "5249d1cd",
   "metadata": {},
   "outputs": [
    {
     "data": {
      "text/plain": [
       "[0, 1, 2, 3]"
      ]
     },
     "execution_count": 3,
     "metadata": {},
     "output_type": "execute_result"
    }
   ],
   "source": [
    "square_fun(4)"
   ]
  },
  {
   "cell_type": "code",
   "execution_count": null,
   "id": "08977d3a",
   "metadata": {},
   "outputs": [],
   "source": [
    "# Continuee...\n",
    "\n",
    "# Square -\n",
    "\n",
    "# 0 - 0\n",
    "# 1 - 1\n",
    "# 2 - 4 \n",
    "# 3 - 9\n",
    "\n",
    "# This is something it is trying to produce. \n",
    "\n",
    "# def square_fun(n): - Here \"n\" is = 4.\n",
    "#    x = [i*i for i in range(n)] - r(n) or Range(4) = r(0,1,2,3)\n",
    "#    return x\n",
    "\n",
    "# range of 4 or r(4) why not 4 came because(0,1,2,3) only came excluding upper bound so 4 is will not come.\n",
    "\n",
    "# Comprehensive Operation.\n",
    "\n",
    "# Step :-1\n",
    "\n",
    "# def square_fun(n):  - Here \"n\"  means 4.\n",
    "#    x = [i*i for i in range(n)]  - Here r(4) means Range(4) or range(0,1,2,3)\n",
    "\n",
    "# def square_fun(n): \n",
    "\n",
    "# Here \"n\" is 4 why because we have 4 digit number (0,1,4,9).\n",
    "\n",
    "# x = [i*i for i in range(n) |  r(0,1,2,3)]\n",
    "\n",
    "# Here i*i means 0*0 = 0\n",
    "\n",
    "# square_fun(4)  outcome =   [0, 1, 4, 9]\n",
    "\n",
    "# Step : 2\n",
    "\n",
    "# x = [i*i for i in range(n) |  r(0,1,2,3)]\n",
    "\n",
    "# Here i*i means 1*1 = 1\n",
    "\n",
    "# Step : 3 & 4 same process\n",
    "\n",
    "# Here i*i means 2*2 = 2  and Here i*i means 3*3 = 3\n",
    "\n",
    "# outcome - [0,1,4,9]\n",
    "\n",
    "# Now, we are able to generate these particular informat these way. \n",
    "# Internally we are using range function. Range function is basically responsible for generating a dataset.\n",
    "\n",
    "# Starting from 0 till 4. Why not 4 came because excluding upper hand.\n",
    "\n",
    "# So, is (0,1,2,3)"
   ]
  },
  {
   "cell_type": "code",
   "execution_count": 4,
   "id": "a068dee6",
   "metadata": {},
   "outputs": [],
   "source": [
    "def square_fun(n):\n",
    "    x = [i*i for i in range(n)]\n",
    "    return x"
   ]
  },
  {
   "cell_type": "code",
   "execution_count": 5,
   "id": "29174a89",
   "metadata": {},
   "outputs": [
    {
     "data": {
      "text/plain": [
       "[0, 1, 4, 9]"
      ]
     },
     "execution_count": 5,
     "metadata": {},
     "output_type": "execute_result"
    }
   ],
   "source": [
    "square_fun(4)"
   ]
  },
  {
   "cell_type": "code",
   "execution_count": 6,
   "id": "769b01c6",
   "metadata": {},
   "outputs": [],
   "source": [
    "# Code No :- 12 :-\n",
    "\n",
    "# Let's understand :-\n",
    "\n",
    "# Perform  a same operation in a way.\n",
    "\n",
    "# range(4)\n",
    "# range(0,4)\n",
    "\n",
    "# Range function going to give me an output range(4). So, it is going to give me an output generate a data \n",
    "# range between 0 to 4.\n",
    "\n",
    "# List(range(4))\n",
    "# outcome = [0,1,2,3]\n",
    "\n",
    "# When I enclose these entire thing into a \"List\". SO, it will be able to call these \"List\" [0,1,2,3]\n",
    "\n",
    "# [0,1,2,3]\n",
    "\n",
    "# So, these range function is basically behave like generator, it will not going to give us an outcome unless and \n",
    "# Untill we are not looking for it.\n",
    "\n",
    "# Unless and untill, I am not going to enclose these things within 'LIST'or unless and until I am not going to iterate\n",
    "# through a for Loop.\n",
    "\n",
    "# It is not going to return back to me dataset at all.\n",
    "\n",
    "# Earlier code here [Square_fun(4)] - [0,1,4,9]\n",
    "\n",
    "# I am just calling fucntion. I am able to get the outcome.\n",
    "\n",
    "# But, I ma looking for range like function. Because Range is basically be have as a generator, that case what I am\n",
    "# Suppose to do.\n",
    "\n",
    "# Let's understand that part here this code I am [return X] earlier code. I am trying to return.\n",
    "\n",
    "# Return directly will return each and every things.\n",
    "\n",
    "# But, I am not looking for these return immeditely.\n",
    "\n",
    "# What I am expecting is  no do not return me anything just try to give me an object and if it is required in future.\n",
    "\n",
    "# So, I will try to extract a data by myself just like range fucntion. So, if range like function, if I have to \n",
    "# create as fucntion, I have to convert into a range like function, How I will be able to convert a same thing \n",
    "# in a range like function."
   ]
  },
  {
   "cell_type": "code",
   "execution_count": 7,
   "id": "cdba2863",
   "metadata": {},
   "outputs": [
    {
     "data": {
      "text/plain": [
       "range(0, 4)"
      ]
     },
     "execution_count": 7,
     "metadata": {},
     "output_type": "execute_result"
    }
   ],
   "source": [
    "range(4)"
   ]
  },
  {
   "cell_type": "code",
   "execution_count": 8,
   "id": "b3c047b4",
   "metadata": {},
   "outputs": [
    {
     "data": {
      "text/plain": [
       "[0, 1, 2, 3]"
      ]
     },
     "execution_count": 8,
     "metadata": {},
     "output_type": "execute_result"
    }
   ],
   "source": [
    "list(range(4))"
   ]
  },
  {
   "cell_type": "code",
   "execution_count": null,
   "id": "37a8596b",
   "metadata": {},
   "outputs": [],
   "source": [
    "# Code No :- 13 :-\n",
    "\n",
    "# Here, How I will be able to convert a same thing in a range like function. In this code, I have make some change,\n",
    "\n",
    "# same code we will use over here also. [Square_fun1(n):]\n",
    "\n",
    "# And instead of using [\"return x\"] we can use [\"Yield x\"]\n",
    "# \"Yield\" is basically reserved keyword inside a Python.\n",
    "\n",
    "# square_fun1(4) - If i am going to call this line of code.\n",
    "\n",
    "# As a outcome - [<generator object square_fun1 at 0x000001C7069C5FC0>]\n",
    "\n",
    "# Here outcome we can see, are we able to get an outcome like earlier code given.\n",
    "\n",
    "# No we are not able to get a function return at all.\n",
    "\n",
    "# Here what happend is that instead of using \"return\", because return always try to return a data in my dashboard or\n",
    "# inside my console.\n",
    "\n",
    "# Instead of that, I am using \"Yield\" function.\n",
    "\n",
    "# When I am trying to use \"Yield\" function.Yes it is able to Yield a data but it is not going to give me any kind of a \n",
    "# return or output.\n",
    "\n",
    "# It is returning me an object. -  <generator object square_fun1 at 0x000001C7069C5FC0>\n",
    "\n",
    "# Square_fun1(n):\n",
    "#    x = [i*i for i in range(n)]\n",
    "\n",
    "# Can we say that this is a range like similar function.\n",
    "\n",
    "# range(5) - outcome - range(0,5)\n",
    "\n",
    "# If I am going to call range(5). It is not giving me an actual data, which I was expexting. It is just trying to\n",
    "\n",
    "# return a object of it.\n",
    "\n",
    "# Similar way like this - Square_fun1(4), has given, only object as a outcome. No data Given.\n",
    "\n",
    "# [<generator object square_fun1 at 0x000001C7069C5FC0> ]\n",
    "\n",
    "# This is trying o return a object of these square_fun1 that, I have created. It is telling me that, it is a \n",
    "\n",
    "# generator object, means with the help of these particular function, we will be able to generate a data at any\n",
    "# point of a time. \n",
    "\n",
    "# Logic that we have written inside a function based on that we will be able to generate a dataset at any point \n",
    "# of a time."
   ]
  },
  {
   "cell_type": "code",
   "execution_count": 3,
   "id": "552ab4f7",
   "metadata": {},
   "outputs": [],
   "source": [
    "def square_fun1(n):\n",
    "    x = [i*i for i in range(n)]\n",
    "    yield x"
   ]
  },
  {
   "cell_type": "code",
   "execution_count": 4,
   "id": "a913a319",
   "metadata": {},
   "outputs": [
    {
     "data": {
      "text/plain": [
       "<generator object square_fun1 at 0x000002A7C8D959A0>"
      ]
     },
     "execution_count": 4,
     "metadata": {},
     "output_type": "execute_result"
    }
   ],
   "source": [
    "square_fun1(4)"
   ]
  },
  {
   "cell_type": "code",
   "execution_count": null,
   "id": "31f19c72",
   "metadata": {},
   "outputs": [],
   "source": [
    "# Code No :- 14 :-\n",
    "\n",
    "# Let's understand :-\n",
    "\n",
    "# for i in square_fun1(4):\n",
    "#    print(i)\n",
    "\n",
    "# If I am going call this fucntion [Square_fun1] inside for loop.\n",
    "\n",
    "# Obviously, I have to pass a parameter over here. (4)\n",
    "\n",
    "# If I am going to print(i).Now, I am able to get the data. [0,1,4,9]\n",
    "\n",
    "# [0,1,4,9]\n",
    "\n",
    "# for i in range(4) :\n",
    "#    print(i)\n",
    "\n",
    "# Outcome - 0,1,2,3\n",
    "\n",
    "# If I am going to perform same operation for range function range(4).\n",
    "\n",
    "# Can we say that whatever logic which is been implemented inside range fucntion, it is going to give me a dataset.\n",
    "\n",
    "# Same way , These kind of a function is basically called as a generator fucntion. which is not giving to give us a\n",
    "# directly.\n",
    "\n",
    "# Some point of time, it is going to give a dataset on a call of it.\n",
    "\n",
    "# So, whenever we are going to iterate through these entire function, it is going to give me a dataset at any point \n",
    "# of time.\n",
    "\n",
    "# This is basically called as a generator function. Only, statement, I have changed over here is a \"return\".\n",
    "\n",
    "# Instead of \"Return\" as a Keyword, what keyword I am trying to use, I am trying to use a \"Yield\""
   ]
  },
  {
   "cell_type": "code",
   "execution_count": 5,
   "id": "74ea9b23",
   "metadata": {},
   "outputs": [
    {
     "name": "stdout",
     "output_type": "stream",
     "text": [
      "[0, 1, 4, 9]\n"
     ]
    }
   ],
   "source": [
    "for i in square_fun1(4):\n",
    "    print(i)"
   ]
  },
  {
   "cell_type": "code",
   "execution_count": 6,
   "id": "d28a96ae",
   "metadata": {},
   "outputs": [
    {
     "name": "stdout",
     "output_type": "stream",
     "text": [
      "0\n",
      "1\n",
      "2\n",
      "3\n"
     ]
    }
   ],
   "source": [
    "for i in range(4) :\n",
    "    print(i)"
   ]
  },
  {
   "cell_type": "code",
   "execution_count": 7,
   "id": "e0212e3c",
   "metadata": {},
   "outputs": [],
   "source": [
    "# Code No :- 15 :-\n",
    "\n",
    "\n",
    "# Let's understand :-\n",
    "\n",
    "# Next(square_fun1(4)) - outcome - [0, 1, 4, 9]\n",
    "\n",
    "# Let's suppose, I am going to call these function as a \"next\". So, next of these fucntion next(square_fun1(4)).\n",
    "\n",
    "# with the help of \"next\" I am able to generate the dataset.\n",
    "\n",
    "# next(range(4)) :-  outcome - TypeError: 'range' object is not an iterator\n",
    "\n",
    "# Let's suppose, \n",
    "\n",
    "# If I am going to call \"next\" of \"range\" object is not a iterator. As a outcome we are geeting an Error.\n",
    "\n",
    "# This situation what I am suppose to do.\n",
    "\n",
    "# r = iter(range(4))\n",
    "# next(r) - outcome - 0\n",
    "\n",
    "# next(r) = 1, next(r) = 2, next(r) = 3, next(r) outcome = \"StopIteration\"\n",
    "\n",
    "# I can put up these thing into a  \"r = iter(range(4))\" iter & range(4)\n",
    "\n",
    "# At last next(r) - As a outcome we are getting \"StopIteration\"\n",
    "\n",
    "# So, We have already exhausted, my pointer is in the very last location. So, I am not able to extract anything out\n",
    "# of these particular iterator.\n",
    "\n",
    "# Idea is very very simple sometime we have to create a function, which will be behave as a generator function\n",
    "# which will be generate a dataset for me.\n",
    "\n",
    "# It is not suppose to return a data, where as it is suppose to generate data for me, in that case, instead of \n",
    "# using return keyword, we can use \"yield Keyword\""
   ]
  },
  {
   "cell_type": "code",
   "execution_count": 8,
   "id": "b3c4cdda",
   "metadata": {},
   "outputs": [
    {
     "data": {
      "text/plain": [
       "[0, 1, 4, 9]"
      ]
     },
     "execution_count": 8,
     "metadata": {},
     "output_type": "execute_result"
    }
   ],
   "source": [
    "next(square_fun1(4))"
   ]
  },
  {
   "cell_type": "code",
   "execution_count": 9,
   "id": "c5c32f93",
   "metadata": {},
   "outputs": [
    {
     "ename": "TypeError",
     "evalue": "'range' object is not an iterator",
     "output_type": "error",
     "traceback": [
      "\u001b[1;31m---------------------------------------------------------------------------\u001b[0m",
      "\u001b[1;31mTypeError\u001b[0m                                 Traceback (most recent call last)",
      "Cell \u001b[1;32mIn[9], line 1\u001b[0m\n\u001b[1;32m----> 1\u001b[0m \u001b[38;5;28mnext\u001b[39m(\u001b[38;5;28mrange\u001b[39m(\u001b[38;5;241m4\u001b[39m))\n",
      "\u001b[1;31mTypeError\u001b[0m: 'range' object is not an iterator"
     ]
    }
   ],
   "source": [
    "next(range(4))"
   ]
  },
  {
   "cell_type": "code",
   "execution_count": 10,
   "id": "28c36baa",
   "metadata": {},
   "outputs": [],
   "source": [
    "r = iter(range(4))"
   ]
  },
  {
   "cell_type": "code",
   "execution_count": 11,
   "id": "56a3646c",
   "metadata": {},
   "outputs": [
    {
     "data": {
      "text/plain": [
       "0"
      ]
     },
     "execution_count": 11,
     "metadata": {},
     "output_type": "execute_result"
    }
   ],
   "source": [
    "next(r)"
   ]
  },
  {
   "cell_type": "code",
   "execution_count": 12,
   "id": "1a13b9f6",
   "metadata": {},
   "outputs": [
    {
     "data": {
      "text/plain": [
       "1"
      ]
     },
     "execution_count": 12,
     "metadata": {},
     "output_type": "execute_result"
    }
   ],
   "source": [
    "next(r)"
   ]
  },
  {
   "cell_type": "code",
   "execution_count": 13,
   "id": "48be4555",
   "metadata": {},
   "outputs": [
    {
     "data": {
      "text/plain": [
       "2"
      ]
     },
     "execution_count": 13,
     "metadata": {},
     "output_type": "execute_result"
    }
   ],
   "source": [
    "next(r)"
   ]
  },
  {
   "cell_type": "code",
   "execution_count": 14,
   "id": "e38dd06b",
   "metadata": {},
   "outputs": [
    {
     "data": {
      "text/plain": [
       "3"
      ]
     },
     "execution_count": 14,
     "metadata": {},
     "output_type": "execute_result"
    }
   ],
   "source": [
    "next(r)"
   ]
  },
  {
   "cell_type": "code",
   "execution_count": 15,
   "id": "bc3af1f2",
   "metadata": {},
   "outputs": [
    {
     "ename": "StopIteration",
     "evalue": "",
     "output_type": "error",
     "traceback": [
      "\u001b[1;31m---------------------------------------------------------------------------\u001b[0m",
      "\u001b[1;31mStopIteration\u001b[0m                             Traceback (most recent call last)",
      "Cell \u001b[1;32mIn[15], line 1\u001b[0m\n\u001b[1;32m----> 1\u001b[0m \u001b[38;5;28mnext\u001b[39m(r)\n",
      "\u001b[1;31mStopIteration\u001b[0m: "
     ]
    }
   ],
   "source": [
    "next(r)"
   ]
  },
  {
   "cell_type": "code",
   "execution_count": 24,
   "id": "ba3181e7",
   "metadata": {},
   "outputs": [],
   "source": [
    "# Code No :- 16 :-\n",
    "\n",
    "#                               Just for understanding :-\n",
    "\n",
    "                                      # Question :-\n",
    "\n",
    "# I am looking for a function which is not suppose to give me a return, So I would like to create a one fucntion\n",
    "# which is not suppose to give me a \"return\" what it is suppose to give me.\n",
    "\n",
    "# It just suppose to give me an object, whenever I am going to iterate through the object then it is suppose to \n",
    "# generate some short of a data for me.\n",
    "\n",
    "# That is my condition.\n",
    "\n",
    "# So, how I will be able to create such kind of function because, If I am trying to use a return function in that case.\n",
    "# Yes, it is going to return me an straight forward.\n",
    "\n",
    "# All the dataset it is going to give me to an console.\n",
    "\n",
    "# So, here instead of using \"return\" what I can do is. I can try to use \"Yield\" function.\n",
    "\n",
    "# So, if I am going to convert my original function as a generator.\n",
    "\n",
    "# Behaviour of my function going to change in that case. It is not going to give me an straight forward return,\n",
    "\n",
    "# it will just give me an object.\n",
    "\n",
    "# I can just try to iterate through that object & then I will able to extract a information or dataset at any point\n",
    "# of time.\n",
    "\n",
    "# That function is basically called as generator function.\n",
    "\n",
    "# So, to convert any function into a generator function keyword is \"Yield\".\n",
    "\n",
    "# Instead of using \"return\" we are suppose to use a \"Yield\"."
   ]
  },
  {
   "cell_type": "code",
   "execution_count": null,
   "id": "1a88e6e3",
   "metadata": {},
   "outputs": [],
   "source": []
  },
  {
   "cell_type": "code",
   "execution_count": null,
   "id": "0b8b5d0a",
   "metadata": {},
   "outputs": [],
   "source": []
  },
  {
   "cell_type": "code",
   "execution_count": null,
   "id": "4803d85f",
   "metadata": {},
   "outputs": [],
   "source": [
    "# Code No :- 17 :-\n",
    "\n",
    "\n",
    "# Let's understand :-\n",
    "\n",
    "# Requiredment :-\n",
    "\n",
    "# Requiredment is to generate \"Fibonacci\" number.\n",
    "\n",
    "# Let's try to do this things by using return or by using generator both the way.\n",
    "# We will clear idea what is the exact difference and advantage.\n",
    "\n",
    "# \"Fibonacci Number\" -\n",
    "\n",
    "# Here, I have to write a function, which will be able to generate a \"Fibonacci\" series for me.\n",
    "\n",
    "# Fibonacci number is nothing but a sequence of a number, So where the next number going to be a submission of\n",
    "# previous two numbers.\n",
    "\n",
    "# --------------------------------------------------------------------------------------- #\n",
    "\n",
    "# Let's understand :-\n",
    "\n",
    "# I am going to start from 1 so next is 1, Next is 1+1 =  2.\n",
    "\n",
    "# Example :-\n",
    "\n",
    "# 1,1,2,3,5,8,13,21,34,55\n",
    "\n",
    "# 1 + 1 = 2\n",
    "# 2 + 3 = 5\n",
    "# 3 + 5 = 8\n",
    "# 5 + 8 = 13\n",
    "# 8 + 13 = 21\n",
    "# 13 + 21 = 34\n",
    "# 21 + 34 = 55\n",
    "\n",
    "# These kind of number or series is called as a \"Fibonacci \"Series.\n",
    "\n",
    "# Where a next number is going to be a submission of previous 2 numbers. Every next number is going to be a \n",
    "# Submission of a previous 2 numbers.\n",
    "\n",
    "\n",
    "# --------------------------------#------------------------------------- #\n",
    "\n",
    "# Let's try to write a function which will be able to generate a \"Fibonacci  Series\", for \"n\" number of dataset.\n",
    "# or \"n\" number of input set.\n",
    "\n",
    "# Let's understand :-\n",
    "\n",
    "# Let's see how these function is working, how we can try to convert these entire function as a generator function.\n",
    "\n",
    "# genfib(10)\n",
    "# [1, 1, 2, 3, 5, 8, 13, 21, 34, 55]\n",
    "\n",
    "# Here in code, I am trying to keep \n",
    "# a = 1\n",
    "# b = 1\n",
    "\n",
    "# Very first number is going to be 1, 1 that is fine.\n",
    "\n",
    "# L[]\n",
    "\n",
    "# Now, I have created a blank \"List\"[], because I am looking for a complete 10 number \"Fibonacci\" List over here.\n",
    "\n",
    "# So, I have just crated a blank \"List\" over here.\n",
    "\n",
    "# for i in range(n) : - \"n\" means 10 here.  -   r(0,1,2,3,4,5,6,7,8,9)\n",
    "\n",
    "# If I am going to pass n = 10 over here. 10 means range function going to generate a data."
   ]
  },
  {
   "cell_type": "code",
   "execution_count": null,
   "id": "4e71120f",
   "metadata": {},
   "outputs": [],
   "source": [
    "# n - 10 means - r(0,1,2,3,4,5,6,7,8,9)\n",
    "\n",
    "# Till 9 it will going to generate a information. \n",
    "\n",
    "# l.append(a)\n",
    "\n",
    "# Now what I am trying to do over here is L.append(a).\n",
    "\n",
    "# So, I am trying to append(a) value if \"a\" inside a list L = [].\n",
    "\n",
    "# The value of \"a\" is [1] now, So, [1] is going to append inside a \"List\" L = [1].\n",
    "# It has appened [1] inside a \"List\" that is fine.\n",
    "\n",
    "# [1, 1, 2, 3, 5, 8, 13, 21, 34, 55]\n",
    "\n",
    "#                                   2nd part\n",
    "\n",
    "# a, b = b, a+b  |  a = b and b = a+b cross choose  | Better understand -  a(1), b(2) = b(1), a+b(2) | 1 = 1, 2 = 2\n",
    "\n",
    "# (i) The value of a os [1]\n",
    "\n",
    "# Can we say that a = b \n",
    "\n",
    "# when it come to this particular line [a,b = b, a+b]\n",
    "\n",
    "# Can we say that a = b as of now. So, what is the value of \"b\" as of now is [1].\n",
    "\n",
    "# So, \n",
    "# a = b \n",
    "# a = 1\n",
    "\n",
    "# a = 1          b = 2\n",
    "# a = 2          b = 3\n",
    "# a = 3          b = 5\n",
    "\n",
    "# (ii) b = a+b\n",
    "\n",
    "# So, what is the value of a as of now [1].what is the value of \"b\" as of now [1].\n",
    "\n",
    "# b = a+b\n",
    "# b = 1+1\n",
    "# b = 2\n",
    "\n",
    "# The value of \"b\" is [2].\n",
    "\n",
    "# So, it will again get back to \"For Loop\"\n",
    "\n",
    "# For i in range(n) -  r(0,1,2,3,4,5,8,13,21,34,55)\n",
    "\n",
    "# 2nd iteration [1] previous was ['0'] Zero.\n",
    "\n",
    "# Now, 2nd iterator is [1].\n",
    "# L.append(a).\n",
    "\n",
    "# The value of \"a\" is 1. So, L.append(1)\n",
    "\n",
    "# So, it will again append[1] inside the List L[1].\n",
    "\n",
    "# So fine it has appended [1].\n",
    "\n",
    "# [1, 1, 2, 3, 5, 8, 13, 21, 34, 55]\n",
    "\n",
    "#                                            3rd  Part\n",
    "\n",
    "# a, b = b, a+b\n",
    "\n",
    "# Now, again it will come over here. \n",
    "\n",
    "# a,b = b, a+b \n",
    "\n",
    "# (i) a = b                             a = 1   b = 2\n",
    "# (ii) b = a+b                          a = 2   b = 3\n",
    "#                                       a = 3   b = 5\n",
    "\n",
    "# (i) a = b\n",
    "\n",
    "# The value of \"b\" is 2\n",
    "# a = 2\n",
    "\n",
    "# (ii) b = a+b\n",
    "\n",
    "# The value of \"a\" is 1\n",
    "# The value of \"b\" is 2\n",
    "\n",
    "# So, the \n",
    "\n",
    "# b = a=b\n",
    "# b = 1+2\n",
    "# b = 3\n",
    "\n",
    "# The value of \"b\" is [3].\n",
    "\n",
    "# Now, again it will go over here for loop\n",
    "\n",
    "# for i in range(n) : \"n\"  means 10.  r(0,1, 2, 3, 5, 8, 13, 21, 34, 55)\n",
    "\n",
    "# L.append(a)\n",
    "# The value of append(a) is 2.\n",
    "# append(2)\n",
    "\n",
    "# So, it will againa append [2] inside the List L[2].\n",
    "\n",
    "# So, fine it has appended [2].\n",
    "\n",
    "# [1, 1, 2, 3, 5, 8, 13, 21, 34, 55]\n",
    "\n",
    "#                                                  4th Part\n",
    "\n",
    "# a, b = b, a+b\n",
    "\n",
    "# Now, again it will come over here.\n",
    "\n",
    "# a,b "
   ]
  },
  {
   "cell_type": "code",
   "execution_count": 17,
   "id": "c202b26d",
   "metadata": {},
   "outputs": [],
   "source": [
    "def genfib(n) :\n",
    "    a=1\n",
    "    b=1\n",
    "    l=[]\n",
    "    for i in range(n):\n",
    "        l.append(a)\n",
    "        a,b =b, a+b\n",
    "    return l"
   ]
  },
  {
   "cell_type": "code",
   "execution_count": 18,
   "id": "bc27aa4d",
   "metadata": {},
   "outputs": [
    {
     "data": {
      "text/plain": [
       "[1, 1, 2, 3, 5]"
      ]
     },
     "execution_count": 18,
     "metadata": {},
     "output_type": "execute_result"
    }
   ],
   "source": [
    "genfib(5)"
   ]
  },
  {
   "cell_type": "code",
   "execution_count": 19,
   "id": "000ce5e8",
   "metadata": {},
   "outputs": [
    {
     "data": {
      "text/plain": [
       "[1, 1, 2, 3, 5, 8, 13, 21, 34, 55]"
      ]
     },
     "execution_count": 19,
     "metadata": {},
     "output_type": "execute_result"
    }
   ],
   "source": [
    "genfib(10)"
   ]
  },
  {
   "cell_type": "code",
   "execution_count": 20,
   "id": "b172effe",
   "metadata": {},
   "outputs": [],
   "source": [
    "def genfib1(n):\n",
    "    a = 1\n",
    "    b = 1\n",
    "    for i in range(n):\n",
    "        yield a\n",
    "        a,b = b, a+b"
   ]
  },
  {
   "cell_type": "code",
   "execution_count": 21,
   "id": "5b93ac70",
   "metadata": {},
   "outputs": [
    {
     "data": {
      "text/plain": [
       "<generator object genfib1 at 0x000002A7C988B970>"
      ]
     },
     "execution_count": 21,
     "metadata": {},
     "output_type": "execute_result"
    }
   ],
   "source": [
    "genfib1(10)"
   ]
  },
  {
   "cell_type": "code",
   "execution_count": null,
   "id": "2061fa48",
   "metadata": {},
   "outputs": [],
   "source": [
    "# Code No :- 18 :-\n",
    "\n",
    "\n",
    "# Let's understand :-\n",
    "\n",
    "# I am going to start from 1 so next is 1, Next is 1+1 =  2.\n",
    "\n",
    "# Example :-\n",
    "\n",
    "# 1,1,2,3,5,8,13,21,34,55\n",
    "\n",
    "# 1 + 1 = 2\n",
    "# 2 + 3 = 5\n",
    "# 3 + 5 = 8\n",
    "# 5 + 8 = 13\n",
    "# 8 + 13 = 21\n",
    "# 13 + 21 = 34\n",
    "# 21 + 34 = 55\n",
    "\n",
    "# These kind of number or series is called as a \"Fibonacci \"Series.\n",
    "\n",
    "# Where a next number is going to be a submission of previous 2 numbers. Every next number is going to be a \n",
    "# Submission of a previous 2 numbers.\n",
    "\n",
    "# -----------------------------------#---------------------------------------#\n",
    "\n",
    "# Let's understand :-\n",
    "\n",
    "# Let's see how these function working, how we can try to convert these entire fucntion as a generator function.\n",
    "\n",
    "# genfib(10)\n",
    "# [1,1,2,3,5,8,13,21,34,55]\n",
    "\n",
    "# Here in code, I am trying to keep \n",
    "# a = 1\n",
    "# b = 1\n",
    "\n",
    "# Very first number is going to be 1, 1 that is fine.\n",
    "# L []\n",
    "\n",
    "# Now, I have created a blank \"List\" [], because I am looking for a complete 10 number \"Fibonacci\" List over here.\n",
    "# So I have just crated a blank \"list\" over here.\n",
    "\n",
    "# for i in range(n) - \"n\" means 10 -  r(0,1,2,3,4,5,6,7,8,9)\n",
    "\n",
    "# If I am going to pass n = 10 over here. 10 means range function going to generate a data. \n",
    "\n",
    "# n = 10 means -   r(0,1,2,3,4,5,6,7,8,9) - Till 9 it will going to generate a information.\n",
    "\n",
    "# L.append(a).\n",
    "\n",
    "# So, I am trying to append(a) value of \"a\" inside a List L=[].\n",
    "\n",
    "# The value of \"a\" is [1] now. So, [1] is going to append inside a 'List' L = [].\n",
    "\n",
    "# It has appended [1] inside a \"List\" that is fine.\n",
    "\n",
    "# [1,1,2,3,5,8,13,21,34,55] \n",
    "\n",
    "# a,b = b, a+b  ---- its crossed like - a(1),b(2) = b(1),a+b(2) | (i) a(1) = b(1) | (ii) b(1) = a+b(2)\n",
    "\n",
    "#  (i) a = b\n",
    "# (ii) b = a+b\n",
    "\n",
    "# (i) The value of \"a\" is [1].\n",
    "# can we say that a =b, when it come to this particular line - [a,b = b, a+b ]\n",
    "\n",
    "# Can we say that a = b as of now. So, what is the value of \"b\" as of now is [1].\n",
    "\n",
    "# so,\n",
    "\n",
    "# a = b                              a = 1  b = 2\n",
    "# a = 1                              a = 2  b = 3\n",
    "#                                    a = 3  b = 5\n",
    "\n",
    "# (ii) b = a+b\n",
    "\n",
    "# So, what is the value of a as of now [1]. what is the value of \"b\" as of now [1].\n",
    "\n",
    "# b = a+b\n",
    "# b = 1+1\n",
    "# b = 2\n",
    "\n",
    "# The value of \"b\" is [2].\n",
    "# So, it will again get back to for loop.\n",
    "\n",
    "# For i in range(n) previous was [0] zero.\n",
    "\n",
    "# Now 2nd iteration [1] previous was [0] zero. Now 2nd iteration is [1].\n",
    "# L.append(1)\n",
    "\n",
    "# The value of \"a\" is 1.\n",
    "\n",
    "# So, L.append(1).\n",
    "\n",
    "# So, it will again append[1] inside the List L[1].\n",
    "\n",
    "# So, fine it has appended [1]. - # [1,1,2,3,5,8,13,21,34,55] "
   ]
  },
  {
   "cell_type": "code",
   "execution_count": null,
   "id": "f4c43ffa",
   "metadata": {},
   "outputs": [],
   "source": [
    "# Continuee....\n",
    "\n",
    "#                                      3rd Part\n",
    "\n",
    "# a,b = b, a+b\n",
    "\n",
    "# Now, again it will come over here,\n",
    "\n",
    "# a, b = b, a+b  \n",
    "\n",
    "# a = 1       b  = 2\n",
    "# a = 2       b =  3\n",
    "# a = 3       b =  5\n",
    "\n",
    "# (i) a = b\n",
    "# (ii) b = a+b\n",
    "\n",
    "# (i) a = b\n",
    "\n",
    "# The value of \"b\" is 2 \n",
    "\n",
    "# (ii) b = a+b\n",
    "\n",
    "# The value of 'a' is 1\n",
    "# The value of 'b' is 2\n",
    "\n",
    "# So, the \n",
    "\n",
    "# b = a+b\n",
    "# b = 1+2\n",
    "# b = 3\n",
    "# The value of \"b\" is [3] \n",
    "\n",
    "# Now, again it will go over here, for loop\n",
    "\n",
    "# For i in range(n) : \"n\" means 10 - r(0,1,2,3,5,8,13,21,34,55)\n",
    "\n",
    "# L.append(a)\n",
    "# The value of append(a) is [2]\n",
    "# append(2)\n",
    "\n",
    "# So, it will again append[2] inside the List L[2].\n",
    "\n",
    "# [1,1,2,3,5,8,13,21,34,55]\n",
    "\n",
    "#                                         4th part\n",
    "\n",
    "# a,b = b , a+b\n",
    "\n",
    "# Now again, it will come over here, \n",
    "\n",
    "# a,b = b, a+b  ---- its crossed like - a(1),b(2) = b(1),a+b(2) | (i) a(1) = b(1) | (ii) b(1) = a+b(2) \n",
    "\n",
    "# a = 1   b = 2\n",
    "# a = 2   b = 3\n",
    "# a = 3   b = 5\n",
    "\n",
    "# (i) a =b\n",
    "# (ii) b = a+b\n",
    "\n",
    "# (i) a = b\n",
    "# The value of \"b\" is [3]\n",
    "# a = 3\n",
    "\n",
    "# b = a+b\n",
    "\n",
    "# The value of \"a\" is 2\n",
    "# The value of \"b\" is 3\n",
    "\n",
    "# b = a+b\n",
    "# = 2+3\n",
    "# =5\n",
    "\n",
    "# So, The value of \"b\" is [5].\n",
    "\n",
    "# Now again it will go over here\n",
    "\n",
    "# for Loop - for i in range(n) : \"n\" means 10 - r(0,1,2,3,5,8,13,21,34,55)  - 3rd no 3.\n",
    "\n",
    "# L.append(a)\n",
    "# The value of append(a) is [3]\n",
    "\n",
    "# So, it will again append [3] inside the List L[3]. So, fine it has appened [3]\n",
    "\n",
    "# [1,1,2,3,5,8,13,21,34,55]\n",
    "\n",
    "# a = 1 b = 2\n",
    "# a = 2 b = 3\n",
    "# a= 3  b = 5\n",
    "# a= 5  b = 8\n",
    "# a=8   b =13\n",
    "# a=13  b =21\n",
    "# a=21  b = 34\n",
    "# a= 34 b = 55\n",
    "\n",
    "# [1,1,2,3,5,8,13,21,34,55]\n",
    "\n",
    "# Same process for all others to extract data.\n",
    "\n",
    "# These way it is trying to generate a data and then it will keep on appending.\n",
    "\n",
    "# Logic for \"Fibonacci\" very simple, whenever we are writting a logic for \"Fibonacci\", we are suppose to add a \n",
    "# precious two element.\n",
    "\n",
    "# Additional of previous 2 element going to be the next element, that is the only logic exist with respect to a\n",
    "# \"Fibonacci series\".\n",
    "\n",
    "# That is the region, we have written these line [a,b = b, a+b] these way."
   ]
  },
  {
   "cell_type": "code",
   "execution_count": 22,
   "id": "e9cf651a",
   "metadata": {},
   "outputs": [
    {
     "name": "stdout",
     "output_type": "stream",
     "text": [
      "1\n",
      "1\n",
      "2\n",
      "3\n",
      "5\n",
      "8\n",
      "13\n",
      "21\n",
      "34\n",
      "55\n"
     ]
    }
   ],
   "source": [
    "for i in genfib1(10):\n",
    "    print(i)"
   ]
  },
  {
   "cell_type": "markdown",
   "id": "11a19cf4",
   "metadata": {},
   "source": [
    "                                       Warning :-\n",
    "\n",
    "Please don't run this code just for understanding, otherwise it will hang laptop.\n",
    "\n",
    "genfib(10000000) - outcome of these sentences will be infitine..."
   ]
  },
  {
   "cell_type": "code",
   "execution_count": null,
   "id": "1b062591",
   "metadata": {},
   "outputs": [],
   "source": []
  },
  {
   "cell_type": "code",
   "execution_count": null,
   "id": "fec09e26",
   "metadata": {},
   "outputs": [],
   "source": [
    "# Code No :- 18 :-\n",
    "\n",
    "\n",
    "# Sir said :-\n",
    "\n",
    "# Whats to is that. \n",
    "\n",
    "# Try to give me not a return, I am not looking for return basically, I would like to create, a range kind of a function,\n",
    "# which will behave like a generator, which will keep on generating a dataset.\n",
    "\n",
    "# It is not just like a give me a dataset immeditely. It is suppose to keep on generating a dataset. How, I will be perform\n",
    "# such kind of operation.\n",
    "\n",
    "# Then we we discussed about both code, now benefit of using such code.\n",
    "\n",
    "# Here I have created \"genfib1\" and I am not looking for whole set of data [1,2,3,5,8,13,21,34,55] there is no need of\n",
    "# list at all L = [] remove it.\n",
    "\n",
    "# Now, there is no need of doing L.append(a) because, I have just removed the L = [] \"List\".\n",
    "\n",
    "# I am not looking for \"List\" at all. Instead of keep these things inside a \"List\" because that is something which is going\n",
    "# to behave as a return. So, [\"Yield a \"] I have written.\n",
    "\n",
    "# If we execute it. Now if I am going to call a * Genfib1(10) generate Fibonacci(genfib).\n",
    "\n",
    "# <generator object genfib1 at 0x000001F00F672020>\n",
    "\n",
    "# Can we say that, it is not giving me a data, it is behaving like a generator function. I have just use \"Yield\".\n",
    "\n",
    "# I have just used \"Yield\". So, everytime it is try to \"Yield\".\n",
    "\n",
    "# for i in genfib1(10):\n",
    "#    print(i)\n",
    "\n",
    "# Outcome we can see - 1,1,2,3,5,8,13,21,34,55\n",
    "\n",
    "# Lets suppose, I am going to call this code. Can we say that I am able to get the data.\n",
    "# In previous code and now to this code it a same function that we have written logic wise.\n",
    "\n",
    "# There is no difference at all. But the kind of function or nature of a function that we have created over here is.\n",
    "\n",
    "# There is a difference.\n",
    "\n",
    "# Previous code ( Just a Explanation )\n",
    "\n",
    "# L []\n",
    "# return L\n",
    "\n",
    "# Here, I am trying to perform a return operation, can we say it is trying to prepare a whole  \"List\" L = [] &\n",
    "\n",
    "# then it will give a \"return\".\n",
    "\n",
    "# Unless and untill it is not preparing a whole \"List\" it will not be able to give us a return at all.\n",
    "\n",
    "# Instead of passing 10 If I will give these number.\n",
    "\n",
    "# genfib(1000000000000000)\n",
    "\n",
    "# If I am going to give ( 10000000000) 10 Lakh or more than that, then it start giving me a dataset.\n",
    "\n",
    "# Why what is the region it taking time and still giving dataset, it taking more time.\n",
    "\n",
    "# Because it is trying to prepare a whole list unless and untill the whole \"List\" is not prepared. It will not giving\n",
    "# me a data. If I run this code to my system then it will long my PC.\n",
    "\n",
    "# After run this code it will take almost 2 to 5 min to give outcome."
   ]
  },
  {
   "cell_type": "code",
   "execution_count": 2,
   "id": "d15f984e",
   "metadata": {},
   "outputs": [],
   "source": [
    "def genfib1(n):\n",
    "    a=1\n",
    "    b=1\n",
    "    for i in range(n):\n",
    "        yield a\n",
    "        a,b = b, a+b"
   ]
  },
  {
   "cell_type": "code",
   "execution_count": 3,
   "id": "c183eb9c",
   "metadata": {},
   "outputs": [
    {
     "data": {
      "text/plain": [
       "<generator object genfib1 at 0x000001F00F672020>"
      ]
     },
     "execution_count": 3,
     "metadata": {},
     "output_type": "execute_result"
    }
   ],
   "source": [
    "genfib1(10)"
   ]
  },
  {
   "cell_type": "code",
   "execution_count": 4,
   "id": "77661545",
   "metadata": {},
   "outputs": [
    {
     "name": "stdout",
     "output_type": "stream",
     "text": [
      "1\n",
      "1\n",
      "2\n",
      "3\n",
      "5\n",
      "8\n",
      "13\n",
      "21\n",
      "34\n",
      "55\n"
     ]
    }
   ],
   "source": [
    "for i in genfib1(10):\n",
    "    print(i)"
   ]
  },
  {
   "cell_type": "code",
   "execution_count": 1,
   "id": "2f747a1e",
   "metadata": {},
   "outputs": [],
   "source": [
    "# Code No :- 19 :-\n",
    "\n",
    "# Lets Understand code :-\n",
    "\n",
    "#Let's try to understand couple of things from \"File Handling\".\n",
    "\n",
    "# After that we will discuss about 3 inbuild function called as MAP, Reduce and Filter function.\n",
    "\n",
    "# File Operation :-\n",
    "\n",
    "# Open, read, write operation and any such kind of operation. I will be able to perform through a Python.\n",
    "\n",
    "# Let's suppose,\n",
    "\n",
    "# If I have to open up a file with my own name. So, I can create a variable \"F\" and then I can try to use a function\n",
    "# Called as Open().\n",
    "\n",
    "# Open() is a inbuild function which is available inside a Python.\n",
    "\n",
    "# let's suppose, I would like to open up some file, I would like to create one of those file and then I would like to \n",
    "# Perform some short of a operation on top of this file.\n",
    "# How, I will be do it.\n",
    "\n",
    "# \"Vijay1.txt\" - So, may be, I would like to create a file [\"Vijay1.txt\"]\n",
    "\n",
    "# This is the file name which I would like to create.\n",
    "\n",
    "# f = open(\"Vijay1.txt\")\n",
    "# As a outcome - File Not FoundError.\n",
    "\n",
    "# \"File not Found\" kind of a Error, It is giving me. Because these file is not available in a particular location.\n",
    "\n",
    "# I can do may be \"Dir\" function "
   ]
  },
  {
   "cell_type": "code",
   "execution_count": 2,
   "id": "a8265c50",
   "metadata": {},
   "outputs": [
    {
     "ename": "FileNotFoundError",
     "evalue": "[Errno 2] No such file or directory: 'vijay1.txt'",
     "output_type": "error",
     "traceback": [
      "\u001b[1;31m---------------------------------------------------------------------------\u001b[0m",
      "\u001b[1;31mFileNotFoundError\u001b[0m                         Traceback (most recent call last)",
      "Cell \u001b[1;32mIn[2], line 1\u001b[0m\n\u001b[1;32m----> 1\u001b[0m f \u001b[38;5;241m=\u001b[39m \u001b[38;5;28mopen\u001b[39m(\u001b[38;5;124m\"\u001b[39m\u001b[38;5;124mvijay1.txt\u001b[39m\u001b[38;5;124m\"\u001b[39m)\n",
      "File \u001b[1;32m~\\anaconda3\\Lib\\site-packages\\IPython\\core\\interactiveshell.py:286\u001b[0m, in \u001b[0;36m_modified_open\u001b[1;34m(file, *args, **kwargs)\u001b[0m\n\u001b[0;32m    279\u001b[0m \u001b[38;5;28;01mif\u001b[39;00m file \u001b[38;5;129;01min\u001b[39;00m {\u001b[38;5;241m0\u001b[39m, \u001b[38;5;241m1\u001b[39m, \u001b[38;5;241m2\u001b[39m}:\n\u001b[0;32m    280\u001b[0m     \u001b[38;5;28;01mraise\u001b[39;00m \u001b[38;5;167;01mValueError\u001b[39;00m(\n\u001b[0;32m    281\u001b[0m         \u001b[38;5;124mf\u001b[39m\u001b[38;5;124m\"\u001b[39m\u001b[38;5;124mIPython won\u001b[39m\u001b[38;5;124m'\u001b[39m\u001b[38;5;124mt let you open fd=\u001b[39m\u001b[38;5;132;01m{\u001b[39;00mfile\u001b[38;5;132;01m}\u001b[39;00m\u001b[38;5;124m by default \u001b[39m\u001b[38;5;124m\"\u001b[39m\n\u001b[0;32m    282\u001b[0m         \u001b[38;5;124m\"\u001b[39m\u001b[38;5;124mas it is likely to crash IPython. If you know what you are doing, \u001b[39m\u001b[38;5;124m\"\u001b[39m\n\u001b[0;32m    283\u001b[0m         \u001b[38;5;124m\"\u001b[39m\u001b[38;5;124myou can use builtins\u001b[39m\u001b[38;5;124m'\u001b[39m\u001b[38;5;124m open.\u001b[39m\u001b[38;5;124m\"\u001b[39m\n\u001b[0;32m    284\u001b[0m     )\n\u001b[1;32m--> 286\u001b[0m \u001b[38;5;28;01mreturn\u001b[39;00m io_open(file, \u001b[38;5;241m*\u001b[39margs, \u001b[38;5;241m*\u001b[39m\u001b[38;5;241m*\u001b[39mkwargs)\n",
      "\u001b[1;31mFileNotFoundError\u001b[0m: [Errno 2] No such file or directory: 'vijay1.txt'"
     ]
    }
   ],
   "source": [
    "f = open(\"vijay1.txt\")"
   ]
  },
  {
   "cell_type": "code",
   "execution_count": null,
   "id": "5a399992",
   "metadata": {},
   "outputs": [],
   "source": [
    "# Code No :- 20 :-\n",
    "\n",
    "# Or my be I Can do (Ls) function. \n",
    "\n",
    "# Ls \n",
    "# As a outcome - Volume in drive C has no label.\n",
    "\n",
    "# If we do \"LS\", I can try to do Here,as a outcome we can see that. There is no such kind of File which is available, in a \n",
    "# current directory.\n",
    "\n",
    "# As a outcome we can see that there is no such file called as \"Vijay1.txt\" file avaiable, but I would like to create one\n",
    "# of these files. How , I can create a file at any point of time."
   ]
  },
  {
   "cell_type": "code",
   "execution_count": 3,
   "id": "1d94b29d",
   "metadata": {},
   "outputs": [
    {
     "data": {
      "text/plain": [
       "['In',\n",
       " 'Out',\n",
       " '_',\n",
       " '__',\n",
       " '___',\n",
       " '__builtin__',\n",
       " '__builtins__',\n",
       " '__doc__',\n",
       " '__loader__',\n",
       " '__name__',\n",
       " '__package__',\n",
       " '__spec__',\n",
       " '_dh',\n",
       " '_i',\n",
       " '_i1',\n",
       " '_i2',\n",
       " '_i3',\n",
       " '_ih',\n",
       " '_ii',\n",
       " '_iii',\n",
       " '_oh',\n",
       " 'exit',\n",
       " 'get_ipython',\n",
       " 'open',\n",
       " 'quit']"
      ]
     },
     "execution_count": 3,
     "metadata": {},
     "output_type": "execute_result"
    }
   ],
   "source": [
    "dir()"
   ]
  },
  {
   "cell_type": "code",
   "execution_count": 4,
   "id": "35b18fd8",
   "metadata": {},
   "outputs": [
    {
     "name": "stdout",
     "output_type": "stream",
     "text": [
      " Volume in drive C is OS\n",
      " Volume Serial Number is 4A96-B0E8\n",
      "\n",
      " Directory of C:\\Users\\DELL\n",
      "\n",
      "26-02-2024  23:05    <DIR>          .\n",
      "25-10-2023  22:04    <DIR>          ..\n",
      "27-10-2023  02:15    <DIR>          .anaconda\n",
      "07-02-2024  03:40    <DIR>          .astropy\n",
      "26-02-2024  23:05    <DIR>          .conda\n",
      "27-10-2023  02:15                25 .condarc\n",
      "27-10-2023  02:15    <DIR>          .continuum\n",
      "20-02-2024  07:05    <DIR>          .ipynb_checkpoints\n",
      "30-10-2023  22:26    <DIR>          .ipython\n",
      "07-02-2024  02:27    <DIR>          .jupyter\n",
      "07-02-2024  03:42    <DIR>          .matplotlib\n",
      "29-10-2023  00:48    <DIR>          .ms-ad\n",
      "21-01-2024  00:14    <DIR>          .VirtualBox\n",
      "30-10-2023  22:35    <DIR>          anaconda3\n",
      "15-01-2024  01:01    <DIR>          ansel\n",
      "21-01-2024  10:49           211,388 ChatGPT Prompt Engineering for Developers.ipynb\n",
      "25-10-2023  21:53    <DIR>          Contacts\n",
      "07-11-2023  05:31    <DIR>          Documents\n",
      "25-02-2024  23:33    <DIR>          Downloads\n",
      "25-10-2023  21:53    <DIR>          Favorites\n",
      "25-10-2023  21:53    <DIR>          Links\n",
      "25-10-2023  21:53    <DIR>          Music\n",
      "30-10-2023  22:27            93,010 My  3rd Class - 21-MAY-22 ( LIST, TUPLES, DICTIONARY, SET ).ipynb\n",
      "26-02-2024  23:05            75,312 My 10th Class - 18th - JUNE - Python - ( Iterator, Generator, Map, Reduce, Filter and Basic of File Operation ) .ipynb\n",
      "30-10-2023  22:26            15,956 My 1st Class - 14-MAY-22 ( Variable Basics ) (1).ipynb\n",
      "30-10-2023  22:27            71,933 My 2nd Class - 15th-May-2022 ( String Basic ).ipynb\n",
      "30-10-2023  22:27            35,245 My 4th Class - MAY-22  Conditional Statement ( IF, ELIF & ELSE ) .ipynb\n",
      "30-10-2023  22:28            45,672 My 5th Class - MAY-28  Python - ( FOR LOOP ) !.ipynb\n",
      "30-10-2023  23:40            14,398 My 6th Class - MAY-29 Python - ( WHILE LOOP & FUNCTION BASIC ) !.ipynb\n",
      "30-12-2023  22:03            49,423 My 7th Class - MAY-29 Python - ( WHILE LOOP ( 2nd part ) & FUNCTION ) !.ipynb\n",
      "17-01-2024  08:04            74,822 My 8th Class - 5th - JUNE - Python - ( FUNCTION ) !.ipynb\n",
      "17-02-2024  02:48           105,121 My 9th Class - 12th - JUNE - Python - ( Exception Handling Codes ) .ipynb\n",
      "31-01-2024  22:01    <DIR>          OneDrive\n",
      "17-02-2024  11:53        13,677,800 picasa-3-9-141-259.exe\n",
      "17-12-2023  10:26    <DIR>          PycharmProjects\n",
      "06-02-2024  23:43           584,772 Review scrapper  (1).ipynb\n",
      "25-10-2023  21:53    <DIR>          Saved Games\n",
      "25-10-2023  22:04    <DIR>          Searches\n",
      "07-02-2024  03:52    <DIR>          Untitled Folder\n",
      "31-10-2023  08:32    <DIR>          Videos\n",
      "              14 File(s)     15,054,877 bytes\n",
      "              26 Dir(s)  231,729,250,304 bytes free\n"
     ]
    }
   ],
   "source": [
    "ls"
   ]
  },
  {
   "cell_type": "code",
   "execution_count": 11,
   "id": "130b1c19",
   "metadata": {},
   "outputs": [],
   "source": [
    "# Code No :- 21 :-\n",
    "\n",
    "# Here, I can \"Pass\" one more argument called as \"W\".\n",
    "\n",
    "# This time there is no such \"Error\".\n",
    "\n",
    "# \"Error\" has gone. \n",
    "\n",
    "# [\"Vijay1.txt\",\"w\"]\n",
    "\n",
    "# Which I have given, once we execute it. As a outcome, lets check whether \"Vijay.text\" is available or not.\n",
    "\n",
    "# Yes \"Vijay1.text\" is available and it has created a file. Today is date 26-02-2024  Time is - 23:06 or 1:06 am.\n",
    "\n",
    "# It has created a file called [\"Vijay1.text\"] \n",
    "\n",
    "# vijay1.text - Create a file called as 0 Vijat1.text with a \"0\" zero byte.\n",
    "\n",
    "# Because, I am not trying to store or hold any kind of data. But, yes It has created a new file for me.\n",
    "\n",
    "# Whenever, we try to call these open statement. We are suppose to give a file name. Example - (\"vijay1.text\") + we are\n",
    "# Suppose to give a mode (\"w\") something call as mode. In which we would like to work.\n",
    "\n",
    "# IF, I have to perform some short of a Write operation. In that case we can try to use \"w\".\n",
    "\n",
    "# If I have to perform a just a read operation of the file, so that case. I can give instead of \"w\", I can give a \"r\"\n",
    "# over here.\n",
    "\n",
    "# \"r\" is nothing, but its a scenomenon or a abbreviation of \"reading\".\n",
    "\n",
    "# \"W\" is nothing, but for a writing purpose. There is something called as [R+ W+ WB+ a+ rb] its a nothing but mode'\n",
    "#file operation.\n",
    "\n",
    "# So, what kind of a mode, I would like adopt to perform a particular operation that, I am suppose to put up. Incase\n",
    "# I do these kind of file operation.\n",
    "\n",
    "# As of now, I have given that ok, I would like to open up a file, but I would like to perform a right operation.\n",
    "\n",
    "# That is the, I have given \"W\".\n",
    "\n",
    "# If, I am going to give \"W+\" , so in that case, it will try to perform both righting and a reading operation.\n",
    "\n",
    "# Let's Suppose, \n",
    "# I will give mode = \"r\". So, in that case, it will perform only a reading operation.\n",
    "\n",
    "# (\"Vijay1.txt\", \"r\") &\n",
    "# (\"vijay1.text,\" \"r+\")\n",
    "\n",
    "# If I am going to give [r+] it will try to open up file to reading and writing both.\n",
    "\n",
    "# f = open(\"Vijay1.txt\",\"w\") - at the end scoll down of these outcome see we will find this outcome.\n",
    "\n",
    "# 26-02-2024  23:06                 0 Vijay1.txt\n",
    "\n",
    "# Here, I have just open up a file, we see the outcome here prove of it.\n",
    "\n",
    "# I can see the file [0 vijay1.txt] file which is able to open up.\n",
    "\n",
    "# Its a open up operation, we have done [\"W\"].\n",
    "\n",
    "# Next step is write operation.\n"
   ]
  },
  {
   "cell_type": "code",
   "execution_count": 5,
   "id": "04790655",
   "metadata": {},
   "outputs": [],
   "source": [
    "f = open(\"Vijay1.txt\",\"w\")"
   ]
  },
  {
   "cell_type": "code",
   "execution_count": 6,
   "id": "c93da0d3",
   "metadata": {},
   "outputs": [
    {
     "name": "stdout",
     "output_type": "stream",
     "text": [
      " Volume in drive C is OS\n",
      " Volume Serial Number is 4A96-B0E8\n",
      "\n",
      " Directory of C:\\Users\\DELL\n",
      "\n",
      "26-02-2024  23:06    <DIR>          .\n",
      "25-10-2023  22:04    <DIR>          ..\n",
      "27-10-2023  02:15    <DIR>          .anaconda\n",
      "07-02-2024  03:40    <DIR>          .astropy\n",
      "26-02-2024  23:05    <DIR>          .conda\n",
      "27-10-2023  02:15                25 .condarc\n",
      "27-10-2023  02:15    <DIR>          .continuum\n",
      "20-02-2024  07:05    <DIR>          .ipynb_checkpoints\n",
      "30-10-2023  22:26    <DIR>          .ipython\n",
      "07-02-2024  02:27    <DIR>          .jupyter\n",
      "07-02-2024  03:42    <DIR>          .matplotlib\n",
      "29-10-2023  00:48    <DIR>          .ms-ad\n",
      "21-01-2024  00:14    <DIR>          .VirtualBox\n",
      "30-10-2023  22:35    <DIR>          anaconda3\n",
      "15-01-2024  01:01    <DIR>          ansel\n",
      "21-01-2024  10:49           211,388 ChatGPT Prompt Engineering for Developers.ipynb\n",
      "25-10-2023  21:53    <DIR>          Contacts\n",
      "07-11-2023  05:31    <DIR>          Documents\n",
      "25-02-2024  23:33    <DIR>          Downloads\n",
      "25-10-2023  21:53    <DIR>          Favorites\n",
      "25-10-2023  21:53    <DIR>          Links\n",
      "25-10-2023  21:53    <DIR>          Music\n",
      "30-10-2023  22:27            93,010 My  3rd Class - 21-MAY-22 ( LIST, TUPLES, DICTIONARY, SET ).ipynb\n",
      "26-02-2024  23:05            75,312 My 10th Class - 18th - JUNE - Python - ( Iterator, Generator, Map, Reduce, Filter and Basic of File Operation ) .ipynb\n",
      "30-10-2023  22:26            15,956 My 1st Class - 14-MAY-22 ( Variable Basics ) (1).ipynb\n",
      "30-10-2023  22:27            71,933 My 2nd Class - 15th-May-2022 ( String Basic ).ipynb\n",
      "30-10-2023  22:27            35,245 My 4th Class - MAY-22  Conditional Statement ( IF, ELIF & ELSE ) .ipynb\n",
      "30-10-2023  22:28            45,672 My 5th Class - MAY-28  Python - ( FOR LOOP ) !.ipynb\n",
      "30-10-2023  23:40            14,398 My 6th Class - MAY-29 Python - ( WHILE LOOP & FUNCTION BASIC ) !.ipynb\n",
      "30-12-2023  22:03            49,423 My 7th Class - MAY-29 Python - ( WHILE LOOP ( 2nd part ) & FUNCTION ) !.ipynb\n",
      "17-01-2024  08:04            74,822 My 8th Class - 5th - JUNE - Python - ( FUNCTION ) !.ipynb\n",
      "17-02-2024  02:48           105,121 My 9th Class - 12th - JUNE - Python - ( Exception Handling Codes ) .ipynb\n",
      "31-01-2024  22:01    <DIR>          OneDrive\n",
      "17-02-2024  11:53        13,677,800 picasa-3-9-141-259.exe\n",
      "17-12-2023  10:26    <DIR>          PycharmProjects\n",
      "06-02-2024  23:43           584,772 Review scrapper  (1).ipynb\n",
      "25-10-2023  21:53    <DIR>          Saved Games\n",
      "25-10-2023  22:04    <DIR>          Searches\n",
      "07-02-2024  03:52    <DIR>          Untitled Folder\n",
      "31-10-2023  08:32    <DIR>          Videos\n",
      "26-02-2024  23:06                 0 Vijay1.txt\n",
      "              15 File(s)     15,054,877 bytes\n",
      "              26 Dir(s)  231,731,679,232 bytes free\n"
     ]
    }
   ],
   "source": [
    "ls"
   ]
  },
  {
   "cell_type": "code",
   "execution_count": null,
   "id": "098129c7",
   "metadata": {},
   "outputs": [],
   "source": [
    "# Code No :- 22 :-\n",
    "\n",
    "# Here, I will call \"F\" is nothing but its a file variable which we have created. All of these operation, I will be able\n",
    "# to perform, with respect to this variable \"f\".\n",
    "\n",
    "# f.write( ) and then I have written (\"this is my very first file operation\") If  I will execute it.\n",
    "\n",
    "# f.close()\n",
    "\n",
    "# If, I will called f.close() whatever file, I have initiated, I am just try to close it. So, whatever file, I have \n",
    "# initiated \"write\" file initiated, I just like to claose it.\n",
    "\n",
    "# Now I have to check, whether it has written something or not, whether it has craeted a kind of file or not.\n",
    "\n",
    "# Whether it has written something inside my file or not. Yes, I will be able to check.\n",
    "\n",
    "# \"Ls\"\n",
    "\n",
    "# If I am going to perform \"LS\" operation. Now file size must have change previously it was \"0\" byte now there is \n",
    "# something which I am trying to store.\n",
    "\n",
    "# 36 byte of informationm, I am trying to store inside these file [36 Vijay.txt ] - (TO see this scoll down below at last)\n",
    "\n",
    "# I can even go and cross verify, where these file will going to store.\n",
    "\n",
    "# \"LS\" \n",
    "\n",
    "#  Directory of C:\\Users\\DELL\\window 10 \n",
    "\n",
    "# May be we call \"LS\" in these local computer Drive \"C\" my this file is store in Laptop Drive \"C\" folder open it.\n",
    "\n",
    "# Copy these below and paste it\n",
    "# c:\\\\users..................... module.\n",
    "\n",
    "# \"C\" drive Top search down below, we can find the \"Vijay1\" folder or file has been crated. If I am going to double\n",
    "\n",
    "# Click that file \"vijay1\".\n",
    "\n",
    "# Yes, I am able to open that file or message ( This is my very first file operation ).\n",
    "\n",
    "# We can see that, System has written same information inside a \"file\".\n",
    "\n",
    "# Understanding :-\n",
    "\n",
    "# My basic idea was to create one file, I have craeted one file then I was trying to write something. So Yes I am able\n",
    "# to write something inside that particular file.\n",
    "\n",
    "# Then I would like to close it, Yes I was able to close it."
   ]
  },
  {
   "cell_type": "code",
   "execution_count": 7,
   "id": "8a68d4f2",
   "metadata": {},
   "outputs": [
    {
     "data": {
      "text/plain": [
       "36"
      ]
     },
     "execution_count": 7,
     "metadata": {},
     "output_type": "execute_result"
    }
   ],
   "source": [
    "f.write(\"this is my very first file operation\")"
   ]
  },
  {
   "cell_type": "code",
   "execution_count": 8,
   "id": "795c16e7",
   "metadata": {},
   "outputs": [],
   "source": [
    "f.close()"
   ]
  },
  {
   "cell_type": "code",
   "execution_count": 9,
   "id": "347b0259",
   "metadata": {},
   "outputs": [
    {
     "name": "stdout",
     "output_type": "stream",
     "text": [
      " Volume in drive C is OS\n",
      " Volume Serial Number is 4A96-B0E8\n",
      "\n",
      " Directory of C:\\Users\\DELL\n",
      "\n",
      "26-02-2024  23:06    <DIR>          .\n",
      "25-10-2023  22:04    <DIR>          ..\n",
      "27-10-2023  02:15    <DIR>          .anaconda\n",
      "07-02-2024  03:40    <DIR>          .astropy\n",
      "26-02-2024  23:06    <DIR>          .conda\n",
      "27-10-2023  02:15                25 .condarc\n",
      "27-10-2023  02:15    <DIR>          .continuum\n",
      "20-02-2024  07:05    <DIR>          .ipynb_checkpoints\n",
      "30-10-2023  22:26    <DIR>          .ipython\n",
      "07-02-2024  02:27    <DIR>          .jupyter\n",
      "07-02-2024  03:42    <DIR>          .matplotlib\n",
      "29-10-2023  00:48    <DIR>          .ms-ad\n",
      "21-01-2024  00:14    <DIR>          .VirtualBox\n",
      "30-10-2023  22:35    <DIR>          anaconda3\n",
      "15-01-2024  01:01    <DIR>          ansel\n",
      "21-01-2024  10:49           211,388 ChatGPT Prompt Engineering for Developers.ipynb\n",
      "25-10-2023  21:53    <DIR>          Contacts\n",
      "07-11-2023  05:31    <DIR>          Documents\n",
      "25-02-2024  23:33    <DIR>          Downloads\n",
      "25-10-2023  21:53    <DIR>          Favorites\n",
      "25-10-2023  21:53    <DIR>          Links\n",
      "25-10-2023  21:53    <DIR>          Music\n",
      "30-10-2023  22:27            93,010 My  3rd Class - 21-MAY-22 ( LIST, TUPLES, DICTIONARY, SET ).ipynb\n",
      "26-02-2024  23:05            75,312 My 10th Class - 18th - JUNE - Python - ( Iterator, Generator, Map, Reduce, Filter and Basic of File Operation ) .ipynb\n",
      "30-10-2023  22:26            15,956 My 1st Class - 14-MAY-22 ( Variable Basics ) (1).ipynb\n",
      "30-10-2023  22:27            71,933 My 2nd Class - 15th-May-2022 ( String Basic ).ipynb\n",
      "30-10-2023  22:27            35,245 My 4th Class - MAY-22  Conditional Statement ( IF, ELIF & ELSE ) .ipynb\n",
      "30-10-2023  22:28            45,672 My 5th Class - MAY-28  Python - ( FOR LOOP ) !.ipynb\n",
      "30-10-2023  23:40            14,398 My 6th Class - MAY-29 Python - ( WHILE LOOP & FUNCTION BASIC ) !.ipynb\n",
      "30-12-2023  22:03            49,423 My 7th Class - MAY-29 Python - ( WHILE LOOP ( 2nd part ) & FUNCTION ) !.ipynb\n",
      "17-01-2024  08:04            74,822 My 8th Class - 5th - JUNE - Python - ( FUNCTION ) !.ipynb\n",
      "17-02-2024  02:48           105,121 My 9th Class - 12th - JUNE - Python - ( Exception Handling Codes ) .ipynb\n",
      "31-01-2024  22:01    <DIR>          OneDrive\n",
      "17-02-2024  11:53        13,677,800 picasa-3-9-141-259.exe\n",
      "17-12-2023  10:26    <DIR>          PycharmProjects\n",
      "06-02-2024  23:43           584,772 Review scrapper  (1).ipynb\n",
      "25-10-2023  21:53    <DIR>          Saved Games\n",
      "25-10-2023  22:04    <DIR>          Searches\n",
      "07-02-2024  03:52    <DIR>          Untitled Folder\n",
      "31-10-2023  08:32    <DIR>          Videos\n",
      "26-02-2024  23:07                36 Vijay1.txt\n",
      "              15 File(s)     15,054,913 bytes\n",
      "              26 Dir(s)  231,720,071,168 bytes free\n"
     ]
    }
   ],
   "source": [
    "ls"
   ]
  },
  {
   "cell_type": "code",
   "execution_count": 10,
   "id": "cb7b34f6",
   "metadata": {},
   "outputs": [
    {
     "name": "stdout",
     "output_type": "stream",
     "text": [
      " Volume in drive C is OS\n",
      " Volume Serial Number is 4A96-B0E8\n",
      "\n",
      " Directory of C:\\Users\\DELL\n",
      "\n",
      "26-02-2024  23:06    <DIR>          .\n",
      "25-10-2023  22:04    <DIR>          ..\n",
      "27-10-2023  02:15    <DIR>          .anaconda\n",
      "07-02-2024  03:40    <DIR>          .astropy\n",
      "26-02-2024  23:06    <DIR>          .conda\n",
      "27-10-2023  02:15                25 .condarc\n",
      "27-10-2023  02:15    <DIR>          .continuum\n",
      "20-02-2024  07:05    <DIR>          .ipynb_checkpoints\n",
      "30-10-2023  22:26    <DIR>          .ipython\n",
      "07-02-2024  02:27    <DIR>          .jupyter\n",
      "07-02-2024  03:42    <DIR>          .matplotlib\n",
      "29-10-2023  00:48    <DIR>          .ms-ad\n",
      "21-01-2024  00:14    <DIR>          .VirtualBox\n",
      "30-10-2023  22:35    <DIR>          anaconda3\n",
      "15-01-2024  01:01    <DIR>          ansel\n",
      "21-01-2024  10:49           211,388 ChatGPT Prompt Engineering for Developers.ipynb\n",
      "25-10-2023  21:53    <DIR>          Contacts\n",
      "07-11-2023  05:31    <DIR>          Documents\n",
      "25-02-2024  23:33    <DIR>          Downloads\n",
      "25-10-2023  21:53    <DIR>          Favorites\n",
      "25-10-2023  21:53    <DIR>          Links\n",
      "25-10-2023  21:53    <DIR>          Music\n",
      "30-10-2023  22:27            93,010 My  3rd Class - 21-MAY-22 ( LIST, TUPLES, DICTIONARY, SET ).ipynb\n",
      "26-02-2024  23:05            75,312 My 10th Class - 18th - JUNE - Python - ( Iterator, Generator, Map, Reduce, Filter and Basic of File Operation ) .ipynb\n",
      "30-10-2023  22:26            15,956 My 1st Class - 14-MAY-22 ( Variable Basics ) (1).ipynb\n",
      "30-10-2023  22:27            71,933 My 2nd Class - 15th-May-2022 ( String Basic ).ipynb\n",
      "30-10-2023  22:27            35,245 My 4th Class - MAY-22  Conditional Statement ( IF, ELIF & ELSE ) .ipynb\n",
      "30-10-2023  22:28            45,672 My 5th Class - MAY-28  Python - ( FOR LOOP ) !.ipynb\n",
      "30-10-2023  23:40            14,398 My 6th Class - MAY-29 Python - ( WHILE LOOP & FUNCTION BASIC ) !.ipynb\n",
      "30-12-2023  22:03            49,423 My 7th Class - MAY-29 Python - ( WHILE LOOP ( 2nd part ) & FUNCTION ) !.ipynb\n",
      "17-01-2024  08:04            74,822 My 8th Class - 5th - JUNE - Python - ( FUNCTION ) !.ipynb\n",
      "17-02-2024  02:48           105,121 My 9th Class - 12th - JUNE - Python - ( Exception Handling Codes ) .ipynb\n",
      "31-01-2024  22:01    <DIR>          OneDrive\n",
      "17-02-2024  11:53        13,677,800 picasa-3-9-141-259.exe\n",
      "17-12-2023  10:26    <DIR>          PycharmProjects\n",
      "06-02-2024  23:43           584,772 Review scrapper  (1).ipynb\n",
      "25-10-2023  21:53    <DIR>          Saved Games\n",
      "25-10-2023  22:04    <DIR>          Searches\n",
      "07-02-2024  03:52    <DIR>          Untitled Folder\n",
      "31-10-2023  08:32    <DIR>          Videos\n",
      "26-02-2024  23:07                36 Vijay1.txt\n",
      "              15 File(s)     15,054,913 bytes\n",
      "              26 Dir(s)  231,720,079,360 bytes free\n"
     ]
    }
   ],
   "source": [
    "ls"
   ]
  },
  {
   "cell_type": "code",
   "execution_count": 12,
   "id": "f68f3724",
   "metadata": {},
   "outputs": [],
   "source": [
    "# Code No :- 23 :-\n",
    "\n",
    "# F1 = open(\"test1.txt\",\"w\") \n",
    "\n",
    "# F1.write(\"these is a file operation I am trying to do in my Fsds Class\")\n",
    "\n",
    "# As a outcome is 60.\n",
    "\n",
    "# SO, here I can create a variable \"f1\" = try to use a command or function inbuild function called as \"open\" .\n",
    "\n",
    "# This time, I would like to create test1.txt and I would like to write something so \"W\".\n",
    "\n",
    "# F1.write(\"these is a file operation I am trying to do in my Fsds Class\")\n",
    "# if we execute it as a outcome we got = 60\n",
    "\n",
    "# Now, 60 came, if we count from this upto class. - 60 words.\n",
    "\n",
    "# F1.close()\n",
    "\n",
    "# After Execute it and write F1.Close() execute it.\n",
    "\n",
    "# Now, same go to the \"C\" drive computer check same location that earlier file has created.\n",
    "\n",
    "# Yes, we are able to the file [Test1] has been craeted and if we open this file we are able to see the message that I \n",
    "# have write over here.\n",
    "\n",
    "# (\"these is a file operation I am trying to do in my Fsds Class\")\n",
    "\n",
    "# Physically, it is trying to create a file inside our system and we are able to hold some informationm we are able to \n",
    "# hold some short of a data inside that particular file.\n",
    "\n",
    "# For example :-\n",
    "\n",
    "# L = [1,2,3,4,6,5,6,7,67,6]\n",
    "\n",
    "# So, try to do one thing, there is a \"List\" and these \"List\" element is having these kind of information.\n",
    "\n",
    "# L = [1,2,3,4,6,5,6,7,67,6]\n",
    "\n",
    "# So, try to store these kind of data entire information into a file, permentely.\n",
    "\n",
    "# whatever \"List\" information [1,2,3,4,6,5,6,7,67,6], I have as of now, so it is not a permanent storage or it is not\n",
    "# Storing these \"List\" internally anywhere.\n",
    "\n",
    "# This is a part of main memory, which is \"RAM\".\n",
    "\n",
    "# So, once we will close these entire Jupyter notebook, these entire information will be gone.\n",
    "\n",
    "# When we open up next time, we have to reinitilized or reexecute the entire information.\n"
   ]
  },
  {
   "cell_type": "code",
   "execution_count": 1,
   "id": "252393f4",
   "metadata": {},
   "outputs": [],
   "source": [
    "f1 = open(\"test1.txt\",\"w\")"
   ]
  },
  {
   "cell_type": "code",
   "execution_count": 2,
   "id": "77a3ab74",
   "metadata": {},
   "outputs": [
    {
     "data": {
      "text/plain": [
       "60"
      ]
     },
     "execution_count": 2,
     "metadata": {},
     "output_type": "execute_result"
    }
   ],
   "source": [
    "f1.write(\"these is a file operation I am trying to do in my Fsds Class\")"
   ]
  },
  {
   "cell_type": "code",
   "execution_count": 3,
   "id": "147055db",
   "metadata": {},
   "outputs": [],
   "source": [
    "f1.close()"
   ]
  },
  {
   "cell_type": "code",
   "execution_count": 4,
   "id": "13d7f493",
   "metadata": {},
   "outputs": [],
   "source": [
    "l = [1,2,3,4,6,5,6,7,67,6]"
   ]
  },
  {
   "cell_type": "code",
   "execution_count": 5,
   "id": "5802da10",
   "metadata": {},
   "outputs": [],
   "source": [
    "# Code No :- 24 :-\n",
    "\n",
    "# But my question is to store these entire information somewhere. If I have to store entire information somewhere.\n",
    "\n",
    "# How we will able to do that.\n",
    "\n",
    "# Lets understand :-\n",
    "\n",
    "# So, I can try to create a file variable \"f2\" and open and maybe (\"Test2.txt\"). I can try to create and I can try to \n",
    "# open a file \"W\".\n",
    "\n",
    "# Then, \n",
    "\n",
    "# f2.write(L) f2.write try to call and may be store \"List\"(l).\n",
    "\n",
    "# When we execute it. we got an Issue Error.\n",
    "\n",
    "# TypeError: write() argument must be str, not list\n",
    "\n",
    "# What we suppose to do here is, we have to convert these entire \"List\" element into a string element.\n",
    "\n",
    "# f2.write(\"l\") or f2.write(str(l)) \n",
    "\n",
    "# Outcome is - 31.\n",
    "\n",
    "# Once execute it & now If we go and check these file into \"C\" drive in my Laptop.\n",
    "\n",
    "# Test2.txt\n",
    "    \n",
    "# If we double click and open it this folder [test2] we can see message pop up nothing.\n",
    "\n",
    "# Why  I can't see any message inside this folder [Test2].\n",
    "\n",
    "# Because, we have not close a file that we have opened up.Because of that may be it is not showing any message or data\n",
    "# inside a folder.\n",
    "\n",
    "# f2.close()\n",
    "\n",
    "# If we write [ \"f2.close()\" ] I can try to call over here.\n",
    "\n",
    "# So, whatever operation, that I have started so, I am suppose to close it. Now, once that execute it, If go back and\n",
    "# check it \"C\" drive folder.\n",
    "\n",
    "# We can see the message pop up when we [test2.txt] click this folder we can see [1,2,3,4,5,6,7,67,6] these message pop up.\n",
    "\n",
    "# Now, we are able to see the \"List\" "
   ]
  },
  {
   "cell_type": "code",
   "execution_count": 6,
   "id": "407bc22b",
   "metadata": {},
   "outputs": [],
   "source": [
    "f2 = open(\"test2.txt\",\"w\")"
   ]
  },
  {
   "cell_type": "code",
   "execution_count": 7,
   "id": "45e1404d",
   "metadata": {},
   "outputs": [
    {
     "ename": "TypeError",
     "evalue": "write() argument must be str, not list",
     "output_type": "error",
     "traceback": [
      "\u001b[1;31m---------------------------------------------------------------------------\u001b[0m",
      "\u001b[1;31mTypeError\u001b[0m                                 Traceback (most recent call last)",
      "Cell \u001b[1;32mIn[7], line 1\u001b[0m\n\u001b[1;32m----> 1\u001b[0m f2\u001b[38;5;241m.\u001b[39mwrite(l)\n",
      "\u001b[1;31mTypeError\u001b[0m: write() argument must be str, not list"
     ]
    }
   ],
   "source": [
    "f2.write(l)"
   ]
  },
  {
   "cell_type": "code",
   "execution_count": null,
   "id": "8306c5a0",
   "metadata": {},
   "outputs": [],
   "source": [
    "# or we can write  - f2.write(\"l\")\n",
    "\n",
    "f2.write(str(l))             "
   ]
  },
  {
   "cell_type": "code",
   "execution_count": 8,
   "id": "a97480ed",
   "metadata": {},
   "outputs": [],
   "source": [
    "f2.close()"
   ]
  },
  {
   "cell_type": "code",
   "execution_count": 9,
   "id": "1fddd495",
   "metadata": {},
   "outputs": [],
   "source": [
    "# Code No :- 25 :-\n",
    "\n",
    "                                  # For understanding :-\n",
    "\n",
    "    \n",
    "# The advantage we are getting is that, when something is available inside my Jupyternote book.\n",
    "\n",
    "#So, it will be available by time we are not going to close a Jupyter Notebook.By time if we close it everything will \n",
    "# be gone and again from next time we are suppose ot reexecute entire information only the dataset will be available.\n",
    "\n",
    "# But if I am going to store something in a file that will be available even after closing these Jupyter notebook.\n",
    "\n",
    "# I will be able to see a data. whenever we try to process someshort of a process, we always try to refer to save a result\n",
    "# or store result somewhere.\n",
    "\n",
    "# So, that tomorrow in later if somebody asked you, can you give me that result that we have practise earlier.\n",
    "\n",
    "# Again, we have to open Jupyter notebook and again type these and execute it.\n",
    "\n",
    "# Instead of that, if we do these way then, later stage if somebody asked what we have practise in prvious class. Please\n",
    "# provide me that pop up messages.\n",
    "\n",
    "# So, I can directly go to the \"C\" drive folder and If we close those folder that I have craeted earlier, that time\n",
    "\n",
    "# I will be able to open it or see it in drive where we have save it earlier.\n",
    "\n",
    "# File operation always consider as a string(str)."
   ]
  },
  {
   "cell_type": "code",
   "execution_count": 10,
   "id": "3ba730ff",
   "metadata": {},
   "outputs": [],
   "source": [
    "# Code No :- 26 :-\n",
    "\n",
    "# Let's understand :-\n",
    "\n",
    "# Let's see,\n",
    "\n",
    "# I would like to perform something these way.\n",
    "\n",
    "# If we execute it.\n",
    "\n",
    "# Now, go to \"C\" drive and check it Yes we are able to see \"Test.Vijay\" and what is file format \"Vijayfile\" format.\n",
    "\n",
    "# If we open this file, Yes we are able to see the data or message inside a this folder.\n",
    "\n",
    "# Yes, it is able to perform a read operation, whatever data I have I am able to use it.\n",
    "\n",
    "# %%writefile test5.txt\n",
    "# this is my python program to write into a file in differnt way\n",
    "\n",
    "# writing test5.txt\n",
    "\n",
    "# Now same thing that we are trying to perform with respect to these open operation of a file.\n",
    "# So, I can try to perform these same operation even by using a different kind of a \"Syntax\".\n",
    "\n",
    "# Now, if we execute it. Now go to the \"C\" drive folder in PC. Now, we are able to find the data if we open that\n",
    "# file I have created.\n",
    "\n",
    "# So, here we are trying to do a 2 ways :-\n",
    "\n",
    "# same operation.\n",
    "\n",
    "# f3 = open(\"test.vijay\",\"w\")\n",
    "\n",
    "# %%writefile test5.txt\n",
    "\n",
    "# %%writefile test5.txt\n",
    "# this is my python program to write into a file in differnt way\n",
    "# overwriting test5.txt\n",
    "\n",
    "# If we are 10 times also & if we execute it. As a outcome we can see over \"C\" drive inside folder, the message is 5 or 10\n",
    "# as we want to see these paragram, we are able to write or do it.\n",
    "\n",
    "# These is not only way, sir will going to teach us in \"Pandas\" classes about it more detail.How to perform read and write\n",
    "# operation with respect to Excel sheet, CSV file & document & PDF file and etc.....\n",
    "\n",
    "# Any file format we can perform inside a \"Python\".\n"
   ]
  },
  {
   "cell_type": "code",
   "execution_count": 11,
   "id": "d70efc4d",
   "metadata": {},
   "outputs": [],
   "source": [
    "f3 = open(\"test.vijay\",\"w\")"
   ]
  },
  {
   "cell_type": "code",
   "execution_count": 12,
   "id": "cdd1e6f9",
   "metadata": {},
   "outputs": [
    {
     "data": {
      "text/plain": [
       "16"
      ]
     },
     "execution_count": 12,
     "metadata": {},
     "output_type": "execute_result"
    }
   ],
   "source": [
    "f3.write(\"My name is vijay\")"
   ]
  },
  {
   "cell_type": "code",
   "execution_count": 13,
   "id": "c7e23063",
   "metadata": {},
   "outputs": [],
   "source": [
    "f3.close()"
   ]
  },
  {
   "cell_type": "code",
   "execution_count": 14,
   "id": "e301c41f",
   "metadata": {},
   "outputs": [
    {
     "name": "stdout",
     "output_type": "stream",
     "text": [
      "Writing test5.txt\n"
     ]
    }
   ],
   "source": [
    "%%writefile test5.txt\n",
    "\n",
    "this is my python program to write into a file in differnt way"
   ]
  },
  {
   "cell_type": "code",
   "execution_count": 15,
   "id": "c1ba41fa",
   "metadata": {},
   "outputs": [
    {
     "ename": "SyntaxError",
     "evalue": "invalid syntax (2505772230.py, line 1)",
     "output_type": "error",
     "traceback": [
      "\u001b[1;36m  Cell \u001b[1;32mIn[15], line 1\u001b[1;36m\u001b[0m\n\u001b[1;33m    overwriting test5.txt\u001b[0m\n\u001b[1;37m                ^\u001b[0m\n\u001b[1;31mSyntaxError\u001b[0m\u001b[1;31m:\u001b[0m invalid syntax\n"
     ]
    }
   ],
   "source": [
    "overwriting test5.txt"
   ]
  },
  {
   "cell_type": "code",
   "execution_count": 16,
   "id": "0349427b",
   "metadata": {},
   "outputs": [],
   "source": [
    "# Code No :- 27 :-\n",
    " \n",
    "# Let's understand :-\n",
    "\n",
    "# I have create these [test5.txt]  now I just like to perform only read operation, I would like to know what is there\n",
    "# inside these file. I would like to perform \"read\" operation through a \"Python\".\n",
    "\n",
    "# One way is once we create and excute it then go to \"C\" drive folder & check or see pop up message inside.\n",
    "# Another way is like, I would like to perform these operation through a Python itself. I would like to perform a\n",
    "# read operation.\n",
    "\n",
    "# As a outcome we can see over here not inside a \"C\" drive.\n",
    "# We are able to see the message here. We can see (/) slash symbol (\\n)\n",
    "\n",
    "#f = open(\"test5.txt\")  - if we run this code as a outcome we can see\n",
    "#f.read()\n",
    "\n",
    "#  Outcome -\n",
    "# '\\nthis is my python program to write into a file in differnt way\\n'\n",
    "\n",
    "# f.read() \n",
    "\n",
    "# Now again I am going to call these \"read operation\".\n",
    "# if we execute it, we are not able to get any data its a blank. So, I have just reexecuted th same \"Read operation\" and\n",
    "# its giving me \"Blank\" (\" \")\n",
    "\n",
    "# The region is that, I was trying to open up a file, that was completely fine. I was able to do it. f=open(\"test5.txt\")\n",
    "# I am trying to do \"read operation\" (f.read) Yes, I am able to do that. I can read the entire dataset.\n",
    "\n",
    "# '\\nthis is my python program to write into a file in differnt way\\n' \n",
    "\n",
    "# When I am able to read the entire dataset, So how file always try to perform these raed operation.\n",
    "\n",
    "# It will go to one by one at location. It is trying to store all the information in a string format, we know that string\n",
    "# always try to behave like a it will always store each and every character as a indexes.\n",
    "\n",
    "# So, it will start from a index \"O\" then it will come till index \"last\". whatever index number that we have. \n",
    "\n",
    "# Now point is available at Last(\\n) my file pointer index are available as of now over here.\n",
    "\n",
    "# '\\nthis is my python program to write into a file in differnt way\\n'\n",
    "\n",
    "# f.read()\n",
    "# ()   - outcome\n",
    "\n",
    "# So, if same file object if we are going to perform a \"Read\" operation. After these pointer(\\n) last there is no \n",
    "# dataset, it exhausted over there. Because of that my outcome is \"Blank\" when we try to call \"read\" operation/."
   ]
  },
  {
   "cell_type": "code",
   "execution_count": 15,
   "id": "790dd126",
   "metadata": {},
   "outputs": [],
   "source": [
    "f = open(\"test5.txt\")"
   ]
  },
  {
   "cell_type": "code",
   "execution_count": 16,
   "id": "7df5aa1e",
   "metadata": {},
   "outputs": [
    {
     "data": {
      "text/plain": [
       "'\\nthis is my python program to write into a file in differnt way\\n'"
      ]
     },
     "execution_count": 16,
     "metadata": {},
     "output_type": "execute_result"
    }
   ],
   "source": [
    "f.read()"
   ]
  },
  {
   "cell_type": "code",
   "execution_count": 17,
   "id": "b86f0e73",
   "metadata": {},
   "outputs": [
    {
     "data": {
      "text/plain": [
       "''"
      ]
     },
     "execution_count": 17,
     "metadata": {},
     "output_type": "execute_result"
    }
   ],
   "source": [
    "f.read()"
   ]
  },
  {
   "cell_type": "code",
   "execution_count": 18,
   "id": "d2d7f00d",
   "metadata": {},
   "outputs": [],
   "source": [
    "# Code No :- 28 :-\n",
    " \n",
    "# Let's understand :-\n",
    "\n",
    "# But my condition is,I would like to raed these data again from here like from \"middle\" to \"Last\" earlier \"0\" to \n",
    "# \"last\" data we want see, So after calling read operation. it a blank.\n",
    "\n",
    "# But now, If I am trying to call from \"mid\" to last.\n",
    "\n",
    "# f.seek(0)   - outcome is ()  blank\n",
    "\n",
    "# So, there is something call as \"Seek Function\".\n",
    "\n",
    "# Seek means I Can try to give a index and then it will try to reset, the pointer for that particular index.\n",
    "# If i am going to tell seek(0) it means my now my cursor will be available at \"0\" index.\n",
    "\n",
    "# Here (t) is 0 starting - (this is my python program to write into a file in differnt way\\n)  - (\\n) is last index.\n",
    "\n",
    "# If we execute now as a outcome \"0\" my curse is at Zero(0) indexes. \n",
    "\n",
    "# f.read()\n",
    "# (this is my python program to write into a file in differnt way\\n)\n",
    "\n",
    "# Now, If I am going to perform these read operation, I am able to get the outcome or data.\n",
    "\n",
    "# f.read()  - outcome is - ()\n",
    "\n",
    "# f.seek(0) - outcome is - 0\n",
    "\n",
    "# Again now, if I am going to call read operation I am not able to get the data because, again my pointer is avaiable \n",
    "# at very \"Last\" Location.\n",
    "\n",
    "# Seek is basically responsible for setting up a pointer in a particular indexes, particular indexes it is going to\n",
    "# set the cursor or it is going to set the cursor or it is going to set up pointer for all of us.\n",
    "\n",
    "# "
   ]
  },
  {
   "cell_type": "code",
   "execution_count": 19,
   "id": "2124ab6a",
   "metadata": {},
   "outputs": [
    {
     "data": {
      "text/plain": [
       "0"
      ]
     },
     "execution_count": 19,
     "metadata": {},
     "output_type": "execute_result"
    }
   ],
   "source": [
    "f.seek(0)"
   ]
  },
  {
   "cell_type": "code",
   "execution_count": 20,
   "id": "9d670c37",
   "metadata": {},
   "outputs": [
    {
     "data": {
      "text/plain": [
       "'\\nthis is my python program to write into a file in differnt way\\n'"
      ]
     },
     "execution_count": 20,
     "metadata": {},
     "output_type": "execute_result"
    }
   ],
   "source": [
    "f.read()"
   ]
  },
  {
   "cell_type": "code",
   "execution_count": 21,
   "id": "36446791",
   "metadata": {},
   "outputs": [],
   "source": [
    "# Code No :- 29 :-\n",
    " \n",
    "# Let's understand :-\n",
    "\n",
    "# f.read() - outcome is - ()  blank\n",
    "# f.seek(0) - outcome is - \"0\"\n",
    "\n",
    "# Again now, If I am going to call \"read operation\" I am not able to get the data because, again my pointer is \n",
    "# available at very \"Last\" location.\n",
    "\n",
    "# Seek is basically responsible for setting up a pointer in a particular indexes, particular indexes it is going to set\n",
    "# the cursor or it is going to set the cursor or it is going to set up pointer for all of us.\n"
   ]
  },
  {
   "cell_type": "code",
   "execution_count": 22,
   "id": "4712d9cf",
   "metadata": {},
   "outputs": [
    {
     "data": {
      "text/plain": [
       "''"
      ]
     },
     "execution_count": 22,
     "metadata": {},
     "output_type": "execute_result"
    }
   ],
   "source": [
    "f.read()"
   ]
  },
  {
   "cell_type": "code",
   "execution_count": 23,
   "id": "60d0f96a",
   "metadata": {},
   "outputs": [
    {
     "data": {
      "text/plain": [
       "0"
      ]
     },
     "execution_count": 23,
     "metadata": {},
     "output_type": "execute_result"
    }
   ],
   "source": [
    "f.seek(0)"
   ]
  },
  {
   "cell_type": "code",
   "execution_count": 24,
   "id": "b3346d6a",
   "metadata": {},
   "outputs": [
    {
     "data": {
      "text/plain": [
       "'\\nthis is my python program to write into a file in differnt way\\n'"
      ]
     },
     "execution_count": 24,
     "metadata": {},
     "output_type": "execute_result"
    }
   ],
   "source": [
    "f.read()"
   ]
  },
  {
   "cell_type": "code",
   "execution_count": null,
   "id": "8224b39b",
   "metadata": {},
   "outputs": [],
   "source": [
    "# Code No :- 30 :-\n",
    " \n",
    "# Let's understand :-\n",
    "\n",
    "# Let's suppose, I would like to read a data from 4th indexes or point. I would like to read the data. The (f.seek(4))\n",
    "# seek at 4th place now my pointer will be available at 4th place.\n",
    "\n",
    "# If I am going to do f.read() can we say that it is able to read the data from 4th index or place.\n",
    "\n",
    "# \"this is my python program to write into a file in differnt way\"  - t-0 h-1 i-2 s-3 space (0,1,2,3,4 is space also count)\n",
    "# Yes so, anywhere whenever I would like set a particular pointer or a particular curser, it is going to set it with \n",
    "# the help of \"Seek\" and then from there, it will be able to read information.\n",
    "\n",
    "# f.seek(50) - outcome is 50\n",
    "# f.read() - outcome is - \"difference way\\n this is my python program to write into a file into a file in different\n",
    "# way\\\"\"\"\"\"\"\"\"n\\\"\"'n\\'\n",
    "\n",
    "# If I am going to set a curser may be at 5oth place. f.seek(50) & outcome is 50.\n",
    "\n",
    "# f.read() - outcome is - different way\\n\\this .......\n",
    "\n",
    "# Now, we can see my curser started from 50th place.\n",
    "\n",
    "# this is my python program to write into a file in (50 is here) different way\\n \n"
   ]
  },
  {
   "cell_type": "code",
   "execution_count": 25,
   "id": "30fd3a5b",
   "metadata": {},
   "outputs": [
    {
     "data": {
      "text/plain": [
       "4"
      ]
     },
     "execution_count": 25,
     "metadata": {},
     "output_type": "execute_result"
    }
   ],
   "source": [
    "f.seek(4)"
   ]
  },
  {
   "cell_type": "code",
   "execution_count": 26,
   "id": "c4daf9b8",
   "metadata": {},
   "outputs": [
    {
     "data": {
      "text/plain": [
       "'is is my python program to write into a file in differnt way\\n'"
      ]
     },
     "execution_count": 26,
     "metadata": {},
     "output_type": "execute_result"
    }
   ],
   "source": [
    "f.read()"
   ]
  },
  {
   "cell_type": "code",
   "execution_count": 27,
   "id": "f5a4480d",
   "metadata": {},
   "outputs": [
    {
     "data": {
      "text/plain": [
       "50"
      ]
     },
     "execution_count": 27,
     "metadata": {},
     "output_type": "execute_result"
    }
   ],
   "source": [
    "f.seek(50)"
   ]
  },
  {
   "cell_type": "code",
   "execution_count": 28,
   "id": "a631f4f2",
   "metadata": {},
   "outputs": [
    {
     "data": {
      "text/plain": [
       "'n differnt way\\n'"
      ]
     },
     "execution_count": 28,
     "metadata": {},
     "output_type": "execute_result"
    }
   ],
   "source": [
    "f.read()"
   ]
  },
  {
   "cell_type": "code",
   "execution_count": 29,
   "id": "2c7d6e27",
   "metadata": {},
   "outputs": [],
   "source": [
    "# Code No :- 31 :-\n",
    " \n",
    "# Let's understand :-\n",
    "\n",
    "\n",
    "# File operation.\n",
    "\n",
    "# 1.Write\n",
    "# 2.Read\n",
    "# 3.Seek\n",
    "\n",
    "# f1 = open(\"test5.txt\")\n",
    "# f1.tell()  \n",
    "# 0\n",
    "\n",
    "# Let's suppose, I have a file, I can try to open up these file.\n",
    "\n",
    "# f1.tell\n",
    "# 0\n",
    "\n",
    "# f1.tell() now tell is again another fucntion. Tell me something that is the meaning tell me about that & this we keep\n",
    "# using these sentences.\n",
    "\n",
    "# Tell me something about data science \"\"\"\"\"\" about yourself.\n",
    " \n",
    "# So, here \"Tell\" is going to tell us about the file. where is the position or where is a pointer now interms of a file.\n",
    "\n",
    "# So, it is telling me is that, my file point is available as of now at index \"0\" zero.\n",
    "\n",
    "# f1.read()\n",
    "\n",
    "# Let's suppose i am going to call f1.read() operation and now If i am going to call. f1.tell()\n",
    "\n",
    "# Now, it is telling me that, its available pointers are available at [66] location, which is last or end location.\n",
    "# or Total words."
   ]
  },
  {
   "cell_type": "code",
   "execution_count": 30,
   "id": "284fe337",
   "metadata": {},
   "outputs": [],
   "source": [
    "f1 = open(\"test5.txt\")"
   ]
  },
  {
   "cell_type": "code",
   "execution_count": 31,
   "id": "42808b37",
   "metadata": {},
   "outputs": [
    {
     "data": {
      "text/plain": [
       "0"
      ]
     },
     "execution_count": 31,
     "metadata": {},
     "output_type": "execute_result"
    }
   ],
   "source": [
    "f1.tell()"
   ]
  },
  {
   "cell_type": "code",
   "execution_count": 32,
   "id": "a9024a15",
   "metadata": {},
   "outputs": [
    {
     "data": {
      "text/plain": [
       "'\\nthis is my python program to write into a file in differnt way\\n'"
      ]
     },
     "execution_count": 32,
     "metadata": {},
     "output_type": "execute_result"
    }
   ],
   "source": [
    "f1.read()"
   ]
  },
  {
   "cell_type": "code",
   "execution_count": 33,
   "id": "d46ddf65",
   "metadata": {},
   "outputs": [
    {
     "data": {
      "text/plain": [
       "66"
      ]
     },
     "execution_count": 33,
     "metadata": {},
     "output_type": "execute_result"
    }
   ],
   "source": [
    "f1.tell()"
   ]
  },
  {
   "cell_type": "code",
   "execution_count": null,
   "id": "798acf4d",
   "metadata": {},
   "outputs": [],
   "source": [
    "# Code No :- 32 :-\n",
    " \n",
    "# Let's understand :-\n",
    "\n",
    "\n",
    "# f1.seek(5)  - outcome is - 5\n",
    "\n",
    "# f1.tell() -  outcome is - 5\n",
    "\n",
    "# Let's suppose, \n",
    "\n",
    "# If I am going to call f1.seek(5) I have set a pointer at 5 location. If I am going to call f1.tell()\n",
    "\n",
    "# It is going to tell me that, Your pointers are available at 5th location. \n",
    "\n",
    "# This is inbuilt fucntion which is avaiable with the help of that we will be able to perform this operation.\n",
    "\n",
    "# f.read()  - outcome is ()\n",
    "\n",
    "# If I am going to call f.read() we all aware about it. - f.read()\n",
    "\n",
    "# So, as of now my pointer are avilable at last location. SO, it is giving me blank.\n",
    "\n",
    "# f.seek(0) - outcome is 0\n",
    "\n",
    "# So, If we will give f.seek(0) - outcome - 0 and If I give \"0\" indexes.\n",
    "\n",
    "# f1.tell() - outcome is - 5\n",
    "\n",
    "# If I will give f1.tell() - outcome is - 0\n",
    "\n",
    "# Where is my pointer, my pointer is avaialble at 5th location.\n",
    "\n",
    "# f1.read(15) - outcome is - 's is my python '\n",
    "\n",
    "# Now, f1.read(15), now here read it is going to read entire things or sentences.\n",
    "\n",
    "# But, when I am going to pass an argument that read(15).\n",
    "\n",
    "# what it will do is that from a current location, my pointer is available at 5th location.\n",
    "\n",
    "# So, from 5th location.So, from 5th + 15th Location.\n",
    "\n",
    "# So, it will try to read a next 15 location.\n",
    "\n",
    "# \"this is my python program to write\"\n",
    "\n",
    "# so, it will from 5th location which is [i] location + 15th location it will try to read a next 15th location.\n",
    "\n",
    "# From a place where ever our pointer is.\n",
    "\n",
    "# This is the meaning passing the argument inside a \"read function\"."
   ]
  },
  {
   "cell_type": "code",
   "execution_count": 34,
   "id": "2fbb9720",
   "metadata": {},
   "outputs": [
    {
     "data": {
      "text/plain": [
       "5"
      ]
     },
     "execution_count": 34,
     "metadata": {},
     "output_type": "execute_result"
    }
   ],
   "source": [
    "f1.seek(5)"
   ]
  },
  {
   "cell_type": "code",
   "execution_count": 35,
   "id": "05c211b6",
   "metadata": {},
   "outputs": [
    {
     "data": {
      "text/plain": [
       "5"
      ]
     },
     "execution_count": 35,
     "metadata": {},
     "output_type": "execute_result"
    }
   ],
   "source": [
    "f1.tell()"
   ]
  },
  {
   "cell_type": "code",
   "execution_count": 36,
   "id": "07494394",
   "metadata": {},
   "outputs": [
    {
     "data": {
      "text/plain": [
       "'s is my python '"
      ]
     },
     "execution_count": 36,
     "metadata": {},
     "output_type": "execute_result"
    }
   ],
   "source": [
    "f1.read(15)"
   ]
  },
  {
   "cell_type": "code",
   "execution_count": null,
   "id": "cbdb169e",
   "metadata": {},
   "outputs": [],
   "source": [
    "# Code No :- 33 :-\n",
    " \n",
    "# Let's understand :-\n",
    "\n",
    "# Let's suppose,\n",
    "\n",
    "# I am trying to create a variable f2 = open(\"test5.txt\") & f2 open up  a file [test5.txt] this is the file that, I am\n",
    "# trying to open up. f2.read()\n",
    "\n",
    "# If I am going to call, so on in that case it is going to read the entire dataset or entire information.\n",
    "\n",
    "# But here we have the \\n & \\n at the end of every sentences."
   ]
  },
  {
   "cell_type": "code",
   "execution_count": 41,
   "id": "780d0324",
   "metadata": {},
   "outputs": [],
   "source": [
    "f2 = open(\"test5.txt\")"
   ]
  },
  {
   "cell_type": "code",
   "execution_count": 42,
   "id": "1019a670",
   "metadata": {},
   "outputs": [
    {
     "data": {
      "text/plain": [
       "'\\nthis is my python program to write into a file in differnt way\\n'"
      ]
     },
     "execution_count": 42,
     "metadata": {},
     "output_type": "execute_result"
    }
   ],
   "source": [
    "f2.read()"
   ]
  },
  {
   "cell_type": "code",
   "execution_count": null,
   "id": "a63c5e7c",
   "metadata": {},
   "outputs": [],
   "source": [
    "# Code No :- 34 :-\n",
    " \n",
    "# Let's understand :-\n",
    "\n",
    "# f2.seek(0) outcome is - 0\n",
    "\n",
    "# f2.readline() - outcome should be this - (\"this is my python program to write into a file in different way\\n\")\n",
    "\n",
    "# Let's suppose,\n",
    "\n",
    "# If I am going to reset the pointers [f2.seek(0)]. Seek means I am just trying to pointer at the \"0\" zero location.\n",
    "\n",
    "# If I am going to call [f2.readline()] - outcome below one\n",
    "\n",
    "# ['\\n', 'this is my python program to write into a file in differnt way\\n'] \n",
    "\n",
    "# Can we say that, it is just trying to raed one single line out of multiple paragraph.\n",
    "\n",
    "# f2.readlines()\n",
    "# ['\\n', 'this is my python program to write into a file in differnt way\\n'] \n",
    "# \"\"\n",
    "# \"\"\n",
    "# \"\"\n",
    "# If I am going to call [f2.readlines()]\n",
    "\n",
    "# As a outcome can we say that it is trying to read each & every line one by one.\n",
    "\n",
    "# And its return as a \"List\". So, if I have a multiple line & if I am looking for a outcome in a form of \"List\" element\n",
    "# line by line each & everything.\n",
    "\n",
    "# So, Yes I am able to get as well.\n",
    "\n",
    "# If we have a information available in a \"List\" format line by line then we can try to decide, how I will be process\n",
    "# or pass entire information or pass the data, because we all are aware about \"List\" method.\n",
    "\n",
    "# 1. Readline() - is going to give us one single line.\n",
    "\n",
    "# 2. Readlines() - is going to return a \"List\" of all the line.\n",
    "\n",
    "# So, we have multiple line a particular \"List\" line 1,2,3,4,5 so on.\n",
    "\n",
    "# Everything we are able to get in a easiest possible way.\n",
    "\n",
    "# "
   ]
  },
  {
   "cell_type": "code",
   "execution_count": 49,
   "id": "bd0214e9",
   "metadata": {},
   "outputs": [
    {
     "data": {
      "text/plain": [
       "0"
      ]
     },
     "execution_count": 49,
     "metadata": {},
     "output_type": "execute_result"
    }
   ],
   "source": [
    "f2.seek(0)"
   ]
  },
  {
   "cell_type": "code",
   "execution_count": 50,
   "id": "6b74bea5",
   "metadata": {},
   "outputs": [
    {
     "data": {
      "text/plain": [
       "'\\n'"
      ]
     },
     "execution_count": 50,
     "metadata": {},
     "output_type": "execute_result"
    }
   ],
   "source": [
    "f2.readline()"
   ]
  },
  {
   "cell_type": "code",
   "execution_count": 51,
   "id": "9efad7cb",
   "metadata": {},
   "outputs": [
    {
     "data": {
      "text/plain": [
       "['this is my python program to write into a file in differnt way\\n']"
      ]
     },
     "execution_count": 51,
     "metadata": {},
     "output_type": "execute_result"
    }
   ],
   "source": [
    "f2.readlines()"
   ]
  },
  {
   "cell_type": "code",
   "execution_count": null,
   "id": "1d87eadb",
   "metadata": {},
   "outputs": [],
   "source": [
    "# Code No :- 35 :-\n",
    " \n",
    "# Let's understand :-\n",
    "\n",
    "# Let's suppose,\n",
    "\n",
    "# I am trying to perform a read operation. This is my file object [f2] & then.\n",
    "\n",
    "# f2.fileno()\n",
    "# outcome  is - 6\n",
    "\n",
    "# If [f2.fileno()] - I can try to call file no.\n",
    "\n",
    "# [FileNo] - Basically talk about.\n",
    "\n",
    "# f2.fileno()\n",
    "# Definition :- Docstring :- Return underlying file description if one exists.\n",
    "\n",
    "# FileNo -\n",
    "\n",
    "# Basically talks about, a particular existing file.\n",
    "\n",
    "# So, what is the  number of a particular file or what is the integer description of a file, this is something it is\n",
    "# telling me.\n",
    "\n",
    "# What os the total number of a which is available & what is the number of it.\n",
    "\n",
    "# In which sequence file has been crated in a particular diectory that is something file number going to give it\n",
    "# to you.\n",
    "\n",
    "# That is not much important but inbuilt fucntion which is available."
   ]
  },
  {
   "cell_type": "code",
   "execution_count": 52,
   "id": "df05129a",
   "metadata": {},
   "outputs": [
    {
     "data": {
      "text/plain": [
       "<_io.TextIOWrapper name='test5.txt' mode='r' encoding='cp1252'>"
      ]
     },
     "execution_count": 52,
     "metadata": {},
     "output_type": "execute_result"
    }
   ],
   "source": [
    "f2"
   ]
  },
  {
   "cell_type": "code",
   "execution_count": 53,
   "id": "b7605781",
   "metadata": {},
   "outputs": [
    {
     "data": {
      "text/plain": [
       "6"
      ]
     },
     "execution_count": 53,
     "metadata": {},
     "output_type": "execute_result"
    }
   ],
   "source": [
    "f2.fileno()"
   ]
  },
  {
   "cell_type": "code",
   "execution_count": null,
   "id": "3b7c6b2c",
   "metadata": {},
   "outputs": [],
   "source": [
    "# Code No :- 36 :-\n",
    " \n",
    "# Let's understand :-\n",
    "\n",
    "# So, here is a file object which, I can try to create, I can call Open & \"test.txt\" \"W\" & open it up at right mode.\n",
    "\n",
    "# f.write(\"\"\"this is my python program to write into a file in different way\\n\"\"\")\n",
    "\n",
    "# Here file. write - inside here I can write whatever I want.\n",
    "\n",
    "# So, (\"\"\"this is my python program to write into a file in different way\\n\"\"\")\n",
    "\n",
    "# So, as a outcome we can [64]. We are able to perform a right operations. So, if I close these file & go to the \n",
    "# \"C\" drive, & if we check we can see over here.\n",
    "\n",
    "# f.close()\n",
    "\n",
    "# After these execute, if we check on our \"C\" drive & check folder called [test]. If we open it we can see the\n",
    "# message POP Up.\n",
    "\n",
    "# (\"\"\"this is my python program to write into a file in different way\\n\"\"\")\n",
    "\n",
    "# f.write(\"xywpkancd\")\n",
    "# outcome will be - 11\n",
    "\n",
    "# f.close()\n",
    "\n",
    "# Here, if I would to do write operation by opening these this file - f = open(\"test.text\",\"w\")\n",
    "\n",
    "# execute & f.close() execute it & Now go to the \"C\" drive & see that,\n",
    "#inside [test] folder earlier it was written.\n",
    "\n",
    "# \"this is my python program to write into a file in different way\\n\"\n",
    "\n",
    "# & now it change after this code execute it replace by now. - (\"xyz wpk abcd\")\n"
   ]
  },
  {
   "cell_type": "code",
   "execution_count": 75,
   "id": "403361ac",
   "metadata": {},
   "outputs": [],
   "source": [
    "f = open(\"test.text\",'w')"
   ]
  },
  {
   "cell_type": "code",
   "execution_count": 76,
   "id": "1644cbd2",
   "metadata": {},
   "outputs": [
    {
     "data": {
      "text/plain": [
       "64"
      ]
     },
     "execution_count": 76,
     "metadata": {},
     "output_type": "execute_result"
    }
   ],
   "source": [
    "f.write(\"\"\"this is my python program to write into a file in different way\\n\"\"\")"
   ]
  },
  {
   "cell_type": "code",
   "execution_count": 77,
   "id": "16472498",
   "metadata": {},
   "outputs": [],
   "source": [
    "f.close()"
   ]
  },
  {
   "cell_type": "code",
   "execution_count": 79,
   "id": "3ee7b9a6",
   "metadata": {},
   "outputs": [
    {
     "ename": "ValueError",
     "evalue": "I/O operation on closed file.",
     "output_type": "error",
     "traceback": [
      "\u001b[1;31m---------------------------------------------------------------------------\u001b[0m",
      "\u001b[1;31mValueError\u001b[0m                                Traceback (most recent call last)",
      "Cell \u001b[1;32mIn[79], line 1\u001b[0m\n\u001b[1;32m----> 1\u001b[0m f\u001b[38;5;241m.\u001b[39mwrite(\u001b[38;5;124m\"\u001b[39m\u001b[38;5;124mxyz wpk abcd\u001b[39m\u001b[38;5;124m\"\u001b[39m)\n",
      "\u001b[1;31mValueError\u001b[0m: I/O operation on closed file."
     ]
    }
   ],
   "source": [
    "f.write(\"xyz wpk abcd\")"
   ]
  },
  {
   "cell_type": "code",
   "execution_count": 74,
   "id": "444952bf",
   "metadata": {},
   "outputs": [],
   "source": [
    "f.close()"
   ]
  },
  {
   "cell_type": "code",
   "execution_count": 84,
   "id": "f194f51d",
   "metadata": {},
   "outputs": [],
   "source": [
    "# Code No :- 37 :-\n",
    " \n",
    "# Let's understand :-\n",
    "\n",
    "# New dataset updated.\n",
    "\n",
    "# \"C\" drive we can see \"xyz wpk abcd\" this is my new dataset.\n",
    "\n",
    "# Let's suppose,\n",
    "\n",
    "# I have a situation, where I don't want to loss the previous data, don't want my new operation over write old data,\n",
    "\n",
    "# which is available inside my \"C\" drive file.\n",
    "\n",
    "# I would like to \"Append\" something whatever new will come to the picture it is suppose to \"Append\" that new \n",
    "# information into a existing file system, that is something I am expecting.\n",
    "\n",
    "# How, I will perform such kind of operation, how I will be able to Append some of the information inside the \n",
    "# existing one.\n",
    "\n",
    "# f = open(\"test.text\", \"a\") - here this time instead of using \"w\" Write mode, I will try to open it up on a Append mode.\n",
    "\n",
    "# w = \"write Mode\"\n",
    "# A = \"Append Mode\"\n",
    "\n",
    "# Now, if I am going to perform f.write operation in this Append mode. \n",
    "\n",
    "# (\"this is my new dataset\") \n",
    "# Because the mode I have \"W\" to \"A\" It is suppose to Append something in the existing file.\n",
    "\n",
    "# Then f.Close()\n",
    "\n",
    "# Once we execute it, now if I will go to the \"C\" drive & Check this \"Test\" folder.\n",
    "\n",
    "# If we open it, can we say that It has Appended now information. This is my new dataset, it has not delete old one.\n",
    "\n",
    "# Here it is trying to keep both the data old one as well as new data that I want to keep.\n",
    "\n",
    "# [\"Xyz wpk abcd this is my new dataset\"]\n",
    "\n",
    "# This is how we will be able to perform a Append operation interms of File.\n",
    "\n",
    "# R =  \"Read\"\n",
    "# W = \"Write\"\n",
    "# A = \"Append\""
   ]
  },
  {
   "cell_type": "code",
   "execution_count": null,
   "id": "9e34ac39",
   "metadata": {},
   "outputs": [],
   "source": [
    "# Continuee.....\n",
    "\n",
    "\n",
    "# There is others also \"r +\",\"w+\", \"a+\" these things are also available.\n",
    "\n",
    "# 1.(R+) - R+ always try to open up a file in both read & writing mode.\n",
    "\n",
    "# 2.(W+) - W+ doing same things, it will try to open up a file into both reading & writing mode.\n",
    "\n",
    "# But how (R+) is difference from W+. So, (W+) always try to check whether there is a file which is exit or not.\n",
    "\n",
    "# If file does not exist in that case it will try to craete a file at any point of time.\n",
    "\n",
    "# Where (R+) through an Error that file does not exist, I am not able to read it.\n",
    "\n",
    "# 3.Append :- \n",
    "\n",
    "# Append means,it will try to append any file are not available, it will try to create it from its own.\n",
    "\n",
    "# There is only one command.\n",
    "\n",
    "# \"Open\" to open up file, then we can perform a \n",
    "\n",
    "# (a) Read operation\n",
    "# (b) Write Operation\n",
    "# (c) Readline operation\n",
    "# (d) Readlines Operation\n",
    "# (e) Seek operation\n",
    "# (f) close operation - ( Closing a file at any point of time)\n",
    "# (g) f.name operation\n",
    "\n",
    "# Seek Operation :-  If we have to reset a pointer to same particular location."
   ]
  },
  {
   "cell_type": "code",
   "execution_count": 81,
   "id": "32e877e9",
   "metadata": {},
   "outputs": [],
   "source": [
    "f = open(\"test.txt\", \"a\")"
   ]
  },
  {
   "cell_type": "code",
   "execution_count": 82,
   "id": "9c8d0f1d",
   "metadata": {},
   "outputs": [
    {
     "data": {
      "text/plain": [
       "22"
      ]
     },
     "execution_count": 82,
     "metadata": {},
     "output_type": "execute_result"
    }
   ],
   "source": [
    "f.write(\"this is my new dataset\")"
   ]
  },
  {
   "cell_type": "code",
   "execution_count": 83,
   "id": "9d5fb132",
   "metadata": {},
   "outputs": [],
   "source": [
    "f.close()"
   ]
  },
  {
   "cell_type": "code",
   "execution_count": null,
   "id": "47bd601e",
   "metadata": {},
   "outputs": [],
   "source": [
    "# Code No :- 38 :-\n",
    " \n",
    "# Let's understand :-\n",
    "\n",
    "\n",
    "# Let's suppose , f.name file.name call name.\n",
    "\n",
    "# It is tell the what is file name my file name is - ['test.txt']\n",
    "\n",
    "# This is also a operation that is available.\n",
    "\n",
    "# f.closed\n",
    "# False\n",
    "\n",
    "# Let's suppose, I would like to check this whether these file is closed or not.\n",
    "\n",
    "# Closed =  False, means I have just opened [\"f.name\"] this file. This file has not yet closed.\n",
    "\n",
    "# f.mode\n",
    "# \"a\"\n",
    "\n",
    "# Now, if I would like to check in what mode this file has been opened in \"a\" mode. Because I have open these file in a\n",
    "# \"a\" mode.\n",
    "\n",
    "# Basically a Append mode, So I have opened a file.\n",
    "\n",
    "# There are inbuild function which already available in a Pthon file format."
   ]
  },
  {
   "cell_type": "code",
   "execution_count": 87,
   "id": "b23405a2",
   "metadata": {},
   "outputs": [
    {
     "data": {
      "text/plain": [
       "'test.txt'"
      ]
     },
     "execution_count": 87,
     "metadata": {},
     "output_type": "execute_result"
    }
   ],
   "source": [
    "f.name"
   ]
  },
  {
   "cell_type": "code",
   "execution_count": 88,
   "id": "b00a5aea",
   "metadata": {},
   "outputs": [
    {
     "data": {
      "text/plain": [
       "True"
      ]
     },
     "execution_count": 88,
     "metadata": {},
     "output_type": "execute_result"
    }
   ],
   "source": [
    "f.closed"
   ]
  },
  {
   "cell_type": "code",
   "execution_count": 90,
   "id": "7a40b9f9",
   "metadata": {},
   "outputs": [
    {
     "data": {
      "text/plain": [
       "'a'"
      ]
     },
     "execution_count": 90,
     "metadata": {},
     "output_type": "execute_result"
    }
   ],
   "source": [
    "f.mode"
   ]
  },
  {
   "cell_type": "code",
   "execution_count": null,
   "id": "b6748c24",
   "metadata": {},
   "outputs": [],
   "source": []
  },
  {
   "cell_type": "markdown",
   "id": "ea9a3e2e",
   "metadata": {},
   "source": [
    "                                              Functions\n",
    "    \n",
    "                                           1. MAP Function\n",
    "        \n",
    "                                           2. Reduce Function\n",
    "            \n",
    "                                           3.Filter Function"
   ]
  },
  {
   "cell_type": "code",
   "execution_count": null,
   "id": "107ac3ba",
   "metadata": {},
   "outputs": [],
   "source": []
  },
  {
   "cell_type": "markdown",
   "id": "8cc1f0b4",
   "metadata": {},
   "source": [
    "                                             Question :- \n",
    "\n",
    "This is \"List\" which is available now do one thing, whatever numbers available inside my \"List\", try to find out may be\n",
    "square of each and every number & then return me a \"List\".\n",
    "\n",
    "This is a \"List\" which is available to me try to find out square of each and every number & then give me a \"List\".\n"
   ]
  },
  {
   "cell_type": "code",
   "execution_count": null,
   "id": "446e8241",
   "metadata": {},
   "outputs": [],
   "source": [
    "# Code No :- 39:-\n",
    "\n",
    "# I have to solve this problem where I am looking for square of a every element in a \"List\".\n",
    "# Final result should be available in a \"List\" format itself.\n",
    "\n",
    "# How, I will be able to perform such kind of operation.\n",
    "\n",
    "#l = [2,3,4,5,5,6]\n",
    "#l1 = []\n",
    "#for i in l :\n",
    "#    l1.append(i**2)\n",
    " \n",
    "# L1\n",
    "# outcome is - [4, 9, 16, 25, 25, 36]\n",
    "\n",
    "# So, may be i can call List(L1) and blank leave it. And, i can try to call for i in L:\n",
    "# just do one thing.\n",
    "\n",
    "#  l1.append(i**2)\n",
    "\n",
    "# L1.Append(i**2)\n",
    "\n",
    "# L1.append & then square of it. So,(i**2). So i of square(**2).\n",
    "# L1\n",
    "\n",
    "# If we will going to print out [L1]. Then we will be able to find out square of each and every data.\n",
    "\n",
    "# L1\n",
    "# outcome is :- [4, 9, 16, 25, 25, 36]  - square of each and every data.\n",
    "\n",
    "# (**) 2 star means the number which is available multiple it 2 times. So the outcome of 2 is 2*2 = 4.\n",
    "\n",
    "# Now, samething let's do it with the help of \"MAP\"\n",
    "\n",
    "# How I will be able to do a this kind of problem with the help of \"Map Function\"."
   ]
  },
  {
   "cell_type": "code",
   "execution_count": 5,
   "id": "2bd37ea0",
   "metadata": {},
   "outputs": [],
   "source": [
    "l = [2,3,4,5,5,6]\n",
    "l1 = []\n",
    "for i in l :\n",
    "    l1.append(i**2)"
   ]
  },
  {
   "cell_type": "code",
   "execution_count": 6,
   "id": "ca51dd3a",
   "metadata": {},
   "outputs": [
    {
     "data": {
      "text/plain": [
       "[4, 9, 16, 25, 25, 36]"
      ]
     },
     "execution_count": 6,
     "metadata": {},
     "output_type": "execute_result"
    }
   ],
   "source": [
    "l1"
   ]
  },
  {
   "cell_type": "markdown",
   "id": "ce74c192",
   "metadata": {},
   "source": [
    "                                                1.\"MAP FUNCTION\""
   ]
  },
  {
   "cell_type": "code",
   "execution_count": 8,
   "id": "7ed6b6be",
   "metadata": {},
   "outputs": [],
   "source": [
    "                                      # \"MAP FUNCTION\"  :- \n",
    "\n",
    "# \"MAP\" is basically inbuild function, available inside a python.\n",
    "\n",
    "# MAP - definition - Ctrl + TAB - we will get the definition.\n",
    "\n",
    "# Make an iterator that computes the fucntion using arguments from each of the iterables stops when the shortest\n",
    "# iterable is exhausted."
   ]
  },
  {
   "cell_type": "code",
   "execution_count": 9,
   "id": "40f525d1",
   "metadata": {},
   "outputs": [],
   "source": [
    "# Code No :- 40:-\n",
    "\n",
    "# Map us going to take 2 argument *args 1 is a function(fun) very first argument going to take as function.\n",
    "\n",
    "# 2nd argument take as a iterables.\n",
    "\n",
    "# 1.[args] - function (fun)\n",
    "\n",
    "# 2.[Kwargs] - iterables\n",
    "\n",
    "# So, here it is going to take iterables & then it will try to perform an operation.\n",
    "\n",
    "# Function wise, we are suppose to pass a fucntion which we would like to apply on top of a particular element.\n",
    " \n",
    "# Here [2,3,4,5,5,6]  each & every element, can we say that we are trying to apply a square fucntion.\n",
    "\n",
    "# we are trying to use square over here (i**2)"
   ]
  },
  {
   "cell_type": "code",
   "execution_count": 25,
   "id": "ac74f0d9",
   "metadata": {},
   "outputs": [],
   "source": [
    "#Explanation below code :-\n",
    "    \n",
    "# Here may be what we can do is we can create outer fucntion over here, which will take any element & it will return\n",
    "# square of ot.\n",
    "\n",
    "# def sq(n):\n",
    "#    return n**2\n",
    "\n",
    "# May be I can write sq fucntion, which is going to take any element & it is going to \"return\" square of it.\n",
    "\n",
    "# Whatever, I am going to return it will Pass square of it (n**2) square.\n",
    "\n",
    "# map(sq,L)\n",
    "\n",
    "# Map is a function which always take 2 arguments \n",
    "\n",
    "# 1.[args] - function (func)\n",
    "\n",
    "# 2.[Kwargs] - iterable object.\n",
    "\n",
    "# Let's suppose, I pass function square(sq) inside \"Map\".\n",
    "\n",
    "# def sq(n):\n",
    "#   return n**2\n",
    "\n",
    "# Earlier \"seq\" function, I have written is a outer function for me.\n",
    "\n",
    "# map(sq,l)\n",
    "# Then here, If I am going to pass \"List\" [L] over here - L = [2,3,4,5,5,6] execute it.\n",
    "\n",
    "# outcome we can see over here is -  [ <map at 0x276aa260220> ]\n",
    "\n",
    "# This is going to give me what, basically it giving me \"Map\" object or generator object of a \"Map\" it is going to \n",
    "# give me.\n",
    "\n",
    "# List(map(sq,l))\n",
    "\n",
    "# outcome is - [4,9,16,25,25,36]\n",
    "\n",
    "# Now, If I am going to enclose these things within \"List\". Can we say that outcome from these one & outcome from\n",
    "# previous one is same outcome.\n",
    "\n",
    "# What \"Map\" does, \"Map\" always try to Map a particular function with every element available inside our iterables.\n",
    "\n",
    "# l = [2,3,4,5,5,6]\n",
    "\n",
    "# Here \"List\" object is here, \"List\" is a iterable, inside a \"List\" I have a multiple elements.\n",
    "\n",
    "# \"Map\" alwys try to \"Map\" a function with each & every element of a iterables.\n",
    "\n",
    "# list(map(sq,l))\n",
    "\n",
    "# That is only thing which Map does whatever our function is try to perform, it try to perform & this operation on each\n",
    "# & every elements & then it is going to return.\n",
    "\n",
    "# Does not matter whether its a complex operation or whether its a simple operation, its just doing Maping of each & every\n",
    "# element with a function ( func)\n",
    "\n",
    "# l = [2,3,4,5,5,6]\n",
    "\n",
    "# It will try to pass first of all [2] inside these function.\n",
    "\n",
    "#def sq(n):\n",
    "#    return n**2 \n",
    "\n",
    "# Then return a result or outcome is\n",
    "# [4, 9, 16, 25, 25, 36]\n",
    "\n",
    "# It will do same for every element it is going to \"Map\" it.\n",
    "\n",
    "# If I have end of element, all end number of element it is going to \"Map\" it.\n",
    "\n",
    "# list(map(sq,l))\n",
    "\n",
    "# Inside this function it is going to pass the data element  then it will going to give me a \"return\".\n",
    "\n",
    "# [4, 9, 16, 25, 25, 36]\n",
    "\n",
    "# 'Map' always try to consider a function as a 1st argument, function wise, I can try to give a outer fucntion. Any\n",
    "# complex problem."
   ]
  },
  {
   "cell_type": "code",
   "execution_count": 18,
   "id": "f030c8bf",
   "metadata": {},
   "outputs": [],
   "source": [
    "def sq(n):\n",
    "    return n**2"
   ]
  },
  {
   "cell_type": "code",
   "execution_count": 19,
   "id": "e35e0cdb",
   "metadata": {},
   "outputs": [
    {
     "data": {
      "text/plain": [
       "<map at 0x276aa262230>"
      ]
     },
     "execution_count": 19,
     "metadata": {},
     "output_type": "execute_result"
    }
   ],
   "source": [
    "map(sq,l)"
   ]
  },
  {
   "cell_type": "code",
   "execution_count": 23,
   "id": "1f0efe87",
   "metadata": {},
   "outputs": [],
   "source": [
    "l = [2,3,4,5,5,6]"
   ]
  },
  {
   "cell_type": "code",
   "execution_count": 24,
   "id": "41e860eb",
   "metadata": {},
   "outputs": [
    {
     "data": {
      "text/plain": [
       "[4, 9, 16, 25, 25, 36]"
      ]
     },
     "execution_count": 24,
     "metadata": {},
     "output_type": "execute_result"
    }
   ],
   "source": [
    "list(map(sq,l))"
   ]
  },
  {
   "cell_type": "code",
   "execution_count": null,
   "id": "06d6d616",
   "metadata": {},
   "outputs": [],
   "source": [
    "# Code No :- 41:-\n",
    "\n",
    "# Let's understand\n",
    "\n",
    "# So, Lambda is a basically \"Anonymous\" function, Map always takes \"Anonymous\"  function, Map always takes 1st argument\n",
    "# as a Lambda function. I can try to write even a \"Lambda\" function.\n",
    "\n",
    "# So, I can pass \"Lambda\"  function, which is going to take \"X\" & it return what (x)2 (x square) of it.\n",
    "\n",
    "# So, very 1st argument is what a function. So, it can be \"outsider\" function & 2nd argument is my iterables.\n",
    "\n",
    "# Again I am able to get the same outcome.\n",
    "\n",
    "# If I kept this things into a \"List\".\n",
    "\n",
    "# As a outcome we can see over here, I am able to get some result.\n",
    "\n",
    "# L1\n",
    "# List(map(sq,L))\n",
    "# list(map(lambda x : x**2,l))\n",
    "\n",
    "# These 3 operation giving me an same outcome.\n",
    "# [4, 9, 16, 25, 25, 36]\n",
    "\n",
    "# So, only requiredment is 1st argument should be a function, I can pass may be outsider function or I can try to write \n",
    "# Lambda function or I can try to pass may be outsider function or I can try to write lambda function both\n",
    "# situation it will be same.\n"
   ]
  },
  {
   "cell_type": "code",
   "execution_count": 26,
   "id": "46ff9032",
   "metadata": {},
   "outputs": [
    {
     "data": {
      "text/plain": [
       "<map at 0x276aa266200>"
      ]
     },
     "execution_count": 26,
     "metadata": {},
     "output_type": "execute_result"
    }
   ],
   "source": [
    "map(lambda x : x**2,l)"
   ]
  },
  {
   "cell_type": "code",
   "execution_count": 27,
   "id": "7b5988fd",
   "metadata": {},
   "outputs": [
    {
     "data": {
      "text/plain": [
       "[4, 9, 16, 25, 25, 36]"
      ]
     },
     "execution_count": 27,
     "metadata": {},
     "output_type": "execute_result"
    }
   ],
   "source": [
    "list(map(lambda x : x**2,l))"
   ]
  },
  {
   "cell_type": "code",
   "execution_count": 29,
   "id": "52efd60b",
   "metadata": {},
   "outputs": [],
   "source": [
    "# Code No :- 42:-\n",
    "\n",
    "# Let's understand\n",
    "\n",
    "                                            # Question :- \n",
    "\n",
    "# This is my list l = [2,3,4,5,5,6] now try to convert every element inside a \"List\" into string.\n",
    "\n",
    "# So, we can do this thing into a multiple way.\n",
    "\n",
    "# Here, I can call \"Maper function\" inside a \"Map\", I can write \"Lambda\" lambda means pass one element.\n",
    "\n",
    "# Then return the string(x) of any \"x\" and then finally pass the list(\"L\") execute it.\n",
    "\n",
    "# <map at 0x276aa265ea0> - this is outcome.\n",
    "\n",
    "# So, If I am going to enclose these entire things into a \"List\".\n",
    "\n",
    "# list(map(lambda x: str(x),l))\n",
    "\n",
    "# ['2', '3', '4', '5', '5', '6'] - This is a outcome.\n",
    "\n",
    "# If I am going to enclose these entire things within a \"list\".\n",
    "\n",
    "# As a outcome we can see that, we are able to convert every element inside a \"List\" into a string(Str) format.\n",
    "\n",
    "# So, I am able to convert each & every thing into a string(str) format."
   ]
  },
  {
   "cell_type": "code",
   "execution_count": 32,
   "id": "b653a01a",
   "metadata": {},
   "outputs": [],
   "source": [
    "l = [2,3,4,5,5,6]"
   ]
  },
  {
   "cell_type": "code",
   "execution_count": 33,
   "id": "88da2d3e",
   "metadata": {},
   "outputs": [
    {
     "data": {
      "text/plain": [
       "<map at 0x276aa265ea0>"
      ]
     },
     "execution_count": 33,
     "metadata": {},
     "output_type": "execute_result"
    }
   ],
   "source": [
    "map(lambda x : str(x),l)"
   ]
  },
  {
   "cell_type": "code",
   "execution_count": 34,
   "id": "15ac8ae0",
   "metadata": {},
   "outputs": [
    {
     "data": {
      "text/plain": [
       "['2', '3', '4', '5', '5', '6']"
      ]
     },
     "execution_count": 34,
     "metadata": {},
     "output_type": "execute_result"
    }
   ],
   "source": [
    "list(map(lambda x: str(x),l))"
   ]
  },
  {
   "cell_type": "code",
   "execution_count": null,
   "id": "e50e6168",
   "metadata": {},
   "outputs": [],
   "source": [
    "# Code No :- 43:-\n",
    "\n",
    "# Let's understand\n",
    "\n",
    "\n",
    "# I can write \"external function\" def str_C (Convert) (n) & I can pass any data input (n).\n",
    "\n",
    "# It is going to \"return\" string(str) str(n).\n",
    "# Whatever data, i am trying to pass.\n",
    "\n",
    "# I can call now list of map of these (str_c) str(C) function inside this one execute it.\n",
    "\n",
    "# As a outcome we can see over here - ['2', '3', '4', '5', '5', '6']\n",
    "\n",
    "# Can I say that, I can write external function. I can try to call external function or I can try to call Lambda function\n",
    "# in both case, its completely fine.\n",
    "\n",
    "# \"Map\" always going to do one to two, one Maping then, it is going to give us a outcome or I can write these way.\n",
    "\n",
    "# list(map(str_c,l))\n",
    "# ['2', '3', '4', '5', '5', '6']\n",
    "\n",
    "# \"Str\" is a inbuild function, which is already available, I can try to call even a inbuild function inside this one."
   ]
  },
  {
   "cell_type": "code",
   "execution_count": 35,
   "id": "1a58ce0d",
   "metadata": {},
   "outputs": [],
   "source": [
    "def str_c(n) :\n",
    "    return str(n)"
   ]
  },
  {
   "cell_type": "code",
   "execution_count": 37,
   "id": "cf1fd782",
   "metadata": {},
   "outputs": [
    {
     "data": {
      "text/plain": [
       "['2', '3', '4', '5', '5', '6']"
      ]
     },
     "execution_count": 37,
     "metadata": {},
     "output_type": "execute_result"
    }
   ],
   "source": [
    "list(map(str_c,l))"
   ]
  },
  {
   "cell_type": "code",
   "execution_count": null,
   "id": "df96b2fa",
   "metadata": {},
   "outputs": [],
   "source": []
  },
  {
   "cell_type": "markdown",
   "id": "f17eec74",
   "metadata": {},
   "source": [
    "                                                2. Reduce Function"
   ]
  },
  {
   "cell_type": "code",
   "execution_count": null,
   "id": "a622c081",
   "metadata": {},
   "outputs": [],
   "source": []
  },
  {
   "cell_type": "code",
   "execution_count": 40,
   "id": "1b7e344a",
   "metadata": {},
   "outputs": [],
   "source": [
    "                                          # 2. Reduce Function :-\n",
    "    \n",
    "# From fucntion import reduce\n",
    "\n",
    "# Reduce is again, Python inbuild function, we have to do a \"import\", importwise we have to call from function tool\n",
    "# import reduce.\n",
    "\n",
    "# By default reduce will not available, its available in a package called as function tools.\n",
    "# From these package, we have to import these function called as \"reduce\".\n",
    "\n",
    "# Let's Understand :-\n",
    "\n",
    "# what \"Reduce\" does & how reduce is going to produce a result at any point of time."
   ]
  },
  {
   "cell_type": "code",
   "execution_count": null,
   "id": "0d2a296c",
   "metadata": {},
   "outputs": [],
   "source": [
    "# Code No :- 43:-\n",
    "\n",
    "# Let's understand :-\n",
    "\n",
    "# I have a \"list\" once again,\n",
    "\n",
    "# l = [3,4,5,6,7,8,9] - This is something which is available to me.\n",
    "\n",
    "# Now,\n",
    "\n",
    "# Question :-\n",
    "\n",
    "# Can you give me a submission of entire \"List\" . whatever element is available, you have to give me a submission of it.\n",
    "\n",
    "# Sum(L)\n",
    "# 42\n",
    "\n",
    "# Can you give me a multiplication of it.\n",
    "\n",
    "# That is possible with the help of loop or some other inbuild function. Same thing can be done with the help of loop\n",
    "# or some other inbuild function.\n",
    "\n",
    "# Same thing can be done with the help of reduce function.\n",
    "\n",
    "# Let's understand,what reduce does how reduce function calculate or aggregiate entire dataset that we have.\n",
    "\n",
    "# Reduce :-\n",
    "\n",
    "# Definiton - Ctrl + TAB - we will get the definition.\n",
    "\n",
    "# Docstrings:-\n",
    "\n",
    "# reduce(function,sequence[,initiall]) - value\n",
    "# Apply a function of two arguments cumulatively to the items of sequence, from left to right. So as reduce the sequence\n",
    "# to a single value.\n",
    "\n",
    " \n",
    "# Reduce function is going to take a very first argument as a function & 2nd argument as a iterable.\n",
    "\n",
    "# Reduce is going to take a 1st one as a function & 2nd one is sequence. or any iterable, it is going to consider.\n",
    "\n",
    "# Can we say that these both the result or outcome is same.\n",
    "\n",
    "# sum(l)\n",
    "# 42\n"
   ]
  },
  {
   "cell_type": "code",
   "execution_count": 16,
   "id": "b29ea918",
   "metadata": {},
   "outputs": [],
   "source": [
    "from functools import reduce"
   ]
  },
  {
   "cell_type": "code",
   "execution_count": 17,
   "id": "bbf56064",
   "metadata": {},
   "outputs": [],
   "source": [
    "l = [3,4,5,6,7,8,9]"
   ]
  },
  {
   "cell_type": "code",
   "execution_count": 18,
   "id": "34d4573b",
   "metadata": {},
   "outputs": [
    {
     "data": {
      "text/plain": [
       "42"
      ]
     },
     "execution_count": 18,
     "metadata": {},
     "output_type": "execute_result"
    }
   ],
   "source": [
    "sum(l)"
   ]
  },
  {
   "cell_type": "code",
   "execution_count": 19,
   "id": "642a0e67",
   "metadata": {},
   "outputs": [],
   "source": [
    "# Code No :- 44:-\n",
    "\n",
    "# Let's understand :-\n",
    "\n",
    "# Here \"reduce\" function always try to accomplicate information or it is going to perform a aggregiation operation on the\n",
    "# top of any sequences that,we have passed.\n",
    "\n",
    "# I have written that [\"lambda\" a,b ]\n",
    "\n",
    "# So, can we say that it is going to take 2 parameter a & b\n",
    "\n",
    "# so, here this is my \"List\".\n",
    "\n",
    "# l = [3,4,5,6,7,8,9]\n",
    "\n",
    "# So, here \n",
    "\n",
    "# \"a\" will be 3 \n",
    "# \"b\" will be 4\n",
    "\n",
    "# Now,it is trying to return what [a+b]\n",
    "\n",
    "# So, it will try to do what - L = [3,4,5,6,7,8,9]\n",
    "\n",
    "# a+b = 3+4\n",
    " #    = 7\n",
    "    \n",
    "# Let's understand this part -\n",
    "\n",
    "# L = [3,4,5,6,7,8,9]\n",
    "\n",
    "# 1.a+b = 3+4 = 7\n",
    "# 2.a+b = 7+5 = 12\n",
    "# 3.a+b = 12+6 =18\n",
    "# 4.a+b = 18+7 = 25\n",
    "# 5.a+b = 25+8 = 33\n",
    "# 6.a+b = 33+9 = 42\n",
    "\n",
    "# This is how we are able to get the outcome, internally how its work, These way it give us the outcome [42]\n",
    "\n",
    "# reduce(lambda a,b : a*b,l)\n",
    "# 181440\n",
    "\n",
    "# let's suppose,\n",
    "# I am lookin for a multiplication of it.\n",
    "\n",
    "# L = [3,4,5,6,7,8,9]\n",
    "\n",
    "# 1.a+b = 3*4 = 12\n",
    "# 2.a+b = 12*5 = 60\n",
    "# 3.a+b = 60*6 = 360\n",
    "# 4.a+b = 360*7 = 2520\n",
    "# 5.a+b = 2,500*8 = 20,160\n",
    "# 6.a+b = 20,160*9 = 1,81,440\n",
    "\n",
    "# As a outcome we can see over here - 1,81,440\n",
    "\n",
    "# Reduce means try to accumulate or try to reduce entire information one by one.\n",
    "\n",
    "# whenever we have to do aggression we have to do aggression operation, we can use the reduce operation.\n",
    "# This is not the only way, I can try to use \"Map\" & reduce .\n",
    "\n",
    "# Without using \"Map & reduce\",I am abkw to perform a same operation."
   ]
  },
  {
   "cell_type": "code",
   "execution_count": 20,
   "id": "d5442fbb",
   "metadata": {},
   "outputs": [
    {
     "data": {
      "text/plain": [
       "42"
      ]
     },
     "execution_count": 20,
     "metadata": {},
     "output_type": "execute_result"
    }
   ],
   "source": [
    "reduce(lambda a,b : a+b,l)"
   ]
  },
  {
   "cell_type": "code",
   "execution_count": 21,
   "id": "2bf0aa2d",
   "metadata": {},
   "outputs": [
    {
     "data": {
      "text/plain": [
       "181440"
      ]
     },
     "execution_count": 21,
     "metadata": {},
     "output_type": "execute_result"
    }
   ],
   "source": [
    "reduce(lambda a,b : a*b,l)"
   ]
  },
  {
   "cell_type": "code",
   "execution_count": 22,
   "id": "d03cee66",
   "metadata": {},
   "outputs": [],
   "source": [
    "# Code No :- 45:-\n",
    "\n",
    "# Let's understand :-\n",
    "\n",
    "# Why its giving me an Error, why its not working.\n",
    "\n",
    "# L = [3,4,5,6,7,8,9]\n",
    "\n",
    "# 1.a+b+c = 3+4+5 = 12\n",
    "# 2.a+b+c = 12+6+7 = 25\n",
    "# 3.a+b = 25+8+9 = 42\n",
    "\n",
    "# Total is - [42]\n",
    "\n",
    "# This is something, I was expecting, it suppose to give me an result, but instead of giving result it trying to complain.\n",
    "\n",
    "# I can't take a function with a 3 parameter or 3 argument region simple."
   ]
  },
  {
   "cell_type": "code",
   "execution_count": 25,
   "id": "ba9772a6",
   "metadata": {},
   "outputs": [
    {
     "ename": "TypeError",
     "evalue": "<lambda>() missing 1 required positional argument: 'c'",
     "output_type": "error",
     "traceback": [
      "\u001b[1;31m---------------------------------------------------------------------------\u001b[0m",
      "\u001b[1;31mTypeError\u001b[0m                                 Traceback (most recent call last)",
      "Cell \u001b[1;32mIn[25], line 1\u001b[0m\n\u001b[1;32m----> 1\u001b[0m reduce(\u001b[38;5;28;01mlambda\u001b[39;00m a,b,c:a\u001b[38;5;241m*\u001b[39mb\u001b[38;5;241m*\u001b[39mc,l)\n",
      "\u001b[1;31mTypeError\u001b[0m: <lambda>() missing 1 required positional argument: 'c'"
     ]
    }
   ],
   "source": [
    "reduce(lambda a,b,c:a*b*c,l)"
   ]
  },
  {
   "cell_type": "code",
   "execution_count": 26,
   "id": "89cc7eae",
   "metadata": {},
   "outputs": [],
   "source": [
    "# Code No :- 46:-\n",
    "\n",
    "# Let's understand :-\n",
    "\n",
    "# L = [3,4,5,6,7,8,9,2]\n",
    "\n",
    "# Let's suppose,\n",
    "\n",
    "# In this \"List\" I have added one more element [2] added.\n",
    "\n",
    "# 1.a+b+c = 3+4+5 = 12\n",
    "# 2.a+b+c = 12+6+7 = 25\n",
    "# 3.a+b+c = 25+8+9 = 42\n",
    "# 4.a+b+c = 42+2+? = ? ( Error)\n",
    "\n",
    "# We don't have \"C\" over here at the end. In that case it is giving me an Error.\n",
    "\n",
    "# Whenever, we try to pass any function inside a reduce we should pass a function which can take only 2 argument.\n",
    "\n",
    "# Because there is a chance that inside my dataset may be 3rd element not available but 2 always high change, it will be \n",
    "# available\n",
    "\n",
    "# So, basically incase of reduce function, we are just suppose to use 2 parameter not 3 parameter at any point of a \n",
    "# time.\n",
    "\n",
    "# That is the region it is not working.\n"
   ]
  },
  {
   "cell_type": "code",
   "execution_count": 27,
   "id": "b13f23bb",
   "metadata": {},
   "outputs": [],
   "source": [
    "L = [3,4,5,6,7,8,9,2]"
   ]
  },
  {
   "cell_type": "code",
   "execution_count": null,
   "id": "4f178f7c",
   "metadata": {},
   "outputs": [],
   "source": [
    "# Code No :- 47:-\n",
    "\n",
    "# Let's understand :-\n",
    "\n",
    "# If I have a \"List\" only one element [3].\n",
    "\n",
    "# Just discussed that 2 should be available. It should not be work, but its working even one element, now ?\n",
    "\n",
    "# Here \n",
    "\n",
    "# a = 3\n",
    "# b = ?\n",
    "\n",
    "# \"B\" is not available, but this is a exception, bydefault it is consider that [ b= 0 ]\n",
    "\n",
    "# a = 3\n",
    "# b = 0 - (\" b = 0 Bydefault,if addition or other\")\n",
    "\n",
    "# Incase of Multiple it consider that\n",
    "# a = 3\n",
    "# b = 1  (\" b = 1, bydefault, incase of multiplication(*)\")"
   ]
  },
  {
   "cell_type": "code",
   "execution_count": 28,
   "id": "0167b1ec",
   "metadata": {},
   "outputs": [],
   "source": [
    "l = [3]"
   ]
  },
  {
   "cell_type": "code",
   "execution_count": 29,
   "id": "737a6f43",
   "metadata": {},
   "outputs": [
    {
     "data": {
      "text/plain": [
       "3"
      ]
     },
     "execution_count": 29,
     "metadata": {},
     "output_type": "execute_result"
    }
   ],
   "source": [
    "sum(l)"
   ]
  },
  {
   "cell_type": "code",
   "execution_count": 31,
   "id": "59969c26",
   "metadata": {},
   "outputs": [
    {
     "data": {
      "text/plain": [
       "3"
      ]
     },
     "execution_count": 31,
     "metadata": {},
     "output_type": "execute_result"
    }
   ],
   "source": [
    "# or same outcome is \"3\"\n",
    "\n",
    "reduce(lambda a,b:a*b,l)"
   ]
  },
  {
   "cell_type": "code",
   "execution_count": null,
   "id": "24a508eb",
   "metadata": {},
   "outputs": [],
   "source": []
  },
  {
   "cell_type": "markdown",
   "id": "77f969a2",
   "metadata": {},
   "source": [
    "                                          3.Filter Function"
   ]
  },
  {
   "cell_type": "code",
   "execution_count": null,
   "id": "a5485e18",
   "metadata": {},
   "outputs": [],
   "source": [
    "# Filter Operation :-\n",
    "\n",
    "# It try to filter out the information, it try to filter out dataset, any point of time.\n",
    "\n",
    "# This is where Filter function comes into a picture.\n",
    "\n",
    "# L = [1,2,3,4,4,5,5]"
   ]
  },
  {
   "cell_type": "code",
   "execution_count": 32,
   "id": "c932afc9",
   "metadata": {},
   "outputs": [],
   "source": [
    "# Code No :- 47:-\n",
    "\n",
    "# Let's understand :-\n",
    "\n",
    "\n",
    "                                           # Question :-\n",
    "\n",
    "# Can you please try to filter out data where number are even numbers.I am just looking for Even number only.\n",
    "\n",
    "# list(filter(lambda x : x%2==0,l))\n",
    "\n",
    "# outcome is - [2, 4]\n",
    "\n",
    "# Loop, if statement, where we use & find the outcome. Somthing over here in \"Filter\" I am able to do it.\n",
    "\n",
    "# \"Filter\" function does the same thing very first argument is going to be a \"Function\", its can be \"Lambda\" function,\n",
    "\n",
    "# or it can be a \"external function\" as well.\n",
    "\n",
    "# same as \"Map\"  & \"Reduce\" function.\n",
    "\n",
    "# filter(lambda x : x%2,l)\n",
    "# Outcome - <filter at 0x219c64608e0>\n",
    "\n",
    "# list(filter(lambda x : x%2,l))\n",
    "# [1, 3, 45, 5]\n",
    "\n",
    "# May be I can try to write \"Lambda\" I can try to pass information, one by one it will check element wise element,\n",
    "# it will check.\n",
    "\n",
    "# Whenever it going to return \"True\" that element we will going to get back from the function.\n",
    "\n",
    "# Lambda X & I can write the condition X % 2 == 0  x%2 == 0\n",
    "\n",
    "# If we execute it\n",
    "\n",
    "# Outcome is - <filter at 0x219c6443d30>\n",
    "\n",
    "# Now, here if I am going to convert everything into a \"List\".\n",
    "\n",
    "# list(filter(lambda x : x%2,l))\n",
    "\n",
    "# [1, 3, 45, 5]\n",
    "\n",
    "# Why we are getting this outcome.\n",
    "\n",
    "# list(filter(lambda x : x%2==0,l))\n",
    "\n",
    "# Outcome - [2, 4]\n",
    "\n",
    "# Now, we can see our final outcome we got \"Even Number\".\n",
    "\n",
    "# Just Like \"Map Function\", So \"Map\" always try to map the respective operation.\n",
    "\n",
    "# Similar way \"flter\" always look for \"True\" condition.\n",
    "\n",
    "# Whenever it is going to be \"True\" it is going to return that element, whenever it is going to be \"False\" that case not\n",
    "# going to return that element.\n",
    "\n",
    "# "
   ]
  },
  {
   "cell_type": "code",
   "execution_count": 40,
   "id": "648d5977",
   "metadata": {},
   "outputs": [],
   "source": [
    "l = [1,2,3,4,45,5]"
   ]
  },
  {
   "cell_type": "code",
   "execution_count": 41,
   "id": "7649f49a",
   "metadata": {},
   "outputs": [
    {
     "data": {
      "text/plain": [
       "<filter at 0x219c6443d30>"
      ]
     },
     "execution_count": 41,
     "metadata": {},
     "output_type": "execute_result"
    }
   ],
   "source": [
    "filter(lambda x : x%2, l)"
   ]
  },
  {
   "cell_type": "code",
   "execution_count": 42,
   "id": "2e44e6f9",
   "metadata": {},
   "outputs": [
    {
     "data": {
      "text/plain": [
       "[2, 4]"
      ]
     },
     "execution_count": 42,
     "metadata": {},
     "output_type": "execute_result"
    }
   ],
   "source": [
    "list(filter(lambda x : x%2==0,l))"
   ]
  },
  {
   "cell_type": "code",
   "execution_count": 44,
   "id": "38ddf38a",
   "metadata": {},
   "outputs": [
    {
     "data": {
      "text/plain": [
       "<filter at 0x219c64608e0>"
      ]
     },
     "execution_count": 44,
     "metadata": {},
     "output_type": "execute_result"
    }
   ],
   "source": [
    "filter(lambda x : x%2,l)"
   ]
  },
  {
   "cell_type": "code",
   "execution_count": 45,
   "id": "583e56d7",
   "metadata": {},
   "outputs": [
    {
     "data": {
      "text/plain": [
       "[1, 3, 45, 5]"
      ]
     },
     "execution_count": 45,
     "metadata": {},
     "output_type": "execute_result"
    }
   ],
   "source": [
    "list(filter(lambda x : x%2,l))"
   ]
  },
  {
   "cell_type": "code",
   "execution_count": null,
   "id": "5a88991a",
   "metadata": {},
   "outputs": [],
   "source": [
    "# Code No :- 48 :-\n",
    "\n",
    "# Let's understand :-\n",
    "\n",
    "# Let's suppose :-\n",
    "\n",
    "# I can pass the may be a \"external function\". I can write the function, which can return \"True\" or \"False\".\n",
    "\n",
    "# Here, \n",
    "\n",
    "# def check_even(n):\n",
    "#    if n%2 == 0 :\n",
    "#       return True\n",
    "\n",
    "# So, wherever it is going to return \"True\".It will try to give us a dataset.\n",
    "\n",
    "# I can write \"List\"\n",
    "\n",
    "# list(filter(check_even,l))\n",
    "# Outcome - [2, 4]\n",
    "\n",
    "# Are we able to get the same data, I have just passed external function. \n",
    "\n",
    "# Which going to give me as \"True\" or \"False\" \n",
    "\n",
    "# Because, \"True\" & \"False\" required at any point of time.\n",
    "\n",
    "# So, if our return statement is something different accept \"True\" & \"False\". Filter function is not going to work.\n",
    "\n",
    "# Because, \"Filter function\"  always work on the top of \"True\" & \"False\".\n",
    "\n",
    "# Whenever condition will be \"True\" complex problem also, it is suppose to give me a \"True\" & \"False\" at the end of \n",
    "# the day."
   ]
  },
  {
   "cell_type": "code",
   "execution_count": 46,
   "id": "0313f74a",
   "metadata": {},
   "outputs": [],
   "source": [
    "def check_even(n):\n",
    "    if n%2 == 0 :\n",
    "        return True"
   ]
  },
  {
   "cell_type": "code",
   "execution_count": 47,
   "id": "7c6b3085",
   "metadata": {},
   "outputs": [
    {
     "data": {
      "text/plain": [
       "[2, 4]"
      ]
     },
     "execution_count": 47,
     "metadata": {},
     "output_type": "execute_result"
    }
   ],
   "source": [
    "list(filter(check_even,l))"
   ]
  },
  {
   "cell_type": "code",
   "execution_count": null,
   "id": "5618e6d5",
   "metadata": {},
   "outputs": [],
   "source": []
  },
  {
   "cell_type": "code",
   "execution_count": null,
   "id": "de77ab3a",
   "metadata": {},
   "outputs": [],
   "source": []
  },
  {
   "cell_type": "code",
   "execution_count": null,
   "id": "c24fb29e",
   "metadata": {},
   "outputs": [],
   "source": []
  },
  {
   "cell_type": "code",
   "execution_count": null,
   "id": "0f496d9f",
   "metadata": {},
   "outputs": [],
   "source": []
  }
 ],
 "metadata": {
  "kernelspec": {
   "display_name": "Python 3 (ipykernel)",
   "language": "python",
   "name": "python3"
  },
  "language_info": {
   "codemirror_mode": {
    "name": "ipython",
    "version": 3
   },
   "file_extension": ".py",
   "mimetype": "text/x-python",
   "name": "python",
   "nbconvert_exporter": "python",
   "pygments_lexer": "ipython3",
   "version": "3.11.5"
  }
 },
 "nbformat": 4,
 "nbformat_minor": 5
}
