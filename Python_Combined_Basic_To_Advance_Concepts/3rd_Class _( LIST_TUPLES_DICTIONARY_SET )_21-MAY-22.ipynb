{
 "cells": [
  {
   "cell_type": "markdown",
   "id": "81646f0f",
   "metadata": {},
   "source": [
    "                               #21-MAY-22\n",
    "\n",
    "                         3nd Class - \"Python\"\n",
    "        \n",
    "                        \n",
    "                                1.LIST\n",
    "\n",
    "                                2.TUPLES\n",
    "\n",
    "                                3.DICTIONARY\n",
    "\n",
    "                                4.SET"
   ]
  },
  {
   "cell_type": "code",
   "execution_count": null,
   "id": "d1d133bc",
   "metadata": {},
   "outputs": [],
   "source": []
  },
  {
   "cell_type": "markdown",
   "id": "6a524d83",
   "metadata": {},
   "source": [
    "                                   1.LIST"
   ]
  },
  {
   "cell_type": "code",
   "execution_count": 2,
   "id": "cec9116b",
   "metadata": {},
   "outputs": [],
   "source": [
    "# List is very very similar to a string that we have discussed in some way.\n",
    "\n",
    "#Example - Slicing operation, index wise & data extration wise etc alomost same but interm of holding a data a \"List\"\n",
    "\n",
    "#\"LIST\" is little bit difference as compared to \"string\" lets understand.\n",
    "\n",
    "# We can try to store any kind of dataset inside list \"LIST\". we can even store \"LIST\" inside \"LIST\" and many more component\n",
    "\n",
    "# inside single element itself.\n",
    "\n",
    "# In \"LIST\" we can try to go \"List\" in a forward direction as well as in a \"Backward Direction\" depend upon requiredment.\n",
    "\n",
    "#We have dicussed about \"SCALING CONCEPT\" right hand side as well as Left Hand side. Same thing applicable over here in \"LIST\". "
   ]
  },
  {
   "cell_type": "code",
   "execution_count": 117,
   "id": "f79a7bae",
   "metadata": {},
   "outputs": [],
   "source": [
    "l = [1,2,3,4,5, \"vijay\",45.67, True]"
   ]
  },
  {
   "cell_type": "code",
   "execution_count": 118,
   "id": "5d31f81b",
   "metadata": {},
   "outputs": [
    {
     "data": {
      "text/plain": [
       "1"
      ]
     },
     "execution_count": 118,
     "metadata": {},
     "output_type": "execute_result"
    }
   ],
   "source": [
    "l[0]"
   ]
  },
  {
   "cell_type": "code",
   "execution_count": 119,
   "id": "efdd6464",
   "metadata": {},
   "outputs": [
    {
     "data": {
      "text/plain": [
       "True"
      ]
     },
     "execution_count": 119,
     "metadata": {},
     "output_type": "execute_result"
    }
   ],
   "source": [
    "l[-1]"
   ]
  },
  {
   "cell_type": "code",
   "execution_count": 120,
   "id": "04a77d95",
   "metadata": {},
   "outputs": [],
   "source": [
    "# \"LEN Function\"\n",
    "\n",
    "# It help us to find how many elements are available inside a \"LIST\" & with help of it we can to know Total 8 element are\n",
    "\n",
    "# Available inside elements."
   ]
  },
  {
   "cell_type": "code",
   "execution_count": 121,
   "id": "efc55055",
   "metadata": {},
   "outputs": [],
   "source": [
    "l = [1,2,3,4,5, \"vijay\",45.67, True]"
   ]
  },
  {
   "cell_type": "code",
   "execution_count": 122,
   "id": "9f97f67e",
   "metadata": {},
   "outputs": [
    {
     "data": {
      "text/plain": [
       "8"
      ]
     },
     "execution_count": 122,
     "metadata": {},
     "output_type": "execute_result"
    }
   ],
   "source": [
    "len(l)"
   ]
  },
  {
   "cell_type": "code",
   "execution_count": 123,
   "id": "a430eb1d",
   "metadata": {},
   "outputs": [],
   "source": [
    "                            #\"LIST Slicing Operation\"\n",
    "    \n",
    "# Here I am trying to say start from \"0\" & go till index \"5\". This is nothing but  \"LIST SLICING OPERATION\". Start from \n",
    "\n",
    "#(-1) and go till (-5) index same came be done. Same process for both Forward direction & backward direction.\n",
    "\n",
    "#we have written starting point & end point always upper bound going to be Excluded."
   ]
  },
  {
   "cell_type": "code",
   "execution_count": 124,
   "id": "66981e3f",
   "metadata": {},
   "outputs": [],
   "source": [
    "l = [1,2,3,4,5, \"vijay\",45.67, True]"
   ]
  },
  {
   "cell_type": "code",
   "execution_count": 125,
   "id": "c114199e",
   "metadata": {},
   "outputs": [
    {
     "data": {
      "text/plain": [
       "[1, 2, 3, 4, 5]"
      ]
     },
     "execution_count": 125,
     "metadata": {},
     "output_type": "execute_result"
    }
   ],
   "source": [
    "l[0:5]"
   ]
  },
  {
   "cell_type": "code",
   "execution_count": 126,
   "id": "c2d900af",
   "metadata": {},
   "outputs": [],
   "source": [
    "                                  # \"REVERSED OPERATION\" \n",
    "    \n",
    "# 1st code Explain :- By using [::-1] I can reversed entire list. But it is not going to alter the actual one it is unless &\n",
    "#untill we did not going to do a \"Reassignment Operation\".\n",
    "\n",
    "# 2nd line code :- we have list & we are trying to do starting from \"0\" & go till 100 But here we can see 100 is not\n",
    "#available [0:100].\n",
    "\n",
    "#But after execute it not giving any Error because incase of \"SLICING OPERATION\". But Incase of \"INDEX OPERATION\" it is going \n",
    "\n",
    "#to give me an error.We know that \"100\" is not available but still it will perform some short of operation.\n",
    "\n",
    "#3rd Line Code :- L[0:100:2]\n",
    "\n",
    "#Incase of Slicing operation it always takes a \"upper bound\", it takes \"Lower Bound\" & take a Jumps size or step Size.\n",
    "\n",
    "#\"0\" = Is my \"Lower Bound\"\n",
    "\n",
    "#\"100\" = Is my Upper Bound &\n",
    "\n",
    "# \"2\" = Is my step size which I have mention in this particular place.\n",
    "\n",
    "# Once we execute it we are able to extract a dataset one by one."
   ]
  },
  {
   "cell_type": "code",
   "execution_count": 127,
   "id": "113c38bb",
   "metadata": {},
   "outputs": [],
   "source": [
    "l = [1,2,3,4,5, \"vijay\",45.67,True]"
   ]
  },
  {
   "cell_type": "code",
   "execution_count": 128,
   "id": "4714c93b",
   "metadata": {},
   "outputs": [
    {
     "data": {
      "text/plain": [
       "[True, 45.67, 'vijay', 5, 4, 3, 2, 1]"
      ]
     },
     "execution_count": 128,
     "metadata": {},
     "output_type": "execute_result"
    }
   ],
   "source": [
    "l[::-1]"
   ]
  },
  {
   "cell_type": "code",
   "execution_count": 129,
   "id": "06796da3",
   "metadata": {},
   "outputs": [
    {
     "data": {
      "text/plain": [
       "[1, 2, 3, 4, 5, 'vijay', 45.67, True]"
      ]
     },
     "execution_count": 129,
     "metadata": {},
     "output_type": "execute_result"
    }
   ],
   "source": [
    "l[0:100]"
   ]
  },
  {
   "cell_type": "code",
   "execution_count": 130,
   "id": "5ed54d58",
   "metadata": {},
   "outputs": [
    {
     "data": {
      "text/plain": [
       "[1, 3, 5, 45.67]"
      ]
     },
     "execution_count": 130,
     "metadata": {},
     "output_type": "execute_result"
    }
   ],
   "source": [
    "l[0:100:2]"
   ]
  },
  {
   "cell_type": "code",
   "execution_count": 131,
   "id": "282c2882",
   "metadata": {},
   "outputs": [],
   "source": [
    "# 1st Line code :-\n",
    "\n",
    "#Below Code why we are getting an Error, because the region is simple we are saying start from \"0\" go till \"8\" &\n",
    "\n",
    "# Take a Jump of -1 in a negative direction. Simple because of \"CONTRADICTION\" it is not going to give me an any outcome.\n",
    "\n",
    "#2nd Line code :-\n",
    "\n",
    "#It is going to take \"upper Bound\" as a \"Initial Point\". So, \"upper Bound\" is \"0\" zero. It will try to start frm \"0\" & try to\n",
    "\n",
    "#go till \"3\" because my \"Upper Bound\" So whatever elements are avavilable at \"0\" index extract & give it to us."
   ]
  },
  {
   "cell_type": "code",
   "execution_count": 132,
   "id": "344e4462",
   "metadata": {},
   "outputs": [],
   "source": [
    "l = [1,2,3,4,5, \"vijay\",45.67,True]"
   ]
  },
  {
   "cell_type": "code",
   "execution_count": 133,
   "id": "3145225a",
   "metadata": {},
   "outputs": [
    {
     "data": {
      "text/plain": [
       "[]"
      ]
     },
     "execution_count": 133,
     "metadata": {},
     "output_type": "execute_result"
    }
   ],
   "source": [
    "l[0:8:-1]"
   ]
  },
  {
   "cell_type": "code",
   "execution_count": 134,
   "id": "ada5118b",
   "metadata": {},
   "outputs": [
    {
     "data": {
      "text/plain": [
       "[1, 2, 3]"
      ]
     },
     "execution_count": 134,
     "metadata": {},
     "output_type": "execute_result"
    }
   ],
   "source": [
    "l[:3]"
   ]
  },
  {
   "cell_type": "code",
   "execution_count": 135,
   "id": "6c39e6db",
   "metadata": {},
   "outputs": [],
   "source": [
    "# 1st Line Code :-\n",
    "\n",
    "# \"L\" is This is having datatype of \"LIST\" & \"VIJAY\" - This is having datatype of \"STRING\".\n",
    "\n",
    "# If we have datatype mismatched in that case for sure it is going to perform \"Concatenate Operation\" & it is going to give\n",
    "# me an \"Error\"\n",
    "\n",
    "# 2nd Line Code :-\n",
    "\n",
    "# This case what we suppose to do if we \"RAP\" this inside a \"LIST\" & then if we going to perform this operation then\n",
    "\n",
    "# YES it is able to perform a \"Concatenation Operation\". \n",
    "\n",
    "# Note :-  DataType should be same otherwise it is going to give me an issue."
   ]
  },
  {
   "cell_type": "code",
   "execution_count": 136,
   "id": "136def06",
   "metadata": {},
   "outputs": [],
   "source": [
    "l = [1,2,3,4,5, \"vijay\",45.67,True]"
   ]
  },
  {
   "cell_type": "code",
   "execution_count": 137,
   "id": "4763fac9",
   "metadata": {},
   "outputs": [
    {
     "ename": "TypeError",
     "evalue": "can only concatenate list (not \"str\") to list",
     "output_type": "error",
     "traceback": [
      "\u001b[1;31m---------------------------------------------------------------------------\u001b[0m",
      "\u001b[1;31mTypeError\u001b[0m                                 Traceback (most recent call last)",
      "\u001b[1;32m~\\AppData\\Local\\Temp\\ipykernel_7432\\1037179737.py\u001b[0m in \u001b[0;36m<module>\u001b[1;34m\u001b[0m\n\u001b[1;32m----> 1\u001b[1;33m \u001b[0ml\u001b[0m \u001b[1;33m+\u001b[0m \u001b[1;34m\"vijay\"\u001b[0m\u001b[1;33m\u001b[0m\u001b[1;33m\u001b[0m\u001b[0m\n\u001b[0m",
      "\u001b[1;31mTypeError\u001b[0m: can only concatenate list (not \"str\") to list"
     ]
    }
   ],
   "source": [
    "l + \"vijay\""
   ]
  },
  {
   "cell_type": "code",
   "execution_count": 138,
   "id": "0f3858e0",
   "metadata": {},
   "outputs": [
    {
     "data": {
      "text/plain": [
       "[1, 2, 3, 4, 5, 'vijay', 45.67, True, 'vijay']"
      ]
     },
     "execution_count": 138,
     "metadata": {},
     "output_type": "execute_result"
    }
   ],
   "source": [
    "l + [\"vijay\"]"
   ]
  },
  {
   "cell_type": "code",
   "execution_count": 139,
   "id": "b929fe47",
   "metadata": {},
   "outputs": [],
   "source": [
    "# 1st Line code :-\n",
    "\n",
    "# Multiply 2 with \"LIST\" as a outcome it will double the element.\n",
    "\n",
    "# 2nd Line Code :-\n",
    "\n",
    "# If we have a \"LIST\" & we have search something inside it  \"60 in L\". It will give me \"False\"\n",
    "\n",
    "# ere \"IN\" is an Operator which is going to search across a entire \"LIST\".\n",
    "\n",
    "#If data is available inside a Particular \"LIST\" then, it is going to give a \"TRUE\" otherwise it is going to give me a \"FALSE\"\n",
    "\n",
    "#3rdLine Code :-\n",
    "\n",
    "# IF we give \"2 in L\" it is \"True\" statement because \"2\" is available inside my \"LIST\" its a part of \"LIST\".\n"
   ]
  },
  {
   "cell_type": "code",
   "execution_count": 140,
   "id": "37f54c88",
   "metadata": {},
   "outputs": [
    {
     "data": {
      "text/plain": [
       "[1, 2, 3, 4, 5, 'vijay', 45.67, True, 1, 2, 3, 4, 5, 'vijay', 45.67, True]"
      ]
     },
     "execution_count": 140,
     "metadata": {},
     "output_type": "execute_result"
    }
   ],
   "source": [
    "l*2"
   ]
  },
  {
   "cell_type": "code",
   "execution_count": 141,
   "id": "76bd9532",
   "metadata": {},
   "outputs": [
    {
     "data": {
      "text/plain": [
       "[1, 2, 3, 4, 5, 'vijay', 45.67, True]"
      ]
     },
     "execution_count": 141,
     "metadata": {},
     "output_type": "execute_result"
    }
   ],
   "source": [
    "l"
   ]
  },
  {
   "cell_type": "code",
   "execution_count": 142,
   "id": "9967cc20",
   "metadata": {},
   "outputs": [
    {
     "data": {
      "text/plain": [
       "False"
      ]
     },
     "execution_count": 142,
     "metadata": {},
     "output_type": "execute_result"
    }
   ],
   "source": [
    "60 in l"
   ]
  },
  {
   "cell_type": "code",
   "execution_count": 143,
   "id": "b53a6f81",
   "metadata": {},
   "outputs": [
    {
     "data": {
      "text/plain": [
       "True"
      ]
     },
     "execution_count": 143,
     "metadata": {},
     "output_type": "execute_result"
    }
   ],
   "source": [
    "2 in l"
   ]
  },
  {
   "cell_type": "code",
   "execution_count": 144,
   "id": "9798d0e3",
   "metadata": {},
   "outputs": [],
   "source": [
    "                   #\"MAX ( MAXIMUM ) & MIN ( MINIMUM )\"\n",
    "    \n",
    "# 1st Line code :-\n",
    "\n",
    "# Here we got an Error because of we can see here mixed up DataType ( \"integer , Boolen Variable \"String\" etc) because of that\n",
    "#so the operation going to compaarison exach & every element inside a \"List\". So it is not able to do comparison with\n",
    "\n",
    "# \"Str & Int\" As because these are different different datatype.\n",
    "\n",
    "# 2nd Line Code :-\n",
    "\n",
    "# Here this line code we can completely understand incase of numeric value that Maximum is \"6\".\n",
    "\n",
    "# 3rd Line Code :-\n",
    "\n",
    "# In case of String still giving me outcome as a max \"VIJAY\". why Because of outcome giving me on the basis of \n",
    "\n",
    "# \"Alphabetical Order\" So, whatever alphabetical order we are going to follow so basis on that it is going to give me an MAX."
   ]
  },
  {
   "cell_type": "code",
   "execution_count": 145,
   "id": "d82c94a1",
   "metadata": {},
   "outputs": [
    {
     "data": {
      "text/plain": [
       "[1, 2, 3, 4, 5, 'vijay', 45.67, True]"
      ]
     },
     "execution_count": 145,
     "metadata": {},
     "output_type": "execute_result"
    }
   ],
   "source": [
    "l"
   ]
  },
  {
   "cell_type": "code",
   "execution_count": 146,
   "id": "d7de6df7",
   "metadata": {},
   "outputs": [
    {
     "ename": "TypeError",
     "evalue": "'>' not supported between instances of 'str' and 'int'",
     "output_type": "error",
     "traceback": [
      "\u001b[1;31m---------------------------------------------------------------------------\u001b[0m",
      "\u001b[1;31mTypeError\u001b[0m                                 Traceback (most recent call last)",
      "\u001b[1;32m~\\AppData\\Local\\Temp\\ipykernel_7432\\1790536805.py\u001b[0m in \u001b[0;36m<module>\u001b[1;34m\u001b[0m\n\u001b[1;32m----> 1\u001b[1;33m \u001b[0mmax\u001b[0m\u001b[1;33m(\u001b[0m\u001b[0ml\u001b[0m\u001b[1;33m)\u001b[0m\u001b[1;33m\u001b[0m\u001b[1;33m\u001b[0m\u001b[0m\n\u001b[0m",
      "\u001b[1;31mTypeError\u001b[0m: '>' not supported between instances of 'str' and 'int'"
     ]
    }
   ],
   "source": [
    "max(l)"
   ]
  },
  {
   "cell_type": "code",
   "execution_count": 147,
   "id": "2d759724",
   "metadata": {},
   "outputs": [],
   "source": [
    "l1 = [3,4,5,6,6]"
   ]
  },
  {
   "cell_type": "code",
   "execution_count": 148,
   "id": "e48a3db7",
   "metadata": {},
   "outputs": [
    {
     "data": {
      "text/plain": [
       "6"
      ]
     },
     "execution_count": 148,
     "metadata": {},
     "output_type": "execute_result"
    }
   ],
   "source": [
    "max(l1)"
   ]
  },
  {
   "cell_type": "code",
   "execution_count": 149,
   "id": "783bfa85",
   "metadata": {},
   "outputs": [],
   "source": [
    "l2 = [\"vijay\", \"iNeuron\" , \"gurung\"]"
   ]
  },
  {
   "cell_type": "code",
   "execution_count": 150,
   "id": "1c1e4ef9",
   "metadata": {},
   "outputs": [
    {
     "data": {
      "text/plain": [
       "'vijay'"
      ]
     },
     "execution_count": 150,
     "metadata": {},
     "output_type": "execute_result"
    }
   ],
   "source": [
    "max(l2)"
   ]
  },
  {
   "cell_type": "code",
   "execution_count": 151,
   "id": "cefee585",
   "metadata": {},
   "outputs": [],
   "source": [
    "                                  #\"MIN ( MINIMUM )\"\n",
    "    \n",
    "# 1st Line code :-\n",
    "\n",
    "# Here we can see Min is 3.\n",
    "\n",
    "# 2nd Line code :-\n",
    "\n",
    "# Here we are receving outcome as a \"iNeruron\" as a outcome because of \"Alphabetical Order\" Unfortunanality current geeting \n",
    "\n",
    "#outcome as a 'gurung' cross check."
   ]
  },
  {
   "cell_type": "code",
   "execution_count": 152,
   "id": "0443bb32",
   "metadata": {},
   "outputs": [
    {
     "data": {
      "text/plain": [
       "[1, 2, 3, 4, 5, 'vijay', 45.67, True]"
      ]
     },
     "execution_count": 152,
     "metadata": {},
     "output_type": "execute_result"
    }
   ],
   "source": [
    "l"
   ]
  },
  {
   "cell_type": "code",
   "execution_count": 153,
   "id": "8b299bca",
   "metadata": {},
   "outputs": [],
   "source": [
    "l1 = [3,4,5,6,6]"
   ]
  },
  {
   "cell_type": "code",
   "execution_count": 154,
   "id": "8b92c04e",
   "metadata": {},
   "outputs": [
    {
     "data": {
      "text/plain": [
       "3"
      ]
     },
     "execution_count": 154,
     "metadata": {},
     "output_type": "execute_result"
    }
   ],
   "source": [
    "min(l1)"
   ]
  },
  {
   "cell_type": "code",
   "execution_count": 155,
   "id": "4c29cff7",
   "metadata": {},
   "outputs": [],
   "source": [
    "l2 = [\"vijay\",\"iNeuron\",\"gurung\"]"
   ]
  },
  {
   "cell_type": "code",
   "execution_count": 156,
   "id": "dfc1dc3e",
   "metadata": {},
   "outputs": [
    {
     "data": {
      "text/plain": [
       "'gurung'"
      ]
     },
     "execution_count": 156,
     "metadata": {},
     "output_type": "execute_result"
    }
   ],
   "source": [
    "min(l2)"
   ]
  },
  {
   "cell_type": "code",
   "execution_count": 157,
   "id": "20027988",
   "metadata": {},
   "outputs": [],
   "source": [
    "                           # \"LIST\" - FUNCTION\n",
    "    \n",
    "# Below we have inbuild function which is availale, we are going to utilized it one by one."
   ]
  },
  {
   "cell_type": "markdown",
   "id": "7f0e42a3",
   "metadata": {},
   "source": [
    "1.Append\n",
    "\n",
    "2.Clear\n",
    "\n",
    "3.Copy\n",
    "\n",
    "4.Count\n",
    "\n",
    "5.Extend\n",
    "\n",
    "6.Index\n",
    "\n",
    "7.Insert\n",
    "\n",
    "8.Pop\n",
    "\n",
    "9.Remove\n",
    "\n",
    "10.Reverse\n",
    "\n",
    "11.Sort\n",
    "\n",
    "12.Count"
   ]
  },
  {
   "cell_type": "code",
   "execution_count": null,
   "id": "89185e35",
   "metadata": {},
   "outputs": [],
   "source": []
  },
  {
   "cell_type": "code",
   "execution_count": 158,
   "id": "6eacd940",
   "metadata": {},
   "outputs": [],
   "source": [
    "l = [1,2,3,4,5, \"vijay\",45.67,True]"
   ]
  },
  {
   "cell_type": "code",
   "execution_count": 159,
   "id": "e1b8ba21",
   "metadata": {},
   "outputs": [],
   "source": [
    "                                         # 1.Append - Funtion\n",
    "    \n",
    "# Definition :-  \"APPEND\" - Append object to the end of the \"List\"\n",
    "\n",
    "# So, I am going to \"APPEND\" a \"List\" as well. I am going to pass another \"LIST\" inside these operation [1,2,3,4]\n",
    "\n",
    "#As a outcome we can see it \"Append\" \"List\" inside \"List\". So whatever elementsI am going to pass inside a \"APPEND\"\n",
    "\n",
    "# that particular element at the end of the existing \"List\" that we have.\n",
    "\n",
    "# Here in this code I have APPEND \"string\" inside \"List opeartion as a \"gurung\" & I have APPEND List operation inside \"List\"\n",
    "\n",
    "# as [1,2,3,4] \"APPEND\" ( \"LIST inside LIST\") at the end."
   ]
  },
  {
   "cell_type": "code",
   "execution_count": 160,
   "id": "a29051f5",
   "metadata": {},
   "outputs": [],
   "source": [
    "l = [1,2,3,4,5, \"vijay\",45.67,True]"
   ]
  },
  {
   "cell_type": "code",
   "execution_count": 161,
   "id": "769eeee9",
   "metadata": {},
   "outputs": [],
   "source": [
    "l.append(\"gurung\")"
   ]
  },
  {
   "cell_type": "code",
   "execution_count": 162,
   "id": "79cdc6f0",
   "metadata": {},
   "outputs": [
    {
     "data": {
      "text/plain": [
       "[1, 2, 3, 4, 5, 'vijay', 45.67, True, 'gurung']"
      ]
     },
     "execution_count": 162,
     "metadata": {},
     "output_type": "execute_result"
    }
   ],
   "source": [
    "l"
   ]
  },
  {
   "cell_type": "code",
   "execution_count": 163,
   "id": "b636a02d",
   "metadata": {},
   "outputs": [
    {
     "data": {
      "text/plain": [
       "[1, 2, 3, 4, 5, 'vijay', 45.67, True, 'gurung']"
      ]
     },
     "execution_count": 163,
     "metadata": {},
     "output_type": "execute_result"
    }
   ],
   "source": [
    "[1, 2, 3, 4, 5, 'vijay', 45.67, True, 'gurung']"
   ]
  },
  {
   "cell_type": "code",
   "execution_count": 164,
   "id": "52cfc6dd",
   "metadata": {},
   "outputs": [],
   "source": [
    "l.append([1,2,3,4])"
   ]
  },
  {
   "cell_type": "code",
   "execution_count": 165,
   "id": "7f881b41",
   "metadata": {},
   "outputs": [
    {
     "data": {
      "text/plain": [
       "[1, 2, 3, 4, 5, 'vijay', 45.67, True, 'gurung', [1, 2, 3, 4]]"
      ]
     },
     "execution_count": 165,
     "metadata": {},
     "output_type": "execute_result"
    }
   ],
   "source": [
    "l"
   ]
  },
  {
   "cell_type": "code",
   "execution_count": 166,
   "id": "1a58194a",
   "metadata": {},
   "outputs": [],
   "source": [
    "                                        # 8.Pop  - Funtion\n",
    "    \n",
    "# POP :- Definition :- If we does not mention any index inside \"POP\" () then automatically or bydefault it start removing data\n",
    "#from very Last index.\n",
    "\n",
    "# IF we mention index number \"pop\"( 0, 1 or 2 anything ) it start removing or delete that mention data from \"LIST\".\n"
   ]
  },
  {
   "cell_type": "code",
   "execution_count": 167,
   "id": "e8dc52e3",
   "metadata": {},
   "outputs": [],
   "source": [
    "l = [1, 2, 3, 4, 5, 'vijay', 45.67, True, 'gurung', [1, 2, 3, 4]]"
   ]
  },
  {
   "cell_type": "code",
   "execution_count": 168,
   "id": "eb877f88",
   "metadata": {},
   "outputs": [
    {
     "data": {
      "text/plain": [
       "[1, 2, 3, 4, 5, 'vijay', 45.67, True, 'gurung', [1, 2, 3, 4]]"
      ]
     },
     "execution_count": 168,
     "metadata": {},
     "output_type": "execute_result"
    }
   ],
   "source": [
    "l"
   ]
  },
  {
   "cell_type": "code",
   "execution_count": 169,
   "id": "e9fb22e1",
   "metadata": {},
   "outputs": [
    {
     "data": {
      "text/plain": [
       "[1, 2, 3, 4]"
      ]
     },
     "execution_count": 169,
     "metadata": {},
     "output_type": "execute_result"
    }
   ],
   "source": [
    "l.pop()"
   ]
  },
  {
   "cell_type": "code",
   "execution_count": 170,
   "id": "65ffeb94",
   "metadata": {},
   "outputs": [
    {
     "data": {
      "text/plain": [
       "[1, 2, 3, 4, 5, 'vijay', 45.67, True, 'gurung']"
      ]
     },
     "execution_count": 170,
     "metadata": {},
     "output_type": "execute_result"
    }
   ],
   "source": [
    "l"
   ]
  },
  {
   "cell_type": "code",
   "execution_count": 171,
   "id": "e0e6ee05",
   "metadata": {},
   "outputs": [
    {
     "data": {
      "text/plain": [
       "1"
      ]
     },
     "execution_count": 171,
     "metadata": {},
     "output_type": "execute_result"
    }
   ],
   "source": [
    "l.pop(0)"
   ]
  },
  {
   "cell_type": "code",
   "execution_count": 172,
   "id": "4af5f16c",
   "metadata": {},
   "outputs": [
    {
     "data": {
      "text/plain": [
       "[2, 3, 4, 5, 'vijay', 45.67, True, 'gurung']"
      ]
     },
     "execution_count": 172,
     "metadata": {},
     "output_type": "execute_result"
    }
   ],
   "source": [
    "l"
   ]
  },
  {
   "cell_type": "code",
   "execution_count": 173,
   "id": "1edada6b",
   "metadata": {},
   "outputs": [],
   "source": [
    "                                     #10.Reverse Function\n",
    "    \n",
    "# Reverse :-  Deifinition :- Difference between Both \"Reverse\" -  1.L.reverse() and 2. [::-1]\n",
    "\n",
    "#1.L.reverse() -  when we call this reverse function it permanently it is going to changeses.Reverse function always try to \n",
    "\n",
    "# reverse operation permanently in a particular \"LIST\" element which we have.\n",
    "\n",
    "#2. [::-1] - Here it is try to reverse operation in a run time so that the region it is going to do a reversed opeartion\n",
    "\n",
    "# permanently, it is not going to changes anything in my existing\"List\" or existing variable.\n"
   ]
  },
  {
   "cell_type": "code",
   "execution_count": 174,
   "id": "78c83c8b",
   "metadata": {},
   "outputs": [
    {
     "data": {
      "text/plain": [
       "[2, 3, 4, 5, 'vijay', 45.67, True, 'gurung']"
      ]
     },
     "execution_count": 174,
     "metadata": {},
     "output_type": "execute_result"
    }
   ],
   "source": [
    "l"
   ]
  },
  {
   "cell_type": "code",
   "execution_count": 175,
   "id": "b109d074",
   "metadata": {},
   "outputs": [],
   "source": [
    "l.reverse()"
   ]
  },
  {
   "cell_type": "code",
   "execution_count": 176,
   "id": "2464041d",
   "metadata": {},
   "outputs": [
    {
     "data": {
      "text/plain": [
       "['gurung', True, 45.67, 'vijay', 5, 4, 3, 2]"
      ]
     },
     "execution_count": 176,
     "metadata": {},
     "output_type": "execute_result"
    }
   ],
   "source": [
    "l"
   ]
  },
  {
   "cell_type": "code",
   "execution_count": 177,
   "id": "6645816e",
   "metadata": {},
   "outputs": [],
   "source": [
    "l = [2, 3, 4, 5, 'vijay', 45.67, True, 'gurung']"
   ]
  },
  {
   "cell_type": "code",
   "execution_count": 178,
   "id": "db2e26a1",
   "metadata": {},
   "outputs": [
    {
     "data": {
      "text/plain": [
       "[2, 3, 4, 5, 'vijay', 45.67, True, 'gurung']"
      ]
     },
     "execution_count": 178,
     "metadata": {},
     "output_type": "execute_result"
    }
   ],
   "source": [
    "l"
   ]
  },
  {
   "cell_type": "code",
   "execution_count": 179,
   "id": "c2e8034b",
   "metadata": {},
   "outputs": [
    {
     "data": {
      "text/plain": [
       "['gurung', True, 45.67, 'vijay', 5, 4, 3, 2]"
      ]
     },
     "execution_count": 179,
     "metadata": {},
     "output_type": "execute_result"
    }
   ],
   "source": [
    "l[::-1]"
   ]
  },
  {
   "cell_type": "code",
   "execution_count": 180,
   "id": "5624b9bc",
   "metadata": {},
   "outputs": [],
   "source": [
    "                                 #11.Sort Function\n",
    "    \n",
    "#Sort :-  \"Sort\" the List in Ascending order & return None.\n",
    "\n",
    "#Here if we are tying to perform a \"Sort Operation\" with respect to this existing \"List\" it will not work it will give me\n",
    "\n",
    "#some sort of Error.\n",
    "\n",
    "#Here I am not able to comparison between \"str\" & \"int\". Same issue we have faced with \"MAX & MIN\"\n",
    "\n",
    "# If we would like to perform some short operation where we are loking for each & every things in ascending order & \n",
    "\n",
    "# Decending order. \"Yes\" we can do that with the help of Short operation.\n",
    "\n",
    "# Note :- \n",
    " \n",
    "# L3 = [8,98,34,23,1,0] \"List \" we have Here this code we have done \"Ascending order & Decending Order\" sorted.\n",
    "\n",
    "# FOr Asscending order - ( L3.sort() ) /  For Decending Order - ( L3.sort(reverse = True) )\n",
    "\n"
   ]
  },
  {
   "cell_type": "code",
   "execution_count": 181,
   "id": "0605bd0d",
   "metadata": {},
   "outputs": [
    {
     "data": {
      "text/plain": [
       "[2, 3, 4, 5, 'vijay', 45.67, True, 'gurung']"
      ]
     },
     "execution_count": 181,
     "metadata": {},
     "output_type": "execute_result"
    }
   ],
   "source": [
    "l"
   ]
  },
  {
   "cell_type": "code",
   "execution_count": 182,
   "id": "2ce4c4d2",
   "metadata": {},
   "outputs": [
    {
     "ename": "TypeError",
     "evalue": "'<' not supported between instances of 'str' and 'int'",
     "output_type": "error",
     "traceback": [
      "\u001b[1;31m---------------------------------------------------------------------------\u001b[0m",
      "\u001b[1;31mTypeError\u001b[0m                                 Traceback (most recent call last)",
      "\u001b[1;32m~\\AppData\\Local\\Temp\\ipykernel_7432\\4149526160.py\u001b[0m in \u001b[0;36m<module>\u001b[1;34m\u001b[0m\n\u001b[1;32m----> 1\u001b[1;33m \u001b[0ml\u001b[0m\u001b[1;33m.\u001b[0m\u001b[0msort\u001b[0m\u001b[1;33m(\u001b[0m\u001b[1;33m)\u001b[0m\u001b[1;33m\u001b[0m\u001b[1;33m\u001b[0m\u001b[0m\n\u001b[0m",
      "\u001b[1;31mTypeError\u001b[0m: '<' not supported between instances of 'str' and 'int'"
     ]
    }
   ],
   "source": [
    "l.sort()"
   ]
  },
  {
   "cell_type": "code",
   "execution_count": 183,
   "id": "e1022407",
   "metadata": {},
   "outputs": [
    {
     "data": {
      "text/plain": [
       "[3, 4, 5, 6, 6]"
      ]
     },
     "execution_count": 183,
     "metadata": {},
     "output_type": "execute_result"
    }
   ],
   "source": [
    "l1"
   ]
  },
  {
   "cell_type": "code",
   "execution_count": 184,
   "id": "7c244a13",
   "metadata": {},
   "outputs": [],
   "source": [
    "l1.sort()"
   ]
  },
  {
   "cell_type": "code",
   "execution_count": 185,
   "id": "c030395b",
   "metadata": {},
   "outputs": [
    {
     "data": {
      "text/plain": [
       "[2, 3, 4, 5, 'vijay', 45.67, True, 'gurung']"
      ]
     },
     "execution_count": 185,
     "metadata": {},
     "output_type": "execute_result"
    }
   ],
   "source": [
    "l"
   ]
  },
  {
   "cell_type": "code",
   "execution_count": 186,
   "id": "6b7d81d5",
   "metadata": {},
   "outputs": [],
   "source": [
    "l3 = [8,98,34,23,1,0]"
   ]
  },
  {
   "cell_type": "code",
   "execution_count": 187,
   "id": "b828ef0b",
   "metadata": {},
   "outputs": [],
   "source": [
    "l3.sort()"
   ]
  },
  {
   "cell_type": "code",
   "execution_count": 188,
   "id": "7b0b9b79",
   "metadata": {},
   "outputs": [
    {
     "data": {
      "text/plain": [
       "[0, 1, 8, 23, 34, 98]"
      ]
     },
     "execution_count": 188,
     "metadata": {},
     "output_type": "execute_result"
    }
   ],
   "source": [
    "l3"
   ]
  },
  {
   "cell_type": "code",
   "execution_count": 189,
   "id": "cb3af808",
   "metadata": {},
   "outputs": [],
   "source": [
    "l3.sort(reverse = True)"
   ]
  },
  {
   "cell_type": "code",
   "execution_count": 190,
   "id": "25d7b013",
   "metadata": {},
   "outputs": [
    {
     "data": {
      "text/plain": [
       "[98, 34, 23, 8, 1, 0]"
      ]
     },
     "execution_count": 190,
     "metadata": {},
     "output_type": "execute_result"
    }
   ],
   "source": [
    "l3"
   ]
  },
  {
   "cell_type": "code",
   "execution_count": 191,
   "id": "31977128",
   "metadata": {},
   "outputs": [],
   "source": [
    "                                  #\"LIST inside \"LIST\"\n",
    "    \n",
    "# Yes we can hold entire List in a Single \"LIST\"  As many as List in one Single \"LIST\"\n",
    "\n",
    "#1. [2, 3, 4] = 0\n",
    "\n",
    "#2. [6, 7, 8] = 1\n",
    "\n",
    "#3. [3, 2, 4] = 2"
   ]
  },
  {
   "cell_type": "code",
   "execution_count": 192,
   "id": "67539432",
   "metadata": {},
   "outputs": [],
   "source": [
    "l1 = [2,3,4]\n",
    "l2 = [6,7,8]\n",
    "l3 = [3,2,4]"
   ]
  },
  {
   "cell_type": "code",
   "execution_count": 193,
   "id": "38361866",
   "metadata": {},
   "outputs": [],
   "source": [
    "l4 = [l1,l2,l3]"
   ]
  },
  {
   "cell_type": "code",
   "execution_count": 194,
   "id": "4c39ca25",
   "metadata": {},
   "outputs": [
    {
     "data": {
      "text/plain": [
       "[[2, 3, 4], [6, 7, 8], [3, 2, 4]]"
      ]
     },
     "execution_count": 194,
     "metadata": {},
     "output_type": "execute_result"
    }
   ],
   "source": [
    "l4"
   ]
  },
  {
   "cell_type": "code",
   "execution_count": 195,
   "id": "1936b335",
   "metadata": {},
   "outputs": [],
   "source": [
    "# Question :-  Here Let's suppose question is extract the 2 from the \"LIST\". [[2, 3, 4], [6, 7, 8], [3, 2, 4]].\n",
    "\n",
    "# To do these task we have to do \" Indexing Operation \" to extract this 2 from this List."
   ]
  },
  {
   "cell_type": "code",
   "execution_count": 196,
   "id": "e8f9df07",
   "metadata": {},
   "outputs": [
    {
     "data": {
      "text/plain": [
       "[[2, 3, 4], [6, 7, 8], [3, 2, 4]]"
      ]
     },
     "execution_count": 196,
     "metadata": {},
     "output_type": "execute_result"
    }
   ],
   "source": [
    "l4"
   ]
  },
  {
   "cell_type": "code",
   "execution_count": 197,
   "id": "7a791e32",
   "metadata": {},
   "outputs": [
    {
     "data": {
      "text/plain": [
       "[3, 2, 4]"
      ]
     },
     "execution_count": 197,
     "metadata": {},
     "output_type": "execute_result"
    }
   ],
   "source": [
    "l4[2]"
   ]
  },
  {
   "cell_type": "code",
   "execution_count": 198,
   "id": "dfd12f82",
   "metadata": {},
   "outputs": [],
   "source": [
    "# Question :- Now extract the 2 from these Line code List [3, 2, 4] Same method [1] bacause ( [3,2,4] 0,1,2 )\n"
   ]
  },
  {
   "cell_type": "code",
   "execution_count": 199,
   "id": "c97a397d",
   "metadata": {},
   "outputs": [
    {
     "data": {
      "text/plain": [
       "[3, 2, 4]"
      ]
     },
     "execution_count": 199,
     "metadata": {},
     "output_type": "execute_result"
    }
   ],
   "source": [
    "l4[2]"
   ]
  },
  {
   "cell_type": "code",
   "execution_count": 200,
   "id": "23882b56",
   "metadata": {},
   "outputs": [
    {
     "data": {
      "text/plain": [
       "2"
      ]
     },
     "execution_count": 200,
     "metadata": {},
     "output_type": "execute_result"
    }
   ],
   "source": [
    "l4[2][1]"
   ]
  },
  {
   "cell_type": "code",
   "execution_count": 208,
   "id": "7f700c16",
   "metadata": {},
   "outputs": [],
   "source": [
    "                                     #12.Count - Function\n",
    "    \n",
    "# What count does is that.If we call count operation does let suppose I am going to call count (2) So it will going to check\n",
    "\n",
    "# the whole \"LIST\"  how many times 2 is available so total 1 times 2 is available.So my outcome is 1.\n",
    "\n",
    "#l5 = [3,4,5,3,3,3] this line code how many times 3 available count (3). So 4 times 3 available."
   ]
  },
  {
   "cell_type": "code",
   "execution_count": 209,
   "id": "688a7cc0",
   "metadata": {},
   "outputs": [
    {
     "data": {
      "text/plain": [
       "[2, 3, 4, 5, 'vijay', 45.67, True, 'gurung']"
      ]
     },
     "execution_count": 209,
     "metadata": {},
     "output_type": "execute_result"
    }
   ],
   "source": [
    "l"
   ]
  },
  {
   "cell_type": "code",
   "execution_count": 210,
   "id": "572ef722",
   "metadata": {},
   "outputs": [
    {
     "data": {
      "text/plain": [
       "1"
      ]
     },
     "execution_count": 210,
     "metadata": {},
     "output_type": "execute_result"
    }
   ],
   "source": [
    "l.count(2)"
   ]
  },
  {
   "cell_type": "code",
   "execution_count": 211,
   "id": "e2e8fab0",
   "metadata": {},
   "outputs": [],
   "source": [
    "l5 = [3,4,5,3,3,3]"
   ]
  },
  {
   "cell_type": "code",
   "execution_count": 212,
   "id": "c1530e8f",
   "metadata": {},
   "outputs": [
    {
     "data": {
      "text/plain": [
       "4"
      ]
     },
     "execution_count": 212,
     "metadata": {},
     "output_type": "execute_result"
    }
   ],
   "source": [
    "l5.count(3)"
   ]
  },
  {
   "cell_type": "code",
   "execution_count": 217,
   "id": "fc67f40a",
   "metadata": {},
   "outputs": [],
   "source": [
    "                                      #1.Append - Function\n",
    "    \n",
    "# In these \"Append\" operation we can see we called \"Append\" operation what it does is that it added that new word\n",
    "\n",
    "# Or It going to \"Append\" data at the end of the \"LIST\""
   ]
  },
  {
   "cell_type": "code",
   "execution_count": 214,
   "id": "cdcfdc79",
   "metadata": {},
   "outputs": [
    {
     "data": {
      "text/plain": [
       "[2, 3, 4, 5, 'vijay', 45.67, True, 'gurung']"
      ]
     },
     "execution_count": 214,
     "metadata": {},
     "output_type": "execute_result"
    }
   ],
   "source": [
    "l"
   ]
  },
  {
   "cell_type": "code",
   "execution_count": 215,
   "id": "803ce093",
   "metadata": {},
   "outputs": [],
   "source": [
    "l.append(\"Ineuron\")"
   ]
  },
  {
   "cell_type": "code",
   "execution_count": 216,
   "id": "10c998b0",
   "metadata": {},
   "outputs": [
    {
     "data": {
      "text/plain": [
       "[2, 3, 4, 5, 'vijay', 45.67, True, 'gurung', 'Ineuron']"
      ]
     },
     "execution_count": 216,
     "metadata": {},
     "output_type": "execute_result"
    }
   ],
   "source": [
    "l"
   ]
  },
  {
   "cell_type": "code",
   "execution_count": 218,
   "id": "ab5ef954",
   "metadata": {},
   "outputs": [],
   "source": [
    "l.append([4,5,6,\"vijay\"])"
   ]
  },
  {
   "cell_type": "code",
   "execution_count": 219,
   "id": "39a7e522",
   "metadata": {},
   "outputs": [
    {
     "data": {
      "text/plain": [
       "[2, 3, 4, 5, 'vijay', 45.67, True, 'gurung', 'Ineuron', [4, 5, 6, 'vijay']]"
      ]
     },
     "execution_count": 219,
     "metadata": {},
     "output_type": "execute_result"
    }
   ],
   "source": [
    "l"
   ]
  },
  {
   "cell_type": "code",
   "execution_count": 220,
   "id": "0c261fc3",
   "metadata": {},
   "outputs": [],
   "source": [
    "                                   #5.Extend - Function\n"
   ]
  },
  {
   "cell_type": "code",
   "execution_count": 221,
   "id": "8695e1a3",
   "metadata": {},
   "outputs": [
    {
     "data": {
      "text/plain": [
       "[2, 3, 4, 5, 'vijay', 45.67, True, 'gurung', 'Ineuron', [4, 5, 6, 'vijay']]"
      ]
     },
     "execution_count": 221,
     "metadata": {},
     "output_type": "execute_result"
    }
   ],
   "source": [
    "l"
   ]
  },
  {
   "cell_type": "code",
   "execution_count": 222,
   "id": "5741b6a5",
   "metadata": {},
   "outputs": [],
   "source": [
    "l.extend(\"vijay\")"
   ]
  },
  {
   "cell_type": "code",
   "execution_count": 223,
   "id": "7ca47782",
   "metadata": {},
   "outputs": [
    {
     "data": {
      "text/plain": [
       "[2,\n",
       " 3,\n",
       " 4,\n",
       " 5,\n",
       " 'vijay',\n",
       " 45.67,\n",
       " True,\n",
       " 'gurung',\n",
       " 'Ineuron',\n",
       " [4, 5, 6, 'vijay'],\n",
       " 'v',\n",
       " 'i',\n",
       " 'j',\n",
       " 'a',\n",
       " 'y']"
      ]
     },
     "execution_count": 223,
     "metadata": {},
     "output_type": "execute_result"
    }
   ],
   "source": [
    "l"
   ]
  },
  {
   "cell_type": "code",
   "execution_count": 240,
   "id": "dcebee1a",
   "metadata": {},
   "outputs": [],
   "source": [
    "                  # Difference between \"Append\" & \"Extend\" \n",
    "    \n",
    "# \"List\" element [4,5,6]\n",
    "\n",
    "# \"String\" Element [\"vijay\"]\n",
    "\n",
    "# Extend if I will write Extend(45) then it will give me \"Error\" because I am trying to pass single element (45). I am not able\n",
    "\n",
    "# to add these particular element inside a existing one.\n",
    "\n",
    "# [1, 2, 3, [4, 5, 6]] Here this code where I have \"Append\" a \"List\" [4,5,6]\n",
    "\n",
    "# [ 56, 34, 21] - this code I am trying to perform a \"Extend Operation\". Similar to \"Append\" operation where I am trying\n",
    "\n",
    "# to insert a dataset into my existing \"List\"\n",
    "\n",
    "\n",
    "                                        # \"APPEND\"\n",
    "    \n",
    "# If it is integer(int) it will try to \"Append\" as a integer.\n",
    "                      #If it is a \"String\" it is try to \"Append\" as a String.This is what \"Append\" does.\n",
    "    \n",
    "    \n",
    "                                        # \"EXTEND\"\n",
    "        \n",
    "# Extend will try to 1st of all unwrap the \"List\" one by one, it will try to take out the dataset. ([56,34,21]).\n",
    "\n",
    "# 1st of all it will try to take out \"56\" added, then it will try to take out \"34\" added, then t will try to take out \"21\" added\n",
    "\n",
    "#So, it will not going to add entire ([56,34,21]) \"LIST\"\n",
    "\n",
    "# But it will going to add \"List\" element in these particular case.\n",
    "\n",
    "# In \"Extend Operation\" if we want to extract \"vijay\" then internally it will extract \"v\" & then \"i\" then \"j\" then \"a\"\n",
    "\n",
    "# \"y\" this way it will going to perform internally."
   ]
  },
  {
   "cell_type": "code",
   "execution_count": 229,
   "id": "283284ec",
   "metadata": {},
   "outputs": [],
   "source": [
    "l6 = [1,2,3]"
   ]
  },
  {
   "cell_type": "code",
   "execution_count": 231,
   "id": "7e8da4b5",
   "metadata": {},
   "outputs": [],
   "source": [
    "l6.append([4,5,6])"
   ]
  },
  {
   "cell_type": "code",
   "execution_count": 232,
   "id": "7300fa21",
   "metadata": {},
   "outputs": [
    {
     "data": {
      "text/plain": [
       "[1, 2, 3, [4, 5, 6]]"
      ]
     },
     "execution_count": 232,
     "metadata": {},
     "output_type": "execute_result"
    }
   ],
   "source": [
    "l6"
   ]
  },
  {
   "cell_type": "code",
   "execution_count": 233,
   "id": "b2245a31",
   "metadata": {},
   "outputs": [],
   "source": [
    "l6.append(\"vijay\")"
   ]
  },
  {
   "cell_type": "code",
   "execution_count": 234,
   "id": "78e4f88b",
   "metadata": {},
   "outputs": [
    {
     "data": {
      "text/plain": [
       "[1, 2, 3, [4, 5, 6], 'vijay']"
      ]
     },
     "execution_count": 234,
     "metadata": {},
     "output_type": "execute_result"
    }
   ],
   "source": [
    "l6"
   ]
  },
  {
   "cell_type": "code",
   "execution_count": 235,
   "id": "51533210",
   "metadata": {},
   "outputs": [
    {
     "ename": "TypeError",
     "evalue": "'int' object is not iterable",
     "output_type": "error",
     "traceback": [
      "\u001b[1;31m---------------------------------------------------------------------------\u001b[0m",
      "\u001b[1;31mTypeError\u001b[0m                                 Traceback (most recent call last)",
      "\u001b[1;32m~\\AppData\\Local\\Temp\\ipykernel_7432\\3761217359.py\u001b[0m in \u001b[0;36m<module>\u001b[1;34m\u001b[0m\n\u001b[1;32m----> 1\u001b[1;33m \u001b[0ml6\u001b[0m\u001b[1;33m.\u001b[0m\u001b[0mextend\u001b[0m\u001b[1;33m(\u001b[0m\u001b[1;36m45\u001b[0m\u001b[1;33m)\u001b[0m\u001b[1;33m\u001b[0m\u001b[1;33m\u001b[0m\u001b[0m\n\u001b[0m",
      "\u001b[1;31mTypeError\u001b[0m: 'int' object is not iterable"
     ]
    }
   ],
   "source": [
    "l6.extend(45)"
   ]
  },
  {
   "cell_type": "code",
   "execution_count": 236,
   "id": "e0850a10",
   "metadata": {},
   "outputs": [],
   "source": [
    "l6.append(45)"
   ]
  },
  {
   "cell_type": "code",
   "execution_count": 237,
   "id": "e8164646",
   "metadata": {},
   "outputs": [
    {
     "data": {
      "text/plain": [
       "[1, 2, 3, [4, 5, 6], 'vijay', 45]"
      ]
     },
     "execution_count": 237,
     "metadata": {},
     "output_type": "execute_result"
    }
   ],
   "source": [
    "l6"
   ]
  },
  {
   "cell_type": "code",
   "execution_count": 238,
   "id": "152272ac",
   "metadata": {},
   "outputs": [],
   "source": [
    "l6.extend([56,34,21])"
   ]
  },
  {
   "cell_type": "code",
   "execution_count": 239,
   "id": "86d58889",
   "metadata": {},
   "outputs": [
    {
     "data": {
      "text/plain": [
       "[1, 2, 3, [4, 5, 6], 'vijay', 45, 56, 34, 21]"
      ]
     },
     "execution_count": 239,
     "metadata": {},
     "output_type": "execute_result"
    }
   ],
   "source": [
    "l6"
   ]
  },
  {
   "cell_type": "code",
   "execution_count": 241,
   "id": "6718d2bd",
   "metadata": {},
   "outputs": [],
   "source": [
    "                                       #6.Index - Function\n",
    "    \n",
    "# \"INDEX\" - Here it let support I called index(6) it will check where is index(6) is available at \n",
    "\n",
    " #0,1,2,3,4,5,6,7\n",
    " #1,2,3,4,55,6,6,7\n",
    "\n",
    "\n",
    "#Note :-  Let suppose \"1\" is available multiple timess in that case it will always try to return index of the very first\n",
    "\n",
    "#occurance it is not going to return index of all the occurance which is available inside my dataset.\n",
    "\n",
    "# L7 = [1,2,3,1,55,6,1,6,17]  \n"
   ]
  },
  {
   "cell_type": "code",
   "execution_count": 242,
   "id": "e58bb108",
   "metadata": {},
   "outputs": [],
   "source": [
    "l7 = [1,2,3,4,5,5,6,6,7]"
   ]
  },
  {
   "cell_type": "code",
   "execution_count": 243,
   "id": "79f28cda",
   "metadata": {},
   "outputs": [
    {
     "data": {
      "text/plain": [
       "0"
      ]
     },
     "execution_count": 243,
     "metadata": {},
     "output_type": "execute_result"
    }
   ],
   "source": [
    "l7.index(1)"
   ]
  },
  {
   "cell_type": "code",
   "execution_count": 244,
   "id": "0f4fd8c4",
   "metadata": {},
   "outputs": [],
   "source": [
    "l7 = [1,2,3,4,55,6,6,7]"
   ]
  },
  {
   "cell_type": "code",
   "execution_count": 245,
   "id": "ee904ad1",
   "metadata": {},
   "outputs": [
    {
     "data": {
      "text/plain": [
       "5"
      ]
     },
     "execution_count": 245,
     "metadata": {},
     "output_type": "execute_result"
    }
   ],
   "source": [
    "l7.index(6)"
   ]
  },
  {
   "cell_type": "code",
   "execution_count": 246,
   "id": "1c407fdd",
   "metadata": {},
   "outputs": [],
   "source": [
    "l7 = [1,2,3,1,55,6,1,6,17] "
   ]
  },
  {
   "cell_type": "code",
   "execution_count": 247,
   "id": "261d2f9d",
   "metadata": {},
   "outputs": [
    {
     "data": {
      "text/plain": [
       "0"
      ]
     },
     "execution_count": 247,
     "metadata": {},
     "output_type": "execute_result"
    }
   ],
   "source": [
    "l7.index(1)"
   ]
  },
  {
   "cell_type": "code",
   "execution_count": 248,
   "id": "cf6ae458",
   "metadata": {},
   "outputs": [],
   "source": [
    "                                          #7.Insert - Function\n",
    "    \n",
    "# insert Operation - \n",
    "\n",
    "# Insert will going to asked question is that \n",
    "\n",
    "# where you would like to insert\n",
    "\n",
    "# What you would like to insert. These are two things that we can pass inside the \"Insert\".\n",
    "\n",
    "# Let suppose I have a \"List\" [1,2,3,4,5,45]. I would like to insert some of the data inbetween [1_2_3_4_5].Yes this is \n",
    "\n",
    "# Possible with the help of \"Insert operation\".We can insert dataset wherever we want with help of \"Insert\".\n",
    "\n",
    "# With the help of \"Append\" operation It is not possible, beacuse \"Append\" always going to add dataset at the end."
   ]
  },
  {
   "cell_type": "code",
   "execution_count": 250,
   "id": "71cec993",
   "metadata": {},
   "outputs": [],
   "source": [
    "l = [1,2,3,4,5]"
   ]
  },
  {
   "cell_type": "code",
   "execution_count": 251,
   "id": "35062401",
   "metadata": {},
   "outputs": [],
   "source": [
    "l.append(45)"
   ]
  },
  {
   "cell_type": "code",
   "execution_count": 253,
   "id": "47e0ef5c",
   "metadata": {},
   "outputs": [
    {
     "data": {
      "text/plain": [
       "[1, 2, 3, 4, 5, 45]"
      ]
     },
     "execution_count": 253,
     "metadata": {},
     "output_type": "execute_result"
    }
   ],
   "source": [
    "l"
   ]
  },
  {
   "cell_type": "code",
   "execution_count": 254,
   "id": "857f9043",
   "metadata": {},
   "outputs": [],
   "source": [
    "l.insert(1,[1,2,34])"
   ]
  },
  {
   "cell_type": "code",
   "execution_count": 255,
   "id": "c8e29d3b",
   "metadata": {},
   "outputs": [
    {
     "data": {
      "text/plain": [
       "[1, [1, 2, 34], 2, 3, 4, 5, 45]"
      ]
     },
     "execution_count": 255,
     "metadata": {},
     "output_type": "execute_result"
    }
   ],
   "source": [
    "l"
   ]
  },
  {
   "cell_type": "code",
   "execution_count": 256,
   "id": "3f09ed5f",
   "metadata": {},
   "outputs": [],
   "source": [
    "l.insert(5,\"vijay\")"
   ]
  },
  {
   "cell_type": "code",
   "execution_count": 257,
   "id": "673bddae",
   "metadata": {},
   "outputs": [
    {
     "data": {
      "text/plain": [
       "[1, [1, 2, 34], 2, 3, 4, 'vijay', 5, 45]"
      ]
     },
     "execution_count": 257,
     "metadata": {},
     "output_type": "execute_result"
    }
   ],
   "source": [
    "l"
   ]
  },
  {
   "cell_type": "code",
   "execution_count": 266,
   "id": "b3b27d08",
   "metadata": {},
   "outputs": [],
   "source": [
    "                                     #8.Pop - Function\n",
    "    \n",
    "# PoP - Remove and return item at index (default Last).\n",
    "\n",
    "# Raises Index Error If List is empty or index is out of range.\n",
    "\n",
    "# Pop Operation, It is going to Pop up the dataset or it is going to remove / delete the data from a particular indexes.\n",
    "\n",
    "# or may be from the last one.\n",
    "\n",
    "# Let suppose I have not given any index   L.pop() blank then it will start remove from last, if given then like\n",
    "\n",
    "# Pop(2) or some dataset name then It will remove that data from \"List\""
   ]
  },
  {
   "cell_type": "code",
   "execution_count": 260,
   "id": "5ecf4038",
   "metadata": {},
   "outputs": [
    {
     "data": {
      "text/plain": [
       "[1, [1, 2, 34], 2, 3, 4, 'vijay', 5, 45]"
      ]
     },
     "execution_count": 260,
     "metadata": {},
     "output_type": "execute_result"
    }
   ],
   "source": [
    "l"
   ]
  },
  {
   "cell_type": "code",
   "execution_count": 261,
   "id": "1412ae86",
   "metadata": {},
   "outputs": [
    {
     "data": {
      "text/plain": [
       "45"
      ]
     },
     "execution_count": 261,
     "metadata": {},
     "output_type": "execute_result"
    }
   ],
   "source": [
    "l.pop()"
   ]
  },
  {
   "cell_type": "code",
   "execution_count": 262,
   "id": "60ad3349",
   "metadata": {},
   "outputs": [
    {
     "data": {
      "text/plain": [
       "[1, [1, 2, 34], 2, 3, 4, 'vijay', 5]"
      ]
     },
     "execution_count": 262,
     "metadata": {},
     "output_type": "execute_result"
    }
   ],
   "source": [
    "l"
   ]
  },
  {
   "cell_type": "code",
   "execution_count": 263,
   "id": "c60ec7e3",
   "metadata": {},
   "outputs": [
    {
     "data": {
      "text/plain": [
       "2"
      ]
     },
     "execution_count": 263,
     "metadata": {},
     "output_type": "execute_result"
    }
   ],
   "source": [
    "l.pop(2)"
   ]
  },
  {
   "cell_type": "code",
   "execution_count": 264,
   "id": "b2124e41",
   "metadata": {},
   "outputs": [
    {
     "data": {
      "text/plain": [
       "[1, [1, 2, 34], 3, 4, 'vijay', 5]"
      ]
     },
     "execution_count": 264,
     "metadata": {},
     "output_type": "execute_result"
    }
   ],
   "source": [
    "l"
   ]
  },
  {
   "cell_type": "code",
   "execution_count": 274,
   "id": "aba3db0c",
   "metadata": {},
   "outputs": [],
   "source": [
    "                                  #9.Remove Function\n",
    "    \n",
    "# Remove Function -  Let suppose I am calling L.remove(100) But 100 is not available so that is why giving an Error.\n",
    "\n",
    "# But If I will say L.remove(4) or any dataset name i would like to remove from dataset it will remove it.\n",
    "\n",
    "\n",
    "# POP :-  Pop always try to perform an operation based on indexes. So, whatever indexes we are going to give base on that\n",
    "          # it is going to work.\n",
    "    \n",
    "# Remove Operation :-  It is going to work on bases of \"value\" or element which is available inside my dataset, so it is\n",
    "\n",
    "# going to work based on that."
   ]
  },
  {
   "cell_type": "code",
   "execution_count": 268,
   "id": "b767cc40",
   "metadata": {},
   "outputs": [
    {
     "data": {
      "text/plain": [
       "[1, [1, 2, 34], 3, 4, 'vijay', 5]"
      ]
     },
     "execution_count": 268,
     "metadata": {},
     "output_type": "execute_result"
    }
   ],
   "source": [
    "l"
   ]
  },
  {
   "cell_type": "code",
   "execution_count": 269,
   "id": "80dae6da",
   "metadata": {},
   "outputs": [
    {
     "ename": "ValueError",
     "evalue": "list.remove(x): x not in list",
     "output_type": "error",
     "traceback": [
      "\u001b[1;31m---------------------------------------------------------------------------\u001b[0m",
      "\u001b[1;31mValueError\u001b[0m                                Traceback (most recent call last)",
      "\u001b[1;32m~\\AppData\\Local\\Temp\\ipykernel_7432\\1079903665.py\u001b[0m in \u001b[0;36m<module>\u001b[1;34m\u001b[0m\n\u001b[1;32m----> 1\u001b[1;33m \u001b[0ml\u001b[0m\u001b[1;33m.\u001b[0m\u001b[0mremove\u001b[0m\u001b[1;33m(\u001b[0m\u001b[1;36m100\u001b[0m\u001b[1;33m)\u001b[0m\u001b[1;33m\u001b[0m\u001b[1;33m\u001b[0m\u001b[0m\n\u001b[0m",
      "\u001b[1;31mValueError\u001b[0m: list.remove(x): x not in list"
     ]
    }
   ],
   "source": [
    "l.remove(100)"
   ]
  },
  {
   "cell_type": "code",
   "execution_count": 270,
   "id": "d30ba3e4",
   "metadata": {},
   "outputs": [],
   "source": [
    "l.remove(4)"
   ]
  },
  {
   "cell_type": "code",
   "execution_count": 271,
   "id": "d53be67c",
   "metadata": {},
   "outputs": [
    {
     "data": {
      "text/plain": [
       "[1, [1, 2, 34], 3, 'vijay', 5]"
      ]
     },
     "execution_count": 271,
     "metadata": {},
     "output_type": "execute_result"
    }
   ],
   "source": [
    "l"
   ]
  },
  {
   "cell_type": "code",
   "execution_count": 272,
   "id": "204f6f6f",
   "metadata": {},
   "outputs": [],
   "source": [
    "l.remove(3)"
   ]
  },
  {
   "cell_type": "code",
   "execution_count": 273,
   "id": "630d4a7d",
   "metadata": {},
   "outputs": [
    {
     "data": {
      "text/plain": [
       "[1, [1, 2, 34], 'vijay', 5]"
      ]
     },
     "execution_count": 273,
     "metadata": {},
     "output_type": "execute_result"
    }
   ],
   "source": [
    "l"
   ]
  },
  {
   "cell_type": "code",
   "execution_count": 277,
   "id": "ae4009df",
   "metadata": {},
   "outputs": [],
   "source": [
    "                        # Note :-  \"Item Rearrangement Operation\"\n",
    "    \n",
    "# 1.\"Item Rearrangement Operation\" with \"Integer.\"\n",
    "\n",
    "# 2.\"Item Rearrangement Operation\" with \"String\"\n",
    "\n",
    "# from where I would like to extract data I can do that.\n",
    "\n",
    "# Index \"2\" just try to replace \"3\" with \"vijay\" yes it is possible with the help of \"Rearrangement Operation\".\n",
    "\n",
    "# Here we can say that we have just reassign a value.\n",
    "\n",
    "#'string' object does not support item assignment that is why v[2] = \"z\" code is \"Error\" outcome."
   ]
  },
  {
   "cell_type": "code",
   "execution_count": 288,
   "id": "3c42c65c",
   "metadata": {},
   "outputs": [],
   "source": [
    "l = [1,2,3,4]"
   ]
  },
  {
   "cell_type": "code",
   "execution_count": 289,
   "id": "0087cff6",
   "metadata": {},
   "outputs": [
    {
     "data": {
      "text/plain": [
       "3"
      ]
     },
     "execution_count": 289,
     "metadata": {},
     "output_type": "execute_result"
    }
   ],
   "source": [
    "l[2]"
   ]
  },
  {
   "cell_type": "code",
   "execution_count": 290,
   "id": "5d9660b8",
   "metadata": {},
   "outputs": [],
   "source": [
    "l = [1,2,3,4]"
   ]
  },
  {
   "cell_type": "code",
   "execution_count": 291,
   "id": "d79f4154",
   "metadata": {},
   "outputs": [],
   "source": [
    "l[2] = \"vijay\""
   ]
  },
  {
   "cell_type": "code",
   "execution_count": 292,
   "id": "83b318ed",
   "metadata": {},
   "outputs": [
    {
     "data": {
      "text/plain": [
       "[1, 2, 'vijay', 4]"
      ]
     },
     "execution_count": 292,
     "metadata": {},
     "output_type": "execute_result"
    }
   ],
   "source": [
    "l"
   ]
  },
  {
   "cell_type": "code",
   "execution_count": 293,
   "id": "b26a9d55",
   "metadata": {},
   "outputs": [],
   "source": [
    "v = \"iNeuron\""
   ]
  },
  {
   "cell_type": "code",
   "execution_count": 294,
   "id": "af784376",
   "metadata": {},
   "outputs": [
    {
     "data": {
      "text/plain": [
       "'e'"
      ]
     },
     "execution_count": 294,
     "metadata": {},
     "output_type": "execute_result"
    }
   ],
   "source": [
    "v[2]"
   ]
  },
  {
   "cell_type": "code",
   "execution_count": 283,
   "id": "0daaa731",
   "metadata": {},
   "outputs": [
    {
     "ename": "TypeError",
     "evalue": "'str' object does not support item assignment",
     "output_type": "error",
     "traceback": [
      "\u001b[1;31m---------------------------------------------------------------------------\u001b[0m",
      "\u001b[1;31mTypeError\u001b[0m                                 Traceback (most recent call last)",
      "\u001b[1;32m~\\AppData\\Local\\Temp\\ipykernel_7432\\484678128.py\u001b[0m in \u001b[0;36m<module>\u001b[1;34m\u001b[0m\n\u001b[1;32m----> 1\u001b[1;33m \u001b[0mv\u001b[0m\u001b[1;33m[\u001b[0m\u001b[1;36m2\u001b[0m\u001b[1;33m]\u001b[0m \u001b[1;33m=\u001b[0m \u001b[1;34m\"z\"\u001b[0m\u001b[1;33m\u001b[0m\u001b[1;33m\u001b[0m\u001b[0m\n\u001b[0m",
      "\u001b[1;31mTypeError\u001b[0m: 'str' object does not support item assignment"
     ]
    }
   ],
   "source": [
    "v[2] = \"z\""
   ]
  },
  {
   "cell_type": "code",
   "execution_count": 298,
   "id": "c2f4d112",
   "metadata": {},
   "outputs": [],
   "source": [
    "                                          # 2.TUPLES #"
   ]
  },
  {
   "cell_type": "code",
   "execution_count": null,
   "id": "ff18a091",
   "metadata": {},
   "outputs": [],
   "source": []
  },
  {
   "cell_type": "code",
   "execution_count": 4,
   "id": "e346ea75",
   "metadata": {},
   "outputs": [],
   "source": [
    "t = (4,5,6,7,\"vijay\",45.67,True)"
   ]
  },
  {
   "cell_type": "code",
   "execution_count": 5,
   "id": "16fb32cf",
   "metadata": {},
   "outputs": [
    {
     "data": {
      "text/plain": [
       "tuple"
      ]
     },
     "execution_count": 5,
     "metadata": {},
     "output_type": "execute_result"
    }
   ],
   "source": [
    "type(t)"
   ]
  },
  {
   "cell_type": "code",
   "execution_count": 6,
   "id": "66896598",
   "metadata": {},
   "outputs": [
    {
     "data": {
      "text/plain": [
       "4"
      ]
     },
     "execution_count": 6,
     "metadata": {},
     "output_type": "execute_result"
    }
   ],
   "source": [
    "t[0]"
   ]
  },
  {
   "cell_type": "code",
   "execution_count": 7,
   "id": "2847b292",
   "metadata": {},
   "outputs": [
    {
     "data": {
      "text/plain": [
       "(4, 5, 6, 7)"
      ]
     },
     "execution_count": 7,
     "metadata": {},
     "output_type": "execute_result"
    }
   ],
   "source": [
    "t[0:4]"
   ]
  },
  {
   "cell_type": "code",
   "execution_count": 8,
   "id": "556e2b6d",
   "metadata": {},
   "outputs": [
    {
     "data": {
      "text/plain": [
       "True"
      ]
     },
     "execution_count": 8,
     "metadata": {},
     "output_type": "execute_result"
    }
   ],
   "source": [
    "t[-1]"
   ]
  },
  {
   "cell_type": "code",
   "execution_count": 9,
   "id": "ff380bd8",
   "metadata": {},
   "outputs": [
    {
     "data": {
      "text/plain": [
       "(4, 6, 'vijay')"
      ]
     },
     "execution_count": 9,
     "metadata": {},
     "output_type": "execute_result"
    }
   ],
   "source": [
    "t[0:6:2]"
   ]
  },
  {
   "cell_type": "code",
   "execution_count": 10,
   "id": "f0b6c825",
   "metadata": {},
   "outputs": [
    {
     "data": {
      "text/plain": [
       "()"
      ]
     },
     "execution_count": 10,
     "metadata": {},
     "output_type": "execute_result"
    }
   ],
   "source": [
    "t[0:4:-1]"
   ]
  },
  {
   "cell_type": "code",
   "execution_count": 22,
   "id": "d7987bb0",
   "metadata": {},
   "outputs": [],
   "source": [
    "                #\"Item Reassigment Operation in Tuples v/s List\"\n",
    "    \n",
    "# why we got an Error at \"Tuples\" because \"Tuples\" object does not support item assignment\n",
    "\n",
    "# Basically \"Tuples\" are Immutable element \n",
    "\n",
    "# In \"Tuples\" there are only 2 Function available \n",
    "\n",
    "#1.Count - Count operation it just to give us a number of occurance of an element inside a \"Tuples\"\n",
    "\n",
    "#2.Index - Index operation always try to give us index of very 1st occurance."
   ]
  },
  {
   "cell_type": "code",
   "execution_count": 11,
   "id": "dc7e2382",
   "metadata": {},
   "outputs": [],
   "source": [
    "l = [1,2,3,456,78]"
   ]
  },
  {
   "cell_type": "code",
   "execution_count": 12,
   "id": "42573426",
   "metadata": {},
   "outputs": [
    {
     "data": {
      "text/plain": [
       "3"
      ]
     },
     "execution_count": 12,
     "metadata": {},
     "output_type": "execute_result"
    }
   ],
   "source": [
    "l[2]"
   ]
  },
  {
   "cell_type": "code",
   "execution_count": 13,
   "id": "105f3630",
   "metadata": {},
   "outputs": [],
   "source": [
    "l[2] = \"gurung\""
   ]
  },
  {
   "cell_type": "code",
   "execution_count": 14,
   "id": "82a87514",
   "metadata": {},
   "outputs": [
    {
     "data": {
      "text/plain": [
       "[1, 2, 'gurung', 456, 78]"
      ]
     },
     "execution_count": 14,
     "metadata": {},
     "output_type": "execute_result"
    }
   ],
   "source": [
    "l"
   ]
  },
  {
   "cell_type": "code",
   "execution_count": 15,
   "id": "24afa286",
   "metadata": {},
   "outputs": [
    {
     "data": {
      "text/plain": [
       "(4, 5, 6, 7, 'vijay', 45.67, True)"
      ]
     },
     "execution_count": 15,
     "metadata": {},
     "output_type": "execute_result"
    }
   ],
   "source": [
    "t"
   ]
  },
  {
   "cell_type": "code",
   "execution_count": 16,
   "id": "af4cec1a",
   "metadata": {},
   "outputs": [
    {
     "data": {
      "text/plain": [
       "6"
      ]
     },
     "execution_count": 16,
     "metadata": {},
     "output_type": "execute_result"
    }
   ],
   "source": [
    "t[2]"
   ]
  },
  {
   "cell_type": "code",
   "execution_count": 17,
   "id": "300e9212",
   "metadata": {},
   "outputs": [
    {
     "ename": "TypeError",
     "evalue": "'tuple' object does not support item assignment",
     "output_type": "error",
     "traceback": [
      "\u001b[1;31m---------------------------------------------------------------------------\u001b[0m",
      "\u001b[1;31mTypeError\u001b[0m                                 Traceback (most recent call last)",
      "\u001b[1;32m~\\AppData\\Local\\Temp\\ipykernel_7392\\297962717.py\u001b[0m in \u001b[0;36m<module>\u001b[1;34m\u001b[0m\n\u001b[1;32m----> 1\u001b[1;33m \u001b[0mt\u001b[0m\u001b[1;33m[\u001b[0m\u001b[1;36m2\u001b[0m\u001b[1;33m]\u001b[0m \u001b[1;33m=\u001b[0m \u001b[1;34m\"vijay\"\u001b[0m\u001b[1;33m\u001b[0m\u001b[1;33m\u001b[0m\u001b[0m\n\u001b[0m",
      "\u001b[1;31mTypeError\u001b[0m: 'tuple' object does not support item assignment"
     ]
    }
   ],
   "source": [
    "t[2] = \"vijay\""
   ]
  },
  {
   "cell_type": "code",
   "execution_count": 18,
   "id": "47b5e8d7",
   "metadata": {},
   "outputs": [],
   "source": [
    "t1 = (3,4,5,6)"
   ]
  },
  {
   "cell_type": "code",
   "execution_count": 19,
   "id": "b12cfd6c",
   "metadata": {},
   "outputs": [
    {
     "data": {
      "text/plain": [
       "(4, 5, 6, 7, 'vijay', 45.67, True)"
      ]
     },
     "execution_count": 19,
     "metadata": {},
     "output_type": "execute_result"
    }
   ],
   "source": [
    "t"
   ]
  },
  {
   "cell_type": "code",
   "execution_count": 20,
   "id": "97a28dfb",
   "metadata": {},
   "outputs": [
    {
     "data": {
      "text/plain": [
       "(4, 5, 6, 7, 'vijay', 45.67, True, 3, 4, 5, 6)"
      ]
     },
     "execution_count": 20,
     "metadata": {},
     "output_type": "execute_result"
    }
   ],
   "source": [
    "t+t1"
   ]
  },
  {
   "cell_type": "code",
   "execution_count": 21,
   "id": "87f23329",
   "metadata": {},
   "outputs": [
    {
     "data": {
      "text/plain": [
       "0"
      ]
     },
     "execution_count": 21,
     "metadata": {},
     "output_type": "execute_result"
    }
   ],
   "source": [
    "t.count(3)"
   ]
  },
  {
   "cell_type": "code",
   "execution_count": 22,
   "id": "f444a820",
   "metadata": {},
   "outputs": [
    {
     "data": {
      "text/plain": [
       "1"
      ]
     },
     "execution_count": 22,
     "metadata": {},
     "output_type": "execute_result"
    }
   ],
   "source": [
    "t.count(4)"
   ]
  },
  {
   "cell_type": "code",
   "execution_count": 23,
   "id": "8fea0d14",
   "metadata": {},
   "outputs": [
    {
     "data": {
      "text/plain": [
       "(4, 5, 6, 7, 'vijay', 45.67, True)"
      ]
     },
     "execution_count": 23,
     "metadata": {},
     "output_type": "execute_result"
    }
   ],
   "source": [
    "t"
   ]
  },
  {
   "cell_type": "code",
   "execution_count": 24,
   "id": "991e44ab",
   "metadata": {},
   "outputs": [
    {
     "data": {
      "text/plain": [
       "(4, 5, 6, 7, 'vijay', 45.67, True)"
      ]
     },
     "execution_count": 24,
     "metadata": {},
     "output_type": "execute_result"
    }
   ],
   "source": [
    "t"
   ]
  },
  {
   "cell_type": "code",
   "execution_count": 26,
   "id": "711cb73b",
   "metadata": {},
   "outputs": [],
   "source": [
    "                  #\"Tuples to List\"  & \"List to Tuples\""
   ]
  },
  {
   "cell_type": "code",
   "execution_count": 27,
   "id": "5c5bfb8f",
   "metadata": {},
   "outputs": [],
   "source": [
    "t = (3,4,5,6,7,\"vijay\")"
   ]
  },
  {
   "cell_type": "code",
   "execution_count": 28,
   "id": "626b9b81",
   "metadata": {},
   "outputs": [
    {
     "data": {
      "text/plain": [
       "[3, 4, 5, 6, 7, 'vijay']"
      ]
     },
     "execution_count": 28,
     "metadata": {},
     "output_type": "execute_result"
    }
   ],
   "source": [
    "list(t)"
   ]
  },
  {
   "cell_type": "code",
   "execution_count": 30,
   "id": "166efb51",
   "metadata": {},
   "outputs": [],
   "source": [
    "t2 = [3,4,5,6,7,\"vijay\"]"
   ]
  },
  {
   "cell_type": "code",
   "execution_count": 32,
   "id": "21ac92a5",
   "metadata": {},
   "outputs": [
    {
     "data": {
      "text/plain": [
       "(3, 4, 5, 6, 7, 'vijay')"
      ]
     },
     "execution_count": 32,
     "metadata": {},
     "output_type": "execute_result"
    }
   ],
   "source": [
    "tuple(t2)"
   ]
  },
  {
   "cell_type": "code",
   "execution_count": null,
   "id": "9c289190",
   "metadata": {},
   "outputs": [],
   "source": []
  },
  {
   "cell_type": "code",
   "execution_count": 33,
   "id": "a53f8e86",
   "metadata": {},
   "outputs": [],
   "source": [
    "                                # Dictionary"
   ]
  },
  {
   "cell_type": "code",
   "execution_count": 34,
   "id": "4e3dcbf7",
   "metadata": {},
   "outputs": [],
   "source": [
    "d = {}"
   ]
  },
  {
   "cell_type": "code",
   "execution_count": 35,
   "id": "e996248f",
   "metadata": {},
   "outputs": [
    {
     "data": {
      "text/plain": [
       "dict"
      ]
     },
     "execution_count": 35,
     "metadata": {},
     "output_type": "execute_result"
    }
   ],
   "source": [
    "type(d)"
   ]
  },
  {
   "cell_type": "code",
   "execution_count": 36,
   "id": "c82363ad",
   "metadata": {},
   "outputs": [],
   "source": [
    "d1 = {1}"
   ]
  },
  {
   "cell_type": "code",
   "execution_count": 37,
   "id": "33913a3a",
   "metadata": {},
   "outputs": [
    {
     "data": {
      "text/plain": [
       "set"
      ]
     },
     "execution_count": 37,
     "metadata": {},
     "output_type": "execute_result"
    }
   ],
   "source": [
    "type(d1)"
   ]
  },
  {
   "cell_type": "code",
   "execution_count": 38,
   "id": "c15f1675",
   "metadata": {},
   "outputs": [],
   "source": [
    "d2 = {\"key1\": \"value\",234:\"xyz\",\"name\":\"vijay\",\"no\": 34324345}"
   ]
  },
  {
   "cell_type": "code",
   "execution_count": 39,
   "id": "911393e3",
   "metadata": {},
   "outputs": [
    {
     "data": {
      "text/plain": [
       "dict"
      ]
     },
     "execution_count": 39,
     "metadata": {},
     "output_type": "execute_result"
    }
   ],
   "source": [
    "type(d2)"
   ]
  },
  {
   "cell_type": "code",
   "execution_count": 40,
   "id": "b8809db1",
   "metadata": {},
   "outputs": [],
   "source": [
    "d3 = {\"name\":\"vijay\",\"tech\":[\"python\",\"Ml\",\"DL\",\"NLP\",\"CV\",\"Bigdata\",\"data anlytics\"]}"
   ]
  },
  {
   "cell_type": "code",
   "execution_count": 41,
   "id": "fe908402",
   "metadata": {},
   "outputs": [
    {
     "data": {
      "text/plain": [
       "{'name': 'vijay',\n",
       " 'tech': ['python', 'Ml', 'DL', 'NLP', 'CV', 'Bigdata', 'data anlytics']}"
      ]
     },
     "execution_count": 41,
     "metadata": {},
     "output_type": "execute_result"
    }
   ],
   "source": [
    "d3"
   ]
  },
  {
   "cell_type": "code",
   "execution_count": 42,
   "id": "80101021",
   "metadata": {},
   "outputs": [
    {
     "data": {
      "text/plain": [
       "['python', 'Ml', 'DL', 'NLP', 'CV', 'Bigdata', 'data anlytics']"
      ]
     },
     "execution_count": 42,
     "metadata": {},
     "output_type": "execute_result"
    }
   ],
   "source": [
    "d3[\"tech\"]"
   ]
  },
  {
   "cell_type": "code",
   "execution_count": 44,
   "id": "94b4e7a0",
   "metadata": {},
   "outputs": [
    {
     "data": {
      "text/plain": [
       "True"
      ]
     },
     "execution_count": 44,
     "metadata": {},
     "output_type": "execute_result"
    }
   ],
   "source": [
    "\"python\" in d3[\"tech\"]"
   ]
  },
  {
   "cell_type": "code",
   "execution_count": 45,
   "id": "1544b816",
   "metadata": {},
   "outputs": [],
   "source": [
    "d4 = {\"name\":\"ineuron\",\"contact_info\": 345345,\"name\":\"vijay\"}"
   ]
  },
  {
   "cell_type": "code",
   "execution_count": 46,
   "id": "c7c8e2f6",
   "metadata": {},
   "outputs": [
    {
     "data": {
      "text/plain": [
       "{'name': 'vijay', 'contact_info': 345345}"
      ]
     },
     "execution_count": 46,
     "metadata": {},
     "output_type": "execute_result"
    }
   ],
   "source": [
    "d4"
   ]
  },
  {
   "cell_type": "code",
   "execution_count": 47,
   "id": "b57337e0",
   "metadata": {},
   "outputs": [],
   "source": [
    "d4[\"k1\"] = \"xyz\""
   ]
  },
  {
   "cell_type": "code",
   "execution_count": 48,
   "id": "0feed951",
   "metadata": {},
   "outputs": [
    {
     "data": {
      "text/plain": [
       "{'name': 'vijay', 'contact_info': 345345, 'k1': 'xyz'}"
      ]
     },
     "execution_count": 48,
     "metadata": {},
     "output_type": "execute_result"
    }
   ],
   "source": [
    "d4"
   ]
  },
  {
   "cell_type": "code",
   "execution_count": 49,
   "id": "d79feb51",
   "metadata": {},
   "outputs": [
    {
     "data": {
      "text/plain": [
       "{'name': 'vijay', 'contact_info': 345345, 'k1': 'xyz'}"
      ]
     },
     "execution_count": 49,
     "metadata": {},
     "output_type": "execute_result"
    }
   ],
   "source": [
    "d4 "
   ]
  },
  {
   "cell_type": "code",
   "execution_count": 50,
   "id": "6b46a75e",
   "metadata": {},
   "outputs": [],
   "source": [
    "d4[\"name1\"] = \"xyz\""
   ]
  },
  {
   "cell_type": "code",
   "execution_count": 51,
   "id": "27f489a2",
   "metadata": {},
   "outputs": [
    {
     "data": {
      "text/plain": [
       "{'name': 'vijay', 'contact_info': 345345, 'k1': 'xyz', 'name1': 'xyz'}"
      ]
     },
     "execution_count": 51,
     "metadata": {},
     "output_type": "execute_result"
    }
   ],
   "source": [
    "d4"
   ]
  },
  {
   "cell_type": "code",
   "execution_count": 52,
   "id": "e61f9791",
   "metadata": {},
   "outputs": [
    {
     "data": {
      "text/plain": [
       "{'key1': 'value', 234: 'xyz', 'name': 'vijay', 'no': 34324345}"
      ]
     },
     "execution_count": 52,
     "metadata": {},
     "output_type": "execute_result"
    }
   ],
   "source": [
    "d2"
   ]
  },
  {
   "cell_type": "code",
   "execution_count": 53,
   "id": "e5606988",
   "metadata": {},
   "outputs": [],
   "source": [
    "d4[\"k2\"] = d2"
   ]
  },
  {
   "cell_type": "code",
   "execution_count": 54,
   "id": "d52fd03a",
   "metadata": {},
   "outputs": [
    {
     "data": {
      "text/plain": [
       "{'name': 'vijay',\n",
       " 'contact_info': 345345,\n",
       " 'k1': 'xyz',\n",
       " 'name1': 'xyz',\n",
       " 'k2': {'key1': 'value', 234: 'xyz', 'name': 'vijay', 'no': 34324345}}"
      ]
     },
     "execution_count": 54,
     "metadata": {},
     "output_type": "execute_result"
    }
   ],
   "source": [
    "d4"
   ]
  },
  {
   "cell_type": "code",
   "execution_count": 55,
   "id": "e65fb1e9",
   "metadata": {},
   "outputs": [
    {
     "data": {
      "text/plain": [
       "{'key1': 'value', 234: 'xyz', 'name': 'vijay', 'no': 34324345}"
      ]
     },
     "execution_count": 55,
     "metadata": {},
     "output_type": "execute_result"
    }
   ],
   "source": [
    "d4[\"k2\"]"
   ]
  },
  {
   "cell_type": "code",
   "execution_count": 56,
   "id": "e44e1f4e",
   "metadata": {},
   "outputs": [
    {
     "data": {
      "text/plain": [
       "34324345"
      ]
     },
     "execution_count": 56,
     "metadata": {},
     "output_type": "execute_result"
    }
   ],
   "source": [
    "d4[\"k2\"][\"no\"]"
   ]
  },
  {
   "cell_type": "code",
   "execution_count": 57,
   "id": "e7c198b8",
   "metadata": {},
   "outputs": [
    {
     "ename": "SyntaxError",
     "evalue": "invalid syntax (2969738373.py, line 1)",
     "output_type": "error",
     "traceback": [
      "\u001b[1;36m  File \u001b[1;32m\"C:\\Users\\Admin\\AppData\\Local\\Temp\\ipykernel_7392\\2969738373.py\"\u001b[1;36m, line \u001b[1;32m1\u001b[0m\n\u001b[1;33m    d5 = {@:\"sdfsd\"}\u001b[0m\n\u001b[1;37m          ^\u001b[0m\n\u001b[1;31mSyntaxError\u001b[0m\u001b[1;31m:\u001b[0m invalid syntax\n"
     ]
    }
   ],
   "source": [
    "d5 = {@:\"sdfsd\"}"
   ]
  },
  {
   "cell_type": "code",
   "execution_count": 58,
   "id": "bd4ef5a6",
   "metadata": {},
   "outputs": [],
   "source": [
    "d5 = {_ : \"sdfsd\"}"
   ]
  },
  {
   "cell_type": "code",
   "execution_count": 59,
   "id": "ea323546",
   "metadata": {
    "scrolled": true
   },
   "outputs": [
    {
     "data": {
      "text/plain": [
       "'sdfsd'"
      ]
     },
     "execution_count": 59,
     "metadata": {},
     "output_type": "execute_result"
    }
   ],
   "source": [
    "d5[_]"
   ]
  },
  {
   "cell_type": "code",
   "execution_count": 72,
   "id": "daf8325f",
   "metadata": {},
   "outputs": [],
   "source": [
    "                                          #Tuple in Dictionary"
   ]
  },
  {
   "cell_type": "code",
   "execution_count": 60,
   "id": "1bef6eb7",
   "metadata": {},
   "outputs": [],
   "source": [
    "d6 = {(1,2,3,4): \"fsdfs\"}"
   ]
  },
  {
   "cell_type": "code",
   "execution_count": 61,
   "id": "e3b9559d",
   "metadata": {},
   "outputs": [
    {
     "data": {
      "text/plain": [
       "'fsdfs'"
      ]
     },
     "execution_count": 61,
     "metadata": {},
     "output_type": "execute_result"
    }
   ],
   "source": [
    "d6[(1,2,3,4)]"
   ]
  },
  {
   "cell_type": "code",
   "execution_count": 62,
   "id": "e21f8063",
   "metadata": {
    "scrolled": true
   },
   "outputs": [
    {
     "ename": "TypeError",
     "evalue": "unhashable type: 'list'",
     "output_type": "error",
     "traceback": [
      "\u001b[1;31m---------------------------------------------------------------------------\u001b[0m",
      "\u001b[1;31mTypeError\u001b[0m                                 Traceback (most recent call last)",
      "\u001b[1;32m~\\AppData\\Local\\Temp\\ipykernel_7392\\3610375228.py\u001b[0m in \u001b[0;36m<module>\u001b[1;34m\u001b[0m\n\u001b[1;32m----> 1\u001b[1;33m \u001b[0md7\u001b[0m \u001b[1;33m=\u001b[0m \u001b[1;33m{\u001b[0m\u001b[1;33m[\u001b[0m\u001b[1;36m1\u001b[0m\u001b[1;33m,\u001b[0m\u001b[1;36m2\u001b[0m\u001b[1;33m,\u001b[0m\u001b[1;36m3\u001b[0m\u001b[1;33m,\u001b[0m\u001b[1;36m4\u001b[0m\u001b[1;33m]\u001b[0m \u001b[1;33m:\u001b[0m \u001b[1;34m\"fasdfasfas\"\u001b[0m\u001b[1;33m}\u001b[0m\u001b[1;33m\u001b[0m\u001b[1;33m\u001b[0m\u001b[0m\n\u001b[0m",
      "\u001b[1;31mTypeError\u001b[0m: unhashable type: 'list'"
     ]
    }
   ],
   "source": [
    "d7 = {[1,2,3,4] : \"fasdfasfas\"}"
   ]
  },
  {
   "cell_type": "code",
   "execution_count": 73,
   "id": "05d29055",
   "metadata": {},
   "outputs": [],
   "source": [
    "                                     #Dictionary itself a disctionary"
   ]
  },
  {
   "cell_type": "code",
   "execution_count": 63,
   "id": "fdaeb8e4",
   "metadata": {},
   "outputs": [
    {
     "ename": "TypeError",
     "evalue": "unhashable type: 'dict'",
     "output_type": "error",
     "traceback": [
      "\u001b[1;31m---------------------------------------------------------------------------\u001b[0m",
      "\u001b[1;31mTypeError\u001b[0m                                 Traceback (most recent call last)",
      "\u001b[1;32m~\\AppData\\Local\\Temp\\ipykernel_7392\\571604517.py\u001b[0m in \u001b[0;36m<module>\u001b[1;34m\u001b[0m\n\u001b[1;32m----> 1\u001b[1;33m \u001b[0md8\u001b[0m \u001b[1;33m=\u001b[0m \u001b[1;33m{\u001b[0m\u001b[1;33m{\u001b[0m\u001b[1;36m3\u001b[0m\u001b[1;33m:\u001b[0m\u001b[1;36m4\u001b[0m\u001b[1;33m}\u001b[0m\u001b[1;33m:\u001b[0m \u001b[1;34m\"fsdfs\"\u001b[0m\u001b[1;33m}\u001b[0m\u001b[1;33m\u001b[0m\u001b[1;33m\u001b[0m\u001b[0m\n\u001b[0m",
      "\u001b[1;31mTypeError\u001b[0m: unhashable type: 'dict'"
     ]
    }
   ],
   "source": [
    "d8 = {{3:4}: \"fsdfs\"}"
   ]
  },
  {
   "cell_type": "code",
   "execution_count": 74,
   "id": "8bcbbfc1",
   "metadata": {},
   "outputs": [],
   "source": [
    "                  # Dictionay + Dictionay"
   ]
  },
  {
   "cell_type": "code",
   "execution_count": 64,
   "id": "2dd169fd",
   "metadata": {},
   "outputs": [
    {
     "data": {
      "text/plain": [
       "{'key1': 'value', 234: 'xyz', 'name': 'vijay', 'no': 34324345}"
      ]
     },
     "execution_count": 64,
     "metadata": {},
     "output_type": "execute_result"
    }
   ],
   "source": [
    "d2"
   ]
  },
  {
   "cell_type": "code",
   "execution_count": 65,
   "id": "e7fea611",
   "metadata": {},
   "outputs": [
    {
     "data": {
      "text/plain": [
       "{'name': 'vijay',\n",
       " 'tech': ['python', 'Ml', 'DL', 'NLP', 'CV', 'Bigdata', 'data anlytics']}"
      ]
     },
     "execution_count": 65,
     "metadata": {},
     "output_type": "execute_result"
    }
   ],
   "source": [
    "d3"
   ]
  },
  {
   "cell_type": "code",
   "execution_count": 66,
   "id": "f50b98ed",
   "metadata": {},
   "outputs": [
    {
     "ename": "TypeError",
     "evalue": "unsupported operand type(s) for +: 'dict' and 'dict'",
     "output_type": "error",
     "traceback": [
      "\u001b[1;31m---------------------------------------------------------------------------\u001b[0m",
      "\u001b[1;31mTypeError\u001b[0m                                 Traceback (most recent call last)",
      "\u001b[1;32m~\\AppData\\Local\\Temp\\ipykernel_7392\\2884743602.py\u001b[0m in \u001b[0;36m<module>\u001b[1;34m\u001b[0m\n\u001b[1;32m----> 1\u001b[1;33m \u001b[0md2\u001b[0m\u001b[1;33m+\u001b[0m\u001b[0md3\u001b[0m\u001b[1;33m\u001b[0m\u001b[1;33m\u001b[0m\u001b[0m\n\u001b[0m",
      "\u001b[1;31mTypeError\u001b[0m: unsupported operand type(s) for +: 'dict' and 'dict'"
     ]
    }
   ],
   "source": [
    "d2+d3"
   ]
  },
  {
   "cell_type": "code",
   "execution_count": 75,
   "id": "a176a849",
   "metadata": {},
   "outputs": [],
   "source": [
    "                      # * Extra \"keys\" from d2 *"
   ]
  },
  {
   "cell_type": "code",
   "execution_count": 67,
   "id": "68558ac7",
   "metadata": {},
   "outputs": [
    {
     "data": {
      "text/plain": [
       "{'key1': 'value', 234: 'xyz', 'name': 'vijay', 'no': 34324345}"
      ]
     },
     "execution_count": 67,
     "metadata": {},
     "output_type": "execute_result"
    }
   ],
   "source": [
    "d2"
   ]
  },
  {
   "cell_type": "code",
   "execution_count": 68,
   "id": "0674e459",
   "metadata": {},
   "outputs": [
    {
     "data": {
      "text/plain": [
       "dict_keys(['key1', 234, 'name', 'no'])"
      ]
     },
     "execution_count": 68,
     "metadata": {},
     "output_type": "execute_result"
    }
   ],
   "source": [
    "d2.keys()"
   ]
  },
  {
   "cell_type": "code",
   "execution_count": null,
   "id": "f033aff4",
   "metadata": {},
   "outputs": [],
   "source": [
    "              # * Extra Values from d2 *"
   ]
  },
  {
   "cell_type": "code",
   "execution_count": 70,
   "id": "c133f4cf",
   "metadata": {},
   "outputs": [
    {
     "data": {
      "text/plain": [
       "dict_values(['value', 'xyz', 'vijay', 34324345])"
      ]
     },
     "execution_count": 70,
     "metadata": {},
     "output_type": "execute_result"
    }
   ],
   "source": [
    "d2.values()"
   ]
  },
  {
   "cell_type": "code",
   "execution_count": 76,
   "id": "9dc5d34a",
   "metadata": {},
   "outputs": [],
   "source": [
    "             # * Extra Items from d2 *"
   ]
  },
  {
   "cell_type": "code",
   "execution_count": 77,
   "id": "df0bf6be",
   "metadata": {},
   "outputs": [
    {
     "data": {
      "text/plain": [
       "dict_items([('key1', 'value'), (234, 'xyz'), ('name', 'vijay'), ('no', 34324345)])"
      ]
     },
     "execution_count": 77,
     "metadata": {},
     "output_type": "execute_result"
    }
   ],
   "source": [
    "d2.items()"
   ]
  },
  {
   "cell_type": "code",
   "execution_count": null,
   "id": "3cab058d",
   "metadata": {},
   "outputs": [],
   "source": []
  },
  {
   "cell_type": "code",
   "execution_count": 1,
   "id": "906ceff6",
   "metadata": {},
   "outputs": [],
   "source": [
    "                                  # SET - Function #\n",
    "    \n",
    "#1.ADD\n",
    "\n",
    "#2.Clear \n",
    "\n",
    "#3.Copy\n",
    "\n",
    "#4.Difference\n",
    "\n",
    "#5.Difference_update\n",
    "\n",
    "#6.Discard\n",
    "\n",
    "#7.Intersection\n",
    "\n",
    "#8.Intersection_Update\n",
    "\n",
    "#9.Isdisjoint\n",
    "\n",
    "#10.Issubset\n",
    "\n",
    "#11.Issuperset\n",
    "\n",
    "#12.Pop\n",
    "\n",
    "#13.Remove\n",
    "\n",
    "#14.Symmetric_difference\n",
    "\n",
    "#15.Symmetric_difference_update\n",
    "\n",
    "#16.Union\n",
    "\n",
    "#17.Update"
   ]
  },
  {
   "cell_type": "code",
   "execution_count": 2,
   "id": "4044d98b",
   "metadata": {},
   "outputs": [],
   "source": [
    "s = {3,4,5,6,7,8}"
   ]
  },
  {
   "cell_type": "code",
   "execution_count": 3,
   "id": "6d1b258e",
   "metadata": {},
   "outputs": [
    {
     "data": {
      "text/plain": [
       "set"
      ]
     },
     "execution_count": 3,
     "metadata": {},
     "output_type": "execute_result"
    }
   ],
   "source": [
    "type(s)"
   ]
  },
  {
   "cell_type": "code",
   "execution_count": 4,
   "id": "ebdfc7d7",
   "metadata": {},
   "outputs": [],
   "source": [
    "s1 = {3,4,4,5,6,6,7,7,8,8,9,9,0,0,0}"
   ]
  },
  {
   "cell_type": "code",
   "execution_count": 5,
   "id": "140de0f3",
   "metadata": {},
   "outputs": [
    {
     "data": {
      "text/plain": [
       "{0, 3, 4, 5, 6, 7, 8, 9}"
      ]
     },
     "execution_count": 5,
     "metadata": {},
     "output_type": "execute_result"
    }
   ],
   "source": [
    "s1"
   ]
  },
  {
   "cell_type": "code",
   "execution_count": 6,
   "id": "c5a31079",
   "metadata": {},
   "outputs": [],
   "source": [
    "s2 = {3245,4545,6456,5645,675,6234,345}"
   ]
  },
  {
   "cell_type": "code",
   "execution_count": 7,
   "id": "22e59ec7",
   "metadata": {},
   "outputs": [
    {
     "data": {
      "text/plain": [
       "{345, 675, 3245, 4545, 5645, 6234, 6456}"
      ]
     },
     "execution_count": 7,
     "metadata": {},
     "output_type": "execute_result"
    }
   ],
   "source": [
    "s2"
   ]
  },
  {
   "cell_type": "code",
   "execution_count": 8,
   "id": "e13bb8a1",
   "metadata": {},
   "outputs": [],
   "source": [
    "s3 = {\"vijay\",324,34,12,645,12,5,\"b\",\"6\"}"
   ]
  },
  {
   "cell_type": "code",
   "execution_count": 9,
   "id": "e0a45bd7",
   "metadata": {},
   "outputs": [
    {
     "data": {
      "text/plain": [
       "{12, 324, 34, 5, '6', 645, 'b', 'vijay'}"
      ]
     },
     "execution_count": 9,
     "metadata": {},
     "output_type": "execute_result"
    }
   ],
   "source": [
    "s3"
   ]
  },
  {
   "cell_type": "code",
   "execution_count": 10,
   "id": "73f682e6",
   "metadata": {},
   "outputs": [
    {
     "ename": "TypeError",
     "evalue": "'set' object is not subscriptable",
     "output_type": "error",
     "traceback": [
      "\u001b[1;31m---------------------------------------------------------------------------\u001b[0m",
      "\u001b[1;31mTypeError\u001b[0m                                 Traceback (most recent call last)",
      "\u001b[1;32m~\\AppData\\Local\\Temp\\ipykernel_5364\\397937684.py\u001b[0m in \u001b[0;36m<module>\u001b[1;34m\u001b[0m\n\u001b[1;32m----> 1\u001b[1;33m \u001b[0ms3\u001b[0m\u001b[1;33m[\u001b[0m\u001b[1;36m0\u001b[0m\u001b[1;33m]\u001b[0m\u001b[1;33m\u001b[0m\u001b[1;33m\u001b[0m\u001b[0m\n\u001b[0m",
      "\u001b[1;31mTypeError\u001b[0m: 'set' object is not subscriptable"
     ]
    }
   ],
   "source": [
    "s3[0]"
   ]
  },
  {
   "cell_type": "code",
   "execution_count": 11,
   "id": "cad605c9",
   "metadata": {},
   "outputs": [
    {
     "data": {
      "text/plain": [
       "[34, 324, 5, 645, '6', 12, 'b', 'vijay']"
      ]
     },
     "execution_count": 11,
     "metadata": {},
     "output_type": "execute_result"
    }
   ],
   "source": [
    "list(s3)"
   ]
  },
  {
   "cell_type": "code",
   "execution_count": 12,
   "id": "5a314566",
   "metadata": {},
   "outputs": [
    {
     "data": {
      "text/plain": [
       "(34, 324, 5, 645, '6', 12, 'b', 'vijay')"
      ]
     },
     "execution_count": 12,
     "metadata": {},
     "output_type": "execute_result"
    }
   ],
   "source": [
    "tuple(s3)"
   ]
  },
  {
   "cell_type": "code",
   "execution_count": 13,
   "id": "8fd5d2d3",
   "metadata": {},
   "outputs": [],
   "source": [
    "l = [2,3,4,5656,7,6,7,77,77,7,77,7,7,7,7,7,7,7,7,7,7,7,7,7]"
   ]
  },
  {
   "cell_type": "code",
   "execution_count": 14,
   "id": "655198ed",
   "metadata": {},
   "outputs": [
    {
     "data": {
      "text/plain": [
       "{2, 3, 4, 6, 7, 77, 5656}"
      ]
     },
     "execution_count": 14,
     "metadata": {},
     "output_type": "execute_result"
    }
   ],
   "source": [
    "set(l)"
   ]
  },
  {
   "cell_type": "code",
   "execution_count": 15,
   "id": "ea4bb562",
   "metadata": {},
   "outputs": [],
   "source": [
    "l = list(set(l))"
   ]
  },
  {
   "cell_type": "code",
   "execution_count": 16,
   "id": "d27c6fb9",
   "metadata": {},
   "outputs": [
    {
     "data": {
      "text/plain": [
       "[2, 3, 4, 6, 7, 77, 5656]"
      ]
     },
     "execution_count": 16,
     "metadata": {},
     "output_type": "execute_result"
    }
   ],
   "source": [
    "l"
   ]
  },
  {
   "cell_type": "code",
   "execution_count": null,
   "id": "e88235c4",
   "metadata": {},
   "outputs": [],
   "source": []
  },
  {
   "cell_type": "code",
   "execution_count": 17,
   "id": "5988f02e",
   "metadata": {},
   "outputs": [
    {
     "data": {
      "text/plain": [
       "{345, 675, 3245, 4545, 5645, 6234, 6456}"
      ]
     },
     "execution_count": 17,
     "metadata": {},
     "output_type": "execute_result"
    }
   ],
   "source": [
    "s2"
   ]
  },
  {
   "cell_type": "code",
   "execution_count": 18,
   "id": "6a84713e",
   "metadata": {},
   "outputs": [],
   "source": [
    "s2.add(34)"
   ]
  },
  {
   "cell_type": "code",
   "execution_count": 19,
   "id": "70d2f720",
   "metadata": {},
   "outputs": [
    {
     "data": {
      "text/plain": [
       "{34, 345, 675, 3245, 4545, 5645, 6234, 6456}"
      ]
     },
     "execution_count": 19,
     "metadata": {},
     "output_type": "execute_result"
    }
   ],
   "source": [
    "s2"
   ]
  },
  {
   "cell_type": "code",
   "execution_count": 20,
   "id": "4d9644e5",
   "metadata": {},
   "outputs": [
    {
     "ename": "TypeError",
     "evalue": "unhashable type: 'list'",
     "output_type": "error",
     "traceback": [
      "\u001b[1;31m---------------------------------------------------------------------------\u001b[0m",
      "\u001b[1;31mTypeError\u001b[0m                                 Traceback (most recent call last)",
      "\u001b[1;32m~\\AppData\\Local\\Temp\\ipykernel_5364\\1499940319.py\u001b[0m in \u001b[0;36m<module>\u001b[1;34m\u001b[0m\n\u001b[1;32m----> 1\u001b[1;33m \u001b[0ms2\u001b[0m\u001b[1;33m.\u001b[0m\u001b[0madd\u001b[0m\u001b[1;33m(\u001b[0m\u001b[1;33m[\u001b[0m\u001b[1;36m1\u001b[0m\u001b[1;33m,\u001b[0m\u001b[1;36m2\u001b[0m\u001b[1;33m,\u001b[0m\u001b[1;36m3\u001b[0m\u001b[1;33m,\u001b[0m\u001b[1;36m4\u001b[0m\u001b[1;33m,\u001b[0m\u001b[1;36m5\u001b[0m\u001b[1;33m]\u001b[0m\u001b[1;33m)\u001b[0m\u001b[1;33m\u001b[0m\u001b[1;33m\u001b[0m\u001b[0m\n\u001b[0m",
      "\u001b[1;31mTypeError\u001b[0m: unhashable type: 'list'"
     ]
    }
   ],
   "source": [
    "s2.add([1,2,3,4,5])"
   ]
  },
  {
   "cell_type": "code",
   "execution_count": 24,
   "id": "ebd7875e",
   "metadata": {},
   "outputs": [],
   "source": [
    "s = {(1,2,3,4,5),3,4,45,65,6}"
   ]
  },
  {
   "cell_type": "code",
   "execution_count": 25,
   "id": "fd26fd97",
   "metadata": {},
   "outputs": [
    {
     "data": {
      "text/plain": [
       "{(1, 2, 3, 4, 5), 3, 4, 45, 6, 65}"
      ]
     },
     "execution_count": 25,
     "metadata": {},
     "output_type": "execute_result"
    }
   ],
   "source": [
    "s"
   ]
  },
  {
   "cell_type": "code",
   "execution_count": 31,
   "id": "cbf83fe3",
   "metadata": {},
   "outputs": [],
   "source": [
    "                               # Difference between \"Remove\" & \"Discard\" Function\n",
    "    \n",
    "#1.Remove Function -  Remove an element from a set, it must be a member. If the element is not a memeber, raise a KeyError.\n",
    "\n",
    "#2.Discard Function - Remove an element from a set, If it is a memeber.If the element is not a memeber do nothing."
   ]
  },
  {
   "cell_type": "code",
   "execution_count": 26,
   "id": "391878a4",
   "metadata": {},
   "outputs": [],
   "source": [
    "s.remove(3)"
   ]
  },
  {
   "cell_type": "code",
   "execution_count": 27,
   "id": "59e51b10",
   "metadata": {},
   "outputs": [
    {
     "data": {
      "text/plain": [
       "{(1, 2, 3, 4, 5), 4, 45, 6, 65}"
      ]
     },
     "execution_count": 27,
     "metadata": {},
     "output_type": "execute_result"
    }
   ],
   "source": [
    "s"
   ]
  },
  {
   "cell_type": "code",
   "execution_count": 28,
   "id": "c7aae372",
   "metadata": {},
   "outputs": [],
   "source": [
    "s.discard(4)"
   ]
  },
  {
   "cell_type": "code",
   "execution_count": 29,
   "id": "d4ff0f44",
   "metadata": {},
   "outputs": [
    {
     "data": {
      "text/plain": [
       "{(1, 2, 3, 4, 5), 45, 6, 65}"
      ]
     },
     "execution_count": 29,
     "metadata": {},
     "output_type": "execute_result"
    }
   ],
   "source": [
    "s"
   ]
  },
  {
   "cell_type": "code",
   "execution_count": null,
   "id": "00ad54bf",
   "metadata": {},
   "outputs": [],
   "source": []
  }
 ],
 "metadata": {
  "kernelspec": {
   "display_name": "Python 3 (ipykernel)",
   "language": "python",
   "name": "python3"
  },
  "language_info": {
   "codemirror_mode": {
    "name": "ipython",
    "version": 3
   },
   "file_extension": ".py",
   "mimetype": "text/x-python",
   "name": "python",
   "nbconvert_exporter": "python",
   "pygments_lexer": "ipython3",
   "version": "3.9.13"
  }
 },
 "nbformat": 4,
 "nbformat_minor": 5
}
