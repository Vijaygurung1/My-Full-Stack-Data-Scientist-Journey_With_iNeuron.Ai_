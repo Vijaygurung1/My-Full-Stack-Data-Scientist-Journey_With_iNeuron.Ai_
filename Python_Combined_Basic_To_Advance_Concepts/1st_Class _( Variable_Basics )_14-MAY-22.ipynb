{
 "cells": [
  {
   "cell_type": "markdown",
   "id": "0bdf9935",
   "metadata": {},
   "source": [
    "                                  14-MAY-22\n",
    "    \n",
    "                              1st Class - 14-MAY-22"
   ]
  },
  {
   "cell_type": "code",
   "execution_count": 1,
   "id": "e64715a4",
   "metadata": {},
   "outputs": [],
   "source": [
    "a = 10"
   ]
  },
  {
   "cell_type": "code",
   "execution_count": 2,
   "id": "c324d50f",
   "metadata": {},
   "outputs": [
    {
     "data": {
      "text/plain": [
       "10"
      ]
     },
     "execution_count": 2,
     "metadata": {},
     "output_type": "execute_result"
    }
   ],
   "source": [
    "a"
   ]
  },
  {
   "cell_type": "code",
   "execution_count": 4,
   "id": "81d2457a",
   "metadata": {},
   "outputs": [
    {
     "data": {
      "text/plain": [
       "8"
      ]
     },
     "execution_count": 4,
     "metadata": {},
     "output_type": "execute_result"
    }
   ],
   "source": [
    "a-2 "
   ]
  },
  {
   "cell_type": "code",
   "execution_count": 5,
   "id": "c26adc72",
   "metadata": {},
   "outputs": [],
   "source": [
    "vijay = 10"
   ]
  },
  {
   "cell_type": "code",
   "execution_count": 6,
   "id": "b3df3fc0",
   "metadata": {},
   "outputs": [
    {
     "data": {
      "text/plain": [
       "10"
      ]
     },
     "execution_count": 6,
     "metadata": {},
     "output_type": "execute_result"
    }
   ],
   "source": [
    "vijay"
   ]
  },
  {
   "cell_type": "code",
   "execution_count": 9,
   "id": "36d4aafa",
   "metadata": {},
   "outputs": [
    {
     "data": {
      "text/plain": [
       "8"
      ]
     },
     "execution_count": 9,
     "metadata": {},
     "output_type": "execute_result"
    }
   ],
   "source": [
    "vijay-2"
   ]
  },
  {
   "cell_type": "markdown",
   "id": "47fb6015",
   "metadata": {},
   "source": [
    "                            'Type' - inbuild function avaialbe inside Python"
   ]
  },
  {
   "cell_type": "code",
   "execution_count": 11,
   "id": "b5a74718",
   "metadata": {},
   "outputs": [
    {
     "data": {
      "text/plain": [
       "int"
      ]
     },
     "execution_count": 11,
     "metadata": {},
     "output_type": "execute_result"
    }
   ],
   "source": [
    "type(vijay)"
   ]
  },
  {
   "cell_type": "markdown",
   "id": "7e4afdf9",
   "metadata": {},
   "source": [
    "        'Float'- inbuild function avaialbe inside Python ( because of full stop or dot its a floating point)"
   ]
  },
  {
   "cell_type": "code",
   "execution_count": 12,
   "id": "f0f7e9af",
   "metadata": {},
   "outputs": [],
   "source": [
    "a = 34.09"
   ]
  },
  {
   "cell_type": "code",
   "execution_count": 13,
   "id": "21cb2b9d",
   "metadata": {},
   "outputs": [
    {
     "data": {
      "text/plain": [
       "float"
      ]
     },
     "execution_count": 13,
     "metadata": {},
     "output_type": "execute_result"
    }
   ],
   "source": [
    "type(a)"
   ]
  },
  {
   "cell_type": "markdown",
   "id": "1aef3716",
   "metadata": {},
   "source": [
    "'string' - inbuild function avaialbe inside Python ( string mean any character we write in words is a string not a numbers )"
   ]
  },
  {
   "cell_type": "code",
   "execution_count": 17,
   "id": "954d3b03",
   "metadata": {},
   "outputs": [],
   "source": [
    "b = \"this is my first class of python & today's date is 14th May 2022\""
   ]
  },
  {
   "cell_type": "code",
   "execution_count": 18,
   "id": "6aaf555f",
   "metadata": {},
   "outputs": [
    {
     "data": {
      "text/plain": [
       "str"
      ]
     },
     "execution_count": 18,
     "metadata": {},
     "output_type": "execute_result"
    }
   ],
   "source": [
    "type(b)"
   ]
  },
  {
   "cell_type": "markdown",
   "id": "b7fd65ad",
   "metadata": {},
   "source": [
    "                   \"Integer\" - inbuild function avaialbe inside Python "
   ]
  },
  {
   "cell_type": "code",
   "execution_count": 5,
   "id": "0c0f02d4",
   "metadata": {},
   "outputs": [],
   "source": [
    "c = 12345678"
   ]
  },
  {
   "cell_type": "code",
   "execution_count": 6,
   "id": "89e925e8",
   "metadata": {},
   "outputs": [
    {
     "data": {
      "text/plain": [
       "int"
      ]
     },
     "execution_count": 6,
     "metadata": {},
     "output_type": "execute_result"
    }
   ],
   "source": [
    "type(c)"
   ]
  },
  {
   "cell_type": "markdown",
   "id": "58911e43",
   "metadata": {},
   "source": [
    "         Boolean or Bool - inbuild function avaialbe inside Python ( Here True means - 1 & False means - 0)"
   ]
  },
  {
   "cell_type": "code",
   "execution_count": 28,
   "id": "a51b3f3f",
   "metadata": {},
   "outputs": [],
   "source": [
    "v = True"
   ]
  },
  {
   "cell_type": "code",
   "execution_count": 29,
   "id": "f9db2df4",
   "metadata": {},
   "outputs": [
    {
     "data": {
      "text/plain": [
       "bool"
      ]
     },
     "execution_count": 29,
     "metadata": {},
     "output_type": "execute_result"
    }
   ],
   "source": [
    "type(v)"
   ]
  },
  {
   "cell_type": "code",
   "execution_count": 31,
   "id": "7f719c03",
   "metadata": {},
   "outputs": [],
   "source": [
    "v = False "
   ]
  },
  {
   "cell_type": "code",
   "execution_count": 32,
   "id": "40502526",
   "metadata": {},
   "outputs": [
    {
     "data": {
      "text/plain": [
       "bool"
      ]
     },
     "execution_count": 32,
     "metadata": {},
     "output_type": "execute_result"
    }
   ],
   "source": [
    "type(v)"
   ]
  },
  {
   "cell_type": "code",
   "execution_count": 33,
   "id": "5c6cd7db",
   "metadata": {},
   "outputs": [
    {
     "data": {
      "text/plain": [
       "1"
      ]
     },
     "execution_count": 33,
     "metadata": {},
     "output_type": "execute_result"
    }
   ],
   "source": [
    "True-False"
   ]
  },
  {
   "cell_type": "code",
   "execution_count": 34,
   "id": "8df43b06",
   "metadata": {},
   "outputs": [
    {
     "data": {
      "text/plain": [
       "0"
      ]
     },
     "execution_count": 34,
     "metadata": {},
     "output_type": "execute_result"
    }
   ],
   "source": [
    "True-True"
   ]
  },
  {
   "cell_type": "code",
   "execution_count": 35,
   "id": "55bde8d5",
   "metadata": {},
   "outputs": [
    {
     "data": {
      "text/plain": [
       "0"
      ]
     },
     "execution_count": 35,
     "metadata": {},
     "output_type": "execute_result"
    }
   ],
   "source": [
    "True-1"
   ]
  },
  {
   "cell_type": "code",
   "execution_count": 36,
   "id": "085cc091",
   "metadata": {},
   "outputs": [
    {
     "data": {
      "text/plain": [
       "1"
      ]
     },
     "execution_count": 36,
     "metadata": {},
     "output_type": "execute_result"
    }
   ],
   "source": [
    "True*True"
   ]
  },
  {
   "cell_type": "code",
   "execution_count": 37,
   "id": "fb26dcb2",
   "metadata": {},
   "outputs": [
    {
     "ename": "ZeroDivisionError",
     "evalue": "division by zero",
     "output_type": "error",
     "traceback": [
      "\u001b[1;31m---------------------------------------------------------------------------\u001b[0m",
      "\u001b[1;31mZeroDivisionError\u001b[0m                         Traceback (most recent call last)",
      "\u001b[1;32m~\\AppData\\Local\\Temp\\ipykernel_6176\\2794436645.py\u001b[0m in \u001b[0;36m<module>\u001b[1;34m\u001b[0m\n\u001b[1;32m----> 1\u001b[1;33m \u001b[1;32mTrue\u001b[0m\u001b[1;33m/\u001b[0m\u001b[1;32mFalse\u001b[0m\u001b[1;33m\u001b[0m\u001b[1;33m\u001b[0m\u001b[0m\n\u001b[0m",
      "\u001b[1;31mZeroDivisionError\u001b[0m: division by zero"
     ]
    }
   ],
   "source": [
    "True/False"
   ]
  },
  {
   "cell_type": "code",
   "execution_count": null,
   "id": "4ba6c39f",
   "metadata": {},
   "outputs": [],
   "source": [
    "              Complex -  inbuild function avaialbe inside Python "
   ]
  },
  {
   "cell_type": "code",
   "execution_count": 1,
   "id": "37a684cc",
   "metadata": {},
   "outputs": [],
   "source": [
    "v = 5+7j"
   ]
  },
  {
   "cell_type": "code",
   "execution_count": 2,
   "id": "b5e6a531",
   "metadata": {},
   "outputs": [
    {
     "data": {
      "text/plain": [
       "complex"
      ]
     },
     "execution_count": 2,
     "metadata": {},
     "output_type": "execute_result"
    }
   ],
   "source": [
    "type(v)"
   ]
  },
  {
   "cell_type": "code",
   "execution_count": 3,
   "id": "7ccd396a",
   "metadata": {},
   "outputs": [
    {
     "data": {
      "text/plain": [
       "(10+14j)"
      ]
     },
     "execution_count": 3,
     "metadata": {},
     "output_type": "execute_result"
    }
   ],
   "source": [
    "v+v"
   ]
  },
  {
   "cell_type": "markdown",
   "id": "25f431b8",
   "metadata": {},
   "source": [
    "Here there is 3 Function inside - Complex - (5+7j) -  1.Conjugate 2.imag 3.real\n",
    "\n",
    "2.Imag -  image left side of no 5 \n",
    "\n",
    "3.Real - Real is right side no 7"
   ]
  },
  {
   "cell_type": "code",
   "execution_count": 10,
   "id": "d8830ad8",
   "metadata": {},
   "outputs": [
    {
     "data": {
      "text/plain": [
       "<function complex.conjugate>"
      ]
     },
     "execution_count": 10,
     "metadata": {},
     "output_type": "execute_result"
    }
   ],
   "source": [
    "v.conjugate"
   ]
  },
  {
   "cell_type": "code",
   "execution_count": 11,
   "id": "428f54bd",
   "metadata": {},
   "outputs": [
    {
     "data": {
      "text/plain": [
       "7.0"
      ]
     },
     "execution_count": 11,
     "metadata": {},
     "output_type": "execute_result"
    }
   ],
   "source": [
    "v.imag"
   ]
  },
  {
   "cell_type": "code",
   "execution_count": 12,
   "id": "5caf9fe2",
   "metadata": {},
   "outputs": [
    {
     "data": {
      "text/plain": [
       "5.0"
      ]
     },
     "execution_count": 12,
     "metadata": {},
     "output_type": "execute_result"
    }
   ],
   "source": [
    "v.real"
   ]
  },
  {
   "cell_type": "markdown",
   "id": "77f629ff",
   "metadata": {},
   "source": [
    "                              String(str) - \n",
    "    \n",
    "   string inside there is multiple function available which we will learn next string class \n",
    "    \n",
    "    "
   ]
  },
  {
   "cell_type": "code",
   "execution_count": 19,
   "id": "a956548d",
   "metadata": {},
   "outputs": [],
   "source": [
    "b = \"this is my first class in python 14th may 2022\""
   ]
  },
  {
   "cell_type": "code",
   "execution_count": 20,
   "id": "4141f82f",
   "metadata": {},
   "outputs": [
    {
     "data": {
      "text/plain": [
       "str"
      ]
     },
     "execution_count": 20,
     "metadata": {},
     "output_type": "execute_result"
    }
   ],
   "source": [
    "type(b)"
   ]
  },
  {
   "cell_type": "code",
   "execution_count": 21,
   "id": "fb390262",
   "metadata": {},
   "outputs": [],
   "source": [
    "b = \"this is my first class in python 14th may 2022\""
   ]
  },
  {
   "cell_type": "code",
   "execution_count": 22,
   "id": "cfd8b7bb",
   "metadata": {},
   "outputs": [
    {
     "data": {
      "text/plain": [
       "'this is my first class in python 14th may 2022'"
      ]
     },
     "execution_count": 22,
     "metadata": {},
     "output_type": "execute_result"
    }
   ],
   "source": [
    "b"
   ]
  },
  {
   "cell_type": "markdown",
   "id": "ba10fb36",
   "metadata": {},
   "source": [
    "                               List(L) - \n",
    "    \n",
    "    List is anothere variable where we can store combination of numbers. If I would say I would like to store \n",
    "    integer, Floating point number, string etc inside string it can possible.\n",
    "    \n",
    "Definition -  Any number of heterogeneous or Homogeneous data we are able to accomedated inside a one single variable which is \"List\" (L)"
   ]
  },
  {
   "cell_type": "code",
   "execution_count": 23,
   "id": "aed1875c",
   "metadata": {},
   "outputs": [],
   "source": [
    "v = [3,4,5,6,\"vijay\",True,False,5+7j, 345.456]"
   ]
  },
  {
   "cell_type": "code",
   "execution_count": 24,
   "id": "1a9c11dd",
   "metadata": {},
   "outputs": [
    {
     "data": {
      "text/plain": [
       "list"
      ]
     },
     "execution_count": 24,
     "metadata": {},
     "output_type": "execute_result"
    }
   ],
   "source": [
    "type(v)"
   ]
  },
  {
   "cell_type": "code",
   "execution_count": 25,
   "id": "c7327775",
   "metadata": {},
   "outputs": [],
   "source": [
    "v = [3,4,5,6,\"vijay\",True,False,5+7j, 345.456]"
   ]
  },
  {
   "cell_type": "code",
   "execution_count": 26,
   "id": "4c8bc400",
   "metadata": {},
   "outputs": [
    {
     "data": {
      "text/plain": [
       "4"
      ]
     },
     "execution_count": 26,
     "metadata": {},
     "output_type": "execute_result"
    }
   ],
   "source": [
    "v[1]"
   ]
  },
  {
   "cell_type": "markdown",
   "id": "d9d62c03",
   "metadata": {},
   "source": [
    "                         \"Tuples\"\n",
    "    \n",
    "Tuples always use normal bracket () where as \"List\" use square bracket. One difference between them is \n",
    "\n",
    "                 \"Mutability & Immutability\""
   ]
  },
  {
   "cell_type": "code",
   "execution_count": 27,
   "id": "1f9b8bcd",
   "metadata": {},
   "outputs": [],
   "source": [
    "t = (324,456,65,456,46,\"4568\",\"vijay\")"
   ]
  },
  {
   "cell_type": "code",
   "execution_count": 28,
   "id": "4080d099",
   "metadata": {},
   "outputs": [
    {
     "data": {
      "text/plain": [
       "tuple"
      ]
     },
     "execution_count": 28,
     "metadata": {},
     "output_type": "execute_result"
    }
   ],
   "source": [
    "type(t)"
   ]
  },
  {
   "cell_type": "markdown",
   "id": "6adb2fd1",
   "metadata": {},
   "source": [
    "                               \"Dictionary\"\n",
    "    \n",
    "               There is another variable called \"Dictionary\"\n",
    "        \n",
    "      In dictionary we able to find out basically a Key value kind of a pair.\n",
    "    \n",
    "      Example - a = key & \"vijay\" = value"
   ]
  },
  {
   "cell_type": "code",
   "execution_count": 31,
   "id": "40cfd73e",
   "metadata": {},
   "outputs": [],
   "source": [
    "d = {\"a\": \"vijay\", \"b\":\"gurung\",\"c\":23456}"
   ]
  },
  {
   "cell_type": "code",
   "execution_count": 32,
   "id": "a5c7cc5e",
   "metadata": {},
   "outputs": [
    {
     "data": {
      "text/plain": [
       "dict"
      ]
     },
     "execution_count": 32,
     "metadata": {},
     "output_type": "execute_result"
    }
   ],
   "source": [
    "type(d)"
   ]
  },
  {
   "cell_type": "markdown",
   "id": "76cdc658",
   "metadata": {},
   "source": [
    "                               \"SET\"\n",
    "         There is another kind of variable exist in Python called \"Set\""
   ]
  },
  {
   "cell_type": "code",
   "execution_count": 34,
   "id": "33cf33d8",
   "metadata": {},
   "outputs": [],
   "source": [
    "d = {\"vijay\",\"gurung\",\"fruit\",\"vegetable\"}"
   ]
  },
  {
   "cell_type": "code",
   "execution_count": 35,
   "id": "6951d03a",
   "metadata": {},
   "outputs": [
    {
     "data": {
      "text/plain": [
       "set"
      ]
     },
     "execution_count": 35,
     "metadata": {},
     "output_type": "execute_result"
    }
   ],
   "source": [
    "type(d)"
   ]
  },
  {
   "cell_type": "code",
   "execution_count": null,
   "id": "abf31582",
   "metadata": {},
   "outputs": [],
   "source": []
  }
 ],
 "metadata": {
  "kernelspec": {
   "display_name": "Python 3 (ipykernel)",
   "language": "python",
   "name": "python3"
  },
  "language_info": {
   "codemirror_mode": {
    "name": "ipython",
    "version": 3
   },
   "file_extension": ".py",
   "mimetype": "text/x-python",
   "name": "python",
   "nbconvert_exporter": "python",
   "pygments_lexer": "ipython3",
   "version": "3.9.13"
  }
 },
 "nbformat": 4,
 "nbformat_minor": 5
}
