{
 "cells": [
  {
   "cell_type": "markdown",
   "id": "ab0ce05c",
   "metadata": {},
   "source": [
    "                                  #29-MAY-22\n",
    "\n",
    "                               6th Class - \"Python\"\n",
    "\n",
    "                            WHILE LOOP & FUNCTION BASIC"
   ]
  },
  {
   "cell_type": "code",
   "execution_count": 1,
   "id": "bb9f9ed0",
   "metadata": {},
   "outputs": [],
   "source": [
    "# Summary:-\n",
    "\n",
    "# For Loop :-  Lets suppose there is a collection or there is a iterable object, so one by one we can start extracting all of\n",
    "# those objects with the help of the \"For Loop\"\n",
    "\n",
    "# If we have to perform some short of a operation, some short of a manipulation, or some short of a append operation,\n",
    "# Concatenation operationm merged operation. We will be able to do it with the help of \"FOR LOOP\"\n",
    "\n",
    "# While Loop :- \n",
    "\n",
    "# While is basically a loop & loop simply means that, we have to extract some data or if we have to run something one & after\n",
    "# another steps, for that we can use loop & with the help of Loop. I can perform all those kind of operation."
   ]
  },
  {
   "cell_type": "code",
   "execution_count": 2,
   "id": "b6f2fbac",
   "metadata": {},
   "outputs": [
    {
     "name": "stdout",
     "output_type": "stream",
     "text": [
      "1\n",
      "2\n",
      "3\n",
      "4\n",
      "5\n",
      "6\n",
      "7\n",
      "8\n",
      "9\n"
     ]
    }
   ],
   "source": [
    "# Code No.1 :-\n",
    "\n",
    "#Lets suppose, I have to may be generate a number starting from 1 till 10.\n",
    "#There are multiple way to generate a number, but we can try to use may be a range operation, range function we can try to use\n",
    "# & with the helpof range function, we can able to genertae a number.\n",
    "# I can even use \"For Loop\" with the help of that I can generate a numbers between 1 till 10.\n",
    "\n",
    "# While Loop is a reserved keyword inside a Python.\n",
    "\n",
    "a = 1 \n",
    "b = 10\n",
    "while a<10 :\n",
    "    print(a)\n",
    "    a = a+1"
   ]
  },
  {
   "cell_type": "code",
   "execution_count": 3,
   "id": "04e61aa8",
   "metadata": {},
   "outputs": [
    {
     "name": "stdout",
     "output_type": "stream",
     "text": [
      "1\n",
      "3\n",
      "5\n",
      "7\n",
      "9\n",
      "Print this else block\n"
     ]
    }
   ],
   "source": [
    "# Code No.2 :- Here come we used \"while Loop\" & \"else\" condition. we all already seen that \"For\" along with \"Else\" for, \"Else\" \n",
    "#Condition , it will ome to the \"else\" once for loop will be able exhauste itself Completely.\n",
    "\n",
    "a = 1\n",
    "b = 10\n",
    "while a<10 :\n",
    "    print(a)\n",
    "    a = a+2\n",
    "else :\n",
    "    print(\"Print this else block\")"
   ]
  },
  {
   "cell_type": "code",
   "execution_count": 4,
   "id": "f8078232",
   "metadata": {},
   "outputs": [
    {
     "name": "stdout",
     "output_type": "stream",
     "text": [
      "1\n",
      "2\n",
      "3\n",
      "4\n",
      "5\n"
     ]
    }
   ],
   "source": [
    "# Code No.3 :- Same as a \"FOR Loop\" also even incase \"FOR LOOP\" break it option, it will not going to execute,\n",
    "#Something that we have written inside else block.\n",
    "\n",
    "a = 1\n",
    "b = 10\n",
    "while a<10 :\n",
    "    print(a)\n",
    "    if a == 5:\n",
    "        break\n",
    "    a = a+1\n",
    "else:\n",
    "    print(\"print this\")"
   ]
  },
  {
   "cell_type": "code",
   "execution_count": null,
   "id": "3cebf956",
   "metadata": {},
   "outputs": [],
   "source": [
    "#Code No.4 :-  Dont run these code now. Because, as outcome it will be end infinite never ending. \"3\"\n",
    "\n",
    "#I have taken here \" Continue\" is a reversed keyword like \"break\"\n",
    "\n",
    "#a = 1\n",
    "b = 10\n",
    "while a<10 :\n",
    "    print(a)\n",
    "    if a == 3:\n",
    "        continue\n",
    "    a = a+1\n",
    "\n",
    "    \n",
    "#Dont run these code now Just otherwise laptop hang"
   ]
  },
  {
   "cell_type": "code",
   "execution_count": 5,
   "id": "35c80aa6",
   "metadata": {},
   "outputs": [
    {
     "name": "stdout",
     "output_type": "stream",
     "text": [
      "2\n",
      "4\n",
      "5\n",
      "6\n",
      "7\n",
      "8\n",
      "9\n",
      "10\n"
     ]
    }
   ],
   "source": [
    "# Code No.5 :- Her we have used \"3\". As a outcome we can see  2 upto 10 - : \"3\" is missing or skip.\n",
    "\n",
    "# Here why 1 not printed  (a = a+1 or / a = 1+1 = 2 ) & why 3 is mising in outcome, because it comes in True Statement.\n",
    "# a = a+1 or a = a+1\n",
    "#              = 2+1\n",
    "#              = 3\n",
    "\n",
    "# if a == 3 : or if 3 == 3 : ( this is a \"True Statement\")\n",
    "\n",
    "# the nature of \" Continue statement\" is that one it is come under ontinue statement it will immeditely give  control to the\n",
    "#while Loop or it will direct go to the top. \n",
    "\n",
    "a = 1\n",
    "b = 10\n",
    "while a<10 :\n",
    "    a = a+1\n",
    "    if a == 3:\n",
    "        continue\n",
    "    print(a)"
   ]
  },
  {
   "cell_type": "code",
   "execution_count": 6,
   "id": "d7247b56",
   "metadata": {},
   "outputs": [
    {
     "name": "stdout",
     "output_type": "stream",
     "text": [
      "2\n",
      "3\n",
      "4\n",
      "5\n",
      "6\n",
      "7\n",
      "8\n",
      "9\n",
      "10\n"
     ]
    }
   ],
   "source": [
    "# Code No.6 :- Here I have written instead of \"Continue\" a \"Pass\"\n",
    "\n",
    "a = 1\n",
    "b = 10\n",
    "while a<b :\n",
    "    a = a+1\n",
    "    if a == 3 :\n",
    "        pass\n",
    "    print(a)    "
   ]
  },
  {
   "cell_type": "code",
   "execution_count": 7,
   "id": "44c08789",
   "metadata": {},
   "outputs": [],
   "source": [
    "# Definition :-\n",
    "\n",
    "# Continue :- Continue always throught a control when we write code & if it comes under \"Continue\" statement.\n",
    "# Immeditely it will throught a control & gove it to depend we are doing \"FOR Loop\" or While loop.\n",
    "\n",
    "# Pass :- \"pass\" do not throught control like continue does , Pass simply means that doing nothing.\n",
    "# If we do not have to do anything then we can write \"Pass statement\""
   ]
  },
  {
   "cell_type": "code",
   "execution_count": null,
   "id": "776f3e47",
   "metadata": {},
   "outputs": [],
   "source": [
    "# Code No.7 :-\n",
    "\n",
    "# Here we can see that normally if we write code using \"List\" we are geeting outcome.\n",
    "\n",
    "#Same here while we are using \"while Loop\" then also geeting same outcome result over here.Here we can generate similar \n",
    "#Kind of outcome.\n",
    "\n",
    "# \"While Loop\" here we can same type of outcome, I am able to generate even help of while loop.\n",
    "\n",
    "\n",
    "l = [1,2,3,4,65,56]"
   ]
  },
  {
   "cell_type": "code",
   "execution_count": null,
   "id": "9dade955",
   "metadata": {},
   "outputs": [],
   "source": [
    "for i in l :\n",
    "    print(i)"
   ]
  },
  {
   "cell_type": "code",
   "execution_count": null,
   "id": "09e7482a",
   "metadata": {},
   "outputs": [],
   "source": [
    "1"
   ]
  },
  {
   "cell_type": "code",
   "execution_count": null,
   "id": "d7a0f454",
   "metadata": {},
   "outputs": [],
   "source": [
    "2"
   ]
  },
  {
   "cell_type": "code",
   "execution_count": null,
   "id": "a16c7d6b",
   "metadata": {},
   "outputs": [],
   "source": [
    "3"
   ]
  },
  {
   "cell_type": "code",
   "execution_count": null,
   "id": "37354bec",
   "metadata": {},
   "outputs": [],
   "source": [
    "4"
   ]
  },
  {
   "cell_type": "code",
   "execution_count": null,
   "id": "c9ed16a2",
   "metadata": {},
   "outputs": [],
   "source": [
    "65"
   ]
  },
  {
   "cell_type": "code",
   "execution_count": null,
   "id": "c3a0c808",
   "metadata": {},
   "outputs": [],
   "source": [
    "56"
   ]
  },
  {
   "cell_type": "code",
   "execution_count": null,
   "id": "f86d57a2",
   "metadata": {},
   "outputs": [],
   "source": [
    "len(l)"
   ]
  },
  {
   "cell_type": "markdown",
   "id": "d172d28b",
   "metadata": {},
   "source": [
    "6"
   ]
  },
  {
   "cell_type": "code",
   "execution_count": null,
   "id": "a07446a2",
   "metadata": {},
   "outputs": [],
   "source": [
    "# Code No.8 :-\n",
    "\n",
    "#Dont use this code just for understading otherwise hang laptop.\n",
    "\n",
    "a = 0\n",
    "while a< len(l):\n",
    "    print(l[a])\n",
    "    \n",
    "#Dont run thing code otherwise hang system."
   ]
  },
  {
   "cell_type": "code",
   "execution_count": null,
   "id": "163c27c4",
   "metadata": {},
   "outputs": [],
   "source": [
    "# Code No.9 :-\n",
    "\n",
    "# For this code problem statement was that.\n",
    "# Try to find oou with the help of while loop index of 6 & 7.\n",
    "\n",
    "# So here (3,4,5,6,7,8,9) Total length (t) is = 7 means (3,4,5,6,7,8,9 = 7 digits) & a =0 \n",
    "\n",
    "# a<len(t) or a<7 or 0<7\n",
    "\n",
    "t = (3,4,5,6,7,8,9)"
   ]
  },
  {
   "cell_type": "code",
   "execution_count": null,
   "id": "9a7922f8",
   "metadata": {},
   "outputs": [],
   "source": [
    "a = 0\n",
    "while a<len(t) :\n",
    "    if t [a] == 6 or t[a] == 7 :\n",
    "        print(a)\n",
    "    a = a+1"
   ]
  },
  {
   "cell_type": "code",
   "execution_count": null,
   "id": "b98762f9",
   "metadata": {},
   "outputs": [],
   "source": [
    "3"
   ]
  },
  {
   "cell_type": "code",
   "execution_count": null,
   "id": "5c9982b0",
   "metadata": {},
   "outputs": [],
   "source": [
    "4"
   ]
  },
  {
   "cell_type": "code",
   "execution_count": 1,
   "id": "7ea9fd08",
   "metadata": {},
   "outputs": [
    {
     "name": "stdout",
     "output_type": "stream",
     "text": [
      "index of 7 is -3\n",
      "index of 6 is -4\n"
     ]
    }
   ],
   "source": [
    " # Code No. 10 :-\n",
    "    \n",
    "# Question :- we already done forward index last code.(Positive Side 0 till 7) \n",
    "                             # Now I am trying to do a backward index.means (from -9-8..... till -3)\n",
    "# if t[a] == 6 or t[a] == 7: 0r if t[-4] == 6 ( True Statement or t[-4] == 7 ( False statement)\n",
    "    # I am expecting outcome as a\n",
    "#-3 & \n",
    "#-4.\n",
    "\n",
    "t = (3,4,5,6,7,8,9)\n",
    "a = -1\n",
    "while a>-len(t):\n",
    "    if t[a] == 6 or t[a] == 7:\n",
    "        print('index of',t[a],'is',a)\n",
    "    a = a-1"
   ]
  },
  {
   "cell_type": "code",
   "execution_count": 2,
   "id": "b4f77e81",
   "metadata": {},
   "outputs": [
    {
     "name": "stdout",
     "output_type": "stream",
     "text": [
      "-3\n",
      "-4\n"
     ]
    }
   ],
   "source": [
    "# code No.11 :-\n",
    "\n",
    "# This code was fixing someone ( Slightly make changes in sysbol part).\n",
    "\n",
    "l = (3,4,5,6,7,8,9)\n",
    "i = 0\n",
    "while i> -len(l):\n",
    "    if(l[i]==6) or l[i]==7 :\n",
    "        print(i)\n",
    "    i=i-1"
   ]
  },
  {
   "cell_type": "code",
   "execution_count": null,
   "id": "b54ed4b9",
   "metadata": {},
   "outputs": [],
   "source": [
    "# Code No.12\n",
    "\n",
    "# Probelm Statement :- \n",
    "\n",
    "# This is below we have a dictionary, we have & we have to extrat all the \"values\" with the help of \n",
    "#While Loop.\n",
    "# Note :-\n",
    "# As we know while Loop always try to check a condtion 1st place, if the condition is geeting to be \"True\"\n",
    "# only in that situation, it is going to give me dataset otherwise it is not going me a dataset.\n",
    "# This is soething \"While Loop\" always does. \n",
    "#Below - Exmple\"key is key1\" \"value is - \"vijay\" likes this goes on.\n",
    "\n",
    "d = {\"k1\":\"vijay\",\"k2\":[1,2,3,4],\"k3\":(2,3,4,5)}"
   ]
  },
  {
   "cell_type": "code",
   "execution_count": null,
   "id": "18e7c46c",
   "metadata": {},
   "outputs": [],
   "source": [
    "len(d)"
   ]
  },
  {
   "cell_type": "markdown",
   "id": "7b5ef795",
   "metadata": {},
   "source": [
    "3"
   ]
  },
  {
   "cell_type": "code",
   "execution_count": null,
   "id": "e0741866",
   "metadata": {},
   "outputs": [],
   "source": [
    "#Code No.13\n",
    "\n",
    "# Note :-  We can extract the values one way is to extract all the values by using.\n",
    "\n",
    "# (d.values or dictionary.values or d.items) over there, i will be able to get all the keys & values \n",
    "# pair in the form of \"Tuples\".\n",
    "\n",
    "# These all are thr inbuild function whch is already available for us.\n",
    "\n",
    "# My poblem statement is that, find out the \"values\" with the help of \"while Loop\".\n",
    "\n",
    "\n",
    "a = 0\n",
    "b = list(d.keys())\n",
    "while a<= len(d):\n",
    "    pass"
   ]
  },
  {
   "cell_type": "code",
   "execution_count": null,
   "id": "4a0c78f8",
   "metadata": {},
   "outputs": [],
   "source": [
    "b = list(d.keys())"
   ]
  },
  {
   "cell_type": "code",
   "execution_count": null,
   "id": "9cba58a4",
   "metadata": {},
   "outputs": [],
   "source": [
    "# outcome should be - ['key1','k2','k3']\n",
    "\n",
    "b"
   ]
  },
  {
   "cell_type": "markdown",
   "id": "9a7111b9",
   "metadata": {},
   "source": [
    "['key1','k2','k3']"
   ]
  },
  {
   "cell_type": "code",
   "execution_count": null,
   "id": "9370e57e",
   "metadata": {},
   "outputs": [],
   "source": [
    "# Code No. 14\n",
    "\n",
    "# Here I am looking for all \"vales\" as a outcome. This is how we are able to take out or exract the \n",
    "# \"Values\" from the dictionary with the help of \"while Loop\".\n",
    "\n",
    "a = 0 \n",
    "b = list(d.keys())\n",
    "while a< len(d):\n",
    "    print(d[b][a])\n",
    "    a = a+1"
   ]
  },
  {
   "cell_type": "code",
   "execution_count": null,
   "id": "cf4afe35",
   "metadata": {},
   "outputs": [],
   "source": [
    "vijay\n",
    "[1,2,3,4]\n",
    "(2,3,4,5)"
   ]
  },
  {
   "cell_type": "code",
   "execution_count": null,
   "id": "a68743f0",
   "metadata": {},
   "outputs": [],
   "source": [
    "# Code No. 14\n",
    "\n",
    "# "
   ]
  }
 ],
 "metadata": {
  "kernelspec": {
   "display_name": "Python 3 (ipykernel)",
   "language": "python",
   "name": "python3"
  },
  "language_info": {
   "codemirror_mode": {
    "name": "ipython",
    "version": 3
   },
   "file_extension": ".py",
   "mimetype": "text/x-python",
   "name": "python",
   "nbconvert_exporter": "python",
   "pygments_lexer": "ipython3",
   "version": "3.9.13"
  }
 },
 "nbformat": 4,
 "nbformat_minor": 5
}
