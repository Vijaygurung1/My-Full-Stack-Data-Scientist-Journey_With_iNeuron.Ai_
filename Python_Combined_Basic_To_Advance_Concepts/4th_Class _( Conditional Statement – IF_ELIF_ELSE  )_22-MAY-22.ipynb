{
 "cells": [
  {
   "cell_type": "markdown",
   "id": "584df09b",
   "metadata": {},
   "source": [
    "                                           #22-MAY-22\n",
    "\n",
    "                                       4th Class - \"Python\"\n",
    "          \n",
    "                                              #1.IF\n",
    "\n",
    "                                              #2..ELIF\n",
    "\n",
    "                                              #3.ELSE"
   ]
  },
  {
   "cell_type": "code",
   "execution_count": 1,
   "id": "afa16aa2",
   "metadata": {},
   "outputs": [
    {
     "ename": "SyntaxError",
     "evalue": "invalid syntax (177280026.py, line 3)",
     "output_type": "error",
     "traceback": [
      "\u001b[1;36m  File \u001b[1;32m\"C:\\Users\\Admin\\AppData\\Local\\Temp\\ipykernel_9500\\177280026.py\"\u001b[1;36m, line \u001b[1;32m3\u001b[0m\n\u001b[1;33m    if a = = 10\u001b[0m\n\u001b[1;37m         ^\u001b[0m\n\u001b[1;31mSyntaxError\u001b[0m\u001b[1;31m:\u001b[0m invalid syntax\n"
     ]
    }
   ],
   "source": [
    "#1\n",
    "a = 10\n",
    "if a = = 10"
   ]
  },
  {
   "cell_type": "code",
   "execution_count": null,
   "id": "94d766e7",
   "metadata": {},
   "outputs": [],
   "source": [
    "#2\n",
    "a = 10\n",
    "if a == 10 :\n",
    "    print(\"this is my first condition\")"
   ]
  },
  {
   "cell_type": "code",
   "execution_count": null,
   "id": "1bcf08c3",
   "metadata": {},
   "outputs": [],
   "source": [
    "#3 Blank no outcome\n",
    "a =  10 \n",
    "if a == 11 :\n",
    "    print(\"this is my first condition\")"
   ]
  },
  {
   "cell_type": "code",
   "execution_count": null,
   "id": "b5f27c36",
   "metadata": {},
   "outputs": [],
   "source": []
  },
  {
   "cell_type": "code",
   "execution_count": null,
   "id": "161aaef9",
   "metadata": {},
   "outputs": [],
   "source": [
    "#4.\n",
    "a = 10 \n",
    "if a>5 :"
   ]
  },
  {
   "cell_type": "code",
   "execution_count": null,
   "id": "0449895a",
   "metadata": {},
   "outputs": [],
   "source": [
    "#6 Code\n",
    "a = 10\n",
    "if a>5 :\n",
    "    pass"
   ]
  },
  {
   "cell_type": "code",
   "execution_count": null,
   "id": "3a7830d1",
   "metadata": {},
   "outputs": [],
   "source": []
  },
  {
   "cell_type": "code",
   "execution_count": null,
   "id": "c216912c",
   "metadata": {},
   "outputs": [],
   "source": [
    "#7 Code\n",
    "a = 10\n",
    "if a>8 :\n",
    "    print(\"print this if condition is true\")"
   ]
  },
  {
   "cell_type": "code",
   "execution_count": null,
   "id": "fab85d56",
   "metadata": {},
   "outputs": [],
   "source": [
    "#8.Blank no outcome\n",
    "\n",
    "a = 10 \n",
    "if a<8 :\n",
    "    print(\"print this if condition is True\")"
   ]
  },
  {
   "cell_type": "code",
   "execution_count": null,
   "id": "f2609e00",
   "metadata": {},
   "outputs": [],
   "source": []
  },
  {
   "cell_type": "code",
   "execution_count": null,
   "id": "05af0424",
   "metadata": {},
   "outputs": [],
   "source": [
    "#9 code \n",
    "a = 10\n",
    "if a!= 11:\n",
    "    print(\"my condition is false\")\n",
    "else :\n",
    "    print(\"print this\")"
   ]
  },
  {
   "cell_type": "code",
   "execution_count": null,
   "id": "728083e9",
   "metadata": {},
   "outputs": [],
   "source": []
  },
  {
   "cell_type": "code",
   "execution_count": null,
   "id": "272af3a4",
   "metadata": {},
   "outputs": [],
   "source": [
    "#10 No code \n",
    "\n",
    "a=10\n",
    "if a == 11:\n",
    "    print(\"my condition is false\")\n",
    "else :\n",
    "    print(\"print this\")"
   ]
  },
  {
   "cell_type": "code",
   "execution_count": null,
   "id": "d17ade78",
   "metadata": {},
   "outputs": [],
   "source": [
    "#11. No- Code \n",
    "\n",
    "a = 10\n",
    "if a == 12 :\n",
    "    print(\"here we are trying to compare 10 with 12\")\n",
    "    \n",
    "elif a == 11 :\n",
    "    print(\"we are trying to compare 10 with 11\")\n",
    "    \n",
    "else :\n",
    "    print(\"if all the block will fail then do this\")"
   ]
  },
  {
   "cell_type": "code",
   "execution_count": null,
   "id": "095d5d53",
   "metadata": {},
   "outputs": [],
   "source": [
    "#12 No Code \n",
    "\n",
    "a = 10 \n",
    "if a == 12 :\n",
    "    print(\"here we are trying to compare 10 with 12\")\n",
    "elif a == 10 :\n",
    "    print(\"we are trying to compare 10 with 11\")\n",
    "else :\n",
    "    print(\"if all the blocks will fail then do this\")"
   ]
  },
  {
   "cell_type": "code",
   "execution_count": null,
   "id": "9de3c022",
   "metadata": {},
   "outputs": [],
   "source": []
  },
  {
   "cell_type": "code",
   "execution_count": null,
   "id": "e559ad27",
   "metadata": {},
   "outputs": [],
   "source": [
    "#13. No Code - outlook blank\n",
    "\n",
    "price = 500\n",
    "if price>500:\n",
    "    print(\"may be i will not to buy a jacket\")\n",
    "    \n",
    "elif price <500 :\n",
    "    print(\"i will be able to buy a jacket\")"
   ]
  },
  {
   "cell_type": "code",
   "execution_count": null,
   "id": "89190314",
   "metadata": {},
   "outputs": [],
   "source": []
  },
  {
   "cell_type": "code",
   "execution_count": null,
   "id": "f07fff23",
   "metadata": {},
   "outputs": [],
   "source": [
    "#14. No Code \n",
    "\n",
    "price = 500\n",
    "if price>500:\n",
    "    print(\"may be i will not to buy a jacket\")\n",
    "    \n",
    "elif price <= 500 :\n",
    "    print(\"i will be able to buy a jacket\")"
   ]
  },
  {
   "cell_type": "code",
   "execution_count": null,
   "id": "50c8e9d9",
   "metadata": {},
   "outputs": [],
   "source": [
    "#15 No code \n",
    "\n",
    "price = 500 \n",
    "if price > 500 :\n",
    "    print(\"may be i will not be able to buy a jacket\")\n",
    "    \n",
    "elif price <= 500:\n",
    "    print(\"i will be able to buy a jacket\")\n",
    "    \n",
    "else price == 500 :\n",
    "    print(\"i don't know\")"
   ]
  },
  {
   "cell_type": "code",
   "execution_count": null,
   "id": "37f58d98",
   "metadata": {},
   "outputs": [],
   "source": [
    "#16 No code\n",
    "\n",
    "price = 500\n",
    "if price > 500:\n",
    "    print(\"may be i will not be able to buy a jacket\")\n",
    "    \n",
    "elif price < 500 :\n",
    "    print(\"i will be able to buy a jacket\")\n",
    "    \n",
    "elif price == 500 :\n",
    "    print(\"for sure i will be able to buy\")\n",
    "    \n",
    "else :\n",
    "    print(\"i don't know\")"
   ]
  },
  {
   "cell_type": "code",
   "execution_count": null,
   "id": "2c17dbdd",
   "metadata": {},
   "outputs": [],
   "source": [
    "#17 No. Code\n",
    "\n",
    "l = [1,2,3,4,5,6]\n",
    "2 in l"
   ]
  },
  {
   "cell_type": "code",
   "execution_count": null,
   "id": "5779d15a",
   "metadata": {},
   "outputs": [],
   "source": [
    "#18 No. Code\n",
    "\n",
    "l = [1,2,3,4,5,6]\n",
    "if 2 in l :\n",
    "    print(\"try to perform a task\")\n",
    "else:\n",
    "    print(\"do not perform this task\")"
   ]
  },
  {
   "cell_type": "code",
   "execution_count": null,
   "id": "0d586235",
   "metadata": {},
   "outputs": [],
   "source": [
    "#19 No. code\n",
    "\n",
    "l = [1,2,3,4,5,6]\n",
    "if 60 in l :\n",
    "    print(\"try to perform a task\")\n",
    "else :\n",
    "    print(\"do not perform this task\")"
   ]
  },
  {
   "cell_type": "code",
   "execution_count": null,
   "id": "47042848",
   "metadata": {},
   "outputs": [],
   "source": [
    "#20 No. code\n",
    "\n",
    "l = [1,2,3,4,5,6]\n",
    "if 1 in l :\n",
    "    print(\"try to do a addition\")\n",
    "elif 2 in l :\n",
    "    print(\"try to do sub\")\n",
    "elif 3 in l :\n",
    "    print(\"try to do mul\")"
   ]
  },
  {
   "cell_type": "code",
   "execution_count": null,
   "id": "a070670c",
   "metadata": {},
   "outputs": [],
   "source": [
    "#21 No. code\n",
    "\n",
    "l = [1,2,3,4,5,6]\n",
    "if 10 in l :\n",
    "    print(\"try to do a addition\")\n",
    "elif 2 in l :\n",
    "    print(\"try to do sub\")\n",
    "elif 3 in l :\n",
    "    print(\"try to do mul\")"
   ]
  },
  {
   "cell_type": "code",
   "execution_count": null,
   "id": "9262443e",
   "metadata": {},
   "outputs": [],
   "source": [
    "#22 No. Code\n",
    "\n",
    "l = [1,2,3,4,5,6]\n",
    "if 10 in l :\n",
    "    print(\"try to do a addition\")\n",
    "elif 2 in l :\n",
    "    print(\"try to do sub\")\n",
    "elif 3 in l :\n",
    "    print(\"try to do mul\")\n",
    "if 4 in l :\n",
    "    print(\"this is new statement\")"
   ]
  },
  {
   "cell_type": "code",
   "execution_count": null,
   "id": "9870133c",
   "metadata": {},
   "outputs": [],
   "source": [
    "                                      # Note \n",
    "    \n",
    "#1 Input() :- Return value into a string (str) format.\n",
    "\n",
    "#2.(Input()) :- Return value only integer(int) format."
   ]
  },
  {
   "cell_type": "code",
   "execution_count": null,
   "id": "e16fcfae",
   "metadata": {},
   "outputs": [],
   "source": [
    "#23 No. code\n",
    "\n",
    "a = 400"
   ]
  },
  {
   "cell_type": "code",
   "execution_count": null,
   "id": "f971b7eb",
   "metadata": {},
   "outputs": [],
   "source": [
    "a = 400\n",
    "b = input()"
   ]
  },
  {
   "cell_type": "code",
   "execution_count": null,
   "id": "a23223a3",
   "metadata": {},
   "outputs": [],
   "source": [
    "b = input()"
   ]
  },
  {
   "cell_type": "code",
   "execution_count": null,
   "id": "a4ce9e4e",
   "metadata": {},
   "outputs": [],
   "source": [
    "b = input()"
   ]
  },
  {
   "cell_type": "code",
   "execution_count": null,
   "id": "88465308",
   "metadata": {},
   "outputs": [],
   "source": [
    "type(b)"
   ]
  },
  {
   "cell_type": "code",
   "execution_count": null,
   "id": "164309f1",
   "metadata": {},
   "outputs": [],
   "source": [
    "b = int(input())"
   ]
  },
  {
   "cell_type": "code",
   "execution_count": null,
   "id": "99913a6b",
   "metadata": {},
   "outputs": [],
   "source": [
    "type(b)"
   ]
  },
  {
   "cell_type": "code",
   "execution_count": null,
   "id": "406ad94c",
   "metadata": {},
   "outputs": [],
   "source": [
    "b = int(input())"
   ]
  },
  {
   "cell_type": "code",
   "execution_count": null,
   "id": "21c3bc91",
   "metadata": {},
   "outputs": [],
   "source": [
    "#25 No. Code \n",
    "\n",
    "# price =int(input())\n",
    "# if price < 500 :\n",
    "#    print(\"i will be able to buy something\")"
   ]
  },
  {
   "cell_type": "code",
   "execution_count": null,
   "id": "07bf5ac6",
   "metadata": {},
   "outputs": [],
   "source": [
    "#26 No code  -  ( Note :- This below block belong to \"if\" statement, I have maintain over here a proper \"indentation\")\n",
    "\n",
    "# Here I have written 2 \"if\" statement but 2nd \"if\" statement i have written with others blocks, if I wil write 2nd \n",
    "\n",
    "#If statement next to same line of 1st \"If\" statement then that will consider as a new \"If\" block.So, now its consider as\n",
    "\n",
    "# single \"If\" statment, because accept \"if\" Block others are in same line.\n",
    "\n",
    "price = int(input())\n",
    "if price < 500 :\n",
    "    print(\"i will be able to buy something\")\n",
    "    if price < 400:\n",
    "        print(\"i will be able to buy a jacket\")\n",
    "    elif price < 300 :\n",
    "        print(\"i will be able to buy a shirt\")\n",
    "    else :\n",
    "        print(\"i wont be able t buy anything\")"
   ]
  },
  {
   "cell_type": "code",
   "execution_count": 1,
   "id": "3f311697",
   "metadata": {},
   "outputs": [
    {
     "name": "stdout",
     "output_type": "stream",
     "text": [
      "grffsdjdjsd\n"
     ]
    },
    {
     "ename": "ValueError",
     "evalue": "invalid literal for int() with base 10: 'grffsdjdjsd'",
     "output_type": "error",
     "traceback": [
      "\u001b[1;31m---------------------------------------------------------------------------\u001b[0m",
      "\u001b[1;31mValueError\u001b[0m                                Traceback (most recent call last)",
      "\u001b[1;32m~\\AppData\\Local\\Temp\\ipykernel_5604\\1442680118.py\u001b[0m in \u001b[0;36m<module>\u001b[1;34m\u001b[0m\n\u001b[0;32m      1\u001b[0m \u001b[1;31m#27 No Code\u001b[0m\u001b[1;33m\u001b[0m\u001b[1;33m\u001b[0m\u001b[0m\n\u001b[0;32m      2\u001b[0m \u001b[1;33m\u001b[0m\u001b[0m\n\u001b[1;32m----> 3\u001b[1;33m \u001b[0mprice\u001b[0m \u001b[1;33m=\u001b[0m \u001b[0mint\u001b[0m\u001b[1;33m(\u001b[0m\u001b[0minput\u001b[0m\u001b[1;33m(\u001b[0m\u001b[1;33m)\u001b[0m\u001b[1;33m)\u001b[0m\u001b[1;33m\u001b[0m\u001b[1;33m\u001b[0m\u001b[0m\n\u001b[0m\u001b[0;32m      4\u001b[0m \u001b[1;32mif\u001b[0m \u001b[0mprice\u001b[0m \u001b[1;33m<\u001b[0m \u001b[1;36m500\u001b[0m \u001b[1;33m:\u001b[0m\u001b[1;33m\u001b[0m\u001b[1;33m\u001b[0m\u001b[0m\n\u001b[0;32m      5\u001b[0m     \u001b[0mprint\u001b[0m\u001b[1;33m(\u001b[0m\u001b[1;34m\"i will be able to buy something\"\u001b[0m\u001b[1;33m)\u001b[0m\u001b[1;33m\u001b[0m\u001b[1;33m\u001b[0m\u001b[0m\n",
      "\u001b[1;31mValueError\u001b[0m: invalid literal for int() with base 10: 'grffsdjdjsd'"
     ]
    }
   ],
   "source": [
    "#27 No Code  ( Excute - grffsdjdjsd - outcome error ) Data should be in the form og Integer\n",
    "\n",
    "price = int(input())\n",
    "if price < 500 :\n",
    "    print(\"i will be able to buy something\")\n",
    "    if price < 400:\n",
    "        print(\"i will be able to buy a jacket\")\n",
    "    elif price < 300 :\n",
    "        print(\"i will be able to buy a shirt\")\n",
    "    else :\n",
    "        print(\"i wont be able t buy anything\")\n",
    "else :\n",
    "    print(\"i wont be able to buy anything with price tag\")"
   ]
  },
  {
   "cell_type": "code",
   "execution_count": 2,
   "id": "cf10f290",
   "metadata": {},
   "outputs": [
    {
     "name": "stdout",
     "output_type": "stream",
     "text": [
      "600\n",
      "i wont be able to buy anything with price tag\n"
     ]
    }
   ],
   "source": [
    "#27 No Code  ( Give value - 600 & exceute it) IF 600 is lesser < 500 then outcome False bydefault execute \"else\" block\n",
    "\n",
    "price = int(input())\n",
    "if price < 500 :\n",
    "    print(\"i will be able to buy something\")\n",
    "    if price < 400:\n",
    "        print(\"i will be able to buy a jacket\")\n",
    "    elif price < 300 :\n",
    "        print(\"i will be able to buy a shirt\")\n",
    "    else :\n",
    "        print(\"i wont be able to buy anything\")\n",
    "else :\n",
    "    print(\"i wont be able to buy anything with price tag\")"
   ]
  },
  {
   "cell_type": "code",
   "execution_count": 3,
   "id": "20b194c6",
   "metadata": {},
   "outputs": [
    {
     "name": "stdout",
     "output_type": "stream",
     "text": [
      "500\n",
      "i wont be able to buy anything with price tag\n"
     ]
    }
   ],
   "source": [
    "#28 No Code  ( Give value - 500 & exceute it) - IF 500 is lesser < 500 then outcome False bydefault execute \"else\" block\n",
    "\n",
    "price = int(input())\n",
    "if price < 500 :\n",
    "    print(\"i will be able to buy something\")\n",
    "    if price < 400:\n",
    "        print(\"i will be able to buy a jacket\")\n",
    "    elif price < 300 :\n",
    "        print(\"i will be able to buy a shirt\")\n",
    "    else :\n",
    "        print(\"i wont be able to buy anything\")\n",
    "else :\n",
    "    print(\"i wont be able to buy anything with price tag\")"
   ]
  },
  {
   "cell_type": "code",
   "execution_count": 4,
   "id": "13fe9eeb",
   "metadata": {},
   "outputs": [
    {
     "name": "stdout",
     "output_type": "stream",
     "text": [
      "490\n",
      "i will be able to buy something\n",
      "i wont be able to buy anything\n"
     ]
    }
   ],
   "source": [
    "#29 No Code - ( Give value - 490 & exceute it) - IF 490 is lesser < 500 then outcome True statement execute \n",
    "# 490 is lesser < 400 then False statement\n",
    "# 490 is lesser < 300 then False statement \n",
    "# 490 will come to \"else\" block bydefault execute it (\"i wont be able to buy anything\") rest below code it will not execute it.\n",
    "\n",
    "price = int(input())\n",
    "if price < 500 :\n",
    "    print(\"i will be able to buy something\")\n",
    "    if price < 400:\n",
    "        print(\"i will be able to buy a jacket\")\n",
    "    elif price < 300 :\n",
    "        print(\"i will be able to buy a shirt\")\n",
    "    else :\n",
    "        print(\"i wont be able to buy anything\")\n",
    "else :\n",
    "    print(\"i wont be able to buy anything with price tag\")"
   ]
  },
  {
   "cell_type": "code",
   "execution_count": 5,
   "id": "bd291af3",
   "metadata": {},
   "outputs": [
    {
     "name": "stdout",
     "output_type": "stream",
     "text": [
      "300\n",
      "i will be able to buy something\n",
      "i will be able to buy a jacket\n"
     ]
    }
   ],
   "source": [
    "#30 No Code - ( Give value - 300 & exceute it) - IF 300 is lesser < 500 then outcome True statement execute \n",
    "# 300 is lesser < 400 then True statement. execute it (\"i will be able to buy a jacket\") rest below code it will not execute it\n",
    "# Because, my very 1st \"if\" block is True statement & exceute it so rest down below it will not count.\n",
    "\n",
    "\n",
    "price = int(input())\n",
    "if price < 500 :\n",
    "    print(\"i will be able to buy something\")\n",
    "    if price < 400:\n",
    "        print(\"i will be able to buy a jacket\")\n",
    "    elif price < 300 :\n",
    "        print(\"i will be able to buy a shirt\")\n",
    "    else :\n",
    "        print(\"i wont be able to buy anything\")\n",
    "else :\n",
    "    print(\"i wont be able to buy anything with price tag\")"
   ]
  },
  {
   "cell_type": "code",
   "execution_count": 7,
   "id": "2ab7f0b5",
   "metadata": {},
   "outputs": [
    {
     "name": "stdout",
     "output_type": "stream",
     "text": [
      "600\n",
      "i wont be able to buy anything with price tag\n",
      "lets try something else\n"
     ]
    }
   ],
   "source": [
    "#31 No Code - ( Give value - 600 & exceute it) - \n",
    "\n",
    "# Note :-\n",
    "\n",
    "# Here I have written Nested Block, \n",
    "\n",
    "#1. We have written \"if\" inside \"if\"\n",
    "\n",
    "#2.we have written \"if\" block inside \"elif\" block\n",
    "\n",
    "#3.We can even write \"if\" block even inside \"else\" block. Last line code we can see\n",
    "\n",
    "# Here 600 is lesser than 500 or 400 or 300 or 200 all statement wrong. So it goes to bydefault printed \"else\" block.\n",
    "\n",
    "# Again code prined because last line code says 600 is (>) greater then 500. So its a true statement.\n",
    "\n",
    "\n",
    "\n",
    "price = int(input())\n",
    "if price < 500 :\n",
    "    print(\"i will be able to buy something\")\n",
    "    if price < 400:\n",
    "        print(\"i will be able to buy a jacket\")\n",
    "    elif price < 300 :\n",
    "        print(\"i will be able to buy a shirt\")\n",
    "        if price < 200 :\n",
    "            print(\"i would like to do something\")\n",
    "    else :\n",
    "        print(\"i wont be able to buy anything\")\n",
    "else :\n",
    "    print(\"i wont be able to buy anything with price tag\")\n",
    "    if price > 500 :\n",
    "        print(\"lets try something else\")"
   ]
  },
  {
   "cell_type": "code",
   "execution_count": 10,
   "id": "defd9f3a",
   "metadata": {},
   "outputs": [
    {
     "name": "stdout",
     "output_type": "stream",
     "text": [
      "300\n",
      "No GRE\n",
      "TOFEEL\n",
      "Try something else\n"
     ]
    }
   ],
   "source": [
    "# 32 No.Code                 # Problem Statement from Sir Side during class Hours. ( Use 300 to Execute code ) \n",
    "\n",
    "\n",
    "marks = int(input())\n",
    "if marks < 600 :\n",
    "    print(\"No GRE\")\n",
    "    if marks < 500 :\n",
    "        print(\"TOFEEL\")\n",
    "        if marks < 400 :\n",
    "            print(\"Try something else\")\n",
    "    else :\n",
    "        print(\"you GOT TOFEEL\")           \n",
    "else :\n",
    "    print(\"you gor GRE congratulations\")"
   ]
  },
  {
   "cell_type": "code",
   "execution_count": 12,
   "id": "16110a1e",
   "metadata": {},
   "outputs": [
    {
     "name": "stdout",
     "output_type": "stream",
     "text": [
      "700\n",
      "you gor GRE congratulations\n"
     ]
    }
   ],
   "source": [
    "#33 No Code          Use (700 to Execute the Code)\n",
    "\n",
    "marks = int(input())\n",
    "if marks < 600 :\n",
    "    print(\"No GRE\")\n",
    "    if marks < 500 :\n",
    "        print(\"TOFEEL\")\n",
    "        if marks < 400 :\n",
    "            print(\"Try something else\")\n",
    "    else :\n",
    "        print(\"you GOT TOFEEL\")           \n",
    "else :\n",
    "    print(\"you gor GRE congratulations\") "
   ]
  },
  {
   "cell_type": "code",
   "execution_count": 13,
   "id": "aa0ff453",
   "metadata": {},
   "outputs": [
    {
     "name": "stdout",
     "output_type": "stream",
     "text": [
      "enter a floating point number-345\n",
      "entered number is a negative number\n"
     ]
    }
   ],
   "source": [
    "# 34 No Code -  (Use (-345 integer is here playing a role of Val. [ Val = (-345) ] ) Negative digit to exceute the code)\n",
    "\n",
    "# Here under \"if condition\" ( if,if & else line is cover combine one) & last line code \"else\" statement is different.\n",
    "\n",
    "# Here this code my 1st line \"if\" consiton is \"False statement\" so rest including will not going to excute & bydefault\n",
    "\n",
    "#last line code execute\n",
    "\n",
    "val = float(input(\"enter a floating point number\"))\n",
    "if val >= 0 :\n",
    "    if val == 0 :\n",
    "        print(\"enterd value is zero\")\n",
    "    else :\n",
    "        print(\"enter value is a positive number\")\n",
    "else :\n",
    "    print(\"entered number is a negative number\")    "
   ]
  },
  {
   "cell_type": "code",
   "execution_count": 14,
   "id": "4185dc01",
   "metadata": {},
   "outputs": [
    {
     "name": "stdout",
     "output_type": "stream",
     "text": [
      "enter a floating point number0\n",
      "enterd value is zero\n"
     ]
    }
   ],
   "source": [
    "#35 No Code  Here i am doing to code with Floating number so. using 0 (zero) to execute the code.\n",
    "\n",
    "# Here my startement  if val >= 0 : is True statement so it will going to execut these line code. Rest below it will not check \n",
    "\n",
    "# or it will not Execute because my above code line already True statement so it provide me an outcome.Incase my above code \n",
    "\n",
    "# wrong then only bydefault it will come to \"else\" block & excute it.\n",
    "\n",
    "\n",
    "val = float(input(\"enter a floating point number\"))\n",
    "if val >= 0 :\n",
    "    if val == 0 :\n",
    "        print(\"enterd value is zero\")\n",
    "    else :\n",
    "        print(\"enter value is a positive number\")\n",
    "else :\n",
    "    print(\"entered number is a negative number\") "
   ]
  },
  {
   "cell_type": "code",
   "execution_count": 15,
   "id": "cb8dcfa5",
   "metadata": {},
   "outputs": [
    {
     "name": "stdout",
     "output_type": "stream",
     "text": [
      "enter a floating point number324\n",
      "enter value is a positive number\n"
     ]
    }
   ],
   "source": [
    "#36 No Code -   using (324 \"Positive \")Number to execute the code.\n",
    "\n",
    "# We alredy used -345 Negative no & 0 (zero) that is fine. Now here I used 324 positive No.\n",
    "\n",
    "# if val >= 0 : This line code is \"True Statement\" 324 is greater then 0, & this line code if val == 0 : ( 324 is == to 0)\n",
    "\n",
    "# Which is wrong or \"False statement\" so it will not fall under \"if Block\". So bydefault it will come to the \"else Block\" &\n",
    "\n",
    "# execute the code & below rest code will not check because my requirement already fulfilled.\n",
    "\n",
    "\n",
    "val = float(input(\"enter a floating point number\"))\n",
    "if val >= 0 :\n",
    "    if val == 0 :\n",
    "        print(\"enterd value is zero\")\n",
    "    else :\n",
    "        print(\"enter value is a positive number\")\n",
    "else :\n",
    "    print(\"entered number is a negative number\") "
   ]
  },
  {
   "cell_type": "code",
   "execution_count": null,
   "id": "bb762403",
   "metadata": {},
   "outputs": [],
   "source": [
    "#37 No Code                          # \"OR Condition\" \n",
    "\n",
    "#( Here I Tried to Execute (if a< 10 : - means 10 is smaller then 10) which is \"False Statement\" try to execute it \n",
    "\n",
    "#as outcome nothig blank means \"False statement\"\n",
    "                          \n",
    "\n",
    "#Let's understand multiple condition works inside \"if\", \"else\" & \"Elif\" kind of a condition.\n",
    "\n",
    "# \"OR Condition\" - \n",
    "\n",
    "# [0,0 = 0]           [F, F = F]\n",
    "# [0,1 = 1]           [F, T = T]\n",
    "# [1,0 = 1]           [T, F = T]\n",
    "# [1,1 = 1]          [T, T = T]\n",
    "  \n",
    "a = 10 \n",
    "if a< 10 :\n",
    "    print(\"try to do soemthing\")"
   ]
  },
  {
   "cell_type": "code",
   "execution_count": 18,
   "id": "e380b149",
   "metadata": {},
   "outputs": [
    {
     "name": "stdout",
     "output_type": "stream",
     "text": [
      "try to do something\n"
     ]
    }
   ],
   "source": [
    "# 38 No Code   ( Here said that a<= 10 means - 10 is lesser then & = equal to 10 ) which is \"True Statement\"\n",
    "\n",
    "a = 10 \n",
    "if a<= 10 :\n",
    "    print(\"try to do something\")"
   ]
  },
  {
   "cell_type": "code",
   "execution_count": 19,
   "id": "fb4d9a31",
   "metadata": {},
   "outputs": [
    {
     "name": "stdout",
     "output_type": "stream",
     "text": [
      "try to do something\n"
     ]
    }
   ],
   "source": [
    "#39 No code- Here its a \"Or condition\" two statement written over if one is not working then use 2nd one & give me the outcome.\n",
    "\n",
    "# a<10 = \"False\" & a == 10 = \"True\"\n",
    "\n",
    "\n",
    "a = 10\n",
    "if a<10 or a == 10 :\n",
    "    print(\"try to do something\")"
   ]
  },
  {
   "cell_type": "code",
   "execution_count": 20,
   "id": "91f5ae8d",
   "metadata": {},
   "outputs": [],
   "source": [
    "#40 No Code- \n",
    "\n",
    "# a<10 or a>10 - Here both the statement is \"False Statement\". region that my outcome is blank.Here \"If - Else Statement\"\n",
    "\n",
    "# It will not give you an Error instead of that it will give nothing blank outcome.\n",
    "\n",
    "a = 10 \n",
    "if a<10 or a>10 :\n",
    "    print(\"try to do something\")"
   ]
  },
  {
   "cell_type": "code",
   "execution_count": null,
   "id": "0ed7382f",
   "metadata": {},
   "outputs": [],
   "source": []
  },
  {
   "cell_type": "code",
   "execution_count": 21,
   "id": "f78d9c33",
   "metadata": {},
   "outputs": [],
   "source": [
    "                                            # \"AND\" Condition\" \n",
    "    \n",
    "# Note -\n",
    "\n",
    "# \"AND Condition\" is a little bit different as compare to \"OR Condition\"\n",
    "\n",
    "# Whenever we are going to introduce \"AND Condition\". So, it will try to check.If both positive then only it will going to\n",
    "\n",
    "# give me an \"TRUE Statement\". If both the condition is like (True, True & 1,1 ) then only it will going to give me an \n",
    "\n",
    "# True Statement.\n",
    "\n",
    "\n",
    "# [0,0 = 0]           [F, F = F]\n",
    "# [0,1 = 0]           [F, T = F]\n",
    "# [1,0 = 0]           [T, F = F]\n",
    "# [1,1 = 1]          [T, T = T]\n"
   ]
  },
  {
   "cell_type": "code",
   "execution_count": 22,
   "id": "7e018e73",
   "metadata": {},
   "outputs": [],
   "source": [
    "#41 No code - \n",
    "\n",
    "# if a<10 and a>10  This line code both statement is \"False Statement\".So my outcome is blank instead of \"Error\"\n",
    "\n",
    "a = 10\n",
    "if a<10 and a>10 :\n",
    "    print(\"try to do something\")"
   ]
  },
  {
   "cell_type": "code",
   "execution_count": null,
   "id": "ccdc7a25",
   "metadata": {},
   "outputs": [],
   "source": []
  },
  {
   "cell_type": "code",
   "execution_count": 23,
   "id": "412e397d",
   "metadata": {},
   "outputs": [],
   "source": [
    "#42 No Code -\n",
    "\n",
    "#a<10 and a == 10 Incase of \"AND condition\" its different, It will not execute because F,T = F.So my outcome is False.\n",
    "\n",
    "# Incase of \"AND condition\" both should be like this T,T = T then only execute, but in \"OR\" condition it will execute.\n",
    "\n",
    "a = 10 \n",
    "if a<10 and a == 10 :\n",
    "    print(\"try to do something\")"
   ]
  },
  {
   "cell_type": "code",
   "execution_count": null,
   "id": "deaa3122",
   "metadata": {},
   "outputs": [],
   "source": []
  },
  {
   "cell_type": "code",
   "execution_count": 25,
   "id": "9f5e8494",
   "metadata": {},
   "outputs": [],
   "source": [
    "#43 No code -\n",
    "\n",
    "# Here this line of Code - a == \"vijay is all small letter & a == \"Vijay\" here V is capital letter.So (T,F = F).Outcome nothing\n",
    "\n",
    "a = \"vijay\"\n",
    "if a == \"vijay\" and a == \"Vijay\" :\n",
    "    print(\"this is vijay\")"
   ]
  },
  {
   "cell_type": "code",
   "execution_count": null,
   "id": "7aafe6bb",
   "metadata": {},
   "outputs": [],
   "source": []
  },
  {
   "cell_type": "code",
   "execution_count": 27,
   "id": "be4336fe",
   "metadata": {},
   "outputs": [
    {
     "name": "stdout",
     "output_type": "stream",
     "text": [
      "this is vijay\n"
     ]
    }
   ],
   "source": [
    "#44 No code -\n",
    "\n",
    "# Here these code one a == \"vijay\" is True & a == \"Vijay\" is False. \"V\" letter is capital but its a \"OR\" condition.\n",
    "\n",
    "#so it will select any one & give me \"True statement\"\n",
    "\n",
    "a = \"vijay\"\n",
    "if a == \"vijay\" or a == \"Vijay\" :\n",
    "    print(\"this is vijay\")"
   ]
  },
  {
   "cell_type": "code",
   "execution_count": 28,
   "id": "355f1356",
   "metadata": {},
   "outputs": [],
   "source": [
    "#45 No code-\n",
    "\n",
    "# Here below I have created 4 Variables & i would like to verify all these 4 variables.\n",
    "\n",
    "# a = 10 == 9  ( False statement)\n",
    "# b = 11 == 11 (True statement) \n",
    "# c = 12 == 12 (True statement)\n",
    "# d = 13 == 13 (True statement)\n",
    "\n",
    "#Inside I made circle how it looks - [ 1.F and T = F , 2.F and T = F, 3.F and T = F]\n",
    "\n",
    "# Here I have written \"AND\" condition everywhere. If my entire statement is give me \"False\" then it will not execute it.\n",
    "\n",
    "a = 10\n",
    "b = 11\n",
    "c = 12 \n",
    "d = 13\n",
    "if a == 9 and b == 11 and c == 12 and d == 13 :\n",
    "    print(\"lets do something\")"
   ]
  },
  {
   "cell_type": "code",
   "execution_count": null,
   "id": "93fedc0e",
   "metadata": {},
   "outputs": [],
   "source": []
  },
  {
   "cell_type": "code",
   "execution_count": 29,
   "id": "2563329d",
   "metadata": {},
   "outputs": [
    {
     "name": "stdout",
     "output_type": "stream",
     "text": [
      "lets do something\n"
     ]
    }
   ],
   "source": [
    "#46 No code-\n",
    "\n",
    "a = 10\n",
    "b = 11\n",
    "c = 12 \n",
    "d = 13\n",
    "if a == 9 or b == 11 and c == 12 and d == 13 :\n",
    "    print(\"lets do something\")"
   ]
  },
  {
   "cell_type": "code",
   "execution_count": 33,
   "id": "fec6468e",
   "metadata": {},
   "outputs": [],
   "source": [
    "d = {\"key1\": \"value\",\"key2\": \"vijay\",\"key3\":\"ineuron\"}"
   ]
  },
  {
   "cell_type": "code",
   "execution_count": 36,
   "id": "a840db41",
   "metadata": {},
   "outputs": [
    {
     "ename": "SyntaxError",
     "evalue": "invalid syntax (1978967773.py, line 1)",
     "output_type": "error",
     "traceback": [
      "\u001b[1;36m  File \u001b[1;32m\"C:\\Users\\Admin\\AppData\\Local\\Temp\\ipykernel_4856\\1978967773.py\"\u001b[1;36m, line \u001b[1;32m1\u001b[0m\n\u001b[1;33m    if d[\"key1\"]\u001b[0m\n\u001b[1;37m                ^\u001b[0m\n\u001b[1;31mSyntaxError\u001b[0m\u001b[1;31m:\u001b[0m invalid syntax\n"
     ]
    }
   ],
   "source": [
    "if d[\"key1\"]"
   ]
  },
  {
   "cell_type": "code",
   "execution_count": 37,
   "id": "22b2c933",
   "metadata": {},
   "outputs": [
    {
     "data": {
      "text/plain": [
       "'value'"
      ]
     },
     "execution_count": 37,
     "metadata": {},
     "output_type": "execute_result"
    }
   ],
   "source": [
    "d[\"key1\"]"
   ]
  },
  {
   "cell_type": "code",
   "execution_count": 42,
   "id": "c1787c6a",
   "metadata": {},
   "outputs": [
    {
     "name": "stdout",
     "output_type": "stream",
     "text": [
      "all the values are verified\n",
      "dict_values(['value', 'vijay', 'iNeuron'])\n"
     ]
    }
   ],
   "source": [
    "#47 No Code -\n",
    "\n",
    "\n",
    "d = {\"key1\":\"value\",\"key2\":\"vijay\",\"key3\":\"iNeuron\"}\n",
    "if d[\"key1\"] == \"value\" and d[\"key2\"] == \"vijay\" and d[\"key3\"] == \"iNeuron\":\n",
    "    print(\"all the values are verified\")\n",
    "print(d.values())"
   ]
  },
  {
   "cell_type": "code",
   "execution_count": 46,
   "id": "27fae5f4",
   "metadata": {},
   "outputs": [],
   "source": [
    "#48 No Code - outcome nothing\n",
    "\n",
    "if d[\"key1\"] == \"value\" and d[\"key2\"] == \"Vijay\" and d[\"key3\"] == \"iNeuron\":\n",
    "    print(\"all the values are verified\")\n",
    "    print(d.values())"
   ]
  },
  {
   "cell_type": "code",
   "execution_count": null,
   "id": "c2f6548b",
   "metadata": {},
   "outputs": [],
   "source": []
  },
  {
   "cell_type": "code",
   "execution_count": 47,
   "id": "269bb481",
   "metadata": {},
   "outputs": [
    {
     "name": "stdout",
     "output_type": "stream",
     "text": [
      "all the values are verified\n"
     ]
    }
   ],
   "source": [
    "#49 No Code -\n",
    "\n",
    "if d[\"key1\"] == \"value\" and d[\"key2\"] == \"Vijay\" and d[\"key3\"] == \"iNeuron\":\n",
    "    print(\"all the values are verified\")\n",
    "    print(d.values())\n",
    "else:\n",
    "    print(\"all the values are verified\")"
   ]
  },
  {
   "cell_type": "code",
   "execution_count": null,
   "id": "c6948bff",
   "metadata": {},
   "outputs": [],
   "source": []
  }
 ],
 "metadata": {
  "kernelspec": {
   "display_name": "Python 3 (ipykernel)",
   "language": "python",
   "name": "python3"
  },
  "language_info": {
   "codemirror_mode": {
    "name": "ipython",
    "version": 3
   },
   "file_extension": ".py",
   "mimetype": "text/x-python",
   "name": "python",
   "nbconvert_exporter": "python",
   "pygments_lexer": "ipython3",
   "version": "3.9.13"
  }
 },
 "nbformat": 4,
 "nbformat_minor": 5
}
