{
 "cells": [
  {
   "cell_type": "markdown",
   "id": "c22357c5",
   "metadata": {},
   "source": [
    "                                     15-MAY-22\n",
    "\n",
    "                             2nd Class - \"Python Basic\""
   ]
  },
  {
   "cell_type": "markdown",
   "id": "75e58edc",
   "metadata": {},
   "source": [
    "                       \"String Variable & String Manipulation\""
   ]
  },
  {
   "cell_type": "markdown",
   "id": "0e92fa68",
   "metadata": {},
   "source": [
    "                             ( V = ineuron )\n",
    "\n",
    "                         1.V = variable &\n",
    "\n",
    "                         2.Ineuron = String"
   ]
  },
  {
   "cell_type": "markdown",
   "id": "f48a06eb",
   "metadata": {},
   "source": [
    "                      \"String is nothing but a combination of character a multiple character\""
   ]
  },
  {
   "cell_type": "markdown",
   "id": "5ed6401f",
   "metadata": {},
   "source": [
    "( i,n,e,u,r,o,n ) - these are nothing but character.Here are going to extract some of the character from given string(str)\n",
    "\n",
    "Note :- Always use square bracket to extract the data.\n",
    "\n",
    "1.Forward Index -01245678 (positive indexes moving forward postitive direction)\n",
    "\n",
    "2.Backward Index- -8-7-6-5-4-3-2-1 (Negative indexes moving backward direction)"
   ]
  },
  {
   "cell_type": "code",
   "execution_count": 21,
   "id": "04744404",
   "metadata": {},
   "outputs": [],
   "source": [
    "v = \"ineuron\" "
   ]
  },
  {
   "cell_type": "code",
   "execution_count": 22,
   "id": "add50208",
   "metadata": {},
   "outputs": [
    {
     "data": {
      "text/plain": [
       "'i'"
      ]
     },
     "execution_count": 22,
     "metadata": {},
     "output_type": "execute_result"
    }
   ],
   "source": [
    "v[0]"
   ]
  },
  {
   "cell_type": "code",
   "execution_count": 23,
   "id": "c0ad6e9e",
   "metadata": {},
   "outputs": [
    {
     "data": {
      "text/plain": [
       "'o'"
      ]
     },
     "execution_count": 23,
     "metadata": {},
     "output_type": "execute_result"
    }
   ],
   "source": [
    "v[5]"
   ]
  },
  {
   "cell_type": "code",
   "execution_count": 24,
   "id": "b02cbb66",
   "metadata": {},
   "outputs": [
    {
     "data": {
      "text/plain": [
       "'n'"
      ]
     },
     "execution_count": 24,
     "metadata": {},
     "output_type": "execute_result"
    }
   ],
   "source": [
    "v[-1]"
   ]
  },
  {
   "cell_type": "code",
   "execution_count": 25,
   "id": "65bc82b6",
   "metadata": {},
   "outputs": [],
   "source": [
    "v1 = \"vijay\""
   ]
  },
  {
   "cell_type": "code",
   "execution_count": 26,
   "id": "d46c13bf",
   "metadata": {},
   "outputs": [
    {
     "data": {
      "text/plain": [
       "'y'"
      ]
     },
     "execution_count": 26,
     "metadata": {},
     "output_type": "execute_result"
    }
   ],
   "source": [
    "v1[-1]"
   ]
  },
  {
   "cell_type": "code",
   "execution_count": 27,
   "id": "6bfef227",
   "metadata": {},
   "outputs": [
    {
     "data": {
      "text/plain": [
       "'a'"
      ]
     },
     "execution_count": 27,
     "metadata": {},
     "output_type": "execute_result"
    }
   ],
   "source": [
    "v1[-2]"
   ]
  },
  {
   "cell_type": "code",
   "execution_count": 28,
   "id": "39e42f77",
   "metadata": {},
   "outputs": [],
   "source": [
    "#single couch & Double couch or quote"
   ]
  },
  {
   "cell_type": "code",
   "execution_count": 29,
   "id": "18237ab8",
   "metadata": {},
   "outputs": [
    {
     "ename": "SyntaxError",
     "evalue": "invalid syntax (3670825243.py, line 1)",
     "output_type": "error",
     "traceback": [
      "\u001b[1;36m  File \u001b[1;32m\"C:\\Users\\Admin\\AppData\\Local\\Temp\\ipykernel_11240\\3670825243.py\"\u001b[1;36m, line \u001b[1;32m1\u001b[0m\n\u001b[1;33m    'this is my very first programming class's''\u001b[0m\n\u001b[1;37m                                             ^\u001b[0m\n\u001b[1;31mSyntaxError\u001b[0m\u001b[1;31m:\u001b[0m invalid syntax\n"
     ]
    }
   ],
   "source": [
    "'this is my very first programming class's''"
   ]
  },
  {
   "cell_type": "code",
   "execution_count": 30,
   "id": "bc6f0e56",
   "metadata": {},
   "outputs": [
    {
     "data": {
      "text/plain": [
       "\"this is my very first programming class's\""
      ]
     },
     "execution_count": 30,
     "metadata": {},
     "output_type": "execute_result"
    }
   ],
   "source": [
    "\"this is my very first programming class's\""
   ]
  },
  {
   "cell_type": "code",
   "execution_count": 31,
   "id": "5a7fe959",
   "metadata": {},
   "outputs": [],
   "source": [
    "v2 = \"this is my very first programming class's\""
   ]
  },
  {
   "cell_type": "code",
   "execution_count": 32,
   "id": "6c1fd756",
   "metadata": {},
   "outputs": [
    {
     "data": {
      "text/plain": [
       "\"this is my very first programming class's\""
      ]
     },
     "execution_count": 32,
     "metadata": {},
     "output_type": "execute_result"
    }
   ],
   "source": [
    "v2"
   ]
  },
  {
   "cell_type": "code",
   "execution_count": 33,
   "id": "d141eacd",
   "metadata": {},
   "outputs": [
    {
     "data": {
      "text/plain": [
       "'m'"
      ]
     },
     "execution_count": 33,
     "metadata": {},
     "output_type": "execute_result"
    }
   ],
   "source": [
    "v2[8]"
   ]
  },
  {
   "cell_type": "markdown",
   "id": "14a13a63",
   "metadata": {},
   "source": [
    "#upper Bound - excluding upper bound- start from 1 go till 5 but excluding upper bound so 5 willnot print as a outcome."
   ]
  },
  {
   "cell_type": "code",
   "execution_count": 34,
   "id": "0b14687b",
   "metadata": {},
   "outputs": [
    {
     "data": {
      "text/plain": [
       "\"this is my very first programming class's\""
      ]
     },
     "execution_count": 34,
     "metadata": {},
     "output_type": "execute_result"
    }
   ],
   "source": [
    "v2"
   ]
  },
  {
   "cell_type": "code",
   "execution_count": 35,
   "id": "98df311b",
   "metadata": {},
   "outputs": [
    {
     "data": {
      "text/plain": [
       "'his '"
      ]
     },
     "execution_count": 35,
     "metadata": {},
     "output_type": "execute_result"
    }
   ],
   "source": [
    "v2[1:5]"
   ]
  },
  {
   "cell_type": "code",
   "execution_count": 36,
   "id": "9496b111",
   "metadata": {},
   "outputs": [
    {
     "data": {
      "text/plain": [
       "'s my very first programm'"
      ]
     },
     "execution_count": 36,
     "metadata": {},
     "output_type": "execute_result"
    }
   ],
   "source": [
    "v2[6:30]"
   ]
  },
  {
   "cell_type": "markdown",
   "id": "2d2b6474",
   "metadata": {},
   "source": [
    "#Here start from 6 go till 30 but but alternative one I am looking over here. I am looking for after 'S' is 1step ahead.\n",
    "\n",
    "#Start from 6 go till 30 & try to take a jump of 2"
   ]
  },
  {
   "cell_type": "code",
   "execution_count": 37,
   "id": "95450b13",
   "metadata": {},
   "outputs": [
    {
     "data": {
      "text/plain": [
       "'sm eyfrtporm'"
      ]
     },
     "execution_count": 37,
     "metadata": {},
     "output_type": "execute_result"
    }
   ],
   "source": [
    "v2[6:30:2]"
   ]
  },
  {
   "cell_type": "code",
   "execution_count": 38,
   "id": "527b867b",
   "metadata": {},
   "outputs": [],
   "source": [
    "v = \"vijaygurung\""
   ]
  },
  {
   "cell_type": "code",
   "execution_count": 39,
   "id": "da7b4cc0",
   "metadata": {},
   "outputs": [
    {
     "data": {
      "text/plain": [
       "'vjyuu'"
      ]
     },
     "execution_count": 39,
     "metadata": {},
     "output_type": "execute_result"
    }
   ],
   "source": [
    "v[0:10:2]"
   ]
  },
  {
   "cell_type": "code",
   "execution_count": 40,
   "id": "c4e0f0ff",
   "metadata": {},
   "outputs": [],
   "source": [
    "#In this code there is one difference, As a outcome we will get entire data complete dataset\n",
    "\n",
    "#Here jump size is equal to 1. By default \"0\" zero can't be jump size because we have to move."
   ]
  },
  {
   "cell_type": "code",
   "execution_count": 41,
   "id": "3068c15e",
   "metadata": {
    "scrolled": true
   },
   "outputs": [
    {
     "data": {
      "text/plain": [
       "'vijaygurung'"
      ]
     },
     "execution_count": 41,
     "metadata": {},
     "output_type": "execute_result"
    }
   ],
   "source": [
    "v[0:11:1]"
   ]
  },
  {
   "cell_type": "code",
   "execution_count": 42,
   "id": "dc92cf7a",
   "metadata": {},
   "outputs": [],
   "source": [
    "#Here we have written start from \"0\" zero & go till 10th positive direction & try to take a jump of -1 towards negative\n",
    "#direction, because of these it create a contradiction over here.Beacuse of contradiction I am not geeting any dataset.So that\n",
    "#is the region we are geeting an as outcome blank nothing.\n",
    "\n",
    "#As a outcome we will receive blank, string so it has forward direction as well as backward direction.\n"
   ]
  },
  {
   "cell_type": "code",
   "execution_count": 43,
   "id": "c900cee9",
   "metadata": {},
   "outputs": [
    {
     "data": {
      "text/plain": [
       "''"
      ]
     },
     "execution_count": 43,
     "metadata": {},
     "output_type": "execute_result"
    }
   ],
   "source": [
    "v[0:10:-1]"
   ]
  },
  {
   "cell_type": "code",
   "execution_count": 44,
   "id": "82f7727f",
   "metadata": {},
   "outputs": [
    {
     "data": {
      "text/plain": [
       "'vijaygurung'"
      ]
     },
     "execution_count": 44,
     "metadata": {},
     "output_type": "execute_result"
    }
   ],
   "source": [
    "v"
   ]
  },
  {
   "cell_type": "code",
   "execution_count": 45,
   "id": "8ef7bcb5",
   "metadata": {},
   "outputs": [
    {
     "data": {
      "text/plain": [
       "'gnurugyaji'"
      ]
     },
     "execution_count": 45,
     "metadata": {},
     "output_type": "execute_result"
    }
   ],
   "source": [
    "v[10:0:-1]"
   ]
  },
  {
   "cell_type": "code",
   "execution_count": 46,
   "id": "7743a97a",
   "metadata": {},
   "outputs": [
    {
     "data": {
      "text/plain": [
       "'guuyj'"
      ]
     },
     "execution_count": 46,
     "metadata": {},
     "output_type": "execute_result"
    }
   ],
   "source": [
    "v[10:0:-2]"
   ]
  },
  {
   "cell_type": "code",
   "execution_count": 47,
   "id": "49cfc6ad",
   "metadata": {},
   "outputs": [],
   "source": [
    "#Here is I have not given starting point.only Given end point.I have also not given jump size.But still I am geeting dataset.\n",
    "\n",
    "#Because in these scenario my jump size will be (+1). Here from \"v\" upto \"r\" only it will print 0 upto -4."
   ]
  },
  {
   "cell_type": "code",
   "execution_count": 48,
   "id": "073a79c3",
   "metadata": {},
   "outputs": [
    {
     "data": {
      "text/plain": [
       "'vijaygur'"
      ]
     },
     "execution_count": 48,
     "metadata": {},
     "output_type": "execute_result"
    }
   ],
   "source": [
    "v[:-3]"
   ]
  },
  {
   "cell_type": "code",
   "execution_count": 49,
   "id": "2fcba277",
   "metadata": {},
   "outputs": [
    {
     "data": {
      "text/plain": [
       "'ng'"
      ]
     },
     "execution_count": 49,
     "metadata": {},
     "output_type": "execute_result"
    }
   ],
   "source": [
    "v[-2:]"
   ]
  },
  {
   "cell_type": "code",
   "execution_count": 50,
   "id": "51e0b006",
   "metadata": {},
   "outputs": [
    {
     "data": {
      "text/plain": [
       "'vijaygurung'"
      ]
     },
     "execution_count": 50,
     "metadata": {},
     "output_type": "execute_result"
    }
   ],
   "source": [
    "v[::1]"
   ]
  },
  {
   "cell_type": "code",
   "execution_count": 51,
   "id": "f88fbe0b",
   "metadata": {},
   "outputs": [
    {
     "data": {
      "text/plain": [
       "'gnurugyajiv'"
      ]
     },
     "execution_count": 51,
     "metadata": {},
     "output_type": "execute_result"
    }
   ],
   "source": [
    "v[::-1]"
   ]
  },
  {
   "cell_type": "code",
   "execution_count": 52,
   "id": "9cd11d9d",
   "metadata": {},
   "outputs": [
    {
     "data": {
      "text/plain": [
       "'vijaygurung'"
      ]
     },
     "execution_count": 52,
     "metadata": {},
     "output_type": "execute_result"
    }
   ],
   "source": [
    "v[0:50:1]"
   ]
  },
  {
   "cell_type": "code",
   "execution_count": 53,
   "id": "92878d14",
   "metadata": {},
   "outputs": [
    {
     "data": {
      "text/plain": [
       "\"this is my very first programming class's\""
      ]
     },
     "execution_count": 53,
     "metadata": {},
     "output_type": "execute_result"
    }
   ],
   "source": [
    "v2"
   ]
  },
  {
   "cell_type": "code",
   "execution_count": 54,
   "id": "c4ad3d55",
   "metadata": {},
   "outputs": [
    {
     "data": {
      "text/plain": [
       "\"s'ssalc gnimmargorp tsrif yrev ym si siht\""
      ]
     },
     "execution_count": 54,
     "metadata": {},
     "output_type": "execute_result"
    }
   ],
   "source": [
    "v2[::-1]"
   ]
  },
  {
   "cell_type": "code",
   "execution_count": 55,
   "id": "5f054762",
   "metadata": {},
   "outputs": [],
   "source": [
    "v3 = \"ineuron\""
   ]
  },
  {
   "cell_type": "code",
   "execution_count": 56,
   "id": "96464f82",
   "metadata": {},
   "outputs": [
    {
     "data": {
      "text/plain": [
       "''"
      ]
     },
     "execution_count": 56,
     "metadata": {},
     "output_type": "execute_result"
    }
   ],
   "source": [
    "v3[-2:-7:1]"
   ]
  },
  {
   "cell_type": "code",
   "execution_count": 57,
   "id": "d0fdead5",
   "metadata": {},
   "outputs": [
    {
     "data": {
      "text/plain": [
       "'ineur'"
      ]
     },
     "execution_count": 57,
     "metadata": {},
     "output_type": "execute_result"
    }
   ],
   "source": [
    "v3[-7:-2:1]"
   ]
  },
  {
   "cell_type": "code",
   "execution_count": 58,
   "id": "5c6e5ead",
   "metadata": {},
   "outputs": [
    {
     "data": {
      "text/plain": [
       "'vijaygurung'"
      ]
     },
     "execution_count": 58,
     "metadata": {},
     "output_type": "execute_result"
    }
   ],
   "source": [
    "v"
   ]
  },
  {
   "cell_type": "code",
   "execution_count": 59,
   "id": "9852b6d3",
   "metadata": {},
   "outputs": [
    {
     "data": {
      "text/plain": [
       "''"
      ]
     },
     "execution_count": 59,
     "metadata": {},
     "output_type": "execute_result"
    }
   ],
   "source": [
    "v[5:0]"
   ]
  },
  {
   "cell_type": "code",
   "execution_count": 60,
   "id": "28af9228",
   "metadata": {},
   "outputs": [
    {
     "data": {
      "text/plain": [
       "''"
      ]
     },
     "execution_count": 60,
     "metadata": {},
     "output_type": "execute_result"
    }
   ],
   "source": [
    "v3[-7:0:1]"
   ]
  },
  {
   "cell_type": "code",
   "execution_count": 61,
   "id": "5d614dcf",
   "metadata": {},
   "outputs": [
    {
     "data": {
      "text/plain": [
       "'vijaygurung'"
      ]
     },
     "execution_count": 61,
     "metadata": {},
     "output_type": "execute_result"
    }
   ],
   "source": [
    "v"
   ]
  },
  {
   "cell_type": "code",
   "execution_count": 62,
   "id": "7a82315b",
   "metadata": {},
   "outputs": [
    {
     "data": {
      "text/plain": [
       "''"
      ]
     },
     "execution_count": 62,
     "metadata": {},
     "output_type": "execute_result"
    }
   ],
   "source": [
    "v[:-1:-1]"
   ]
  },
  {
   "cell_type": "code",
   "execution_count": 63,
   "id": "4ae9db07",
   "metadata": {},
   "outputs": [
    {
     "ename": "TypeError",
     "evalue": "can only concatenate str (not \"int\") to str",
     "output_type": "error",
     "traceback": [
      "\u001b[1;31m---------------------------------------------------------------------------\u001b[0m",
      "\u001b[1;31mTypeError\u001b[0m                                 Traceback (most recent call last)",
      "\u001b[1;32m~\\AppData\\Local\\Temp\\ipykernel_11240\\3069405801.py\u001b[0m in \u001b[0;36m<module>\u001b[1;34m\u001b[0m\n\u001b[1;32m----> 1\u001b[1;33m \u001b[0mv\u001b[0m\u001b[1;33m+\u001b[0m\u001b[1;36m1\u001b[0m\u001b[1;33m\u001b[0m\u001b[1;33m\u001b[0m\u001b[0m\n\u001b[0m",
      "\u001b[1;31mTypeError\u001b[0m: can only concatenate str (not \"int\") to str"
     ]
    }
   ],
   "source": [
    "v+1"
   ]
  },
  {
   "cell_type": "code",
   "execution_count": 64,
   "id": "bc2572de",
   "metadata": {},
   "outputs": [
    {
     "data": {
      "text/plain": [
       "'vijaygurung1'"
      ]
     },
     "execution_count": 64,
     "metadata": {},
     "output_type": "execute_result"
    }
   ],
   "source": [
    "v+\"1\""
   ]
  },
  {
   "cell_type": "code",
   "execution_count": 65,
   "id": "08d4fe83",
   "metadata": {},
   "outputs": [
    {
     "data": {
      "text/plain": [
       "'vijaygurung1'"
      ]
     },
     "execution_count": 65,
     "metadata": {},
     "output_type": "execute_result"
    }
   ],
   "source": [
    "v + str(1)"
   ]
  },
  {
   "cell_type": "code",
   "execution_count": 66,
   "id": "580c495b",
   "metadata": {},
   "outputs": [
    {
     "ename": "TypeError",
     "evalue": "can only concatenate str (not \"int\") to str",
     "output_type": "error",
     "traceback": [
      "\u001b[1;31m---------------------------------------------------------------------------\u001b[0m",
      "\u001b[1;31mTypeError\u001b[0m                                 Traceback (most recent call last)",
      "\u001b[1;32m~\\AppData\\Local\\Temp\\ipykernel_11240\\4033661886.py\u001b[0m in \u001b[0;36m<module>\u001b[1;34m\u001b[0m\n\u001b[1;32m----> 1\u001b[1;33m \u001b[1;34m\"vijay\"\u001b[0m \u001b[1;33m+\u001b[0m \u001b[1;36m4567894258\u001b[0m\u001b[1;33m\u001b[0m\u001b[1;33m\u001b[0m\u001b[0m\n\u001b[0m",
      "\u001b[1;31mTypeError\u001b[0m: can only concatenate str (not \"int\") to str"
     ]
    }
   ],
   "source": [
    "\"vijay\" + 4567894258"
   ]
  },
  {
   "cell_type": "code",
   "execution_count": 67,
   "id": "c14d51af",
   "metadata": {},
   "outputs": [
    {
     "data": {
      "text/plain": [
       "'vijaygurung'"
      ]
     },
     "execution_count": 67,
     "metadata": {},
     "output_type": "execute_result"
    }
   ],
   "source": [
    "v"
   ]
  },
  {
   "cell_type": "code",
   "execution_count": 68,
   "id": "cbb2a494",
   "metadata": {},
   "outputs": [],
   "source": [
    "#Length, Len & Function"
   ]
  },
  {
   "cell_type": "code",
   "execution_count": 69,
   "id": "34e6f479",
   "metadata": {},
   "outputs": [
    {
     "data": {
      "text/plain": [
       "11"
      ]
     },
     "execution_count": 69,
     "metadata": {},
     "output_type": "execute_result"
    }
   ],
   "source": [
    "len(v)"
   ]
  },
  {
   "cell_type": "code",
   "execution_count": 70,
   "id": "58d7ff4c",
   "metadata": {},
   "outputs": [],
   "source": [
    "#Multiplication Operation"
   ]
  },
  {
   "cell_type": "code",
   "execution_count": 71,
   "id": "f6dae7f7",
   "metadata": {},
   "outputs": [
    {
     "data": {
      "text/plain": [
       "'vijaygurungvijaygurung'"
      ]
     },
     "execution_count": 71,
     "metadata": {},
     "output_type": "execute_result"
    }
   ],
   "source": [
    "v*2"
   ]
  },
  {
   "cell_type": "code",
   "execution_count": 72,
   "id": "bc924c3a",
   "metadata": {},
   "outputs": [],
   "source": [
    "#Function"
   ]
  },
  {
   "cell_type": "code",
   "execution_count": 73,
   "id": "ba5c2dcc",
   "metadata": {},
   "outputs": [
    {
     "data": {
      "text/plain": [
       "'vijaygurung'"
      ]
     },
     "execution_count": 73,
     "metadata": {},
     "output_type": "execute_result"
    }
   ],
   "source": [
    "v"
   ]
  },
  {
   "cell_type": "markdown",
   "id": "72a7e4e5",
   "metadata": {},
   "source": [
    "                                      Function\n",
    "    \n",
    "1.Capitalize\n",
    "\n",
    "2.Casefold\n",
    "\n",
    "3.Center\n",
    "\n",
    "4.count\n",
    "\n",
    "5.Encode\n",
    "\n",
    "6.endswitch\n",
    "\n",
    "7.Expantabs\n",
    "\n",
    "8.Find\n",
    "\n",
    "9.Format\n",
    "\n",
    "10.Format_Map\n",
    "\n",
    "11.Index\n",
    "\n",
    "12.isalnum\n",
    "\n",
    "13.isalpha\n",
    "\n",
    "14.isascii\n",
    "\n",
    "15.isdecimal\n",
    "\n",
    "16.isdigit\n",
    "\n",
    "17.isidentifier\n",
    "\n",
    "18.isprintable\n",
    "\n",
    "19.isspace\n",
    "\n",
    "20.istitle\n",
    "\n",
    "21.isupper\n",
    "\n",
    "22.join\n",
    "\n",
    "23.Ljust\n",
    "\n",
    "24.Lower\n",
    "\n",
    "25.Lstrip\n",
    "\n",
    "26.Maketrans\n",
    "\n",
    "27.Partition\n",
    "\n",
    "28.Replace\n",
    "\n",
    "29.Rfind\n",
    "\n",
    "30.Rindex\n",
    "\n",
    "31.Rjust\n",
    "\n",
    "32.Rpartition\n",
    "\n",
    "33.Rsplit \n",
    "\n",
    "34.RStrip\n",
    "\n",
    "35.Split\n",
    "\n",
    "36.SplitLines\n",
    "\n",
    "37.StartSwith\n",
    "\n",
    "38.Strip\n",
    "\n",
    "39.Swapcase\n",
    "\n",
    "40.Title\n",
    "\n",
    "41.Translate\n",
    "\n",
    "42.Upper\n",
    "\n",
    "43.Zfill"
   ]
  },
  {
   "cell_type": "code",
   "execution_count": 74,
   "id": "930a9917",
   "metadata": {},
   "outputs": [
    {
     "data": {
      "text/plain": [
       "'vijaygurung'"
      ]
     },
     "execution_count": 74,
     "metadata": {},
     "output_type": "execute_result"
    }
   ],
   "source": [
    "v"
   ]
  },
  {
   "cell_type": "markdown",
   "id": "2bfed59b",
   "metadata": {},
   "source": [
    "                4.\"Count\" ( If i will call \"g\" it will check inside string how many times \"g\" words is there inside string)"
   ]
  },
  {
   "cell_type": "code",
   "execution_count": 80,
   "id": "fcda1730",
   "metadata": {},
   "outputs": [
    {
     "data": {
      "text/plain": [
       "2"
      ]
     },
     "execution_count": 80,
     "metadata": {},
     "output_type": "execute_result"
    }
   ],
   "source": [
    "v.count(\"g\")"
   ]
  },
  {
   "cell_type": "code",
   "execution_count": 81,
   "id": "e599b912",
   "metadata": {},
   "outputs": [
    {
     "data": {
      "text/plain": [
       "1"
      ]
     },
     "execution_count": 81,
     "metadata": {},
     "output_type": "execute_result"
    }
   ],
   "source": [
    "v.count(\"vi\")"
   ]
  },
  {
   "cell_type": "code",
   "execution_count": 82,
   "id": "af05404c",
   "metadata": {},
   "outputs": [
    {
     "data": {
      "text/plain": [
       "0"
      ]
     },
     "execution_count": 82,
     "metadata": {},
     "output_type": "execute_result"
    }
   ],
   "source": [
    "v.count(\"vir\")"
   ]
  },
  {
   "cell_type": "code",
   "execution_count": 95,
   "id": "6ddf7106",
   "metadata": {},
   "outputs": [],
   "source": [
    "         #35.\"Split\" ( It will going to give an \"List variable\". So whatever will come after \"g\" & inbetween \"g\" & before \"g\"\n",
    "                     #it will going to give that as a seperate data spliting that data from the string(str))"
   ]
  },
  {
   "cell_type": "code",
   "execution_count": 85,
   "id": "97c5ad8e",
   "metadata": {},
   "outputs": [
    {
     "data": {
      "text/plain": [
       "list"
      ]
     },
     "execution_count": 85,
     "metadata": {},
     "output_type": "execute_result"
    }
   ],
   "source": [
    "v.split(\"g\")\n",
    "type(v.split(\"g\"))"
   ]
  },
  {
   "cell_type": "code",
   "execution_count": 87,
   "id": "00a96014",
   "metadata": {},
   "outputs": [
    {
     "data": {
      "text/plain": [
       "['vijay', 'urun', '']"
      ]
     },
     "execution_count": 87,
     "metadata": {},
     "output_type": "execute_result"
    }
   ],
   "source": [
    "v.split(\"g\")"
   ]
  },
  {
   "cell_type": "markdown",
   "id": "520849e2",
   "metadata": {},
   "source": [
    "                                             #Single Couch (' ')"
   ]
  },
  {
   "cell_type": "code",
   "execution_count": 109,
   "id": "a5649ff1",
   "metadata": {},
   "outputs": [
    {
     "ename": "SyntaxError",
     "evalue": "EOL while scanning string literal (2298022151.py, line 1)",
     "output_type": "error",
     "traceback": [
      "\u001b[1;36m  File \u001b[1;32m\"C:\\Users\\Admin\\AppData\\Local\\Temp\\ipykernel_11240\\2298022151.py\"\u001b[1;36m, line \u001b[1;32m1\u001b[0m\n\u001b[1;33m    sw = 'Samsung Group,[3] or simply Samsung (Korean: 삼성; RR: samseong [samsʌŋ]) (stylized as SΛMSUNG), is a South Korean multinational manufacturing conglomerate headquartered in Samsung Town, Seoul, South Korea.[1] It comprises numerous affiliated businesses,[1] most of them united under the Samsung brand, and is the largest South Korean chaebol (business conglomerate). As of 2020, Samsung has the eighth highest global brand value.[4]\u001b[0m\n\u001b[1;37m                                                                                                                                                                                                                                                                                                                                                                                                                                                         ^\u001b[0m\n\u001b[1;31mSyntaxError\u001b[0m\u001b[1;31m:\u001b[0m EOL while scanning string literal\n"
     ]
    }
   ],
   "source": [
    "sw = 'Samsung Group,[3] or simply Samsung (Korean: 삼성; RR: samseong [samsʌŋ]) (stylized as SΛMSUNG), is a South Korean multinational manufacturing conglomerate headquartered in Samsung Town, Seoul, South Korea.[1] It comprises numerous affiliated businesses,[1] most of them united under the Samsung brand, and is the largest South Korean chaebol (business conglomerate). As of 2020, Samsung has the eighth highest global brand value.[4]\n",
    "\n",
    "Samsung was founded by Lee Byung-chul in 1938 as a trading company. Over the next three decades, the group diversified into areas including food processing, textiles, insurance, securities, and retail. Samsung entered the electronics industry in the late 1960s and the construction and shipbuilding industries in the mid-1970s; these areas would drive its subsequent growth. Following Lee's death in 1987, Samsung was separated into five business groups – Samsung Group, Shinsegae Group, CJ Group and Hansol Group, and JoongAng Group.\n",
    "\n",
    "Notable Samsung industrial affiliates include Samsung Electronics (the world's largest information technology company, consumer electronics maker and chipmaker measured by 2017 revenues),[5][6] Samsung Heavy Industries (the world's second largest shipbuilder measured by 2010 revenues),[7] and Samsung Engineering and Samsung C&T Corporation (respectively the world's 13th and 36th largest construction companies).[8] Other notable subsidiaries include Samsung Life Insurance (the world's 14th largest life insurance company),[9] Samsung Everland (operator of Everland Resort, the oldest theme park in South Korea)[10] and Cheil Worldwide (the world's 15th largest advertising agency, as measured by 2012 revenues'"
   ]
  },
  {
   "cell_type": "markdown",
   "id": "cc274b0f",
   "metadata": {},
   "source": [
    "                           #Double Couch (\" \")"
   ]
  },
  {
   "cell_type": "code",
   "execution_count": 110,
   "id": "0a2503b1",
   "metadata": {},
   "outputs": [
    {
     "ename": "SyntaxError",
     "evalue": "EOL while scanning string literal (2685051439.py, line 1)",
     "output_type": "error",
     "traceback": [
      "\u001b[1;36m  File \u001b[1;32m\"C:\\Users\\Admin\\AppData\\Local\\Temp\\ipykernel_11240\\2685051439.py\"\u001b[1;36m, line \u001b[1;32m1\u001b[0m\n\u001b[1;33m    sw = \"Samsung Group,[3] or simply Samsung (Korean: 삼성; RR: samseong [samsʌŋ]) (stylized as SΛMSUNG), is a South Korean multinational manufacturing conglomerate headquartered in Samsung Town, Seoul, South Korea.[1] It comprises numerous affiliated businesses,[1] most of them united under the Samsung brand, and is the largest South Korean chaebol (business conglomerate). As of 2020, Samsung has the eighth highest global brand value.[4]\u001b[0m\n\u001b[1;37m                                                                                                                                                                                                                                                                                                                                                                                                                                                         ^\u001b[0m\n\u001b[1;31mSyntaxError\u001b[0m\u001b[1;31m:\u001b[0m EOL while scanning string literal\n"
     ]
    }
   ],
   "source": [
    "sw = \"Samsung Group,[3] or simply Samsung (Korean: 삼성; RR: samseong [samsʌŋ]) (stylized as SΛMSUNG), is a South Korean multinational manufacturing conglomerate headquartered in Samsung Town, Seoul, South Korea.[1] It comprises numerous affiliated businesses,[1] most of them united under the Samsung brand, and is the largest South Korean chaebol (business conglomerate). As of 2020, Samsung has the eighth highest global brand value.[4]\n",
    "\n",
    "Samsung was founded by Lee Byung-chul in 1938 as a trading company. Over the next three decades, the group diversified into areas including food processing, textiles, insurance, securities, and retail. Samsung entered the electronics industry in the late 1960s and the construction and shipbuilding industries in the mid-1970s; these areas would drive its subsequent growth. Following Lee's death in 1987, Samsung was separated into five business groups – Samsung Group, Shinsegae Group, CJ Group and Hansol Group, and JoongAng Group.\n",
    "\n",
    "Notable Samsung industrial affiliates include Samsung Electronics (the world's largest information technology company, consumer electronics maker and chipmaker measured by 2017 revenues),[5][6] Samsung Heavy Industries (the world's second largest shipbuilder measured by 2010 revenues),[7] and Samsung Engineering and Samsung C&T Corporation (respectively the world's 13th and 36th largest construction companies).[8] Other notable subsidiaries include Samsung Life Insurance (the world's 14th largest life insurance company),[9] Samsung Everland (operator of Everland Resort, the oldest theme park in South Korea)[10] and Cheil Worldwide (the world's 15th largest advertising agency, as measured by 2012 revenues\""
   ]
  },
  {
   "cell_type": "code",
   "execution_count": 111,
   "id": "8930986c",
   "metadata": {},
   "outputs": [],
   "source": [
    "#About Single Couch (''), Double Couch (\" \") & Triple Couch (\"\"\") Couch we will learn Later."
   ]
  },
  {
   "cell_type": "code",
   "execution_count": 112,
   "id": "322ca34e",
   "metadata": {},
   "outputs": [],
   "source": [
    "#Question :-  Here we have all this string(str) we have here entire line. \n",
    "\n",
    "#Try to give me a \"List\" of all the words from the below Paragraph."
   ]
  },
  {
   "cell_type": "code",
   "execution_count": 113,
   "id": "b5794a43",
   "metadata": {},
   "outputs": [],
   "source": [
    "         #35.\"Split\" ( 1.It will going to give an \"List variable\". So whatever will come after \"g\" & inbetween \"g\" & before \"g\"\n",
    "                     #it will going to give that as a seperate data spliting that data from the string(str))\n",
    "        \n",
    "        #Definition :-  Return a list of the words in the string, using separater as the delimeter string.\n",
    "        # IF I will call split operation if i will execute it I will get a list of all the words one by one "
   ]
  },
  {
   "cell_type": "code",
   "execution_count": 114,
   "id": "67edec25",
   "metadata": {},
   "outputs": [],
   "source": [
    "sw = (\"Samsung Group,[3] or simply Samsung (Korean: 삼성; RR: samseong [samsʌŋ]) (stylized as SΛMSUNG), is a South Korean multinational manufacturing conglomerate headquartered in Samsung Town, Seoul, South Korea\")"
   ]
  },
  {
   "cell_type": "code",
   "execution_count": 115,
   "id": "32e865ba",
   "metadata": {},
   "outputs": [
    {
     "data": {
      "text/plain": [
       "['Samsung',\n",
       " 'Group,[3]',\n",
       " 'or',\n",
       " 'simply',\n",
       " 'Samsung',\n",
       " '(Korean:',\n",
       " '삼성;',\n",
       " 'RR:',\n",
       " 'samseong',\n",
       " '[samsʌŋ])',\n",
       " '(stylized',\n",
       " 'as',\n",
       " 'SΛMSUNG),',\n",
       " 'is',\n",
       " 'a',\n",
       " 'South',\n",
       " 'Korean',\n",
       " 'multinational',\n",
       " 'manufacturing',\n",
       " 'conglomerate',\n",
       " 'headquartered',\n",
       " 'in',\n",
       " 'Samsung',\n",
       " 'Town,',\n",
       " 'Seoul,',\n",
       " 'South',\n",
       " 'Korea']"
      ]
     },
     "execution_count": 115,
     "metadata": {},
     "output_type": "execute_result"
    }
   ],
   "source": [
    "sw.split(' ')"
   ]
  },
  {
   "cell_type": "code",
   "execution_count": 117,
   "id": "352f9231",
   "metadata": {},
   "outputs": [],
   "source": [
    "#Note :-  If we use \"single Couch\" , \"Double Couch\" it will not work because when it come to like whole paragraph Big\n",
    "#Line sentences then at that time single & Double couch did not work. We have to use Triple Couch for long paragraph senences."
   ]
  },
  {
   "cell_type": "code",
   "execution_count": 119,
   "id": "ca42f80e",
   "metadata": {},
   "outputs": [],
   "source": [
    "#Note :-\n",
    "\n",
    "#Questions :\n",
    "\n",
    "#1. can you please try to remove all the unnecessary character a data cleaning operation.\n",
    "\n",
    "#2.Can you please give me a count of it.\n",
    "\n",
    "#3.Can you please try to convert every thing into a \"upper Cases\"or \"Lower Cases\".So I will be able to normalized dataset.\n",
    "\n",
    "#4.Can you please try to remove all the character which is not English character or those symbols @,*,%<, >, [1] etc\n",
    "\n",
    "#5. Can you please remove all these Punctuation mark from the dataset. Punctuation marks like Coma (,) Full stop (.)\n",
    "    # all those things available."
   ]
  },
  {
   "cell_type": "markdown",
   "id": "13c59840",
   "metadata": {},
   "source": [
    "                                       #42.\"UPPER CASES\"  \n",
    "    \n",
    "    #( Upper case what it will do it will convert all sentences into a Capital Letter)\n",
    "    \n",
    "    Sw = \"Variable\"\n",
    "    Upper =  \"Function\""
   ]
  },
  {
   "cell_type": "code",
   "execution_count": 125,
   "id": "bd14a604",
   "metadata": {},
   "outputs": [
    {
     "data": {
      "text/plain": [
       "'Samsung Group,[3] or simply Samsung (Korean: 삼성; RR: samseong [samsʌŋ]) (stylized as SΛMSUNG), is a South Korean multinational manufacturing conglomerate headquartered in Samsung Town, Seoul, South Korea'"
      ]
     },
     "execution_count": 125,
     "metadata": {},
     "output_type": "execute_result"
    }
   ],
   "source": [
    "sw"
   ]
  },
  {
   "cell_type": "code",
   "execution_count": 126,
   "id": "1a612818",
   "metadata": {},
   "outputs": [
    {
     "data": {
      "text/plain": [
       "'SAMSUNG GROUP,[3] OR SIMPLY SAMSUNG (KOREAN: 삼성; RR: SAMSEONG [SAMSɅŊ]) (STYLIZED AS SΛMSUNG), IS A SOUTH KOREAN MULTINATIONAL MANUFACTURING CONGLOMERATE HEADQUARTERED IN SAMSUNG TOWN, SEOUL, SOUTH KOREA'"
      ]
     },
     "execution_count": 126,
     "metadata": {},
     "output_type": "execute_result"
    }
   ],
   "source": [
    "sw.upper()"
   ]
  },
  {
   "cell_type": "code",
   "execution_count": 130,
   "id": "cf4a3283",
   "metadata": {},
   "outputs": [],
   "source": [
    "# Upper Cases Reassignment \n",
    "# If i have to write my entire string (str) that case I would like to store this entire converted string in that case\n",
    "#we can do a reassignment. Because here I am going to write sw = equal is used for the reassignment operation.\n",
    "#If I have to assign my orginal variable with a new variable which is a upper case that case I would like to call.\n",
    "\n",
    "                # sw = sw.upper()"
   ]
  },
  {
   "cell_type": "code",
   "execution_count": 131,
   "id": "edf79124",
   "metadata": {},
   "outputs": [],
   "source": [
    "sw = sw.upper()"
   ]
  },
  {
   "cell_type": "code",
   "execution_count": 132,
   "id": "b01c7f83",
   "metadata": {},
   "outputs": [
    {
     "data": {
      "text/plain": [
       "'SAMSUNG GROUP,[3] OR SIMPLY SAMSUNG (KOREAN: 삼성; RR: SAMSEONG [SAMSɅŊ]) (STYLIZED AS SΛMSUNG), IS A SOUTH KOREAN MULTINATIONAL MANUFACTURING CONGLOMERATE HEADQUARTERED IN SAMSUNG TOWN, SEOUL, SOUTH KOREA'"
      ]
     },
     "execution_count": 132,
     "metadata": {},
     "output_type": "execute_result"
    }
   ],
   "source": [
    "sw"
   ]
  },
  {
   "cell_type": "markdown",
   "id": "bca78a2e",
   "metadata": {},
   "source": [
    "                          24.Lower Cases \n",
    "    \n",
    "#If I would like to convert everything into a lower case or Lower sentences there is a function call \"Lower\""
   ]
  },
  {
   "cell_type": "code",
   "execution_count": 136,
   "id": "df788202",
   "metadata": {},
   "outputs": [
    {
     "data": {
      "text/plain": [
       "'samsung group,[3] or simply samsung (korean: 삼성; rr: samseong [samsʌŋ]) (stylized as sλmsung), is a south korean multinational manufacturing conglomerate headquartered in samsung town, seoul, south korea'"
      ]
     },
     "execution_count": 136,
     "metadata": {},
     "output_type": "execute_result"
    }
   ],
   "source": [
    "sw.lower()"
   ]
  },
  {
   "cell_type": "code",
   "execution_count": 148,
   "id": "4bae6522",
   "metadata": {},
   "outputs": [],
   "source": [
    "                              #40.Title \n",
    "    \n",
    "#If we use \"Title Function\" then our 1st letter of sentences will be in capital letter or upper case \n",
    "\n",
    "#Example: \"vijay\" then if we call \"Title Function\" then my very 1st letter \"V\" will be Capital letter & rest letter will be smal\n",
    "\n",
    "#So its convert into # \"Vijay\""
   ]
  },
  {
   "cell_type": "code",
   "execution_count": 149,
   "id": "f47a72a1",
   "metadata": {},
   "outputs": [],
   "source": [
    "v = \"vijay\""
   ]
  },
  {
   "cell_type": "code",
   "execution_count": 150,
   "id": "3e51c16c",
   "metadata": {},
   "outputs": [
    {
     "data": {
      "text/plain": [
       "'Vijay'"
      ]
     },
     "execution_count": 150,
     "metadata": {},
     "output_type": "execute_result"
    }
   ],
   "source": [
    "v.title()"
   ]
  },
  {
   "cell_type": "code",
   "execution_count": 151,
   "id": "a9ea970f",
   "metadata": {},
   "outputs": [],
   "source": [
    "                               #1.Capitalize\n",
    "    \n",
    "#Capital Function - Capital function if we call then we will get same output as it is in \"Title function\".\n",
    "\n",
    "#whenver we call \"Capitalize Function\" my very 1st letter is going to be a upper case or Capital letter."
   ]
  },
  {
   "cell_type": "code",
   "execution_count": 152,
   "id": "bdc1dd5b",
   "metadata": {},
   "outputs": [],
   "source": [
    "v =  \"vijay\""
   ]
  },
  {
   "cell_type": "code",
   "execution_count": 153,
   "id": "4f5feca5",
   "metadata": {},
   "outputs": [
    {
     "data": {
      "text/plain": [
       "'Vijay'"
      ]
     },
     "execution_count": 153,
     "metadata": {},
     "output_type": "execute_result"
    }
   ],
   "source": [
    "v.capitalize()"
   ]
  },
  {
   "cell_type": "code",
   "execution_count": 154,
   "id": "36286e88",
   "metadata": {},
   "outputs": [],
   "source": [
    "# Note :- \"TITLE & CAPITALIZE FUNCTION\" Gives us same outcome as a very 1st letter in Capital letter."
   ]
  },
  {
   "cell_type": "code",
   "execution_count": 156,
   "id": "e15d4069",
   "metadata": {},
   "outputs": [],
   "source": [
    "                                #39.Swapcase\n",
    "    \n",
    "#Swapcase FUnction :- Upper cases or Capital Letters converted into a Lower Cases or Small Letter character / & \n",
    "# Lower Cases or Small Letter Convert into Upper Cases/Capital Letter."
   ]
  },
  {
   "cell_type": "code",
   "execution_count": 157,
   "id": "0f403420",
   "metadata": {},
   "outputs": [],
   "source": [
    "v =  \"Vijay guRunG\""
   ]
  },
  {
   "cell_type": "code",
   "execution_count": 158,
   "id": "b0267c57",
   "metadata": {},
   "outputs": [
    {
     "data": {
      "text/plain": [
       "'vIJAY GUrUNg'"
      ]
     },
     "execution_count": 158,
     "metadata": {},
     "output_type": "execute_result"
    }
   ],
   "source": [
    "v.swapcase()"
   ]
  },
  {
   "cell_type": "code",
   "execution_count": 168,
   "id": "b5623b7c",
   "metadata": {},
   "outputs": [],
   "source": [
    "                                   #22. Reversed & join Function    \n",
    "    \n",
    "# Reversed Function :-  Reversed is going to reversed our entire string (Str) this is what reversed does.\n",
    "\n",
    "#If we run code we did not see the outcome Because, basically Reversed always return an outcome an \"Object\".\n",
    "\n",
    "# of that particular Function. If we want to see outcome of reversed Function then we have to c call \"Join\" Function.\n",
    "# The only thing is that \"Reversed Function\" always return an object.We have done here is \"Join Operation\".\n",
    "\n",
    "#' '.join this line code we have perform a \"blank\" on \"join operation\"."
   ]
  },
  {
   "cell_type": "code",
   "execution_count": 169,
   "id": "e6f821ba",
   "metadata": {},
   "outputs": [],
   "source": [
    "v = \"Vijay guRuNG\""
   ]
  },
  {
   "cell_type": "code",
   "execution_count": 170,
   "id": "9e9c9daf",
   "metadata": {},
   "outputs": [
    {
     "data": {
      "text/plain": [
       "<reversed at 0x221fffd5130>"
      ]
     },
     "execution_count": 170,
     "metadata": {},
     "output_type": "execute_result"
    }
   ],
   "source": [
    "reversed(v)"
   ]
  },
  {
   "cell_type": "code",
   "execution_count": 171,
   "id": "1e1f67c8",
   "metadata": {},
   "outputs": [
    {
     "data": {
      "text/plain": [
       "'G N u R u g   y a j i V'"
      ]
     },
     "execution_count": 171,
     "metadata": {},
     "output_type": "execute_result"
    }
   ],
   "source": [
    "' '.join(reversed(v))"
   ]
  },
  {
   "cell_type": "code",
   "execution_count": 185,
   "id": "0a399662",
   "metadata": {},
   "outputs": [],
   "source": [
    "                               #38.Strip\n",
    "\n",
    "#Strip Functon :- Here in these code, we can see inside string code a space before \"vijay\" string & after space of \"Vijay\".\n",
    "\n",
    "#If you want to remove that space between \"Vijay\" after & before space that case we will use \"Strip Function\".\n",
    "\n",
    "#Strip always try to strip of space which is available before & after string.\n",
    "\n",
    "# \"Strip Function\" - IF we have space on left hand side as well as right hand side. If we want to remove both then, I will \n",
    "#Just call Strip()"
   ]
  },
  {
   "cell_type": "code",
   "execution_count": 186,
   "id": "0197ae02",
   "metadata": {},
   "outputs": [],
   "source": [
    "v =  \"   vijay  \""
   ]
  },
  {
   "cell_type": "code",
   "execution_count": 187,
   "id": "d5a3093d",
   "metadata": {},
   "outputs": [
    {
     "data": {
      "text/plain": [
       "'vijay'"
      ]
     },
     "execution_count": 187,
     "metadata": {},
     "output_type": "execute_result"
    }
   ],
   "source": [
    "v.strip()"
   ]
  },
  {
   "cell_type": "code",
   "execution_count": 188,
   "id": "545be56b",
   "metadata": {},
   "outputs": [],
   "source": [
    "v = \"   Vi  jay  \""
   ]
  },
  {
   "cell_type": "code",
   "execution_count": 189,
   "id": "d2bf0c18",
   "metadata": {},
   "outputs": [
    {
     "data": {
      "text/plain": [
       "'Vi  jay'"
      ]
     },
     "execution_count": 189,
     "metadata": {},
     "output_type": "execute_result"
    }
   ],
   "source": [
    "v.strip()"
   ]
  },
  {
   "cell_type": "code",
   "execution_count": 190,
   "id": "5c3b7f53",
   "metadata": {},
   "outputs": [],
   "source": [
    "                                 #25.Lstrip & 34.RStrip\n",
    "    \n",
    "# 1.LStrip Function :-\n",
    "#If i a going to call \"Lstrip\" Function. we can that from left hand side whatever space we have. It will going to strip that\n",
    "#part. But the right Hand Side space it will be not remove it remain same as it is.\n",
    "#\"LStrip\" only remove space of left side not right side.\n",
    "\n",
    "# 2.Rstrip Fuction :-\n",
    "\n",
    "# If I am going to call a \"Rstrip\" then it will going to remove space from right hand side.It will not going to remove\n",
    "#left Hand side , it will only remove right hand side."
   ]
  },
  {
   "cell_type": "code",
   "execution_count": 191,
   "id": "dd8b8427",
   "metadata": {},
   "outputs": [
    {
     "data": {
      "text/plain": [
       "'   Vi  jay  '"
      ]
     },
     "execution_count": 191,
     "metadata": {},
     "output_type": "execute_result"
    }
   ],
   "source": [
    "v "
   ]
  },
  {
   "cell_type": "code",
   "execution_count": 192,
   "id": "94304e54",
   "metadata": {},
   "outputs": [
    {
     "data": {
      "text/plain": [
       "'Vi  jay  '"
      ]
     },
     "execution_count": 192,
     "metadata": {},
     "output_type": "execute_result"
    }
   ],
   "source": [
    "v.lstrip()"
   ]
  },
  {
   "cell_type": "code",
   "execution_count": 193,
   "id": "4d559d35",
   "metadata": {},
   "outputs": [
    {
     "data": {
      "text/plain": [
       "'   Vi  jay'"
      ]
     },
     "execution_count": 193,
     "metadata": {},
     "output_type": "execute_result"
    }
   ],
   "source": [
    "v.rstrip()"
   ]
  },
  {
   "cell_type": "code",
   "execution_count": 200,
   "id": "d18085a4",
   "metadata": {},
   "outputs": [],
   "source": [
    "                                     # \"Join Function \"\n",
    "    \n",
    "    \n",
    "# If we have to join something, so with the help of [ space (\"  \").join ] & I can try to call\"vijaygurung\" string.\n",
    "# Here a outcome we can see that joined that \"vijaygurung\" & it joined this particular space. (\"  \").With each &\n",
    "#ever Character.\n",
    "\n",
    "# Lets suppose I would like to put some character over here instead of space.This time we put letter \"a\"\n",
    "# As a outcome we can see over here is that, after every character it has joined letter \"a\""
   ]
  },
  {
   "cell_type": "code",
   "execution_count": 201,
   "id": "d4171977",
   "metadata": {},
   "outputs": [],
   "source": [
    "v = \"Vijaygurung\""
   ]
  },
  {
   "cell_type": "code",
   "execution_count": 202,
   "id": "a15f6039",
   "metadata": {},
   "outputs": [
    {
     "data": {
      "text/plain": [
       "'v  i  j  a  y  g  u  r  u  n  g'"
      ]
     },
     "execution_count": 202,
     "metadata": {},
     "output_type": "execute_result"
    }
   ],
   "source": [
    "\"  \".join(\"vijaygurung\")"
   ]
  },
  {
   "cell_type": "code",
   "execution_count": 203,
   "id": "a3273638",
   "metadata": {},
   "outputs": [],
   "source": [
    "v =  \"vijaygurung\""
   ]
  },
  {
   "cell_type": "code",
   "execution_count": 204,
   "id": "fa211736",
   "metadata": {},
   "outputs": [
    {
     "data": {
      "text/plain": [
       "'vaiajaaayagauarauanag'"
      ]
     },
     "execution_count": 204,
     "metadata": {},
     "output_type": "execute_result"
    }
   ],
   "source": [
    "\"a\".join(\"vijaygurung\")"
   ]
  },
  {
   "cell_type": "code",
   "execution_count": 208,
   "id": "6a8d133d",
   "metadata": {},
   "outputs": [],
   "source": [
    "                             #3.Center Function\n",
    "    \n",
    "\n",
    "# If i a having a string v = \"vijay\" If am going call \"center Function\".It take 2 parameter.\n",
    "    \n",
    "# 1. Width\n",
    "# 2. Character\n",
    "\n",
    "#1. Width (z) :-\n",
    "# If I am going to give 20. 20 is nothing but reserved space.\n",
    "#So it will going to reserved 20 space & then I can try to call basically reversed all of these with \"Z\"\n",
    "\n",
    "# It will going to reserved 20 number of space. In center it will try to put particular string \"Vijay\".\n",
    "\n",
    "#2. Charater (# ) :-\n",
    "\n",
    "# Here also whatever data, I am going to place it is going to fill all these space with that particular character."
   ]
  },
  {
   "cell_type": "code",
   "execution_count": 209,
   "id": "73122d90",
   "metadata": {},
   "outputs": [],
   "source": [
    "v =  \"vijay\""
   ]
  },
  {
   "cell_type": "code",
   "execution_count": 210,
   "id": "db3504f7",
   "metadata": {},
   "outputs": [
    {
     "data": {
      "text/plain": [
       "'zzzzzzzvijayzzzzzzzz'"
      ]
     },
     "execution_count": 210,
     "metadata": {},
     "output_type": "execute_result"
    }
   ],
   "source": [
    "v.center(20,\"z\")"
   ]
  },
  {
   "cell_type": "code",
   "execution_count": 211,
   "id": "2260f116",
   "metadata": {},
   "outputs": [],
   "source": [
    "v = \"vijay\""
   ]
  },
  {
   "cell_type": "code",
   "execution_count": 212,
   "id": "ba7c1c9e",
   "metadata": {},
   "outputs": [
    {
     "data": {
      "text/plain": [
       "'#######vijay########'"
      ]
     },
     "execution_count": 212,
     "metadata": {},
     "output_type": "execute_result"
    }
   ],
   "source": [
    "v.center(20, \"#\")"
   ]
  },
  {
   "cell_type": "code",
   "execution_count": null,
   "id": "654cec01",
   "metadata": {},
   "outputs": [],
   "source": []
  },
  {
   "cell_type": "code",
   "execution_count": null,
   "id": "a6529ff4",
   "metadata": {},
   "outputs": [],
   "source": []
  },
  {
   "cell_type": "code",
   "execution_count": 3,
   "id": "3aaa6b78",
   "metadata": {},
   "outputs": [],
   "source": [
    "                       # Is - Function\n",
    "    \n",
    "#With respect to string(str) there is many function which is available in the string (Str)\n",
    "\n",
    "#Here whatever function available with \"IS\" they are going to return  \"True or False\".\n",
    "#So, It is going to check it is available in Upper case or Lower case Alphabetic, numeric all shot of things it will going\n",
    "# to check.\n",
    "\n",
    "# \"IS\" is the function which is going to start with \"IS\" bydefault it is going to return whether \"True or False\".\n",
    "\n",
    "# We can say a boolean Value at any point of the time."
   ]
  },
  {
   "cell_type": "markdown",
   "id": "7cbb6e6f",
   "metadata": {},
   "source": [
    "                            #IS - Function\n",
    "    \n",
    "1.IsAlnum\n",
    "\n",
    "2.IsAlpha\n",
    "\n",
    "3.IsAscii\n",
    "\n",
    "4.IsDecimal\n",
    "\n",
    "5.IsDigit\n",
    "\n",
    "6.IsIdentifier\n",
    "\n",
    "7.IsLower\n",
    "\n",
    "8.IsNumeric\n",
    "\n",
    "9.IsPrintable\n",
    "\n",
    "10.IsSpace\n",
    "\n",
    "11.IsTitle\n",
    "\n",
    "12.IsUpper"
   ]
  },
  {
   "cell_type": "code",
   "execution_count": 5,
   "id": "45915eef",
   "metadata": {},
   "outputs": [],
   "source": [
    "v = \"Vijaygurung\""
   ]
  },
  {
   "cell_type": "code",
   "execution_count": 15,
   "id": "1d93869d",
   "metadata": {},
   "outputs": [],
   "source": [
    "                                     #12.IsUpper\n",
    "                                      \n",
    "#IsUpper - Return \"True\" is the string is an UpperCase string, \"False\" otherwise.\n",
    "\n",
    "# Yes, my string \"Vijaygurung\" is not available in a Uppercase, my all the characters are not available in uppercase.\n",
    "\n",
    "#Only \"V\" starting letter or character is in the upper case not all in Uppercase it will going to give me an \"Fasle\" outcome.\n",
    "\n",
    "\n",
    "# \"GURUNG\" here giving me \"TRUE\" because my all character are available in Capital Letter, not a single character are in \n",
    "# Not a single character are in Lower case in these case, It will give me an \"True\" statement."
   ]
  },
  {
   "cell_type": "code",
   "execution_count": 9,
   "id": "432a7ad4",
   "metadata": {},
   "outputs": [
    {
     "data": {
      "text/plain": [
       "False"
      ]
     },
     "execution_count": 9,
     "metadata": {},
     "output_type": "execute_result"
    }
   ],
   "source": [
    "v.isupper()"
   ]
  },
  {
   "cell_type": "code",
   "execution_count": 12,
   "id": "e9dfcb9d",
   "metadata": {},
   "outputs": [],
   "source": [
    "v1 = \"GURUNG\""
   ]
  },
  {
   "cell_type": "code",
   "execution_count": 13,
   "id": "5f58a37e",
   "metadata": {},
   "outputs": [
    {
     "data": {
      "text/plain": [
       "True"
      ]
     },
     "execution_count": 13,
     "metadata": {},
     "output_type": "execute_result"
    }
   ],
   "source": [
    "v1.isupper()"
   ]
  },
  {
   "cell_type": "code",
   "execution_count": 16,
   "id": "53fbfe96",
   "metadata": {},
   "outputs": [],
   "source": [
    "                                    #7.IsLower\n",
    "    \n",
    "#IsLower case - Return \"True\" is the string is an LowerCase string, \"False\" otherwise.\n",
    "\n",
    "\n",
    "# Yes, my string \"Vijaygurung\" is not available in a Lowercase, my all the characters are not available in Lowercase.\n",
    "\n",
    "#We can see here that \"Vijaygurung\" \"V\" is only Capital others are rest words are in the lowercase, Because of that my \n",
    "# my outcome will be \"False\"\n",
    "\n",
    "#gurung\" here giving me \"TRUE\" because my all character are available in Small Letter, \n",
    "# Not a single character are in Upper case in these case, It will give me an \"True\" statement."
   ]
  },
  {
   "cell_type": "code",
   "execution_count": 17,
   "id": "024200f8",
   "metadata": {},
   "outputs": [],
   "source": [
    "v = \"Vijaygurung\""
   ]
  },
  {
   "cell_type": "code",
   "execution_count": 18,
   "id": "d88845a8",
   "metadata": {},
   "outputs": [
    {
     "data": {
      "text/plain": [
       "False"
      ]
     },
     "execution_count": 18,
     "metadata": {},
     "output_type": "execute_result"
    }
   ],
   "source": [
    "v.islower()"
   ]
  },
  {
   "cell_type": "code",
   "execution_count": 22,
   "id": "dfb5d2f8",
   "metadata": {},
   "outputs": [],
   "source": [
    "v2 = \"gurung\""
   ]
  },
  {
   "cell_type": "code",
   "execution_count": 24,
   "id": "7aadb509",
   "metadata": {},
   "outputs": [
    {
     "data": {
      "text/plain": [
       "True"
      ]
     },
     "execution_count": 24,
     "metadata": {},
     "output_type": "execute_result"
    }
   ],
   "source": [
    "v2.islower()"
   ]
  },
  {
   "cell_type": "code",
   "execution_count": 30,
   "id": "1b290003",
   "metadata": {},
   "outputs": [],
   "source": [
    "                                            #10.IsSpace \n",
    "\n",
    "# ISSpace -  Return \"True\" if the string is a WhiteSpace in the string , \"False\" otherwise.\n",
    "\n",
    "# We have \"V = Vijaygurung\" If I am calling \"V.Isspace()\", it will going to give me an \"False\".\n",
    "\n",
    "#Is this string V.isspace is a space string (str).So, its  not in the space function.\n",
    "\n",
    "# A string is whitespace if all character in the string are whitespace and there is atleast one characters in the string.\n",
    "\n",
    "#Lets create V4 is \"space\" ,if I am going to call it will going to give me \"True\".\n",
    "\n",
    "# Yes, this is string but \"blank\" one, Basically it available with \"complete Space\".\n"
   ]
  },
  {
   "cell_type": "code",
   "execution_count": 26,
   "id": "67a5e999",
   "metadata": {},
   "outputs": [],
   "source": [
    "V =  \"Vijaygurung\""
   ]
  },
  {
   "cell_type": "code",
   "execution_count": 27,
   "id": "06eab515",
   "metadata": {},
   "outputs": [
    {
     "data": {
      "text/plain": [
       "False"
      ]
     },
     "execution_count": 27,
     "metadata": {},
     "output_type": "execute_result"
    }
   ],
   "source": [
    "v.isspace()"
   ]
  },
  {
   "cell_type": "code",
   "execution_count": 28,
   "id": "cc1606ab",
   "metadata": {},
   "outputs": [],
   "source": [
    "v4 = \"   \""
   ]
  },
  {
   "cell_type": "code",
   "execution_count": 29,
   "id": "adfd2f2e",
   "metadata": {},
   "outputs": [
    {
     "data": {
      "text/plain": [
       "True"
      ]
     },
     "execution_count": 29,
     "metadata": {},
     "output_type": "execute_result"
    }
   ],
   "source": [
    "v4.isspace()"
   ]
  },
  {
   "cell_type": "code",
   "execution_count": 45,
   "id": "aee9cafc",
   "metadata": {},
   "outputs": [],
   "source": [
    "                              #5.IsDigit\n",
    "    \n",
    "# ISDigit -  Return \"True\" if the string is a digit, False otherwise.\n",
    "\n",
    "# If my string is \"Vijaygurung\"  if I am calling \"Isdigit\" my outcome will be \"False\".\n",
    "\n",
    "#Because, it is not available in digit form. So, That is why my outcome will be the \"False\"\n",
    "\n",
    "#If I am giving \"integer\" in the digit \"3456\" form instead of \"string\",then my outcome will be \"True\".\n",
    "\n",
    "# If we have both \"Numeric as well as digit \"pqr3456\". My outcome will be 'False', Because it is not on the complete digit\n",
    "#not a complete String.\n",
    "\n",
    "#So, \"Digit\" always going to check for the digit one."
   ]
  },
  {
   "cell_type": "code",
   "execution_count": 39,
   "id": "965e2e29",
   "metadata": {},
   "outputs": [],
   "source": [
    "v = \"Vijaygurung\""
   ]
  },
  {
   "cell_type": "code",
   "execution_count": 40,
   "id": "320972f9",
   "metadata": {},
   "outputs": [
    {
     "data": {
      "text/plain": [
       "False"
      ]
     },
     "execution_count": 40,
     "metadata": {},
     "output_type": "execute_result"
    }
   ],
   "source": [
    "v.isdigit()"
   ]
  },
  {
   "cell_type": "code",
   "execution_count": 41,
   "id": "7cff5ea3",
   "metadata": {},
   "outputs": [],
   "source": [
    "v5 = \"3456\""
   ]
  },
  {
   "cell_type": "code",
   "execution_count": 42,
   "id": "ced62027",
   "metadata": {},
   "outputs": [
    {
     "data": {
      "text/plain": [
       "True"
      ]
     },
     "execution_count": 42,
     "metadata": {},
     "output_type": "execute_result"
    }
   ],
   "source": [
    "v5.isdigit()"
   ]
  },
  {
   "cell_type": "code",
   "execution_count": 43,
   "id": "6695ef5a",
   "metadata": {},
   "outputs": [],
   "source": [
    "v6 =  \"Pqr3456\""
   ]
  },
  {
   "cell_type": "code",
   "execution_count": 44,
   "id": "af4a7c65",
   "metadata": {},
   "outputs": [
    {
     "data": {
      "text/plain": [
       "False"
      ]
     },
     "execution_count": 44,
     "metadata": {},
     "output_type": "execute_result"
    }
   ],
   "source": [
    "v6.isdigit()"
   ]
  },
  {
   "cell_type": "code",
   "execution_count": 53,
   "id": "1e97691a",
   "metadata": {},
   "outputs": [],
   "source": [
    "                                   #1.IsAlnum Function & 2.IsAlpha\n",
    "    \n",
    "#1.IsAlnum / \"AlphaNumeric\" Function  & 2. IsAlpha - \"Alpha\" \n",
    "\n",
    "#If I am going to call Alnum or AlphaNumeric means combination of both \"Alpha & Numeric\".\n",
    "\n",
    "# \"Alpha Numeric\" always check for either \"Alpha or Numeric\".It always apply \"or Condition\".\n",
    "\n",
    "#In these code \" Vijaygurung\" we can see that \"Alpha\" is available but numeric is not available, but anyone is available\n",
    "# then  outcome will be \"True\"\n",
    "\n",
    "#   V7 = \"345345sgfdg\" Here we have \"345345sgfdg\" string we have taken, If I am going to check V7.Isalpha()\n",
    "\n",
    "# My outcome will be \"False\" Because, we are just checking for \"Alpha\" \"V7.Isalpha\" but in our string we have both \n",
    "\n",
    "# Appha as well as Numeric character.That case my outcome will be \"False\""
   ]
  },
  {
   "cell_type": "code",
   "execution_count": 54,
   "id": "58edcb01",
   "metadata": {},
   "outputs": [],
   "source": [
    "v =  \"Vijaygurung\""
   ]
  },
  {
   "cell_type": "code",
   "execution_count": 55,
   "id": "4923dd54",
   "metadata": {},
   "outputs": [
    {
     "data": {
      "text/plain": [
       "True"
      ]
     },
     "execution_count": 55,
     "metadata": {},
     "output_type": "execute_result"
    }
   ],
   "source": [
    "v.isalnum()"
   ]
  },
  {
   "cell_type": "code",
   "execution_count": 56,
   "id": "572f95c1",
   "metadata": {},
   "outputs": [],
   "source": [
    "v = \"Vijaygurung\""
   ]
  },
  {
   "cell_type": "code",
   "execution_count": 57,
   "id": "afe40629",
   "metadata": {},
   "outputs": [
    {
     "data": {
      "text/plain": [
       "True"
      ]
     },
     "execution_count": 57,
     "metadata": {},
     "output_type": "execute_result"
    }
   ],
   "source": [
    "v.isalpha()"
   ]
  },
  {
   "cell_type": "code",
   "execution_count": 58,
   "id": "7af59605",
   "metadata": {},
   "outputs": [],
   "source": [
    "v7 = \"345345sgfdg\""
   ]
  },
  {
   "cell_type": "code",
   "execution_count": 59,
   "id": "ee9e2240",
   "metadata": {},
   "outputs": [
    {
     "data": {
      "text/plain": [
       "False"
      ]
     },
     "execution_count": 59,
     "metadata": {},
     "output_type": "execute_result"
    }
   ],
   "source": [
    "v7.isalpha()"
   ]
  },
  {
   "cell_type": "code",
   "execution_count": 65,
   "id": "ed1b0097",
   "metadata": {},
   "outputs": [],
   "source": [
    "                           #37.StartSwith Function\n",
    "    \n",
    "# Here 1st I am trying to check \"V.Startswith\" with (\"i\"), my outcome is \"False\", my 1st \"Vijaygurung\"  string 1st letter \n",
    "\n",
    "#start with letter \"V\" , but I am calling (\"i\"), so its a \"False\".\n",
    "\n",
    "#Here now I am trying to call with Letter (\"v\") but then also, I am geeting an Error, Because here I am trying to check with \n",
    "\n",
    "#small letter \"v\". But my starting 1st Letter of \"Vijaygurung\" is Capital letter, That is why \"False\" outcome.\n",
    "\n",
    "# In these Time,if we call StartSwith(\"V\").My outome is \"True\", Because my starting 1st Letter of 'Vijaygurung' is\n",
    "\n",
    "#capital letter  \"V\"."
   ]
  },
  {
   "cell_type": "code",
   "execution_count": 66,
   "id": "40905b9c",
   "metadata": {},
   "outputs": [],
   "source": [
    "v = \"Vijaygurung\""
   ]
  },
  {
   "cell_type": "code",
   "execution_count": 67,
   "id": "e0b5def7",
   "metadata": {},
   "outputs": [
    {
     "data": {
      "text/plain": [
       "False"
      ]
     },
     "execution_count": 67,
     "metadata": {},
     "output_type": "execute_result"
    }
   ],
   "source": [
    "v.startswith(\"i\")"
   ]
  },
  {
   "cell_type": "code",
   "execution_count": 68,
   "id": "134ddda5",
   "metadata": {},
   "outputs": [
    {
     "data": {
      "text/plain": [
       "False"
      ]
     },
     "execution_count": 68,
     "metadata": {},
     "output_type": "execute_result"
    }
   ],
   "source": [
    "v.startswith(\"v\")"
   ]
  },
  {
   "cell_type": "code",
   "execution_count": 69,
   "id": "91c96f7b",
   "metadata": {},
   "outputs": [
    {
     "data": {
      "text/plain": [
       "True"
      ]
     },
     "execution_count": 69,
     "metadata": {},
     "output_type": "execute_result"
    }
   ],
   "source": [
    "v.startswith(\"V\")"
   ]
  },
  {
   "cell_type": "code",
   "execution_count": 11,
   "id": "74439e55",
   "metadata": {},
   "outputs": [],
   "source": [
    "                               #6.endswitch Function\n",
    "    \n",
    "# Here I am trying to check \"U\". Here I am trying to check \"endwith\" with \"U\".\n",
    "\n",
    "#If we execute it we get \"False\" because my string Str \"Vijaygurung\" endswith letter \"g\". But I am saying endswith \"u\".\n",
    "#That is the region geeting an Error.\n",
    "\n",
    "# same case this time if I say endswith with \"g\". That is \"True\" so I am geeting \"True\" outcome."
   ]
  },
  {
   "cell_type": "code",
   "execution_count": 12,
   "id": "4e350a9d",
   "metadata": {},
   "outputs": [],
   "source": [
    "v = \"vijaygurung\"  "
   ]
  },
  {
   "cell_type": "code",
   "execution_count": 13,
   "id": "919b8720",
   "metadata": {},
   "outputs": [
    {
     "data": {
      "text/plain": [
       "False"
      ]
     },
     "execution_count": 13,
     "metadata": {},
     "output_type": "execute_result"
    }
   ],
   "source": [
    "v.endswith(\"u\")"
   ]
  },
  {
   "cell_type": "code",
   "execution_count": 14,
   "id": "0a77dcdb",
   "metadata": {},
   "outputs": [
    {
     "data": {
      "text/plain": [
       "True"
      ]
     },
     "execution_count": 14,
     "metadata": {},
     "output_type": "execute_result"
    }
   ],
   "source": [
    "v.endswith(\"g\")"
   ]
  },
  {
   "cell_type": "code",
   "execution_count": 20,
   "id": "5e18b169",
   "metadata": {},
   "outputs": [],
   "source": [
    "                               #\"IS Function\"  - ( \"5.IsDigit\" ) & ( \"8.IsNumeric\")\n",
    "    \n",
    "#ISDigit & IsNumeric Difference between.\n",
    "\n",
    "#IsDigit :- Return \"True\" if the string is a digit string, False otherwise.\n",
    "\n",
    "# -> A string is a digit string if all character in the string are digits & there is at least one digits & there is atleast \n",
    "# one character in the string.\n",
    "\n",
    "#IsDigit :- Retrn \"True\" if the string is a Numeric string, False Otherwise.\n",
    "\n",
    "#-> A string is Numeric if all character in the string are Numeric & there is atleast one character in the string. \n"
   ]
  },
  {
   "cell_type": "code",
   "execution_count": 23,
   "id": "828a5c22",
   "metadata": {},
   "outputs": [],
   "source": [
    "v = \"vijaygurung\""
   ]
  },
  {
   "cell_type": "code",
   "execution_count": 31,
   "id": "db55d5e8",
   "metadata": {},
   "outputs": [
    {
     "data": {
      "text/plain": [
       "False"
      ]
     },
     "execution_count": 31,
     "metadata": {},
     "output_type": "execute_result"
    }
   ],
   "source": [
    "v.isdigit()"
   ]
  },
  {
   "cell_type": "code",
   "execution_count": 33,
   "id": "9f67394e",
   "metadata": {},
   "outputs": [],
   "source": [
    "v = \"453443\""
   ]
  },
  {
   "cell_type": "code",
   "execution_count": 34,
   "id": "71d2994c",
   "metadata": {},
   "outputs": [
    {
     "data": {
      "text/plain": [
       "True"
      ]
     },
     "execution_count": 34,
     "metadata": {},
     "output_type": "execute_result"
    }
   ],
   "source": [
    "v.isdigit()"
   ]
  },
  {
   "cell_type": "code",
   "execution_count": 26,
   "id": "817164f7",
   "metadata": {},
   "outputs": [],
   "source": [
    "v = \"vijaygurung\""
   ]
  },
  {
   "cell_type": "code",
   "execution_count": 27,
   "id": "7f17ca7f",
   "metadata": {},
   "outputs": [
    {
     "data": {
      "text/plain": [
       "False"
      ]
     },
     "execution_count": 27,
     "metadata": {},
     "output_type": "execute_result"
    }
   ],
   "source": [
    "v.isnumeric()"
   ]
  },
  {
   "cell_type": "code",
   "execution_count": 35,
   "id": "77bc1063",
   "metadata": {},
   "outputs": [],
   "source": [
    "v1 = \"fast3456732\""
   ]
  },
  {
   "cell_type": "code",
   "execution_count": 36,
   "id": "804cf286",
   "metadata": {},
   "outputs": [
    {
     "data": {
      "text/plain": [
       "False"
      ]
     },
     "execution_count": 36,
     "metadata": {},
     "output_type": "execute_result"
    }
   ],
   "source": [
    "v1.isnumeric()"
   ]
  },
  {
   "cell_type": "code",
   "execution_count": 37,
   "id": "54a2dd24",
   "metadata": {},
   "outputs": [],
   "source": [
    "v2 = \"345435\""
   ]
  },
  {
   "cell_type": "code",
   "execution_count": 38,
   "id": "fc5a9507",
   "metadata": {},
   "outputs": [
    {
     "data": {
      "text/plain": [
       "True"
      ]
     },
     "execution_count": 38,
     "metadata": {},
     "output_type": "execute_result"
    }
   ],
   "source": [
    "v2.isnumeric()"
   ]
  },
  {
   "cell_type": "code",
   "execution_count": 39,
   "id": "74963108",
   "metadata": {},
   "outputs": [
    {
     "data": {
      "text/plain": [
       "True"
      ]
     },
     "execution_count": 39,
     "metadata": {},
     "output_type": "execute_result"
    }
   ],
   "source": [
    "v.isnumeric()"
   ]
  },
  {
   "cell_type": "code",
   "execution_count": 49,
   "id": "319a0058",
   "metadata": {},
   "outputs": [],
   "source": [
    "                                      # 7.Expantabs Function\n",
    "    \n",
    "#Expandtabs - Here inbetween we have a Tab(t), these is something we have inbetween. & then (\\t Tab) is nothing but it \n",
    "#Equvalent to 3 spaces that we can do help of \"ExpandTabs\""
   ]
  },
  {
   "cell_type": "code",
   "execution_count": 50,
   "id": "c2fcc09b",
   "metadata": {},
   "outputs": [],
   "source": [
    "v = \"vijay\\ gurung \\ ineuron\""
   ]
  },
  {
   "cell_type": "code",
   "execution_count": 51,
   "id": "d84d0342",
   "metadata": {},
   "outputs": [
    {
     "data": {
      "text/plain": [
       "'vijay\\\\ gurung \\\\ ineuron'"
      ]
     },
     "execution_count": 51,
     "metadata": {},
     "output_type": "execute_result"
    }
   ],
   "source": [
    "v.expandtabs()"
   ]
  },
  {
   "cell_type": "code",
   "execution_count": 52,
   "id": "e0c3bde8",
   "metadata": {},
   "outputs": [],
   "source": [
    "v = \"vijay\\tgurung \\tineuron\""
   ]
  },
  {
   "cell_type": "code",
   "execution_count": 53,
   "id": "f61bce66",
   "metadata": {},
   "outputs": [
    {
     "data": {
      "text/plain": [
       "'vijay   gurung  ineuron'"
      ]
     },
     "execution_count": 53,
     "metadata": {},
     "output_type": "execute_result"
    }
   ],
   "source": [
    "v.expandtabs()"
   ]
  },
  {
   "cell_type": "code",
   "execution_count": null,
   "id": "8a19649d",
   "metadata": {},
   "outputs": [],
   "source": []
  },
  {
   "cell_type": "code",
   "execution_count": 30,
   "id": "fa01770b",
   "metadata": {},
   "outputs": [],
   "source": [
    "                          #\"IS Function\"  ( \"3.IsAscii \")\n",
    "    \n",
    "#ISAscii -  ( Return \"True\" if Characters in the string are \"ASCII\", False Otherwise)\n",
    "#ASCII -  characters have code points in the range U+ 0000-U+007F.\n",
    "\n",
    "#Empty string is ASCII too.\n",
    "\n",
    "# Whatever we are trying to type its a \"Ascii\" for better undersatand Google it.\n",
    "\n",
    "#Every single string or character which is available which we can see in our keyboard,that will be going to be a \"ASCII\"."
   ]
  },
  {
   "cell_type": "code",
   "execution_count": null,
   "id": "d2ffce7b",
   "metadata": {},
   "outputs": [],
   "source": []
  }
 ],
 "metadata": {
  "kernelspec": {
   "display_name": "Python 3 (ipykernel)",
   "language": "python",
   "name": "python3"
  },
  "language_info": {
   "codemirror_mode": {
    "name": "ipython",
    "version": 3
   },
   "file_extension": ".py",
   "mimetype": "text/x-python",
   "name": "python",
   "nbconvert_exporter": "python",
   "pygments_lexer": "ipython3",
   "version": "3.9.13"
  }
 },
 "nbformat": 4,
 "nbformat_minor": 5
}
